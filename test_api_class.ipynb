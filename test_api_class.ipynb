{
 "cells": [
  {
   "cell_type": "code",
   "execution_count": 71,
   "metadata": {
    "collapsed": false
   },
   "outputs": [],
   "source": [
    "import pandas as pd"
   ]
  },
  {
   "cell_type": "code",
   "execution_count": 96,
   "metadata": {
    "collapsed": false
   },
   "outputs": [
    {
     "name": "stdout",
     "output_type": "stream",
     "text": [
      "The autoreload extension is already loaded. To reload it, use:\n",
      "  %reload_ext autoreload\n"
     ]
    }
   ],
   "source": [
    "# autoreload custom modules\n",
    "%load_ext autoreload\n",
    "%autoreload 2"
   ]
  },
  {
   "cell_type": "code",
   "execution_count": 97,
   "metadata": {
    "collapsed": false
   },
   "outputs": [],
   "source": [
    "from src.muzik import Muzik\n",
    "from prototyping.data import load_from_api\n",
    "from prototyping.playlist import create_playlist"
   ]
  },
  {
   "cell_type": "code",
   "execution_count": 116,
   "metadata": {
    "collapsed": false
   },
   "outputs": [
    {
     "name": "stdout",
     "output_type": "stream",
     "text": [
      "reading data from cache file cache/ids.pkl\n"
     ]
    }
   ],
   "source": [
    "muzik = Muzik()\n",
    "ids = muzik.ids"
   ]
  },
  {
   "cell_type": "code",
   "execution_count": 117,
   "metadata": {
    "collapsed": false
   },
   "outputs": [],
   "source": [
    "ach = load_from_api()"
   ]
  },
  {
   "cell_type": "code",
   "execution_count": 118,
   "metadata": {
    "collapsed": false
   },
   "outputs": [],
   "source": [
    "# index preprocessing, should be done beforehand\n",
    "# (load_from_api)\n",
    "ach.set_index(['genre', 'sub_genre', 'artist', 'album', 'song'], inplace=True)"
   ]
  },
  {
   "cell_type": "code",
   "execution_count": 120,
   "metadata": {
    "collapsed": false
   },
   "outputs": [
    {
     "name": "stdout",
     "output_type": "stream",
     "text": [
      "artist:\"Meshuggah\" album:\"Nothingg\" track:\"Rational Gaze\" not in spotify\n",
      "artist:\"Meshuggah\" album:\"Nothingg\" track:\"Rational Gaze\" not in spotify\n",
      "2   /20 : 5v5E4aWMODTrPG9JnU7V4w Un été de porcelaine Mort Shuman Les Plus Belles Chansons\n",
      "3   /20 : 17X2d0BXk1sgVvH94JIiOR Qui saura Mike Brant 20eme anniversaire\n"
     ]
    },
    {
     "name": "stdout",
     "output_type": "stream",
     "text": [
      "4   /20 : 6N6uTt8e1vLLgIZK5FgSYh Le paradis blanc - Remasterisé en 2002 Michel Berger Ca ne tient pas debout (Remasterisé en 2002)\n",
      "5   /20 : 4FmiciU3ZmfgABlbCSXcWw La vie en rose Édith Piaf de l'accordeoniste a milord\n"
     ]
    },
    {
     "name": "stdout",
     "output_type": "stream",
     "text": [
      "6   /20 : 1GdtMDRiaF1EnG2LJpELme Une belle histoire Michel Fugain & Le Big Bazar Fais Comme L'Oiseau\n",
      "artist:\"Charles Aznavour\" album:\"\" track:\"Non je n'ai rien oublié\" not in spotify\n"
     ]
    },
    {
     "name": "stdout",
     "output_type": "stream",
     "text": [
      "7   /20 : 6Mty8PpDhHWAMablVKjWnP Non je n'ai rien oublié Charles Aznavour Non, je n'ai rien oublié (Remastered 2014)\n",
      "8   /20 : 6xs2iOXaBfCeVKeyfo2VNE Mon vieux Daniel Guichard Mon Vieux\n",
      "9   /20 : 4W5hu2CaYOFfZQhKyLU01R Quand Je T’Aime Demis Roussos Demis Roussos Greatest Hits - Forever And Ever\n",
      "10  /20 : 7w0uMCTE1TBIGfUYIYYjuL Chanter pour ceux qui sont loin de chez eux - Remasterisé en 2002 Michel Berger Différences (Remasterisé en 2002)\n"
     ]
    },
    {
     "name": "stdout",
     "output_type": "stream",
     "text": [
      "11  /20 : 2KzUa9x2TNzHVsx4sVuHsx Encore et encore - Remastered Francis Cabrel Photos de voyages (Remastered)\n",
      "artist:\"Michel Fugain\" album:\"\" track:\"Je n'aurai pas le temps\" not in spotify\n",
      "12  /20 : 0BHd25s6kOqtmSHye7gtLu Je n'aurai pas le temps Michel Fugain Michel Fugain\n",
      "13  /20 : 6DFzpa0eHyEkvQ2oeewmA2 Déjeuner en paix Stephan Eicher Engelberg\n"
     ]
    },
    {
     "name": "stdout",
     "output_type": "stream",
     "text": [
      "14  /20 : 6IRA4KOVbtiGiTdYoEThJN Ne me quitte pas Jacques Brel La Valse A Mille Temps (Vol.4)\n",
      "15  /20 : 2GSzbxkuiK6bAAndtcwFHo Ces idées-là Bertignac Et Les Visiteurs Bertignac et les visiteurs\n",
      "16  /20 : 3N9Vibj1SwLn4SRtWJVDVO Ma préférence Julien Clerc Jaloux\n",
      "17  /20 : 1cbEUq5Rwe9LLFQyPKxurl Le chasseur Michel Delpech Le Chasseur\n"
     ]
    },
    {
     "name": "stdout",
     "output_type": "stream",
     "text": [
      "artist:\"Michel Berger\" album:\"\" track:\"Quelques mots d'amour\" not in spotify\n",
      "18  /20 : 6qbieXHVuCIIlzi55j6E5i Quelques mots d'amour - Remasterisé en 2002 Michel Berger Beauséjour (Remasterisé en 2002)\n",
      "19  /20 : 05ubSq0kbCEJ9phlfHRC4m Le chanteur Daniel Balavoine Le chanteur\n",
      "artist:\"Joe Dassin\" album:\"\" track:\"Dans les yeux d'Emilie\" not in spotify\n"
     ]
    },
    {
     "name": "stdout",
     "output_type": "stream",
     "text": [
      "20  /20 : 2kkuEKckbZRRZDbpFR5OuN Dans les yeux d'Emilie Joe Dassin Les Femmes De Ma Vie\n"
     ]
    }
   ],
   "source": [
    "muzik.update(ach)"
   ]
  },
  {
   "cell_type": "code",
   "execution_count": 90,
   "metadata": {
    "collapsed": false
   },
   "outputs": [],
   "source": [
    "new_songs = ach.index.to_frame().reset_index(drop=True)\n",
    "old_songs = ids.index.to_frame().reset_index(drop=True)\n",
    "common_songs = new_songs.merge(old_songs, how='inner')"
   ]
  },
  {
   "cell_type": "code",
   "execution_count": 85,
   "metadata": {
    "collapsed": false
   },
   "outputs": [
    {
     "data": {
      "text/plain": [
       "1755"
      ]
     },
     "execution_count": 85,
     "metadata": {},
     "output_type": "execute_result"
    }
   ],
   "source": [
    "len(old_songs)    "
   ]
  },
  {
   "cell_type": "markdown",
   "metadata": {
    "collapsed": false
   },
   "source": [
    "remove old songs that are not anymore in the dataframe"
   ]
  },
  {
   "cell_type": "code",
   "execution_count": 92,
   "metadata": {
    "collapsed": false
   },
   "outputs": [
    {
     "data": {
      "text/plain": [
       "1754"
      ]
     },
     "execution_count": 92,
     "metadata": {},
     "output_type": "execute_result"
    }
   ],
   "source": [
    "depr = pd.concat([common_songs, old_songs]).drop_duplicates(keep=False)\n",
    "to_remove = pd.MultiIndex.from_frame(depr)\n",
    "len(ids.drop(to_remove))"
   ]
  },
  {
   "cell_type": "markdown",
   "metadata": {
    "collapsed": false
   },
   "source": [
    "adds new songs to the id list"
   ]
  },
  {
   "cell_type": "code",
   "execution_count": 93,
   "metadata": {
    "collapsed": false
   },
   "outputs": [],
   "source": [
    "news = pd.concat([common_songs, new_songs]).drop_duplicates(keep=False)"
   ]
  },
  {
   "cell_type": "code",
   "execution_count": 95,
   "metadata": {
    "collapsed": false
   },
   "outputs": [
    {
     "data": {
      "text/html": [
       "<div>\n",
       "<style scoped>\n",
       "    .dataframe tbody tr th:only-of-type {\n",
       "        vertical-align: middle;\n",
       "    }\n",
       "\n",
       "    .dataframe tbody tr th {\n",
       "        vertical-align: top;\n",
       "    }\n",
       "\n",
       "    .dataframe thead th {\n",
       "        text-align: right;\n",
       "    }\n",
       "</style>\n",
       "<table border=\"1\" class=\"dataframe\">\n",
       "  <thead>\n",
       "    <tr style=\"text-align: right;\">\n",
       "      <th></th>\n",
       "      <th>genre</th>\n",
       "      <th>sub_genre</th>\n",
       "      <th>artist</th>\n",
       "      <th>album</th>\n",
       "      <th>song</th>\n",
       "    </tr>\n",
       "  </thead>\n",
       "  <tbody>\n",
       "    <tr>\n",
       "      <th>1748</th>\n",
       "      <td>Metal</td>\n",
       "      <td>Djent</td>\n",
       "      <td>Meshuggah</td>\n",
       "      <td>Nothingg</td>\n",
       "      <td>Rational Gaze</td>\n",
       "    </tr>\n",
       "    <tr>\n",
       "      <th>1755</th>\n",
       "      <td>Chanson</td>\n",
       "      <td></td>\n",
       "      <td>Mort Shuman</td>\n",
       "      <td></td>\n",
       "      <td>Un été de porcelaine</td>\n",
       "    </tr>\n",
       "    <tr>\n",
       "      <th>1756</th>\n",
       "      <td>Chanson</td>\n",
       "      <td></td>\n",
       "      <td>Mike Brant</td>\n",
       "      <td></td>\n",
       "      <td>Qui saura</td>\n",
       "    </tr>\n",
       "    <tr>\n",
       "      <th>1757</th>\n",
       "      <td>Chanson</td>\n",
       "      <td></td>\n",
       "      <td>Michel Berger</td>\n",
       "      <td></td>\n",
       "      <td>Le paradis blanc</td>\n",
       "    </tr>\n",
       "    <tr>\n",
       "      <th>1758</th>\n",
       "      <td>Chanson</td>\n",
       "      <td></td>\n",
       "      <td>Édith Piaf</td>\n",
       "      <td></td>\n",
       "      <td>La vie en rose</td>\n",
       "    </tr>\n",
       "    <tr>\n",
       "      <th>1759</th>\n",
       "      <td>Chanson</td>\n",
       "      <td></td>\n",
       "      <td>Michel Fugain &amp; Le Big Bazar</td>\n",
       "      <td></td>\n",
       "      <td>Une belle histoire</td>\n",
       "    </tr>\n",
       "    <tr>\n",
       "      <th>1760</th>\n",
       "      <td>Chanson</td>\n",
       "      <td></td>\n",
       "      <td>Charles Aznavour</td>\n",
       "      <td></td>\n",
       "      <td>Non je n'ai rien oublié</td>\n",
       "    </tr>\n",
       "    <tr>\n",
       "      <th>1761</th>\n",
       "      <td>Chanson</td>\n",
       "      <td></td>\n",
       "      <td>Daniel Guichard</td>\n",
       "      <td></td>\n",
       "      <td>Mon vieux</td>\n",
       "    </tr>\n",
       "    <tr>\n",
       "      <th>1762</th>\n",
       "      <td>Chanson</td>\n",
       "      <td></td>\n",
       "      <td>Demis Roussos</td>\n",
       "      <td></td>\n",
       "      <td>Quand Je T'aime</td>\n",
       "    </tr>\n",
       "    <tr>\n",
       "      <th>1763</th>\n",
       "      <td>Chanson</td>\n",
       "      <td></td>\n",
       "      <td>Michel Berger</td>\n",
       "      <td></td>\n",
       "      <td>Chanter pour ceux qui sont loin de chez eux</td>\n",
       "    </tr>\n",
       "    <tr>\n",
       "      <th>1764</th>\n",
       "      <td>Chanson</td>\n",
       "      <td></td>\n",
       "      <td>Francis Cabrel</td>\n",
       "      <td></td>\n",
       "      <td>Encore et encore</td>\n",
       "    </tr>\n",
       "    <tr>\n",
       "      <th>1765</th>\n",
       "      <td>Chanson</td>\n",
       "      <td></td>\n",
       "      <td>Michel Fugain</td>\n",
       "      <td></td>\n",
       "      <td>Je n'aurai pas le temps</td>\n",
       "    </tr>\n",
       "  </tbody>\n",
       "</table>\n",
       "</div>"
      ],
      "text/plain": [
       "        genre  ...                                         song\n",
       "1748    Metal  ...                                Rational Gaze\n",
       "1755  Chanson  ...                         Un été de porcelaine\n",
       "1756  Chanson  ...                                    Qui saura\n",
       "1757  Chanson  ...                             Le paradis blanc\n",
       "1758  Chanson  ...                               La vie en rose\n",
       "1759  Chanson  ...                           Une belle histoire\n",
       "1760  Chanson  ...                      Non je n'ai rien oublié\n",
       "1761  Chanson  ...                                    Mon vieux\n",
       "1762  Chanson  ...                              Quand Je T'aime\n",
       "1763  Chanson  ...  Chanter pour ceux qui sont loin de chez eux\n",
       "1764  Chanson  ...                             Encore et encore\n",
       "1765  Chanson  ...                      Je n'aurai pas le temps\n",
       "\n",
       "[12 rows x 5 columns]"
      ]
     },
     "execution_count": 95,
     "metadata": {},
     "output_type": "execute_result"
    }
   ],
   "source": [
    "news"
   ]
  },
  {
   "cell_type": "code",
   "execution_count": null,
   "metadata": {
    "collapsed": false
   },
   "outputs": [],
   "source": []
  }
 ],
 "metadata": {
  "kernelspec": {
   "argv": [
    "/home/gary/.virtualenvs/bot_dj/bin/python",
    "-m",
    "ipykernel_launcher",
    "-f",
    "{connection_file}"
   ],
   "display_name": "bot_dj",
   "env": null,
   "interrupt_mode": "signal",
   "language": "python",
   "metadata": null,
   "name": "bot_dj"
  },
  "name": "test_api_class.ipynb"
 },
 "nbformat": 4,
 "nbformat_minor": 4
}
