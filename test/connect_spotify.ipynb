{
 "cells": [
  {
   "cell_type": "code",
   "execution_count": 1,
   "metadata": {
    "collapsed": false
   },
   "outputs": [],
   "source": [
    "import spotipy\n",
    "from spotipy.oauth2 import SpotifyClientCredentials\n",
    "import json\n",
    "from googleapiclient.discovery import build\n",
    "from google.oauth2.service_account import Credentials"
   ]
  },
  {
   "cell_type": "code",
   "execution_count": 2,
   "metadata": {
    "collapsed": false
   },
   "outputs": [],
   "source": [
    "import pandas as pd"
   ]
  },
  {
   "cell_type": "markdown",
   "metadata": {
    "collapsed": false
   },
   "source": [
    "## Connexion a spotify"
   ]
  },
  {
   "cell_type": "code",
   "execution_count": 3,
   "metadata": {
    "collapsed": false
   },
   "outputs": [],
   "source": [
    "CRED_PATH_SPOTIFY = \"../credentials-spotify.json\""
   ]
  },
  {
   "cell_type": "code",
   "execution_count": 4,
   "metadata": {
    "collapsed": false
   },
   "outputs": [],
   "source": [
    "with open(CRED_PATH_SPOTIFY, 'r') as handle:\n",
    "    data = json.load(handle)"
   ]
  },
  {
   "cell_type": "code",
   "execution_count": 5,
   "metadata": {
    "collapsed": false
   },
   "outputs": [],
   "source": [
    "spotify = spotipy.Spotify(auth_manager=SpotifyClientCredentials(\n",
    "    **data\n",
    "))"
   ]
  },
  {
   "cell_type": "markdown",
   "metadata": {
    "collapsed": false
   },
   "source": [
    "## Connexion a google"
   ]
  },
  {
   "cell_type": "code",
   "execution_count": 6,
   "metadata": {
    "collapsed": false
   },
   "outputs": [],
   "source": [
    "CREDENTIALS_PATH_GOOGLE = \"../credentials-sheets.json\""
   ]
  },
  {
   "cell_type": "code",
   "execution_count": 7,
   "metadata": {
    "collapsed": false
   },
   "outputs": [],
   "source": [
    "SCOPES = ['https://www.googleapis.com/auth/spreadsheets.readonly']\n",
    "SPREADSHEET = '1b75J-QTGrujSgF9r0_JPOKkcXAwzFVwpETOAyVBw8ak'"
   ]
  },
  {
   "cell_type": "code",
   "execution_count": 8,
   "metadata": {
    "collapsed": false
   },
   "outputs": [],
   "source": [
    "# Load service account credentials.\n",
    "__credentials = Credentials.from_service_account_file(CREDENTIALS_PATH_GOOGLE, scopes=SCOPES)\n",
    "\n",
    "# Creates Google Sheets API (v4/latest) service.\n",
    "service = build('sheets', 'v4', credentials=__credentials)"
   ]
  },
  {
   "cell_type": "code",
   "execution_count": 9,
   "metadata": {
    "collapsed": false
   },
   "outputs": [],
   "source": [
    "values = service.spreadsheets().values().get(spreadsheetId=SPREADSHEET, range='Notations').execute()['values']\n",
    "headers = values.pop(0)"
   ]
  },
  {
   "cell_type": "code",
   "execution_count": 10,
   "metadata": {
    "collapsed": false
   },
   "outputs": [],
   "source": [
    "df = pd.DataFrame(values, columns=headers)"
   ]
  },
  {
   "cell_type": "markdown",
   "metadata": {
    "collapsed": false
   },
   "source": [
    "# DF preprocessing"
   ]
  },
  {
   "cell_type": "code",
   "execution_count": 11,
   "metadata": {
    "collapsed": false
   },
   "outputs": [],
   "source": [
    "df.set_index(['genre', 'sub_genre', 'artist', 'album', 'song'], inplace=True)\n",
    "df = df.apply(lambda s: s.str.replace(\",\", \".\"))\n",
    "df = df.apply(lambda s: pd.to_numeric(s, errors='coerce'))"
   ]
  },
  {
   "cell_type": "code",
   "execution_count": 13,
   "metadata": {
    "collapsed": false
   },
   "outputs": [
    {
     "data": {
      "text/html": [
       "<div>\n",
       "<style scoped>\n",
       "    .dataframe tbody tr th:only-of-type {\n",
       "        vertical-align: middle;\n",
       "    }\n",
       "\n",
       "    .dataframe tbody tr th {\n",
       "        vertical-align: top;\n",
       "    }\n",
       "\n",
       "    .dataframe thead th {\n",
       "        text-align: right;\n",
       "    }\n",
       "</style>\n",
       "<table border=\"1\" class=\"dataframe\">\n",
       "  <thead>\n",
       "    <tr style=\"text-align: right;\">\n",
       "      <th></th>\n",
       "      <th>ntQ</th>\n",
       "      <th>ntG</th>\n",
       "      <th>ntV</th>\n",
       "      <th>ntR</th>\n",
       "      <th>ntS</th>\n",
       "      <th>ntGl</th>\n",
       "      <th>ntRx</th>\n",
       "      <th>ntC</th>\n",
       "      <th>ntL</th>\n",
       "    </tr>\n",
       "  </thead>\n",
       "  <tbody>\n",
       "    <tr>\n",
       "      <th>count</th>\n",
       "      <td>1290.000000</td>\n",
       "      <td>569.000000</td>\n",
       "      <td>737.000000</td>\n",
       "      <td>207.000000</td>\n",
       "      <td>251.000000</td>\n",
       "      <td>113.000000</td>\n",
       "      <td>19.000000</td>\n",
       "      <td>20.000000</td>\n",
       "      <td>14.000000</td>\n",
       "    </tr>\n",
       "    <tr>\n",
       "      <th>mean</th>\n",
       "      <td>7.712016</td>\n",
       "      <td>8.116169</td>\n",
       "      <td>7.388738</td>\n",
       "      <td>7.684300</td>\n",
       "      <td>6.653586</td>\n",
       "      <td>7.484513</td>\n",
       "      <td>7.973684</td>\n",
       "      <td>6.435000</td>\n",
       "      <td>6.944286</td>\n",
       "    </tr>\n",
       "    <tr>\n",
       "      <th>std</th>\n",
       "      <td>1.295435</td>\n",
       "      <td>0.828106</td>\n",
       "      <td>1.343893</td>\n",
       "      <td>1.592582</td>\n",
       "      <td>1.945438</td>\n",
       "      <td>1.724949</td>\n",
       "      <td>2.288095</td>\n",
       "      <td>1.805044</td>\n",
       "      <td>3.057809</td>\n",
       "    </tr>\n",
       "    <tr>\n",
       "      <th>min</th>\n",
       "      <td>0.000000</td>\n",
       "      <td>4.000000</td>\n",
       "      <td>0.000000</td>\n",
       "      <td>0.100000</td>\n",
       "      <td>0.050000</td>\n",
       "      <td>0.000000</td>\n",
       "      <td>2.000000</td>\n",
       "      <td>0.000000</td>\n",
       "      <td>0.000000</td>\n",
       "    </tr>\n",
       "    <tr>\n",
       "      <th>25%</th>\n",
       "      <td>7.500000</td>\n",
       "      <td>7.750000</td>\n",
       "      <td>7.000000</td>\n",
       "      <td>7.250000</td>\n",
       "      <td>5.000000</td>\n",
       "      <td>7.000000</td>\n",
       "      <td>7.500000</td>\n",
       "      <td>5.950000</td>\n",
       "      <td>6.847500</td>\n",
       "    </tr>\n",
       "    <tr>\n",
       "      <th>50%</th>\n",
       "      <td>8.000000</td>\n",
       "      <td>8.250000</td>\n",
       "      <td>7.500000</td>\n",
       "      <td>8.000000</td>\n",
       "      <td>7.000000</td>\n",
       "      <td>7.500000</td>\n",
       "      <td>8.000000</td>\n",
       "      <td>6.625000</td>\n",
       "      <td>8.000000</td>\n",
       "    </tr>\n",
       "    <tr>\n",
       "      <th>75%</th>\n",
       "      <td>8.500000</td>\n",
       "      <td>8.750000</td>\n",
       "      <td>8.500000</td>\n",
       "      <td>8.700000</td>\n",
       "      <td>8.000000</td>\n",
       "      <td>8.500000</td>\n",
       "      <td>10.000000</td>\n",
       "      <td>7.375000</td>\n",
       "      <td>8.875000</td>\n",
       "    </tr>\n",
       "    <tr>\n",
       "      <th>max</th>\n",
       "      <td>10.000000</td>\n",
       "      <td>9.500000</td>\n",
       "      <td>9.750000</td>\n",
       "      <td>9.700000</td>\n",
       "      <td>10.000000</td>\n",
       "      <td>10.000000</td>\n",
       "      <td>10.000000</td>\n",
       "      <td>8.750000</td>\n",
       "      <td>9.330000</td>\n",
       "    </tr>\n",
       "  </tbody>\n",
       "</table>\n",
       "</div>"
      ],
      "text/plain": [
       "               ntQ         ntG         ntV         ntR         ntS  \\\n",
       "count  1290.000000  569.000000  737.000000  207.000000  251.000000   \n",
       "mean      7.712016    8.116169    7.388738    7.684300    6.653586   \n",
       "std       1.295435    0.828106    1.343893    1.592582    1.945438   \n",
       "min       0.000000    4.000000    0.000000    0.100000    0.050000   \n",
       "25%       7.500000    7.750000    7.000000    7.250000    5.000000   \n",
       "50%       8.000000    8.250000    7.500000    8.000000    7.000000   \n",
       "75%       8.500000    8.750000    8.500000    8.700000    8.000000   \n",
       "max      10.000000    9.500000    9.750000    9.700000   10.000000   \n",
       "\n",
       "             ntGl       ntRx        ntC        ntL  \n",
       "count  113.000000  19.000000  20.000000  14.000000  \n",
       "mean     7.484513   7.973684   6.435000   6.944286  \n",
       "std      1.724949   2.288095   1.805044   3.057809  \n",
       "min      0.000000   2.000000   0.000000   0.000000  \n",
       "25%      7.000000   7.500000   5.950000   6.847500  \n",
       "50%      7.500000   8.000000   6.625000   8.000000  \n",
       "75%      8.500000  10.000000   7.375000   8.875000  \n",
       "max     10.000000  10.000000   8.750000   9.330000  "
      ]
     },
     "execution_count": 13,
     "metadata": {},
     "output_type": "execute_result"
    }
   ],
   "source": [
    "df.describe()"
   ]
  },
  {
   "cell_type": "code",
   "execution_count": 29,
   "metadata": {
    "collapsed": false
   },
   "outputs": [
    {
     "name": "stdout",
     "output_type": "stream",
     "text": [
      "0   /1499 : 57BDT1bvzeAzl3IXMQU4Ri I Do, I Do, I Do, I Do, I Do ABBA Abba\n"
     ]
    },
    {
     "name": "stdout",
     "output_type": "stream",
     "text": [
      "1   /1499 : 22NN4BS1AlqVbyKIWExgON Mamma Mia ABBA Abba\n"
     ]
    },
    {
     "name": "stdout",
     "output_type": "stream",
     "text": [
      "2   /1499 : 5pMmWfuL0FTGshYt7HVJ8P SOS ABBA ABBA Gold\n"
     ]
    },
    {
     "name": "stdout",
     "output_type": "stream",
     "text": [
      "3   /1499 : 46ou4l4zvrZMada0TgoVH9 Knowing Me, Knowing You ABBA Arrival\n"
     ]
    },
    {
     "name": "stdout",
     "output_type": "stream",
     "text": [
      "4   /1499 : 6cH34Jb2W9s9w8ooRtZZPf Lay All Your Love On Me ABBA Super Trouper\n",
      "5   /1499 : 2nMghZvtLx6DDgTEHEsb4w Super Trouper ABBA Super Trouper\n"
     ]
    },
    {
     "name": "stdout",
     "output_type": "stream",
     "text": [
      "6   /1499 : 2HeTmGTjl870ucJ8mF7zl5 The Winner Takes It All ABBA Super Trouper\n"
     ]
    },
    {
     "name": "stdout",
     "output_type": "stream",
     "text": [
      "7   /1499 : 6vQN2a9QSgWcm74KEZYfDL Take A Chance On Me ABBA The Album\n"
     ]
    },
    {
     "name": "stdout",
     "output_type": "stream",
     "text": [
      "8   /1499 : 0RzhMHIsFMbOGh0oWDvNNK Waterloo ABBA Waterloo\n"
     ]
    },
    {
     "name": "stdout",
     "output_type": "stream",
     "text": [
      "9   /1499 : 7LRMbd3LEoV5wZJvXT1Lwb T.N.T. AC/DC High Voltage\n"
     ]
    },
    {
     "name": "stdout",
     "output_type": "stream",
     "text": [
      "10  /1499 : 2zYzyRzz6pRmhPzyfMEC8s Highway to Hell AC/DC Highway to Hell\n"
     ]
    },
    {
     "name": "stdout",
     "output_type": "stream",
     "text": [
      "11  /1499 : 5jCp5VtcpUlHtW8Dwlx13Y Angry Chair Alice In Chains Dirt\n",
      "12  /1499 : 22Ntyke0ZDZy2Uuf8BEDkU Dam That River Alice In Chains Dirt\n"
     ]
    },
    {
     "name": "stdout",
     "output_type": "stream",
     "text": [
      "13  /1499 : 0wvIGFIgbyz4JNwQhZgTv2 Rooster Alice In Chains Dirt\n"
     ]
    },
    {
     "name": "stdout",
     "output_type": "stream",
     "text": [
      "14  /1499 : 7FRfYOql61DGDp9VPPe2qA Down In A Hole Alice In Chains Dirt\n"
     ]
    },
    {
     "name": "stdout",
     "output_type": "stream",
     "text": [
      "15  /1499 : 1klrDyGRsCBPofZdqdaZp6 God Smack Alice In Chains Dirt\n"
     ]
    },
    {
     "name": "stdout",
     "output_type": "stream",
     "text": [
      "16  /1499 : 0rglK8l5QBSADvao8n4d2N Hate To Feel Alice In Chains Dirt\n"
     ]
    },
    {
     "name": "stdout",
     "output_type": "stream",
     "text": [
      "17  /1499 : 1mvEbRAlocvkJvqZIj3zHu Junkhead Alice In Chains Dirt\n"
     ]
    },
    {
     "name": "stdout",
     "output_type": "stream",
     "text": [
      "18  /1499 : 6a9SPVrXyrlVh5Fh08f8Bz Rain When I Die Alice In Chains Dirt\n"
     ]
    },
    {
     "name": "stdout",
     "output_type": "stream",
     "text": [
      "19  /1499 : 0wvIGFIgbyz4JNwQhZgTv2 Rooster Alice In Chains Dirt\n"
     ]
    },
    {
     "name": "stdout",
     "output_type": "stream",
     "text": [
      "20  /1499 : 5EnYdTx0BWhWM5YDcPkGAa Sickman Alice In Chains Dirt\n"
     ]
    },
    {
     "name": "stdout",
     "output_type": "stream",
     "text": [
      "21  /1499 : 4A065x9kJt955eGVqf813g Them Bones Alice In Chains Dirt\n"
     ]
    },
    {
     "name": "stdout",
     "output_type": "stream",
     "text": [
      "22  /1499 : 2s9xt247uEa0sXmAH0GvL3 Untitled Alice In Chains Dirt\n",
      "23  /1499 : 5sFDReWLrZHLFZFjHsjUTS Would? Alice In Chains Dirt\n"
     ]
    },
    {
     "name": "stdout",
     "output_type": "stream",
     "text": [
      "Alkapote, Vald Plus haut - Les marches de l'empeureur Saison 3 / épisode 1 N/A not in spotify\n"
     ]
    },
    {
     "name": "stdout",
     "output_type": "stream",
     "text": [
      "25  /1499 : 3n69hLUdIsSa1WlRmjMZlW Breezeblocks alt-J An Awesome Wave\n"
     ]
    },
    {
     "name": "stdout",
     "output_type": "stream",
     "text": [
      "26  /1499 : 00FuOCmghgctxEsVVMGKDk Crack the Sky Amon Amarth Berserker\n"
     ]
    },
    {
     "name": "stdout",
     "output_type": "stream",
     "text": [
      "27  /1499 : 1I0bU6iuH1Ct9qikfDZyJV Raven's Flight Amon Amarth Berserker\n"
     ]
    },
    {
     "name": "stdout",
     "output_type": "stream",
     "text": [
      "28  /1499 : 0sObxZUKqdPfgjG9ahSlP5 The Pursuit Of Vikings Amon Amarth Fate of Norns\n"
     ]
    },
    {
     "name": "stdout",
     "output_type": "stream",
     "text": [
      "29  /1499 : 6ypKaenmVXMCXvlkfYOpjf Raise Your Horns Amon Amarth Jomsviking\n"
     ]
    },
    {
     "name": "stdout",
     "output_type": "stream",
     "text": [
      "30  /1499 : 4BQuuaTsdUNCcbReYb6RC7 Masters Of War Amon Amarth The Crusher\n"
     ]
    },
    {
     "name": "stdout",
     "output_type": "stream",
     "text": [
      "31  /1499 : 5u3l2TONYacJgmRPQVaF9y Twilight Of The Thunder God Amon Amarth Twilight Of The Thunder God\n"
     ]
    },
    {
     "name": "stdout",
     "output_type": "stream",
     "text": [
      "32  /1499 : 0Yx5mSfgA9XsyKkpmAxV2A Tin Foiled Andrew Bird Things Are Really Great Here, Sort Of...\n",
      "33  /1499 : 53ErZun9BFfUwC6UNKdxiE Silent Wars Arch Enemy Anthems of Rebellion\n"
     ]
    },
    {
     "name": "stdout",
     "output_type": "stream",
     "text": [
      "34  /1499 : 7uqohNjCnZ8sZd5S2vh5vx First Day in Hell Arch Enemy Will To Power\n"
     ]
    },
    {
     "name": "stdout",
     "output_type": "stream",
     "text": [
      "35  /1499 : 6gXNdxtSOcErDuXagBUdkz Saturnine Arch Enemy Will To Power\n"
     ]
    },
    {
     "name": "stdout",
     "output_type": "stream",
     "text": [
      "36  /1499 : 1Qdnvn4XlmZANCVy3XjrQo Show Me How to Live Audioslave Audioslave\n"
     ]
    },
    {
     "name": "stdout",
     "output_type": "stream",
     "text": [
      "37  /1499 : 0wxR6vA8Je5JHiTsZSmG01 #1 Zero Audioslave Out of Exile\n"
     ]
    },
    {
     "name": "stdout",
     "output_type": "stream",
     "text": [
      "Auracle Bombs Away Ballet City Slickers not in spotify\n"
     ]
    },
    {
     "name": "stdout",
     "output_type": "stream",
     "text": [
      "Auracle City of Penetrating Light City Slickers not in spotify\n"
     ]
    },
    {
     "name": "stdout",
     "output_type": "stream",
     "text": [
      "Auracle Honey City Slickers not in spotify\n"
     ]
    },
    {
     "name": "stdout",
     "output_type": "stream",
     "text": [
      "Auracle Little City Slickers City Slickers not in spotify\n"
     ]
    },
    {
     "name": "stdout",
     "output_type": "stream",
     "text": [
      "Auracle Rotary Andy's Raggedy City Slickers not in spotify\n"
     ]
    },
    {
     "name": "stdout",
     "output_type": "stream",
     "text": [
      "Auracle Sambanana City Slickers not in spotify\n"
     ]
    },
    {
     "name": "stdout",
     "output_type": "stream",
     "text": [
      "Auracle Tied Shoes City Slickers not in spotify\n"
     ]
    },
    {
     "name": "stdout",
     "output_type": "stream",
     "text": [
      "B.J. Thomas Rain Drops Keep Falling on My Head Rain Drops Keep Fallin' On My Head not in spotify\n"
     ]
    },
    {
     "name": "stdout",
     "output_type": "stream",
     "text": [
      "46  /1499 : 6OcE7aXYmNEwF6H7Ei9Y3q King for a Day Battle Beast Bringer of Pain\n"
     ]
    },
    {
     "name": "stdout",
     "output_type": "stream",
     "text": [
      "47  /1499 : 1k1Bqnv2R0uJXQN4u6LKYt Ain't No Sunshine Bill Withers Just As I Am\n"
     ]
    },
    {
     "name": "stdout",
     "output_type": "stream",
     "text": [
      "48  /1499 : 3jUTjCISntIUFL8jnAjzgc Fallen Leaves Billy Talent Billy Talent II\n",
      "49  /1499 : 2RZWdE8kYPlCAcRUYDeuLC Red Flag Billy Talent Billy Talent II\n"
     ]
    },
    {
     "name": "stdout",
     "output_type": "stream",
     "text": [
      "50  /1499 : 4hx9RvP93j79EJLAiyJQoI Wasp / Behind the Wall of Sleep / Bassically / N.I.B. - 2014 Remaster Black Sabbath Black Sabbath (2014 Remaster)\n"
     ]
    },
    {
     "name": "stdout",
     "output_type": "stream",
     "text": [
      "51  /1499 : 1Y373MqadDRtclJNdnUXVc Paranoid - 2016 Remaster Black Sabbath Paranoid (2014 Remaster)\n",
      "52  /1499 : 3xHIzMtYweNIgsOGIbdyXt Evil Woman Black Sabbath The Ultimate Collection\n"
     ]
    },
    {
     "name": "stdout",
     "output_type": "stream",
     "text": [
      "53  /1499 : 2GnVuaoKSkB6Xa07l1BBg8 N.I.B. Black Sabbath The Ultimate Collection\n"
     ]
    },
    {
     "name": "stdout",
     "output_type": "stream",
     "text": [
      "54  /1499 : 01xU5pDHQ8FfVhEi98UFMY A Bit of Finger / Sleeping Village / Warning - 2013 Remaster Black Sabbath Black Sabbath (2014 Remaster)\n"
     ]
    },
    {
     "name": "stdout",
     "output_type": "stream",
     "text": [
      "55  /1499 : 6sjTzevtstOxOMsFsypsEm The Wizard - 2014 Remaster Black Sabbath Black Sabbath (2014 Remaster)\n"
     ]
    },
    {
     "name": "stdout",
     "output_type": "stream",
     "text": [
      "56  /1499 : 01xU5pDHQ8FfVhEi98UFMY A Bit of Finger / Sleeping Village / Warning - 2013 Remaster Black Sabbath Black Sabbath (2014 Remaster)\n"
     ]
    },
    {
     "name": "stdout",
     "output_type": "stream",
     "text": [
      "57  /1499 : 3ex9yveBIpssnR6sVvhwiR Into the Void - 2014 Remaster Black Sabbath Master of Reality (2014 Remaster)\n"
     ]
    },
    {
     "name": "stdout",
     "output_type": "stream",
     "text": [
      "58  /1499 : 7As8h8LJTMIritB8QwSmqr Electric Funeral - 2013 Remaster Black Sabbath Paranoid (2014 Remaster)\n"
     ]
    },
    {
     "name": "stdout",
     "output_type": "stream",
     "text": [
      "59  /1499 : 6EKrBVHDk20hwjYWGPQQlF Jack the Stripper / Fairies Wear Boots - 2013 Remaster Black Sabbath Paranoid (2014 Remaster)\n"
     ]
    },
    {
     "name": "stdout",
     "output_type": "stream",
     "text": [
      "60  /1499 : 72YRB6ar59nBsNdnn0cVdD Hand of Doom - 2013 Remaster Black Sabbath Paranoid (2014 Remaster)\n"
     ]
    },
    {
     "name": "stdout",
     "output_type": "stream",
     "text": [
      "61  /1499 : 3IOQZRcEkplCXg6LofKqE9 Iron Man - 2014 Remaster Black Sabbath Paranoid (2014 Remaster)\n"
     ]
    },
    {
     "name": "stdout",
     "output_type": "stream",
     "text": [
      "62  /1499 : 1Y373MqadDRtclJNdnUXVc Paranoid - 2016 Remaster Black Sabbath Paranoid (2014 Remaster)\n"
     ]
    },
    {
     "name": "stdout",
     "output_type": "stream",
     "text": [
      "63  /1499 : 2VDg6h3Qr3F8UuFVInQxE6 Planet Caravan - 2013 Remaster Black Sabbath Paranoid (2014 Remaster)\n"
     ]
    },
    {
     "name": "stdout",
     "output_type": "stream",
     "text": [
      "64  /1499 : 2b8xbWvck5yh9vvEogsfqa Rat Salad - 2013 Remaster Black Sabbath Paranoid (2014 Remaster)\n"
     ]
    },
    {
     "name": "stdout",
     "output_type": "stream",
     "text": [
      "65  /1499 : 2rd9ETlulTbz6BYZcdvIE1 War Pigs / Luke's Wall - 2014 Remaster Black Sabbath Paranoid (2014 Remaster)\n"
     ]
    },
    {
     "name": "stdout",
     "output_type": "stream",
     "text": [
      "66  /1499 : 2YxXuCdbUpil3P7tRjhW1t Banquet Bloc Party Silent Alarm (U.S. Version)\n"
     ]
    },
    {
     "name": "stdout",
     "output_type": "stream",
     "text": [
      "67  /1499 : 5QTxFnGygVM4jFQiBovmRo (Don't Fear) The Reaper Blue Öyster Cult Agents Of Fortune\n"
     ]
    },
    {
     "name": "stdout",
     "output_type": "stream",
     "text": [
      "68  /1499 : 05jJZgRiXxBfQPNRlrObEI He Was a Steppenwolf Boney M. Nightflight to Venus\n",
      "69  /1499 : 5jkFvD4UJrmdoezzT1FRoP Rasputin Boney M. Nightflight to Venus\n"
     ]
    },
    {
     "name": "stdout",
     "output_type": "stream",
     "text": [
      "70  /1499 : 5seKua5Mu2wMK1qUhdHwt1 Painter Man Boney M. Nightflight to Venus\n"
     ]
    },
    {
     "name": "stdout",
     "output_type": "stream",
     "text": [
      "71  /1499 : 5jkFvD4UJrmdoezzT1FRoP Rasputin Boney M. Nightflight to Venus\n"
     ]
    },
    {
     "name": "stdout",
     "output_type": "stream",
     "text": [
      "72  /1499 : 7oGwQOTkMB9Sk3DIKJLd5F Baby I'm Yours - feat. Irfrane Breakbot By Your Side\n",
      "73  /1499 : 1A7Nb5XVAJzXmbkk5S59t3 Release the Beast Breakwater Splashdown\n"
     ]
    },
    {
     "name": "stdout",
     "output_type": "stream",
     "text": [
      "74  /1499 : 56lhDZNQ5J47aog6mGKeGk Thunder Road Bruce Springsteen Born To Run\n"
     ]
    },
    {
     "name": "stdout",
     "output_type": "stream",
     "text": [
      "75  /1499 : 55h7vJchibLdUkxdlX3fK7 Treasure Bruno Mars Unorthodox Jukebox\n",
      "76  /1499 : 5JWDt4NZNiZQR8iMenaa7h Hand Of Blood Bullet For My Valentine Hand Of Blood\n"
     ]
    },
    {
     "name": "stdout",
     "output_type": "stream",
     "text": [
      "77  /1499 : 0N10gGHn8GYH8QYyFFnqRa The Huntsman Butcher Babies Lilith\n"
     ]
    },
    {
     "name": "stdout",
     "output_type": "stream",
     "text": [
      "78  /1499 : 7ek0WEbzMQ0iKXzxsDJiXg Aight Caballero Laisse Nous Faire Vol. 1\n"
     ]
    },
    {
     "name": "stdout",
     "output_type": "stream",
     "text": [
      "79  /1499 : 7fLtcNaBtwMLx1by2vczEy Baby Funk Caballero Laisse Nous Faire Vol. 1\n",
      "80  /1499 : 2Jq2YNqNU4zdlNIISW6BjB Bout Du Tunnel (feat. Jcr) Caballero Laisse Nous Faire Vol. 1\n"
     ]
    },
    {
     "name": "stdout",
     "output_type": "stream",
     "text": [
      "81  /1499 : 1QXNFb6gNLIvgUhJWJZsLu C'est Aussi Simple Que ça Caballero Laisse Nous Faire Vol. 1\n"
     ]
    },
    {
     "name": "stdout",
     "output_type": "stream",
     "text": [
      "82  /1499 : 5YCgn8qR7z0Oi2TeFvCB6L Chiens Des Villes Caballero Laisse Nous Faire Vol. 1\n",
      "83  /1499 : 1FH4bwLfjNMbgSC5UMQyyQ Discret Mais Efficace (feat. Seven & Sima) Caballero Laisse Nous Faire Vol. 1\n"
     ]
    },
    {
     "name": "stdout",
     "output_type": "stream",
     "text": [
      "84  /1499 : 5gPzd9ClcSNOD1pXzZkPd6 Flottements (feat. Tonino) Caballero Laisse Nous Faire Vol. 1\n"
     ]
    },
    {
     "name": "stdout",
     "output_type": "stream",
     "text": [
      "85  /1499 : 2ZxW0Z5ua6h89t8ZprzgAo Foume ça Caballero Laisse Nous Faire Vol. 1\n",
      "86  /1499 : 3r1sjHzXbwLjOikglWnOUM Il Suffit (feat. Jeanjass) Caballero Laisse Nous Faire Vol. 1\n"
     ]
    },
    {
     "name": "stdout",
     "output_type": "stream",
     "text": [
      "87  /1499 : 6KdNDBWPRoHwXyyaS8u8AR Inner Démons (feat. Alpha Wann) Caballero Laisse Nous Faire Vol. 1\n"
     ]
    },
    {
     "name": "stdout",
     "output_type": "stream",
     "text": [
      "88  /1499 : 494q3O9UXgoO5Ny8sU8jUY Le Freestyle De La Cigarette Fumante Caballero Laisse Nous Faire Vol. 1\n"
     ]
    },
    {
     "name": "stdout",
     "output_type": "stream",
     "text": [
      "89  /1499 : 3sLc3RUuVw3yq225J8pTaf Mailles Du Filet (feat. Lomepal) Caballero Laisse Nous Faire Vol. 1\n"
     ]
    },
    {
     "name": "stdout",
     "output_type": "stream",
     "text": [
      "90  /1499 : 7nipxhnG4w62JAtOI5W3VC Médaille D'or (feat. Lomepal & Doums) Caballero Laisse Nous Faire Vol. 1\n"
     ]
    },
    {
     "name": "stdout",
     "output_type": "stream",
     "text": [
      "91  /1499 : 6vG43ypSsKjo82VqE90a0w Medley Goku Caballero Laisse Nous Faire Vol. 1\n"
     ]
    },
    {
     "name": "stdout",
     "output_type": "stream",
     "text": [
      "92  /1499 : 2Nvq8DdvQaooWm5SXTWFG5 Medley Vegeta Caballero Laisse Nous Faire Vol. 1\n"
     ]
    },
    {
     "name": "stdout",
     "output_type": "stream",
     "text": [
      "93  /1499 : 76ja4bAH6llTY7s1lkwWoQ Mission Accomplie Caballero Laisse Nous Faire Vol. 1\n",
      "94  /1499 : 14t6TOsH17hobA3iE1iszr Otaku (feat. Neshga & Senamo) Caballero Laisse Nous Faire Vol. 1\n"
     ]
    },
    {
     "name": "stdout",
     "output_type": "stream",
     "text": [
      "95  /1499 : 4TxBA5CECuHyPFPFFq6mJE Patinoire (feat. Sima) Caballero Laisse Nous Faire Vol. 1\n"
     ]
    },
    {
     "name": "stdout",
     "output_type": "stream",
     "text": [
      "96  /1499 : 6QjDQONUpk41pUsaHcqHh6 Profondeurs (feat. Jeanjass) Caballero Laisse Nous Faire Vol. 1\n",
      "97  /1499 : 1p1Kz4or5x37QvxZ1dQE0q Qu'est-Ce Que Tu Nous Proposes ? (feat. Jeanjass, Alpha Wann & Ysha) Caballero Laisse Nous Faire Vol. 1\n"
     ]
    },
    {
     "name": "stdout",
     "output_type": "stream",
     "text": [
      "98  /1499 : 43GwFZxQHKGw3CVnM29wTT Sortez Couverts (feat. Arabesk) Caballero Laisse Nous Faire Vol. 1\n"
     ]
    },
    {
     "name": "stdout",
     "output_type": "stream",
     "text": [
      "99  /1499 : 5fjuEHSIGyNgyW5ynEPlgb Téléportation (feat. Les Corbeaux) Caballero Laisse Nous Faire Vol. 1\n"
     ]
    },
    {
     "name": "stdout",
     "output_type": "stream",
     "text": [
      "100 /1499 : 0uXKTY1IaVHaVpcdFsiHWv Viens Voir (feat. Perso) Caballero Laisse Nous Faire Vol. 1\n"
     ]
    },
    {
     "name": "stdout",
     "output_type": "stream",
     "text": [
      "101 /1499 : 0xMEF2WiqKWTIG7Krjungw The Distance Cake Fashion Nugget\n"
     ]
    },
    {
     "name": "stdout",
     "output_type": "stream",
     "text": [
      "102 /1499 : 74jZhGv0fdLaf9q8AZZ15k Please Mr. Postman Carpenters Horizon\n"
     ]
    },
    {
     "name": "stdout",
     "output_type": "stream",
     "text": [
      "Casiopea Galactic Funk Crosspoint not in spotify\n"
     ]
    },
    {
     "name": "stdout",
     "output_type": "stream",
     "text": [
      "Casiopea Swear! Mint Jams not in spotify\n"
     ]
    },
    {
     "name": "stdout",
     "output_type": "stream",
     "text": [
      "105 /1499 : 0KJ8O3NjYF3ypDAUSEVFfg I Married an Angel Chet Baker Chet Baker & Strings\n"
     ]
    },
    {
     "name": "stdout",
     "output_type": "stream",
     "text": [
      "106 /1499 : 0kJukmNUjDGh1pfTymS1Fz Strollin' - Live Chet Baker Chet Baker Live in London Volume II\n"
     ]
    },
    {
     "name": "stdout",
     "output_type": "stream",
     "text": [
      "107 /1499 : 7GqIDx2QVGOpd4r1fZaUUW 25 or 6 to 4 - 2002 Remaster Chicago Chicago II\n"
     ]
    },
    {
     "name": "stdout",
     "output_type": "stream",
     "text": [
      "108 /1499 : 6GTz60YoNqDoAKkOFwEjEJ Friends Chick Corea Friends\n"
     ]
    },
    {
     "name": "stdout",
     "output_type": "stream",
     "text": [
      "109 /1499 : 5RrJCusmR1J54b5ivqdWIu Spain Chick Corea Light As A Feather\n"
     ]
    },
    {
     "name": "stdout",
     "output_type": "stream",
     "text": [
      "110 /1499 : 69yYDgM8sCrUsD56AHyOt9 Hold Tight Chinese Man The Groove Sessions, Vol. 5\n"
     ]
    },
    {
     "name": "stdout",
     "output_type": "stream",
     "text": [
      "111 /1499 : 4kjxA0n9WrsZgZr86xsdNv Complainer Choir Boy Gathering Swans\n"
     ]
    },
    {
     "name": "stdout",
     "output_type": "stream",
     "text": [
      "112 /1499 : 3h9wwOniESiAAmH3BcUU71 C'Est La Même Chanson Claude François Master Serie Vol 1\n"
     ]
    },
    {
     "name": "stdout",
     "output_type": "stream",
     "text": [
      "113 /1499 : 6xuxkfM6waS1sCubmjJtCl Chanson populaire (Ça s'en va et ça revient) Claude François Chanson populaire\n"
     ]
    },
    {
     "name": "stdout",
     "output_type": "stream",
     "text": [
      "Claude François 17 ans Chansons françaises not in spotify\n"
     ]
    },
    {
     "name": "stdout",
     "output_type": "stream",
     "text": [
      "115 /1499 : 4S6Tvkd25kcOMgzATeykCR Je vais à Rio Claude François Claude François - 100% concert\n"
     ]
    },
    {
     "name": "stdout",
     "output_type": "stream",
     "text": [
      "116 /1499 : 6BTEPtJihp7X5qFznnJCzL Toi et le soleil Claude François Claude François - 100% concert\n"
     ]
    },
    {
     "name": "stdout",
     "output_type": "stream",
     "text": [
      "117 /1499 : 62vbpDT4pmmpTigFYnrLrd Comme d'habitude Claude François Les plus grandes Chansons Françaises\n"
     ]
    },
    {
     "name": "stdout",
     "output_type": "stream",
     "text": [
      "118 /1499 : 1g4HtTKLnk9r7YpFVsWJNJ Il fait beau, il fait bon Claude François Hommages\n",
      "119 /1499 : 6yPVqp3Nt2mFzvdExaIWP9 J'attendrai Claude François Hommages\n"
     ]
    },
    {
     "name": "stdout",
     "output_type": "stream",
     "text": [
      "120 /1499 : 2fbEcU3yS5eqXCusyZRBIU La musique américaine Claude François Le Chanteur Malheureux\n"
     ]
    },
    {
     "name": "stdout",
     "output_type": "stream",
     "text": [
      "121 /1499 : 0z0oXm4kKS1DCuGv68qN2M Le chanteur malheureux Claude François Le Chanteur Malheureux\n"
     ]
    },
    {
     "name": "stdout",
     "output_type": "stream",
     "text": [
      "122 /1499 : 3HiPDGrE4Bys0Xy4m82wQ1 Bélinda Claude François Le lundi au soleil\n"
     ]
    },
    {
     "name": "stdout",
     "output_type": "stream",
     "text": [
      "123 /1499 : 75HyZlo5ameA4sr8aOjUSU Le lundi au soleil Claude François Le lundi au soleil\n"
     ]
    },
    {
     "name": "stdout",
     "output_type": "stream",
     "text": [
      "124 /1499 : 4cAeq0pjjvWxFfy7NL3XSD Le téléphone pleure Claude François Le mal aimé / Le téléphone pleure\n"
     ]
    },
    {
     "name": "stdout",
     "output_type": "stream",
     "text": [
      "125 /1499 : 2Wd4Yu2RtYZjSmzLLaghNZ Le téléphone pleure Claude François Les Plus Belles Chansons De Claude François\n"
     ]
    },
    {
     "name": "stdout",
     "output_type": "stream",
     "text": [
      "Claude François Cette année-là Le Vagabond not in spotify\n"
     ]
    },
    {
     "name": "stdout",
     "output_type": "stream",
     "text": [
      "127 /1499 : 1Ef2eSe7uP2naMudb3zoTd Le Vagabond Claude François Claude François - 100% concert\n",
      "128 /1499 : 1pb0YH8fCADkSMqItikR3q Claude François Medley: Magnolias for Ever / Belles belles belles / Alexandrie Alexandra / Comme d'habitude La Mayoral Thomas Dufau\n"
     ]
    },
    {
     "name": "stdout",
     "output_type": "stream",
     "text": [
      "129 /1499 : 7BCKbaa6n10C4Xspn33Rqr Magnolias for Ever Claude François Claude François - 100% concert\n"
     ]
    },
    {
     "name": "stdout",
     "output_type": "stream",
     "text": [
      "130 /1499 : 2k1G4V6Mg6XAg8Xg2YV3ll Je sais Claude François Meme Si Tu Revenais\n"
     ]
    },
    {
     "name": "stdout",
     "output_type": "stream",
     "text": [
      "131 /1499 : 2n4h0b8QiKklZq1Ob0RxCB Même Si Tu Revenais Claude François Master Serie Vol 1\n"
     ]
    },
    {
     "name": "stdout",
     "output_type": "stream",
     "text": [
      "132 /1499 : 5nY0lSKJYjm0hsptrH93ai Belles belles belles Claude François Si J'Avais Un Marteau\n"
     ]
    },
    {
     "name": "stdout",
     "output_type": "stream",
     "text": [
      "133 /1499 : 3bFD32lTo1w37kQzkY4LGD Si J'Avais Un Marteau Claude François Master Serie Vol 1\n"
     ]
    },
    {
     "name": "stdout",
     "output_type": "stream",
     "text": [
      "134 /1499 : 75JFxkI2RXiU7L9VXzMkle The Scientist Coldplay A Rush of Blood to the Head\n"
     ]
    },
    {
     "name": "stdout",
     "output_type": "stream",
     "text": [
      "135 /1499 : 2K2M0TcglCRLLpFOzKeFZA Sunshine Of Your Love Cream Disraeli Gears (Deluxe Edition)\n"
     ]
    },
    {
     "name": "stdout",
     "output_type": "stream",
     "text": [
      "136 /1499 : 5bUlFE9dGh7pX93PUEVAue Born On The Bayou Creedence Clearwater Revival Bayou Country\n"
     ]
    },
    {
     "name": "stdout",
     "output_type": "stream",
     "text": [
      "137 /1499 : 0HHIbFhmTXsIzz2VUmkH96 I Heard It Through The Grapevine Creedence Clearwater Revival Cosmo's Factory (40th Anniversary Edition)\n"
     ]
    },
    {
     "name": "stdout",
     "output_type": "stream",
     "text": [
      "138 /1499 : 20OFwXhEXf12DzwXmaV7fj Bad Moon Rising Creedence Clearwater Revival Green River (40th Anniversary Edition)\n"
     ]
    },
    {
     "name": "stdout",
     "output_type": "stream",
     "text": [
      "139 /1499 : 4BP3uh0hFLFRb5cjsgLqDh Fortunate Son Creedence Clearwater Revival Willy And The Poor Boys\n"
     ]
    },
    {
     "name": "stdout",
     "output_type": "stream",
     "text": [
      "140 /1499 : 3H3cOQ6LBLSvmcaV7QkZEu Aerodynamic Daft Punk Discovery\n"
     ]
    },
    {
     "name": "stdout",
     "output_type": "stream",
     "text": [
      "141 /1499 : 6vuPZX9fWESg5js2JFTQRJ Crescendolls Daft Punk Discovery\n"
     ]
    },
    {
     "name": "stdout",
     "output_type": "stream",
     "text": [
      "142 /1499 : 2VEZx7NWsZ1D0eJ4uv5Fym Digital Love Daft Punk Discovery\n"
     ]
    },
    {
     "name": "stdout",
     "output_type": "stream",
     "text": [
      "143 /1499 : 7v9Q0dAb9t7h8gJOkcJHay Face to Face Daft Punk Discovery\n"
     ]
    },
    {
     "name": "stdout",
     "output_type": "stream",
     "text": [
      "144 /1499 : 5W3cjX2J3tjhG8zb6u0qHn Harder, Better, Faster, Stronger Daft Punk Discovery\n",
      "145 /1499 : 098ttCNmncrO4YvqWUNMvn High Life Daft Punk Discovery\n",
      "146 /1499 : 63JXZZRbmzooashakb0zbu Nightvision Daft Punk Discovery\n"
     ]
    },
    {
     "name": "stdout",
     "output_type": "stream",
     "text": [
      "147 /1499 : 0DiWol3AO6WpXZgp0goxAV One More Time Daft Punk Discovery\n"
     ]
    },
    {
     "name": "stdout",
     "output_type": "stream",
     "text": [
      "148 /1499 : 4npMbTuxrUA3Wd7edACZ2L Short Circuit Daft Punk Discovery\n"
     ]
    },
    {
     "name": "stdout",
     "output_type": "stream",
     "text": [
      "149 /1499 : 1NeLwFETswx8Fzxl2AFl91 Something About Us Daft Punk Discovery\n"
     ]
    },
    {
     "name": "stdout",
     "output_type": "stream",
     "text": [
      "150 /1499 : 186hvCTyrni4KT9nwIQ7zS Superheroes Daft Punk Discovery\n"
     ]
    },
    {
     "name": "stdout",
     "output_type": "stream",
     "text": [
      "151 /1499 : 3zMvotMEQK3xvH01vA9wAP Too Long Daft Punk Discovery\n",
      "152 /1499 : 2LD2gT7gwAurzdQDQtILds Veridis Quo Daft Punk Discovery\n"
     ]
    },
    {
     "name": "stdout",
     "output_type": "stream",
     "text": [
      "153 /1499 : 7cMFjxhbXBpOlais7KMF3j Voyager Daft Punk Discovery\n"
     ]
    },
    {
     "name": "stdout",
     "output_type": "stream",
     "text": [
      "154 /1499 : 0k1xMUwn9sb7bZiqdT9ygx Beyond Daft Punk Random Access Memories\n",
      "155 /1499 : 2KHRENHQzTIQ001nlP9Gdc Contact Daft Punk Random Access Memories\n"
     ]
    },
    {
     "name": "stdout",
     "output_type": "stream",
     "text": [
      "156 /1499 : 36c4JohayB9qd64eidQMBi Doin' it Right (feat. Panda Bear) Daft Punk Random Access Memories\n"
     ]
    },
    {
     "name": "stdout",
     "output_type": "stream",
     "text": [
      "157 /1499 : 0IedgQjjJ8Ad4B3UDQ5Lyn Fragments of Time (feat. Todd Edwards) Daft Punk Random Access Memories\n"
     ]
    },
    {
     "name": "stdout",
     "output_type": "stream",
     "text": [
      "158 /1499 : 69kOkLUCkxIZYexIgSG8rq Get Lucky (feat. Pharrell Williams & Nile Rodgers) Daft Punk Random Access Memories\n"
     ]
    },
    {
     "name": "stdout",
     "output_type": "stream",
     "text": [
      "159 /1499 : 0oks4FnzhNp5QPTZtoet7c Giorgio by Moroder Daft Punk Random Access Memories\n"
     ]
    },
    {
     "name": "stdout",
     "output_type": "stream",
     "text": [
      "160 /1499 : 0dEIca2nhcxDUV8C5QkPYb Give Life Back to Music Daft Punk Random Access Memories\n"
     ]
    },
    {
     "name": "stdout",
     "output_type": "stream",
     "text": [
      "161 /1499 : 2cGxRwrMyEAp8dEbuZaVv6 Instant Crush (feat. Julian Casablancas) Daft Punk Random Access Memories\n",
      "162 /1499 : 5CMjjywI0eZMixPeqNd75R Lose Yourself to Dance (feat. Pharrell Williams) Daft Punk Random Access Memories\n",
      "163 /1499 : 79koEJRtKOOGJ0VSAF3FMk Motherboard Daft Punk Random Access Memories\n"
     ]
    },
    {
     "name": "stdout",
     "output_type": "stream",
     "text": [
      "164 /1499 : 3ctALmweZBapfBdFiIVpji The Game of Love Daft Punk Random Access Memories\n"
     ]
    },
    {
     "name": "stdout",
     "output_type": "stream",
     "text": [
      "165 /1499 : 7oaEjLP2dTJLJsITbAxTOz Touch (feat. Paul Williams) Daft Punk Random Access Memories\n"
     ]
    },
    {
     "name": "stdout",
     "output_type": "stream",
     "text": [
      "166 /1499 : 7Bxv0WL7UC6WwQpk9TzdMJ Within Daft Punk Random Access Memories\n",
      "167 /1499 : 72Z17vmmeQKAg8bptWvpVG Space Oddity - 2015 Remaster David Bowie David Bowie (aka Space Oddity) [2015 Remaster]\n",
      "168 /1499 : 3ZE3wv8V3w2T2f7nOCjV0N Life on Mars? - 2015 Remaster David Bowie Hunky Dory (2015 Remaster)\n"
     ]
    },
    {
     "name": "stdout",
     "output_type": "stream",
     "text": [
      "169 /1499 : 7uHO4AmKtyGa5v5fsElGoC You Spin Me Round (Like a Record) Dead Or Alive Youthquake\n"
     ]
    },
    {
     "name": "stdout",
     "output_type": "stream",
     "text": [
      "Début de Soirée Nuit de Folie Jardins d'enfants not in spotify\n",
      "171 /1499 : 2qwgKQvWAUMamBOECgRD3X Burn Deep Purple Class of 1974\n"
     ]
    },
    {
     "name": "stdout",
     "output_type": "stream",
     "text": [
      "172 /1499 : 5UXX9TjjfbjULIyrhlWKcR You Fool No One Deep Purple Burn (Expanded 2005 Remaster)\n",
      "173 /1499 : 5TrfusgKC1BYic5LaWCoKm Child in Time Deep Purple Deep Purple in Rock\n"
     ]
    },
    {
     "name": "stdout",
     "output_type": "stream",
     "text": [
      "174 /1499 : 18URo35acNKRTHfEdjTcGn Photograph Def Leppard Pyromania\n"
     ]
    },
    {
     "name": "stdout",
     "output_type": "stream",
     "text": [
      "175 /1499 : 3c4bJL7mARZvd387847GsC Precious Depeche Mode Playing the Angel\n",
      "176 /1499 : 2kkvB3RNRzwjFdGhaUA0tz Layla - 40th Anniversary Version / 2010 Remastered Derek & The Dominos Layla And Other Assorted Love Songs (40th Anniversary / 2010 Remastered)\n",
      "177 /1499 : 5jAV3dThaNqdy1pUzO5Xpi Ist das noch Punkrock? Die Ärzte auch\n"
     ]
    },
    {
     "name": "stdout",
     "output_type": "stream",
     "text": [
      "178 /1499 : 4lRH3aAhNnyC144Bmn3Y1o Arob@se Dinos Taciturne\n"
     ]
    },
    {
     "name": "stdout",
     "output_type": "stream",
     "text": [
      "179 /1499 : 4yqtwO7MQIIXqoiRBPHAgR Money for Nothing Dire Straits Brothers in Arms\n"
     ]
    },
    {
     "name": "stdout",
     "output_type": "stream",
     "text": [
      "180 /1499 : 4yqtwO7MQIIXqoiRBPHAgR Money for Nothing Dire Straits Brothers in Arms\n"
     ]
    },
    {
     "name": "stdout",
     "output_type": "stream",
     "text": [
      "181 /1499 : 1fBxdTUpYGQPYkOfxM9uhe Single-Handed Sailor Dire Straits Communiqué\n"
     ]
    },
    {
     "name": "stdout",
     "output_type": "stream",
     "text": [
      "182 /1499 : 6cr6UDpkjEaMQ80OjWqEBQ Sultans of Swing Dire Straits Dire Straits\n"
     ]
    },
    {
     "name": "stdout",
     "output_type": "stream",
     "text": [
      "183 /1499 : 1laOaJ0vcBx3cjUhH50mW7 Industrial Disease Dire Straits Love Over Gold\n"
     ]
    },
    {
     "name": "stdout",
     "output_type": "stream",
     "text": [
      "184 /1499 : 4MkREzrofcXWhHRBuhdS1o It Never Rains Dire Straits Love Over Gold\n"
     ]
    },
    {
     "name": "stdout",
     "output_type": "stream",
     "text": [
      "185 /1499 : 071BtONQBIq4SkvO0okS4k Telegraph Road Dire Straits Love Over Gold\n"
     ]
    },
    {
     "name": "stdout",
     "output_type": "stream",
     "text": [
      "186 /1499 : 0SqUwlygrVkMWkplNvvld1 Private Investigations Dire Straits Love Over Gold\n"
     ]
    },
    {
     "name": "stdout",
     "output_type": "stream",
     "text": [
      "187 /1499 : 071BtONQBIq4SkvO0okS4k Telegraph Road Dire Straits Love Over Gold\n"
     ]
    },
    {
     "name": "stdout",
     "output_type": "stream",
     "text": [
      "188 /1499 : 57MflfPN3ObQQAQtPUp0WF Romeo and Juliet Dire Straits Making Movies\n"
     ]
    },
    {
     "name": "stdout",
     "output_type": "stream",
     "text": [
      "189 /1499 : 06ku5BBS2HufqSDVkcSR15 Tunnel of Love (Intro: The Carousel Waltz) Dire Straits Making Movies\n"
     ]
    },
    {
     "name": "stdout",
     "output_type": "stream",
     "text": [
      "190 /1499 : 5g6o2ZEegnAI3MczbwZaTZ Calling Elvis Dire Straits On Every Street\n"
     ]
    },
    {
     "name": "stdout",
     "output_type": "stream",
     "text": [
      "191 /1499 : 5rEEkF2wZsHfFHTaEknuji Heavy Fuel Dire Straits On Every Street (Remaster)\n"
     ]
    },
    {
     "name": "stdout",
     "output_type": "stream",
     "text": [
      "192 /1499 : 1YLMZuxgIU4g5aS4gjHT0o Planet of New Orleans Dire Straits On Every Street (Remaster)\n"
     ]
    },
    {
     "name": "stdout",
     "output_type": "stream",
     "text": [
      "193 /1499 : 5onlhFwHJhp0ff2tPju2X6 J'pète les plombs Disiz La Peste Le collector, Vol. 1\n"
     ]
    },
    {
     "name": "stdout",
     "output_type": "stream",
     "text": [
      "194 /1499 : 1No3SDMTneCwu3R0gKZqpI Les 10 Commandements du MC Disiz La Peste Rap Machine\n"
     ]
    },
    {
     "name": "stdout",
     "output_type": "stream",
     "text": [
      "195 /1499 : 32VjGZWrYx3fB0Ma1Qjydq X Gon' Give It To Ya DMX Cradle 2 The Grave\n"
     ]
    },
    {
     "name": "stdout",
     "output_type": "stream",
     "text": [
      "196 /1499 : 4TF0nT9RfSoA0ztC3Oif4r Bloodflower Draconian Turning Season Within\n"
     ]
    },
    {
     "name": "stdout",
     "output_type": "stream",
     "text": [
      "197 /1499 : 2gbpAcczo1e3QFDrWBpYhe Earthbound Draconian Turning Season Within\n"
     ]
    },
    {
     "name": "stdout",
     "output_type": "stream",
     "text": [
      "198 /1499 : 6GPQCXCitZZwUrnN44dDDP Morphine Cloud Draconian Turning Season Within\n"
     ]
    },
    {
     "name": "stdout",
     "output_type": "stream",
     "text": [
      "199 /1499 : 0iXdF8F7htTErXSKEA2piV Not Breathing Draconian Turning Season Within\n"
     ]
    },
    {
     "name": "stdout",
     "output_type": "stream",
     "text": [
      "200 /1499 : 69HGq7dhBM0XqlW5SpTjeN Seasons Apart Draconian Turning Season Within\n"
     ]
    },
    {
     "name": "stdout",
     "output_type": "stream",
     "text": [
      "Draconian The Empy Stare / September Ashes Turning Season Within not in spotify\n"
     ]
    },
    {
     "name": "stdout",
     "output_type": "stream",
     "text": [
      "202 /1499 : 7IrDK2wkI9XzTZ5CAXm8Xn The Failure Epiphany Draconian Turning Season Within\n"
     ]
    },
    {
     "name": "stdout",
     "output_type": "stream",
     "text": [
      "203 /1499 : 0ugwIBrHNZcRLUtP7G0hjW When I Wake Draconian Turning Season Within\n"
     ]
    },
    {
     "name": "stdout",
     "output_type": "stream",
     "text": [
      "204 /1499 : 7Cuk8jsPPoNYQWXK9XRFvG September Earth, Wind & Fire September\n"
     ]
    },
    {
     "name": "stdout",
     "output_type": "stream",
     "text": [
      "205 /1499 : 1TF8mSG5YHyaS4o3NeBSAo Munich Editors The Back Room\n"
     ]
    },
    {
     "name": "stdout",
     "output_type": "stream",
     "text": [
      "206 /1499 : 5jDLMyRG0hq0U1O54ELZhE Was Ist Hier Los? Eisbrecher Sturmfahrt\n"
     ]
    },
    {
     "name": "stdout",
     "output_type": "stream",
     "text": [
      "207 /1499 : 6xE6ZWzK1YDDSYzqOCoQlz Last Train to London Electric Light Orchestra Discovery\n"
     ]
    },
    {
     "name": "stdout",
     "output_type": "stream",
     "text": [
      "208 /1499 : 6DU1WKdUnR7OZkw7BZl9P0 Funeralopolis Electric Wizard Dopethrone\n"
     ]
    },
    {
     "name": "stdout",
     "output_type": "stream",
     "text": [
      "209 /1499 : 5LbC1uoOc7JeP0wdPDqAnl Jeremy Bender - 2012 Remastered Version Emerson, Lake & Palmer Tarkus (Deluxe Version)\n"
     ]
    },
    {
     "name": "stdout",
     "output_type": "stream",
     "text": [
      "Eric Burdon Colour Of The Sunset When I Was Young not in spotify\n",
      "211 /1499 : 3ykSdTGmYPFl8pDBXer1zG Cocaine Eric Clapton Slowhand 35th Anniversary (Super Deluxe)\n"
     ]
    },
    {
     "name": "stdout",
     "output_type": "stream",
     "text": [
      "212 /1499 : 3BEZCNZSmVv30vsMNSOCri Layla - Acoustic; Live at MTV Unplugged, Bray Film Studios, Windsor, England, UK, 1/16/1992; 2013 Remaster Eric Clapton Unplugged (Deluxe Edition)\n"
     ]
    },
    {
     "name": "stdout",
     "output_type": "stream",
     "text": [
      "213 /1499 : 7lS4Kp6wf8oKDhvRquyQ81 Hurra Hurra Die Pest Ist Da Feuerschwanz Metvernichter\n"
     ]
    },
    {
     "name": "stdout",
     "output_type": "stream",
     "text": [
      "Flamingosis A Groovy Intro A Groovy Thing not in spotify\n"
     ]
    },
    {
     "name": "stdout",
     "output_type": "stream",
     "text": [
      "Flamingosis A Groovy Thing A Groovy Thing not in spotify\n",
      "Flamingosis Breezy A Groovy Thing not in spotify\n",
      "Flamingosis Come & Get it A Groovy Thing not in spotify\n"
     ]
    },
    {
     "name": "stdout",
     "output_type": "stream",
     "text": [
      "Flamingosis Don’t Lose the Feeling A Groovy Thing not in spotify\n",
      "Flamingosis Flute Salad A Groovy Thing not in spotify\n"
     ]
    },
    {
     "name": "stdout",
     "output_type": "stream",
     "text": [
      "Flamingosis Get Yourself Together A Groovy Thing not in spotify\n"
     ]
    },
    {
     "name": "stdout",
     "output_type": "stream",
     "text": [
      "Flamingosis Guilty Pleasure A Groovy Thing not in spotify\n"
     ]
    },
    {
     "name": "stdout",
     "output_type": "stream",
     "text": [
      "Flamingosis High Tide A Groovy Thing not in spotify\n"
     ]
    },
    {
     "name": "stdout",
     "output_type": "stream",
     "text": [
      "Flamingosis Keep Shining A Groovy Thing not in spotify\n"
     ]
    },
    {
     "name": "stdout",
     "output_type": "stream",
     "text": [
      "Flamingosis Long Distance A Groovy Thing not in spotify\n"
     ]
    },
    {
     "name": "stdout",
     "output_type": "stream",
     "text": [
      "Flamingosis Never Felt a Feeling Like This A Groovy Thing not in spotify\n"
     ]
    },
    {
     "name": "stdout",
     "output_type": "stream",
     "text": [
      "Flamingosis Not Like the Others A Groovy Thing not in spotify\n"
     ]
    },
    {
     "name": "stdout",
     "output_type": "stream",
     "text": [
      "Flamingosis Otaku Mode A Groovy Thing not in spotify\n"
     ]
    },
    {
     "name": "stdout",
     "output_type": "stream",
     "text": [
      "Flamingosis Persevere A Groovy Thing not in spotify\n"
     ]
    },
    {
     "name": "stdout",
     "output_type": "stream",
     "text": [
      "Flamingosis Soul Crusade A Groovy Thing not in spotify\n",
      "Flamingosis That’s Cold A Groovy Thing not in spotify\n"
     ]
    },
    {
     "name": "stdout",
     "output_type": "stream",
     "text": [
      "Flamingosis Want Me (Need Me) A Groovy Thing not in spotify\n"
     ]
    },
    {
     "name": "stdout",
     "output_type": "stream",
     "text": [
      "232 /1499 : 5e9TFTbltYBg2xThimr0rU The Chain - 2004 Remaster Fleetwood Mac Rumours (Super Deluxe)\n"
     ]
    },
    {
     "name": "stdout",
     "output_type": "stream",
     "text": [
      "233 /1499 : 0gOsUh84A7v9FnFMsBWGwr Mon Pote Le DJ François Valéry François Valéry 1983 - 1986\n"
     ]
    },
    {
     "name": "stdout",
     "output_type": "stream",
     "text": [
      "234 /1499 : 6ooluO7DiEhI1zmK94nRCM Take Me Out Franz Ferdinand Franz Ferdinand\n"
     ]
    },
    {
     "name": "stdout",
     "output_type": "stream",
     "text": [
      "Franzl Lang Auf und auf voll Lebenslust N/A not in spotify\n"
     ]
    },
    {
     "name": "stdout",
     "output_type": "stream",
     "text": [
      "236 /1499 : 7dEQgmYcZSVWsHmutkOLDF All Right Now - Single Version Free The Free Story\n"
     ]
    },
    {
     "name": "stdout",
     "output_type": "stream",
     "text": [
      "237 /1499 : 0mLJdJPzeWzBegRrfmeiwM 1979 French 79 Olympic\n",
      "238 /1499 : 6NNg7SJpg7p9VCZXhSqiaE After Party French 79 Olympic\n"
     ]
    },
    {
     "name": "stdout",
     "output_type": "stream",
     "text": [
      "239 /1499 : 1LpZP3BXZokmhMi0IN73yY Between the Buttons French 79 Olympic\n"
     ]
    },
    {
     "name": "stdout",
     "output_type": "stream",
     "text": [
      "240 /1499 : 4ZNpdroEGIgnr3O7IvlUsB DDROPP French 79 Olympic\n"
     ]
    },
    {
     "name": "stdout",
     "output_type": "stream",
     "text": [
      "241 /1499 : 5G0oVoL309pqsvGDzhMOwx Diamond Veins (feat. Sarah Rebecca) French 79 Olympic\n"
     ]
    },
    {
     "name": "stdout",
     "output_type": "stream",
     "text": [
      "242 /1499 : 559C5y1XbfhzB8xYjleIQQ Golden Times French 79 Olympic\n"
     ]
    },
    {
     "name": "stdout",
     "output_type": "stream",
     "text": [
      "243 /1499 : 2AQxYyQR0gi5mNb0QsFOQJ Hush Hush French 79 Olympic\n"
     ]
    },
    {
     "name": "stdout",
     "output_type": "stream",
     "text": [
      "244 /1499 : 5e1kNatja9w74M4PU8Ki6d Invisible Moon French 79 Olympic\n"
     ]
    },
    {
     "name": "stdout",
     "output_type": "stream",
     "text": [
      "245 /1499 : 5pxtj7cCnv2hZe6mbS2MBx Lovin' Feeling French 79 Olympic\n"
     ]
    },
    {
     "name": "stdout",
     "output_type": "stream",
     "text": [
      "246 /1499 : 5G0oVoL309pqsvGDzhMOwx Diamond Veins (feat. Sarah Rebecca) French 79 Olympic\n"
     ]
    },
    {
     "name": "stdout",
     "output_type": "stream",
     "text": [
      "247 /1499 : 25Yj5EDimlbwUWEFXJmAmw Pantheon Neon French 79 Olympic\n"
     ]
    },
    {
     "name": "stdout",
     "output_type": "stream",
     "text": [
      "248 /1499 : 5leH1cR5UPBWT3MFmOXyGl Vertigo Valley French 79 Olympic\n",
      "249 /1499 : 46bxbxG8YnnjZvjfGvZXbj Blank Tapes From Indian Lakes Everything Feels Better Now\n",
      "250 /1499 : 1SOECNmtGKx3yW14505Wfu La danse des parasites Full dub Rewind\n"
     ]
    },
    {
     "name": "stdout",
     "output_type": "stream",
     "text": [
      "251 /1499 : 61NCzmaWiG6eF5cbWvRiU8 After the Ordeal - New Stereo Mix Genesis Selling England by the Pound\n"
     ]
    },
    {
     "name": "stdout",
     "output_type": "stream",
     "text": [
      "252 /1499 : 2a0HWU7HrAPfYmW0pUGMTJ Aisle of Plenty - New Stereo Mix Genesis Selling England by the Pound\n"
     ]
    },
    {
     "name": "stdout",
     "output_type": "stream",
     "text": [
      "253 /1499 : 1a1xoTlWpndO6azw57dKdJ Dancing with the Moonlit Knight - New Stereo Mix Genesis Selling England by the Pound\n"
     ]
    },
    {
     "name": "stdout",
     "output_type": "stream",
     "text": [
      "254 /1499 : 6UpMG6BDOd5xecMTu5r3sj Firth of Fifth - New Stereo Mix Genesis Selling England by the Pound\n"
     ]
    },
    {
     "name": "stdout",
     "output_type": "stream",
     "text": [
      "255 /1499 : 31VLSfg86NJN74rUHQi7e8 I Know What I Like (In Your Wardrobe) - New Stereo Mix Genesis Selling England by the Pound\n"
     ]
    },
    {
     "name": "stdout",
     "output_type": "stream",
     "text": [
      "256 /1499 : 4EoKbid1MFccC0VCtO5ehz More Fool Me - New Stereo Mix Genesis Selling England by the Pound\n"
     ]
    },
    {
     "name": "stdout",
     "output_type": "stream",
     "text": [
      "257 /1499 : 0GSNE8polfFfxGWnyx4knV The Battle of Epping Forest - New Stereo Mix Genesis Selling England by the Pound\n"
     ]
    },
    {
     "name": "stdout",
     "output_type": "stream",
     "text": [
      "258 /1499 : 5k10LV4157WEzdFmB97NQR The Cinema Show - New Stereo Mix Genesis Selling England by the Pound\n"
     ]
    },
    {
     "name": "stdout",
     "output_type": "stream",
     "text": [
      "259 /1499 : 0lNaytiCORnMNZTEBQxlPv Affirmation George Benson Breezin'\n",
      "260 /1499 : 62GYoGszQfROZswLee6W3O Give Me the Night George Benson The George Benson Collection\n"
     ]
    },
    {
     "name": "stdout",
     "output_type": "stream",
     "text": [
      "261 /1499 : 37y1QZW0uSeMjTztnjjoOV It's On George Duke After Hours\n"
     ]
    },
    {
     "name": "stdout",
     "output_type": "stream",
     "text": [
      "262 /1499 : 5u1ZHSxdiazsiH4HghWgDZ Le Pornographe Georges Brassens Les Copains D'Abord\n"
     ]
    },
    {
     "name": "stdout",
     "output_type": "stream",
     "text": [
      "Georges Brassens Brave Margot Le Vent not in spotify\n"
     ]
    },
    {
     "name": "stdout",
     "output_type": "stream",
     "text": [
      "Georges Brassens Les 4 z'arts Les Copains D'Abord not in spotify\n"
     ]
    },
    {
     "name": "stdout",
     "output_type": "stream",
     "text": [
      "265 /1499 : 12XKwBWwqdkunI1a8C0BFr Les copains d'abord Georges Brassens Les plus grandes Chansons Françaises\n"
     ]
    },
    {
     "name": "stdout",
     "output_type": "stream",
     "text": [
      "Georges Brassens Le Bistrot Les Funérailles d'antan not in spotify\n"
     ]
    },
    {
     "name": "stdout",
     "output_type": "stream",
     "text": [
      "267 /1499 : 55hOoPBqFhebHwepr33mak Absolution Ghost Meliora\n"
     ]
    },
    {
     "name": "stdout",
     "output_type": "stream",
     "text": [
      "268 /1499 : 3ZXZ9RMsznqgyHnyq0K5FL Cirice Ghost Meliora\n",
      "269 /1499 : 5t8Qb2sDIgyj57pcrEjsCC Deus In Absentia Ghost Meliora\n"
     ]
    },
    {
     "name": "stdout",
     "output_type": "stream",
     "text": [
      "270 /1499 : 2o2UpxEGdYpJqSAAmEgpRD Devil Church Ghost Meliora (Deluxe Edition)\n"
     ]
    },
    {
     "name": "stdout",
     "output_type": "stream",
     "text": [
      "271 /1499 : 2J5aJp4HQxcMuxZ6HVM4GC From The Pinnacle To The Pit Ghost Meliora\n"
     ]
    },
    {
     "name": "stdout",
     "output_type": "stream",
     "text": [
      "272 /1499 : 4ExR43GqMe2KwWM3VPGUmO He Is Ghost Meliora\n"
     ]
    },
    {
     "name": "stdout",
     "output_type": "stream",
     "text": [
      "273 /1499 : 30ZhfyAmOmF6GN2i5fpVen Majesty Ghost Meliora\n"
     ]
    },
    {
     "name": "stdout",
     "output_type": "stream",
     "text": [
      "274 /1499 : 3OF5mCJ8aRRIzyE49c9x6x Mummy Dust Ghost Meliora\n"
     ]
    },
    {
     "name": "stdout",
     "output_type": "stream",
     "text": [
      "275 /1499 : 6NlyLv5ytvhE4xOWN47V0g Spirit Ghost Meliora\n"
     ]
    },
    {
     "name": "stdout",
     "output_type": "stream",
     "text": [
      "276 /1499 : 45E7Yc6VNL0Qoo216EoD0R Spöksonat Ghost Meliora (Deluxe Edition)\n"
     ]
    },
    {
     "name": "stdout",
     "output_type": "stream",
     "text": [
      "277 /1499 : 4AzomjMRpr1NMNE90ZIOD6 Square Hammer Ghost Popestar\n"
     ]
    },
    {
     "name": "stdout",
     "output_type": "stream",
     "text": [
      "278 /1499 : 7rIovIsXE6kMn629b7kDig I Will Survive Gloria Gaynor Love Tracks\n",
      "GoGo Penguin Unspeakable Word Man Made Object not in spotify\n"
     ]
    },
    {
     "name": "stdout",
     "output_type": "stream",
     "text": [
      "280 /1499 : 3mJBpjkoGVZdAFgo4xeeIL Backbone Gojira From Mars to Sirius\n"
     ]
    },
    {
     "name": "stdout",
     "output_type": "stream",
     "text": [
      "281 /1499 : 7vxtxgtlAecGklW2gomanZ Flying Whales Gojira From Mars to Sirius\n"
     ]
    },
    {
     "name": "stdout",
     "output_type": "stream",
     "text": [
      "282 /1499 : 7vxtxgtlAecGklW2gomanZ Flying Whales Gojira From Mars to Sirius\n"
     ]
    },
    {
     "name": "stdout",
     "output_type": "stream",
     "text": [
      "283 /1499 : 4ZF3jGBNbIRd24sZ88tZPi From The Sky Gojira From Mars to Sirius\n"
     ]
    },
    {
     "name": "stdout",
     "output_type": "stream",
     "text": [
      "284 /1499 : 0dPtOlVrqvkg6cstMNxckp Global Warming Gojira From Mars to Sirius\n"
     ]
    },
    {
     "name": "stdout",
     "output_type": "stream",
     "text": [
      "285 /1499 : 6MEsBAHtg6CiRcwk5BFIlf In The Wilderness Gojira From Mars to Sirius\n"
     ]
    },
    {
     "name": "stdout",
     "output_type": "stream",
     "text": [
      "286 /1499 : 7vRPKAROaM9aev5jQ3WRwe Ocean Planet Gojira From Mars to Sirius\n"
     ]
    },
    {
     "name": "stdout",
     "output_type": "stream",
     "text": [
      "287 /1499 : 1KJqxYkRqWZdDQHMJ9IQaZ The Heaviest Matter Of The Universe Gojira From Mars to Sirius\n",
      "288 /1499 : 7vxtxgtlAecGklW2gomanZ Flying Whales Gojira From Mars to Sirius\n",
      "289 /1499 : 4b1yqONf1IrjhG69u6vmRC Unicorn Gojira From Mars to Sirius\n"
     ]
    },
    {
     "name": "stdout",
     "output_type": "stream",
     "text": [
      "290 /1499 : 1Ibn3CNFcN8HFaWzyy6bHy Where Dragons Dwell Gojira From Mars to Sirius\n"
     ]
    },
    {
     "name": "stdout",
     "output_type": "stream",
     "text": [
      "291 /1499 : 4dYfbsV56rlrlcmWInxyGM World To Come Gojira From Mars to Sirius\n"
     ]
    },
    {
     "name": "stdout",
     "output_type": "stream",
     "text": [
      "292 /1499 : 1rDzUqMRA9VdGCIwzgfeh9 Born in Winter Gojira L'Enfant Sauvage (Special Edition)\n"
     ]
    },
    {
     "name": "stdout",
     "output_type": "stream",
     "text": [
      "293 /1499 : 7f7AkrOCmi5X6Eovd3TiNq Explosia Gojira L'Enfant Sauvage (Special Edition)\n"
     ]
    },
    {
     "name": "stdout",
     "output_type": "stream",
     "text": [
      "294 /1499 : 4PWxt9Fy949kUtkEi2GI5V L'enfant sauvage Gojira L'Enfant Sauvage (Special Edition)\n"
     ]
    },
    {
     "name": "stdout",
     "output_type": "stream",
     "text": [
      "295 /1499 : 5BHLmCLntTLjSFGl8MG5wZ Liquid Fire Gojira L'Enfant Sauvage (Special Edition)\n"
     ]
    },
    {
     "name": "stdout",
     "output_type": "stream",
     "text": [
      "296 /1499 : 3YVwGFmSc1ycqsk6qLNAK3 Mouth of Kala Gojira L'Enfant Sauvage (Special Edition)\n"
     ]
    },
    {
     "name": "stdout",
     "output_type": "stream",
     "text": [
      "297 /1499 : 6TEDqADSZjLJ8sH1q8yQDt My Last Creation Gojira L'Enfant Sauvage (Special Edition)\n"
     ]
    },
    {
     "name": "stdout",
     "output_type": "stream",
     "text": [
      "298 /1499 : 341EpTlTyC2YbVAxPurQon Pain Is a Master Gojira L'Enfant Sauvage (Special Edition)\n"
     ]
    },
    {
     "name": "stdout",
     "output_type": "stream",
     "text": [
      "299 /1499 : 57caEZCym7upL7k7wt5h4o Planned Obsolescence Gojira L'Enfant Sauvage (Special Edition)\n"
     ]
    },
    {
     "name": "stdout",
     "output_type": "stream",
     "text": [
      "300 /1499 : 25I6CiICRyGB0K7E9c7Ho0 The Axe Gojira L'Enfant Sauvage (Special Edition)\n"
     ]
    },
    {
     "name": "stdout",
     "output_type": "stream",
     "text": [
      "301 /1499 : 6WwjzD7ZnIgzWHKyOvGqG1 The Fall Gojira L'Enfant Sauvage (Special Edition)\n"
     ]
    },
    {
     "name": "stdout",
     "output_type": "stream",
     "text": [
      "302 /1499 : 1mjC68qU0Q9HlCIZHZAEko The Gift of Guilt Gojira L'Enfant Sauvage (Special Edition)\n"
     ]
    },
    {
     "name": "stdout",
     "output_type": "stream",
     "text": [
      "303 /1499 : 1Pa0DVjBUGreCBHIh81G50 The Wild Healer Gojira L'Enfant Sauvage (Special Edition)\n"
     ]
    },
    {
     "name": "stdout",
     "output_type": "stream",
     "text": [
      "304 /1499 : 5HTPySHVzKat76M1IbiNml This Emptiness Gojira L'Enfant Sauvage (Special Edition)\n"
     ]
    },
    {
     "name": "stdout",
     "output_type": "stream",
     "text": [
      "305 /1499 : 5uunXHE4kIW6uS4HWAXaOQ Silvera Gojira Magma\n"
     ]
    },
    {
     "name": "stdout",
     "output_type": "stream",
     "text": [
      "306 /1499 : 2VMB8NG3ZMryFHuFxpcUFO Connected Gojira The Link\n"
     ]
    },
    {
     "name": "stdout",
     "output_type": "stream",
     "text": [
      "307 /1499 : 4NEQ491tBBtfuQ34uHREOz Dawn Gojira The Link\n"
     ]
    },
    {
     "name": "stdout",
     "output_type": "stream",
     "text": [
      "308 /1499 : 3U8Cn1reedRo5WXnTUWh6y Death Of Me Gojira The Link\n"
     ]
    },
    {
     "name": "stdout",
     "output_type": "stream",
     "text": [
      "309 /1499 : 6mexhzCMb4fBvqxEeSvoyg Embrace The World Gojira The Link\n"
     ]
    },
    {
     "name": "stdout",
     "output_type": "stream",
     "text": [
      "310 /1499 : 4iNIDlajbzwrja5GdSgv7U Indians Gojira The Link\n",
      "311 /1499 : 72xfEhQyroS0QNnaEZKwId Inward Movement Gojira The Link Alive\n"
     ]
    },
    {
     "name": "stdout",
     "output_type": "stream",
     "text": [
      "312 /1499 : 6GDnjSG4fYaLjzpH2r3yTh Over The Flows Gojira The Link\n"
     ]
    },
    {
     "name": "stdout",
     "output_type": "stream",
     "text": [
      "313 /1499 : 63uaSgoiBOc2APs4KA24hK Remembrance Gojira The Link\n"
     ]
    },
    {
     "name": "stdout",
     "output_type": "stream",
     "text": [
      "314 /1499 : 6MoL1DemRXxfPKf3h07IMO The Link Gojira The Link\n"
     ]
    },
    {
     "name": "stdout",
     "output_type": "stream",
     "text": [
      "315 /1499 : 7m4t3QojVWWP8xEFeU11PH Torii Gojira The Link\n"
     ]
    },
    {
     "name": "stdout",
     "output_type": "stream",
     "text": [
      "316 /1499 : 3Vgn25iwaX297dx6hSsIUw Wisdom Comes Gojira The Link\n"
     ]
    },
    {
     "name": "stdout",
     "output_type": "stream",
     "text": [
      "317 /1499 : 7MBbfqcqfPmS3lHU0ceLQy A SIGHT TO BEHOLD Gojira The Way of all Flesh\n"
     ]
    },
    {
     "name": "stdout",
     "output_type": "stream",
     "text": [
      "318 /1499 : 79nsMx5O53Wn0Px9MZRE3U ADORATION FOR NONE Gojira The Way of all Flesh\n"
     ]
    },
    {
     "name": "stdout",
     "output_type": "stream",
     "text": [
      "319 /1499 : 4Sjn46VQ43ngZjHdEEJwMn ALL THE TEARS Gojira The Way of all Flesh\n"
     ]
    },
    {
     "name": "stdout",
     "output_type": "stream",
     "text": [
      "320 /1499 : 31Rxsu5Ad0U5ToQKQWYAK1 ESOTERIC SURGERY Gojira The Way of all Flesh\n"
     ]
    },
    {
     "name": "stdout",
     "output_type": "stream",
     "text": [
      "321 /1499 : 6jYB9DxligWEtHq1K5ExEi OROBORUS Gojira The Way of all Flesh\n"
     ]
    },
    {
     "name": "stdout",
     "output_type": "stream",
     "text": [
      "322 /1499 : 666L3SqyCAxOUMyewZI9Ll THE ART OF DYING Gojira The Way of all Flesh\n"
     ]
    },
    {
     "name": "stdout",
     "output_type": "stream",
     "text": [
      "323 /1499 : 33jZqgOPG0Fxrron5JQRx1 THE SILVER CORD Gojira The Way of all Flesh\n"
     ]
    },
    {
     "name": "stdout",
     "output_type": "stream",
     "text": [
      "324 /1499 : 666L3SqyCAxOUMyewZI9Ll THE ART OF DYING Gojira The Way of all Flesh\n"
     ]
    },
    {
     "name": "stdout",
     "output_type": "stream",
     "text": [
      "325 /1499 : 1mEaiE4yw6BsaNMsctM4Sr TOXIC GARBAGE ISLAND Gojira The Way of all Flesh\n"
     ]
    },
    {
     "name": "stdout",
     "output_type": "stream",
     "text": [
      "326 /1499 : 6HIZIhqCq2Wvnro9GCv9cA VACUITY Gojira The Way of all Flesh\n"
     ]
    },
    {
     "name": "stdout",
     "output_type": "stream",
     "text": [
      "327 /1499 : 37jqj9gyQztkNJhX2ZhDLe WOLF DOWN THE EARTH Gojira The Way of all Flesh\n"
     ]
    },
    {
     "name": "stdout",
     "output_type": "stream",
     "text": [
      "328 /1499 : 68cFjtZ4RbVwpv76TwCe0A YAMA'S MESSENGERS Gojira The Way of all Flesh\n"
     ]
    },
    {
     "name": "stdout",
     "output_type": "stream",
     "text": [
      "329 /1499 : 5NYKOiiSD0iC5BaBFyOiFP Are You Receiving Me Golden Earring Moontan\n"
     ]
    },
    {
     "name": "stdout",
     "output_type": "stream",
     "text": [
      "330 /1499 : 5t7tuBGnmy1AegGj6WMvqt Candy's Going Bad Golden Earring Moontan\n"
     ]
    },
    {
     "name": "stdout",
     "output_type": "stream",
     "text": [
      "331 /1499 : 4ENwYjiCcpOHXLQ2SM2M0E Just Like Vince Taylor Golden Earring Moontan\n"
     ]
    },
    {
     "name": "stdout",
     "output_type": "stream",
     "text": [
      "332 /1499 : 20aASiwfsbiLlaJxLiC0PQ Radar Love Golden Earring Moontan\n"
     ]
    },
    {
     "name": "stdout",
     "output_type": "stream",
     "text": [
      "333 /1499 : 5ld7iP4kXPPBFRL4Q65M9s Suzy Lunacy - Mental Rock Golden Earring Moontan\n"
     ]
    },
    {
     "name": "stdout",
     "output_type": "stream",
     "text": [
      "334 /1499 : 1QLG203TjRwIt1J7WXqSnW The Vanilla Queen Golden Earring Moontan\n"
     ]
    },
    {
     "name": "stdout",
     "output_type": "stream",
     "text": [
      "335 /1499 : 76Ug1q4l6rGwJ2ubV5wh3X All Alone Gorillaz Demon Days\n"
     ]
    },
    {
     "name": "stdout",
     "output_type": "stream",
     "text": [
      "336 /1499 : 4Hff1IjRbLGeLgFgxvHflk DARE Gorillaz Demon Days\n"
     ]
    },
    {
     "name": "stdout",
     "output_type": "stream",
     "text": [
      "337 /1499 : 0d28khcov6AiegSCpG5TuT Feel Good Inc. Gorillaz Demon Days\n"
     ]
    },
    {
     "name": "stdout",
     "output_type": "stream",
     "text": [
      "338 /1499 : 2bfGNzdiRa1jXZRdfssSzR Dirty Harry Gorillaz Demon Days\n"
     ]
    },
    {
     "name": "stdout",
     "output_type": "stream",
     "text": [
      "339 /1499 : 4hjGZN8poACfjWCK3Og6vY Don't Get Lost in Heaven Gorillaz Demon Days\n"
     ]
    },
    {
     "name": "stdout",
     "output_type": "stream",
     "text": [
      "340 /1499 : 0dcMqjeDpwqB2xhzMsld0p El Mañana Gorillaz Demon Days\n"
     ]
    },
    {
     "name": "stdout",
     "output_type": "stream",
     "text": [
      "341 /1499 : 2pw9RZWZibttZzoFhwjuy6 Every Planet We Reach Is Dead Gorillaz Demon Days\n",
      "342 /1499 : 0d28khcov6AiegSCpG5TuT Feel Good Inc. Gorillaz Demon Days\n"
     ]
    },
    {
     "name": "stdout",
     "output_type": "stream",
     "text": [
      "343 /1499 : 1S9tfxdFr4TqoqA14gnKj3 Fire Coming out of the Monkey's Head Gorillaz Demon Days\n"
     ]
    },
    {
     "name": "stdout",
     "output_type": "stream",
     "text": [
      "344 /1499 : 2zavoMfVVPJMikH57fd8yK Intro Gorillaz Demon Days\n"
     ]
    },
    {
     "name": "stdout",
     "output_type": "stream",
     "text": [
      "345 /1499 : 0eEgMbSzOHmkOeVuNC3E0k Kids with Guns Gorillaz Demon Days\n"
     ]
    },
    {
     "name": "stdout",
     "output_type": "stream",
     "text": [
      "346 /1499 : 7JzmCjvB6bk48JghLyrg8N Last Living Souls Gorillaz Demon Days\n"
     ]
    },
    {
     "name": "stdout",
     "output_type": "stream",
     "text": [
      "347 /1499 : 6lrDckuosGpwEHtm1hHBcf November Has Come Gorillaz Demon Days\n"
     ]
    },
    {
     "name": "stdout",
     "output_type": "stream",
     "text": [
      "348 /1499 : 4hNPMfFHauPIbOKvdYqFt7 O Green World Gorillaz Demon Days\n"
     ]
    },
    {
     "name": "stdout",
     "output_type": "stream",
     "text": [
      "349 /1499 : 7hnW9af7GuGH5lyUUTa8UH White Light Gorillaz Demon Days\n"
     ]
    },
    {
     "name": "stdout",
     "output_type": "stream",
     "text": [
      "350 /1499 : 3THFKx88trZuOFlssVLJ5G Broken Gorillaz Plastic Beach\n"
     ]
    },
    {
     "name": "stdout",
     "output_type": "stream",
     "text": [
      "351 /1499 : 0NDOVMOT6ah2k6HuXLrq5x Cloud of Unknowing (feat. Bobby Womack and Sinfonia ViVA) Gorillaz Plastic Beach\n"
     ]
    },
    {
     "name": "stdout",
     "output_type": "stream",
     "text": [
      "Gorillaz Doncamatic Plastic Beach not in spotify\n"
     ]
    },
    {
     "name": "stdout",
     "output_type": "stream",
     "text": [
      "353 /1499 : 3a6PN6BRB8PP3ms48s7kU1 Empire Ants (feat. Little Dragon) Gorillaz Plastic Beach\n"
     ]
    },
    {
     "name": "stdout",
     "output_type": "stream",
     "text": [
      "354 /1499 : 4EJFCpthcrP6oOUUXQZ22Z Glitter Freeze (feat. Mark E Smith) Gorillaz Plastic Beach\n",
      "355 /1499 : 0q6LuUqGLUiCPP1cbdwFs3 On Melancholy Hill Gorillaz Plastic Beach\n"
     ]
    },
    {
     "name": "stdout",
     "output_type": "stream",
     "text": [
      "356 /1499 : 3s2f6XU5sJ6aqEe7GgDBta Orchestral Intro (feat. Sinfonia ViVA) Gorillaz Plastic Beach\n"
     ]
    },
    {
     "name": "stdout",
     "output_type": "stream",
     "text": [
      "357 /1499 : 0xSF7iHZQxaZYMAiBfobms Pirate Jet Gorillaz Plastic Beach\n"
     ]
    },
    {
     "name": "stdout",
     "output_type": "stream",
     "text": [
      "Gorillaz Pirate's Progress Plastic Beach not in spotify\n"
     ]
    },
    {
     "name": "stdout",
     "output_type": "stream",
     "text": [
      "359 /1499 : 0q6LuUqGLUiCPP1cbdwFs3 On Melancholy Hill Gorillaz Plastic Beach\n"
     ]
    },
    {
     "name": "stdout",
     "output_type": "stream",
     "text": [
      "360 /1499 : 1foMv2HQwfQ2vntFf9HFeG Rhinestone Eyes Gorillaz Plastic Beach\n",
      "361 /1499 : 4M88Wd7Aps5LGRWMOC7gSH Some Kind of Nature (feat. Lou Reed) Gorillaz Plastic Beach\n"
     ]
    },
    {
     "name": "stdout",
     "output_type": "stream",
     "text": [
      "362 /1499 : 6LUfuyLgvgqrykiTE6sJHY Stylo (feat. Mos Def and Bobby Womack) Gorillaz Plastic Beach\n"
     ]
    },
    {
     "name": "stdout",
     "output_type": "stream",
     "text": [
      "363 /1499 : 1UJNbgfTzG1gZZTWFJdMf1 Superfast Jellyfish (feat. Gruff Rhys and De La Soul) Gorillaz Plastic Beach\n"
     ]
    },
    {
     "name": "stdout",
     "output_type": "stream",
     "text": [
      "364 /1499 : 5SM5amC17V4itA5jxIICjS Sweepstakes (feat. Mos Def and Hypnotic Brass Ensemble) Gorillaz Plastic Beach\n",
      "365 /1499 : 1dvOwoHwZB9SwvRw2Gv3nz To Binge (feat. Little Dragon) Gorillaz Plastic Beach\n"
     ]
    },
    {
     "name": "stdout",
     "output_type": "stream",
     "text": [
      "366 /1499 : 46WOptLnXUtH3LOyYvmMO1 Welcome to the World of the Plastic Beach (feat. Snoop Dogg and Hypnotic Brass Ensemble) Gorillaz Plastic Beach\n"
     ]
    },
    {
     "name": "stdout",
     "output_type": "stream",
     "text": [
      "367 /1499 : 3famfyGuWw5QFcVO5Xk1uW White Flag (feat. Bashy, Kano and the National Orchestra for Arabic Music) Gorillaz Plastic Beach\n",
      "368 /1499 : 2haIfONRw1Bhi2zSp67MYU Aries (feat. Peter Hook and Georgia) Gorillaz Song Machine Episode 3\n"
     ]
    },
    {
     "name": "stdout",
     "output_type": "stream",
     "text": [
      "369 /1499 : 6xbDAaVUnQ2kaPAg5GXjFW Detroit Gorillaz The Fall\n"
     ]
    },
    {
     "name": "stdout",
     "output_type": "stream",
     "text": [
      "370 /1499 : 6nTiIhLmQ3FWhvrGafw2zj American Idiot Green Day American Idiot\n",
      "371 /1499 : 6eN1f9KNmiWEhpE2RhQqB5 Paradise City Guns N' Roses Appetite For Destruction\n"
     ]
    },
    {
     "name": "stdout",
     "output_type": "stream",
     "text": [
      "372 /1499 : 7snQQk1zcKl8gZ92AnueZW Sweet Child O' Mine Guns N' Roses Appetite For Destruction\n"
     ]
    },
    {
     "name": "stdout",
     "output_type": "stream",
     "text": [
      "373 /1499 : 3Llikc7f9KKGYwbrEfAYtk 1985 Haken Affinity\n"
     ]
    },
    {
     "name": "stdout",
     "output_type": "stream",
     "text": [
      "Haken affinitiy.exe / Initiate Affinity not in spotify\n"
     ]
    },
    {
     "name": "stdout",
     "output_type": "stream",
     "text": [
      "375 /1499 : 48yGP7ecT6JknKUZzLbu6e Bound by Gravity Haken Affinity\n",
      "376 /1499 : 1OtGh4nRaCYGisPJwubjvz Earthrise Haken Affinity\n"
     ]
    },
    {
     "name": "stdout",
     "output_type": "stream",
     "text": [
      "377 /1499 : 4eS9umlLK4MYscFl5qXxBQ Lapse Haken Affinity\n"
     ]
    },
    {
     "name": "stdout",
     "output_type": "stream",
     "text": [
      "378 /1499 : 7B2T9UwGKfbUg2ChxyiMI6 Red Giant Haken Affinity\n"
     ]
    },
    {
     "name": "stdout",
     "output_type": "stream",
     "text": [
      "379 /1499 : 2sApFpOvdX7RKiHbShekNL The Architect Haken Affinity\n"
     ]
    },
    {
     "name": "stdout",
     "output_type": "stream",
     "text": [
      "380 /1499 : 1ux3tUN5QnfnFlyDTCxELH The Endless Knot Haken Affinity\n"
     ]
    },
    {
     "name": "stdout",
     "output_type": "stream",
     "text": [
      "Happy End Aiga wo\r",
      " Kazemachi Roman not in spotify\n"
     ]
    },
    {
     "name": "stdout",
     "output_type": "stream",
     "text": [
      "Happy End Ashita tenki ni Naare Kazemachi Roman not in spotify\n"
     ]
    },
    {
     "name": "stdout",
     "output_type": "stream",
     "text": [
      "Happy End Dakishimetai Kazemachi Roman not in spotify\n"
     ]
    },
    {
     "name": "stdout",
     "output_type": "stream",
     "text": [
      "Happy End Haikara Beautiful Kazemachi Roman not in spotify\n",
      "Happy End Haikara Hakuchi Kazemachi Roman not in spotify\n"
     ]
    },
    {
     "name": "stdout",
     "output_type": "stream",
     "text": [
      "Happy End Hanaichimonme Kazemachi Roman not in spotify\n"
     ]
    },
    {
     "name": "stdout",
     "output_type": "stream",
     "text": [
      "Happy End Haru Ranman Kazemachi Roman not in spotify\n"
     ]
    },
    {
     "name": "stdout",
     "output_type": "stream",
     "text": [
      "Happy End Kaze wo Atsumete Kazemachi Roman not in spotify\n"
     ]
    },
    {
     "name": "stdout",
     "output_type": "stream",
     "text": [
      "Happy End Kurayamizaka Musasabi Henka Kazemachi Roman not in spotify\n",
      "Happy End Natsu nandesu Kazemachi Roman not in spotify\n"
     ]
    },
    {
     "name": "stdout",
     "output_type": "stream",
     "text": [
      "Happy End Sorairo no Crayon Kazemachi Roman not in spotify\n"
     ]
    },
    {
     "name": "stdout",
     "output_type": "stream",
     "text": [
      "Happy End Taifuu Kazemachi Roman not in spotify\n"
     ]
    },
    {
     "name": "stdout",
     "output_type": "stream",
     "text": [
      "393 /1499 : 20zOIoex7YchUh87d8tlvg Boogie Nights Heatwave Too Hot To Handle\n"
     ]
    },
    {
     "name": "stdout",
     "output_type": "stream",
     "text": [
      "394 /1499 : 4Ce66JznW8QbeyTdSzdGwR Chameleon Herbie Hancock Head Hunters\n",
      "395 /1499 : 4WyVRn3L2uXnSUkY762gqN Sly Herbie Hancock Head Hunters\n",
      "396 /1499 : 6c0ziyel6ZMTQ37vKRooGZ Vein Melter Herbie Hancock Head Hunters\n"
     ]
    },
    {
     "name": "stdout",
     "output_type": "stream",
     "text": [
      "397 /1499 : 2zQl59dZMzwhrmeSBEgiXY Watermelon Man Herbie Hancock Head Hunters\n"
     ]
    },
    {
     "name": "stdout",
     "output_type": "stream",
     "text": [
      "398 /1499 : 24hwI6OhnNKAOpRDmoSi3q Hidden Shadows Herbie Hancock Sextant\n"
     ]
    },
    {
     "name": "stdout",
     "output_type": "stream",
     "text": [
      "399 /1499 : 0sJyW4f7X5YvmrG0cPBLzI Hornets Herbie Hancock Sextant\n"
     ]
    },
    {
     "name": "stdout",
     "output_type": "stream",
     "text": [
      "400 /1499 : 5c5F0rVz812oUbgRUq5HcR Rain Dance Herbie Hancock Sextant\n"
     ]
    },
    {
     "name": "stdout",
     "output_type": "stream",
     "text": [
      "401 /1499 : 4QPFsGzN0Z4yh1NchgpeOk The One I Call Hey Hey My My British Hawaii\n"
     ]
    },
    {
     "name": "stdout",
     "output_type": "stream",
     "text": [
      "402 /1499 : 3QQgR5v0nGHNxMsMqVLrnW Périmètre Hugo TSR Périmètre\n",
      "403 /1499 : 3vb3cuNO0q8qL4fni4gTxn Bouger la tête Iam L'école du micro d'argent\n"
     ]
    },
    {
     "name": "stdout",
     "output_type": "stream",
     "text": [
      "404 /1499 : 2D7I6bbfc2Vvz4zYBGWvW1 Chez le mac Iam L'école du micro d'argent\n"
     ]
    },
    {
     "name": "stdout",
     "output_type": "stream",
     "text": [
      "405 /1499 : 3ivCKJqe7y23kebjJnb2Ua Dangereux Iam L'école du micro d'argent\n",
      "406 /1499 : 0QtKyWOrV5Vhw2n5Yf7LcF Demain, c'est loin Iam L'école du micro d'argent\n",
      "407 /1499 : 0BdZEQpJDKgj0DWBfiG1DH Elle donne son corps avant son nom Iam L'école du micro d'argent\n"
     ]
    },
    {
     "name": "stdout",
     "output_type": "stream",
     "text": [
      "408 /1499 : 3jqBLwtTiUYismDiZgAgPE Petit frère Iam L'école du micro d'argent\n"
     ]
    },
    {
     "name": "stdout",
     "output_type": "stream",
     "text": [
      "409 /1499 : 2I5S4UqzgMdooPBc31EmgX L'empire du côté obscur Iam L'école du micro d'argent\n"
     ]
    },
    {
     "name": "stdout",
     "output_type": "stream",
     "text": [
      "410 /1499 : 5kpqjjwrI3GIVR2qMBqr3D L'enfer (feat. East & Fabe) Iam L'école du micro d'argent\n"
     ]
    },
    {
     "name": "stdout",
     "output_type": "stream",
     "text": [
      "411 /1499 : 3mFHyDEPrWnc29OlWUBtPI La saga Iam L'école du micro d'argent\n",
      "412 /1499 : 2qfrNd9xxV6Axycd3F5Eqb Libère mon imagination Iam L'école Du Micro D'argent (Edition Collector)\n"
     ]
    },
    {
     "name": "stdout",
     "output_type": "stream",
     "text": [
      "413 /1499 : 66ZtqKhYSA8XyPr0aAUFsm Nés sous la même étoile Iam L'école du micro d'argent\n"
     ]
    },
    {
     "name": "stdout",
     "output_type": "stream",
     "text": [
      "414 /1499 : 3jqBLwtTiUYismDiZgAgPE Petit frère Iam L'école du micro d'argent\n"
     ]
    },
    {
     "name": "stdout",
     "output_type": "stream",
     "text": [
      "IAM Quant tu allais, on revenait L'École du Micro d'Argent not in spotify\n"
     ]
    },
    {
     "name": "stdout",
     "output_type": "stream",
     "text": [
      "416 /1499 : 6Fu77zQJkRBzzCPRnSMWgI Regarde Iam L'école du micro d'argent\n"
     ]
    },
    {
     "name": "stdout",
     "output_type": "stream",
     "text": [
      "417 /1499 : 3gN0dANbfEdlK3p31pqgw9 Un bon son brut pour les truands Iam L'école du micro d'argent\n",
      "418 /1499 : 35wUBvwdtylu6S1QO5cUur Un cri court dans la nuit (feat. Nuttea) Iam L'école du micro d'argent\n"
     ]
    },
    {
     "name": "stdout",
     "output_type": "stream",
     "text": [
      "Igorrr Downgrade Desert Spirituality and Distorsion not in spotify\n",
      "420 /1499 : 0JBQnLKfLXmlkquabLtAgd Only for the Weak In Flames Clayman\n"
     ]
    },
    {
     "name": "stdout",
     "output_type": "stream",
     "text": [
      "Incantation Cacharpaya Pan Pipes of the Andes not in spotify\n"
     ]
    },
    {
     "name": "stdout",
     "output_type": "stream",
     "text": [
      "422 /1499 : 0Xhnby7DAJ026HpMYdEbSD No More Lies - 2015 Remaster Iron Maiden Dance of Death (2015 - Remaster)\n"
     ]
    },
    {
     "name": "stdout",
     "output_type": "stream",
     "text": [
      "Jake Chudnow Poodles Short Stories not in spotify\n"
     ]
    },
    {
     "name": "stdout",
     "output_type": "stream",
     "text": [
      "Jake Chudnow Turquoise Short Stories not in spotify\n",
      "425 /1499 : 2Cdvbe2G4hZsnhNMKyGrie I Love Rock 'N Roll Joan Jett & The Blackhearts I Love Rock 'N' Roll (Expanded Edition)\n",
      "426 /1499 : 4VWbPQUPvLes814r6T11Jz Les Champs-Elysées Joe Dassin Les Champs-Èlysées\n"
     ]
    },
    {
     "name": "stdout",
     "output_type": "stream",
     "text": [
      "427 /1499 : 2ZkIVWpBOjcabfz5gfIwjp Toccata and Fugue in D Minor, BWV 565: 1. Toccata Johann Sebastian Bach Bach: Moments\n"
     ]
    },
    {
     "name": "stdout",
     "output_type": "stream",
     "text": [
      "428 /1499 : 5431KRbZtVF3tVgMR1lIYS An der schönen blauen Donau, Walzer, Op. 314 Johann Strauss II Neujahrskonzert 2020 / New Year's Concert 2020 / Concert du Nouvel An 2020\n"
     ]
    },
    {
     "name": "stdout",
     "output_type": "stream",
     "text": [
      "429 /1499 : 133O0c1dynolUei1FMi7C2 I was Looking at the Ceiling and Then I Saw the Sky: Act II: Finale (Tutti) John Adams Adams: I Was Looking at the Ceiling and Then I Saw the Sky\n",
      "430 /1499 : 1YYhDizHx7PnDhAhko6cDS Take Me Home, Country Roads John Denver Poems, Prayers and Promises\n"
     ]
    },
    {
     "name": "stdout",
     "output_type": "stream",
     "text": [
      "431 /1499 : 7pKfPomDEeI4TPT6EOYjn9 Imagine - 2010 Mix John Lennon Imagine\n"
     ]
    },
    {
     "name": "stdout",
     "output_type": "stream",
     "text": [
      "432 /1499 : 2hfoyc7ve6xM4ZEiNIiU1B Gimme Love Joji Gimme Love\n"
     ]
    },
    {
     "name": "stdout",
     "output_type": "stream",
     "text": [
      "433 /1499 : 3zbZNJ1yewL5HqjvIEjjUD Folie Jul La machine\n",
      "434 /1499 : 3dyoo6UNb2VlMTISBqrDb1 Sousou Jul Sousou\n"
     ]
    },
    {
     "name": "stdout",
     "output_type": "stream",
     "text": [
      "Jun Fukamachi Desillusion Quark not in spotify\n"
     ]
    },
    {
     "name": "stdout",
     "output_type": "stream",
     "text": [
      "Jun Fukamachi Insight Quark not in spotify\n"
     ]
    },
    {
     "name": "stdout",
     "output_type": "stream",
     "text": [
      "Jun Fukamachi Perpetual (Movement) Quark not in spotify\n",
      "Jun Fukamachi Quark Quark not in spotify\n"
     ]
    },
    {
     "name": "stdout",
     "output_type": "stream",
     "text": [
      "Kalash Criminel Pronostic N/A not in spotify\n",
      "Kelly Bailey CP Violation Half Life 2 not in spotify\n",
      "441 /1499 : 2WFggVC84b18ZkJTNgFnGP believe Kenichiro Nishihara Jazzy Folklore\n"
     ]
    },
    {
     "name": "stdout",
     "output_type": "stream",
     "text": [
      "Kenichiro Nishihara Magazine Jazzy Folklore not in spotify\n"
     ]
    },
    {
     "name": "stdout",
     "output_type": "stream",
     "text": [
      "443 /1499 : 6b6D94SnWcbNYYcw7ky7YL my leaving Kenichiro Nishihara Jazzy Folklore\n"
     ]
    },
    {
     "name": "stdout",
     "output_type": "stream",
     "text": [
      "444 /1499 : 2gR2zWHWq1mGEraOgZvEuW my love my life Kenichiro Nishihara Jazzy Folklore\n"
     ]
    },
    {
     "name": "stdout",
     "output_type": "stream",
     "text": [
      "445 /1499 : 69mJOQRpKgvq8dZX1jaeKZ pass the tea Kenichiro Nishihara Jazzy Folklore\n"
     ]
    },
    {
     "name": "stdout",
     "output_type": "stream",
     "text": [
      "446 /1499 : 6PPDZSjl29m4SpQbJqTBQZ piano choir Kenichiro Nishihara Jazzy Folklore\n"
     ]
    },
    {
     "name": "stdout",
     "output_type": "stream",
     "text": [
      "447 /1499 : 3b6G3g3cB34x1sMggyffbS prism tale Kenichiro Nishihara Jazzy Folklore\n"
     ]
    },
    {
     "name": "stdout",
     "output_type": "stream",
     "text": [
      "Kenichiro Nishihara The Vibe Jazzy Folklore not in spotify\n",
      "449 /1499 : 6pUjl3qNOXV9fbVIFQWtG3 waves Kenichiro Nishihara Jazzy Folklore\n",
      "Kenichiro Nishihara Yesternow Immignrats Jazzy Folklore not in spotify\n"
     ]
    },
    {
     "name": "stdout",
     "output_type": "stream",
     "text": [
      "451 /1499 : 07q0QVgO56EorrSGHC48y3 I Was Made For Lovin' You KISS Dynasty\n"
     ]
    },
    {
     "name": "stdout",
     "output_type": "stream",
     "text": [
      "Koji Kondo Kokiri Forest Ocarina of Time not in spotify\n",
      "453 /1499 : 1mMYaXpT65iZDtvfRA9EkE Fresh Kool & The Gang Emergency (Reissue)\n"
     ]
    },
    {
     "name": "stdout",
     "output_type": "stream",
     "text": [
      "454 /1499 : 4Cv6ongCvJy9JfSkWVnb5D Get Down On It Kool & The Gang Something Special\n",
      "455 /1499 : 1pr9TZGOXeJUggIal1Wq3R Blind Korn Korn\n"
     ]
    },
    {
     "name": "stdout",
     "output_type": "stream",
     "text": [
      "456 /1499 : 2f1BjAVy4k8B3pB4qBntHj Alone I Break Korn Untouchables\n"
     ]
    },
    {
     "name": "stdout",
     "output_type": "stream",
     "text": [
      "457 /1499 : 1VlW3owKPeiEtxMaHkq4Pv Beat It Upright Korn Untouchables\n",
      "458 /1499 : 1mGIbvbKtTqWSMLAEDA6tj Blame Korn Untouchables\n"
     ]
    },
    {
     "name": "stdout",
     "output_type": "stream",
     "text": [
      "459 /1499 : 52iwy78GCO58e6fb7CB4Kb Bottled up Inside Korn Untouchables\n"
     ]
    },
    {
     "name": "stdout",
     "output_type": "stream",
     "text": [
      "460 /1499 : 487O7RBFtw8dfRJEs2NRxA Embrace Korn Untouchables\n"
     ]
    },
    {
     "name": "stdout",
     "output_type": "stream",
     "text": [
      "461 /1499 : 3QXcSwYu2HlH45ZfV1cCIw Hating Korn Untouchables\n",
      "462 /1499 : 5NHTtXGCdO7ul16xr0q93w Here to Stay Korn Untouchables\n",
      "463 /1499 : 2epJOYKMo2XOXuc8Bk3Xwa Hollow Life Korn Untouchables\n"
     ]
    },
    {
     "name": "stdout",
     "output_type": "stream",
     "text": [
      "464 /1499 : 7aWbEWjNhXEaD2tMPWHUZj I'm Hiding Korn Untouchables\n",
      "465 /1499 : 0VUGGLcINsmJi3nc612KkL Make Believe Korn Untouchables\n"
     ]
    },
    {
     "name": "stdout",
     "output_type": "stream",
     "text": [
      "466 /1499 : 0sGSlTV3HjZayg5g6CdNbc No One's There Korn Untouchables\n"
     ]
    },
    {
     "name": "stdout",
     "output_type": "stream",
     "text": [
      "467 /1499 : 25pAePMnGdeFVhMMUE2eKV One More Time Korn Untouchables\n"
     ]
    },
    {
     "name": "stdout",
     "output_type": "stream",
     "text": [
      "468 /1499 : 6HlFxHQ5nn6HYGxOOYIrLm Thoughtless Korn Untouchables\n"
     ]
    },
    {
     "name": "stdout",
     "output_type": "stream",
     "text": [
      "469 /1499 : 7tEHwkn9Ym0lDbwKONHBvW Wake Up Hate Korn Untouchables\n"
     ]
    },
    {
     "name": "stdout",
     "output_type": "stream",
     "text": [
      "470 /1499 : 0keNORyUWidCWh1I0gli6D A Quick Break Kristofer Maddigan Cuphead (Original Soundtrack)\n"
     ]
    },
    {
     "name": "stdout",
     "output_type": "stream",
     "text": [
      "471 /1499 : 6xjSxW2xKQX60VQEuV5ce0 Admission to Perdition Kristofer Maddigan Cuphead (Original Soundtrack)\n"
     ]
    },
    {
     "name": "stdout",
     "output_type": "stream",
     "text": [
      "472 /1499 : 0lR96n5ReVvMnSpeymAHIh All Bets Are Off Kristofer Maddigan Cuphead (Original Soundtrack)\n"
     ]
    },
    {
     "name": "stdout",
     "output_type": "stream",
     "text": [
      "473 /1499 : 4fxY3i5FNyP3LUzixUS7CD Aviary Action Kristofer Maddigan Cuphead (Original Soundtrack)\n",
      "474 /1499 : 0YBHCNZipJmhgykFFInajM Botanic Panic Kristofer Maddigan Cuphead (Original Soundtrack)\n",
      "475 /1499 : 5AMlkhfcb7TEVghsY4ymdD Carnival Kerfuffle Kristofer Maddigan Cuphead (Original Soundtrack)\n"
     ]
    },
    {
     "name": "stdout",
     "output_type": "stream",
     "text": [
      "476 /1499 : 4HSbWc9sk1fi7CbCxjYvda Chief Evil Officer Kristofer Maddigan Cuphead (Original Soundtrack)\n"
     ]
    },
    {
     "name": "stdout",
     "output_type": "stream",
     "text": [
      "477 /1499 : 7uVpjihhrP2plvxnSzP6JY Clip Joint Calamity Kristofer Maddigan Cuphead (Original Soundtrack)\n"
     ]
    },
    {
     "name": "stdout",
     "output_type": "stream",
     "text": [
      "478 /1499 : 5MsrxyKk8Pwwij03I8QHDs Closing Credits Kristofer Maddigan Cuphead (Original Soundtrack)\n",
      "479 /1499 : 3xy2j2CjDQph91gUK71oHz Coin-Op Bop Kristofer Maddigan Cuphead (Original Soundtrack)\n",
      "480 /1499 : 3HpvQ7aZ5338LLRxPjUawN Die House Kristofer Maddigan Cuphead (Original Soundtrack)\n"
     ]
    },
    {
     "name": "stdout",
     "output_type": "stream",
     "text": [
      "481 /1499 : 55lscnv23cvuEyaf0xSxed Don't Deal with the Devil (Instrumental) Kristofer Maddigan Cuphead (Original Soundtrack)\n",
      "482 /1499 : 7Hd76FhngTrK6KK8TNVnFb Dramatic Fanatic Kristofer Maddigan Cuphead (Original Soundtrack)\n",
      "483 /1499 : 6ktFdl272RBi7uk8FTPeuQ Elder Kettle Kristofer Maddigan Cuphead (Original Soundtrack)\n"
     ]
    },
    {
     "name": "stdout",
     "output_type": "stream",
     "text": [
      "484 /1499 : 6oNYc9y8DfgEDh4HzPupAS Elder Kettle (Piano) Kristofer Maddigan Cuphead (Original Soundtrack)\n"
     ]
    },
    {
     "name": "stdout",
     "output_type": "stream",
     "text": [
      "485 /1499 : 02h2lqTc872LnYQ7TOFMmF Fiery Frolic Kristofer Maddigan Cuphead (Original Soundtrack)\n"
     ]
    },
    {
     "name": "stdout",
     "output_type": "stream",
     "text": [
      "486 /1499 : 3zD0YE28NZ9qTHvfVl6imU Floral Fury Kristofer Maddigan Cuphead (Original Soundtrack)\n"
     ]
    },
    {
     "name": "stdout",
     "output_type": "stream",
     "text": [
      "487 /1499 : 70THn7YYfyk1U4zozH3bUy Forest Follies Kristofer Maddigan Cuphead (Original Soundtrack)\n",
      "488 /1499 : 7sJxeev8KjB8HXjA4pxy3E Funfair Fever Kristofer Maddigan Cuphead (Original Soundtrack)\n"
     ]
    },
    {
     "name": "stdout",
     "output_type": "stream",
     "text": [
      "489 /1499 : 18glzC2ulLjpZAGRMt4eoA Funhouse Frazzle Kristofer Maddigan Cuphead (Original Soundtrack)\n",
      "490 /1499 : 33bdiZAAiUu9MkwELMztV2 High Score Kristofer Maddigan Cuphead (Original Soundtrack)\n"
     ]
    },
    {
     "name": "stdout",
     "output_type": "stream",
     "text": [
      "491 /1499 : 7MOLuGHl3msefPDQF8MeKG High Seas Hi-Jinx Kristofer Maddigan Cuphead (Original Soundtrack)\n"
     ]
    },
    {
     "name": "stdout",
     "output_type": "stream",
     "text": [
      "492 /1499 : 0nKZsdHAqChEd0jwynrfoW Honeycomb Herald Kristofer Maddigan Cuphead (Original Soundtrack)\n"
     ]
    },
    {
     "name": "stdout",
     "output_type": "stream",
     "text": [
      "493 /1499 : 2AvPs6sbcDQQgXhRgmUufp Hurry Up Kristofer Maddigan Cuphead (Original Soundtrack)\n",
      "494 /1499 : 4IIhfvn5exIXltV9sznYtR Inkwell Hell Kristofer Maddigan Cuphead (Original Soundtrack)\n",
      "495 /1499 : 0wdquw14LO4V24Oi5Fildy Inkwell Hell (Piano) Kristofer Maddigan Cuphead (Original Soundtrack)\n"
     ]
    },
    {
     "name": "stdout",
     "output_type": "stream",
     "text": [
      "496 /1499 : 6UehmCQPTPaZk5R0VXQ5eE Inkwell Isle One Kristofer Maddigan Cuphead (Original Soundtrack)\n"
     ]
    },
    {
     "name": "stdout",
     "output_type": "stream",
     "text": [
      "497 /1499 : 4mSI8DMnuj3JKXJwhaN9DM Inkwell Isle One (Piano) Kristofer Maddigan Cuphead (Original Soundtrack)\n"
     ]
    },
    {
     "name": "stdout",
     "output_type": "stream",
     "text": [
      "498 /1499 : 7MToKxeepujquHIVLya6jt Inkwell Isle Three Kristofer Maddigan Cuphead (Original Soundtrack)\n"
     ]
    },
    {
     "name": "stdout",
     "output_type": "stream",
     "text": [
      "499 /1499 : 6JLAE1sWylNmvJU7283CGE Inkwell Isle Three (Piano) Kristofer Maddigan Cuphead (Original Soundtrack)\n"
     ]
    },
    {
     "name": "stdout",
     "output_type": "stream",
     "text": [
      "500 /1499 : 2ZWRAljvtZIirVQWvcBGkD Inkwell Isle Two Kristofer Maddigan Cuphead (Original Soundtrack)\n"
     ]
    },
    {
     "name": "stdout",
     "output_type": "stream",
     "text": [
      "501 /1499 : 7IcqrOolPAgqxcK55hvqZk Inkwell Isle Two (Piano) Kristofer Maddigan Cuphead (Original Soundtrack)\n"
     ]
    },
    {
     "name": "stdout",
     "output_type": "stream",
     "text": [
      "502 /1499 : 2ufr0Gs4OWL1Uo22EsJDSx Introduction Kristofer Maddigan Cuphead (Original Soundtrack)\n"
     ]
    },
    {
     "name": "stdout",
     "output_type": "stream",
     "text": [
      "503 /1499 : 3LbC5JsZ1Sa4HGfhMFSS3o Junkyard Jive Kristofer Maddigan Cuphead (Original Soundtrack)\n"
     ]
    },
    {
     "name": "stdout",
     "output_type": "stream",
     "text": [
      "504 /1499 : 4TvuAd18ViTQJ19QAbezDT Legendary Ghost Kristofer Maddigan Cuphead (Original Soundtrack)\n"
     ]
    },
    {
     "name": "stdout",
     "output_type": "stream",
     "text": [
      "505 /1499 : 0HBseo5ADohKTaH6JK3rn1 Murine Corps Kristofer Maddigan Cuphead (Original Soundtrack)\n",
      "506 /1499 : 20KOgZJtB7XOButnyAsLQR Ominous Interlude Kristofer Maddigan Cuphead (Original Soundtrack)\n"
     ]
    },
    {
     "name": "stdout",
     "output_type": "stream",
     "text": [
      "507 /1499 : 2PMX8sBBrT0q7B4sQkBR7a One Hell of a Time Kristofer Maddigan Cuphead (Original Soundtrack)\n"
     ]
    },
    {
     "name": "stdout",
     "output_type": "stream",
     "text": [
      "Kristofer Maddigan Perilious Piers Cuphead not in spotify\n"
     ]
    },
    {
     "name": "stdout",
     "output_type": "stream",
     "text": [
      "509 /1499 : 5vUWXPgS8kCAOP4tZ0o6vI Porkrind's Shop Kristofer Maddigan Cuphead (Original Soundtrack)\n",
      "510 /1499 : 0MX6VvRcqrvJXRLzfZUOmk Pyramid Peril Kristofer Maddigan Cuphead (Original Soundtrack)\n"
     ]
    },
    {
     "name": "stdout",
     "output_type": "stream",
     "text": [
      "511 /1499 : 0v3uNqdn2dHuSCQLFperyZ Railroad Wrath Kristofer Maddigan Cuphead (Original Soundtrack)\n",
      "512 /1499 : 7yHJxwR8NEZZzjcTdPWq5e Rugged Ridge Kristofer Maddigan Cuphead (Original Soundtrack)\n"
     ]
    },
    {
     "name": "stdout",
     "output_type": "stream",
     "text": [
      "513 /1499 : 0dvxG9bYKI4ZUCYwcF3c5N Ruse of an Ooze Kristofer Maddigan Cuphead (Original Soundtrack)\n"
     ]
    },
    {
     "name": "stdout",
     "output_type": "stream",
     "text": [
      "514 /1499 : 4w4qrHEm4Olj1K070PKgvZ Shootin' 'n' Lootin' Kristofer Maddigan Cuphead (Original Soundtrack)\n"
     ]
    },
    {
     "name": "stdout",
     "output_type": "stream",
     "text": [
      "515 /1499 : 7eVPSl96DJOMSc9rIBn6ft Sugarland Shimmy Kristofer Maddigan Cuphead (Original Soundtrack)\n"
     ]
    },
    {
     "name": "stdout",
     "output_type": "stream",
     "text": [
      "516 /1499 : 3Mk62kPEDmcXpEvAM8ng72 The Airship Kristofer Maddigan Cuphead (Original Soundtrack)\n"
     ]
    },
    {
     "name": "stdout",
     "output_type": "stream",
     "text": [
      "517 /1499 : 6i6cXgQLeEH40MwUnaIxSJ The End Kristofer Maddigan Cuphead (Original Soundtrack)\n"
     ]
    },
    {
     "name": "stdout",
     "output_type": "stream",
     "text": [
      "518 /1499 : 3Q1ihQlFp9V9VDYxlWb25u The King's Court Kristofer Maddigan Cuphead (Original Soundtrack)\n"
     ]
    },
    {
     "name": "stdout",
     "output_type": "stream",
     "text": [
      "519 /1499 : 1MpjMyBxY45fY5mUaqrdxj The Mausoleum Kristofer Maddigan Cuphead (Original Soundtrack)\n",
      "520 /1499 : 3cShnBQsJ2zLR6iya0V3z1 Threatenin' Zeppelin Kristofer Maddigan Cuphead (Original Soundtrack)\n",
      "521 /1499 : 7D4cP3Hn1VepH9ZpcP0t8R Treetop Trouble Kristofer Maddigan Cuphead (Original Soundtrack)\n"
     ]
    },
    {
     "name": "stdout",
     "output_type": "stream",
     "text": [
      "522 /1499 : 3b283GyxalGqsqCqLNw8xR Tutorial Kristofer Maddigan Cuphead (Original Soundtrack)\n"
     ]
    },
    {
     "name": "stdout",
     "output_type": "stream",
     "text": [
      "523 /1499 : 4ZaUqU13ynXcIkfoznfU3n Victory Tune Kristofer Maddigan Cuphead (Original Soundtrack)\n"
     ]
    },
    {
     "name": "stdout",
     "output_type": "stream",
     "text": [
      "524 /1499 : 4JdlT1FxsyGCKqaWxcSEfI Winner Takes All Kristofer Maddigan Cuphead (Original Soundtrack)\n"
     ]
    },
    {
     "name": "stdout",
     "output_type": "stream",
     "text": [
      "525 /1499 : 3frUvGrmGcay91lvFbOgsN Like It Is Kygo Like It Is\n",
      "La P'tite Fumée Thunderbreizh N/A not in spotify\n"
     ]
    },
    {
     "name": "stdout",
     "output_type": "stream",
     "text": [
      "527 /1499 : 7yBbV2k2S2uhaQc24NF2xt Stupid Love Lady Gaga Chromatica\n"
     ]
    },
    {
     "name": "stdout",
     "output_type": "stream",
     "text": [
      "Lalo Schifrin Serenata Steal Away not in spotify\n"
     ]
    },
    {
     "name": "stdout",
     "output_type": "stream",
     "text": [
      "529 /1499 : 7LsdvPwmV18qhipmHcRF8A 512 Lamb of God VII: Sturm Und Drang (Deluxe)\n"
     ]
    },
    {
     "name": "stdout",
     "output_type": "stream",
     "text": [
      "530 /1499 : 2fQ2iALVbAZ7MkH6PaaIJ6 No Quarter - 1990 Remaster Led Zeppelin Houses of the Holy (1994 Remaster)\n"
     ]
    },
    {
     "name": "stdout",
     "output_type": "stream",
     "text": [
      "531 /1499 : 62p6fF2r4NY6pwZbxxvmr8 Fool in the Rain - 1990 Remaster Led Zeppelin In Through the out Door (1994 Remaster)\n"
     ]
    },
    {
     "name": "stdout",
     "output_type": "stream",
     "text": [
      "532 /1499 : 1rxD34LAtkafrMUHqHIV76 Bring It on Home - 2012 Remaster Led Zeppelin Led Zeppelin II (Remaster)\n"
     ]
    },
    {
     "name": "stdout",
     "output_type": "stream",
     "text": [
      "533 /1499 : 6WE7jSshLCuVKoCmobVKVf Heartbreaker - 1990 Remaster Led Zeppelin Led Zeppelin II (1994 Remaster)\n"
     ]
    },
    {
     "name": "stdout",
     "output_type": "stream",
     "text": [
      "534 /1499 : 49C6EGQhCUSgyADHYvJ7ez Living Loving Maid (She's Just a Woman) - 2012 Remaster Led Zeppelin Led Zeppelin II (Remaster)\n"
     ]
    },
    {
     "name": "stdout",
     "output_type": "stream",
     "text": [
      "535 /1499 : 0h2gzJQBt6duqZD6kWiz4s Moby Dick Led Zeppelin Led Zeppelin II (1994 Remaster)\n",
      "536 /1499 : 3MODES4TNtygekLl146Dxd Ramble On - 1990 Remaster Led Zeppelin Led Zeppelin II (1994 Remaster)\n"
     ]
    },
    {
     "name": "stdout",
     "output_type": "stream",
     "text": [
      "537 /1499 : 4ZkhFcoS3apzze9w2yI9NO Thank You - 1990 Remaster Led Zeppelin Led Zeppelin II (1994 Remaster)\n"
     ]
    },
    {
     "name": "stdout",
     "output_type": "stream",
     "text": [
      "538 /1499 : 5qbVkwfy0RYGFA6hAiIL90 The Lemon Song - 1993 Remaster Led Zeppelin Led Zeppelin II (1994 Remaster)\n"
     ]
    },
    {
     "name": "stdout",
     "output_type": "stream",
     "text": [
      "539 /1499 : 5G7uLHtoEW140QOcBpJlfz What Is and What Should Never Be - 1990 Remaster Led Zeppelin Led Zeppelin II (1994 Remaster)\n",
      "540 /1499 : 0hCB0YR03f6AmQaHbwWDe8 Whole Lotta Love - 1990 Remaster Led Zeppelin Led Zeppelin II (1994 Remaster)\n"
     ]
    },
    {
     "name": "stdout",
     "output_type": "stream",
     "text": [
      "541 /1499 : 78MXICbE7bD4cuPKFh1EFO Celebration Day - 2012 Remaster Led Zeppelin Led Zeppelin III (Remaster)\n"
     ]
    },
    {
     "name": "stdout",
     "output_type": "stream",
     "text": [
      "542 /1499 : 4PRGxHpCpF2yoOHYKQIEwD Rock and Roll - 2012 Remaster Led Zeppelin Led Zeppelin IV (Deluxe Edition; Remaster)\n"
     ]
    },
    {
     "name": "stdout",
     "output_type": "stream",
     "text": [
      "543 /1499 : 5tRb0Y2bloJGI8uskuAtRL Bonneville Leprous Malina\n"
     ]
    },
    {
     "name": "stdout",
     "output_type": "stream",
     "text": [
      "544 /1499 : 5Yd4WNmT89T5wsafIMRjfA Captive Leprous Malina\n",
      "545 /1499 : 3DsQZKycCle3aiZf6Tax3P Coma Leprous Malina\n"
     ]
    },
    {
     "name": "stdout",
     "output_type": "stream",
     "text": [
      "546 /1499 : 1tBxs9BqNlBXbIxVaCBrv5 From the Flame Leprous Malina\n"
     ]
    },
    {
     "name": "stdout",
     "output_type": "stream",
     "text": [
      "547 /1499 : 2N3vUnZi5Nj54ELyI8wAJ7 Illuminate Leprous Malina\n"
     ]
    },
    {
     "name": "stdout",
     "output_type": "stream",
     "text": [
      "548 /1499 : 43UDvLX76YlPWlXnMnzIUJ Leashes Leprous Malina\n"
     ]
    },
    {
     "name": "stdout",
     "output_type": "stream",
     "text": [
      "549 /1499 : 1tBxs9BqNlBXbIxVaCBrv5 From the Flame Leprous Malina\n"
     ]
    },
    {
     "name": "stdout",
     "output_type": "stream",
     "text": [
      "550 /1499 : 2v5frKIhRuyDA9lgaaesR6 Mirage Leprous Malina\n"
     ]
    },
    {
     "name": "stdout",
     "output_type": "stream",
     "text": [
      "551 /1499 : 74vy9v25MuoqNVBdAjGwJC Stuck Leprous Malina\n"
     ]
    },
    {
     "name": "stdout",
     "output_type": "stream",
     "text": [
      "552 /1499 : 2BeVytGUGVlT1vxFo0AowH The Last Milestone Leprous Malina\n"
     ]
    },
    {
     "name": "stdout",
     "output_type": "stream",
     "text": [
      "553 /1499 : 35OyuK76YVYWrokOGBA1Ln The Weight of Disaster Leprous Malina\n"
     ]
    },
    {
     "name": "stdout",
     "output_type": "stream",
     "text": [
      "554 /1499 : 0mdiu7UpUOr5Non3kZt4uO Down Leprous The Congregation\n"
     ]
    },
    {
     "name": "stdout",
     "output_type": "stream",
     "text": [
      "555 /1499 : 3IJVVQUPhLMlrr1cQu2u3B Lower Leprous The Congregation\n"
     ]
    },
    {
     "name": "stdout",
     "output_type": "stream",
     "text": [
      "556 /1499 : 2phdVu3rv0cAslwuG9Xydn Moon Leprous The Congregation\n"
     ]
    },
    {
     "name": "stdout",
     "output_type": "stream",
     "text": [
      "Leprous Pixel The Congregation not in spotify\n"
     ]
    },
    {
     "name": "stdout",
     "output_type": "stream",
     "text": [
      "558 /1499 : 1Cd0PU3AYHdd4tKGGmkIHx Red Leprous The Congregation\n"
     ]
    },
    {
     "name": "stdout",
     "output_type": "stream",
     "text": [
      "559 /1499 : 12NwYmQT1Mm7gkrCjIuq0d Rewind Leprous The Congregation\n"
     ]
    },
    {
     "name": "stdout",
     "output_type": "stream",
     "text": [
      "560 /1499 : 6RYWCMf5LvlUlgyYPTtplQ Slave Leprous The Congregation\n",
      "561 /1499 : 3ta3S0R3EZYW0pTcopZP5P The Flood Leprous The Congregation\n"
     ]
    },
    {
     "name": "stdout",
     "output_type": "stream",
     "text": [
      "562 /1499 : 134I0qT6UrkDjhbI6bx0x3 The Price Leprous The Congregation\n"
     ]
    },
    {
     "name": "stdout",
     "output_type": "stream",
     "text": [
      "563 /1499 : 77fpiSyauWmfvdQy2y02Bu Third Law Leprous The Congregation\n"
     ]
    },
    {
     "name": "stdout",
     "output_type": "stream",
     "text": [
      "564 /1499 : 44KzUMe9Kn2xVxD5v7jisb Triumphant Leprous The Congregation\n"
     ]
    },
    {
     "name": "stdout",
     "output_type": "stream",
     "text": [
      "565 /1499 : 2HA08a69UHthb1g8JMqkn3 Within My Fence Leprous The Congregation\n"
     ]
    },
    {
     "name": "stdout",
     "output_type": "stream",
     "text": [
      "566 /1499 : 60a0Rd6pjrkxjPbaKzXjfq In the End Linkin Park Hybrid Theory (Bonus Edition)\n"
     ]
    },
    {
     "name": "stdout",
     "output_type": "stream",
     "text": [
      "567 /1499 : 2nLtzopw4rPReszdYBJU6h Numb Linkin Park Meteora\n"
     ]
    },
    {
     "name": "stdout",
     "output_type": "stream",
     "text": [
      "Lipps Inc. Funkytown Mouth to Mouth not in spotify\n"
     ]
    },
    {
     "name": "stdout",
     "output_type": "stream",
     "text": [
      "569 /1499 : 0FVbbb6EDyCckexuU1QRD4 Undecided Ludivine Issambourg Outlaws\n"
     ]
    },
    {
     "name": "stdout",
     "output_type": "stream",
     "text": [
      "Luke Million Arnold N/A not in spotify\n"
     ]
    },
    {
     "name": "stdout",
     "output_type": "stream",
     "text": [
      "Luke Million Ice Ice Arnie (Cool Party) N/A not in spotify\n"
     ]
    },
    {
     "name": "stdout",
     "output_type": "stream",
     "text": [
      "Lynrd Skynrd Sweet Home Alabama Second Helping not in spotify\n"
     ]
    },
    {
     "name": "stdout",
     "output_type": "stream",
     "text": [
      "573 /1499 : 5U4ByJt0IvLu3bpF2DdDQT A Farewell to Arms Machine Head The Blackening\n"
     ]
    },
    {
     "name": "stdout",
     "output_type": "stream",
     "text": [
      "574 /1499 : 2dy8eXtNCrLcpT006adx5g Aesthetics of Hate Machine Head The Blackening\n"
     ]
    },
    {
     "name": "stdout",
     "output_type": "stream",
     "text": [
      "575 /1499 : 5Cs6AftcanvD6Ib7YJ1otT Beautiful Mourning Machine Head The Blackening\n"
     ]
    },
    {
     "name": "stdout",
     "output_type": "stream",
     "text": [
      "576 /1499 : 7ao9MKmhkjeFxw0alndkdM Clenching the Fists of Dissent Machine Head The Blackening\n"
     ]
    },
    {
     "name": "stdout",
     "output_type": "stream",
     "text": [
      "577 /1499 : 5nksa8EqKHSWO9WBj6DnmS Halo Machine Head The Blackening\n"
     ]
    },
    {
     "name": "stdout",
     "output_type": "stream",
     "text": [
      "578 /1499 : 65GqoNsz3q6GMW9AXjv8mz Now I Lay Thee Down Machine Head The Blackening\n"
     ]
    },
    {
     "name": "stdout",
     "output_type": "stream",
     "text": [
      "579 /1499 : 4tH51l243jr1ZIrdHgXlQm Slanderous Machine Head The Blackening\n"
     ]
    },
    {
     "name": "stdout",
     "output_type": "stream",
     "text": [
      "580 /1499 : 07xghD8AXeVlCHfnD18HM0 Wolves Machine Head The Blackening\n"
     ]
    },
    {
     "name": "stdout",
     "output_type": "stream",
     "text": [
      "Mahito Yokota Gusty Gardens Super Mario Galaxy not in spotify\n"
     ]
    },
    {
     "name": "stdout",
     "output_type": "stream",
     "text": [
      "Maître Gims Reste N/A not in spotify\n"
     ]
    },
    {
     "name": "stdout",
     "output_type": "stream",
     "text": [
      "583 /1499 : 49xRQ2i2OOAxdO8AaRzcoM I Can’t Breathe Marcus Miller Afrodeezia\n"
     ]
    },
    {
     "name": "stdout",
     "output_type": "stream",
     "text": [
      "584 /1499 : 7iyjZ4paFWpTrJJenM0yZb All Night Long Mary Jane Girls In My House\n"
     ]
    },
    {
     "name": "stdout",
     "output_type": "stream",
     "text": [
      "585 /1499 : 2HuMQkNVpFIsur2cRWWQmX Exchange Massive Attack Mezzanine\n"
     ]
    },
    {
     "name": "stdout",
     "output_type": "stream",
     "text": [
      "586 /1499 : 7uv632EkfwYhXoqf8rhYrg Angel Massive Attack Mezzanine\n"
     ]
    },
    {
     "name": "stdout",
     "output_type": "stream",
     "text": [
      "587 /1499 : 1Rezzt36ybaT2ZbDZpv83D Black Milk Massive Attack Mezzanine\n"
     ]
    },
    {
     "name": "stdout",
     "output_type": "stream",
     "text": [
      "588 /1499 : 0oeEqyEAavgPfFxDYvjAP6 Dissolved Girl Massive Attack Mezzanine\n"
     ]
    },
    {
     "name": "stdout",
     "output_type": "stream",
     "text": [
      "589 /1499 : 2HuMQkNVpFIsur2cRWWQmX Exchange Massive Attack Mezzanine\n"
     ]
    },
    {
     "name": "stdout",
     "output_type": "stream",
     "text": [
      "590 /1499 : 0pWrU4My52DJ75GnZKDlv8 Group Four Massive Attack Mezzanine\n",
      "591 /1499 : 3N2UhXZI4Gf64Ku3cCjz2g Inertia Creeps Massive Attack Mezzanine\n"
     ]
    },
    {
     "name": "stdout",
     "output_type": "stream",
     "text": [
      "592 /1499 : 2Tz5THgkMOQeaW6DlqAlIa Man Next Door Massive Attack Mezzanine\n"
     ]
    },
    {
     "name": "stdout",
     "output_type": "stream",
     "text": [
      "593 /1499 : 67Hna13dNDkZvBpTXRIaOJ Teardrop Massive Attack Mezzanine\n"
     ]
    },
    {
     "name": "stdout",
     "output_type": "stream",
     "text": [
      "594 /1499 : 6ggJ6MceyHGWtUg1KLp3M1 Risingson Massive Attack Mezzanine\n"
     ]
    },
    {
     "name": "stdout",
     "output_type": "stream",
     "text": [
      "595 /1499 : 67Hna13dNDkZvBpTXRIaOJ Teardrop Massive Attack Mezzanine\n"
     ]
    },
    {
     "name": "stdout",
     "output_type": "stream",
     "text": [
      "596 /1499 : 4Ynr1SPCeUI0W0YPeSFSIK Oblivion Mastodon Crack the Skye\n"
     ]
    },
    {
     "name": "stdout",
     "output_type": "stream",
     "text": [
      "597 /1499 : 6HZ8zBamcVKjO46vsLj9vh Divinations Mastodon Crack the Skye\n"
     ]
    },
    {
     "name": "stdout",
     "output_type": "stream",
     "text": [
      "598 /1499 : 2VzyWKHUmuxUq7J7I8wbng Ghost of Karelia Mastodon Crack the Skye\n"
     ]
    },
    {
     "name": "stdout",
     "output_type": "stream",
     "text": [
      "599 /1499 : 4Ynr1SPCeUI0W0YPeSFSIK Oblivion Mastodon Crack the Skye\n"
     ]
    },
    {
     "name": "stdout",
     "output_type": "stream",
     "text": [
      "600 /1499 : 7n2K9HW8OhwFpWEdzeYu79 Quintessence Mastodon Crack the Skye\n"
     ]
    },
    {
     "name": "stdout",
     "output_type": "stream",
     "text": [
      "601 /1499 : 2LMjQnKH7sQzOD0l8q6eWz The Czar: Usurper / Escape / Martyr / Spiral Mastodon Crack the Skye\n"
     ]
    },
    {
     "name": "stdout",
     "output_type": "stream",
     "text": [
      "602 /1499 : 6MUc3qu8WOqO7hAY6gdhJY The Last Baron Mastodon Crack the Skye\n"
     ]
    },
    {
     "name": "stdout",
     "output_type": "stream",
     "text": [
      "603 /1499 : 0k8CNAD5ADcMCOdTOMxUHk Ancient Kingdom Mastodon Emperor of Sand\n"
     ]
    },
    {
     "name": "stdout",
     "output_type": "stream",
     "text": [
      "604 /1499 : 6asbKxqMe9pxI3rxax74Yr Andromeda Mastodon Emperor of Sand\n"
     ]
    },
    {
     "name": "stdout",
     "output_type": "stream",
     "text": [
      "605 /1499 : 6ZWzCxc7bBSPYZPem17HbW Clandestiny Mastodon Emperor of Sand\n"
     ]
    },
    {
     "name": "stdout",
     "output_type": "stream",
     "text": [
      "606 /1499 : 7lGOFEVWK0jzpLMFuR4ANh Jaguar God Mastodon Emperor of Sand\n"
     ]
    },
    {
     "name": "stdout",
     "output_type": "stream",
     "text": [
      "607 /1499 : 4GPne3vf5okCDszbmeCUZz Precious Stones Mastodon Emperor of Sand\n"
     ]
    },
    {
     "name": "stdout",
     "output_type": "stream",
     "text": [
      "608 /1499 : 5llEJFL6NzKYgMTEb68XtL Roots Remain Mastodon Emperor of Sand\n"
     ]
    },
    {
     "name": "stdout",
     "output_type": "stream",
     "text": [
      "609 /1499 : 36dvfTxi43vTmGQOAnxsi5 Scorpion Breath Mastodon Emperor of Sand\n"
     ]
    },
    {
     "name": "stdout",
     "output_type": "stream",
     "text": [
      "610 /1499 : 1dfHpGeaXunLRNvzSZOZtc Show Yourself Mastodon Emperor of Sand\n"
     ]
    },
    {
     "name": "stdout",
     "output_type": "stream",
     "text": [
      "611 /1499 : 4Ut80ggQbyiJN2pGCs7VfB Steambreather Mastodon Emperor of Sand\n"
     ]
    },
    {
     "name": "stdout",
     "output_type": "stream",
     "text": [
      "612 /1499 : 4X5g2t99BTuLQIRdjGw1Fn Sultan's Curse Mastodon Emperor of Sand\n"
     ]
    },
    {
     "name": "stdout",
     "output_type": "stream",
     "text": [
      "613 /1499 : 2aYtAI8xvZLUTZPYZMC6ad Word to the Wise Mastodon Emperor of Sand\n"
     ]
    },
    {
     "name": "stdout",
     "output_type": "stream",
     "text": [
      "614 /1499 : 66IQ0mkE79F2G8UJoTZ8Wh All the Heavy Lifting Mastodon The Hunter\n"
     ]
    },
    {
     "name": "stdout",
     "output_type": "stream",
     "text": [
      "615 /1499 : 0ZUFpi7zB4fNwDR9QvCNAx Bedazzled Fingernails Mastodon The Hunter\n"
     ]
    },
    {
     "name": "stdout",
     "output_type": "stream",
     "text": [
      "616 /1499 : 0mc0SaUktWUvWuvLcsbGxo Black Tongue Mastodon The Hunter (Deluxe)\n"
     ]
    },
    {
     "name": "stdout",
     "output_type": "stream",
     "text": [
      "617 /1499 : 5Z1dxiIrZGvnViXtY7N8g9 Blasteroid Mastodon The Hunter (Deluxe)\n"
     ]
    },
    {
     "name": "stdout",
     "output_type": "stream",
     "text": [
      "618 /1499 : 0z6SMC3gEs3lc8SNKHWlCP Creature Lives Mastodon The Hunter\n"
     ]
    },
    {
     "name": "stdout",
     "output_type": "stream",
     "text": [
      "619 /1499 : 7hUKxjrojKK6r4wiO3G9iU Curl of the Burl Mastodon The Hunter (Deluxe)\n"
     ]
    },
    {
     "name": "stdout",
     "output_type": "stream",
     "text": [
      "620 /1499 : 6ydsoMOdkMhqWdKSVdKfG4 Dry Bone Valley Mastodon The Hunter\n"
     ]
    },
    {
     "name": "stdout",
     "output_type": "stream",
     "text": [
      "621 /1499 : 6ebcAa58q1QVhROAfFzUDV Octopus Has No Friends Mastodon The Hunter\n"
     ]
    },
    {
     "name": "stdout",
     "output_type": "stream",
     "text": [
      "622 /1499 : 3pH77UgKQ0kTQ92zQgIXxS Spectrelight Mastodon The Hunter (Deluxe)\n"
     ]
    },
    {
     "name": "stdout",
     "output_type": "stream",
     "text": [
      "623 /1499 : 3rcHLWmRsYKdbTgwMgCfRO Stargasm Mastodon The Hunter (Deluxe)\n"
     ]
    },
    {
     "name": "stdout",
     "output_type": "stream",
     "text": [
      "624 /1499 : 7hUKxjrojKK6r4wiO3G9iU Curl of the Burl Mastodon The Hunter (Deluxe)\n"
     ]
    },
    {
     "name": "stdout",
     "output_type": "stream",
     "text": [
      "625 /1499 : 6HrhyuJgFztW0PUkbki2C9 The Sparrow Mastodon The Hunter\n"
     ]
    },
    {
     "name": "stdout",
     "output_type": "stream",
     "text": [
      "626 /1499 : 3opV7fLdliwk9tXOkNOs27 Thickening Mastodon The Hunter\n"
     ]
    },
    {
     "name": "stdout",
     "output_type": "stream",
     "text": [
      "627 /1499 : 6uz6av7zptcxukBeOeyOUw Pavane for a Dead Princess in E Major Maurice Ravel Ravel: Valse Nobles and Sentimentale, Bolero, Rhapsody Espagnole & Pavane\n"
     ]
    },
    {
     "name": "stdout",
     "output_type": "stream",
     "text": [
      "628 /1499 : 1B75hgRqe7A4fwee3g3Wmu U Can't Touch This MC Hammer Please Hammer Don't Hurt 'Em\n"
     ]
    },
    {
     "name": "stdout",
     "output_type": "stream",
     "text": [
      "629 /1499 : 2g7gviEeJr6pyxO7G35EWQ Paradise By the Dashboard Light Meat Loaf Bat Out Of Hell\n"
     ]
    },
    {
     "name": "stdout",
     "output_type": "stream",
     "text": [
      "630 /1499 : 1BbocHcTYAu0wCS4NqgRsI Architecture Of Aggression Megadeth Countdown To Extinction\n"
     ]
    },
    {
     "name": "stdout",
     "output_type": "stream",
     "text": [
      "631 /1499 : 2Fkgr7LZTAjakkceB7PwN5 Ashes In Your Mouth - Remastered Megadeth Countdown To Extinction\n"
     ]
    },
    {
     "name": "stdout",
     "output_type": "stream",
     "text": [
      "632 /1499 : 3hUTwUiS7H79Po2hnErd8H Captive Honour Megadeth Countdown To Extinction\n"
     ]
    },
    {
     "name": "stdout",
     "output_type": "stream",
     "text": [
      "633 /1499 : 51TG9W3y9qyO8BY5RXKgnZ Symphony Of Destruction Megadeth Countdown To Extinction\n"
     ]
    },
    {
     "name": "stdout",
     "output_type": "stream",
     "text": [
      "634 /1499 : 4goJhfQRbNfYybpYf9xmbL Foreclosure Of A Dream - Remastered Megadeth Countdown To Extinction\n"
     ]
    },
    {
     "name": "stdout",
     "output_type": "stream",
     "text": [
      "635 /1499 : 0rzFlOXHVVmL8CvXPL0Fb3 High Speed Dirt Megadeth Countdown To Extinction\n"
     ]
    },
    {
     "name": "stdout",
     "output_type": "stream",
     "text": [
      "636 /1499 : 6HyVffzF6uXt9NHMgEkQpJ Psychotron Megadeth Countdown To Extinction\n"
     ]
    },
    {
     "name": "stdout",
     "output_type": "stream",
     "text": [
      "637 /1499 : 7EFho37SrizYaQ2NVxLejd Skin O' My Teeth - Remastered Megadeth Countdown To Extinction\n"
     ]
    },
    {
     "name": "stdout",
     "output_type": "stream",
     "text": [
      "638 /1499 : 6i7IXg8j7ZngiEOgBYjkhw Sweating Bullets - Remastered 2004 Megadeth Countdown To Extinction\n"
     ]
    },
    {
     "name": "stdout",
     "output_type": "stream",
     "text": [
      "639 /1499 : 51TG9W3y9qyO8BY5RXKgnZ Symphony Of Destruction Megadeth Countdown To Extinction\n"
     ]
    },
    {
     "name": "stdout",
     "output_type": "stream",
     "text": [
      "640 /1499 : 0Ad43GBuMZqdInDrwp2HHL This Was My Life Megadeth Countdown To Extinction\n"
     ]
    },
    {
     "name": "stdout",
     "output_type": "stream",
     "text": [
      "641 /1499 : 1IbxJ3jbvSLmaecRamvtui Bad Omen - Remastered Megadeth Peace Sells...But Who's Buying?\n"
     ]
    },
    {
     "name": "stdout",
     "output_type": "stream",
     "text": [
      "642 /1499 : 009aJqwtazpcpmOW3YbwDx Devils Island - Remastered Megadeth Peace Sells...But Who's Buying?\n"
     ]
    },
    {
     "name": "stdout",
     "output_type": "stream",
     "text": [
      "643 /1499 : 36gQBgUJjbRbrMTyQUNl56 Good Mourning / Black Friday - Remastered Megadeth Peace Sells...But Who's Buying?\n"
     ]
    },
    {
     "name": "stdout",
     "output_type": "stream",
     "text": [
      "644 /1499 : 43gM0PIvpgqv19nFZWRlN3 I Ain't Superstitious - Remastered Megadeth Peace Sells...But Who's Buying?\n"
     ]
    },
    {
     "name": "stdout",
     "output_type": "stream",
     "text": [
      "645 /1499 : 6VdoivAOy8oRR6Pmpw4Ux4 My Last Words - Remastered Megadeth Peace Sells...But Who's Buying?\n"
     ]
    },
    {
     "name": "stdout",
     "output_type": "stream",
     "text": [
      "646 /1499 : 5a2hIQWInPjqkkFiUEgxoX Peace Sells - Remastered Megadeth Peace Sells...But Who's Buying (25th Anniversary)\n"
     ]
    },
    {
     "name": "stdout",
     "output_type": "stream",
     "text": [
      "647 /1499 : 0pv49erP5wxMZMnprRCqXT The Conjuring - Remastered Megadeth Peace Sells...But Who's Buying?\n"
     ]
    },
    {
     "name": "stdout",
     "output_type": "stream",
     "text": [
      "648 /1499 : 1I3qfFMraXE0kAPtRERpok Wake Up Dead - Remastered Megadeth Peace Sells...But Who's Buying?\n"
     ]
    },
    {
     "name": "stdout",
     "output_type": "stream",
     "text": [
      "649 /1499 : 4NwFxag85AYdCel47a3Yhi Dawn Patrol - Remastered 2004 Megadeth Rust In Peace\n"
     ]
    },
    {
     "name": "stdout",
     "output_type": "stream",
     "text": [
      "650 /1499 : 3tISv448Ikxvpq2ZrFyGG2 Five Magics - Remastered 2004 Megadeth Rust In Peace\n"
     ]
    },
    {
     "name": "stdout",
     "output_type": "stream",
     "text": [
      "651 /1499 : 6b6uLZsoGhObYexIxnRbIb Hangar 18 - Remastered 2004 Megadeth Rust In Peace\n"
     ]
    },
    {
     "name": "stdout",
     "output_type": "stream",
     "text": [
      "652 /1499 : 5LyRtsQLhcXmy50VXhQXXS Holy Wars...The Punishment Due - Remastered 2004 Megadeth Rust In Peace\n"
     ]
    },
    {
     "name": "stdout",
     "output_type": "stream",
     "text": [
      "653 /1499 : 1Bi6Me45Xiqy4kYUGGwBTv Lucretia - Remastered 2004 Megadeth Rust In Peace\n"
     ]
    },
    {
     "name": "stdout",
     "output_type": "stream",
     "text": [
      "654 /1499 : 6bz32FHJGzO5SFYDnLBmG7 My Creation - Remastered 2004 Megadeth Rust In Peace\n"
     ]
    },
    {
     "name": "stdout",
     "output_type": "stream",
     "text": [
      "655 /1499 : 6HqnBoikcyjy7I1kbrfhlr Poison Was The Cure - Remastered 2004 Megadeth Rust In Peace\n"
     ]
    },
    {
     "name": "stdout",
     "output_type": "stream",
     "text": [
      "656 /1499 : 0803SWqmIJGvZ15B8zsewn Rust In Peace...Polaris - Remastered 2004 Megadeth Rust In Peace\n"
     ]
    },
    {
     "name": "stdout",
     "output_type": "stream",
     "text": [
      "657 /1499 : 1XFSSbQ9fApWNXZMAKllb6 Take No Prisoners - Remastered 2004 Megadeth Rust In Peace\n"
     ]
    },
    {
     "name": "stdout",
     "output_type": "stream",
     "text": [
      "658 /1499 : 4E5xVW505akJX0wcKj8Mpd Tornado Of Souls - Remastered 2004 Megadeth Rust In Peace\n"
     ]
    },
    {
     "name": "stdout",
     "output_type": "stream",
     "text": [
      "659 /1499 : 0LAcM6I7ijW4VVW0aytl1t One (Remastered) Metallica ...And Justice for All (Remastered Deluxe Box Set)\n"
     ]
    },
    {
     "name": "stdout",
     "output_type": "stream",
     "text": [
      "660 /1499 : 0M1pfDTZGWC7cBuEx3FwwT Blackened (Remastered) Metallica ...And Justice for All (Remastered)\n"
     ]
    },
    {
     "name": "stdout",
     "output_type": "stream",
     "text": [
      "661 /1499 : 4bAQzjDk9ONZ8gvm5YKEGE Dyers Eve (Remastered) Metallica ...And Justice for All (Remastered)\n"
     ]
    },
    {
     "name": "stdout",
     "output_type": "stream",
     "text": [
      "662 /1499 : 1WnEyhN7Gdu23DQvUZkQy8 Eye of the Beholder (Remastered) Metallica ...And Justice for All (Remastered Deluxe Box Set)\n"
     ]
    },
    {
     "name": "stdout",
     "output_type": "stream",
     "text": [
      "663 /1499 : 3IolN0Ae207i0Fr9IHuNbu Harvester of Sorrow (Remastered) Metallica ...And Justice for All (Remastered)\n"
     ]
    },
    {
     "name": "stdout",
     "output_type": "stream",
     "text": [
      "664 /1499 : 0LAcM6I7ijW4VVW0aytl1t One (Remastered) Metallica ...And Justice for All (Remastered Deluxe Box Set)\n"
     ]
    },
    {
     "name": "stdout",
     "output_type": "stream",
     "text": [
      "665 /1499 : 2ZTequNqaDxvv5N7tFrsl9 The Frayed Ends of Sanity (Remastered) Metallica ...And Justice for All (Remastered Deluxe Box Set)\n"
     ]
    },
    {
     "name": "stdout",
     "output_type": "stream",
     "text": [
      "666 /1499 : 2Rn5VhDVELkuB4BjZEVJKr The Shortest Straw (Remastered) Metallica ...And Justice for All (Remastered Deluxe Box Set)\n"
     ]
    },
    {
     "name": "stdout",
     "output_type": "stream",
     "text": [
      "667 /1499 : 1kI7gQPOHJRrQWMyDvYdUW To Live Is to Die (Remastered) Metallica ...And Justice for All (Remastered)\n"
     ]
    },
    {
     "name": "stdout",
     "output_type": "stream",
     "text": [
      "668 /1499 : 0PDThNPaf3ganx4PFmGznK Don't Tread On Me Metallica Metallica\n"
     ]
    },
    {
     "name": "stdout",
     "output_type": "stream",
     "text": [
      "669 /1499 : 5BIMPccDwShpXq784RJlJp Enter Sandman Metallica Metallica\n"
     ]
    },
    {
     "name": "stdout",
     "output_type": "stream",
     "text": [
      "670 /1499 : 1kaB0BvQEmwHeAzNh4jziT Holier Than Thou Metallica Metallica\n"
     ]
    },
    {
     "name": "stdout",
     "output_type": "stream",
     "text": [
      "671 /1499 : 6YwqziI3H71IMishKRTHHg My Friend Of Misery Metallica Metallica\n"
     ]
    },
    {
     "name": "stdout",
     "output_type": "stream",
     "text": [
      "672 /1499 : 10igKaIKsSB6ZnWxPxPvKO Nothing Else Matters Metallica Metallica\n"
     ]
    },
    {
     "name": "stdout",
     "output_type": "stream",
     "text": [
      "673 /1499 : 1cojSYj0ugS7tmcwKIxMX4 Of Wolf And Man Metallica Metallica\n"
     ]
    },
    {
     "name": "stdout",
     "output_type": "stream",
     "text": [
      "674 /1499 : 1Ug98CRiQYu7wiSym4uLY4 Sad But True Metallica Metallica\n",
      "675 /1499 : 0h26wQZD5GoSvK5zZuv69E The God That Failed Metallica Metallica\n"
     ]
    },
    {
     "name": "stdout",
     "output_type": "stream",
     "text": [
      "676 /1499 : 6RlsFZUCF3bU4NE7BjpDXr The Struggle Within Metallica Metallica\n"
     ]
    },
    {
     "name": "stdout",
     "output_type": "stream",
     "text": [
      "677 /1499 : 2lF8jQFhIjpmQa501sYXxR The Unforgiven Metallica Metallica\n"
     ]
    },
    {
     "name": "stdout",
     "output_type": "stream",
     "text": [
      "678 /1499 : 0K8hmlY7fVZLRp3R1JnWLT Through The Never Metallica Metallica\n"
     ]
    },
    {
     "name": "stdout",
     "output_type": "stream",
     "text": [
      "679 /1499 : 49rcSzMayJhIwGf0CJCaxJ Wherever I May Roam Metallica Metallica\n"
     ]
    },
    {
     "name": "stdout",
     "output_type": "stream",
     "text": [
      "680 /1499 : 4q9QVIaLqjbcoqeCfM2zan Creeping Death (Remastered) Metallica Ride The Lightning (Deluxe Remaster)\n"
     ]
    },
    {
     "name": "stdout",
     "output_type": "stream",
     "text": [
      "681 /1499 : 4SlFMlB9eD0Y48RXVp1ixR Escape (Remastered) Metallica Ride The Lightning (Deluxe Remaster)\n"
     ]
    },
    {
     "name": "stdout",
     "output_type": "stream",
     "text": [
      "682 /1499 : 0dqGfCMAGyDgpUAgLNOjWd Fade To Black (Remastered) Metallica Ride The Lightning (Deluxe Remaster)\n"
     ]
    },
    {
     "name": "stdout",
     "output_type": "stream",
     "text": [
      "683 /1499 : 0WSRrGVg1gO33MKIBPgBV2 Fight Fire With Fire (Remastered) Metallica Ride The Lightning (Deluxe Remaster)\n"
     ]
    },
    {
     "name": "stdout",
     "output_type": "stream",
     "text": [
      "684 /1499 : 51YZAJhOwIC5Gg3jMbAmhZ For Whom The Bell Tolls (Remastered) Metallica Ride The Lightning (Deluxe Remaster)\n"
     ]
    },
    {
     "name": "stdout",
     "output_type": "stream",
     "text": [
      "685 /1499 : 51YZAJhOwIC5Gg3jMbAmhZ For Whom The Bell Tolls (Remastered) Metallica Ride The Lightning (Deluxe Remaster)\n"
     ]
    },
    {
     "name": "stdout",
     "output_type": "stream",
     "text": [
      "686 /1499 : 1E2AfYuobMm18cKEoQaRob The Call Of Ktulu (Remastered) Metallica Ride The Lightning (Deluxe Remaster)\n"
     ]
    },
    {
     "name": "stdout",
     "output_type": "stream",
     "text": [
      "687 /1499 : 3lVAAVOkfNyCii1aLgH3JX Trapped Under Ice (Remastered) Metallica Ride The Lightning (Deluxe Remaster)\n"
     ]
    },
    {
     "name": "stdout",
     "output_type": "stream",
     "text": [
      "688 /1499 : 6sJT6EIer5VO2T05Qbg3cC Devil's Dance - Live with the SFSO Metallica S&M\n"
     ]
    },
    {
     "name": "stdout",
     "output_type": "stream",
     "text": [
      "689 /1499 : 6EmUlknZSc3QK8JSk7F2Qt For Whom The Bell Tolls - Live with the SFSO Metallica S&M\n"
     ]
    },
    {
     "name": "stdout",
     "output_type": "stream",
     "text": [
      "690 /1499 : 7yQP0dsMgIV5FJT94htpxe Fuel - Live with the SFSO Metallica S&M\n"
     ]
    },
    {
     "name": "stdout",
     "output_type": "stream",
     "text": [
      "691 /1499 : 0wFL6kJKvHY6t5OcOiAbCZ Master Of Puppets - Live with the SFSO Metallica S&M\n"
     ]
    },
    {
     "name": "stdout",
     "output_type": "stream",
     "text": [
      "692 /1499 : 0n4AllHzf3ma4ki20Y9h00 No Leaf Clover - Live with the SFSO Metallica S&M\n"
     ]
    },
    {
     "name": "stdout",
     "output_type": "stream",
     "text": [
      "693 /1499 : 0oYB2jJWFABCjNRY4KSZ9w Of Wolf And Man - Live with the SFSO Metallica S&M\n"
     ]
    },
    {
     "name": "stdout",
     "output_type": "stream",
     "text": [
      "694 /1499 : 7KLL4TSjeDuFo6VtM9gNWk The Call Of Ktulu - Live with the SFSO Metallica S&M\n"
     ]
    },
    {
     "name": "stdout",
     "output_type": "stream",
     "text": [
      "695 /1499 : 4jfrFYcMWGojddctOCCSjL The Memory Remains - Live with the SFSO Metallica S&M\n"
     ]
    },
    {
     "name": "stdout",
     "output_type": "stream",
     "text": [
      "696 /1499 : 37DziDjAAxRySqsYGNYBlW The Thing That Should Not Be - Live with the SFSO Metallica S&M\n"
     ]
    },
    {
     "name": "stdout",
     "output_type": "stream",
     "text": [
      "697 /1499 : 21VCYxPZ8A2XpSNUyQCT3B Another Part of Me - 2012 Remaster Michael Jackson Bad 25th Anniversary\n"
     ]
    },
    {
     "name": "stdout",
     "output_type": "stream",
     "text": [
      "698 /1499 : 2bCQHF9gdG5BNDVuEIEnNk Smooth Criminal - 2012 Remaster Michael Jackson Bad 25th Anniversary\n"
     ]
    },
    {
     "name": "stdout",
     "output_type": "stream",
     "text": [
      "699 /1499 : 3yBlJtq86wROQpHi1goEKT Dirty Diana - 2012 Remaster Michael Jackson Bad 25th Anniversary\n"
     ]
    },
    {
     "name": "stdout",
     "output_type": "stream",
     "text": [
      "700 /1499 : 2fytePz8UsbUr8n33QBEcm I Just Can't Stop Loving You (feat. Siedah Garrett) - 2012 Remaster Michael Jackson Bad 25th Anniversary\n"
     ]
    },
    {
     "name": "stdout",
     "output_type": "stream",
     "text": [
      "701 /1499 : 75Rv9SkGILm24kmhAYvjZg Just Good Friends - 2012 Remaster Michael Jackson Bad 25th Anniversary\n"
     ]
    },
    {
     "name": "stdout",
     "output_type": "stream",
     "text": [
      "702 /1499 : 2jQfozDpitT8lVEYoOjmeR Leave Me Alone - 2012 Remaster Michael Jackson Bad 25th Anniversary\n"
     ]
    },
    {
     "name": "stdout",
     "output_type": "stream",
     "text": [
      "703 /1499 : 5OoRmdDfAiDztSwrhe7wuE Liberian Girl - 2012 Remastered Version Michael Jackson Bad 25th Anniversary\n"
     ]
    },
    {
     "name": "stdout",
     "output_type": "stream",
     "text": [
      "704 /1499 : 1kiNatIrwDusOZfR29W0LJ Man in the Mirror - 2012 Remaster Michael Jackson Bad 25th Anniversary\n"
     ]
    },
    {
     "name": "stdout",
     "output_type": "stream",
     "text": [
      "705 /1499 : 2bCQHF9gdG5BNDVuEIEnNk Smooth Criminal - 2012 Remaster Michael Jackson Bad 25th Anniversary\n"
     ]
    },
    {
     "name": "stdout",
     "output_type": "stream",
     "text": [
      "706 /1499 : 2w7VEWHtt8WW88Yt5H9ibZ Speed Demon - 2012 Remaster Michael Jackson Bad 25th Anniversary\n"
     ]
    },
    {
     "name": "stdout",
     "output_type": "stream",
     "text": [
      "707 /1499 : 0sKlV58cODrjxGFOyf9IXY The Way You Make Me Feel - 2012 Remaster Michael Jackson Bad 25th Anniversary\n"
     ]
    },
    {
     "name": "stdout",
     "output_type": "stream",
     "text": [
      "708 /1499 : 6XYbMGvtl6tlPoGWaiH7EY Baby Be Mine Michael Jackson Thriller\n"
     ]
    },
    {
     "name": "stdout",
     "output_type": "stream",
     "text": [
      "709 /1499 : 1OOtq8tRnDM8kG2gqUPjAj Beat It - Single Version Michael Jackson Thriller 25 Super Deluxe Edition\n"
     ]
    },
    {
     "name": "stdout",
     "output_type": "stream",
     "text": [
      "710 /1499 : 5ChkMS8OtdzJeqyybCc9R5 Billie Jean Michael Jackson Thriller 25 Super Deluxe Edition\n"
     ]
    },
    {
     "name": "stdout",
     "output_type": "stream",
     "text": [
      "711 /1499 : 35lAjvsvS9k9HHuP1fjDT8 Human Nature Michael Jackson Thriller 25 Super Deluxe Edition\n"
     ]
    },
    {
     "name": "stdout",
     "output_type": "stream",
     "text": [
      "712 /1499 : 5lA3pwMkBdd24StM90QrNR P.Y.T. (Pretty Young Thing) Michael Jackson Thriller 25 Super Deluxe Edition\n"
     ]
    },
    {
     "name": "stdout",
     "output_type": "stream",
     "text": [
      "713 /1499 : 1diEQsD8PJC9hXB5Gpfgtn The Girl Is Mine (with Paul McCartney) Michael Jackson Thriller 25 Super Deluxe Edition\n",
      "714 /1499 : 07L1pzoVerhRSSaDGZHrKy The Lady in My Life Michael Jackson Thriller\n"
     ]
    },
    {
     "name": "stdout",
     "output_type": "stream",
     "text": [
      "715 /1499 : 5ChkMS8OtdzJeqyybCc9R5 Billie Jean Michael Jackson Thriller 25 Super Deluxe Edition\n"
     ]
    },
    {
     "name": "stdout",
     "output_type": "stream",
     "text": [
      "716 /1499 : 2kulOHR2XY6YDZCWXb38hn Wanna Be Startin' Somethin' Michael Jackson Thriller 25 Super Deluxe Edition\n"
     ]
    },
    {
     "name": "stdout",
     "output_type": "stream",
     "text": [
      "717 /1499 : 5jJ69cMDMC0aeWPjZo6VP2 Lampshades on Fire Modest Mouse Strangers to Ourselves\n"
     ]
    },
    {
     "name": "stdout",
     "output_type": "stream",
     "text": [
      "718 /1499 : 1hqrYSqvNc9x3BETX1cZhk Shout At The Devil Mötley Crüe Shout At The Devil\n",
      "719 /1499 : 3zsSvh8Pu3TiuXn5YdhZqz Requiem In D Minor, K.626: 1. Introitus: Requiem Wolfgang Amadeus Mozart Karajan - Mozart\n"
     ]
    },
    {
     "name": "stdout",
     "output_type": "stream",
     "text": [
      "720 /1499 : 7JU3UNQBit19qmCGG0tQej Requiem In D Minor, K 626 - 1. Introitus - Requiem Aeternam - 2. Kyrie Eleison Wolfgang Amadeus Mozart Mozart: Requiem\n"
     ]
    },
    {
     "name": "stdout",
     "output_type": "stream",
     "text": [
      "Mozart 3. Sequenta: Confutatis Requiem in D minor K 626 not in spotify\n"
     ]
    },
    {
     "name": "stdout",
     "output_type": "stream",
     "text": [
      "Mozart 3. Sequenta: Lacrimosa Requiem in D minor K 626 not in spotify\n"
     ]
    },
    {
     "name": "stdout",
     "output_type": "stream",
     "text": [
      "Mozart 3. Sequenta: Recordare Requiem in D minor K 626 not in spotify\n"
     ]
    },
    {
     "name": "stdout",
     "output_type": "stream",
     "text": [
      "Mozart 3. Sequenta: Rex tremendae Requiem in D minor K 626 not in spotify\n",
      "Mozart 3. Sequentia: Tubamirum Requiem in D minor K 626 not in spotify\n"
     ]
    },
    {
     "name": "stdout",
     "output_type": "stream",
     "text": [
      "Mozart 3a. Sequienta: Dies irae Requiem in D minor K 626 not in spotify\n"
     ]
    },
    {
     "name": "stdout",
     "output_type": "stream",
     "text": [
      "727 /1499 : 7rFbjvOVAjimxhIMVVatF6 Requiem In D Minor, K.626: 4. Offertorium: Domine Jesu Wolfgang Amadeus Mozart Karajan - Mozart\n"
     ]
    },
    {
     "name": "stdout",
     "output_type": "stream",
     "text": [
      "728 /1499 : 0x7uY2kKO4RVhajULRVNFo Requiem In D Minor, K.626: 4. Offertorium: Hostias Wolfgang Amadeus Mozart Karajan - Mozart\n"
     ]
    },
    {
     "name": "stdout",
     "output_type": "stream",
     "text": [
      "729 /1499 : 7rkakVQEVWVASpkamj7m8o Requiem In D Minor, K.626: 5. Sanctus Wolfgang Amadeus Mozart Karajan - Mozart\n"
     ]
    },
    {
     "name": "stdout",
     "output_type": "stream",
     "text": [
      "730 /1499 : 0HFIawlgXNMh01tMP3rur4 Requiem In D Minor, K.626: 6. Benedictus Wolfgang Amadeus Mozart Karajan - Mozart\n"
     ]
    },
    {
     "name": "stdout",
     "output_type": "stream",
     "text": [
      "731 /1499 : 0vRfuLHzBWqWnylAnifquI Requiem In D Minor, K.626: 7. Agnus Dei Wolfgang Amadeus Mozart Karajan - Mozart\n"
     ]
    },
    {
     "name": "stdout",
     "output_type": "stream",
     "text": [
      "732 /1499 : 6EkyeAw8TnpzH516EBWgW2 Requiem In D Minor, K.626: 8.Communio: Lux aeterna Wolfgang Amadeus Mozart Karajan - Mozart\n"
     ]
    },
    {
     "name": "stdout",
     "output_type": "stream",
     "text": [
      "733 /1499 : 6JnFVmPyJvjnfBag0hhIFa Assassin Muse Black Holes and Revelations\n"
     ]
    },
    {
     "name": "stdout",
     "output_type": "stream",
     "text": [
      "734 /1499 : 3Sno9FE8r2uz8QP0MtnTPL City of Delusion Muse Black Holes and Revelations\n"
     ]
    },
    {
     "name": "stdout",
     "output_type": "stream",
     "text": [
      "735 /1499 : 20vZII9Yu52czI9Fk4p39r Exo-Politics Muse Black Holes and Revelations\n"
     ]
    },
    {
     "name": "stdout",
     "output_type": "stream",
     "text": [
      "736 /1499 : 6IfitwQQ1Gu9g9QnLWDHRY Glorious Muse Black Holes and Revelations\n"
     ]
    },
    {
     "name": "stdout",
     "output_type": "stream",
     "text": [
      "737 /1499 : 0EkE0ripJ9OFNzvZANzo5C Hoodoo Muse Black Holes and Revelations\n"
     ]
    },
    {
     "name": "stdout",
     "output_type": "stream",
     "text": [
      "738 /1499 : 2zmR3FG7iOGDAdwrVPzdg9 Invincible Muse Black Holes and Revelations\n"
     ]
    },
    {
     "name": "stdout",
     "output_type": "stream",
     "text": [
      "739 /1499 : 7ouMYWpwJ422jRcDASZB7P Knights of Cydonia Muse Black Holes and Revelations\n"
     ]
    },
    {
     "name": "stdout",
     "output_type": "stream",
     "text": [
      "740 /1499 : 5YXr4AGfUQpLSxtFSsKUh6 Map of the Problematique Muse Black Holes and Revelations\n"
     ]
    },
    {
     "name": "stdout",
     "output_type": "stream",
     "text": [
      "741 /1499 : 6jH5aCuXgtygWpx7BF54at Soldier's Poem Muse Black Holes and Revelations\n"
     ]
    },
    {
     "name": "stdout",
     "output_type": "stream",
     "text": [
      "742 /1499 : 3skn2lauGk7Dx6bVIt5DVj Starlight Muse Black Holes and Revelations\n"
     ]
    },
    {
     "name": "stdout",
     "output_type": "stream",
     "text": [
      "743 /1499 : 3lPr8ghNDBLc2uZovNyLs9 Supermassive Black Hole Muse Black Holes and Revelations\n"
     ]
    },
    {
     "name": "stdout",
     "output_type": "stream",
     "text": [
      "744 /1499 : 4jrCMOG9OPe6iF4vWFxatb Take a Bow Muse Black Holes and Revelations\n"
     ]
    },
    {
     "name": "stdout",
     "output_type": "stream",
     "text": [
      "745 /1499 : 4Y7fEQ4PAzhlLnLviRw2P4 Rockin' in the Free World Neil Young Freedom\n"
     ]
    },
    {
     "name": "stdout",
     "output_type": "stream",
     "text": [
      "746 /1499 : 1vGmdXBUWksAsi2NlhMNwR Aeon Neurosis Through Silver In Blood\n"
     ]
    },
    {
     "name": "stdout",
     "output_type": "stream",
     "text": [
      "747 /1499 : 1BpIsdibg1tudFkLDPerzQ Become the Ocean Neurosis Through Silver In Blood\n"
     ]
    },
    {
     "name": "stdout",
     "output_type": "stream",
     "text": [
      "748 /1499 : 6LfseiBqkTtyONP8SztCcD Enclosure In Flame Neurosis Through Silver In Blood\n"
     ]
    },
    {
     "name": "stdout",
     "output_type": "stream",
     "text": [
      "749 /1499 : 56bAgMY066gE5GoWAqcxcg Eye Neurosis Through Silver In Blood\n"
     ]
    },
    {
     "name": "stdout",
     "output_type": "stream",
     "text": [
      "750 /1499 : 1Sb2dgS6ruZnJYNQ3SxLHd Locust Star Neurosis Through Silver In Blood\n"
     ]
    },
    {
     "name": "stdout",
     "output_type": "stream",
     "text": [
      "751 /1499 : 7lxlrqS1dCBmdAgXI4cR9P Purify Neurosis Through Silver In Blood\n"
     ]
    },
    {
     "name": "stdout",
     "output_type": "stream",
     "text": [
      "752 /1499 : 5BBfllI8hk4r2GK7bWtCzl Rehumanize Neurosis Through Silver In Blood\n"
     ]
    },
    {
     "name": "stdout",
     "output_type": "stream",
     "text": [
      "753 /1499 : 6O3NHOrGfwf7KXM1EsTtHf Strength of Fates Neurosis Through Silver In Blood\n"
     ]
    },
    {
     "name": "stdout",
     "output_type": "stream",
     "text": [
      "754 /1499 : 1Sb2dgS6ruZnJYNQ3SxLHd Locust Star Neurosis Through Silver In Blood\n"
     ]
    },
    {
     "name": "stdout",
     "output_type": "stream",
     "text": [
      "755 /1499 : 0gmbgwZ8iqyMPmXefof8Yf How You Remind Me Nickelback Silver Side Up\n"
     ]
    },
    {
     "name": "stdout",
     "output_type": "stream",
     "text": [
      "756 /1499 : 0F9006OrjS0L9w0e9dVeZA 7 Days to the Wolves Nightwish Dark Passion Play\n"
     ]
    },
    {
     "name": "stdout",
     "output_type": "stream",
     "text": [
      "757 /1499 : 1vzqcPRQ6P1Uw7NZ5M77wJ Amaranth Nightwish Dark Passion Play\n"
     ]
    },
    {
     "name": "stdout",
     "output_type": "stream",
     "text": [
      "758 /1499 : 0uzJU4LpKHBU1qrAhIJ4mY Bye Bye Beautiful Nightwish Dark Passion Play\n"
     ]
    },
    {
     "name": "stdout",
     "output_type": "stream",
     "text": [
      "759 /1499 : 52Fd9jBTFmqKBNm0gTmu8t Cadence of Her Last Breath Nightwish Dark Passion Play\n"
     ]
    },
    {
     "name": "stdout",
     "output_type": "stream",
     "text": [
      "760 /1499 : 0bWX6lLV1DgCW2KhXcQNAB Eva [Demo] Nightwish 'The Sounds of Nightwish Reborn: Early Demos for \"Dark Passion Play\" and B-Sides'\n"
     ]
    },
    {
     "name": "stdout",
     "output_type": "stream",
     "text": [
      "761 /1499 : 1jQHkVzpp96U6EbPTBE3Ha For the Heart I Once Had Nightwish Dark Passion Play\n"
     ]
    },
    {
     "name": "stdout",
     "output_type": "stream",
     "text": [
      "762 /1499 : 4LcsZa53i4Rx3duMU9ApkI Last of the Wilds Nightwish Dark Passion Play\n"
     ]
    },
    {
     "name": "stdout",
     "output_type": "stream",
     "text": [
      "763 /1499 : 5l2genxxVzjKbzHr0raAZP Master Passion Greed Nightwish Dark Passion Play\n"
     ]
    },
    {
     "name": "stdout",
     "output_type": "stream",
     "text": [
      "764 /1499 : 57jrg8U5c3NZUf87xQ8v9V Meadows of Heaven Nightwish Dark Passion Play\n"
     ]
    },
    {
     "name": "stdout",
     "output_type": "stream",
     "text": [
      "765 /1499 : 5E21wrJBYW6gQSwfrRQrOC Sahara Nightwish Dark Passion Play\n"
     ]
    },
    {
     "name": "stdout",
     "output_type": "stream",
     "text": [
      "766 /1499 : 4A1UYa2fFUevK7xW3aKD9L The Islander Nightwish Dark Passion Play\n"
     ]
    },
    {
     "name": "stdout",
     "output_type": "stream",
     "text": [
      "767 /1499 : 2Zr87XD5AeRko0ab9NIp79 The Poet and the Pendulum Nightwish Dark Passion Play\n"
     ]
    },
    {
     "name": "stdout",
     "output_type": "stream",
     "text": [
      "768 /1499 : 17TMhgqazTXD9jn9zEuClm Whoever Brings the Night Nightwish Dark Passion Play\n"
     ]
    },
    {
     "name": "stdout",
     "output_type": "stream",
     "text": [
      "769 /1499 : 6utuFCvF34xhmwwwFAYntF Endlessness Nightwish HUMAN. :II: NATURE.\n"
     ]
    },
    {
     "name": "stdout",
     "output_type": "stream",
     "text": [
      "770 /1499 : 06h4HxzQkqx45lCRxDe4lA Harvest Nightwish HUMAN. :II: NATURE.\n"
     ]
    },
    {
     "name": "stdout",
     "output_type": "stream",
     "text": [
      "771 /1499 : 6lkVbijlh932FSS2I0gDrR How's the Heart? Nightwish HUMAN. :II: NATURE.\n"
     ]
    },
    {
     "name": "stdout",
     "output_type": "stream",
     "text": [
      "772 /1499 : 49LQq6RoFTWFk5d6hBGEKt Music Nightwish HUMAN. :II: NATURE.\n"
     ]
    },
    {
     "name": "stdout",
     "output_type": "stream",
     "text": [
      "773 /1499 : 0RZVAhyB8vhxQz6ITjiuyA Noise Nightwish HUMAN. :II: NATURE.\n"
     ]
    },
    {
     "name": "stdout",
     "output_type": "stream",
     "text": [
      "774 /1499 : 1XcTT3XqNalzJMamAiIqOW Pan Nightwish HUMAN. :II: NATURE.\n"
     ]
    },
    {
     "name": "stdout",
     "output_type": "stream",
     "text": [
      "775 /1499 : 7aIxfEHjebCNbs6bpKv9Go Procession Nightwish HUMAN. :II: NATURE.\n"
     ]
    },
    {
     "name": "stdout",
     "output_type": "stream",
     "text": [
      "776 /1499 : 5xITcnqoMdILDBNCwHGr5v Shoemaker Nightwish HUMAN. :II: NATURE.\n"
     ]
    },
    {
     "name": "stdout",
     "output_type": "stream",
     "text": [
      "777 /1499 : 5tN4bKhtt6klkkB0GVt9i1 Tribal Nightwish HUMAN. :II: NATURE.\n"
     ]
    },
    {
     "name": "stdout",
     "output_type": "stream",
     "text": [
      "778 /1499 : 6yRTuuYsGhceeI1QQ9KfDQ Réseaux Niska NOUVEL AN RAP FR\n"
     ]
    },
    {
     "name": "stdout",
     "output_type": "stream",
     "text": [
      "779 /1499 : 4vJr55lngvhSM8WIh9CjQc Cemetery Gates Pantera Cowboys from Hell\n"
     ]
    },
    {
     "name": "stdout",
     "output_type": "stream",
     "text": [
      "780 /1499 : 2SgbR6ttzoNlCRGQOKjrop Cowboys from Hell Pantera Cowboys from Hell\n"
     ]
    },
    {
     "name": "stdout",
     "output_type": "stream",
     "text": [
      "781 /1499 : 769cLRTw2y6KRdkFWFkxtu Domination Pantera Cowboys from Hell\n"
     ]
    },
    {
     "name": "stdout",
     "output_type": "stream",
     "text": [
      "782 /1499 : 4c6yZLnA730uJgQf9fTW2M Heresy Pantera Cowboys from Hell\n"
     ]
    },
    {
     "name": "stdout",
     "output_type": "stream",
     "text": [
      "783 /1499 : 6lJJcUjhsp0TJRuzUIPOYO Primal Concrete Sledge Pantera Cowboys from Hell\n"
     ]
    },
    {
     "name": "stdout",
     "output_type": "stream",
     "text": [
      "784 /1499 : 5JCZHWdFLg2rXtg684rTHt Psycho Holiday Pantera Cowboys from Hell\n"
     ]
    },
    {
     "name": "stdout",
     "output_type": "stream",
     "text": [
      "785 /1499 : 5APqyicPSWwJgFH8D9a8i3 Shattered Pantera Cowboys from Hell\n"
     ]
    },
    {
     "name": "stdout",
     "output_type": "stream",
     "text": [
      "786 /1499 : 59dUIzMJxeMVzLDW7efLic Elusive Cure Paradise Lost Draconian Times\n"
     ]
    },
    {
     "name": "stdout",
     "output_type": "stream",
     "text": [
      "787 /1499 : 4tTLo644XcmhYRzpDZdnlb Enchantment - 2011 Remasterred Paradise Lost Draconian Times (Legacy Edition)\n"
     ]
    },
    {
     "name": "stdout",
     "output_type": "stream",
     "text": [
      "788 /1499 : 5OTOUyo18hGb3p1QeLOsp8 Forever Failure Paradise Lost Draconian Times\n"
     ]
    },
    {
     "name": "stdout",
     "output_type": "stream",
     "text": [
      "789 /1499 : 0ibuggkWTSDXHo25S0Qqvj Hallowed Land Paradise Lost Draconian Times\n"
     ]
    },
    {
     "name": "stdout",
     "output_type": "stream",
     "text": [
      "790 /1499 : 41eLsM7dWBxeHJg2mO5PYY Hands Of Reason Paradise Lost Draconian Times\n"
     ]
    },
    {
     "name": "stdout",
     "output_type": "stream",
     "text": [
      "791 /1499 : 4SlBn3adjzgtT0rEW1wdKJ I See Your Face Paradise Lost Draconian Times\n"
     ]
    },
    {
     "name": "stdout",
     "output_type": "stream",
     "text": [
      "792 /1499 : 4ojsxsOZL3HBXALCCQV2Dg Jaded Paradise Lost Draconian Times\n"
     ]
    },
    {
     "name": "stdout",
     "output_type": "stream",
     "text": [
      "793 /1499 : 613fYhrrubkEQAjkfHREt4 Once Solemn Paradise Lost Draconian Times\n"
     ]
    },
    {
     "name": "stdout",
     "output_type": "stream",
     "text": [
      "794 /1499 : 0e5X7i3AtGbg0P8Ui4RKVN Shades Of God Paradise Lost Draconian Times\n"
     ]
    },
    {
     "name": "stdout",
     "output_type": "stream",
     "text": [
      "795 /1499 : 4YdNlZSNrJhNCfqYhI1ENF Shadowkings Paradise Lost Draconian Times\n"
     ]
    },
    {
     "name": "stdout",
     "output_type": "stream",
     "text": [
      "796 /1499 : 76bUvHShiaBaCOpeMMP8F0 The Last Time Paradise Lost Draconian Times\n"
     ]
    },
    {
     "name": "stdout",
     "output_type": "stream",
     "text": [
      "797 /1499 : 7L4ruNa5TK7ykKr6zfBn6q Yearn For Change Paradise Lost Draconian Times\n"
     ]
    },
    {
     "name": "stdout",
     "output_type": "stream",
     "text": [
      "798 /1499 : 3R1DPDoWdFdPeBj4aLwqBo Bemyself - from Hansa Studios, Berlin Parcels Live Vol. 1\n"
     ]
    },
    {
     "name": "stdout",
     "output_type": "stream",
     "text": [
      "799 /1499 : 4Y668YELGKHZ36nfTE3eBu Closetowhy - from Hansa Studios, Berlin Parcels Live Vol. 1\n"
     ]
    },
    {
     "name": "stdout",
     "output_type": "stream",
     "text": [
      "800 /1499 : 6GQEhwaBBC1E2pzlRlGity Comedown - from Hansa Studios, Berlin Parcels Live Vol. 1\n"
     ]
    },
    {
     "name": "stdout",
     "output_type": "stream",
     "text": [
      "801 /1499 : 04YsaTosW9B6i4yaTp766U Elude - from Hansa Studios, Berlin Parcels Live Vol. 1\n"
     ]
    },
    {
     "name": "stdout",
     "output_type": "stream",
     "text": [
      "802 /1499 : 55ePH4TKRkvSBmg5kI8K1m Enter - from Hansa Studios, Berlin Parcels Live Vol. 1\n"
     ]
    },
    {
     "name": "stdout",
     "output_type": "stream",
     "text": [
      "803 /1499 : 2s7nxagCl9fnFUoNIQxjnp Everyroad - from Hansa Studios, Berlin Parcels Live Vol. 1\n"
     ]
    },
    {
     "name": "stdout",
     "output_type": "stream",
     "text": [
      "804 /1499 : 53ElE1J1DwuwVxpINXYJpb Gamesofluck - from Hansa Studios, Berlin Parcels Live Vol. 1\n"
     ]
    },
    {
     "name": "stdout",
     "output_type": "stream",
     "text": [
      "805 /1499 : 4M3MUIXtQLN2qRPcwcpHzW IknowhowIfeel - from Hansa Studios, Berlin Parcels Live Vol. 1\n"
     ]
    },
    {
     "name": "stdout",
     "output_type": "stream",
     "text": [
      "806 /1499 : 4l9uFziLnJgpdBoBqUtoum Intrude - from Hansa Studios, Berlin Parcels Live Vol. 1\n"
     ]
    },
    {
     "name": "stdout",
     "output_type": "stream",
     "text": [
      "807 /1499 : 0ZcOprrr9ubO9ORfjbHjsx Lightenup - from Hansa Studios, Berlin Parcels Live Vol. 1\n"
     ]
    },
    {
     "name": "stdout",
     "output_type": "stream",
     "text": [
      "808 /1499 : 0oEUagxKUH6rKFYlqNC7rz Myenemy - from Hansa Studios, Berlin Parcels Live Vol. 1\n"
     ]
    },
    {
     "name": "stdout",
     "output_type": "stream",
     "text": [
      "809 /1499 : 0ax2Np3bXCUXCcYmcX5x1x Overnight - from Hansa Studios, Berlin Parcels Live Vol. 1\n"
     ]
    },
    {
     "name": "stdout",
     "output_type": "stream",
     "text": [
      "810 /1499 : 0QugsGHunz3peiUxRg51WE Redline - from Hansa Studios, Berlin Parcels Live Vol. 1\n"
     ]
    },
    {
     "name": "stdout",
     "output_type": "stream",
     "text": [
      "811 /1499 : 35kZ2D9sADNOZ53zWOljkQ Retuned - from Hansa Studios, Berlin Parcels Live Vol. 1\n"
     ]
    },
    {
     "name": "stdout",
     "output_type": "stream",
     "text": [
      "812 /1499 : 4cyygA6kLAF2H6QqwmACHd Tieduprightnow - from Hansa Studios, Berlin Parcels Live Vol. 1\n"
     ]
    },
    {
     "name": "stdout",
     "output_type": "stream",
     "text": [
      "813 /1499 : 6VQDFodEZkjmfAqCCcVLOm Untried - from Hansa Studios, Berlin Parcels Live Vol. 1\n",
      "814 /1499 : 6GGXja13qA0BYNNAqgXQxS Withorwithout - from Hansa Studios, Berlin Parcels Live Vol. 1\n"
     ]
    },
    {
     "name": "stdout",
     "output_type": "stream",
     "text": [
      "815 /1499 : 2TeGrk8lm2DhSnAx63KAqv Yourfault - from Hansa Studios, Berlin Parcels Live Vol. 1\n"
     ]
    },
    {
     "name": "stdout",
     "output_type": "stream",
     "text": [
      "816 /1499 : 7lMFAK8dv0QkWpIlZcWQlJ Prey Parkway Drive Reverence\n"
     ]
    },
    {
     "name": "stdout",
     "output_type": "stream",
     "text": [
      "817 /1499 : 2jvuMDqBK04WvCYYz5qjvG Dogs Pink Floyd Animals\n"
     ]
    },
    {
     "name": "stdout",
     "output_type": "stream",
     "text": [
      "818 /1499 : 0gEaeqVRHPzRc7HMXtOKc7 Pigs (Three Different Ones) Pink Floyd Animals\n"
     ]
    },
    {
     "name": "stdout",
     "output_type": "stream",
     "text": [
      "819 /1499 : 7krbQbYq63hcwVMNW1R0tD A Pillow of Winds Pink Floyd Meddle\n"
     ]
    },
    {
     "name": "stdout",
     "output_type": "stream",
     "text": [
      "820 /1499 : 7kriFJLY2KOhw5en9iI2jb Echoes Pink Floyd Meddle\n"
     ]
    },
    {
     "name": "stdout",
     "output_type": "stream",
     "text": [
      "821 /1499 : 7AalBKBoLDR4UmRYRJpdbj Fearless Pink Floyd Meddle\n"
     ]
    },
    {
     "name": "stdout",
     "output_type": "stream",
     "text": [
      "822 /1499 : 6uU0Hu8oVk9gBihokcrDMH One of These Days Pink Floyd Meddle\n"
     ]
    },
    {
     "name": "stdout",
     "output_type": "stream",
     "text": [
      "823 /1499 : 3kbUFmLV5SHVQonfOpNgkd San Tropez Pink Floyd Meddle\n"
     ]
    },
    {
     "name": "stdout",
     "output_type": "stream",
     "text": [
      "824 /1499 : 05lNdqc6FhcsxCfS8lJzyE Seamus Pink Floyd Meddle\n"
     ]
    },
    {
     "name": "stdout",
     "output_type": "stream",
     "text": [
      "825 /1499 : 3Y8gNcoJu1uJ5L1BZuGvqB Astronomy Domine Pink Floyd The Piper at the Gates of Dawn\n"
     ]
    },
    {
     "name": "stdout",
     "output_type": "stream",
     "text": [
      "826 /1499 : 4gJrRkskBk1oyooA4qm67a Bike Pink Floyd The Piper at the Gates of Dawn\n"
     ]
    },
    {
     "name": "stdout",
     "output_type": "stream",
     "text": [
      "827 /1499 : 0j9iv7tRpEpTGSGpkCMJve Chapter 24 Pink Floyd The Piper at the Gates of Dawn\n"
     ]
    },
    {
     "name": "stdout",
     "output_type": "stream",
     "text": [
      "828 /1499 : 4r74qNo5usVTNhBZwo1Hg6 Flaming Pink Floyd The Piper at the Gates of Dawn\n"
     ]
    },
    {
     "name": "stdout",
     "output_type": "stream",
     "text": [
      "829 /1499 : 3xyTufSSGLP3oZnomceAVW Interstellar Overdrive Pink Floyd The Piper at the Gates of Dawn\n"
     ]
    },
    {
     "name": "stdout",
     "output_type": "stream",
     "text": [
      "830 /1499 : 0lT4imdjSzpCtooUccYAKj Lucifer Sam Pink Floyd The Piper at the Gates of Dawn\n"
     ]
    },
    {
     "name": "stdout",
     "output_type": "stream",
     "text": [
      "831 /1499 : 6SlI8JYwFaESqre47wrQZz Matilda Mother Pink Floyd The Piper at the Gates of Dawn\n"
     ]
    },
    {
     "name": "stdout",
     "output_type": "stream",
     "text": [
      "832 /1499 : 0X0SM0KFf88MFvvnJNmi6D Pow R. Toc H. Pink Floyd The Piper at the Gates of Dawn\n"
     ]
    },
    {
     "name": "stdout",
     "output_type": "stream",
     "text": [
      "833 /1499 : 1aV8FeJiQpZXFY35rLNNu0 The Scarecrow Pink Floyd The Piper at the Gates of Dawn\n"
     ]
    },
    {
     "name": "stdout",
     "output_type": "stream",
     "text": [
      "834 /1499 : 6q3URBXG6Tr9pMU0bOlvrc Take Up Thy Stethoscope and Walk Pink Floyd The Piper at the Gates of Dawn\n"
     ]
    },
    {
     "name": "stdout",
     "output_type": "stream",
     "text": [
      "835 /1499 : 1GqRmuG89ILDLcuAdcli6r The Gnome Pink Floyd The Piper at the Gates of Dawn\n"
     ]
    },
    {
     "name": "stdout",
     "output_type": "stream",
     "text": [
      "836 /1499 : 3CmHvyZQQAGkKkTjTBFWN6 Have a Cigar Pink Floyd Wish You Were Here\n"
     ]
    },
    {
     "name": "stdout",
     "output_type": "stream",
     "text": [
      "837 /1499 : 6pnwfWyaWjQiHCKTiZLItr Shine On You Crazy Diamond (Pts. 1-5) Pink Floyd Wish You Were Here\n"
     ]
    },
    {
     "name": "stdout",
     "output_type": "stream",
     "text": [
      "838 /1499 : 21j1PsCiTaO8ZW88UZrh3A Shine On You Crazy Diamond (Pts. 6-9) Pink Floyd Wish You Were Here\n"
     ]
    },
    {
     "name": "stdout",
     "output_type": "stream",
     "text": [
      "839 /1499 : 5VWC7v2dC2K0SIIjT9WTLN Welcome to the Machine Pink Floyd Wish You Were Here\n"
     ]
    },
    {
     "name": "stdout",
     "output_type": "stream",
     "text": [
      "840 /1499 : 6mFkJmJqdDVQ1REhVfGgd1 Wish You Were Here Pink Floyd Wish You Were Here\n"
     ]
    },
    {
     "name": "stdout",
     "output_type": "stream",
     "text": [
      "841 /1499 : 5IJbTPhcj0IjdzUaYqwe2I Stfu Pink Guy Pink Season\n"
     ]
    },
    {
     "name": "stdout",
     "output_type": "stream",
     "text": [
      "842 /1499 : 3dPmG97SN3qgYlkBA205x8 .3 Porcupine Tree In Absentia\n"
     ]
    },
    {
     "name": "stdout",
     "output_type": "stream",
     "text": [
      "843 /1499 : 2WObDBPZ4UZ8yBBf1R41QL Blackest Eyes Porcupine Tree In Absentia\n"
     ]
    },
    {
     "name": "stdout",
     "output_type": "stream",
     "text": [
      "Porcupine Tree Chloroform In Absentia not in spotify\n"
     ]
    },
    {
     "name": "stdout",
     "output_type": "stream",
     "text": [
      "845 /1499 : 31ZT15OJPYjl1kqLeWssC9 Collapse The Light Into Earth Porcupine Tree In Absentia\n"
     ]
    },
    {
     "name": "stdout",
     "output_type": "stream",
     "text": [
      "Porcupine Tree Drown With Me In Absentia not in spotify\n"
     ]
    },
    {
     "name": "stdout",
     "output_type": "stream",
     "text": [
      "847 /1499 : 49vKZifxRayUeUQ0TIEX0l Gravity Eyelids Porcupine Tree In Absentia\n"
     ]
    },
    {
     "name": "stdout",
     "output_type": "stream",
     "text": [
      "Porcupine Tree Heartattack in a Lay By In Absentia not in spotify\n"
     ]
    },
    {
     "name": "stdout",
     "output_type": "stream",
     "text": [
      "849 /1499 : 1UrogDOQaZOJbeiGDGqGwm Lips Of Ashes Porcupine Tree In Absentia\n"
     ]
    },
    {
     "name": "stdout",
     "output_type": "stream",
     "text": [
      "850 /1499 : 013rp6MswL21Cq25JorvOI Prodigal Porcupine Tree In Absentia\n"
     ]
    },
    {
     "name": "stdout",
     "output_type": "stream",
     "text": [
      "851 /1499 : 7ajEtAFkT5vPxx1YTePSz2 Strip The Soul Porcupine Tree In Absentia\n"
     ]
    },
    {
     "name": "stdout",
     "output_type": "stream",
     "text": [
      "852 /1499 : 2YF8IpCJWnrT0pZgZzehgH The Creator Has A Mastertape Porcupine Tree In Absentia\n"
     ]
    },
    {
     "name": "stdout",
     "output_type": "stream",
     "text": [
      "853 /1499 : 3OMCZSG5TbqJBKKRmtJciA The Sound Of Muzak Porcupine Tree In Absentia\n"
     ]
    },
    {
     "name": "stdout",
     "output_type": "stream",
     "text": [
      "854 /1499 : 5lBQ3mnWsYIt5aCdgz1U9n Trains Porcupine Tree In Absentia\n"
     ]
    },
    {
     "name": "stdout",
     "output_type": "stream",
     "text": [
      "855 /1499 : 4jiUX9HRDTbTgEIGHDarfr Wedding Nails Porcupine Tree In Absentia\n"
     ]
    },
    {
     "name": "stdout",
     "output_type": "stream",
     "text": [
      "856 /1499 : 6QgjcU0zLnzq5OrUoSZ3OK Feel It Still Portugal. The Man Woodstock\n"
     ]
    },
    {
     "name": "stdout",
     "output_type": "stream",
     "text": [
      "PostmodernJukebox Feel It Still N/A not in spotify\n"
     ]
    },
    {
     "name": "stdout",
     "output_type": "stream",
     "text": [
      "858 /1499 : 0KLhqAUHQli9bUNbS3KZtI Midnight Madonna Powerwolf Midnight Madonna\n"
     ]
    },
    {
     "name": "stdout",
     "output_type": "stream",
     "text": [
      "859 /1499 : 23vc53BVj9eqIBYwX5c07n Amen & Attack Powerwolf Preachers Of The Night\n"
     ]
    },
    {
     "name": "stdout",
     "output_type": "stream",
     "text": [
      "860 /1499 : 2TndNxhljDChvNEhMxCEgv Cardinal Sin Powerwolf Preachers Of The Night\n"
     ]
    },
    {
     "name": "stdout",
     "output_type": "stream",
     "text": [
      "861 /1499 : 0upmTdxGVCNNAbuJpadks9 Coleus Sanctus Powerwolf Preachers Of The Night\n"
     ]
    },
    {
     "name": "stdout",
     "output_type": "stream",
     "text": [
      "862 /1499 : 4LVAEVrwNja98sZwS3Busy Extatum Et Oratum Powerwolf Preachers Of The Night\n"
     ]
    },
    {
     "name": "stdout",
     "output_type": "stream",
     "text": [
      "863 /1499 : 7fxl1Bfxurjuk3QXCdH5i1 In The Name Of God (Deus Vult) Powerwolf Preachers Of The Night\n"
     ]
    },
    {
     "name": "stdout",
     "output_type": "stream",
     "text": [
      "864 /1499 : 7AJnfdIDMTd562jntLSq14 Kreuzfeuer Powerwolf Preachers Of The Night\n"
     ]
    },
    {
     "name": "stdout",
     "output_type": "stream",
     "text": [
      "865 /1499 : 4mvXJzYlZEEfSX2IQVltt9 Last Of The Living Dead Powerwolf Preachers Of The Night\n"
     ]
    },
    {
     "name": "stdout",
     "output_type": "stream",
     "text": [
      "866 /1499 : 5G4pwsu6vQZRdmyKtFdv6o Lust For Blood Powerwolf Preachers Of The Night\n"
     ]
    },
    {
     "name": "stdout",
     "output_type": "stream",
     "text": [
      "867 /1499 : 1scZvFoSgjh4HQMWOuHrCX Nochnoi Dozor Powerwolf Preachers Of The Night\n"
     ]
    },
    {
     "name": "stdout",
     "output_type": "stream",
     "text": [
      "868 /1499 : 4fX7lPaQ7LseZEps7n8Z05 Sacred & Wild Powerwolf Preachers Of The Night\n"
     ]
    },
    {
     "name": "stdout",
     "output_type": "stream",
     "text": [
      "869 /1499 : 0O6EnLpGRBJdlStNI0SaKu Secrets Of The Sacristy Powerwolf Preachers Of The Night\n"
     ]
    },
    {
     "name": "stdout",
     "output_type": "stream",
     "text": [
      "870 /1499 : 5cJJZFR8CtHn5CdKLr17d6 Demons Are A Girl's Best Friend Powerwolf The Sacrament Of Sin\n"
     ]
    },
    {
     "name": "stdout",
     "output_type": "stream",
     "text": [
      "871 /1499 : 1dUcOJpZ7xpkNXf4fQ5fEn Fire & Forgive Powerwolf The Sacrament Of Sin\n"
     ]
    },
    {
     "name": "stdout",
     "output_type": "stream",
     "text": [
      "872 /1499 : 1fnckMhEAO3Jq3FnJM95Dk Fist By Fist (Sacralize Or Strike) Powerwolf The Sacrament Of Sin\n"
     ]
    },
    {
     "name": "stdout",
     "output_type": "stream",
     "text": [
      "873 /1499 : 0OIjj9Y5Dk4MlFsyJBzJIa Incense & Iron Powerwolf The Sacrament Of Sin\n"
     ]
    },
    {
     "name": "stdout",
     "output_type": "stream",
     "text": [
      "874 /1499 : 3wtpaQOe6GU5fAGLnK2DU5 Killers With The Cross Powerwolf The Sacrament Of Sin\n",
      "875 /1499 : 28RK2aM4j8H4KDDFsXqfxl Nightside Of Siberia Powerwolf The Sacrament Of Sin\n"
     ]
    },
    {
     "name": "stdout",
     "output_type": "stream",
     "text": [
      "876 /1499 : 0hQ98GODPQHRbGGID6nQB0 Nighttime Rebel Powerwolf The Sacrament Of Sin\n"
     ]
    },
    {
     "name": "stdout",
     "output_type": "stream",
     "text": [
      "877 /1499 : 2mSzmhARhyT9Al1sBNtaLT Stossgebet Powerwolf The Sacrament Of Sin\n"
     ]
    },
    {
     "name": "stdout",
     "output_type": "stream",
     "text": [
      "878 /1499 : 5cJJZFR8CtHn5CdKLr17d6 Demons Are A Girl's Best Friend Powerwolf The Sacrament Of Sin\n"
     ]
    },
    {
     "name": "stdout",
     "output_type": "stream",
     "text": [
      "879 /1499 : 6RAjSwY938yVMZ3yI2PbMt Venom Of Venus Powerwolf The Sacrament Of Sin\n"
     ]
    },
    {
     "name": "stdout",
     "output_type": "stream",
     "text": [
      "880 /1499 : 10oVEkkcmaZvOCOAQozPwP Where The Wild Wolves Have Gone Powerwolf The Sacrament Of Sin\n"
     ]
    },
    {
     "name": "stdout",
     "output_type": "stream",
     "text": [
      "881 /1499 : 62LJFaYihsdVrrkgUOJC05 Kiss Prince Parade - Music from the Motion Picture Under the Cherry Moon\n"
     ]
    },
    {
     "name": "stdout",
     "output_type": "stream",
     "text": [
      "882 /1499 : 5DS5aMoVYgmZkULtzN6VCv Hymn for a Droid Psychedelic Porn Crumpets And Now for the Whatchamacallit\n"
     ]
    },
    {
     "name": "stdout",
     "output_type": "stream",
     "text": [
      "883 /1499 : 3038NH8wdXx0owuMdVTTrI ..and the Addled Abstraction of Being Psychedelic Porn Crumpets High Visceral, Pt. 1\n"
     ]
    },
    {
     "name": "stdout",
     "output_type": "stream",
     "text": [
      "884 /1499 : 2SPI1dXVaZvR4qlwbzxdcC Cornflake Psychedelic Porn Crumpets High Visceral, Pt. 1\n"
     ]
    },
    {
     "name": "stdout",
     "output_type": "stream",
     "text": [
      "885 /1499 : 6pmnLlu0OhMNFXEEgkiYEX Cubensis Lenses Psychedelic Porn Crumpets High Visceral, Pt. 1\n"
     ]
    },
    {
     "name": "stdout",
     "output_type": "stream",
     "text": [
      "886 /1499 : 7sP57RtB31LWReHyQ02RxX Denmark / Van Gogh & Gone Psychedelic Porn Crumpets High Visceral, Pt. 1\n"
     ]
    },
    {
     "name": "stdout",
     "output_type": "stream",
     "text": [
      "887 /1499 : 61iUB6sUL3ARJ0phDHaCGK Entropy Psychedelic Porn Crumpets High Visceral, Pt. 1\n"
     ]
    },
    {
     "name": "stdout",
     "output_type": "stream",
     "text": [
      "888 /1499 : 4xBFKgS6VAmpmeoG0WJ9Pl Found God in a Tomato Psychedelic Porn Crumpets High Visceral, Pt. 1\n"
     ]
    },
    {
     "name": "stdout",
     "output_type": "stream",
     "text": [
      "889 /1499 : 2acY3t1ZKAi3t6xVjWVktd Gallop to Southport Psychedelic Porn Crumpets High Visceral, Pt. 1\n"
     ]
    },
    {
     "name": "stdout",
     "output_type": "stream",
     "text": [
      "890 /1499 : 4xBFKgS6VAmpmeoG0WJ9Pl Found God in a Tomato Psychedelic Porn Crumpets High Visceral, Pt. 1\n"
     ]
    },
    {
     "name": "stdout",
     "output_type": "stream",
     "text": [
      "891 /1499 : 19n2inOfXSxHlBuygEdCZV Marmalade March Psychedelic Porn Crumpets High Visceral, Pt. 1\n"
     ]
    },
    {
     "name": "stdout",
     "output_type": "stream",
     "text": [
      "892 /1499 : 0NBcMaT9LFP0CQ87NqTiVC Surf's Up Psychedelic Porn Crumpets High Visceral, Pt. 1\n"
     ]
    },
    {
     "name": "stdout",
     "output_type": "stream",
     "text": [
      "Pulko Du Lourd N/A not in spotify\n"
     ]
    },
    {
     "name": "stdout",
     "output_type": "stream",
     "text": [
      "894 /1499 : 6oj8xg1wYiHRSmqAUBFz2g Drowse Queen A Day At The Races\n"
     ]
    },
    {
     "name": "stdout",
     "output_type": "stream",
     "text": [
      "895 /1499 : 1mnQiO568zXIrUncttTZGp Good Old-Fashioned Lover Boy - 2011 Mix Queen A Day At The Races (Deluxe Remastered Version)\n"
     ]
    },
    {
     "name": "stdout",
     "output_type": "stream",
     "text": [
      "896 /1499 : 2tc0VhzN6l23HE3HEzSCQC Long Away - Remastered 2011 Queen A Day At The Races (Deluxe Remastered Version)\n"
     ]
    },
    {
     "name": "stdout",
     "output_type": "stream",
     "text": [
      "897 /1499 : 6cFZ4PLC19taNlpl9pbGMf Somebody To Love - 2011 Mix Queen A Day At The Races (Deluxe Remastered Version)\n"
     ]
    },
    {
     "name": "stdout",
     "output_type": "stream",
     "text": [
      "898 /1499 : 33sQQjtuxeH7q3ia53jJ5E Teo Torriatte (Let Us Cling Together) - 2011 Mix Queen A Day At The Races (Deluxe Remastered Version)\n"
     ]
    },
    {
     "name": "stdout",
     "output_type": "stream",
     "text": [
      "899 /1499 : 5K0Rhne6C8Fkt4Az5fBcRJ The Millionaire Waltz - Remastered 2011 Queen A Day At The Races (Deluxe Remastered Version)\n"
     ]
    },
    {
     "name": "stdout",
     "output_type": "stream",
     "text": [
      "900 /1499 : 6K8gEgGkOyD1wFY3kAcyOy Tie Your Mother Down - Remastered 2011 Queen A Day At The Races (Deluxe Remastered Version)\n"
     ]
    },
    {
     "name": "stdout",
     "output_type": "stream",
     "text": [
      "901 /1499 : 6A7eSUTtKFW7v3BzCDVakR White Man - Remastered 2011 Queen A Day At The Races (Deluxe Remastered Version)\n"
     ]
    },
    {
     "name": "stdout",
     "output_type": "stream",
     "text": [
      "902 /1499 : 6pnhzWVuH12mZKQ5IQ2laD You And I - Remastered 2011 Queen A Day At The Races (Deluxe Remastered Version)\n"
     ]
    },
    {
     "name": "stdout",
     "output_type": "stream",
     "text": [
      "903 /1499 : 0JR1UPExSwwEvTRub1SZI3 You Take My Breath Away - Remastered 2011 Queen A Day At The Races (Deluxe Remastered Version)\n"
     ]
    },
    {
     "name": "stdout",
     "output_type": "stream",
     "text": [
      "904 /1499 : 1EID0aupOLdv4ZDQu2Jbrz I'm In Love With My Car - Remastered 2011 Queen A Night At The Opera (Deluxe Remastered Version)\n"
     ]
    },
    {
     "name": "stdout",
     "output_type": "stream",
     "text": [
      "905 /1499 : 7h2yhVxcZOGyQdOwD4Hu8J I Want To Break Free - Remastered 2011 Queen The Works (Deluxe Remastered Version)\n"
     ]
    },
    {
     "name": "stdout",
     "output_type": "stream",
     "text": [
      "906 /1499 : 68DKrU7sTyDpDA5T3dsOlk You Think I Ain't Worth A Dollar, But I Feel Like A Millionaire Queens of the Stone Age Songs For The Deaf\n"
     ]
    },
    {
     "name": "stdout",
     "output_type": "stream",
     "text": [
      "907 /1499 : 2ZOTtG7v1OrSNs6EINIGb4 Black Betty Ram Jam The Very Best Of Ram Jam\n"
     ]
    },
    {
     "name": "stdout",
     "output_type": "stream",
     "text": [
      "908 /1499 : 2MU8UF0bdK8BuYV1cBWVZL Asche zu Asche Rammstein Herzeleid\n"
     ]
    },
    {
     "name": "stdout",
     "output_type": "stream",
     "text": [
      "909 /1499 : 2mVn9Mbfcwi6ANldHKpsg1 Das alte Leid Rammstein Herzeleid\n"
     ]
    },
    {
     "name": "stdout",
     "output_type": "stream",
     "text": [
      "910 /1499 : 3UrljRJrISV3hfiSVm0zQD Der Meister Rammstein Herzeleid\n"
     ]
    },
    {
     "name": "stdout",
     "output_type": "stream",
     "text": [
      "911 /1499 : 73se54LukI1xEPE8XKsrWf Du riechst so gut Rammstein Herzeleid\n"
     ]
    },
    {
     "name": "stdout",
     "output_type": "stream",
     "text": [
      "912 /1499 : 1KLyMQwUeIPJaXn7wgdeNW Heirate mich Rammstein Herzeleid\n"
     ]
    },
    {
     "name": "stdout",
     "output_type": "stream",
     "text": [
      "913 /1499 : 73se54LukI1xEPE8XKsrWf Du riechst so gut Rammstein Herzeleid\n"
     ]
    },
    {
     "name": "stdout",
     "output_type": "stream",
     "text": [
      "914 /1499 : 7BQWcPnFAlkPVxJQAf20aq Laichzeit Rammstein Herzeleid\n"
     ]
    },
    {
     "name": "stdout",
     "output_type": "stream",
     "text": [
      "915 /1499 : 5sQlA2pLHBBrn5UkYclNrQ Rammstein Rammstein Herzeleid\n"
     ]
    },
    {
     "name": "stdout",
     "output_type": "stream",
     "text": [
      "916 /1499 : 1hpvWM9tt5hvbezWq84ETB Seemann Rammstein Herzeleid\n"
     ]
    },
    {
     "name": "stdout",
     "output_type": "stream",
     "text": [
      "917 /1499 : 6mTY75g7EkgvIuoE02eYIG Weisses Fleisch Rammstein Herzeleid\n"
     ]
    },
    {
     "name": "stdout",
     "output_type": "stream",
     "text": [
      "918 /1499 : 14CVBGaoD5k3VC9Qmz5imZ Wollt ihr das Bett in Flammen sehen Rammstein Herzeleid\n"
     ]
    },
    {
     "name": "stdout",
     "output_type": "stream",
     "text": [
      "919 /1499 : 7rOPeDJ9zeLDRfZowRK8qB Adios Rammstein Mutter\n"
     ]
    },
    {
     "name": "stdout",
     "output_type": "stream",
     "text": [
      "920 /1499 : 73JZKk0nb1WOUmh1Eo3Unc Feuer frei! Rammstein Mutter\n"
     ]
    },
    {
     "name": "stdout",
     "output_type": "stream",
     "text": [
      "921 /1499 : 1SlMYQmLe0yNEvBIfaPTAW Ich will Rammstein Mutter\n"
     ]
    },
    {
     "name": "stdout",
     "output_type": "stream",
     "text": [
      "922 /1499 : 2bEOoGCjJJVf60y3aKgXcn Links 2 3 4 Rammstein Mutter\n"
     ]
    },
    {
     "name": "stdout",
     "output_type": "stream",
     "text": [
      "923 /1499 : 1ryMgu0CnRSseTYpvMDOLD Mein Herz brennt Rammstein Mutter\n"
     ]
    },
    {
     "name": "stdout",
     "output_type": "stream",
     "text": [
      "924 /1499 : 73JZKk0nb1WOUmh1Eo3Unc Feuer frei! Rammstein Mutter\n"
     ]
    },
    {
     "name": "stdout",
     "output_type": "stream",
     "text": [
      "925 /1499 : 0Jcjqx0IPMmK7se9Qn0B54 Nebel Rammstein Mutter\n"
     ]
    },
    {
     "name": "stdout",
     "output_type": "stream",
     "text": [
      "926 /1499 : 1qlTeIhNofXvNYy4appFOC Rein raus Rammstein Mutter\n"
     ]
    },
    {
     "name": "stdout",
     "output_type": "stream",
     "text": [
      "927 /1499 : 4w3R0GZ2rScJMKlgPJzHRq Sonne Rammstein Mutter\n"
     ]
    },
    {
     "name": "stdout",
     "output_type": "stream",
     "text": [
      "928 /1499 : 2YfSQPgeAkhNjFwm3qJbSx Spieluhr Rammstein Mutter\n"
     ]
    },
    {
     "name": "stdout",
     "output_type": "stream",
     "text": [
      "929 /1499 : 5NSoxlB4utD51hYMAZpIdV Zwitter Rammstein Mutter\n"
     ]
    },
    {
     "name": "stdout",
     "output_type": "stream",
     "text": [
      "930 /1499 : 15f16lrsDzFeNpHYBTzHLI SEX Rammstein RAMMSTEIN\n"
     ]
    },
    {
     "name": "stdout",
     "output_type": "stream",
     "text": [
      "931 /1499 : 33ayEZDfgARpadIdqo87JQ AMERIKA Rammstein Reise, Reise\n"
     ]
    },
    {
     "name": "stdout",
     "output_type": "stream",
     "text": [
      "932 /1499 : 4tNIRQkZwbtXPVYtaYDiTd AMOUR Rammstein Reise, Reise\n"
     ]
    },
    {
     "name": "stdout",
     "output_type": "stream",
     "text": [
      "933 /1499 : 50VqNIbwCOPVtXuWSWjdOY DALAI LAMA Rammstein Reise, Reise\n"
     ]
    },
    {
     "name": "stdout",
     "output_type": "stream",
     "text": [
      "934 /1499 : 29YDZUNKvBI2I64TvLj1Wt KEINE LUST Rammstein Reise, Reise\n"
     ]
    },
    {
     "name": "stdout",
     "output_type": "stream",
     "text": [
      "935 /1499 : 679Tyyun9r41BvpDOTAAOo LOS Rammstein Reise, Reise\n"
     ]
    },
    {
     "name": "stdout",
     "output_type": "stream",
     "text": [
      "936 /1499 : 2OQRceDfxBfmwTEmNOSpFq MEIN TEIL Rammstein Reise, Reise\n"
     ]
    },
    {
     "name": "stdout",
     "output_type": "stream",
     "text": [
      "937 /1499 : 6qNtBTcJTKlP88CdAvUGw4 MORGENSTERN Rammstein Reise, Reise\n"
     ]
    },
    {
     "name": "stdout",
     "output_type": "stream",
     "text": [
      "938 /1499 : 0k8LXt5uJ5O07BhSvnvjkY MOSKAU Rammstein Reise, Reise\n"
     ]
    },
    {
     "name": "stdout",
     "output_type": "stream",
     "text": [
      "939 /1499 : 4Hruh5C0Ef3y8mIcns5Y1O OHNE DICH Rammstein Reise, Reise\n"
     ]
    },
    {
     "name": "stdout",
     "output_type": "stream",
     "text": [
      "940 /1499 : 33ayEZDfgARpadIdqo87JQ AMERIKA Rammstein Reise, Reise\n"
     ]
    },
    {
     "name": "stdout",
     "output_type": "stream",
     "text": [
      "941 /1499 : 7KiB7d1EkC0YM2OAQGACML STEIN UM STEIN Rammstein Reise, Reise\n"
     ]
    },
    {
     "name": "stdout",
     "output_type": "stream",
     "text": [
      "942 /1499 : 1Q94WI2punbv0tABeSch7n BENZIN Rammstein ROSENROT\n"
     ]
    },
    {
     "name": "stdout",
     "output_type": "stream",
     "text": [
      "943 /1499 : 4L4oCtdmqjxS8AjkzjLGDQ EIN LIED Rammstein ROSENROT\n"
     ]
    },
    {
     "name": "stdout",
     "output_type": "stream",
     "text": [
      "944 /1499 : 48LYcLfuBtTfKD6DLlyOyj FEUER UND WASSER Rammstein ROSENROT\n"
     ]
    },
    {
     "name": "stdout",
     "output_type": "stream",
     "text": [
      "945 /1499 : 12oRvm1xzDO56HlpEnm0JH HILF MIR Rammstein ROSENROT\n"
     ]
    },
    {
     "name": "stdout",
     "output_type": "stream",
     "text": [
      "946 /1499 : 6UHXHzMYvpatBSPK7hxQR5 MANN GEGEN MANN Rammstein ROSENROT\n"
     ]
    },
    {
     "name": "stdout",
     "output_type": "stream",
     "text": [
      "947 /1499 : 7u018epVcYPTPVKCWAemLP ROSENROT Rammstein ROSENROT\n"
     ]
    },
    {
     "name": "stdout",
     "output_type": "stream",
     "text": [
      "948 /1499 : 2SPsfOz23D2rOeRdhSKZOR SPRING Rammstein ROSENROT\n"
     ]
    },
    {
     "name": "stdout",
     "output_type": "stream",
     "text": [
      "949 /1499 : 3f1Pyzzn7GWBWNpx0vXqjF STIRB NICHT VOR MIR (DON'T DIE BEFORE I DO) Rammstein ROSENROT\n"
     ]
    },
    {
     "name": "stdout",
     "output_type": "stream",
     "text": [
      "950 /1499 : 4hLS1e3mrL0gbm8BqX1VvN TE QUIERO PUTA! Rammstein ROSENROT\n"
     ]
    },
    {
     "name": "stdout",
     "output_type": "stream",
     "text": [
      "951 /1499 : 3xiYn2FVh7XOlhb8pBrELg WO BIST DU Rammstein ROSENROT\n"
     ]
    },
    {
     "name": "stdout",
     "output_type": "stream",
     "text": [
      "952 /1499 : 3sc9J5yO4vMKIP41UcKB8I ZERSTÖREN Rammstein ROSENROT\n"
     ]
    },
    {
     "name": "stdout",
     "output_type": "stream",
     "text": [
      "953 /1499 : 1ilqu0y37Kl1sgF4jfIkle Alter Mann Rammstein Sehnsucht\n"
     ]
    },
    {
     "name": "stdout",
     "output_type": "stream",
     "text": [
      "954 /1499 : 0G7gu8m9HuYX3vAAz2gcFi Bestrafe mich Rammstein Sehnsucht\n"
     ]
    },
    {
     "name": "stdout",
     "output_type": "stream",
     "text": [
      "955 /1499 : 0SCkN2QprWk02svK0HCZ2n Bück dich Rammstein Sehnsucht\n"
     ]
    },
    {
     "name": "stdout",
     "output_type": "stream",
     "text": [
      "956 /1499 : 6uEvFCaOqXyEidoO8BZbyh Du hast Rammstein Sehnsucht\n"
     ]
    },
    {
     "name": "stdout",
     "output_type": "stream",
     "text": [
      "957 /1499 : 07CUEJZd1N8NFKcIeHiFbR Eifersucht Rammstein Sehnsucht\n"
     ]
    },
    {
     "name": "stdout",
     "output_type": "stream",
     "text": [
      "958 /1499 : 0xQZkTxb49QpopIZQhKJUY Engel Rammstein Sehnsucht\n"
     ]
    },
    {
     "name": "stdout",
     "output_type": "stream",
     "text": [
      "959 /1499 : 5pRKNboeEfPCaitVvh7F8S Klavier Rammstein Sehnsucht\n"
     ]
    },
    {
     "name": "stdout",
     "output_type": "stream",
     "text": [
      "960 /1499 : 21lHn1YDJIcM695Lob0l0R Küss mich (Fellfrosch) Rammstein Sehnsucht\n"
     ]
    },
    {
     "name": "stdout",
     "output_type": "stream",
     "text": [
      "961 /1499 : 6uEvFCaOqXyEidoO8BZbyh Du hast Rammstein Sehnsucht\n"
     ]
    },
    {
     "name": "stdout",
     "output_type": "stream",
     "text": [
      "962 /1499 : 5tNhreO6L8kfvQSqPjuGUg Spiel mit mir Rammstein Sehnsucht\n"
     ]
    },
    {
     "name": "stdout",
     "output_type": "stream",
     "text": [
      "963 /1499 : 2mJabhCPoHBA7a6uLLbDlV Tier Rammstein Sehnsucht\n"
     ]
    },
    {
     "name": "stdout",
     "output_type": "stream",
     "text": [
      "964 /1499 : 48UPSzbZjgc449aqz8bxox Californication Red Hot Chili Peppers Californication (Deluxe Edition)\n"
     ]
    },
    {
     "name": "stdout",
     "output_type": "stream",
     "text": [
      "965 /1499 : 1G391cbiT3v3Cywg8T7DM1 Scar Tissue Red Hot Chili Peppers Californication (Deluxe Edition)\n"
     ]
    },
    {
     "name": "stdout",
     "output_type": "stream",
     "text": [
      "966 /1499 : 3SoDB59Y7dSZLSDBiNJ6o2 Charlie Red Hot Chili Peppers Stadium Arcadium\n"
     ]
    },
    {
     "name": "stdout",
     "output_type": "stream",
     "text": [
      "967 /1499 : 10Nmj3JCNoMeBQ87uw5j8k Dani California Red Hot Chili Peppers Stadium Arcadium\n"
     ]
    },
    {
     "name": "stdout",
     "output_type": "stream",
     "text": [
      "968 /1499 : 1ylzYcU6FGnuBqqdqqH7QL Especially in Michigan Red Hot Chili Peppers Stadium Arcadium\n"
     ]
    },
    {
     "name": "stdout",
     "output_type": "stream",
     "text": [
      "969 /1499 : 5f2ZVFERwwh3asebmurZEf Hump de Bump Red Hot Chili Peppers Stadium Arcadium\n",
      "970 /1499 : 3gvyksxkLbyKwi0WjCiPXE She's Only 18 Red Hot Chili Peppers Stadium Arcadium\n"
     ]
    },
    {
     "name": "stdout",
     "output_type": "stream",
     "text": [
      "971 /1499 : 06wTEKL2rSrSaOjFtgG8fj Slow Cheetah Red Hot Chili Peppers Stadium Arcadium\n"
     ]
    },
    {
     "name": "stdout",
     "output_type": "stream",
     "text": [
      "972 /1499 : 2aibwv5hGXSgw7Yru8IYTO Snow (Hey Oh) Red Hot Chili Peppers Stadium Arcadium\n"
     ]
    },
    {
     "name": "stdout",
     "output_type": "stream",
     "text": [
      "973 /1499 : 2aibwv5hGXSgw7Yru8IYTO Snow (Hey Oh) Red Hot Chili Peppers Stadium Arcadium\n"
     ]
    },
    {
     "name": "stdout",
     "output_type": "stream",
     "text": [
      "974 /1499 : 0J3ytriezGZ3KCREfHKDOI Strip My Mind Red Hot Chili Peppers Stadium Arcadium\n"
     ]
    },
    {
     "name": "stdout",
     "output_type": "stream",
     "text": [
      "975 /1499 : 5ZISTTuh3YIBtYsCvBKk5w Torture Me Red Hot Chili Peppers Stadium Arcadium\n"
     ]
    },
    {
     "name": "stdout",
     "output_type": "stream",
     "text": [
      "976 /1499 : 4nriBQlagNNqEfkvHFVWVz Baby-Sitting Blues Renaud Mistral gagnant\n"
     ]
    },
    {
     "name": "stdout",
     "output_type": "stream",
     "text": [
      "977 /1499 : 6jO6o0h4BjZqqGCetHpYln Fatigué Renaud Mistral gagnant\n"
     ]
    },
    {
     "name": "stdout",
     "output_type": "stream",
     "text": [
      "978 /1499 : 1ZlG9VQSUfSw0gJBzy7eEV La pêche à la ligne Renaud Mistral gagnant\n",
      "979 /1499 : 4KL0TurAerOq7bnGiFRm0z Le retour de la pépette Renaud Mistral gagnant\n"
     ]
    },
    {
     "name": "stdout",
     "output_type": "stream",
     "text": [
      "980 /1499 : 3mrD89s4Ua9IS3Aw5kxMU7 Miss Maggie Renaud Mistral gagnant\n"
     ]
    },
    {
     "name": "stdout",
     "output_type": "stream",
     "text": [
      "981 /1499 : 1MOSRjdAbUhvLNnHCdUEL5 Mistral gagnant Renaud Mistral gagnant\n"
     ]
    },
    {
     "name": "stdout",
     "output_type": "stream",
     "text": [
      "982 /1499 : 6yb2oQW16NzCT1o8p0q5y9 Morts les enfants Renaud Mistral gagnant\n"
     ]
    },
    {
     "name": "stdout",
     "output_type": "stream",
     "text": [
      "983 /1499 : 4yksBrqsVlu6D5EgfEo9cC P'tite conne Renaud Mistral gagnant\n"
     ]
    },
    {
     "name": "stdout",
     "output_type": "stream",
     "text": [
      "984 /1499 : 3LvcjcEsF1y1zX39Yhz6ds Si t'es mon pote Renaud Mistral gagnant\n"
     ]
    },
    {
     "name": "stdout",
     "output_type": "stream",
     "text": [
      "985 /1499 : 2kdaKCgDmuFyFAS534yG8w Trois matelots Renaud Mistral gagnant\n"
     ]
    },
    {
     "name": "stdout",
     "output_type": "stream",
     "text": [
      "986 /1499 : 04O7ZO0DIjFhv5Pl1wYiLf Tu vas au bal ? Renaud Mistral gagnant\n"
     ]
    },
    {
     "name": "stdout",
     "output_type": "stream",
     "text": [
      "987 /1499 : 0wHNrrefyaeVewm4NxjxrX Make It Stop (September's Children) Rise Against Endgame\n"
     ]
    },
    {
     "name": "stdout",
     "output_type": "stream",
     "text": [
      "988 /1499 : 605hJIiMrdsUjr4Vx4BFD6 Demon Speeding Rob Zombie The Sinister Urge\n"
     ]
    },
    {
     "name": "stdout",
     "output_type": "stream",
     "text": [
      "989 /1499 : 4vV1A6xSDVLLPTJUrSZfVP Hanuman Rodrigo y Gabriela 11:11\n"
     ]
    },
    {
     "name": "stdout",
     "output_type": "stream",
     "text": [
      "990 /1499 : 5wQ8dSNPB7lwUVpnw0U7Xp Atman Rodrigo y Gabriela 11:11\n"
     ]
    },
    {
     "name": "stdout",
     "output_type": "stream",
     "text": [
      "991 /1499 : 09ysr2pWxrEh3IJbf3CBvQ Buster Voodoo Rodrigo y Gabriela 11:11\n"
     ]
    },
    {
     "name": "stdout",
     "output_type": "stream",
     "text": [
      "992 /1499 : 3S0FGjHiAsUKkBpx5JlDte Chac Mool Rodrigo y Gabriela 11:11\n"
     ]
    },
    {
     "name": "stdout",
     "output_type": "stream",
     "text": [
      "993 /1499 : 4vV1A6xSDVLLPTJUrSZfVP Hanuman Rodrigo y Gabriela 11:11\n"
     ]
    },
    {
     "name": "stdout",
     "output_type": "stream",
     "text": [
      "994 /1499 : 115JzfyejuiiTxp58fbNBm Hora Zero Rodrigo y Gabriela 11:11\n"
     ]
    },
    {
     "name": "stdout",
     "output_type": "stream",
     "text": [
      "995 /1499 : 35U4iSvtTGNOt59JCCYm1p Logos Rodrigo y Gabriela 11:11\n"
     ]
    },
    {
     "name": "stdout",
     "output_type": "stream",
     "text": [
      "996 /1499 : 6vyVG1z8oIqzsa0aPyFM9j Master Maqui Rodrigo y Gabriela 11:11\n"
     ]
    },
    {
     "name": "stdout",
     "output_type": "stream",
     "text": [
      "997 /1499 : 1i032xEoQs2zwpTgklW3MT Santo Domingo Rodrigo y Gabriela 11:11\n"
     ]
    },
    {
     "name": "stdout",
     "output_type": "stream",
     "text": [
      "998 /1499 : 5LVUpkPaxVnJW4ODhYFZUP Savitri Rodrigo y Gabriela 11:11\n"
     ]
    },
    {
     "name": "stdout",
     "output_type": "stream",
     "text": [
      "999 /1499 : 676WlameCUrDNuJhnT1Cjz Triveni Rodrigo y Gabriela 11:11\n"
     ]
    },
    {
     "name": "stdout",
     "output_type": "stream",
     "text": [
      "Roi Heenok Hybride Exo N/A not in spotify\n"
     ]
    },
    {
     "name": "stdout",
     "output_type": "stream",
     "text": [
      "1001/1499 : 62VWmsNoDmqT0Mj9oHHFVh Strasbourg / St. Denis Roy Hargrove Earfood\n"
     ]
    },
    {
     "name": "stdout",
     "output_type": "stream",
     "text": [
      "1002/1499 : 4zvXVO0SrMYIMHVGdOm0DA 82nd All the Way Sabaton The Great War\n"
     ]
    },
    {
     "name": "stdout",
     "output_type": "stream",
     "text": [
      "1003/1499 : 6wWnwIrwPV32hKQouXpasL A Ghost in the Trenches Sabaton The Great War\n"
     ]
    },
    {
     "name": "stdout",
     "output_type": "stream",
     "text": [
      "1004/1499 : 0pjIkwwUFLCGqLY90Jp3bH Devil Dogs Sabaton The Great War\n"
     ]
    },
    {
     "name": "stdout",
     "output_type": "stream",
     "text": [
      "1005/1499 : 2VS1jveuhfU7Latlgfh62T Fields of Verdun Sabaton The Great War\n"
     ]
    },
    {
     "name": "stdout",
     "output_type": "stream",
     "text": [
      "1006/1499 : 4fmr8c3rh0dUKjw14UGfaH Great War Sabaton The Great War\n"
     ]
    },
    {
     "name": "stdout",
     "output_type": "stream",
     "text": [
      "1007/1499 : 5RhPNWj5NCJO0rYYpvban5 In Flanders Fields Sabaton The Great War\n"
     ]
    },
    {
     "name": "stdout",
     "output_type": "stream",
     "text": [
      "1008/1499 : 6kiASFX63DwJ7grwKG2HUX Seven Pillars of Wisdom Sabaton The Great War\n"
     ]
    },
    {
     "name": "stdout",
     "output_type": "stream",
     "text": [
      "1009/1499 : 2K2NeVnP853rkR5ese8ZLP The Attack of the Dead Men Sabaton The Great War\n"
     ]
    },
    {
     "name": "stdout",
     "output_type": "stream",
     "text": [
      "1010/1499 : 6aQBOvi6WUZK1l62Umun8L The End of the War to End All Wars Sabaton The Great War\n"
     ]
    },
    {
     "name": "stdout",
     "output_type": "stream",
     "text": [
      "1011/1499 : 25UznYxMoMzQd4S963GMkp The Future of Warfare Sabaton The Great War\n"
     ]
    },
    {
     "name": "stdout",
     "output_type": "stream",
     "text": [
      "1012/1499 : 0ePmfd8y7g4zs3E6ew7pDB The Red Baron Sabaton The Great War\n"
     ]
    },
    {
     "name": "stdout",
     "output_type": "stream",
     "text": [
      "SAINt JHN Roses (Imanbek Remix) N/A not in spotify\n"
     ]
    },
    {
     "name": "stdout",
     "output_type": "stream",
     "text": [
      "Santo & Johnny All Night Dinner Santo & Johnny not in spotify\n"
     ]
    },
    {
     "name": "stdout",
     "output_type": "stream",
     "text": [
      "1015/1499 : 0fi3vArO7ismoCMn2x8rbZ Blue Moon Santo & Johnny Golden Memory\n"
     ]
    },
    {
     "name": "stdout",
     "output_type": "stream",
     "text": [
      "1016/1499 : 4MnjrWnj2zE7e8XJn2J2i2 Canadian Sunset Santo & Johnny Movie Music\n"
     ]
    },
    {
     "name": "stdout",
     "output_type": "stream",
     "text": [
      "1017/1499 : 4ywZFpLcOvybhVeGasNY9C Caravana Santo & Johnny Nuestros Primeros 20 Éxitos\n"
     ]
    },
    {
     "name": "stdout",
     "output_type": "stream",
     "text": [
      "1018/1499 : 7oapSJeWoGUtXh1Dq7E84w Dream Lover Santo & Johnny Volume Secondo\n"
     ]
    },
    {
     "name": "stdout",
     "output_type": "stream",
     "text": [
      "1019/1499 : 2CwFG3TY8kqQbQaLkgk2rw Harbor Lights Santo & Johnny Antología\n"
     ]
    },
    {
     "name": "stdout",
     "output_type": "stream",
     "text": [
      "1020/1499 : 7GtoPVrCfbVPt5szMvCRbd Raunchy Santo & Johnny Nuestros Primeros 20 Éxitos\n"
     ]
    },
    {
     "name": "stdout",
     "output_type": "stream",
     "text": [
      "Santo & Johnny School Day Santo & Johnny not in spotify\n"
     ]
    },
    {
     "name": "stdout",
     "output_type": "stream",
     "text": [
      "Santo & Johnny Slave Girl Santo & Johnny not in spotify\n"
     ]
    },
    {
     "name": "stdout",
     "output_type": "stream",
     "text": [
      "1023/1499 : 0yK8sWD6cfrc7pGfaPIcZH Sleep Walk Santo & Johnny Canadian American Greatest Hits 50th Anniversary Collection\n"
     ]
    },
    {
     "name": "stdout",
     "output_type": "stream",
     "text": [
      "1024/1499 : 61pVpVAPBpkDKsdWw5mwzI Summertime Santo & Johnny Golden Memory\n"
     ]
    },
    {
     "name": "stdout",
     "output_type": "stream",
     "text": [
      "1025/1499 : 7A7RRZFci5onFVXGi58uJU Tenderly Santo & Johnny Golden Memory\n"
     ]
    },
    {
     "name": "stdout",
     "output_type": "stream",
     "text": [
      "1026/1499 : 623rRTKwGmgjH6sjE9uWLh Scatman (ski-ba-bop-ba-dop-bop) Scatman John Scatman's World\n"
     ]
    },
    {
     "name": "stdout",
     "output_type": "stream",
     "text": [
      "1027/1499 : 623rRTKwGmgjH6sjE9uWLh Scatman (ski-ba-bop-ba-dop-bop) Scatman John Scatman's World\n"
     ]
    },
    {
     "name": "stdout",
     "output_type": "stream",
     "text": [
      "1028/1499 : 1gKcpNIXhmHx2EHI5IPhte Fusil SCH A7\n"
     ]
    },
    {
     "name": "stdout",
     "output_type": "stream",
     "text": [
      "1029/1499 : 1SVuEeerYIwjCRsF5MGzX3 Mayday (feat. Ninho) SCH Rooftop\n"
     ]
    },
    {
     "name": "stdout",
     "output_type": "stream",
     "text": [
      "1030/1499 : 5gHPSORJBqP7rER1cbYB5x La javanaise Serge Gainsbourg Bonnie And Clyde\n"
     ]
    },
    {
     "name": "stdout",
     "output_type": "stream",
     "text": [
      "1031/1499 : 3nvREfeASA91U3atMsVO3H Bad Kids To The Back Snarky Puppy Immigrance\n"
     ]
    },
    {
     "name": "stdout",
     "output_type": "stream",
     "text": [
      "Snowy White And The White Flames Midnight Blues No Faith Required not in spotify\n"
     ]
    },
    {
     "name": "stdout",
     "output_type": "stream",
     "text": [
      "1033/1499 : 6KPtgitVM6cMKfYzP41noy Atmosphere Marina P Summer on Mars\n"
     ]
    },
    {
     "name": "stdout",
     "output_type": "stream",
     "text": [
      "1034/1499 : 68w0Ug9wMQw4muHjZPRETf Dreamcatcher Marina P Summer on Mars\n"
     ]
    },
    {
     "name": "stdout",
     "output_type": "stream",
     "text": [
      "1035/1499 : 4uQFtxsyvWF3CKnqqfgxZu Fragile Marina P Summer on Mars\n"
     ]
    },
    {
     "name": "stdout",
     "output_type": "stream",
     "text": [
      "1036/1499 : 6GU2ayVB0BaOYjU5rnw51P Landlord Marina P Summer on Mars\n"
     ]
    },
    {
     "name": "stdout",
     "output_type": "stream",
     "text": [
      "1037/1499 : 3ovM4e8xrTj6PDKiQptl5w Raw Lines Marina P Summer on Mars\n"
     ]
    },
    {
     "name": "stdout",
     "output_type": "stream",
     "text": [
      "1038/1499 : 2QaZaqMv0kE876kOYA0XdL Rosetta Marina P Summer on Mars\n"
     ]
    },
    {
     "name": "stdout",
     "output_type": "stream",
     "text": [
      "1039/1499 : 5wkoKVmPgDIdyepOm8kEl6 Spring Rain Marina P Summer on Mars\n"
     ]
    },
    {
     "name": "stdout",
     "output_type": "stream",
     "text": [
      "1040/1499 : 68w0Ug9wMQw4muHjZPRETf Dreamcatcher Marina P Summer on Mars\n"
     ]
    },
    {
     "name": "stdout",
     "output_type": "stream",
     "text": [
      "1041/1499 : 3lfJ9FXSUGiebv64FBZWSF Working Class Marina P Summer on Mars\n"
     ]
    },
    {
     "name": "stdout",
     "output_type": "stream",
     "text": [
      "1042/1499 : 3aAuIvgJGdp4wWd60riWfB Valerie Steve Winwood Talking Back To The Night\n"
     ]
    },
    {
     "name": "stdout",
     "output_type": "stream",
     "text": [
      "1043/1499 : 2DMZ7rhk2LZvP6Gy8vthH5 Thunderstruck Steve ´n´ Seagulls Farm Machine\n"
     ]
    },
    {
     "name": "stdout",
     "output_type": "stream",
     "text": [
      "1044/1499 : 38punNoJGGFWOgOjm8eMRJ First Regret / 3 Years Older Steven Wilson Hand Cannot Erase\n"
     ]
    },
    {
     "name": "stdout",
     "output_type": "stream",
     "text": [
      "1045/1499 : 4ceTCJPLBQBOogseivMuhL Ancestral Steven Wilson Hand Cannot Erase\n"
     ]
    },
    {
     "name": "stdout",
     "output_type": "stream",
     "text": [
      "1046/1499 : 37TyzXvVbPD2JIZEm65x9h Happy Returns / Ascendant Here on... Steven Wilson Hand Cannot Erase\n"
     ]
    },
    {
     "name": "stdout",
     "output_type": "stream",
     "text": [
      "1047/1499 : 38punNoJGGFWOgOjm8eMRJ First Regret / 3 Years Older Steven Wilson Hand Cannot Erase\n"
     ]
    },
    {
     "name": "stdout",
     "output_type": "stream",
     "text": [
      "1048/1499 : 3L6iaRFenZmnkepJ4Ey9Cm Hand Cannot Erase Steven Wilson Hand Cannot Erase\n"
     ]
    },
    {
     "name": "stdout",
     "output_type": "stream",
     "text": [
      "1049/1499 : 37TyzXvVbPD2JIZEm65x9h Happy Returns / Ascendant Here on... Steven Wilson Hand Cannot Erase\n"
     ]
    },
    {
     "name": "stdout",
     "output_type": "stream",
     "text": [
      "1050/1499 : 1a6uHU6uqREaMMgkrKijLC Home Invasion / Regret #9 Steven Wilson Hand Cannot Erase\n"
     ]
    },
    {
     "name": "stdout",
     "output_type": "stream",
     "text": [
      "1051/1499 : 7GVrWak6y01P1t8bwbZW8e Perfect Life Steven Wilson Hand Cannot Erase\n"
     ]
    },
    {
     "name": "stdout",
     "output_type": "stream",
     "text": [
      "1052/1499 : 1a6uHU6uqREaMMgkrKijLC Home Invasion / Regret #9 Steven Wilson Hand Cannot Erase\n"
     ]
    },
    {
     "name": "stdout",
     "output_type": "stream",
     "text": [
      "1053/1499 : 5cxmpBhMn4Wxs4ZyHLv4mR Routine Steven Wilson Hand Cannot Erase\n"
     ]
    },
    {
     "name": "stdout",
     "output_type": "stream",
     "text": [
      "Steven Wilson Transcience Hand. Cannot. Erase. not in spotify\n"
     ]
    },
    {
     "name": "stdout",
     "output_type": "stream",
     "text": [
      "1055/1499 : 0PaCLduwMvGn19BNUHq0L1 Blank Tapes Steven Wilson To The Bone\n"
     ]
    },
    {
     "name": "stdout",
     "output_type": "stream",
     "text": [
      "1056/1499 : 5ZcxDZkfflzvZ5nJPyzXZs Detonation Steven Wilson To The Bone\n"
     ]
    },
    {
     "name": "stdout",
     "output_type": "stream",
     "text": [
      "1057/1499 : 6IyWD0fAwt05ee3emHHXkn Nowhere Now Steven Wilson To The Bone\n"
     ]
    },
    {
     "name": "stdout",
     "output_type": "stream",
     "text": [
      "1058/1499 : 7CcaktZZsdb8AWPdhDM38f Pariah Steven Wilson To The Bone\n"
     ]
    },
    {
     "name": "stdout",
     "output_type": "stream",
     "text": [
      "1059/1499 : 5LlhPAV6Wtwc3veHr4u2ZB People Who Eat Darkness Steven Wilson To The Bone\n"
     ]
    },
    {
     "name": "stdout",
     "output_type": "stream",
     "text": [
      "1060/1499 : 1tzCbOeyoKtCNkynz4HmQk Permanating Steven Wilson To The Bone\n"
     ]
    },
    {
     "name": "stdout",
     "output_type": "stream",
     "text": [
      "1061/1499 : 3lxD0l11Oog4UUZe24SrkG Refuge Steven Wilson To The Bone\n"
     ]
    },
    {
     "name": "stdout",
     "output_type": "stream",
     "text": [
      "1062/1499 : 0rHyrUwNjEJKRywss2MvTm Song Of I Steven Wilson To The Bone\n"
     ]
    },
    {
     "name": "stdout",
     "output_type": "stream",
     "text": [
      "1063/1499 : 6bHiGzAT6lxyWRBXd6lVRF Song Of Unborn Steven Wilson To The Bone\n"
     ]
    },
    {
     "name": "stdout",
     "output_type": "stream",
     "text": [
      "1064/1499 : 5EYEOZLyr1XuHzW5ZPLkFD The Same Asylum As Before Steven Wilson To The Bone\n"
     ]
    },
    {
     "name": "stdout",
     "output_type": "stream",
     "text": [
      "1065/1499 : 7CcaktZZsdb8AWPdhDM38f Pariah Steven Wilson To The Bone\n"
     ]
    },
    {
     "name": "stdout",
     "output_type": "stream",
     "text": [
      "1066/1499 : 4N0TP4Rmj6QQezWV88ARNJ Superstition Stevie Wonder Talking Book\n"
     ]
    },
    {
     "name": "stdout",
     "output_type": "stream",
     "text": [
      "Stupeflip Les Ronces Terror Maxi not in spotify\n"
     ]
    },
    {
     "name": "stdout",
     "output_type": "stream",
     "text": [
      "Stupeflip Stupeflip Vite !!! Terror Maxi not in spotify\n"
     ]
    },
    {
     "name": "stdout",
     "output_type": "stream",
     "text": [
      "1069/1499 : 3xcgl1k29fKcDNowRJbMq6 72.8 mhz - Interlude 3 Stupeflip The Hypnoflip Invasion\n"
     ]
    },
    {
     "name": "stdout",
     "output_type": "stream",
     "text": [
      "1070/1499 : 626KJ8oTkNs9znR1nDqq1k Ancienne prophétie - Interlude 5 Stupeflip The Hypnoflip Invasion\n"
     ]
    },
    {
     "name": "stdout",
     "output_type": "stream",
     "text": [
      "1071/1499 : 0A6FdQB9XVIbjP6Kr4vsa1 Apocalypse 894 Stupeflip The Hypnoflip Invasion\n"
     ]
    },
    {
     "name": "stdout",
     "output_type": "stream",
     "text": [
      "Stupeflip C'est un Tube The Hypnoflip Invasion not in spotify\n"
     ]
    },
    {
     "name": "stdout",
     "output_type": "stream",
     "text": [
      "1073/1499 : 3dLIduwK5uQmKMH7TFsDlF Ce petit blouson en daim Stupeflip The Hypnoflip Invasion\n"
     ]
    },
    {
     "name": "stdout",
     "output_type": "stream",
     "text": [
      "1074/1499 : 1cNm3Y37Hhe493MfKuNwGW Check da Crou Stupeflip The Hypnoflip Invasion\n"
     ]
    },
    {
     "name": "stdout",
     "output_type": "stream",
     "text": [
      "Stupeflip Cold World The Hypnoflip Invasion not in spotify\n"
     ]
    },
    {
     "name": "stdout",
     "output_type": "stream",
     "text": [
      "1076/1499 : 0R8ei1Ja9TCnSpElFhryZS Dangereux !! - Interlude 1 Stupeflip The Hypnoflip Invasion\n"
     ]
    },
    {
     "name": "stdout",
     "output_type": "stream",
     "text": [
      "1077/1499 : 51NbezCtFMJR5283vWxH8J Dark Warriors - Interlude 4 Stupeflip The Hypnoflip Invasion\n"
     ]
    },
    {
     "name": "stdout",
     "output_type": "stream",
     "text": [
      "1078/1499 : 57XHpRax8ytkhXrotxu8uE Gaëlle Stupeflip The Hypnoflip Invasion\n"
     ]
    },
    {
     "name": "stdout",
     "output_type": "stream",
     "text": [
      "1079/1499 : 4nxLQxln8uOLYL9pU1bpRG Gem lé moch' Stupeflip The Hypnoflip Invasion\n"
     ]
    },
    {
     "name": "stdout",
     "output_type": "stream",
     "text": [
      "1080/1499 : 3a2eEFpPmvKxadRGpOXzr9 Hater's Killah Stupeflip The Hypnoflip Invasion\n"
     ]
    },
    {
     "name": "stdout",
     "output_type": "stream",
     "text": [
      "1081/1499 : 178zd1WV9MN2rVab2TsfDE Stupeflip vite !!! Stupeflip The Hypnoflip Invasion\n"
     ]
    },
    {
     "name": "stdout",
     "output_type": "stream",
     "text": [
      "1082/1499 : 6Rpg1cBjDXDGlbbalRPU84 La menuiserie Stupeflip The Hypnoflip Invasion\n"
     ]
    },
    {
     "name": "stdout",
     "output_type": "stream",
     "text": [
      "1083/1499 : 6IkpQyY8TcaMM0Cx4OCf2N La mort à Pop Hip - Interlude 6 Stupeflip The Hypnoflip Invasion\n"
     ]
    },
    {
     "name": "stdout",
     "output_type": "stream",
     "text": [
      "1084/1499 : 2nGwLNOOfOFWMpETHiwJIP Le coeur qui cogne Stupeflip The Hypnoflip Invasion\n"
     ]
    },
    {
     "name": "stdout",
     "output_type": "stream",
     "text": [
      "1085/1499 : 0dtzevwOURr9R7tYIlWTOo Le spleen des petits Stupeflip The Hypnoflip Invasion\n"
     ]
    },
    {
     "name": "stdout",
     "output_type": "stream",
     "text": [
      "1086/1499 : 57RPJrjsYcFj1kC7L41U1Z Lettre à Mylène Stupeflip The Hypnoflip Invasion\n"
     ]
    },
    {
     "name": "stdout",
     "output_type": "stream",
     "text": [
      "1087/1499 : 3XUkRMMrrn7x7OQAQJUCF4 Région est Stupeflip The Hypnoflip Invasion\n"
     ]
    },
    {
     "name": "stdout",
     "output_type": "stream",
     "text": [
      "1088/1499 : 4rzapbR90qjU0mOr3RszP3 Sinode pibouin Stupeflip The Hypnoflip Invasion\n",
      "1089/1499 : 4lixC8ILNVVsP2880K7fKl Strange Pain - Interlude 2 Stupeflip The Hypnoflip Invasion\n"
     ]
    },
    {
     "name": "stdout",
     "output_type": "stream",
     "text": [
      "1090/1499 : 178zd1WV9MN2rVab2TsfDE Stupeflip vite !!! Stupeflip The Hypnoflip Invasion\n"
     ]
    },
    {
     "name": "stdout",
     "output_type": "stream",
     "text": [
      "1091/1499 : 4a5pNRjwmzYQuEY1E7O6pj Breakfast In America - Remastered Supertramp Breakfast In America (Deluxe Edition)\n"
     ]
    },
    {
     "name": "stdout",
     "output_type": "stream",
     "text": [
      "1092/1499 : 5gLJZBGkpvRXWbEbTcLIz8 Casual Conversations - 2010 Remastered Supertramp Breakfast In America (Deluxe Edition)\n"
     ]
    },
    {
     "name": "stdout",
     "output_type": "stream",
     "text": [
      "1093/1499 : 7hHTyS1QG0TcX5iQ0sa1Tk Child Of Vision - 2010 Remastered Supertramp Breakfast In America (Deluxe Edition)\n"
     ]
    },
    {
     "name": "stdout",
     "output_type": "stream",
     "text": [
      "1094/1499 : 43BVfHr7mkNDtNIGVp1vff Gone Hollywood - 2010 Remastered Supertramp Breakfast In America (Deluxe Edition)\n"
     ]
    },
    {
     "name": "stdout",
     "output_type": "stream",
     "text": [
      "1095/1499 : 67oyFnjJnn78fZP9KjeZx0 Goodbye Stranger - 2010 Remastered Supertramp Breakfast In America (Deluxe Edition)\n"
     ]
    },
    {
     "name": "stdout",
     "output_type": "stream",
     "text": [
      "1096/1499 : 6o8nZVzweaEOLDLOgaogX5 Just Another Nervous Wreck - 2010 Remastered Supertramp Breakfast In America (Deluxe Edition)\n"
     ]
    },
    {
     "name": "stdout",
     "output_type": "stream",
     "text": [
      "1097/1499 : 3AUpYeScJOpYf8psTIz62l Lord Is It Mine - 2010 Remastered Supertramp Breakfast In America (Deluxe Edition)\n",
      "1098/1499 : 089NMLhXz421ohFN55A3yo Oh Darling - 2010 Remastered Supertramp Breakfast In America (Deluxe Edition)\n"
     ]
    },
    {
     "name": "stdout",
     "output_type": "stream",
     "text": [
      "1099/1499 : 0v0XYK0pLgsPiq5u4FKHaw Take The Long Way Home - 2010 Remastered Supertramp Breakfast In America (Deluxe Edition)\n"
     ]
    },
    {
     "name": "stdout",
     "output_type": "stream",
     "text": [
      "1100/1499 : 6mHOcVtsHLMuesJkswc0GZ The Logical Song - Remastered 2010 Supertramp Breakfast In America (Deluxe Edition)\n"
     ]
    },
    {
     "name": "stdout",
     "output_type": "stream",
     "text": [
      "1101/1499 : 1tF0tiVZzNsGteLdOzRSZz Metro System Of A Down Dracula 2000 - Music From The Dimension Motion Picture\n"
     ]
    },
    {
     "name": "stdout",
     "output_type": "stream",
     "text": [
      "1102/1499 : 0dxPHMZTI8TWMYRucsAFNd Attack System Of A Down Hypnotize\n"
     ]
    },
    {
     "name": "stdout",
     "output_type": "stream",
     "text": [
      "1103/1499 : 4uCfGqrF2OHcav71k0bk9D Dreaming System Of A Down Hypnotize\n"
     ]
    },
    {
     "name": "stdout",
     "output_type": "stream",
     "text": [
      "1104/1499 : 4mj2UMyJTBTaO7pffAK29j Holy Mountains System Of A Down Hypnotize\n"
     ]
    },
    {
     "name": "stdout",
     "output_type": "stream",
     "text": [
      "1105/1499 : 6oO7WMjD6kEvCITLbVj0mu Hypnotize System Of A Down Hypnotize\n"
     ]
    },
    {
     "name": "stdout",
     "output_type": "stream",
     "text": [
      "1106/1499 : 28TReO2Mxk9Q3GA4K98YSz Kill Rock 'n Roll System Of A Down Hypnotize\n"
     ]
    },
    {
     "name": "stdout",
     "output_type": "stream",
     "text": [
      "1107/1499 : 1VNWaY3uNfoeWqb5U8x2QX Lonely Day System Of A Down Hypnotize\n"
     ]
    },
    {
     "name": "stdout",
     "output_type": "stream",
     "text": [
      "1108/1499 : 3bcOxfqIiXj41AdUHfHfgj She's Like Heroin System Of A Down Hypnotize\n"
     ]
    },
    {
     "name": "stdout",
     "output_type": "stream",
     "text": [
      "1109/1499 : 1ez4uWPnJwYufNhYTLVsJr Soldier Side System Of A Down Hypnotize\n"
     ]
    },
    {
     "name": "stdout",
     "output_type": "stream",
     "text": [
      "1110/1499 : 0ELxqqeeisigIJhN6dsNHI Stealing Society System Of A Down Hypnotize\n"
     ]
    },
    {
     "name": "stdout",
     "output_type": "stream",
     "text": [
      "1111/1499 : 11WZXXvGyrtUBp15TtojxA Tentative System Of A Down Hypnotize\n"
     ]
    },
    {
     "name": "stdout",
     "output_type": "stream",
     "text": [
      "1112/1499 : 0dgCqrI14Oe3nqGLS3qbzJ U-Fig System Of A Down Hypnotize\n"
     ]
    },
    {
     "name": "stdout",
     "output_type": "stream",
     "text": [
      "1113/1499 : 5uMTA9SIe0sE4dnHHSHaYz Vicinity Of Obscenity System Of A Down Hypnotize\n"
     ]
    },
    {
     "name": "stdout",
     "output_type": "stream",
     "text": [
      "1114/1499 : 0EYOdF5FCkgOJJla8DI2Md B.Y.O.B. System Of A Down Mezmerize\n"
     ]
    },
    {
     "name": "stdout",
     "output_type": "stream",
     "text": [
      "1115/1499 : 47EqCQZG5v4o0WFMufGf5S Cigaro System Of A Down Mezmerize\n"
     ]
    },
    {
     "name": "stdout",
     "output_type": "stream",
     "text": [
      "1116/1499 : 0GrHWVTDsaWcD4nrCGr7VE Lost In Hollywood System Of A Down Mezmerize\n"
     ]
    },
    {
     "name": "stdout",
     "output_type": "stream",
     "text": [
      "1117/1499 : 6iFVJGxSVdFkzYQJL7Rgdk Old School Hollywood System Of A Down Mezmerize\n"
     ]
    },
    {
     "name": "stdout",
     "output_type": "stream",
     "text": [
      "1118/1499 : 6y2DHyCYf6azhUfXmnuH6w Question! System Of A Down Mezmerize\n"
     ]
    },
    {
     "name": "stdout",
     "output_type": "stream",
     "text": [
      "1119/1499 : 41pOIT2t1rvr2Trg1HQChZ Radio/Video System Of A Down Mezmerize\n"
     ]
    },
    {
     "name": "stdout",
     "output_type": "stream",
     "text": [
      "1120/1499 : 577mOFb1LAvSANIUZ4mbQ7 Revenga System Of A Down Mezmerize\n"
     ]
    },
    {
     "name": "stdout",
     "output_type": "stream",
     "text": [
      "1121/1499 : 1wGRSG94dLt8fIZWhR3rGG Sad Statue System Of A Down Mezmerize\n"
     ]
    },
    {
     "name": "stdout",
     "output_type": "stream",
     "text": [
      "1122/1499 : 6f1HJMVJ1CgUeCIM6r795H Soldier Side - Intro System Of A Down Mezmerize\n"
     ]
    },
    {
     "name": "stdout",
     "output_type": "stream",
     "text": [
      "1123/1499 : 0DVHR5FQ0Gp2dsZJz7hfdy This Cocaine Makes Me Feel Like I'm On This Song System Of A Down Mezmerize\n"
     ]
    },
    {
     "name": "stdout",
     "output_type": "stream",
     "text": [
      "1124/1499 : 249Z7XT6mf8B2zuI0RaeS0 Violent Pornography System Of A Down Mezmerize\n"
     ]
    },
    {
     "name": "stdout",
     "output_type": "stream",
     "text": [
      "1125/1499 : 3F385pf2JrVgSwcyqBDZEu CUBErt System Of A Down System Of A Down\n"
     ]
    },
    {
     "name": "stdout",
     "output_type": "stream",
     "text": [
      "1126/1499 : 0GIvGfgr68OGkcCNFBAdrX Darts System Of A Down System Of A Down\n"
     ]
    },
    {
     "name": "stdout",
     "output_type": "stream",
     "text": [
      "1127/1499 : 1Cu3MCxugh9oia9betnm8i DDevil System Of A Down System Of A Down\n"
     ]
    },
    {
     "name": "stdout",
     "output_type": "stream",
     "text": [
      "1128/1499 : 1ByE7lUw6wWMTbCb3woHdK Know System Of A Down System Of A Down\n"
     ]
    },
    {
     "name": "stdout",
     "output_type": "stream",
     "text": [
      "1129/1499 : 658IQdgfrqSIf58I1AkWyz Mind System Of A Down System Of A Down\n"
     ]
    },
    {
     "name": "stdout",
     "output_type": "stream",
     "text": [
      "1130/1499 : 5ZjfvGPEW7AZ00QZR2XQBJ P.L.U.C.K. System Of A Down System Of A Down\n"
     ]
    },
    {
     "name": "stdout",
     "output_type": "stream",
     "text": [
      "1131/1499 : 53QqFzAWnl7D8IVBvCmRtc Peephole System Of A Down System Of A Down\n"
     ]
    },
    {
     "name": "stdout",
     "output_type": "stream",
     "text": [
      "1132/1499 : 3gY25vepRvvspuoAfxCyRO Soil System Of A Down System Of A Down\n"
     ]
    },
    {
     "name": "stdout",
     "output_type": "stream",
     "text": [
      "1133/1499 : 4vAHXnJ5YWLq5hbIVzZS1h Spiders System Of A Down System Of A Down\n"
     ]
    },
    {
     "name": "stdout",
     "output_type": "stream",
     "text": [
      "1134/1499 : 31RTFPrB7wmYBhlkM2ILXG Sugar System Of A Down System Of A Down\n",
      "1135/1499 : 7phMc88qiwpKzOAIiR3xIU Suggestions System Of A Down System Of A Down\n"
     ]
    },
    {
     "name": "stdout",
     "output_type": "stream",
     "text": [
      "1136/1499 : 1qGmxIGEuBEkj7bft72Kh0 Suite-Pee System Of A Down System Of A Down\n"
     ]
    },
    {
     "name": "stdout",
     "output_type": "stream",
     "text": [
      "1137/1499 : 5Q7m1Km199HHMB926xxbrs War? System Of A Down System Of A Down\n"
     ]
    },
    {
     "name": "stdout",
     "output_type": "stream",
     "text": [
      "1138/1499 : 4e9eGQYsOiBcftrWXwsVco Aerials System Of A Down Toxicity\n"
     ]
    },
    {
     "name": "stdout",
     "output_type": "stream",
     "text": [
      "1139/1499 : 0aueluj36PA9LNoj7d9SFb Arto System Of A Down Toxicity\n"
     ]
    },
    {
     "name": "stdout",
     "output_type": "stream",
     "text": [
      "1140/1499 : 6gCVA6ja6g0foIsWv0RuSZ ATWA System Of A Down Toxicity\n"
     ]
    },
    {
     "name": "stdout",
     "output_type": "stream",
     "text": [
      "1141/1499 : 6dr2T6DRymdT1jfSUxDgut Bounce System Of A Down Toxicity\n"
     ]
    },
    {
     "name": "stdout",
     "output_type": "stream",
     "text": [
      "1142/1499 : 2DlHlPMa4M17kufBvI2lEN Chop Suey! System Of A Down Toxicity\n"
     ]
    },
    {
     "name": "stdout",
     "output_type": "stream",
     "text": [
      "1143/1499 : 2SpGXD7EbexndFmmThrnsy Deer Dance System Of A Down Toxicity\n"
     ]
    },
    {
     "name": "stdout",
     "output_type": "stream",
     "text": [
      "1144/1499 : 1B5Y9I5wPfvD3C2A81A36C Forest System Of A Down Toxicity\n",
      "1145/1499 : 0a2kVvbCbk52gmeFQFHNaG Jet Pilot System Of A Down Toxicity\n"
     ]
    },
    {
     "name": "stdout",
     "output_type": "stream",
     "text": [
      "1146/1499 : 6V8oQXzymTzpEZOsiBiyJT Needles System Of A Down Toxicity\n"
     ]
    },
    {
     "name": "stdout",
     "output_type": "stream",
     "text": [
      "1147/1499 : 3AwLxSqo1jOOMpNsgxqRNE Prison Song System Of A Down Toxicity\n"
     ]
    },
    {
     "name": "stdout",
     "output_type": "stream",
     "text": [
      "1148/1499 : 6VzV6RI7641o57TuqfGRpj Psycho System Of A Down Toxicity\n"
     ]
    },
    {
     "name": "stdout",
     "output_type": "stream",
     "text": [
      "1149/1499 : 58lcznIKSNlOVdmklrPA99 Science System Of A Down Toxicity\n"
     ]
    },
    {
     "name": "stdout",
     "output_type": "stream",
     "text": [
      "1150/1499 : 1a3X8Y882vwSnlnHqf9ztF Shimmy System Of A Down Toxicity\n"
     ]
    },
    {
     "name": "stdout",
     "output_type": "stream",
     "text": [
      "1151/1499 : 0snQkGI5qnAmohLE7jTsTn Toxicity System Of A Down Toxicity\n"
     ]
    },
    {
     "name": "stdout",
     "output_type": "stream",
     "text": [
      "1152/1499 : 4HIKcEKSijQLW5YNLsdLzt X System Of A Down Toxicity\n"
     ]
    },
    {
     "name": "stdout",
     "output_type": "stream",
     "text": [
      "1153/1499 : 5QRfoW5XLqBM2oCPRg2Sr7 L'urlo della strega Tangerine Stoned Tangerine Stoned\n"
     ]
    },
    {
     "name": "stdout",
     "output_type": "stream",
     "text": [
      "1154/1499 : 0aF9m87P8Tja3NUMv4DfHt Head Over Heels / Broken Tears For Fears Songs From The Big Chair\n"
     ]
    },
    {
     "name": "stdout",
     "output_type": "stream",
     "text": [
      "1155/1499 : 4RvWPyQ5RL0ao9LPZeSouE Everybody Wants To Rule The World Tears For Fears Songs From The Big Chair (Super Deluxe Edition)\n"
     ]
    },
    {
     "name": "stdout",
     "output_type": "stream",
     "text": [
      "1156/1499 : 0aF9m87P8Tja3NUMv4DfHt Head Over Heels / Broken Tears For Fears Songs From The Big Chair\n"
     ]
    },
    {
     "name": "stdout",
     "output_type": "stream",
     "text": [
      "1157/1499 : 2iwXxZD87p1Q3ISveQteiJ I Believe Tears For Fears Songs From The Big Chair\n"
     ]
    },
    {
     "name": "stdout",
     "output_type": "stream",
     "text": [
      "1158/1499 : 6eAPuRbhPyTwY0xTBkHHtH Listen Tears For Fears Songs From The Big Chair\n"
     ]
    },
    {
     "name": "stdout",
     "output_type": "stream",
     "text": [
      "1159/1499 : 2p87CAEgL7eJzVgNZt2M0J Mothers Talk Tears For Fears Songs From The Big Chair\n"
     ]
    },
    {
     "name": "stdout",
     "output_type": "stream",
     "text": [
      "1160/1499 : 2gQaQUhDCNGfBVXTvxAmXQ Shout Tears For Fears Songs From The Big Chair\n"
     ]
    },
    {
     "name": "stdout",
     "output_type": "stream",
     "text": [
      "1161/1499 : 23DKn3AP0fpx1aAYth2Pax The Working Hour Tears For Fears Songs From The Big Chair\n"
     ]
    },
    {
     "name": "stdout",
     "output_type": "stream",
     "text": [
      "1162/1499 : 19HjHUjCfDrEYhVSIKG6nK I'd Love to Change the World - 2004 Remaster Ten Years After A Space in Time (Deluxe Version)\n"
     ]
    },
    {
     "name": "stdout",
     "output_type": "stream",
     "text": [
      "1163/1499 : 478d70Vg2ljAG28eeDp2w5 Rize of the Fenix Tenacious D Rize Of The Fenix\n"
     ]
    },
    {
     "name": "stdout",
     "output_type": "stream",
     "text": [
      "1164/1499 : 7x86D0wH2PrWgSLz8Wtnzf Business Suits and Combat Boots The Agonist Once Only Imagined\n"
     ]
    },
    {
     "name": "stdout",
     "output_type": "stream",
     "text": [
      "1165/1499 : 0uMhYGXAgnP2Y7TMyUPUgd See See Rider (Bonus Track) The Animals Animalisms\n"
     ]
    },
    {
     "name": "stdout",
     "output_type": "stream",
     "text": [
      "1166/1499 : 1rxoyGj1QuPoVi8fOft1Kt Because - Remastered 2009 The Beatles Abbey Road (Remastered)\n"
     ]
    },
    {
     "name": "stdout",
     "output_type": "stream",
     "text": [
      "1167/1499 : 5eZrW59C3UgBhkqNlowEID Carry That Weight - Remastered 2009 The Beatles Abbey Road (Remastered)\n"
     ]
    },
    {
     "name": "stdout",
     "output_type": "stream",
     "text": [
      "1168/1499 : 2EqlS6tkEnglzr7tkKAAYD Come Together - Remastered 2009 The Beatles Abbey Road (Remastered)\n"
     ]
    },
    {
     "name": "stdout",
     "output_type": "stream",
     "text": [
      "1169/1499 : 01SfTM5nfCou5gQL70r6gs Golden Slumbers - Remastered 2009 The Beatles Abbey Road (Remastered)\n"
     ]
    },
    {
     "name": "stdout",
     "output_type": "stream",
     "text": [
      "1170/1499 : 52hm7o5MPKymBUmSJadwve Her Majesty - Takes 1-3 The Beatles Abbey Road (Super Deluxe Edition)\n"
     ]
    },
    {
     "name": "stdout",
     "output_type": "stream",
     "text": [
      "1171/1499 : 6dGnYIeXmHdcikdzNNDMm2 Here Comes The Sun - Remastered 2009 The Beatles Abbey Road (Remastered)\n"
     ]
    },
    {
     "name": "stdout",
     "output_type": "stream",
     "text": [
      "1172/1499 : 3Z25k4ZF6QENy2d9YatsM5 I Want You (She's So Heavy) - Remastered 2009 The Beatles Abbey Road (Remastered)\n"
     ]
    },
    {
     "name": "stdout",
     "output_type": "stream",
     "text": [
      "1173/1499 : 2S8xyNRJX1XQdo3qnTuovI Maxwell's Silver Hammer - Remastered 2009 The Beatles Abbey Road (Remastered)\n"
     ]
    },
    {
     "name": "stdout",
     "output_type": "stream",
     "text": [
      "1174/1499 : 4JOyMhad5dD81uGYLGgKrS Mean Mr Mustard - Remastered 2009 The Beatles Abbey Road (Remastered)\n"
     ]
    },
    {
     "name": "stdout",
     "output_type": "stream",
     "text": [
      "1175/1499 : 0suLngfo7rJoetk7Ub6N8l Octopus's Garden - Remastered 2009 The Beatles Abbey Road (Remastered)\n"
     ]
    },
    {
     "name": "stdout",
     "output_type": "stream",
     "text": [
      "1176/1499 : 2mxByJWOajjiVsLWjNXvDJ Oh! Darling - Remastered 2009 The Beatles Abbey Road (Remastered)\n"
     ]
    },
    {
     "name": "stdout",
     "output_type": "stream",
     "text": [
      "1177/1499 : 1FTCA6wQwulQFokDddKE68 Polythene Pam - Remastered 2009 The Beatles Abbey Road (Remastered)\n"
     ]
    },
    {
     "name": "stdout",
     "output_type": "stream",
     "text": [
      "1178/1499 : 2jtUGFsqanQ82zqDlhiKIp She Came In Through The Bathroom Window - Remastered 2009 The Beatles Abbey Road (Remastered)\n"
     ]
    },
    {
     "name": "stdout",
     "output_type": "stream",
     "text": [
      "1179/1499 : 0pNeVovbiZHkulpGeOx1Gj Something - Remastered 2009 The Beatles Abbey Road (Remastered)\n"
     ]
    },
    {
     "name": "stdout",
     "output_type": "stream",
     "text": [
      "1180/1499 : 4nwKdZID1ht0lDBJ5h2p87 Sun King - Remastered 2009 The Beatles Abbey Road (Remastered)\n"
     ]
    },
    {
     "name": "stdout",
     "output_type": "stream",
     "text": [
      "1181/1499 : 5aHHf6jrqDRb1fcBmue2kn The End - Remastered 2009 The Beatles Abbey Road (Remastered)\n"
     ]
    },
    {
     "name": "stdout",
     "output_type": "stream",
     "text": [
      "1182/1499 : 1jOLTO379yIu9aMnCkpMQl You Never Give Me Your Money - Remastered 2009 The Beatles Abbey Road (Remastered)\n"
     ]
    },
    {
     "name": "stdout",
     "output_type": "stream",
     "text": [
      "1183/1499 : 68BTFws92cRztMS1oQ7Ewj All You Need Is Love - Remastered 2009 The Beatles Magical Mystery Tour (Remastered)\n"
     ]
    },
    {
     "name": "stdout",
     "output_type": "stream",
     "text": [
      "1184/1499 : 0JBvtprXP2Z0LP3jmzA7Xp Baby, You're A Rich Man - Remastered 2009 The Beatles Magical Mystery Tour (Remastered)\n"
     ]
    },
    {
     "name": "stdout",
     "output_type": "stream",
     "text": [
      "1185/1499 : 0QIX9BS0AUCQcHYvyrsMkV Blue Jay Way - Remastered 2009 The Beatles Magical Mystery Tour (Remastered)\n"
     ]
    },
    {
     "name": "stdout",
     "output_type": "stream",
     "text": [
      "1186/1499 : 1itLKsCWHtLnxALkgBk1Fa Flying - Remastered 2009 The Beatles Magical Mystery Tour (Remastered)\n"
     ]
    },
    {
     "name": "stdout",
     "output_type": "stream",
     "text": [
      "1187/1499 : 0vZ97gHhemKm6c64hTfJNA Hello, Goodbye - Remastered 2009 The Beatles Magical Mystery Tour (Remastered)\n"
     ]
    },
    {
     "name": "stdout",
     "output_type": "stream",
     "text": [
      "1188/1499 : 6Pq9MmkDQYZiiCDpxnvrf6 I Am The Walrus - Remastered 2009 The Beatles Magical Mystery Tour (Remastered)\n"
     ]
    },
    {
     "name": "stdout",
     "output_type": "stream",
     "text": [
      "1189/1499 : 3Am0IbOxmvlSXro7N5iSfZ Strawberry Fields Forever - Remastered 2009 The Beatles Magical Mystery Tour (Remastered)\n"
     ]
    },
    {
     "name": "stdout",
     "output_type": "stream",
     "text": [
      "1190/1499 : 1h04XMpzGzmAudoI6VHBgA Penny Lane - Remastered 2009 The Beatles Magical Mystery Tour (Remastered)\n"
     ]
    },
    {
     "name": "stdout",
     "output_type": "stream",
     "text": [
      "1191/1499 : 3Am0IbOxmvlSXro7N5iSfZ Strawberry Fields Forever - Remastered 2009 The Beatles Magical Mystery Tour (Remastered)\n"
     ]
    },
    {
     "name": "stdout",
     "output_type": "stream",
     "text": [
      "1192/1499 : 6rHh8urosEFRI67xVa6fzU The Fool On The Hill - Remastered 2009 The Beatles Magical Mystery Tour (Remastered)\n"
     ]
    },
    {
     "name": "stdout",
     "output_type": "stream",
     "text": [
      "1193/1499 : 1dxbAIfCASqv6jix2R1Taj Your Mother Should Know - Remastered 2009 The Beatles Magical Mystery Tour (Remastered)\n"
     ]
    },
    {
     "name": "stdout",
     "output_type": "stream",
     "text": [
      "1194/1499 : 4KRgqwb4kvBuTz1utbYxfb And Your Bird Can Sing - Remastered 2009 The Beatles Revolver (Remastered)\n"
     ]
    },
    {
     "name": "stdout",
     "output_type": "stream",
     "text": [
      "1195/1499 : 1ob06Ol8FMIPQgjpg7bMyk Doctor Robert - Remastered 2009 The Beatles Revolver (Remastered)\n",
      "1196/1499 : 5GjPQ0eI7AgmOnADn1EO6Q Eleanor Rigby - Remastered 2009 The Beatles Revolver (Remastered)\n"
     ]
    },
    {
     "name": "stdout",
     "output_type": "stream",
     "text": [
      "1197/1499 : 1kDkaFlmkdEZiVUogaP9OZ For No One - Remastered 2009 The Beatles Revolver (Remastered)\n"
     ]
    },
    {
     "name": "stdout",
     "output_type": "stream",
     "text": [
      "1198/1499 : 7HTH1ppjkkOe7RLoBDKXYJ Good Day Sunshine - Remastered 2009 The Beatles Revolver (Remastered)\n"
     ]
    },
    {
     "name": "stdout",
     "output_type": "stream",
     "text": [
      "1199/1499 : 3tGhRLgcCP6SIZU3tbGl7l Got To Get You Into My Life - Remastered 2009 The Beatles Revolver (Remastered)\n"
     ]
    },
    {
     "name": "stdout",
     "output_type": "stream",
     "text": [
      "1200/1499 : 2B4Y9u4ERAFiMo13XPJyGP Here, There And Everywhere - Remastered 2009 The Beatles Revolver (Remastered)\n"
     ]
    },
    {
     "name": "stdout",
     "output_type": "stream",
     "text": [
      "1201/1499 : 7orb0y6ySGdsYZywMoQtsD I Want To Tell You - Remastered 2009 The Beatles Revolver (Remastered)\n"
     ]
    },
    {
     "name": "stdout",
     "output_type": "stream",
     "text": [
      "1202/1499 : 2ylCrFiBu98SC0vFfaCent I'm Only Sleeping - Remastered 2009 The Beatles Revolver (Remastered)\n"
     ]
    },
    {
     "name": "stdout",
     "output_type": "stream",
     "text": [
      "1203/1499 : 4RdJFhfLQcezwN5LsXl4qP Love You To - Remastered 2009 The Beatles Revolver (Remastered)\n"
     ]
    },
    {
     "name": "stdout",
     "output_type": "stream",
     "text": [
      "1204/1499 : 3VSuWxZM6x6V3ig5nYtikL She Said She Said - Remastered 2009 The Beatles Revolver (Remastered)\n"
     ]
    },
    {
     "name": "stdout",
     "output_type": "stream",
     "text": [
      "1205/1499 : 4BRkPBUxOYffM2QXVlq7aC Taxman - Remastered 2009 The Beatles Revolver (Remastered)\n"
     ]
    },
    {
     "name": "stdout",
     "output_type": "stream",
     "text": [
      "1206/1499 : 00oZhqZIQfL9P5CjOP6JsO Tomorrow Never Knows - Remastered 2009 The Beatles Revolver (Remastered)\n"
     ]
    },
    {
     "name": "stdout",
     "output_type": "stream",
     "text": [
      "1207/1499 : 50xwQXPtfNZFKFeZ0XePWc Yellow Submarine - Remastered 2009 The Beatles Revolver (Remastered)\n"
     ]
    },
    {
     "name": "stdout",
     "output_type": "stream",
     "text": [
      "1208/1499 : 0hKRSZhUGEhKU6aNSPBACZ A Day In The Life - Remastered 2009 The Beatles Sgt. Pepper's Lonely Hearts Club Band (Remastered)\n"
     ]
    },
    {
     "name": "stdout",
     "output_type": "stream",
     "text": [
      "1209/1499 : 6W35n1UlkvqhfMZstB4BXs Being For The Benefit Of Mr. Kite! - Remastered 2009 The Beatles Sgt. Pepper's Lonely Hearts Club Band (Remastered)\n"
     ]
    },
    {
     "name": "stdout",
     "output_type": "stream",
     "text": [
      "1210/1499 : 3pKKxkeB1pOUMHwWBmKc3Y Fixing A Hole - Remastered 2009 The Beatles Sgt. Pepper's Lonely Hearts Club Band (Remastered)\n"
     ]
    },
    {
     "name": "stdout",
     "output_type": "stream",
     "text": [
      "1211/1499 : 3LtOmWpTXLhilL5odoKysR Getting Better - Remastered 2009 The Beatles Sgt. Pepper's Lonely Hearts Club Band (Remastered)\n",
      "1212/1499 : 0xIuNHHcKI1JDuBPlSwzb1 Good Morning Good Morning - Remastered 2009 The Beatles Sgt. Pepper's Lonely Hearts Club Band (Remastered)\n"
     ]
    },
    {
     "name": "stdout",
     "output_type": "stream",
     "text": [
      "1213/1499 : 6h9W5FxX4E9lUFsyq8j1AD Lovely Rita - Remastered 2009 The Beatles Sgt. Pepper's Lonely Hearts Club Band (Remastered)\n"
     ]
    },
    {
     "name": "stdout",
     "output_type": "stream",
     "text": [
      "1214/1499 : 25yQPHgC35WNnnOUqFhgVR Lucy In The Sky With Diamonds - Remastered 2009 The Beatles Sgt. Pepper's Lonely Hearts Club Band (Remastered)\n"
     ]
    },
    {
     "name": "stdout",
     "output_type": "stream",
     "text": [
      "1215/1499 : 25yQPHgC35WNnnOUqFhgVR Lucy In The Sky With Diamonds - Remastered 2009 The Beatles Sgt. Pepper's Lonely Hearts Club Band (Remastered)\n"
     ]
    },
    {
     "name": "stdout",
     "output_type": "stream",
     "text": [
      "1216/1499 : 42ocGQCOT0xYtV3f5kJDsD Sgt. Pepper's Lonely Hearts Club Band - Reprise / Remastered 2009 The Beatles Sgt. Pepper's Lonely Hearts Club Band (Remastered)\n"
     ]
    },
    {
     "name": "stdout",
     "output_type": "stream",
     "text": [
      "1217/1499 : 3PjMtNzwhDHqxoKudm6GvF She's Leaving Home - Remastered 2009 The Beatles Sgt. Pepper's Lonely Hearts Club Band (Remastered)\n"
     ]
    },
    {
     "name": "stdout",
     "output_type": "stream",
     "text": [
      "1218/1499 : 1NrbnHlR2BFREcyWXHIHip When I'm Sixty Four - Remastered 2009 The Beatles Sgt. Pepper's Lonely Hearts Club Band (Remastered)\n"
     ]
    },
    {
     "name": "stdout",
     "output_type": "stream",
     "text": [
      "1219/1499 : 2RnPATK99oGOZygnD2GTO6 With A Little Help From My Friends - Remastered 2009 The Beatles Sgt. Pepper's Lonely Hearts Club Band (Remastered)\n"
     ]
    },
    {
     "name": "stdout",
     "output_type": "stream",
     "text": [
      "1220/1499 : 3Umg8CDhO8dOSj7yBTInYb Within You Without You - Remastered 2009 The Beatles Sgt. Pepper's Lonely Hearts Club Band (Remastered)\n"
     ]
    },
    {
     "name": "stdout",
     "output_type": "stream",
     "text": [
      "1221/1499 : 0j3p1p06deJ7f9xmJ9yG22 Back In The U.S.S.R. - Remastered 2009 The Beatles The Beatles (Remastered)\n"
     ]
    },
    {
     "name": "stdout",
     "output_type": "stream",
     "text": [
      "1222/1499 : 1ABegtCPBMMJaMpfDyATjE Birthday - Remastered 2009 The Beatles The Beatles (Remastered)\n"
     ]
    },
    {
     "name": "stdout",
     "output_type": "stream",
     "text": [
      "1223/1499 : 5jgFfDIR6FR0gvlA56Nakr Blackbird - Remastered 2009 The Beatles The Beatles (Remastered)\n"
     ]
    },
    {
     "name": "stdout",
     "output_type": "stream",
     "text": [
      "1224/1499 : 5XmetMMUFNXClbiYnGdVmP Cry Baby Cry - Remastered 2009 The Beatles The Beatles (Remastered)\n"
     ]
    },
    {
     "name": "stdout",
     "output_type": "stream",
     "text": [
      "1225/1499 : 5NQYyej46WQkgCbnzGD21W Dear Prudence - Remastered 2009 The Beatles The Beatles (Remastered)\n"
     ]
    },
    {
     "name": "stdout",
     "output_type": "stream",
     "text": [
      "1226/1499 : 4zq4rrfHZeZsTbo5vjJXSV Don't Pass Me By - Remastered 2009 The Beatles The Beatles (Remastered)\n"
     ]
    },
    {
     "name": "stdout",
     "output_type": "stream",
     "text": [
      "1227/1499 : 64P3zpRsDHIk7YTpRtaKYL Everybody's Got Something To Hide Except Me And My Monkey - Remastered 2009 The Beatles The Beatles (Remastered)\n"
     ]
    },
    {
     "name": "stdout",
     "output_type": "stream",
     "text": [
      "1228/1499 : 2jAojvUaPoHPFSPpF0UNRo Glass Onion - Remastered 2009 The Beatles The Beatles (Remastered)\n"
     ]
    },
    {
     "name": "stdout",
     "output_type": "stream",
     "text": [
      "1229/1499 : 3T4Kt51PV4k8tx6YCtBgcl Good Night - Remastered 2009 The Beatles The Beatles (Remastered)\n"
     ]
    },
    {
     "name": "stdout",
     "output_type": "stream",
     "text": [
      "1230/1499 : 71LsKf3xISiOlY1mj7FFPP Happiness Is A Warm Gun - Remastered 2009 The Beatles The Beatles (Remastered)\n"
     ]
    },
    {
     "name": "stdout",
     "output_type": "stream",
     "text": [
      "1231/1499 : 0Bs0hUYxz7REyIHH7tRhL2 Helter Skelter - Remastered 2009 The Beatles The Beatles (Remastered)\n"
     ]
    },
    {
     "name": "stdout",
     "output_type": "stream",
     "text": [
      "1232/1499 : 1TPcNcmuKlq0PKpYOBgP1U Honey Pie - Remastered 2009 The Beatles The Beatles (Remastered)\n"
     ]
    },
    {
     "name": "stdout",
     "output_type": "stream",
     "text": [
      "1233/1499 : 09x9v1o51dbqi5H0u7UGfp I Will - Remastered 2009 The Beatles The Beatles (Remastered)\n"
     ]
    },
    {
     "name": "stdout",
     "output_type": "stream",
     "text": [
      "1234/1499 : 2X9H5BokS1u5O46YpNYNsZ I'm So Tired - Remastered 2009 The Beatles The Beatles (Remastered)\n"
     ]
    },
    {
     "name": "stdout",
     "output_type": "stream",
     "text": [
      "1235/1499 : 5FnpXVgDOk2sLT58qM22Of Julia - Remastered 2009 The Beatles The Beatles (Remastered)\n"
     ]
    },
    {
     "name": "stdout",
     "output_type": "stream",
     "text": [
      "1236/1499 : 3mlMpmY8oZIBFc39D9zLbh The Long And Winding Road - Remastered 2009 The Beatles Let It Be (Remastered)\n"
     ]
    },
    {
     "name": "stdout",
     "output_type": "stream",
     "text": [
      "1237/1499 : 1swmf4hFMJYRNA8Rq9PVaW Martha My Dear - Remastered 2009 The Beatles The Beatles (Remastered)\n"
     ]
    },
    {
     "name": "stdout",
     "output_type": "stream",
     "text": [
      "1238/1499 : 6TjUg1cTUzWHbal6yQAi7c Mother Nature's Son - Remastered 2009 The Beatles The Beatles (Remastered)\n"
     ]
    },
    {
     "name": "stdout",
     "output_type": "stream",
     "text": [
      "1239/1499 : 1gFNm7cXfG1vSMcxPpSxec Ob-La-Di, Ob-La-Da - Remastered 2009 The Beatles The Beatles (Remastered)\n"
     ]
    },
    {
     "name": "stdout",
     "output_type": "stream",
     "text": [
      "1240/1499 : 4ZmjfLdJXbqjAENqk7eWSE Piggies - Remastered 2009 The Beatles The Beatles (Remastered)\n"
     ]
    },
    {
     "name": "stdout",
     "output_type": "stream",
     "text": [
      "1241/1499 : 5dZ8PeKKZJLIQAWNTdp8WX Revolution 9 - Remastered 2009 The Beatles The Beatles (Remastered)\n"
     ]
    },
    {
     "name": "stdout",
     "output_type": "stream",
     "text": [
      "1242/1499 : 0xulhqNI2L3CoAe0CLe65V Revolution - Take 14 / Instrumental Backing Track The Beatles The Beatles\n"
     ]
    },
    {
     "name": "stdout",
     "output_type": "stream",
     "text": [
      "1243/1499 : 1ITQbrueGLl581a25XXm9c Rocky Raccoon - Remastered 2009 The Beatles The Beatles (Remastered)\n"
     ]
    },
    {
     "name": "stdout",
     "output_type": "stream",
     "text": [
      "1244/1499 : 5iyCSUM7zzficwaGo8GIoc Savoy Truffle - Remastered 2009 The Beatles The Beatles (Remastered)\n"
     ]
    },
    {
     "name": "stdout",
     "output_type": "stream",
     "text": [
      "1245/1499 : 2tBv9tAdqEbLNDi5smSjbg Sexy Sadie - Remastered 2009 The Beatles The Beatles (Remastered)\n"
     ]
    },
    {
     "name": "stdout",
     "output_type": "stream",
     "text": [
      "1246/1499 : 5Z3Rd1fMcaty8g5Pn7yhBQ The Continuing Story Of Bungalow Bill - Remastered 2009 The Beatles The Beatles (Remastered)\n"
     ]
    },
    {
     "name": "stdout",
     "output_type": "stream",
     "text": [
      "1247/1499 : 389QX9Q1eUOEZ19vtzzI9O While My Guitar Gently Weeps - Remastered 2009 The Beatles The Beatles (Remastered)\n"
     ]
    },
    {
     "name": "stdout",
     "output_type": "stream",
     "text": [
      "1248/1499 : 4eLIq1nQNwz2qLu8DeiWIp Why Don't We Do It In The Road? - Remastered 2009 The Beatles The Beatles (Remastered)\n"
     ]
    },
    {
     "name": "stdout",
     "output_type": "stream",
     "text": [
      "1249/1499 : 6j67aNAPeQ31uw4qw4rpLa Wild Honey Pie - Remastered 2009 The Beatles The Beatles (Remastered)\n"
     ]
    },
    {
     "name": "stdout",
     "output_type": "stream",
     "text": [
      "1250/1499 : 2AsGApoUuN8pTM17Lq9eUd Yer Blues - Remastered 2009 The Beatles The Beatles (Remastered)\n"
     ]
    },
    {
     "name": "stdout",
     "output_type": "stream",
     "text": [
      "1251/1499 : 4t0Pj3iBnSCZv5pDEPNmzG Jive Talkin' - From \"Saturday Night Fever\" Soundtrack Bee Gees Main Course\n"
     ]
    },
    {
     "name": "stdout",
     "output_type": "stream",
     "text": [
      "1252/1499 : 3mRM4NM8iO7UBqrSigCQFH Stayin' Alive - From \"Saturday Night Fever\" Soundtrack Bee Gees Greatest\n"
     ]
    },
    {
     "name": "stdout",
     "output_type": "stream",
     "text": [
      "1253/1499 : 5lN1EH25gdiqT1SFALMAq1 Gold on the Ceiling The Black Keys El Camino\n"
     ]
    },
    {
     "name": "stdout",
     "output_type": "stream",
     "text": [
      "1254/1499 : 5G1sTBGbZT5o4PNRc75RKI Lonely Boy The Black Keys El Camino\n"
     ]
    },
    {
     "name": "stdout",
     "output_type": "stream",
     "text": [
      "1255/1499 : 5DjnapHOsR30xp0MJaj4u9 Sweet Home Chicago The Blues Brothers Blues Gems\n"
     ]
    },
    {
     "name": "stdout",
     "output_type": "stream",
     "text": [
      "1256/1499 : 2yBVeksU2EtrPJbTu4ZslK What a Fool Believes The Doobie Brothers Minute by Minute\n"
     ]
    },
    {
     "name": "stdout",
     "output_type": "stream",
     "text": [
      "1257/1499 : 2yBVeksU2EtrPJbTu4ZslK What a Fool Believes The Doobie Brothers Minute by Minute\n"
     ]
    },
    {
     "name": "stdout",
     "output_type": "stream",
     "text": [
      "The Doors (You Need Meat) Don't Go No Further L.A. Woman not in spotify\n"
     ]
    },
    {
     "name": "stdout",
     "output_type": "stream",
     "text": [
      "1259/1499 : 1E7qCptwRPfvZrIDyDDgjh Been down so Long The Doors L.A. Woman\n"
     ]
    },
    {
     "name": "stdout",
     "output_type": "stream",
     "text": [
      "1260/1499 : 2Sjez1CwJv8Pz018CxKjWa Cars Hiss by My Window The Doors L.A. Woman\n"
     ]
    },
    {
     "name": "stdout",
     "output_type": "stream",
     "text": [
      "1261/1499 : 14qbY7LbhcXwECCGqH2z7U Crawling King Snake The Doors L.A. Woman\n"
     ]
    },
    {
     "name": "stdout",
     "output_type": "stream",
     "text": [
      "1262/1499 : 4nKmlUaUiUN4rpMGYnUPAu Hyacinth House The Doors L.A. Woman\n"
     ]
    },
    {
     "name": "stdout",
     "output_type": "stream",
     "text": [
      "1263/1499 : 14XWXWv5FoCbFzLksawpEe Riders on the Storm The Doors L.A. Woman\n"
     ]
    },
    {
     "name": "stdout",
     "output_type": "stream",
     "text": [
      "1264/1499 : 4RE79d7ACKfTPC7qE65xpi L'America The Doors L.A. Woman\n"
     ]
    },
    {
     "name": "stdout",
     "output_type": "stream",
     "text": [
      "1265/1499 : 3MFFDRC4wTN9JNGtzXsZlN Love Her Madly The Doors L.A. Woman\n"
     ]
    },
    {
     "name": "stdout",
     "output_type": "stream",
     "text": [
      "1266/1499 : 14XWXWv5FoCbFzLksawpEe Riders on the Storm The Doors L.A. Woman\n"
     ]
    },
    {
     "name": "stdout",
     "output_type": "stream",
     "text": [
      "1267/1499 : 3uqxwLp7Hs9sJhm4uVF8li The Changeling The Doors L.A. Woman\n"
     ]
    },
    {
     "name": "stdout",
     "output_type": "stream",
     "text": [
      "1268/1499 : 6ieXnWm8uineF8k9Ugn5DG The WASP (Texas Radio and the Big Beat) The Doors L.A. Woman\n"
     ]
    },
    {
     "name": "stdout",
     "output_type": "stream",
     "text": [
      "1269/1499 : 42dsUTJpzMWUJfEkzsbKWl When the Music's Over The Doors Strange Days\n"
     ]
    },
    {
     "name": "stdout",
     "output_type": "stream",
     "text": [
      "1270/1499 : 0JNZGIavoUrdup1NsgJOQs Alabama Song (Whisky Bar) The Doors The Doors\n"
     ]
    },
    {
     "name": "stdout",
     "output_type": "stream",
     "text": [
      "1271/1499 : 03By6gD02qhtvIQiK8KidK Back Door Man The Doors The Doors\n"
     ]
    },
    {
     "name": "stdout",
     "output_type": "stream",
     "text": [
      "1272/1499 : 6ToM0uwxtPKo9CMpbPGYvM Break on Through (To the Other Side) The Doors The Doors\n"
     ]
    },
    {
     "name": "stdout",
     "output_type": "stream",
     "text": [
      "1273/1499 : 09ezgACZuwWZt6CtQSSLRG End of the Night The Doors The Doors\n"
     ]
    },
    {
     "name": "stdout",
     "output_type": "stream",
     "text": [
      "1274/1499 : 6vCLIvOIabRk1XQfMb6RXi I Looked at You The Doors The Doors\n"
     ]
    },
    {
     "name": "stdout",
     "output_type": "stream",
     "text": [
      "1275/1499 : 5uvosCdMlFdTXhoazkTI5R Light My Fire The Doors The Doors\n"
     ]
    },
    {
     "name": "stdout",
     "output_type": "stream",
     "text": [
      "1276/1499 : 2Xdc6qyaFBJZ8QW1KhpVci Soul Kitchen The Doors The Doors\n"
     ]
    },
    {
     "name": "stdout",
     "output_type": "stream",
     "text": [
      "1277/1499 : 4pxHVL0syMQwYK3BxDaTIs Take It as It Comes The Doors The Doors\n"
     ]
    },
    {
     "name": "stdout",
     "output_type": "stream",
     "text": [
      "1278/1499 : 0gWvVB4bGvADocoPMEDy3K The Crystal Ship The Doors The Doors\n"
     ]
    },
    {
     "name": "stdout",
     "output_type": "stream",
     "text": [
      "1279/1499 : 5UgT7w6zVZjP3oyawMzbiK The End The Doors The Doors\n"
     ]
    },
    {
     "name": "stdout",
     "output_type": "stream",
     "text": [
      "1280/1499 : 7mc2TP4Vzuyw2vNf1bLW9f Twentieth Century Fox The Doors The Doors\n"
     ]
    },
    {
     "name": "stdout",
     "output_type": "stream",
     "text": [
      "1281/1499 : 55eILhe6Yr58TuLxHskVh1 Dawn Patrol The Eliminators Unleashed\n"
     ]
    },
    {
     "name": "stdout",
     "output_type": "stream",
     "text": [
      "The Killers Somedy Told Me Hot Fuss not in spotify\n"
     ]
    },
    {
     "name": "stdout",
     "output_type": "stream",
     "text": [
      "1283/1499 : 6jX5mso4x00c1EiNMrTU9U Please Mr. Postman The Marvelettes Please Mr. Postman\n"
     ]
    },
    {
     "name": "stdout",
     "output_type": "stream",
     "text": [
      "1284/1499 : 41AzqP02Aat8A8Orp5tGWh Come Out and Play The Offspring Smash (2008 Remaster)\n"
     ]
    },
    {
     "name": "stdout",
     "output_type": "stream",
     "text": [
      "1285/1499 : 4cHObLf8gg0XIvi7AsUPuJ Be My Girl - Sally The Police Outlandos D'Amour (Remastered 2003)\n"
     ]
    },
    {
     "name": "stdout",
     "output_type": "stream",
     "text": [
      "1286/1499 : 0RxrsIXyGkeV8JwEFUZMhg Born In The 50's The Police Outlandos D'Amour (Remastered 2003)\n"
     ]
    },
    {
     "name": "stdout",
     "output_type": "stream",
     "text": [
      "1287/1499 : 6DjKJgwe9c90Bd2iya0fre Can't Stand Losing You The Police Outlandos D'Amour (Remastered 2003)\n"
     ]
    },
    {
     "name": "stdout",
     "output_type": "stream",
     "text": [
      "1288/1499 : 25McPIqh9oSdPSP36Gu7Jp Hole In My Life The Police Outlandos D'Amour (Remastered 2003)\n"
     ]
    },
    {
     "name": "stdout",
     "output_type": "stream",
     "text": [
      "1289/1499 : 4i4zjkLYGOwHXbNTnsesGe Masoko Tanga The Police Outlandos D'Amour (Remastered 2003)\n"
     ]
    },
    {
     "name": "stdout",
     "output_type": "stream",
     "text": [
      "1290/1499 : 7HjipY3Vy2HAN11D2juKHT Next To You The Police Outlandos D'Amour (Remastered 2003)\n"
     ]
    },
    {
     "name": "stdout",
     "output_type": "stream",
     "text": [
      "1291/1499 : 7Jsli31ZTv3TI28qcXzEkE Peanuts The Police Outlandos D'Amour (Remastered 2003)\n"
     ]
    },
    {
     "name": "stdout",
     "output_type": "stream",
     "text": [
      "1292/1499 : 3EYOJ48Et32uATr9ZmLnAo Roxanne The Police Outlandos D'Amour (Remastered 2003)\n"
     ]
    },
    {
     "name": "stdout",
     "output_type": "stream",
     "text": [
      "1293/1499 : 2wnsBaxrmkthIFAm6vqCuX So Lonely The Police Outlandos D'Amour (Remastered 2003)\n"
     ]
    },
    {
     "name": "stdout",
     "output_type": "stream",
     "text": [
      "1294/1499 : 4pLhVO0JuMiFDSJYDiGP7S Truth Hits Everybody The Police Outlandos D'Amour (Remastered 2003)\n"
     ]
    },
    {
     "name": "stdout",
     "output_type": "stream",
     "text": [
      "1295/1499 : 0Qbx7vIuaJ9XSRrIBpDs75 Almost Perfect Pretenders Break Up The Concrete\n"
     ]
    },
    {
     "name": "stdout",
     "output_type": "stream",
     "text": [
      "1296/1499 : 4TKffnyk1K3iqvsPrnXrEC Boots Of Chinese Plastic Pretenders Break Up The Concrete\n"
     ]
    },
    {
     "name": "stdout",
     "output_type": "stream",
     "text": [
      "1297/1499 : 4TKffnyk1K3iqvsPrnXrEC Boots Of Chinese Plastic Pretenders Break Up The Concrete\n"
     ]
    },
    {
     "name": "stdout",
     "output_type": "stream",
     "text": [
      "1298/1499 : 5XDUmQ0qmUsFJKGNNxqyxX Don't Cut Your Hair Pretenders Break Up The Concrete\n"
     ]
    },
    {
     "name": "stdout",
     "output_type": "stream",
     "text": [
      "1299/1499 : 79rwPijJE1nVf4lOQnVyr8 Don't Lose Faith In Me Pretenders Break Up The Concrete\n"
     ]
    },
    {
     "name": "stdout",
     "output_type": "stream",
     "text": [
      "1300/1499 : 2x9pImX7KDnslA7CtQa29x Love's A Mystery Pretenders Break Up The Concrete\n"
     ]
    },
    {
     "name": "stdout",
     "output_type": "stream",
     "text": [
      "1301/1499 : 768lAvT6IHptGX8yR6r4aq One Thing Never Changed Pretenders Break Up The Concrete\n"
     ]
    },
    {
     "name": "stdout",
     "output_type": "stream",
     "text": [
      "1302/1499 : 6ETWkzDLHBdUWYTACURfSd Rosalee Pretenders Break Up The Concrete\n"
     ]
    },
    {
     "name": "stdout",
     "output_type": "stream",
     "text": [
      "1303/1499 : 4u7ES1IfuCthfQ1IXUdMwu The Last Ride Pretenders Break Up The Concrete\n"
     ]
    },
    {
     "name": "stdout",
     "output_type": "stream",
     "text": [
      "1304/1499 : 03uIR0PWx0Zm4l7syQQobA The Nothing Maker Pretenders Break Up The Concrete\n"
     ]
    },
    {
     "name": "stdout",
     "output_type": "stream",
     "text": [
      "1305/1499 : 7LdBn9S03IGrFxlpFJtqct You Didn't Have To Pretenders Break Up The Concrete\n"
     ]
    },
    {
     "name": "stdout",
     "output_type": "stream",
     "text": [
      "1306/1499 : 4KcH1ZRV2W1q7Flq0QqC76 Blitzkrieg Bop - 2016 Remaster Ramones Ramones (40th Anniversary Deluxe Edition; 2016 Remaster)\n"
     ]
    },
    {
     "name": "stdout",
     "output_type": "stream",
     "text": [
      "1307/1499 : 1Xdhp215nsdETJ17AtC7ve Paint It, Black The Rolling Stones Big Hits (High Tide and Green Grass)\n"
     ]
    },
    {
     "name": "stdout",
     "output_type": "stream",
     "text": [
      "1308/1499 : 2PzU4IB8Dr6mxV3lHuaG34 (I Can't Get No) Satisfaction - Mono Version The Rolling Stones Out Of Our Heads\n"
     ]
    },
    {
     "name": "stdout",
     "output_type": "stream",
     "text": [
      "1309/1499 : 77oU2rjC5XbjQfNe3bD6so Beast Of Burden - Remastered The Rolling Stones Some Girls\n"
     ]
    },
    {
     "name": "stdout",
     "output_type": "stream",
     "text": [
      "1310/1499 : 6P30NMoLLzWTuue4faRjsd Bright Blue Berlin Sky The Shutes Echo of Love\n"
     ]
    },
    {
     "name": "stdout",
     "output_type": "stream",
     "text": [
      "1311/1499 : 6oLkjvoxlMBTvkZp80qr8j Armageddon The Skints Swimming Lessons\n"
     ]
    },
    {
     "name": "stdout",
     "output_type": "stream",
     "text": [
      "1312/1499 : 67dUbEzM08T33e1cJwqWOf Donkey Brain The Skints Swimming Lessons\n"
     ]
    },
    {
     "name": "stdout",
     "output_type": "stream",
     "text": [
      "1313/1499 : 79o3E0w2LxEE1xFa3rSQDI Gets on Top The Skints Swimming Lessons\n"
     ]
    },
    {
     "name": "stdout",
     "output_type": "stream",
     "text": [
      "1314/1499 : 7ItGWAFE1mL5zRY2FP7sbH I'm a Fool The Skints Swimming Lessons\n"
     ]
    },
    {
     "name": "stdout",
     "output_type": "stream",
     "text": [
      "1315/1499 : 1Fv3HXp8X6ca1mBAnPRgY8 La La La The Skints Swimming Lessons\n"
     ]
    },
    {
     "name": "stdout",
     "output_type": "stream",
     "text": [
      "1316/1499 : 6jZigSdBjou8UjTmo0qIPn Learning to Swim The Skints Swimming Lessons\n"
     ]
    },
    {
     "name": "stdout",
     "output_type": "stream",
     "text": [
      "1317/1499 : 6wLD6BlEDdtVsAcQvpGZTb Love is the Devil The Skints Swimming Lessons\n"
     ]
    },
    {
     "name": "stdout",
     "output_type": "stream",
     "text": [
      "1318/1499 : 5JjhxNp40aX982GU7Mqtze New Kind of Friend The Skints Swimming Lessons\n"
     ]
    },
    {
     "name": "stdout",
     "output_type": "stream",
     "text": [
      "1319/1499 : 4s4qkPt2enoBT0AvAVOkOo Oh My Love The Skints Swimming Lessons\n"
     ]
    },
    {
     "name": "stdout",
     "output_type": "stream",
     "text": [
      "1320/1499 : 6Pivf1vb0CqdocaQDoaAP2 Restless The Skints Swimming Lessons\n"
     ]
    },
    {
     "name": "stdout",
     "output_type": "stream",
     "text": [
      "1321/1499 : 4fehscYU2DqceDaxDtbk74 Stop Looking Back The Skints Swimming Lessons\n"
     ]
    },
    {
     "name": "stdout",
     "output_type": "stream",
     "text": [
      "1322/1499 : 4fookAEFrK1ROLsH2pSiak The Island The Skints Swimming Lessons\n"
     ]
    },
    {
     "name": "stdout",
     "output_type": "stream",
     "text": [
      "1323/1499 : 69C44oYQBEteub1apzAOAW This is an Interlude The Skints Swimming Lessons\n"
     ]
    },
    {
     "name": "stdout",
     "output_type": "stream",
     "text": [
      "The Skints What Did I Learned Today? Swimming Lessons not in spotify\n"
     ]
    },
    {
     "name": "stdout",
     "output_type": "stream",
     "text": [
      "1325/1499 : 7ledv9CTjqdwnvHgRmETyZ Flowers On the Wall The Statler Brothers Flowers On The Wall: The Essential Statler Brothers 1964-1969\n"
     ]
    },
    {
     "name": "stdout",
     "output_type": "stream",
     "text": [
      "1326/1499 : 57Xjny5yNzAcsxnusKmAfA Reptilia The Strokes Room On Fire\n"
     ]
    },
    {
     "name": "stdout",
     "output_type": "stream",
     "text": [
      "1327/1499 : 22ff60cZy4APp7bzESHLR8 Disco Inferno - Single Edit The Trammps Rhino Hi-Five: The Trammps\n"
     ]
    },
    {
     "name": "stdout",
     "output_type": "stream",
     "text": [
      "1328/1499 : 1JO1xLtVc8mWhIoE3YaCL0 Happy Together The Turtles Happy Together\n"
     ]
    },
    {
     "name": "stdout",
     "output_type": "stream",
     "text": [
      "1329/1499 : 7i6r9KotUPQg3ozKKgEPIN Seven Nation Army The White Stripes Elephant\n",
      "1330/1499 : 3qiyyUfYe7CRYLucrPmulD Baba O'Riley The Who Who's Next\n"
     ]
    },
    {
     "name": "stdout",
     "output_type": "stream",
     "text": [
      "1331/1499 : 1W1GpfPujmgp2vQqcpUhtU Won't Get Fooled Again - Remix The Who Who's Next (Expanded Edition)\n"
     ]
    },
    {
     "name": "stdout",
     "output_type": "stream",
     "text": [
      "1332/1499 : 43DeSV93pJPT4lCZaWZ6b1 The Boys Are Back In Town Thin Lizzy Jailbreak (Deluxe Edition)\n"
     ]
    },
    {
     "name": "stdout",
     "output_type": "stream",
     "text": [
      "1333/1499 : 6rUp7v3l8yC4TKxAAR5Bmx I Hate Everything About You Three Days Grace Three Days Grace (Deluxe Version)\n"
     ]
    },
    {
     "name": "stdout",
     "output_type": "stream",
     "text": [
      "Todd Terje Alfonso Muskender It's Album Time not in spotify\n"
     ]
    },
    {
     "name": "stdout",
     "output_type": "stream",
     "text": [
      "Todd Terje Dolorean Dynamite It's Album Time not in spotify\n"
     ]
    },
    {
     "name": "stdout",
     "output_type": "stream",
     "text": [
      "1336/1499 : 01txDiOnBPfMrVQwPQtDHR Inspector Norse Todd Terje It's Album Time\n"
     ]
    },
    {
     "name": "stdout",
     "output_type": "stream",
     "text": [
      "1337/1499 : 60EtWSoDRJSFmg99MKZi0x Intro (It's Album Time) Todd Terje It's Album Time\n"
     ]
    },
    {
     "name": "stdout",
     "output_type": "stream",
     "text": [
      "1338/1499 : 07Wr8BA8v4hsvczK43fZw4 Oh Joy Todd Terje It's Album Time\n"
     ]
    },
    {
     "name": "stdout",
     "output_type": "stream",
     "text": [
      "1339/1499 : 7vUbnU8XibkKccpuoyWqIm Preben Goes to Acapulco Todd Terje It's Album Time\n"
     ]
    },
    {
     "name": "stdout",
     "output_type": "stream",
     "text": [
      "1340/1499 : 6reLfBSO38qmFgHgz6kAs0 Strandbar Todd Terje It's Album Time\n"
     ]
    },
    {
     "name": "stdout",
     "output_type": "stream",
     "text": [
      "1341/1499 : 0Def9GQnjyliBmy7LmoXvn Svensk Sås Todd Terje It's Album Time\n"
     ]
    },
    {
     "name": "stdout",
     "output_type": "stream",
     "text": [
      "1342/1499 : 0z6QVQ6FbgHFi6qVyh8xSh Swing Star, Pt. 1 Todd Terje It's Album Time\n"
     ]
    },
    {
     "name": "stdout",
     "output_type": "stream",
     "text": [
      "1343/1499 : 2z6OostMhIFP6JmpQazDIL Swing Star, Pt. 2 Todd Terje It's Album Time\n"
     ]
    },
    {
     "name": "stdout",
     "output_type": "stream",
     "text": [
      "1344/1499 : 0JZashf9EKTIw8vpVp5qRM Kul I Pul Todd Terje Mjøndalen Diskoklubb\n"
     ]
    },
    {
     "name": "stdout",
     "output_type": "stream",
     "text": [
      "1345/1499 : 7nNKbWdmUqKHGfgipRborS A Distant Closeness Tommy Guerrero Road to Knowhere\n"
     ]
    },
    {
     "name": "stdout",
     "output_type": "stream",
     "text": [
      "1346/1499 : 46TKHBSVXIOYjfi3pp6X7F El camino negro Tommy Guerrero Road to Knowhere\n"
     ]
    },
    {
     "name": "stdout",
     "output_type": "stream",
     "text": [
      "1347/1499 : 2Rh8lX6vMw4gPWbB9hyEO3 Headin West - Bonus Track Tommy Guerrero Road to Knowhere\n"
     ]
    },
    {
     "name": "stdout",
     "output_type": "stream",
     "text": [
      "1348/1499 : 4gvwWBH2sM1nK8Jf0MJNK1 Heat in the Streets Tommy Guerrero Road to Knowhere\n"
     ]
    },
    {
     "name": "stdout",
     "output_type": "stream",
     "text": [
      "1349/1499 : 1rJaiv1oQkEL0DdBoKarPA Highway Hustle Tommy Guerrero Road to Knowhere\n"
     ]
    },
    {
     "name": "stdout",
     "output_type": "stream",
     "text": [
      "1350/1499 : 7l5DDOzlf8q5S87KbrNI16 Los padres Tommy Guerrero Road to Knowhere\n"
     ]
    },
    {
     "name": "stdout",
     "output_type": "stream",
     "text": [
      "1351/1499 : 2u4sit6Khr9SMHDAzLNzPs Postcard Home Tommy Guerrero Road to Knowhere\n"
     ]
    },
    {
     "name": "stdout",
     "output_type": "stream",
     "text": [
      "1352/1499 : 2fllsdGix2LLcVYufzKtMq Sidewalk Soul Tommy Guerrero Road to Knowhere\n"
     ]
    },
    {
     "name": "stdout",
     "output_type": "stream",
     "text": [
      "1353/1499 : 5RuoRiA2VuewUvCBn3Tqrp Silent Miles - Bonus Track Tommy Guerrero Road to Knowhere\n"
     ]
    },
    {
     "name": "stdout",
     "output_type": "stream",
     "text": [
      "1354/1499 : 1f6zaaYNBHcEDi8flDfsSg Slow Roll Tommy Guerrero Road to Knowhere\n"
     ]
    },
    {
     "name": "stdout",
     "output_type": "stream",
     "text": [
      "1355/1499 : 7D96SLwZnOBC0v3dpOPsEt The Endless Road Tommy Guerrero Road to Knowhere\n"
     ]
    },
    {
     "name": "stdout",
     "output_type": "stream",
     "text": [
      "1356/1499 : 75WWE2KDn0vU9kWoYl8T9S Where Water Once Was Tommy Guerrero Road to Knowhere\n"
     ]
    },
    {
     "name": "stdout",
     "output_type": "stream",
     "text": [
      "1357/1499 : 3EhuEeTQP2tAICvTakOEYF White Sands Tommy Guerrero Road to Knowhere\n"
     ]
    },
    {
     "name": "stdout",
     "output_type": "stream",
     "text": [
      "1358/1499 : 4OhqsmPMreC0EFCo3OmDSm 10,000 Days (Wings Pt 2) TOOL 10,000 Days\n"
     ]
    },
    {
     "name": "stdout",
     "output_type": "stream",
     "text": [
      "1359/1499 : 2ae6mkuD2gJnJQADl488et Intension TOOL 10,000 Days\n"
     ]
    },
    {
     "name": "stdout",
     "output_type": "stream",
     "text": [
      "1360/1499 : 2gbPu2QNqhnnqtfK3yyeZ0 Jambi TOOL 10,000 Days\n"
     ]
    },
    {
     "name": "stdout",
     "output_type": "stream",
     "text": [
      "1361/1499 : 7dP42zpNCIsEHlnRLZGo0i Lipan Conjuring TOOL 10,000 Days\n"
     ]
    },
    {
     "name": "stdout",
     "output_type": "stream",
     "text": [
      "1362/1499 : 0PLtBp8VchqMaJMl4abJaZ Lost Keys (Blame Hofman) TOOL 10,000 Days\n"
     ]
    },
    {
     "name": "stdout",
     "output_type": "stream",
     "text": [
      "1363/1499 : 0NLDZzVke3Qu7vDhWyGzRk Right In Two TOOL 10,000 Days\n"
     ]
    },
    {
     "name": "stdout",
     "output_type": "stream",
     "text": [
      "1364/1499 : 0D8l86LXxKcgKAO17DfQsl Rosetta Stoned TOOL 10,000 Days\n"
     ]
    },
    {
     "name": "stdout",
     "output_type": "stream",
     "text": [
      "1365/1499 : 1lATXTBJDHwawvT1UfxWu3 The Pot TOOL 10,000 Days\n"
     ]
    },
    {
     "name": "stdout",
     "output_type": "stream",
     "text": [
      "1366/1499 : 65ShmiE5aLBdcIGr7tHX35 Vicarious TOOL 10,000 Days\n"
     ]
    },
    {
     "name": "stdout",
     "output_type": "stream",
     "text": [
      "1367/1499 : 1A00hgLu1S7Q3GNMAjs5mX Viginti Tres TOOL 10,000 Days\n"
     ]
    },
    {
     "name": "stdout",
     "output_type": "stream",
     "text": [
      "1368/1499 : 1BDuMlv8zbeBmwFEBmE6N9 Wings For Marie (Pt 1) TOOL 10,000 Days\n"
     ]
    },
    {
     "name": "stdout",
     "output_type": "stream",
     "text": [
      "1369/1499 : 0KCdkjFn7as5rME8dInqGQ (-) Ions TOOL Ænima\n"
     ]
    },
    {
     "name": "stdout",
     "output_type": "stream",
     "text": [
      "1370/1499 : 0nLOl4fSiBZKGFla5pLUtf Ænema TOOL Ænima\n"
     ]
    },
    {
     "name": "stdout",
     "output_type": "stream",
     "text": [
      "1371/1499 : 6xttnk5U2VMVCaihaD0RPE Cesaro Summability TOOL Ænima\n"
     ]
    },
    {
     "name": "stdout",
     "output_type": "stream",
     "text": [
      "1372/1499 : 2uzCJ4ckvFhv6F9Q1CMkys Die Eier von Satan TOOL Ænima\n"
     ]
    },
    {
     "name": "stdout",
     "output_type": "stream",
     "text": [
      "1373/1499 : 0RVFjx2HwbHcl5SCSADpFP Eulogy TOOL Ænima\n"
     ]
    },
    {
     "name": "stdout",
     "output_type": "stream",
     "text": [
      "1374/1499 : 6AioOohg4bQZFA4jIYQQ2r Forty Six & 2 TOOL Ænima\n"
     ]
    },
    {
     "name": "stdout",
     "output_type": "stream",
     "text": [
      "1375/1499 : 5fYzuUxtcaJaRRaxMoM2DT H. TOOL Ænima\n"
     ]
    },
    {
     "name": "stdout",
     "output_type": "stream",
     "text": [
      "1376/1499 : 3S4G4SL15Cp4CvAfmye8um Hooker With A Penis TOOL Ænima\n"
     ]
    },
    {
     "name": "stdout",
     "output_type": "stream",
     "text": [
      "1377/1499 : 56IPgOpV9w1suGl7Lu9qeZ Intermission TOOL Ænima\n"
     ]
    },
    {
     "name": "stdout",
     "output_type": "stream",
     "text": [
      "1378/1499 : 09KJ3XQZ9RQ5prbSp59Wbc Jimmy TOOL Ænima\n"
     ]
    },
    {
     "name": "stdout",
     "output_type": "stream",
     "text": [
      "1379/1499 : 13aTOYQ4xvj84VACPu9zur Message To Harry Manback TOOL Ænima\n"
     ]
    },
    {
     "name": "stdout",
     "output_type": "stream",
     "text": [
      "1380/1499 : 4CbHM5bpfOfMNxNgVDHJRw Pushit TOOL Ænima\n"
     ]
    },
    {
     "name": "stdout",
     "output_type": "stream",
     "text": [
      "1381/1499 : 0pwObEOHolQZSldJ2q1wpy Stinkfist TOOL Ænima\n"
     ]
    },
    {
     "name": "stdout",
     "output_type": "stream",
     "text": [
      "1382/1499 : 2Dqg2mRbfIVKhBZleNrgmH Third Eye TOOL Ænima\n"
     ]
    },
    {
     "name": "stdout",
     "output_type": "stream",
     "text": [
      "1383/1499 : 5Ca9qZBftB2kGmuUOoJoea Useful Idiot TOOL Ænima\n"
     ]
    },
    {
     "name": "stdout",
     "output_type": "stream",
     "text": [
      "1384/1499 : 0gGfmw4csswZmFPj9YK8GW 7empest TOOL Fear Inoculum\n"
     ]
    },
    {
     "name": "stdout",
     "output_type": "stream",
     "text": [
      "1385/1499 : 3VcEEhf6NL8oq2e1IxFUVM Chocolate Chip Trip TOOL Fear Inoculum\n"
     ]
    },
    {
     "name": "stdout",
     "output_type": "stream",
     "text": [
      "1386/1499 : 3gPxMQWDMSEyPXMtzbcDdQ Culling Voices TOOL Fear Inoculum\n"
     ]
    },
    {
     "name": "stdout",
     "output_type": "stream",
     "text": [
      "1387/1499 : 0aTiUssEOy0Mt69bsavj6K Descending TOOL Fear Inoculum\n",
      "1388/1499 : 39zWYYZStDgWi32sOU9AX4 Fear Inoculum TOOL Fear Inoculum\n"
     ]
    },
    {
     "name": "stdout",
     "output_type": "stream",
     "text": [
      "1389/1499 : 2xKDKtJBLDPd7BF3VmSQQO Invincible TOOL Fear Inoculum\n"
     ]
    },
    {
     "name": "stdout",
     "output_type": "stream",
     "text": [
      "1390/1499 : 48C0O5CXfQdfjUCUhOs1YP Legion Inoculant TOOL Fear Inoculum\n"
     ]
    },
    {
     "name": "stdout",
     "output_type": "stream",
     "text": [
      "1391/1499 : 4qE9yOgBNsARadpZTAb6RH Litanie contre la Peur TOOL Fear Inoculum\n"
     ]
    },
    {
     "name": "stdout",
     "output_type": "stream",
     "text": [
      "1392/1499 : 5aDylkK93g6SvfTPJTXq4L Mockingbeat TOOL Fear Inoculum\n"
     ]
    },
    {
     "name": "stdout",
     "output_type": "stream",
     "text": [
      "1393/1499 : 03sEzk1VyrUZSgyhoQR0LZ Pneuma TOOL Fear Inoculum\n",
      "1394/1499 : 1FRlNrHd4OGNIEVgFuX9Fu Disposition TOOL Lateralus\n"
     ]
    },
    {
     "name": "stdout",
     "output_type": "stream",
     "text": [
      "1395/1499 : 5aVJ5rv7ghWSkQaqP726tE Eon Blue Apocalypse TOOL Lateralus\n"
     ]
    },
    {
     "name": "stdout",
     "output_type": "stream",
     "text": [
      "1396/1499 : 3oEgMtjTzGgXTFdO0IW2M7 Faaip De Oiad TOOL Lateralus\n"
     ]
    },
    {
     "name": "stdout",
     "output_type": "stream",
     "text": [
      "1397/1499 : 55mJleti2WfWEFNFcBduhc Schism TOOL Lateralus\n"
     ]
    },
    {
     "name": "stdout",
     "output_type": "stream",
     "text": [
      "1398/1499 : 4KVTRIZIj1WWIxitbREDnK Mantra TOOL Lateralus\n"
     ]
    },
    {
     "name": "stdout",
     "output_type": "stream",
     "text": [
      "1399/1499 : 1vxu8vMNshg5J8z3oA7QJZ Parabola TOOL Lateralus\n"
     ]
    },
    {
     "name": "stdout",
     "output_type": "stream",
     "text": [
      "1400/1499 : 1vxu8vMNshg5J8z3oA7QJZ Parabola TOOL Lateralus\n"
     ]
    },
    {
     "name": "stdout",
     "output_type": "stream",
     "text": [
      "1401/1499 : 0R7HFX1LW3E0ZR5BnAJLHz Reflection TOOL Lateralus\n"
     ]
    },
    {
     "name": "stdout",
     "output_type": "stream",
     "text": [
      "1402/1499 : 55mJleti2WfWEFNFcBduhc Schism TOOL Lateralus\n"
     ]
    },
    {
     "name": "stdout",
     "output_type": "stream",
     "text": [
      "1403/1499 : 6ZsZxNP4Iwdyp3kd5oFFQN The Grudge TOOL Lateralus\n"
     ]
    },
    {
     "name": "stdout",
     "output_type": "stream",
     "text": [
      "1404/1499 : 0Klbxk3g96Qae4DbCnUNcT The Patient TOOL Lateralus\n"
     ]
    },
    {
     "name": "stdout",
     "output_type": "stream",
     "text": [
      "1405/1499 : 0Cnx6PGogxIE2RnDcnoeK8 Ticks & Leeches TOOL Lateralus\n"
     ]
    },
    {
     "name": "stdout",
     "output_type": "stream",
     "text": [
      "1406/1499 : 2D9rd6TIpqmDkog5Mx8kxl Triad TOOL Lateralus\n"
     ]
    },
    {
     "name": "stdout",
     "output_type": "stream",
     "text": [
      "1407/1499 : 4aVuWgvD0X63hcOCnZtNFA Hold the Line TOTO Toto\n"
     ]
    },
    {
     "name": "stdout",
     "output_type": "stream",
     "text": [
      "1408/1499 : 15RB3lFt2Mhc16m5fTTYkh Hey Oh - Radio Edit Tragédie Tragédie (Édition Deluxe)\n"
     ]
    },
    {
     "name": "stdout",
     "output_type": "stream",
     "text": [
      "Twenty One Pilots Ride Blurry Face not in spotify\n"
     ]
    },
    {
     "name": "stdout",
     "output_type": "stream",
     "text": [
      "1410/1499 : 05RgAMGypEvqhNs5hPCbMS Panama - 2015 Remaster Van Halen 1984 (Remastered)\n"
     ]
    },
    {
     "name": "stdout",
     "output_type": "stream",
     "text": [
      "1411/1499 : 423RKXolCbgBbkF8WanOwA Riptide Vance Joy God Loves You When You're Dancing\n"
     ]
    },
    {
     "name": "stdout",
     "output_type": "stream",
     "text": [
      "1412/1499 : 5MZrOnwTMwnUqAMxTNnV7t Heaven Nor Hell Volbeat Beyond Hell / Above Heaven\n"
     ]
    },
    {
     "name": "stdout",
     "output_type": "stream",
     "text": [
      "1413/1499 : 48wH8bAxvBJO2l14GmNLz7 Wait for the Moment Vulfpeck My First Car\n"
     ]
    },
    {
     "name": "stdout",
     "output_type": "stream",
     "text": [
      "1414/1499 : 6ZyuNGpj7FQDT9vklQlmJA 1 for 1, DiMaggio Vulfpeck The Beautiful Game\n"
     ]
    },
    {
     "name": "stdout",
     "output_type": "stream",
     "text": [
      "1415/1499 : 1SHA4IJyiyNobDOrQzFFXy Animal Spirits Vulfpeck The Beautiful Game\n"
     ]
    },
    {
     "name": "stdout",
     "output_type": "stream",
     "text": [
      "1416/1499 : 6vzRQHItVGIT94q33HvRZx Aunt Leslie Vulfpeck The Beautiful Game\n"
     ]
    },
    {
     "name": "stdout",
     "output_type": "stream",
     "text": [
      "1417/1499 : 5vmFVIJV9XN1l01YsFuKL3 Conscious Club Vulfpeck The Beautiful Game\n"
     ]
    },
    {
     "name": "stdout",
     "output_type": "stream",
     "text": [
      "1418/1499 : 1L9qsoNnyT3r8fgr2Pr7Ty Cory Wong Vulfpeck The Beautiful Game\n"
     ]
    },
    {
     "name": "stdout",
     "output_type": "stream",
     "text": [
      "1419/1499 : 2WbKDH7BbDUHqACsZH0KVW Daddy, He Got a Tesla Vulfpeck The Beautiful Game\n"
     ]
    },
    {
     "name": "stdout",
     "output_type": "stream",
     "text": [
      "1420/1499 : 1oOD1pV43cV9sHg97aBdLs Dean Town Vulfpeck The Beautiful Game\n"
     ]
    },
    {
     "name": "stdout",
     "output_type": "stream",
     "text": [
      "1421/1499 : 4dwUJK6Za2KRrj8z0BM2Ab El Chepe Vulfpeck The Beautiful Game\n"
     ]
    },
    {
     "name": "stdout",
     "output_type": "stream",
     "text": [
      "1422/1499 : 5h3MfjJrSPqKTZ7F4wyHg9 Margery, My First Car Vulfpeck The Beautiful Game\n"
     ]
    },
    {
     "name": "stdout",
     "output_type": "stream",
     "text": [
      "1423/1499 : 73bJahLiTR2RAfXd3aNn1p The Sweet Science Vulfpeck The Beautiful Game\n"
     ]
    },
    {
     "name": "stdout",
     "output_type": "stream",
     "text": [
      "1424/1499 : 1DrlLvlYd1FIjNavRm6NdX Back Pocket Vulfpeck Thrill of the Arts\n",
      "1425/1499 : 1CyAxM93XN2atUBykXFWPX Game Winner Vulfpeck Thrill of the Arts\n"
     ]
    },
    {
     "name": "stdout",
     "output_type": "stream",
     "text": [
      "1426/1499 : 7LygtNjQ65PSdzVjUnHXQb Cherry Pie Warrant Cherry Pie\n"
     ]
    },
    {
     "name": "stdout",
     "output_type": "stream",
     "text": [
      "1427/1499 : 7FSVxHogsHZP0Gmaz2alyl Say It Ain't So Molotov Cocktail Piano Tribute to Weezer: The Blue Album Deluxe\n"
     ]
    },
    {
     "name": "stdout",
     "output_type": "stream",
     "text": [
      "1428/1499 : 2MLHyLy5z5l5YRp7momlgw Island In The Sun Weezer Weezer (Green Album)\n"
     ]
    },
    {
     "name": "stdout",
     "output_type": "stream",
     "text": [
      "Wejdene Anissa N/A not in spotify\n"
     ]
    },
    {
     "name": "stdout",
     "output_type": "stream",
     "text": [
      "1430/1499 : 4jeOc5YrcgFdjgOQqSahd1 Caged Within Temptation Mother Earth\n",
      "1431/1499 : 5cEc0OHUUMfD5MVfFdizR6 Dark Wings Within Temptation Mother Earth\n"
     ]
    },
    {
     "name": "stdout",
     "output_type": "stream",
     "text": [
      "1432/1499 : 5aygztsY9IOUz4lBd0M4Ru Deceiver Of Fools Within Temptation Mother Earth\n"
     ]
    },
    {
     "name": "stdout",
     "output_type": "stream",
     "text": [
      "1433/1499 : 4GbYLpSqf2Trkwqgb7p1os Ice Queen Within Temptation Mother Earth\n"
     ]
    },
    {
     "name": "stdout",
     "output_type": "stream",
     "text": [
      "1434/1499 : 0HltrGBDkljdqfsK7ZlKPB In Perfect Harmony Within Temptation Mother Earth\n"
     ]
    },
    {
     "name": "stdout",
     "output_type": "stream",
     "text": [
      "1435/1499 : 0Ggzy6UEomashfAkKHzcQr Mother Earth Within Temptation Mother Earth\n"
     ]
    },
    {
     "name": "stdout",
     "output_type": "stream",
     "text": [
      "1436/1499 : 6eb2kEFO4SsyUTlFMU1ZZF Never Ending Story - Extended Version Within Temptation Mother Earth\n"
     ]
    },
    {
     "name": "stdout",
     "output_type": "stream",
     "text": [
      "1437/1499 : 0ClEsmX3to1Rb4tcHkYmOL Our Farewell Within Temptation Mother Earth\n"
     ]
    },
    {
     "name": "stdout",
     "output_type": "stream",
     "text": [
      "1438/1499 : 6gjIe22qtRjVv22mU3spo3 The Promise Within Temptation Mother Earth\n"
     ]
    },
    {
     "name": "stdout",
     "output_type": "stream",
     "text": [
      "1439/1499 : 4BhqnM5lktowwfHqq2JYhg All I Need Within Temptation The Heart of Everything\n"
     ]
    },
    {
     "name": "stdout",
     "output_type": "stream",
     "text": [
      "1440/1499 : 3nehrTMRyizLW3WgRcbNTQ Final Destination Within Temptation The Heart of Everything\n"
     ]
    },
    {
     "name": "stdout",
     "output_type": "stream",
     "text": [
      "1441/1499 : 5JY8IIwlpMZnSvL20SKpGp Forgiven Within Temptation The Heart of Everything\n"
     ]
    },
    {
     "name": "stdout",
     "output_type": "stream",
     "text": [
      "1442/1499 : 0QAvJ73wGHw7IC3sis4nLE Frozen Within Temptation The Heart of Everything\n"
     ]
    },
    {
     "name": "stdout",
     "output_type": "stream",
     "text": [
      "1443/1499 : 61i8W3gHpGUAIDlQj5UUAE Hand of Sorrow Within Temptation The Heart of Everything\n"
     ]
    },
    {
     "name": "stdout",
     "output_type": "stream",
     "text": [
      "1444/1499 : 1jCPzDzUzhCVX75KLqrzCw Our Solemn Hour Within Temptation The Heart of Everything\n"
     ]
    },
    {
     "name": "stdout",
     "output_type": "stream",
     "text": [
      "1445/1499 : 4yYmZH77EKb4ZWjfpVm8Rj Stand My Ground - Live Within Temptation The Heart of Everything\n"
     ]
    },
    {
     "name": "stdout",
     "output_type": "stream",
     "text": [
      "1446/1499 : 4VPsB29pvoGauzIlaqjYA0 The Cross Within Temptation The Heart of Everything\n"
     ]
    },
    {
     "name": "stdout",
     "output_type": "stream",
     "text": [
      "1447/1499 : 4BhqnM5lktowwfHqq2JYhg All I Need Within Temptation The Heart of Everything\n"
     ]
    },
    {
     "name": "stdout",
     "output_type": "stream",
     "text": [
      "1448/1499 : 6HQWzxzoM0d3KSOHRREDie The Howling Within Temptation The Heart of Everything\n"
     ]
    },
    {
     "name": "stdout",
     "output_type": "stream",
     "text": [
      "1449/1499 : 1hVoVHuzYmnLWGZ557vlBf The Truth Beneath the Rose Within Temptation The Heart of Everything\n"
     ]
    },
    {
     "name": "stdout",
     "output_type": "stream",
     "text": [
      "1450/1499 : 66wcihY2Y8ZSqux6EivMWa What Have You Done (feat. Keith Caputo) Within Temptation The Heart of Everything\n"
     ]
    },
    {
     "name": "stdout",
     "output_type": "stream",
     "text": [
      "1451/1499 : 2GwzOugx5dH89QfMMvg5Wy A Demon's Fate Within Temptation The Unforgiving\n"
     ]
    },
    {
     "name": "stdout",
     "output_type": "stream",
     "text": [
      "1452/1499 : 5oX5jpeZsXBWEheqE0qqqD Faster Within Temptation The Unforgiving\n"
     ]
    },
    {
     "name": "stdout",
     "output_type": "stream",
     "text": [
      "1453/1499 : 3ndK85JYhmurz1920xl23H Fire and Ice Within Temptation The Unforgiving\n"
     ]
    },
    {
     "name": "stdout",
     "output_type": "stream",
     "text": [
      "1454/1499 : 0qAhYeTUICaVc6s4uq1GeN In the Middle of the Night Within Temptation The Unforgiving\n"
     ]
    },
    {
     "name": "stdout",
     "output_type": "stream",
     "text": [
      "1455/1499 : 5yb3Oqo1cJiYYRaud6RFsf Iron Within Temptation The Unforgiving\n"
     ]
    },
    {
     "name": "stdout",
     "output_type": "stream",
     "text": [
      "1456/1499 : 3BXc00WLOa0gZ5uMRSmNhb Lost Within Temptation The Unforgiving\n"
     ]
    },
    {
     "name": "stdout",
     "output_type": "stream",
     "text": [
      "1457/1499 : 76VytyjsLI9OGz5HsRr4td Murder Within Temptation The Unforgiving\n"
     ]
    },
    {
     "name": "stdout",
     "output_type": "stream",
     "text": [
      "1458/1499 : 5TsnDwMorhrETdY5CqBHxf Shot in the Dark Within Temptation The Unforgiving\n"
     ]
    },
    {
     "name": "stdout",
     "output_type": "stream",
     "text": [
      "1459/1499 : 12IwGbGIHyHNwVYBlqeBC5 Sinéad Within Temptation The Unforgiving\n"
     ]
    },
    {
     "name": "stdout",
     "output_type": "stream",
     "text": [
      "1460/1499 : 3rOM7x4F8RBi9lyjX9Ifu0 Stairway to the Skies Within Temptation The Unforgiving\n"
     ]
    },
    {
     "name": "stdout",
     "output_type": "stream",
     "text": [
      "1461/1499 : 6I8YdlXMofPWxQUnCvnvye Where Is the Edge Within Temptation The Unforgiving\n"
     ]
    },
    {
     "name": "stdout",
     "output_type": "stream",
     "text": [
      "1462/1499 : 4syPlsQHh78fTKEIEzzSAc Cans and Brahms - 2003 Remaster Yes Fragile (Deluxe Edition)\n"
     ]
    },
    {
     "name": "stdout",
     "output_type": "stream",
     "text": [
      "1463/1499 : 4KBBtbZwQiJaAZxDBXJpqE Five per Cent for Nothing - 2008 Remaster Versioin Yes Fragile\n"
     ]
    },
    {
     "name": "stdout",
     "output_type": "stream",
     "text": [
      "1464/1499 : 7gC6Rbllqf1yXNC02e5jz2 Heart of the Sunrise - 2003 Remaster Yes Fragile (Deluxe Edition)\n"
     ]
    },
    {
     "name": "stdout",
     "output_type": "stream",
     "text": [
      "1465/1499 : 5vfoqFiW6wXwhwa7r523Iq Long Distance Runaround - 2003 Remaster Yes Fragile (Deluxe Edition)\n"
     ]
    },
    {
     "name": "stdout",
     "output_type": "stream",
     "text": [
      "1466/1499 : 7nxmJPzgJZIG2dGBEV0U0G Mood for a Day - 2003 Remaster Yes Fragile (Deluxe Edition)\n"
     ]
    },
    {
     "name": "stdout",
     "output_type": "stream",
     "text": [
      "1467/1499 : 0YveezON7jpiaHA8fnUHxN Roundabout - 2003 Remaster Yes Fragile (Deluxe Edition)\n"
     ]
    },
    {
     "name": "stdout",
     "output_type": "stream",
     "text": [
      "1468/1499 : 1Bey85529sRbLZHMLsrhAd South Side of the Sky - 2003 Remaster Yes Fragile (Deluxe Edition)\n"
     ]
    },
    {
     "name": "stdout",
     "output_type": "stream",
     "text": [
      "1469/1499 : 6VGX9kEqcMZfAzfETmSn9h The Fish (Schindleria Praemeturus) - 2003 Remaster Yes Fragile (Deluxe Edition)\n"
     ]
    },
    {
     "name": "stdout",
     "output_type": "stream",
     "text": [
      "1470/1499 : 6avltRfZeoNa2zWipWNIyp We Have Heaven - 2003 Remaster Yes Fragile (Deluxe Edition)\n"
     ]
    },
    {
     "name": "stdout",
     "output_type": "stream",
     "text": [
      "1471/1499 : 0GTK6TesV108Jj5D3MHsYb Owner of a Lonely Heart Yes 90125 (Deluxe Version)\n"
     ]
    },
    {
     "name": "stdout",
     "output_type": "stream",
     "text": [
      "1472/1499 : 2sOEiueGcOLUQu9WdNQDd7 Into the Light (feat. Isaac Delusion) Yuksek Into the Light (feat. Isaac Delusion)\n"
     ]
    },
    {
     "name": "stdout",
     "output_type": "stream",
     "text": [
      "1473/1499 : 3uVCaMWl32pWCGimHuH486 Ayla Yussef Kamaal Black Focus\n"
     ]
    },
    {
     "name": "stdout",
     "output_type": "stream",
     "text": [
      "1474/1499 : 5yPowIqdVPFaBvBmhoLE0Y Strings of Light Yussef Kamaal Black Focus\n"
     ]
    },
    {
     "name": "stdout",
     "output_type": "stream",
     "text": [
      "1475/1499 : 7hWNPHEFIM7Odz4JvdnGZw Joint 17 Yussef Kamaal Black Focus\n"
     ]
    },
    {
     "name": "stdout",
     "output_type": "stream",
     "text": [
      "1476/1499 : 5wdF0EcXNfyoMMAXzgc9Ib Lowrider Yussef Kamaal Black Focus\n"
     ]
    },
    {
     "name": "stdout",
     "output_type": "stream",
     "text": [
      "1477/1499 : 10Yc0jL0o7IBBhUm7K0dTH Mansur's Message Yussef Kamaal Black Focus\n"
     ]
    },
    {
     "name": "stdout",
     "output_type": "stream",
     "text": [
      "1478/1499 : 1eFKv7wfLsgI6klAUuaGda O.G. Yussef Kamaal Black Focus\n"
     ]
    },
    {
     "name": "stdout",
     "output_type": "stream",
     "text": [
      "1479/1499 : 0t6pM6f3bwiNetWnXekj56 Remembrance Yussef Kamaal Black Focus\n"
     ]
    },
    {
     "name": "stdout",
     "output_type": "stream",
     "text": [
      "1480/1499 : 5yPowIqdVPFaBvBmhoLE0Y Strings of Light Yussef Kamaal Black Focus\n"
     ]
    },
    {
     "name": "stdout",
     "output_type": "stream",
     "text": [
      "1481/1499 : 08nUFYF2WEXAeUQrg9DREX WingTai Drums Yussef Kamaal Black Focus\n"
     ]
    },
    {
     "name": "stdout",
     "output_type": "stream",
     "text": [
      "1482/1499 : 0jXz7o8Drqf0819TyDfJXv Yo Chavez Yussef Kamaal Black Focus\n"
     ]
    },
    {
     "name": "stdout",
     "output_type": "stream",
     "text": [
      "1483/1499 : 6xjNioXsWUYOduKYUrjuEX Bad Girl - 2008 Remaster ZZ Top Eliminator\n"
     ]
    },
    {
     "name": "stdout",
     "output_type": "stream",
     "text": [
      "1484/1499 : 0OBwxFLu6Yj61s2OagYbgY Gimme All Your Lovin' ZZ Top Eliminator\n"
     ]
    },
    {
     "name": "stdout",
     "output_type": "stream",
     "text": [
      "1485/1499 : 1jzZZsfzxsebFa6KpWXaAr Got Me Under Pressure - 2008 Remaster ZZ Top Eliminator\n"
     ]
    },
    {
     "name": "stdout",
     "output_type": "stream",
     "text": [
      "1486/1499 : 2WcnvJKsp1aYs8xp2nJyDN I Got the Six - 2008 Remaster ZZ Top Eliminator\n"
     ]
    },
    {
     "name": "stdout",
     "output_type": "stream",
     "text": [
      "1487/1499 : 4s22XSQoOFvN5HrXk9YZ3I I Need You Tonight - 2008 Remaster ZZ Top Eliminator\n"
     ]
    },
    {
     "name": "stdout",
     "output_type": "stream",
     "text": [
      "1488/1499 : 12kRyzNezk2nE2EzJ2nq2l If I Could Only Flag Her Down - 2008 Remaster ZZ Top Eliminator\n"
     ]
    },
    {
     "name": "stdout",
     "output_type": "stream",
     "text": [
      "1489/1499 : 7t6CAWplijBj4sdl0q3z0e Legs - 2008 Remaster ZZ Top Eliminator\n"
     ]
    },
    {
     "name": "stdout",
     "output_type": "stream",
     "text": [
      "1490/1499 : 1UBQ5GK8JaQjm5VbkBZY66 Sharp Dressed Man - 2008 Remaster ZZ Top Eliminator\n"
     ]
    },
    {
     "name": "stdout",
     "output_type": "stream",
     "text": [
      "1491/1499 : 2pOk2SDsJhO7o8xtfXf1jy Thug - 2008 Remaster ZZ Top Eliminator\n"
     ]
    },
    {
     "name": "stdout",
     "output_type": "stream",
     "text": [
      "1492/1499 : 4c0IaYoW94OEFhJE40zcQb TV Dinners - 2008 Remaster ZZ Top Eliminator\n",
      "1493/1499 : 3v9xlH6BpmRbqL7hgNJhfT I Get Around (Mono) The Beach Boys All Summer Long\n",
      "1494/1499 : 7tqhbajSfrz2F7E1Z75ASX Ain't No Mountain High Enough Marvin Gaye United\n"
     ]
    },
    {
     "name": "stdout",
     "output_type": "stream",
     "text": [
      "1495/1499 : 5pSSEkT0963muzzIjsVkrs Fool's Overture Supertramp Even In The Quietest Moments\n"
     ]
    },
    {
     "name": "stdout",
     "output_type": "stream",
     "text": [
      "1496/1499 : 1YwNlWLf8auhazSQUDQLFU Enjoy the Silence - Single Mix Depeche Mode Enjoy the Silence\n"
     ]
    },
    {
     "name": "stdout",
     "output_type": "stream",
     "text": [
      "1497/1499 : 3ovjw5HZZv43SxTwApooCM Wind Of Change Scorpions Crazy World\n"
     ]
    },
    {
     "name": "stdout",
     "output_type": "stream",
     "text": [
      "1498/1499 : 3VjyApUOSnsKUuUjbkvfJl Das elfte Gebot Feuerschwanz Das elfte Gebot\n"
     ]
    }
   ],
   "source": [
    "for idx, (_, content) in enumerate(df.index.to_frame().iterrows()):\n",
    "    search = f\"{content.artist} {content.song} {content.album}\"\n",
    "    res = spotify.search(search)\n",
    "    try:\n",
    "        track = res['tracks']['items'][0]\n",
    "    except IndexError as e:\n",
    "        print(f\"{search} not in spotify\")\n",
    "        bad_format.append(search)\n",
    "        continue\n",
    "    album = track['album']['name']\n",
    "    name = track['name']\n",
    "    artist = track['artists'][0]['name']\n",
    "    id = track['id']\n",
    "    print(f\"{idx:<4}/{len(df)} : {id} {name} {artist} {album}\")"
   ]
  },
  {
   "cell_type": "code",
   "execution_count": 30,
   "metadata": {
    "collapsed": false
   },
   "outputs": [
    {
     "data": {
      "text/plain": [
       "[\"Alkapote, Vald Plus haut - Les marches de l'empeureur Saison 3 / épisode 1 N/A\",\n",
       " 'Auracle Bombs Away Ballet City Slickers',\n",
       " 'Auracle City of Penetrating Light City Slickers',\n",
       " 'Auracle Honey City Slickers',\n",
       " 'Auracle Little City Slickers City Slickers',\n",
       " \"Auracle Rotary Andy's Raggedy City Slickers\",\n",
       " 'Auracle Sambanana City Slickers',\n",
       " 'Auracle Tied Shoes City Slickers',\n",
       " \"B.J. Thomas Rain Drops Keep Falling on My Head Rain Drops Keep Fallin' On My Head\",\n",
       " 'Casiopea Galactic Funk Crosspoint',\n",
       " 'Casiopea Swear! Mint Jams',\n",
       " 'Claude François 17 ans Chansons françaises',\n",
       " 'Claude François Cette année-là Le Vagabond',\n",
       " \"Début de Soirée Nuit de Folie Jardins d'enfants\",\n",
       " 'Draconian The Empy Stare / September Ashes Turning Season Within',\n",
       " 'Eric Burdon Colour Of The Sunset When I Was Young',\n",
       " 'Flamingosis A Groovy Intro A Groovy Thing',\n",
       " 'Flamingosis A Groovy Thing A Groovy Thing',\n",
       " 'Flamingosis Breezy A Groovy Thing',\n",
       " 'Flamingosis Come & Get it A Groovy Thing',\n",
       " 'Flamingosis Don’t Lose the Feeling A Groovy Thing',\n",
       " 'Flamingosis Flute Salad A Groovy Thing',\n",
       " 'Flamingosis Get Yourself Together A Groovy Thing',\n",
       " 'Flamingosis Guilty Pleasure A Groovy Thing',\n",
       " 'Flamingosis High Tide A Groovy Thing',\n",
       " 'Flamingosis Keep Shining A Groovy Thing',\n",
       " 'Flamingosis Long Distance A Groovy Thing',\n",
       " 'Flamingosis Never Felt a Feeling Like This A Groovy Thing',\n",
       " 'Flamingosis Not Like the Others A Groovy Thing',\n",
       " 'Flamingosis Otaku Mode A Groovy Thing',\n",
       " 'Flamingosis Persevere A Groovy Thing',\n",
       " 'Flamingosis Soul Crusade A Groovy Thing',\n",
       " 'Flamingosis That’s Cold A Groovy Thing',\n",
       " 'Flamingosis Want Me (Need Me) A Groovy Thing',\n",
       " 'Franzl Lang Auf und auf voll Lebenslust N/A',\n",
       " 'Georges Brassens Brave Margot Le Vent',\n",
       " \"Georges Brassens Les 4 z'arts Les Copains D'Abord\",\n",
       " \"Georges Brassens Le Bistrot Les Funérailles d'antan\",\n",
       " 'GoGo Penguin Unspeakable Word Man Made Object',\n",
       " 'Gorillaz Doncamatic Plastic Beach',\n",
       " \"Gorillaz Pirate's Progress Plastic Beach\",\n",
       " 'Haken affinitiy.exe / Initiate Affinity',\n",
       " 'Happy End Aiga wo\\r Kazemachi Roman',\n",
       " 'Happy End Ashita tenki ni Naare Kazemachi Roman',\n",
       " 'Happy End Dakishimetai Kazemachi Roman',\n",
       " 'Happy End Haikara Beautiful Kazemachi Roman',\n",
       " 'Happy End Haikara Hakuchi Kazemachi Roman',\n",
       " 'Happy End Hanaichimonme Kazemachi Roman',\n",
       " 'Happy End Haru Ranman Kazemachi Roman',\n",
       " 'Happy End Kaze wo Atsumete Kazemachi Roman',\n",
       " 'Happy End Kurayamizaka Musasabi Henka Kazemachi Roman',\n",
       " 'Happy End Natsu nandesu Kazemachi Roman',\n",
       " 'Happy End Sorairo no Crayon Kazemachi Roman',\n",
       " 'Happy End Taifuu Kazemachi Roman',\n",
       " \"IAM Quant tu allais, on revenait L'École du Micro d'Argent\",\n",
       " 'Igorrr Downgrade Desert Spirituality and Distorsion',\n",
       " 'Incantation Cacharpaya Pan Pipes of the Andes',\n",
       " 'Jake Chudnow Poodles Short Stories',\n",
       " 'Jake Chudnow Turquoise Short Stories',\n",
       " 'Jun Fukamachi Desillusion Quark',\n",
       " 'Jun Fukamachi Insight Quark',\n",
       " 'Jun Fukamachi Perpetual (Movement) Quark',\n",
       " 'Jun Fukamachi Quark Quark',\n",
       " 'Kalash Criminel Pronostic N/A',\n",
       " 'Kelly Bailey CP Violation Half Life 2',\n",
       " 'Kenichiro Nishihara Magazine Jazzy Folklore',\n",
       " 'Kenichiro Nishihara The Vibe Jazzy Folklore',\n",
       " 'Kenichiro Nishihara Yesternow Immignrats Jazzy Folklore',\n",
       " 'Koji Kondo Kokiri Forest Ocarina of Time',\n",
       " 'Kristofer Maddigan Perilious Piers Cuphead',\n",
       " \"La P'tite Fumée Thunderbreizh N/A\",\n",
       " 'Lalo Schifrin Serenata Steal Away',\n",
       " 'Leprous Pixel The Congregation',\n",
       " 'Lipps Inc. Funkytown Mouth to Mouth',\n",
       " 'Luke Million Arnold N/A',\n",
       " 'Luke Million Ice Ice Arnie (Cool Party) N/A',\n",
       " 'Lynrd Skynrd Sweet Home Alabama Second Helping',\n",
       " 'Mahito Yokota Gusty Gardens Super Mario Galaxy',\n",
       " 'Maître Gims Reste N/A',\n",
       " 'Mozart 3. Sequenta: Confutatis Requiem in D minor K 626',\n",
       " 'Mozart 3. Sequenta: Lacrimosa Requiem in D minor K 626',\n",
       " 'Mozart 3. Sequenta: Recordare Requiem in D minor K 626',\n",
       " 'Mozart 3. Sequenta: Rex tremendae Requiem in D minor K 626',\n",
       " 'Mozart 3. Sequentia: Tubamirum Requiem in D minor K 626',\n",
       " 'Mozart 3a. Sequienta: Dies irae Requiem in D minor K 626',\n",
       " 'Porcupine Tree Chloroform In Absentia',\n",
       " 'Porcupine Tree Drown With Me In Absentia',\n",
       " 'Porcupine Tree Heartattack in a Lay By In Absentia',\n",
       " 'PostmodernJukebox Feel It Still N/A',\n",
       " 'Pulko Du Lourd N/A',\n",
       " 'Roi Heenok Hybride Exo N/A',\n",
       " 'SAINt JHN Roses (Imanbek Remix) N/A',\n",
       " 'Santo & Johnny All Night Dinner Santo & Johnny',\n",
       " 'Santo & Johnny School Day Santo & Johnny',\n",
       " 'Santo & Johnny Slave Girl Santo & Johnny',\n",
       " 'Snowy White And The White Flames Midnight Blues No Faith Required',\n",
       " 'Steven Wilson Transcience Hand. Cannot. Erase.',\n",
       " 'Stupeflip Les Ronces Terror Maxi',\n",
       " 'Stupeflip Stupeflip Vite !!! Terror Maxi',\n",
       " \"Stupeflip C'est un Tube The Hypnoflip Invasion\",\n",
       " 'Stupeflip Cold World The Hypnoflip Invasion',\n",
       " \"The Doors (You Need Meat) Don't Go No Further L.A. Woman\",\n",
       " 'The Killers Somedy Told Me Hot Fuss',\n",
       " 'The Skints What Did I Learned Today? Swimming Lessons',\n",
       " \"Todd Terje Alfonso Muskender It's Album Time\",\n",
       " \"Todd Terje Dolorean Dynamite It's Album Time\",\n",
       " 'Twenty One Pilots Ride Blurry Face',\n",
       " 'Wejdene Anissa N/A']"
      ]
     },
     "execution_count": 30,
     "metadata": {},
     "output_type": "execute_result"
    }
   ],
   "source": [
    "bad_format"
   ]
  },
  {
   "cell_type": "code",
   "execution_count": null,
   "metadata": {
    "collapsed": false
   },
   "outputs": [],
   "source": []
  }
 ],
 "metadata": {
  "kernelspec": {
   "argv": [
    "/home/gary/.virtualenvs/bot_dj/bin/python",
    "-m",
    "ipykernel_launcher",
    "-f",
    "{connection_file}"
   ],
   "display_name": "bot_dj",
   "env": null,
   "interrupt_mode": "signal",
   "language": "python",
   "metadata": null,
   "name": "bot_dj"
  },
  "name": "connect_spotify.ipynb"
 },
 "nbformat": 4,
 "nbformat_minor": 4
}
