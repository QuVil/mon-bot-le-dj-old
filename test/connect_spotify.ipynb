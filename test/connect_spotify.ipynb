{
 "cells": [
  {
   "cell_type": "code",
   "execution_count": 1,
   "metadata": {
    "collapsed": false
   },
   "outputs": [],
   "source": [
    "import spotipy\n",
    "from spotipy.oauth2 import SpotifyClientCredentials\n",
    "import json\n",
    "from googleapiclient.discovery import build\n",
    "from google.oauth2.service_account import Credentials"
   ]
  },
  {
   "cell_type": "code",
   "execution_count": 2,
   "metadata": {
    "collapsed": false
   },
   "outputs": [],
   "source": [
    "import pandas as pd\n",
    "import re\n",
    "import pprint"
   ]
  },
  {
   "cell_type": "markdown",
   "metadata": {
    "collapsed": false
   },
   "source": [
    "## Connexion a spotify"
   ]
  },
  {
   "cell_type": "code",
   "execution_count": 3,
   "metadata": {
    "collapsed": false
   },
   "outputs": [],
   "source": [
    "CRED_PATH_SPOTIFY = \"../credentials-spotify.json\""
   ]
  },
  {
   "cell_type": "code",
   "execution_count": 4,
   "metadata": {
    "collapsed": false
   },
   "outputs": [],
   "source": [
    "with open(CRED_PATH_SPOTIFY, 'r') as handle:\n",
    "    data = json.load(handle)"
   ]
  },
  {
   "cell_type": "code",
   "execution_count": 5,
   "metadata": {
    "collapsed": false
   },
   "outputs": [],
   "source": [
    "spotify = spotipy.Spotify(auth_manager=SpotifyClientCredentials(\n",
    "    **data\n",
    "))"
   ]
  },
  {
   "cell_type": "markdown",
   "metadata": {
    "collapsed": false
   },
   "source": [
    "## Connexion a google"
   ]
  },
  {
   "cell_type": "code",
   "execution_count": 6,
   "metadata": {
    "collapsed": false
   },
   "outputs": [],
   "source": [
    "CREDENTIALS_PATH_GOOGLE = \"../credentials-sheets.json\""
   ]
  },
  {
   "cell_type": "code",
   "execution_count": 7,
   "metadata": {
    "collapsed": false
   },
   "outputs": [],
   "source": [
    "SCOPES = ['https://www.googleapis.com/auth/spreadsheets.readonly']\n",
    "SPREADSHEET = '1b75J-QTGrujSgF9r0_JPOKkcXAwzFVwpETOAyVBw8ak'"
   ]
  },
  {
   "cell_type": "code",
   "execution_count": 8,
   "metadata": {
    "collapsed": false
   },
   "outputs": [],
   "source": [
    "# Load service account credentials.\n",
    "__credentials = Credentials.from_service_account_file(CREDENTIALS_PATH_GOOGLE, scopes=SCOPES)\n",
    "\n",
    "# Creates Google Sheets API (v4/latest) service.\n",
    "service = build('sheets', 'v4', credentials=__credentials)"
   ]
  },
  {
   "cell_type": "code",
   "execution_count": 9,
   "metadata": {
    "collapsed": false
   },
   "outputs": [],
   "source": [
    "values = service.spreadsheets().values().get(spreadsheetId=SPREADSHEET, range='Notations').execute()['values']\n",
    "headers = values.pop(0)"
   ]
  },
  {
   "cell_type": "code",
   "execution_count": 10,
   "metadata": {
    "collapsed": false
   },
   "outputs": [],
   "source": [
    "df = pd.DataFrame(values, columns=headers)"
   ]
  },
  {
   "cell_type": "markdown",
   "metadata": {
    "collapsed": false
   },
   "source": [
    "# DF preprocessing"
   ]
  },
  {
   "cell_type": "code",
   "execution_count": 11,
   "metadata": {
    "collapsed": false
   },
   "outputs": [],
   "source": [
    "df.set_index(['genre', 'sub_genre', 'artist', 'album', 'song'], inplace=True)\n",
    "df = df.apply(lambda s: s.str.replace(\",\", \".\"))\n",
    "df = df.apply(lambda s: pd.to_numeric(s, errors='coerce'))"
   ]
  },
  {
   "cell_type": "code",
   "execution_count": 12,
   "metadata": {
    "collapsed": false
   },
   "outputs": [
    {
     "data": {
      "text/html": [
       "<div>\n",
       "<style scoped>\n",
       "    .dataframe tbody tr th:only-of-type {\n",
       "        vertical-align: middle;\n",
       "    }\n",
       "\n",
       "    .dataframe tbody tr th {\n",
       "        vertical-align: top;\n",
       "    }\n",
       "\n",
       "    .dataframe thead th {\n",
       "        text-align: right;\n",
       "    }\n",
       "</style>\n",
       "<table border=\"1\" class=\"dataframe\">\n",
       "  <thead>\n",
       "    <tr style=\"text-align: right;\">\n",
       "      <th></th>\n",
       "      <th>ntQ</th>\n",
       "      <th>ntG</th>\n",
       "      <th>ntV</th>\n",
       "      <th>ntR</th>\n",
       "      <th>ntS</th>\n",
       "      <th>ntGl</th>\n",
       "      <th>ntRx</th>\n",
       "      <th>ntC</th>\n",
       "      <th>ntL</th>\n",
       "    </tr>\n",
       "  </thead>\n",
       "  <tbody>\n",
       "    <tr>\n",
       "      <th>count</th>\n",
       "      <td>1356.000000</td>\n",
       "      <td>616.000000</td>\n",
       "      <td>737.000000</td>\n",
       "      <td>212.000000</td>\n",
       "      <td>251.000000</td>\n",
       "      <td>113.000000</td>\n",
       "      <td>19.000000</td>\n",
       "      <td>20.000000</td>\n",
       "      <td>14.000000</td>\n",
       "    </tr>\n",
       "    <tr>\n",
       "      <th>mean</th>\n",
       "      <td>7.703724</td>\n",
       "      <td>8.104464</td>\n",
       "      <td>7.388738</td>\n",
       "      <td>7.713443</td>\n",
       "      <td>6.653586</td>\n",
       "      <td>7.484513</td>\n",
       "      <td>7.973684</td>\n",
       "      <td>6.435000</td>\n",
       "      <td>6.944286</td>\n",
       "    </tr>\n",
       "    <tr>\n",
       "      <th>std</th>\n",
       "      <td>1.309181</td>\n",
       "      <td>0.825316</td>\n",
       "      <td>1.343893</td>\n",
       "      <td>1.586352</td>\n",
       "      <td>1.945438</td>\n",
       "      <td>1.724949</td>\n",
       "      <td>2.288095</td>\n",
       "      <td>1.805044</td>\n",
       "      <td>3.057809</td>\n",
       "    </tr>\n",
       "    <tr>\n",
       "      <th>min</th>\n",
       "      <td>0.000000</td>\n",
       "      <td>4.000000</td>\n",
       "      <td>0.000000</td>\n",
       "      <td>0.100000</td>\n",
       "      <td>0.050000</td>\n",
       "      <td>0.000000</td>\n",
       "      <td>2.000000</td>\n",
       "      <td>0.000000</td>\n",
       "      <td>0.000000</td>\n",
       "    </tr>\n",
       "    <tr>\n",
       "      <th>25%</th>\n",
       "      <td>7.500000</td>\n",
       "      <td>7.687500</td>\n",
       "      <td>7.000000</td>\n",
       "      <td>7.300000</td>\n",
       "      <td>5.000000</td>\n",
       "      <td>7.000000</td>\n",
       "      <td>7.500000</td>\n",
       "      <td>5.950000</td>\n",
       "      <td>6.847500</td>\n",
       "    </tr>\n",
       "    <tr>\n",
       "      <th>50%</th>\n",
       "      <td>8.000000</td>\n",
       "      <td>8.250000</td>\n",
       "      <td>7.500000</td>\n",
       "      <td>8.000000</td>\n",
       "      <td>7.000000</td>\n",
       "      <td>7.500000</td>\n",
       "      <td>8.000000</td>\n",
       "      <td>6.625000</td>\n",
       "      <td>8.000000</td>\n",
       "    </tr>\n",
       "    <tr>\n",
       "      <th>75%</th>\n",
       "      <td>8.500000</td>\n",
       "      <td>8.750000</td>\n",
       "      <td>8.500000</td>\n",
       "      <td>8.700000</td>\n",
       "      <td>8.000000</td>\n",
       "      <td>8.500000</td>\n",
       "      <td>10.000000</td>\n",
       "      <td>7.375000</td>\n",
       "      <td>8.875000</td>\n",
       "    </tr>\n",
       "    <tr>\n",
       "      <th>max</th>\n",
       "      <td>10.000000</td>\n",
       "      <td>9.500000</td>\n",
       "      <td>9.750000</td>\n",
       "      <td>9.700000</td>\n",
       "      <td>10.000000</td>\n",
       "      <td>10.000000</td>\n",
       "      <td>10.000000</td>\n",
       "      <td>8.750000</td>\n",
       "      <td>9.330000</td>\n",
       "    </tr>\n",
       "  </tbody>\n",
       "</table>\n",
       "</div>"
      ],
      "text/plain": [
       "               ntQ         ntG         ntV         ntR         ntS  \\\n",
       "count  1356.000000  616.000000  737.000000  212.000000  251.000000   \n",
       "mean      7.703724    8.104464    7.388738    7.713443    6.653586   \n",
       "std       1.309181    0.825316    1.343893    1.586352    1.945438   \n",
       "min       0.000000    4.000000    0.000000    0.100000    0.050000   \n",
       "25%       7.500000    7.687500    7.000000    7.300000    5.000000   \n",
       "50%       8.000000    8.250000    7.500000    8.000000    7.000000   \n",
       "75%       8.500000    8.750000    8.500000    8.700000    8.000000   \n",
       "max      10.000000    9.500000    9.750000    9.700000   10.000000   \n",
       "\n",
       "             ntGl       ntRx        ntC        ntL  \n",
       "count  113.000000  19.000000  20.000000  14.000000  \n",
       "mean     7.484513   7.973684   6.435000   6.944286  \n",
       "std      1.724949   2.288095   1.805044   3.057809  \n",
       "min      0.000000   2.000000   0.000000   0.000000  \n",
       "25%      7.000000   7.500000   5.950000   6.847500  \n",
       "50%      7.500000   8.000000   6.625000   8.000000  \n",
       "75%      8.500000  10.000000   7.375000   8.875000  \n",
       "max     10.000000  10.000000   8.750000   9.330000  "
      ]
     },
     "execution_count": 12,
     "metadata": {},
     "output_type": "execute_result"
    }
   ],
   "source": [
    "df.describe()"
   ]
  },
  {
   "cell_type": "code",
   "execution_count": 63,
   "metadata": {
    "collapsed": false
   },
   "outputs": [],
   "source": [
    "def eq_ignorecase(a, b):\n",
    "    return re.search(a, b, re.IGNORECASE)    "
   ]
  },
  {
   "cell_type": "code",
   "execution_count": 77,
   "metadata": {
    "collapsed": false
   },
   "outputs": [],
   "source": [
    "def filter_search(row, res):\n",
    "    songs = res['tracks']['items']\n",
    "    valid = []\n",
    "    for song in songs:\n",
    "        s_artist = song[\"artists\"][0][\"name\"]\n",
    "        s_album = song[\"album\"][\"name\"]\n",
    "        s_title = song[\"name\"]\n",
    "        if eq_ignorecase(row[\"artist\"], s_artist) and\\\n",
    "           eq_ignorecase(row[\"album\"], s_album) and\\\n",
    "           eq_ignorecase(row[\"song\"], s_title):\n",
    "            valid.append(song)\n",
    "    print(row[\"artist\"], row[\"album\"], row[\"song\"])\n",
    "    print(len(valid) >= 1)"
   ]
  },
  {
   "cell_type": "code",
   "execution_count": 28,
   "metadata": {
    "collapsed": false
   },
   "outputs": [
    {
     "data": {
      "text/plain": [
       "{'tracks': {'href': 'https://api.spotify.com/v1/search?query=artist%3A%22Black%5C%2520Sabbath%22%2520track%3A%22Evil%2520Woman%22%2520album%3A%22Black%2520Sabbath%22&type=track&offset=0&limit=10',\n",
       "  'items': [],\n",
       "  'limit': 10,\n",
       "  'next': None,\n",
       "  'offset': 0,\n",
       "  'previous': None,\n",
       "  'total': 0}}"
      ]
     },
     "execution_count": 28,
     "metadata": {},
     "output_type": "execute_result"
    }
   ],
   "source": [
    "search = \"artist:\\\"Black Sabbath\\\" track:\\\"Evil Woman\\\" album:\\\"Black Sabbath\\\"\"\n",
    "search = \"artist:\\\"Black\\%20Sabbath\\\"%20track:\\\"Evil%20Woman\\\"%20album:\\\"Black%20Sabbath\\\"\"\n",
    "spotify.search(search)"
   ]
  },
  {
   "cell_type": "code",
   "execution_count": 24,
   "metadata": {
    "collapsed": false
   },
   "outputs": [
    {
     "name": "stdout",
     "output_type": "stream",
     "text": [
      "0   /1573 : 57BDT1bvzeAzl3IXMQU4Ri I Do, I Do, I Do, I Do, I Do ABBA Abba\n",
      "1   /1573 : 22NN4BS1AlqVbyKIWExgON Mamma Mia ABBA Abba\n"
     ]
    },
    {
     "name": "stdout",
     "output_type": "stream",
     "text": [
      "2   /1573 : 5pMmWfuL0FTGshYt7HVJ8P SOS ABBA ABBA Gold\n",
      "3   /1573 : 46ou4l4zvrZMada0TgoVH9 Knowing Me, Knowing You ABBA Arrival\n"
     ]
    },
    {
     "name": "stdout",
     "output_type": "stream",
     "text": [
      "4   /1573 : 6cH34Jb2W9s9w8ooRtZZPf Lay All Your Love On Me ABBA Super Trouper\n",
      "5   /1573 : 2nMghZvtLx6DDgTEHEsb4w Super Trouper ABBA Super Trouper\n"
     ]
    },
    {
     "name": "stdout",
     "output_type": "stream",
     "text": [
      "6   /1573 : 2HeTmGTjl870ucJ8mF7zl5 The Winner Takes It All ABBA Super Trouper\n"
     ]
    },
    {
     "name": "stdout",
     "output_type": "stream",
     "text": [
      "7   /1573 : 6vQN2a9QSgWcm74KEZYfDL Take A Chance On Me ABBA The Album\n",
      "8   /1573 : 0RzhMHIsFMbOGh0oWDvNNK Waterloo ABBA Waterloo\n"
     ]
    },
    {
     "name": "stdout",
     "output_type": "stream",
     "text": [
      "9   /1573 : 7LRMbd3LEoV5wZJvXT1Lwb T.N.T. AC/DC High Voltage\n",
      "10  /1573 : 2zYzyRzz6pRmhPzyfMEC8s Highway to Hell AC/DC Highway to Hell\n"
     ]
    },
    {
     "name": "stdout",
     "output_type": "stream",
     "text": [
      "11  /1573 : 5jCp5VtcpUlHtW8Dwlx13Y Angry Chair Alice In Chains Dirt\n",
      "12  /1573 : 22Ntyke0ZDZy2Uuf8BEDkU Dam That River Alice In Chains Dirt\n"
     ]
    },
    {
     "name": "stdout",
     "output_type": "stream",
     "text": [
      "13  /1573 : 2QjkH9q5Mypj6m38u7Ni9o Dirt Alice In Chains Dirt\n"
     ]
    },
    {
     "name": "stdout",
     "output_type": "stream",
     "text": [
      "14  /1573 : 7FRfYOql61DGDp9VPPe2qA Down In A Hole Alice In Chains Dirt\n",
      "15  /1573 : 1klrDyGRsCBPofZdqdaZp6 God Smack Alice In Chains Dirt\n"
     ]
    },
    {
     "name": "stdout",
     "output_type": "stream",
     "text": [
      "16  /1573 : 0rglK8l5QBSADvao8n4d2N Hate To Feel Alice In Chains Dirt\n",
      "17  /1573 : 1mvEbRAlocvkJvqZIj3zHu Junkhead Alice In Chains Dirt\n"
     ]
    },
    {
     "name": "stdout",
     "output_type": "stream",
     "text": [
      "18  /1573 : 6a9SPVrXyrlVh5Fh08f8Bz Rain When I Die Alice In Chains Dirt\n",
      "19  /1573 : 0wvIGFIgbyz4JNwQhZgTv2 Rooster Alice In Chains Dirt\n",
      "20  /1573 : 5EnYdTx0BWhWM5YDcPkGAa Sickman Alice In Chains Dirt\n"
     ]
    },
    {
     "name": "stdout",
     "output_type": "stream",
     "text": [
      "21  /1573 : 4A065x9kJt955eGVqf813g Them Bones Alice In Chains Dirt\n",
      "22  /1573 : 2s9xt247uEa0sXmAH0GvL3 Untitled Alice In Chains Dirt\n"
     ]
    },
    {
     "name": "stdout",
     "output_type": "stream",
     "text": [
      "23  /1573 : 5sFDReWLrZHLFZFjHsjUTS Would? Alice In Chains Dirt\n",
      "artist:\"Alkapote, Vald\" track:\"Plus haut - Les marches de lempeureur Saison 3 / épisode 1\" album:\"N/A\" not in spotify\n",
      "{'tracks': {'href': 'https://api.spotify.com/v1/search?query=artist%3A%22Alkapote%2C+Vald%22+track%3A%22Plus+haut+-+Les+marches+de+lempeureur+Saison+3+%2F+%C3%A9pisode+1%22+album%3A%22N%2FA%22&type=track&offset=0&limit=10', 'items': [], 'limit': 10, 'next': None, 'offset': 0, 'previous': None, 'total': 0}}\n"
     ]
    }
   ],
   "source": [
    "bad_format = []\n",
    "for idx, (_, content) in enumerate(df.index.to_frame().iterrows()):\n",
    "    search = f\"artist:\\\"{content.artist}\\\" track:\\\"{content.song}\\\" album:\\\"{content.album}\\\"\"\n",
    "    search = search.replace(\"'\", \"\")\n",
    "    res = spotify.search(search)\n",
    "    try:\n",
    "        track = res['tracks']['items'][0]\n",
    "    except IndexError as e:\n",
    "        print(f\"{search} not in spotify\")\n",
    "        bad_format.append(search)\n",
    "        continue\n",
    "    album = track['album']['name']\n",
    "    name = track['name']\n",
    "    artist = track['artists'][0]['name']\n",
    "    id = track['id']\n",
    "    print(f\"{idx:<4}/{len(df)} : {id} {name} {artist} {album}\")"
   ]
  },
  {
   "cell_type": "code",
   "execution_count": 23,
   "metadata": {
    "collapsed": false
   },
   "outputs": [
    {
     "data": {
      "text/plain": [
       "['artist:\"Alkapote, Vald\" track:\"Plus haut - Les marches de lempeureur Saison 3 / épisode 1\" album:\"N/A\"',\n",
       " 'artist:\"Auracle\" track:\"Bombs Away Ballet\" album:\"City Slickers\"',\n",
       " 'artist:\"Auracle\" track:\"City of Penetrating Light\" album:\"City Slickers\"',\n",
       " 'artist:\"Auracle\" track:\"Honey\" album:\"City Slickers\"',\n",
       " 'artist:\"Auracle\" track:\"Little City Slickers\" album:\"City Slickers\"',\n",
       " 'artist:\"Auracle\" track:\"Rotary Andys Raggedy\" album:\"City Slickers\"',\n",
       " 'artist:\"Auracle\" track:\"Sambanana\" album:\"City Slickers\"',\n",
       " 'artist:\"Auracle\" track:\"Tied Shoes\" album:\"City Slickers\"',\n",
       " 'artist:\"B.J. Thomas\" track:\"Rain Drops Keep Falling on My Head\" album:\"Rain Drops Keep Fallin On My Head\"',\n",
       " 'artist:\"Black Sabbath\" track:\"Evil Woman\" album:\"Black Sabbath\"',\n",
       " 'artist:\"Casiopea\" track:\"Galactic Funk\" album:\"Crosspoint\"',\n",
       " 'artist:\"Casiopea\" track:\"Swear!\" album:\"Mint Jams\"',\n",
       " 'artist:\"Claude François\" track:\"Cest la même chanson\" album:\"Cest la Même Chanson\"',\n",
       " 'artist:\"Claude François\" track:\"17 ans\" album:\"Chansons françaises\"',\n",
       " 'artist:\"Claude François\" track:\"Il fait beau, il fait bon\" album:\"Il fait beau, il fait bon\"',\n",
       " 'artist:\"Claude François\" track:\"Jattendrai\" album:\"Jattendrai\"',\n",
       " 'artist:\"Claude François\" track:\"Cette année-là\" album:\"Le Vagabond\"',\n",
       " 'artist:\"Claude François\" track:\"Le Vagabond\" album:\"Le Vagabond\"',\n",
       " 'artist:\"Claude François\" track:\"Alexandrie Alexandra\" album:\"Magnolias For Ever\"',\n",
       " 'artist:\"Claude François\" track:\"Magnolias For Ever\" album:\"Magnolias For Ever\"',\n",
       " 'artist:\"Début de Soirée\" track:\"Nuit de Folie\" album:\"Jardins denfants\"',\n",
       " 'artist:\"Draconian\" track:\"The Empy Stare / September Ashes\" album:\"Turning Season Within\"',\n",
       " 'artist:\"Eric Burdon\" track:\"Colour Of The Sunset\" album:\"When I Was Young\"',\n",
       " 'artist:\"Flamingosis\" track:\"A Groovy Intro\" album:\"A Groovy Thing\"',\n",
       " 'artist:\"Flamingosis\" track:\"A Groovy Thing\" album:\"A Groovy Thing\"',\n",
       " 'artist:\"Flamingosis\" track:\"Breezy\" album:\"A Groovy Thing\"',\n",
       " 'artist:\"Flamingosis\" track:\"Come & Get it\" album:\"A Groovy Thing\"',\n",
       " 'artist:\"Flamingosis\" track:\"Don’t Lose the Feeling\" album:\"A Groovy Thing\"',\n",
       " 'artist:\"Flamingosis\" track:\"Flute Salad\" album:\"A Groovy Thing\"',\n",
       " 'artist:\"Flamingosis\" track:\"Get Yourself Together\" album:\"A Groovy Thing\"',\n",
       " 'artist:\"Flamingosis\" track:\"Guilty Pleasure\" album:\"A Groovy Thing\"',\n",
       " 'artist:\"Flamingosis\" track:\"High Tide\" album:\"A Groovy Thing\"',\n",
       " 'artist:\"Flamingosis\" track:\"Keep Shining\" album:\"A Groovy Thing\"',\n",
       " 'artist:\"Flamingosis\" track:\"Long Distance\" album:\"A Groovy Thing\"',\n",
       " 'artist:\"Flamingosis\" track:\"Never Felt a Feeling Like This\" album:\"A Groovy Thing\"',\n",
       " 'artist:\"Flamingosis\" track:\"Not Like the Others\" album:\"A Groovy Thing\"',\n",
       " 'artist:\"Flamingosis\" track:\"Otaku Mode\" album:\"A Groovy Thing\"',\n",
       " 'artist:\"Flamingosis\" track:\"Persevere\" album:\"A Groovy Thing\"',\n",
       " 'artist:\"Flamingosis\" track:\"Soul Crusade\" album:\"A Groovy Thing\"',\n",
       " 'artist:\"Flamingosis\" track:\"That’s Cold\" album:\"A Groovy Thing\"',\n",
       " 'artist:\"Flamingosis\" track:\"Want Me (Need Me)\" album:\"A Groovy Thing\"',\n",
       " 'artist:\"François Valéry\" track:\"Mon pote le DJ\" album:\"Mon pote le DJ\"',\n",
       " 'artist:\"Franzl Lang\" track:\"Auf und auf voll Lebenslust\" album:\"N/A\"',\n",
       " 'artist:\"Georges Brassens\" track:\"Brave Margot\" album:\"Le Vent\"',\n",
       " 'artist:\"Georges Brassens\" track:\"Les 4 zarts\" album:\"Les Copains DAbord\"',\n",
       " 'artist:\"Georges Brassens\" track:\"Le Bistrot\" album:\"Les Funérailles dantan\"',\n",
       " 'artist:\"GoGo Penguin\" track:\"Unspeakable Word\" album:\"Man Made Object\"',\n",
       " 'artist:\"Gorillaz\" track:\"Doncamatic\" album:\"Plastic Beach\"',\n",
       " 'artist:\"Gorillaz\" track:\"Pirates Progress\" album:\"Plastic Beach\"',\n",
       " 'artist:\"Haken\" track:\"affinitiy.exe / Initiate\" album:\"Affinity\"',\n",
       " 'artist:\"Happy End\" track:\"Aiga wo\\r\" album:\"Kazemachi Roman\"',\n",
       " 'artist:\"Happy End\" track:\"Ashita tenki ni Naare\" album:\"Kazemachi Roman\"',\n",
       " 'artist:\"Happy End\" track:\"Dakishimetai\" album:\"Kazemachi Roman\"',\n",
       " 'artist:\"Happy End\" track:\"Haikara Beautiful\" album:\"Kazemachi Roman\"',\n",
       " 'artist:\"Happy End\" track:\"Haikara Hakuchi\" album:\"Kazemachi Roman\"',\n",
       " 'artist:\"Happy End\" track:\"Hanaichimonme\" album:\"Kazemachi Roman\"',\n",
       " 'artist:\"Happy End\" track:\"Haru Ranman\" album:\"Kazemachi Roman\"',\n",
       " 'artist:\"Happy End\" track:\"Kaze wo Atsumete\" album:\"Kazemachi Roman\"',\n",
       " 'artist:\"Happy End\" track:\"Kurayamizaka Musasabi Henka\" album:\"Kazemachi Roman\"',\n",
       " 'artist:\"Happy End\" track:\"Natsu nandesu\" album:\"Kazemachi Roman\"',\n",
       " 'artist:\"Happy End\" track:\"Sorairo no Crayon\" album:\"Kazemachi Roman\"',\n",
       " 'artist:\"Happy End\" track:\"Taifuu\" album:\"Kazemachi Roman\"',\n",
       " 'artist:\"IAM\" track:\"Quant tu allais, on revenait\" album:\"LÉcole du Micro dArgent\"',\n",
       " 'artist:\"Incantation\" track:\"Cacharpaya\" album:\"Pan Pipes of the Andes\"',\n",
       " 'artist:\"Jake Chudnow\" track:\"Poodles\" album:\"Short Stories\"',\n",
       " 'artist:\"Jake Chudnow\" track:\"Turquoise\" album:\"Short Stories\"',\n",
       " 'artist:\"Jun Fukamachi\" track:\"Desillusion\" album:\"Quark\"',\n",
       " 'artist:\"Jun Fukamachi\" track:\"Insight\" album:\"Quark\"',\n",
       " 'artist:\"Jun Fukamachi\" track:\"Perpetual (Movement)\" album:\"Quark\"',\n",
       " 'artist:\"Jun Fukamachi\" track:\"Quark\" album:\"Quark\"',\n",
       " 'artist:\"Kalash Criminel\" track:\"Pronostic\" album:\"N/A\"',\n",
       " 'artist:\"Kelly Bailey\" track:\"CP Violation\" album:\"Half Life 2\"',\n",
       " 'artist:\"Kenichiro Nishihara\" track:\"Magazine\" album:\"Jazzy Folklore\"',\n",
       " 'artist:\"Kenichiro Nishihara\" track:\"The Vibe\" album:\"Jazzy Folklore\"',\n",
       " 'artist:\"Kenichiro Nishihara\" track:\"Yesternow Immignrats\" album:\"Jazzy Folklore\"',\n",
       " 'artist:\"Koji Kondo\" track:\"Kokiri Forest\" album:\"Ocarina of Time\"',\n",
       " 'artist:\"Kristofer Maddigan\" track:\"Perilious Piers\" album:\"Cuphead\"',\n",
       " 'artist:\"La Ptite Fumée\" track:\"Thunderbreizh\" album:\"N/A\"',\n",
       " 'artist:\"Lalo Schifrin\" track:\"Serenata\" album:\"Steal Away\"',\n",
       " 'artist:\"Leprous\" track:\"Pixel\" album:\"The Congregation\"',\n",
       " 'artist:\"Lipps Inc.\" track:\"Funkytown\" album:\"Mouth to Mouth\"',\n",
       " 'artist:\"Luke Million\" track:\"Arnold\" album:\"N/A\"',\n",
       " 'artist:\"Luke Million\" track:\"Ice Ice Arnie (Cool Party)\" album:\"N/A\"',\n",
       " 'artist:\"Lynrd Skynrd\" track:\"Sweet Home Alabama\" album:\"Second Helping\"',\n",
       " 'artist:\"Mahito Yokota\" track:\"Gusty Gardens\" album:\"Super Mario Galaxy\"',\n",
       " 'artist:\"Maître Gims\" track:\"Reste\" album:\"N/A\"',\n",
       " 'artist:\"Marcus Miller\" track:\"I Cant Breathe\" album:\"Afrodeezia\"',\n",
       " 'artist:\"Mozart\" track:\"2. Kyrie Eleison\" album:\"Requiem in D minor K 626\"',\n",
       " 'artist:\"Mozart\" track:\"3. Sequenta: Confutatis\" album:\"Requiem in D minor K 626\"',\n",
       " 'artist:\"Mozart\" track:\"3. Sequenta: Lacrimosa\" album:\"Requiem in D minor K 626\"',\n",
       " 'artist:\"Mozart\" track:\"3. Sequenta: Recordare\" album:\"Requiem in D minor K 626\"',\n",
       " 'artist:\"Mozart\" track:\"3. Sequenta: Rex tremendae\" album:\"Requiem in D minor K 626\"',\n",
       " 'artist:\"Mozart\" track:\"3. Sequentia: Tubamirum\" album:\"Requiem in D minor K 626\"',\n",
       " 'artist:\"Mozart\" track:\"3a. Sequienta: Dies irae\" album:\"Requiem in D minor K 626\"',\n",
       " 'artist:\"Parkway Drive\" track:\"Prey\" album:\"Prey\"',\n",
       " 'artist:\"Porcupine Tree\" track:\"Chloroform\" album:\"In Absentia\"',\n",
       " 'artist:\"Porcupine Tree\" track:\"Drown With Me\" album:\"In Absentia\"',\n",
       " 'artist:\"Porcupine Tree\" track:\"Heartattack in a Lay By\" album:\"In Absentia\"',\n",
       " 'artist:\"PostmodernJukebox\" track:\"Feel It Still\" album:\"N/A\"',\n",
       " 'artist:\"Pulko\" track:\"Du Lourd\" album:\"N/A\"',\n",
       " 'artist:\"Roi Heenok\" track:\"Hybride Exo\" album:\"N/A\"',\n",
       " 'artist:\"SAINt JHN\" track:\"Roses (Imanbek Remix)\" album:\"N/A\"',\n",
       " 'artist:\"Santo & Johnny\" track:\"All Night Dinner\" album:\"Santo & Johnny\"',\n",
       " 'artist:\"Santo & Johnny\" track:\"Caravan\" album:\"Santo & Johnny\"',\n",
       " 'artist:\"Santo & Johnny\" track:\"School Day\" album:\"Santo & Johnny\"',\n",
       " 'artist:\"Santo & Johnny\" track:\"Slave Girl\" album:\"Santo & Johnny\"',\n",
       " 'artist:\"Santo & Johnny\" track:\"Sleep Walk\" album:\"Santo & Johnny\"',\n",
       " 'artist:\"Snowy White And The White Flames\" track:\"Midnight Blues\" album:\"No Faith Required\"',\n",
       " 'artist:\"Stand High Patrol\" track:\"Atmosphere\" album:\"Summer on Mars\"',\n",
       " 'artist:\"Stand High Patrol\" track:\"Dreamcatcher\" album:\"Summer on Mars\"',\n",
       " 'artist:\"Stand High Patrol\" track:\"Fragile\" album:\"Summer on Mars\"',\n",
       " 'artist:\"Stand High Patrol\" track:\"Landlord\" album:\"Summer on Mars\"',\n",
       " 'artist:\"Stand High Patrol\" track:\"Raw Lines\" album:\"Summer on Mars\"',\n",
       " 'artist:\"Stand High Patrol\" track:\"Rosetta\" album:\"Summer on Mars\"',\n",
       " 'artist:\"Stand High Patrol\" track:\"Spring Rain\" album:\"Summer on Mars\"',\n",
       " 'artist:\"Stand High Patrol\" track:\"Summer on Mars\" album:\"Summer on Mars\"',\n",
       " 'artist:\"Stand High Patrol\" track:\"Working Class\" album:\"Summer on Mars\"',\n",
       " 'artist:\"StevenSeagulls\" track:\"Thunderstruck\" album:\"Farm Machine\"',\n",
       " 'artist:\"Steven Wilson\" track:\"Transcience\" album:\"Hand. Cannot. Erase.\"',\n",
       " 'artist:\"Stupeflip\" track:\"Les Ronces\" album:\"Terror Maxi\"',\n",
       " 'artist:\"Stupeflip\" track:\"Stupeflip Vite !!!\" album:\"Terror Maxi\"',\n",
       " 'artist:\"Stupeflip\" track:\"Cest un Tube\" album:\"The Hypnoflip Invasion\"',\n",
       " 'artist:\"Stupeflip\" track:\"Cold World\" album:\"The Hypnoflip Invasion\"',\n",
       " 'artist:\"System Of A Down\" track:\"The Metro\" album:\"Dracula 2000\"',\n",
       " 'artist:\"System Of A Down\" track:\"Kill Rockn Roll\" album:\"Hypnotize\"',\n",
       " 'artist:\"The Bee Gees\" track:\"Jive Talkin\" album:\"Main Course\"',\n",
       " 'artist:\"The Bee Gees\" track:\"Stayin Alive\" album:\"Saturday Night Fever\"',\n",
       " 'artist:\"The Doors\" track:\"(You Need Meat) Dont Go No Further\" album:\"L.A. Woman\"',\n",
       " 'artist:\"The Doors\" track:\"L America\" album:\"L.A. Woman\"',\n",
       " 'artist:\"The Killers\" track:\"Somedy Told Me\" album:\"Hot Fuss\"',\n",
       " 'artist:\"The Pretenders\" track:\"Almost Perfect\" album:\"Break Up the Concrete\"',\n",
       " 'artist:\"The Pretenders\" track:\"Boots of Chinese Plastic\" album:\"Break Up the Concrete\"',\n",
       " 'artist:\"The Pretenders\" track:\"Break Up the Concrete\" album:\"Break Up the Concrete\"',\n",
       " 'artist:\"The Pretenders\" track:\"Dont Cut Your Hair\" album:\"Break Up the Concrete\"',\n",
       " 'artist:\"The Pretenders\" track:\"Dont Lose Faith in Me\" album:\"Break Up the Concrete\"',\n",
       " 'artist:\"The Pretenders\" track:\"Loves a Mystery\" album:\"Break Up the Concrete\"',\n",
       " 'artist:\"The Pretenders\" track:\"One thing never changed\" album:\"Break Up the Concrete\"',\n",
       " 'artist:\"The Pretenders\" track:\"Rosalee\" album:\"Break Up the Concrete\"',\n",
       " 'artist:\"The Pretenders\" track:\"The Last Ride\" album:\"Break Up the Concrete\"',\n",
       " 'artist:\"The Pretenders\" track:\"The Nothing Maker\" album:\"Break Up the Concrete\"',\n",
       " 'artist:\"The Pretenders\" track:\"You Didnt Have To\" album:\"Break Up the Concrete\"',\n",
       " 'artist:\"The Ramones\" track:\"Blitzkrieg Bop\" album:\"Ramones\"',\n",
       " 'artist:\"The Shutes\" track:\"Echo Of Love\" album:\"Bright Blue Berlin Sky\"',\n",
       " 'artist:\"The Skints\" track:\"What Did I Learned Today?\" album:\"Swimming Lessons\"',\n",
       " 'artist:\"The Who\" track:\"Baba O Riley\" album:\"Whos Next\"',\n",
       " 'artist:\"Todd Terje\" track:\"Alfonso Muskender\" album:\"Its Album Time\"',\n",
       " 'artist:\"Todd Terje\" track:\"Dolorean Dynamite\" album:\"Its Album Time\"',\n",
       " 'artist:\"Twenty One Pilots\" track:\"Ride\" album:\"Blurry Face\"',\n",
       " 'artist:\"Weezer\" track:\"Say It Aint So\" album:\"Weezer (Blue Album)\"',\n",
       " 'artist:\"Wejdene\" track:\"Anissa\" album:\"N/A\"',\n",
       " 'artist:\"Deftones\" track:\"Changes (In the House of Flies)\" album:\"White Pony\"',\n",
       " 'artist:\"Johnny \"Guitar\" Watson\" track:\"Booty Ooty\" album:\"Love Jones\"',\n",
       " 'artist:\"Surface\" track:\"Falling In Love\" album:\"Falling In Love\"']"
      ]
     },
     "execution_count": 23,
     "metadata": {},
     "output_type": "execute_result"
    }
   ],
   "source": [
    "bad_format"
   ]
  },
  {
   "cell_type": "code",
   "execution_count": null,
   "metadata": {
    "collapsed": false
   },
   "outputs": [],
   "source": []
  }
 ],
 "metadata": {
  "kernelspec": {
   "argv": [
    "/home/gary/.virtualenvs/bot_dj/bin/python",
    "-m",
    "ipykernel_launcher",
    "-f",
    "{connection_file}"
   ],
   "display_name": "bot_dj",
   "env": null,
   "interrupt_mode": "signal",
   "language": "python",
   "metadata": null,
   "name": "bot_dj"
  },
  "name": "connect_spotify.ipynb"
 },
 "nbformat": 4,
 "nbformat_minor": 4
}
