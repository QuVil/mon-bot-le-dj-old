{
 "cells": [
  {
   "cell_type": "code",
   "execution_count": 21,
   "metadata": {
    "collapsed": false
   },
   "outputs": [],
   "source": [
    "import pandas as pd"
   ]
  },
  {
   "cell_type": "code",
   "execution_count": 22,
   "metadata": {
    "collapsed": false
   },
   "outputs": [
    {
     "name": "stdout",
     "output_type": "stream",
     "text": [
      "The autoreload extension is already loaded. To reload it, use:\n",
      "  %reload_ext autoreload\n"
     ]
    }
   ],
   "source": [
    "# autoreload custom modules\n",
    "%load_ext autoreload\n",
    "%autoreload 2"
   ]
  },
  {
   "cell_type": "code",
   "execution_count": 23,
   "metadata": {
    "collapsed": false
   },
   "outputs": [],
   "source": [
    "from src.muzik import Muzik\n",
    "from prototyping.data import load_from_api\n",
    "from prototyping.playlist import create_playlist"
   ]
  },
  {
   "cell_type": "code",
   "execution_count": 24,
   "metadata": {
    "collapsed": false
   },
   "outputs": [
    {
     "name": "stdout",
     "output_type": "stream",
     "text": [
      "reading data from cache file cache/ids.pkl\n"
     ]
    }
   ],
   "source": [
    "muzik = Muzik()\n",
    "ids = muzik.ids"
   ]
  },
  {
   "cell_type": "code",
   "execution_count": 25,
   "metadata": {
    "collapsed": false
   },
   "outputs": [],
   "source": [
    "ach = load_from_api()"
   ]
  },
  {
   "cell_type": "code",
   "execution_count": 26,
   "metadata": {
    "collapsed": false
   },
   "outputs": [],
   "source": [
    "# index preprocessing, should be done beforehand\n",
    "# (load_from_api)\n",
    "ach.set_index(['genre', 'sub_genre', 'artist', 'album', 'song'], inplace=True)"
   ]
  },
  {
   "cell_type": "code",
   "execution_count": 43,
   "metadata": {
    "collapsed": false
   },
   "outputs": [
    {
     "name": "stdout",
     "output_type": "stream",
     "text": [
      "\u001b[91m1 /25\u001b[0m : artist:\"Meshuggah\" album:\"Nothingg\" track:\"Rational Gaze\" not in Spotify\n",
      "\u001b[92m2 /25\u001b[0m : 5v5E4aWMODTrPG9JnU7V4w Un été de porcelaine Mort Shuman Les Plus Belles Chansons\n",
      "\u001b[92m3 /25\u001b[0m : 17X2d0BXk1sgVvH94JIiOR Qui saura Mike Brant 20eme anniversaire\n"
     ]
    },
    {
     "name": "stdout",
     "output_type": "stream",
     "text": [
      "\u001b[92m4 /25\u001b[0m : 6N6uTt8e1vLLgIZK5FgSYh Le paradis blanc - Remasterisé en 2002 Michel Berger Ca ne tient pas debout (Remasterisé en 2002)\n",
      "\u001b[92m5 /25\u001b[0m : 4FmiciU3ZmfgABlbCSXcWw La vie en rose Édith Piaf de l'accordeoniste a milord\n",
      "\u001b[92m6 /25\u001b[0m : 1GdtMDRiaF1EnG2LJpELme Une belle histoire Michel Fugain & Le Big Bazar Fais Comme L'Oiseau\n"
     ]
    },
    {
     "name": "stdout",
     "output_type": "stream",
     "text": [
      "\u001b[92m7 /25\u001b[0m : 6Mty8PpDhHWAMablVKjWnP Non je n'ai rien oublié Charles Aznavour Non, je n'ai rien oublié (Remastered 2014)\n",
      "\u001b[92m8 /25\u001b[0m : 6xs2iOXaBfCeVKeyfo2VNE Mon vieux Daniel Guichard Mon Vieux\n",
      "\u001b[92m9 /25\u001b[0m : 4W5hu2CaYOFfZQhKyLU01R Quand Je T’Aime Demis Roussos Demis Roussos Greatest Hits - Forever And Ever\n"
     ]
    },
    {
     "name": "stdout",
     "output_type": "stream",
     "text": [
      "\u001b[92m10/25\u001b[0m : 7w0uMCTE1TBIGfUYIYYjuL Chanter pour ceux qui sont loin de chez eux - Remasterisé en 2002 Michel Berger Différences (Remasterisé en 2002)\n",
      "\u001b[92m11/25\u001b[0m : 2KzUa9x2TNzHVsx4sVuHsx Encore et encore - Remastered Francis Cabrel Photos de voyages (Remastered)\n"
     ]
    },
    {
     "name": "stdout",
     "output_type": "stream",
     "text": [
      "\u001b[92m12/25\u001b[0m : 0BHd25s6kOqtmSHye7gtLu Je n'aurai pas le temps Michel Fugain Michel Fugain\n",
      "\u001b[92m13/25\u001b[0m : 6DFzpa0eHyEkvQ2oeewmA2 Déjeuner en paix Stephan Eicher Engelberg\n",
      "\u001b[92m14/25\u001b[0m : 6IRA4KOVbtiGiTdYoEThJN Ne me quitte pas Jacques Brel La Valse A Mille Temps (Vol.4)\n",
      "\u001b[92m15/25\u001b[0m : 2GSzbxkuiK6bAAndtcwFHo Ces idées-là Bertignac Et Les Visiteurs Bertignac et les visiteurs\n"
     ]
    },
    {
     "name": "stdout",
     "output_type": "stream",
     "text": [
      "\u001b[92m16/25\u001b[0m : 3N9Vibj1SwLn4SRtWJVDVO Ma préférence Julien Clerc Jaloux\n",
      "\u001b[92m17/25\u001b[0m : 1cbEUq5Rwe9LLFQyPKxurl Le chasseur Michel Delpech Le Chasseur\n",
      "\u001b[92m18/25\u001b[0m : 6qbieXHVuCIIlzi55j6E5i Quelques mots d'amour - Remasterisé en 2002 Michel Berger Beauséjour (Remasterisé en 2002)\n"
     ]
    },
    {
     "name": "stdout",
     "output_type": "stream",
     "text": [
      "\u001b[92m19/25\u001b[0m : 05ubSq0kbCEJ9phlfHRC4m Le chanteur Daniel Balavoine Le chanteur\n",
      "\u001b[92m20/25\u001b[0m : 2kkuEKckbZRRZDbpFR5OuN Dans les yeux d'Emilie Joe Dassin Les Femmes De Ma Vie\n"
     ]
    },
    {
     "name": "stdout",
     "output_type": "stream",
     "text": [
      "\u001b[92m21/25\u001b[0m : 1BrgjqSg9du0lj3TUMLluL To Hell and Back Sabaton Heroes\n",
      "\u001b[92m22/25\u001b[0m : 0bUgTRe5st6TMbRCEjKezX The Last Stand Sabaton The Last Stand\n",
      "\u001b[92m23/25\u001b[0m : 39m87lOMd5ccENPVvAT7gH Bismarck Sabaton Bismarck\n",
      "\u001b[92m24/25\u001b[0m : 5DbAOJ5dYW5A9xBhkeb33t Primo Victoria Sabaton Primo Victoria (Re-Armed)\n"
     ]
    },
    {
     "name": "stdout",
     "output_type": "stream",
     "text": [
      "\u001b[92m25/25\u001b[0m : 5XLTYAs2yTzd1nFJsxg0sv In the Army Now Sabaton In the Army Now\n"
     ]
    }
   ],
   "source": [
    "muzik.update(ach)"
   ]
  },
  {
   "cell_type": "code",
   "execution_count": 31,
   "metadata": {
    "collapsed": false
   },
   "outputs": [
    {
     "name": "stdout",
     "output_type": "stream",
     "text": [
      "lol\n"
     ]
    }
   ],
   "source": [
    "print(\"lol\")"
   ]
  },
  {
   "cell_type": "code",
   "execution_count": 33,
   "metadata": {
    "collapsed": false
   },
   "outputs": [
    {
     "data": {
      "text/plain": [
       "1748                      None\n",
       "1755    5v5E4aWMODTrPG9JnU7V4w\n",
       "1756    17X2d0BXk1sgVvH94JIiOR\n",
       "1757    6N6uTt8e1vLLgIZK5FgSYh\n",
       "1758    4FmiciU3ZmfgABlbCSXcWw\n",
       "1759    1GdtMDRiaF1EnG2LJpELme\n",
       "1760    6Mty8PpDhHWAMablVKjWnP\n",
       "1761    6xs2iOXaBfCeVKeyfo2VNE\n",
       "1762    4W5hu2CaYOFfZQhKyLU01R\n",
       "1763    7w0uMCTE1TBIGfUYIYYjuL\n",
       "1764    2KzUa9x2TNzHVsx4sVuHsx\n",
       "1765    0BHd25s6kOqtmSHye7gtLu\n",
       "1766    6DFzpa0eHyEkvQ2oeewmA2\n",
       "1767    6IRA4KOVbtiGiTdYoEThJN\n",
       "1768    2GSzbxkuiK6bAAndtcwFHo\n",
       "1769    3N9Vibj1SwLn4SRtWJVDVO\n",
       "1770    1cbEUq5Rwe9LLFQyPKxurl\n",
       "1771    6qbieXHVuCIIlzi55j6E5i\n",
       "1772    05ubSq0kbCEJ9phlfHRC4m\n",
       "1773    2kkuEKckbZRRZDbpFR5OuN\n",
       "1774    1BrgjqSg9du0lj3TUMLluL\n",
       "1775    0bUgTRe5st6TMbRCEjKezX\n",
       "1776    39m87lOMd5ccENPVvAT7gH\n",
       "1777    5DbAOJ5dYW5A9xBhkeb33t\n",
       "1778    5XLTYAs2yTzd1nFJsxg0sv\n",
       "Name: ids, dtype: object"
      ]
     },
     "execution_count": 33,
     "metadata": {},
     "output_type": "execute_result"
    }
   ],
   "source": [
    "muzik.new"
   ]
  },
  {
   "cell_type": "code",
   "execution_count": null,
   "metadata": {
    "collapsed": false
   },
   "outputs": [],
   "source": []
  }
 ],
 "metadata": {
  "kernelspec": {
   "argv": [
    "/home/gary/.virtualenvs/bot_dj/bin/python",
    "-m",
    "ipykernel_launcher",
    "-f",
    "{connection_file}"
   ],
   "display_name": "bot_dj",
   "env": null,
   "interrupt_mode": "signal",
   "language": "python",
   "metadata": null,
   "name": "bot_dj"
  },
  "name": "test_api_class.ipynb"
 },
 "nbformat": 4,
 "nbformat_minor": 4
}
