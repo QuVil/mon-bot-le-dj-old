{
 "cells": [
  {
   "cell_type": "code",
   "execution_count": 1,
   "metadata": {
    "collapsed": false
   },
   "outputs": [],
   "source": [
    "import spotipy\n",
    "from spotipy.oauth2 import SpotifyClientCredentials\n",
    "import json\n",
    "from googleapiclient.discovery import build\n",
    "from google.oauth2.service_account import Credentials"
   ]
  },
  {
   "cell_type": "code",
   "execution_count": 2,
   "metadata": {
    "collapsed": false
   },
   "outputs": [],
   "source": [
    "import pandas as pd\n",
    "import re\n",
    "import pprint"
   ]
  },
  {
   "cell_type": "markdown",
   "metadata": {
    "collapsed": false
   },
   "source": [
    "## Connexion a spotify"
   ]
  },
  {
   "cell_type": "code",
   "execution_count": 3,
   "metadata": {
    "collapsed": false
   },
   "outputs": [],
   "source": [
    "CRED_PATH_SPOTIFY = \"../credentials-spotify.json\""
   ]
  },
  {
   "cell_type": "code",
   "execution_count": 4,
   "metadata": {
    "collapsed": false
   },
   "outputs": [],
   "source": [
    "with open(CRED_PATH_SPOTIFY, 'r') as handle:\n",
    "    data = json.load(handle)"
   ]
  },
  {
   "cell_type": "code",
   "execution_count": 5,
   "metadata": {
    "collapsed": false
   },
   "outputs": [],
   "source": [
    "spotify = spotipy.Spotify(auth_manager=SpotifyClientCredentials(\n",
    "    **data\n",
    "))"
   ]
  },
  {
   "cell_type": "markdown",
   "metadata": {
    "collapsed": false
   },
   "source": [
    "## Connexion a google"
   ]
  },
  {
   "cell_type": "code",
   "execution_count": 6,
   "metadata": {
    "collapsed": false
   },
   "outputs": [],
   "source": [
    "CREDENTIALS_PATH_GOOGLE = \"../credentials-sheets.json\""
   ]
  },
  {
   "cell_type": "code",
   "execution_count": 7,
   "metadata": {
    "collapsed": false
   },
   "outputs": [],
   "source": [
    "SCOPES = ['https://www.googleapis.com/auth/spreadsheets.readonly']\n",
    "SPREADSHEET = '1b75J-QTGrujSgF9r0_JPOKkcXAwzFVwpETOAyVBw8ak'"
   ]
  },
  {
   "cell_type": "code",
   "execution_count": 8,
   "metadata": {
    "collapsed": false
   },
   "outputs": [],
   "source": [
    "# Load service account credentials.\n",
    "__credentials = Credentials.from_service_account_file(CREDENTIALS_PATH_GOOGLE, scopes=SCOPES)\n",
    "\n",
    "# Creates Google Sheets API (v4/latest) service.\n",
    "service = build('sheets', 'v4', credentials=__credentials)"
   ]
  },
  {
   "cell_type": "code",
   "execution_count": 9,
   "metadata": {
    "collapsed": false
   },
   "outputs": [],
   "source": [
    "values = service.spreadsheets().values().get(spreadsheetId=SPREADSHEET, range='Notations').execute()['values']\n",
    "headers = values.pop(0)"
   ]
  },
  {
   "cell_type": "code",
   "execution_count": 10,
   "metadata": {
    "collapsed": false
   },
   "outputs": [],
   "source": [
    "df = pd.DataFrame(values, columns=headers)"
   ]
  },
  {
   "cell_type": "markdown",
   "metadata": {
    "collapsed": false
   },
   "source": [
    "# DF preprocessing"
   ]
  },
  {
   "cell_type": "code",
   "execution_count": 11,
   "metadata": {
    "collapsed": false
   },
   "outputs": [],
   "source": [
    "df.set_index(['genre', 'sub_genre', 'artist', 'album', 'song'], inplace=True)\n",
    "df = df.apply(lambda s: s.str.replace(\",\", \".\"))\n",
    "df = df.apply(lambda s: pd.to_numeric(s, errors='coerce'))"
   ]
  },
  {
   "cell_type": "code",
   "execution_count": 12,
   "metadata": {
    "collapsed": false
   },
   "outputs": [
    {
     "data": {
      "text/html": [
       "<div>\n",
       "<style scoped>\n",
       "    .dataframe tbody tr th:only-of-type {\n",
       "        vertical-align: middle;\n",
       "    }\n",
       "\n",
       "    .dataframe tbody tr th {\n",
       "        vertical-align: top;\n",
       "    }\n",
       "\n",
       "    .dataframe thead th {\n",
       "        text-align: right;\n",
       "    }\n",
       "</style>\n",
       "<table border=\"1\" class=\"dataframe\">\n",
       "  <thead>\n",
       "    <tr style=\"text-align: right;\">\n",
       "      <th></th>\n",
       "      <th>ntQ</th>\n",
       "      <th>ntG</th>\n",
       "      <th>ntV</th>\n",
       "      <th>ntR</th>\n",
       "      <th>ntS</th>\n",
       "      <th>ntGl</th>\n",
       "      <th>ntRx</th>\n",
       "      <th>ntC</th>\n",
       "      <th>ntL</th>\n",
       "    </tr>\n",
       "  </thead>\n",
       "  <tbody>\n",
       "    <tr>\n",
       "      <th>count</th>\n",
       "      <td>1356.000000</td>\n",
       "      <td>616.000000</td>\n",
       "      <td>737.000000</td>\n",
       "      <td>212.000000</td>\n",
       "      <td>251.000000</td>\n",
       "      <td>113.000000</td>\n",
       "      <td>19.000000</td>\n",
       "      <td>20.000000</td>\n",
       "      <td>14.000000</td>\n",
       "    </tr>\n",
       "    <tr>\n",
       "      <th>mean</th>\n",
       "      <td>7.703724</td>\n",
       "      <td>8.104464</td>\n",
       "      <td>7.388738</td>\n",
       "      <td>7.713443</td>\n",
       "      <td>6.653586</td>\n",
       "      <td>7.484513</td>\n",
       "      <td>7.973684</td>\n",
       "      <td>6.435000</td>\n",
       "      <td>6.944286</td>\n",
       "    </tr>\n",
       "    <tr>\n",
       "      <th>std</th>\n",
       "      <td>1.309181</td>\n",
       "      <td>0.825316</td>\n",
       "      <td>1.343893</td>\n",
       "      <td>1.586352</td>\n",
       "      <td>1.945438</td>\n",
       "      <td>1.724949</td>\n",
       "      <td>2.288095</td>\n",
       "      <td>1.805044</td>\n",
       "      <td>3.057809</td>\n",
       "    </tr>\n",
       "    <tr>\n",
       "      <th>min</th>\n",
       "      <td>0.000000</td>\n",
       "      <td>4.000000</td>\n",
       "      <td>0.000000</td>\n",
       "      <td>0.100000</td>\n",
       "      <td>0.050000</td>\n",
       "      <td>0.000000</td>\n",
       "      <td>2.000000</td>\n",
       "      <td>0.000000</td>\n",
       "      <td>0.000000</td>\n",
       "    </tr>\n",
       "    <tr>\n",
       "      <th>25%</th>\n",
       "      <td>7.500000</td>\n",
       "      <td>7.687500</td>\n",
       "      <td>7.000000</td>\n",
       "      <td>7.300000</td>\n",
       "      <td>5.000000</td>\n",
       "      <td>7.000000</td>\n",
       "      <td>7.500000</td>\n",
       "      <td>5.950000</td>\n",
       "      <td>6.847500</td>\n",
       "    </tr>\n",
       "    <tr>\n",
       "      <th>50%</th>\n",
       "      <td>8.000000</td>\n",
       "      <td>8.250000</td>\n",
       "      <td>7.500000</td>\n",
       "      <td>8.000000</td>\n",
       "      <td>7.000000</td>\n",
       "      <td>7.500000</td>\n",
       "      <td>8.000000</td>\n",
       "      <td>6.625000</td>\n",
       "      <td>8.000000</td>\n",
       "    </tr>\n",
       "    <tr>\n",
       "      <th>75%</th>\n",
       "      <td>8.500000</td>\n",
       "      <td>8.750000</td>\n",
       "      <td>8.500000</td>\n",
       "      <td>8.700000</td>\n",
       "      <td>8.000000</td>\n",
       "      <td>8.500000</td>\n",
       "      <td>10.000000</td>\n",
       "      <td>7.375000</td>\n",
       "      <td>8.875000</td>\n",
       "    </tr>\n",
       "    <tr>\n",
       "      <th>max</th>\n",
       "      <td>10.000000</td>\n",
       "      <td>9.500000</td>\n",
       "      <td>9.750000</td>\n",
       "      <td>9.700000</td>\n",
       "      <td>10.000000</td>\n",
       "      <td>10.000000</td>\n",
       "      <td>10.000000</td>\n",
       "      <td>8.750000</td>\n",
       "      <td>9.330000</td>\n",
       "    </tr>\n",
       "  </tbody>\n",
       "</table>\n",
       "</div>"
      ],
      "text/plain": [
       "               ntQ         ntG         ntV         ntR         ntS  \\\n",
       "count  1356.000000  616.000000  737.000000  212.000000  251.000000   \n",
       "mean      7.703724    8.104464    7.388738    7.713443    6.653586   \n",
       "std       1.309181    0.825316    1.343893    1.586352    1.945438   \n",
       "min       0.000000    4.000000    0.000000    0.100000    0.050000   \n",
       "25%       7.500000    7.687500    7.000000    7.300000    5.000000   \n",
       "50%       8.000000    8.250000    7.500000    8.000000    7.000000   \n",
       "75%       8.500000    8.750000    8.500000    8.700000    8.000000   \n",
       "max      10.000000    9.500000    9.750000    9.700000   10.000000   \n",
       "\n",
       "             ntGl       ntRx        ntC        ntL  \n",
       "count  113.000000  19.000000  20.000000  14.000000  \n",
       "mean     7.484513   7.973684   6.435000   6.944286  \n",
       "std      1.724949   2.288095   1.805044   3.057809  \n",
       "min      0.000000   2.000000   0.000000   0.000000  \n",
       "25%      7.000000   7.500000   5.950000   6.847500  \n",
       "50%      7.500000   8.000000   6.625000   8.000000  \n",
       "75%      8.500000  10.000000   7.375000   8.875000  \n",
       "max     10.000000  10.000000   8.750000   9.330000  "
      ]
     },
     "execution_count": 12,
     "metadata": {},
     "output_type": "execute_result"
    }
   ],
   "source": [
    "df.describe()"
   ]
  },
  {
   "cell_type": "code",
   "execution_count": 63,
   "metadata": {
    "collapsed": false
   },
   "outputs": [],
   "source": [
    "def eq_ignorecase(a, b):\n",
    "    return re.search(a, b, re.IGNORECASE)    "
   ]
  },
  {
   "cell_type": "code",
   "execution_count": 77,
   "metadata": {
    "collapsed": false
   },
   "outputs": [],
   "source": [
    "def filter_search(row, res):\n",
    "    songs = res['tracks']['items']\n",
    "    valid = []\n",
    "    for song in songs:\n",
    "        s_artist = song[\"artists\"][0][\"name\"]\n",
    "        s_album = song[\"album\"][\"name\"]\n",
    "        s_title = song[\"name\"]\n",
    "        if eq_ignorecase(row[\"artist\"], s_artist) and\\\n",
    "           eq_ignorecase(row[\"album\"], s_album) and\\\n",
    "           eq_ignorecase(row[\"song\"], s_title):\n",
    "            valid.append(song)\n",
    "    print(row[\"artist\"], row[\"album\"], row[\"song\"])\n",
    "    print(len(valid) >= 1)"
   ]
  },
  {
   "cell_type": "code",
   "execution_count": 18,
   "metadata": {
    "collapsed": false
   },
   "outputs": [
    {
     "name": "stdout",
     "output_type": "stream",
     "text": [
      "0   /1573 : 57BDT1bvzeAzl3IXMQU4Ri I Do, I Do, I Do, I Do, I Do ABBA Abba\n",
      "1   /1573 : 22NN4BS1AlqVbyKIWExgON Mamma Mia ABBA Abba\n"
     ]
    },
    {
     "name": "stdout",
     "output_type": "stream",
     "text": [
      "2   /1573 : 5pMmWfuL0FTGshYt7HVJ8P SOS ABBA ABBA Gold\n",
      "3   /1573 : 46ou4l4zvrZMada0TgoVH9 Knowing Me, Knowing You ABBA Arrival\n"
     ]
    },
    {
     "name": "stdout",
     "output_type": "stream",
     "text": [
      "4   /1573 : 6cH34Jb2W9s9w8ooRtZZPf Lay All Your Love On Me ABBA Super Trouper\n",
      "5   /1573 : 2nMghZvtLx6DDgTEHEsb4w Super Trouper ABBA Super Trouper\n"
     ]
    },
    {
     "name": "stdout",
     "output_type": "stream",
     "text": [
      "6   /1573 : 2HeTmGTjl870ucJ8mF7zl5 The Winner Takes It All ABBA Super Trouper\n",
      "7   /1573 : 6vQN2a9QSgWcm74KEZYfDL Take A Chance On Me ABBA The Album\n",
      "8   /1573 : 0RzhMHIsFMbOGh0oWDvNNK Waterloo ABBA Waterloo\n"
     ]
    },
    {
     "name": "stdout",
     "output_type": "stream",
     "text": [
      "9   /1573 : 7LRMbd3LEoV5wZJvXT1Lwb T.N.T. AC/DC High Voltage\n",
      "10  /1573 : 2zYzyRzz6pRmhPzyfMEC8s Highway to Hell AC/DC Highway to Hell\n"
     ]
    },
    {
     "name": "stdout",
     "output_type": "stream",
     "text": [
      "11  /1573 : 5jCp5VtcpUlHtW8Dwlx13Y Angry Chair Alice In Chains Dirt\n",
      "12  /1573 : 22Ntyke0ZDZy2Uuf8BEDkU Dam That River Alice In Chains Dirt\n"
     ]
    },
    {
     "name": "stdout",
     "output_type": "stream",
     "text": [
      "13  /1573 : 2QjkH9q5Mypj6m38u7Ni9o Dirt Alice In Chains Dirt\n",
      "14  /1573 : 7FRfYOql61DGDp9VPPe2qA Down In A Hole Alice In Chains Dirt\n"
     ]
    },
    {
     "name": "stdout",
     "output_type": "stream",
     "text": [
      "15  /1573 : 1klrDyGRsCBPofZdqdaZp6 God Smack Alice In Chains Dirt\n",
      "16  /1573 : 0rglK8l5QBSADvao8n4d2N Hate To Feel Alice In Chains Dirt\n"
     ]
    },
    {
     "name": "stdout",
     "output_type": "stream",
     "text": [
      "17  /1573 : 1mvEbRAlocvkJvqZIj3zHu Junkhead Alice In Chains Dirt\n",
      "18  /1573 : 6a9SPVrXyrlVh5Fh08f8Bz Rain When I Die Alice In Chains Dirt\n"
     ]
    },
    {
     "name": "stdout",
     "output_type": "stream",
     "text": [
      "19  /1573 : 0wvIGFIgbyz4JNwQhZgTv2 Rooster Alice In Chains Dirt\n",
      "20  /1573 : 5EnYdTx0BWhWM5YDcPkGAa Sickman Alice In Chains Dirt\n"
     ]
    },
    {
     "name": "stdout",
     "output_type": "stream",
     "text": [
      "21  /1573 : 4A065x9kJt955eGVqf813g Them Bones Alice In Chains Dirt\n",
      "22  /1573 : 2s9xt247uEa0sXmAH0GvL3 Untitled Alice In Chains Dirt\n"
     ]
    },
    {
     "name": "stdout",
     "output_type": "stream",
     "text": [
      "23  /1573 : 5sFDReWLrZHLFZFjHsjUTS Would? Alice In Chains Dirt\n",
      "artist:Alkapote, Vald track:Plus haut - Les marches de l empeureur Saison 3 / épisode 1 album:N/A not in spotify\n"
     ]
    },
    {
     "name": "stdout",
     "output_type": "stream",
     "text": [
      "25  /1573 : 3n69hLUdIsSa1WlRmjMZlW Breezeblocks alt-J An Awesome Wave\n"
     ]
    },
    {
     "name": "stdout",
     "output_type": "stream",
     "text": [
      "26  /1573 : 00FuOCmghgctxEsVVMGKDk Crack the Sky Amon Amarth Berserker\n"
     ]
    },
    {
     "name": "stdout",
     "output_type": "stream",
     "text": [
      "27  /1573 : 1I0bU6iuH1Ct9qikfDZyJV Raven's Flight Amon Amarth Berserker\n"
     ]
    },
    {
     "name": "stdout",
     "output_type": "stream",
     "text": [
      "28  /1573 : 0sObxZUKqdPfgjG9ahSlP5 The Pursuit Of Vikings Amon Amarth Fate of Norns\n"
     ]
    },
    {
     "name": "stdout",
     "output_type": "stream",
     "text": [
      "29  /1573 : 6ypKaenmVXMCXvlkfYOpjf Raise Your Horns Amon Amarth Jomsviking\n"
     ]
    },
    {
     "name": "stdout",
     "output_type": "stream",
     "text": [
      "30  /1573 : 4BQuuaTsdUNCcbReYb6RC7 Masters Of War Amon Amarth The Crusher\n"
     ]
    },
    {
     "name": "stdout",
     "output_type": "stream",
     "text": [
      "31  /1573 : 5u3l2TONYacJgmRPQVaF9y Twilight Of The Thunder God Amon Amarth Twilight Of The Thunder God\n"
     ]
    },
    {
     "name": "stdout",
     "output_type": "stream",
     "text": [
      "32  /1573 : 0Yx5mSfgA9XsyKkpmAxV2A Tin Foiled Andrew Bird Things Are Really Great Here, Sort Of...\n",
      "33  /1573 : 53ErZun9BFfUwC6UNKdxiE Silent Wars Arch Enemy Anthems of Rebellion\n"
     ]
    },
    {
     "name": "stdout",
     "output_type": "stream",
     "text": [
      "34  /1573 : 7uqohNjCnZ8sZd5S2vh5vx First Day in Hell Arch Enemy Will To Power\n",
      "35  /1573 : 6gXNdxtSOcErDuXagBUdkz Saturnine Arch Enemy Will To Power\n",
      "36  /1573 : 1Qdnvn4XlmZANCVy3XjrQo Show Me How to Live Audioslave Audioslave\n"
     ]
    },
    {
     "name": "stdout",
     "output_type": "stream",
     "text": [
      "37  /1573 : 0wxR6vA8Je5JHiTsZSmG01 #1 Zero Audioslave Out of Exile\n",
      "artist:Auracle track:Bombs Away Ballet album:City Slickers not in spotify\n",
      "artist:Auracle track:City of Penetrating Light album:City Slickers not in spotify\n"
     ]
    },
    {
     "name": "stdout",
     "output_type": "stream",
     "text": [
      "artist:Auracle track:Honey album:City Slickers not in spotify\n",
      "artist:Auracle track:Little City Slickers album:City Slickers not in spotify\n"
     ]
    },
    {
     "name": "stdout",
     "output_type": "stream",
     "text": [
      "artist:Auracle track:Rotary Andy s Raggedy album:City Slickers not in spotify\n",
      "artist:Auracle track:Sambanana album:City Slickers not in spotify\n"
     ]
    },
    {
     "name": "stdout",
     "output_type": "stream",
     "text": [
      "artist:Auracle track:Tied Shoes album:City Slickers not in spotify\n",
      "artist:B.J. Thomas track:Rain Drops Keep Falling on My Head album:Rain Drops Keep Fallin  On My Head not in spotify\n"
     ]
    },
    {
     "name": "stdout",
     "output_type": "stream",
     "text": [
      "46  /1573 : 6OcE7aXYmNEwF6H7Ei9Y3q King for a Day Battle Beast Bringer of Pain\n",
      "47  /1573 : 1k1Bqnv2R0uJXQN4u6LKYt Ain't No Sunshine Bill Withers Just As I Am\n"
     ]
    },
    {
     "name": "stdout",
     "output_type": "stream",
     "text": [
      "48  /1573 : 3jUTjCISntIUFL8jnAjzgc Fallen Leaves Billy Talent Billy Talent II\n",
      "49  /1573 : 2RZWdE8kYPlCAcRUYDeuLC Red Flag Billy Talent Billy Talent II\n"
     ]
    },
    {
     "name": "stdout",
     "output_type": "stream",
     "text": [
      "50  /1573 : 4hx9RvP93j79EJLAiyJQoI Wasp / Behind the Wall of Sleep / Bassically / N.I.B. - 2014 Remaster Black Sabbath Black Sabbath (2014 Remaster)\n"
     ]
    },
    {
     "name": "stdout",
     "output_type": "stream",
     "text": [
      "51  /1573 : 0xIZPPBfLqQEAj1BLmGrNc Black Sabbath - 2014 Remaster Black Sabbath Black Sabbath (2014 Remaster)\n",
      "artist:Black Sabbath track:Evil Woman album:Black Sabbath not in spotify\n"
     ]
    },
    {
     "name": "stdout",
     "output_type": "stream",
     "text": [
      "53  /1573 : 4hx9RvP93j79EJLAiyJQoI Wasp / Behind the Wall of Sleep / Bassically / N.I.B. - 2014 Remaster Black Sabbath Black Sabbath (2014 Remaster)\n"
     ]
    },
    {
     "name": "stdout",
     "output_type": "stream",
     "text": [
      "54  /1573 : 01xU5pDHQ8FfVhEi98UFMY A Bit of Finger / Sleeping Village / Warning - 2013 Remaster Black Sabbath Black Sabbath (2014 Remaster)\n"
     ]
    },
    {
     "name": "stdout",
     "output_type": "stream",
     "text": [
      "55  /1573 : 6sjTzevtstOxOMsFsypsEm The Wizard - 2014 Remaster Black Sabbath Black Sabbath (2014 Remaster)\n"
     ]
    },
    {
     "name": "stdout",
     "output_type": "stream",
     "text": [
      "56  /1573 : 01xU5pDHQ8FfVhEi98UFMY A Bit of Finger / Sleeping Village / Warning - 2013 Remaster Black Sabbath Black Sabbath (2014 Remaster)\n"
     ]
    },
    {
     "name": "stdout",
     "output_type": "stream",
     "text": [
      "57  /1573 : 3ex9yveBIpssnR6sVvhwiR Into the Void - 2014 Remaster Black Sabbath Master of Reality (2014 Remaster)\n"
     ]
    },
    {
     "name": "stdout",
     "output_type": "stream",
     "text": [
      "58  /1573 : 7As8h8LJTMIritB8QwSmqr Electric Funeral - 2013 Remaster Black Sabbath Paranoid (2014 Remaster)\n"
     ]
    },
    {
     "name": "stdout",
     "output_type": "stream",
     "text": [
      "59  /1573 : 6EKrBVHDk20hwjYWGPQQlF Jack the Stripper / Fairies Wear Boots - 2013 Remaster Black Sabbath Paranoid (2014 Remaster)\n"
     ]
    },
    {
     "name": "stdout",
     "output_type": "stream",
     "text": [
      "60  /1573 : 72YRB6ar59nBsNdnn0cVdD Hand of Doom - 2013 Remaster Black Sabbath Paranoid (2014 Remaster)\n",
      "61  /1573 : 3IOQZRcEkplCXg6LofKqE9 Iron Man - 2014 Remaster Black Sabbath Paranoid (2014 Remaster)\n",
      "62  /1573 : 1Y373MqadDRtclJNdnUXVc Paranoid - 2016 Remaster Black Sabbath Paranoid (2014 Remaster)\n"
     ]
    },
    {
     "name": "stdout",
     "output_type": "stream",
     "text": [
      "63  /1573 : 2VDg6h3Qr3F8UuFVInQxE6 Planet Caravan - 2013 Remaster Black Sabbath Paranoid (2014 Remaster)\n",
      "64  /1573 : 2b8xbWvck5yh9vvEogsfqa Rat Salad - 2013 Remaster Black Sabbath Paranoid (2014 Remaster)\n",
      "65  /1573 : 2rd9ETlulTbz6BYZcdvIE1 War Pigs / Luke's Wall - 2014 Remaster Black Sabbath Paranoid (2014 Remaster)\n",
      "66  /1573 : 2YxXuCdbUpil3P7tRjhW1t Banquet Bloc Party Silent Alarm (U.S. Version)\n"
     ]
    },
    {
     "name": "stdout",
     "output_type": "stream",
     "text": [
      "67  /1573 : 5QTxFnGygVM4jFQiBovmRo (Don't Fear) The Reaper Blue Öyster Cult Agents Of Fortune\n",
      "68  /1573 : 05jJZgRiXxBfQPNRlrObEI He Was a Steppenwolf Boney M. Nightflight to Venus\n"
     ]
    },
    {
     "name": "stdout",
     "output_type": "stream",
     "text": [
      "69  /1573 : 4gmJjjVWv9rfK4Nl8wDNVR Nightflight to Venus Boney M. Nightflight to Venus\n",
      "70  /1573 : 5seKua5Mu2wMK1qUhdHwt1 Painter Man Boney M. Nightflight to Venus\n",
      "71  /1573 : 5jkFvD4UJrmdoezzT1FRoP Rasputin Boney M. Nightflight to Venus\n"
     ]
    },
    {
     "name": "stdout",
     "output_type": "stream",
     "text": [
      "72  /1573 : 7oGwQOTkMB9Sk3DIKJLd5F Baby I'm Yours - feat. Irfrane Breakbot By Your Side\n",
      "73  /1573 : 1A7Nb5XVAJzXmbkk5S59t3 Release the Beast Breakwater Splashdown\n"
     ]
    },
    {
     "name": "stdout",
     "output_type": "stream",
     "text": [
      "74  /1573 : 56lhDZNQ5J47aog6mGKeGk Thunder Road Bruce Springsteen Born To Run\n"
     ]
    },
    {
     "name": "stdout",
     "output_type": "stream",
     "text": [
      "75  /1573 : 55h7vJchibLdUkxdlX3fK7 Treasure Bruno Mars Unorthodox Jukebox\n"
     ]
    },
    {
     "name": "stdout",
     "output_type": "stream",
     "text": [
      "76  /1573 : 5JWDt4NZNiZQR8iMenaa7h Hand Of Blood Bullet For My Valentine Hand Of Blood\n",
      "77  /1573 : 0N10gGHn8GYH8QYyFFnqRa The Huntsman Butcher Babies Lilith\n"
     ]
    },
    {
     "name": "stdout",
     "output_type": "stream",
     "text": [
      "78  /1573 : 7ek0WEbzMQ0iKXzxsDJiXg Aight Caballero Laisse Nous Faire Vol. 1\n",
      "79  /1573 : 7fLtcNaBtwMLx1by2vczEy Baby Funk Caballero Laisse Nous Faire Vol. 1\n"
     ]
    },
    {
     "name": "stdout",
     "output_type": "stream",
     "text": [
      "80  /1573 : 2Jq2YNqNU4zdlNIISW6BjB Bout Du Tunnel (feat. Jcr) Caballero Laisse Nous Faire Vol. 1\n",
      "81  /1573 : 1QXNFb6gNLIvgUhJWJZsLu C'est Aussi Simple Que ça Caballero Laisse Nous Faire Vol. 1\n"
     ]
    },
    {
     "name": "stdout",
     "output_type": "stream",
     "text": [
      "82  /1573 : 5YCgn8qR7z0Oi2TeFvCB6L Chiens Des Villes Caballero Laisse Nous Faire Vol. 1\n"
     ]
    },
    {
     "name": "stdout",
     "output_type": "stream",
     "text": [
      "83  /1573 : 1FH4bwLfjNMbgSC5UMQyyQ Discret Mais Efficace (feat. Seven & Sima) Caballero Laisse Nous Faire Vol. 1\n"
     ]
    },
    {
     "name": "stdout",
     "output_type": "stream",
     "text": [
      "84  /1573 : 5gPzd9ClcSNOD1pXzZkPd6 Flottements (feat. Tonino) Caballero Laisse Nous Faire Vol. 1\n"
     ]
    },
    {
     "name": "stdout",
     "output_type": "stream",
     "text": [
      "85  /1573 : 2ZxW0Z5ua6h89t8ZprzgAo Foume ça Caballero Laisse Nous Faire Vol. 1\n"
     ]
    },
    {
     "name": "stdout",
     "output_type": "stream",
     "text": [
      "86  /1573 : 3r1sjHzXbwLjOikglWnOUM Il Suffit (feat. Jeanjass) Caballero Laisse Nous Faire Vol. 1\n"
     ]
    },
    {
     "name": "stdout",
     "output_type": "stream",
     "text": [
      "87  /1573 : 6KdNDBWPRoHwXyyaS8u8AR Inner Démons (feat. Alpha Wann) Caballero Laisse Nous Faire Vol. 1\n"
     ]
    },
    {
     "name": "stdout",
     "output_type": "stream",
     "text": [
      "88  /1573 : 494q3O9UXgoO5Ny8sU8jUY Le Freestyle De La Cigarette Fumante Caballero Laisse Nous Faire Vol. 1\n",
      "89  /1573 : 3sLc3RUuVw3yq225J8pTaf Mailles Du Filet (feat. Lomepal) Caballero Laisse Nous Faire Vol. 1\n",
      "90  /1573 : 7nipxhnG4w62JAtOI5W3VC Médaille D'or (feat. Lomepal & Doums) Caballero Laisse Nous Faire Vol. 1\n"
     ]
    },
    {
     "name": "stdout",
     "output_type": "stream",
     "text": [
      "91  /1573 : 6vG43ypSsKjo82VqE90a0w Medley Goku Caballero Laisse Nous Faire Vol. 1\n",
      "92  /1573 : 2Nvq8DdvQaooWm5SXTWFG5 Medley Vegeta Caballero Laisse Nous Faire Vol. 1\n",
      "93  /1573 : 76ja4bAH6llTY7s1lkwWoQ Mission Accomplie Caballero Laisse Nous Faire Vol. 1\n"
     ]
    },
    {
     "name": "stdout",
     "output_type": "stream",
     "text": [
      "94  /1573 : 14t6TOsH17hobA3iE1iszr Otaku (feat. Neshga & Senamo) Caballero Laisse Nous Faire Vol. 1\n",
      "95  /1573 : 4TxBA5CECuHyPFPFFq6mJE Patinoire (feat. Sima) Caballero Laisse Nous Faire Vol. 1\n",
      "96  /1573 : 6QjDQONUpk41pUsaHcqHh6 Profondeurs (feat. Jeanjass) Caballero Laisse Nous Faire Vol. 1\n"
     ]
    },
    {
     "name": "stdout",
     "output_type": "stream",
     "text": [
      "97  /1573 : 1p1Kz4or5x37QvxZ1dQE0q Qu'est-Ce Que Tu Nous Proposes ? (feat. Jeanjass, Alpha Wann & Ysha) Caballero Laisse Nous Faire Vol. 1\n",
      "98  /1573 : 43GwFZxQHKGw3CVnM29wTT Sortez Couverts (feat. Arabesk) Caballero Laisse Nous Faire Vol. 1\n"
     ]
    },
    {
     "name": "stdout",
     "output_type": "stream",
     "text": [
      "99  /1573 : 5fjuEHSIGyNgyW5ynEPlgb Téléportation (feat. Les Corbeaux) Caballero Laisse Nous Faire Vol. 1\n",
      "100 /1573 : 0uXKTY1IaVHaVpcdFsiHWv Viens Voir (feat. Perso) Caballero Laisse Nous Faire Vol. 1\n"
     ]
    },
    {
     "name": "stdout",
     "output_type": "stream",
     "text": [
      "101 /1573 : 0xMEF2WiqKWTIG7Krjungw The Distance Cake Fashion Nugget\n",
      "102 /1573 : 74jZhGv0fdLaf9q8AZZ15k Please Mr. Postman Carpenters Horizon\n"
     ]
    },
    {
     "name": "stdout",
     "output_type": "stream",
     "text": [
      "artist:Casiopea track:Galactic Funk album:Crosspoint not in spotify\n",
      "artist:Casiopea track:Swear! album:Mint Jams not in spotify\n"
     ]
    },
    {
     "name": "stdout",
     "output_type": "stream",
     "text": [
      "105 /1573 : 0KJ8O3NjYF3ypDAUSEVFfg I Married an Angel Chet Baker Chet Baker & Strings\n"
     ]
    },
    {
     "name": "stdout",
     "output_type": "stream",
     "text": [
      "106 /1573 : 71wcOsCw1N0Vgj2cGcqdBp Strollin' Chet Baker Strollin'\n",
      "107 /1573 : 7GqIDx2QVGOpd4r1fZaUUW 25 or 6 to 4 - 2002 Remaster Chicago Chicago II\n"
     ]
    },
    {
     "name": "stdout",
     "output_type": "stream",
     "text": [
      "108 /1573 : 6GTz60YoNqDoAKkOFwEjEJ Friends Chick Corea Friends\n"
     ]
    },
    {
     "name": "stdout",
     "output_type": "stream",
     "text": [
      "109 /1573 : 5RrJCusmR1J54b5ivqdWIu Spain Chick Corea Light As A Feather\n",
      "110 /1573 : 69yYDgM8sCrUsD56AHyOt9 Hold Tight Chinese Man The Groove Sessions, Vol. 5\n"
     ]
    },
    {
     "name": "stdout",
     "output_type": "stream",
     "text": [
      "111 /1573 : 36kbjtiNbROJkkm8mV36Fu Complainer Choir Boy Complainer\n",
      "112 /1573 : 4Yina1ovIjZNndaAE4HsYF C'est la même chanson Claude François Claude François - 100% concert\n"
     ]
    },
    {
     "name": "stdout",
     "output_type": "stream",
     "text": [
      "113 /1573 : 6xuxkfM6waS1sCubmjJtCl Chanson populaire (Ça s'en va et ça revient) Claude François Chanson populaire\n",
      "artist:Claude François track:17 ans album:Chansons françaises not in spotify\n"
     ]
    },
    {
     "name": "stdout",
     "output_type": "stream",
     "text": [
      "115 /1573 : 4S6Tvkd25kcOMgzATeykCR Je vais à Rio Claude François Claude François - 100% concert\n",
      "116 /1573 : 6BTEPtJihp7X5qFznnJCzL Toi et le soleil Claude François Claude François - 100% concert\n"
     ]
    },
    {
     "name": "stdout",
     "output_type": "stream",
     "text": [
      "117 /1573 : 1q45QwMLVx6hSQx7cdRpBP Comme d'habitude Claude François Comme D'Habitude\n",
      "artist:Claude François track:Il fait beau, il fait bon album:Il fait beau, il fait bon not in spotify\n"
     ]
    },
    {
     "name": "stdout",
     "output_type": "stream",
     "text": [
      "119 /1573 : 02hoYnmhFkaLtFViDoqTyZ J'attendrai Claude François Le Jouet Extraordinaire\n"
     ]
    },
    {
     "name": "stdout",
     "output_type": "stream",
     "text": [
      "120 /1573 : 2fbEcU3yS5eqXCusyZRBIU La musique américaine Claude François Le Chanteur Malheureux\n"
     ]
    },
    {
     "name": "stdout",
     "output_type": "stream",
     "text": [
      "121 /1573 : 0z0oXm4kKS1DCuGv68qN2M Le chanteur malheureux Claude François Le Chanteur Malheureux\n"
     ]
    },
    {
     "name": "stdout",
     "output_type": "stream",
     "text": [
      "122 /1573 : 3HiPDGrE4Bys0Xy4m82wQ1 Bélinda Claude François Le lundi au soleil\n"
     ]
    },
    {
     "name": "stdout",
     "output_type": "stream",
     "text": [
      "123 /1573 : 75HyZlo5ameA4sr8aOjUSU Le lundi au soleil Claude François Le lundi au soleil\n",
      "124 /1573 : 4cAeq0pjjvWxFfy7NL3XSD Le téléphone pleure Claude François Le mal aimé / Le téléphone pleure\n"
     ]
    },
    {
     "name": "stdout",
     "output_type": "stream",
     "text": [
      "125 /1573 : 2Wd4Yu2RtYZjSmzLLaghNZ Le téléphone pleure Claude François Les Plus Belles Chansons De Claude François\n",
      "artist:Claude François track:Cette année-là album:Le Vagabond not in spotify\n"
     ]
    },
    {
     "name": "stdout",
     "output_type": "stream",
     "text": [
      "artist:Claude François track:Le Vagabond album:Le Vagabond not in spotify\n"
     ]
    },
    {
     "name": "stdout",
     "output_type": "stream",
     "text": [
      "artist:Claude François track:Alexandrie Alexandra album:Magnolias For Ever not in spotify\n",
      "artist:Claude François track:Magnolias For Ever album:Magnolias For Ever not in spotify\n"
     ]
    },
    {
     "name": "stdout",
     "output_type": "stream",
     "text": [
      "130 /1573 : 2k1G4V6Mg6XAg8Xg2YV3ll Je sais Claude François Meme Si Tu Revenais\n",
      "131 /1573 : 46eooWtxMwu8PrLXmTZtpR Même si tu revenais Claude François Meme Si Tu Revenais\n",
      "132 /1573 : 5nY0lSKJYjm0hsptrH93ai Belles belles belles Claude François Si J'Avais Un Marteau\n"
     ]
    },
    {
     "name": "stdout",
     "output_type": "stream",
     "text": [
      "133 /1573 : 02lck9tVsjUPDNSJtdiO6l Si j'avais un marteau Claude François Si J'Avais Un Marteau\n",
      "134 /1573 : 75JFxkI2RXiU7L9VXzMkle The Scientist Coldplay A Rush of Blood to the Head\n",
      "135 /1573 : 2K2M0TcglCRLLpFOzKeFZA Sunshine Of Your Love Cream Disraeli Gears (Deluxe Edition)\n"
     ]
    },
    {
     "name": "stdout",
     "output_type": "stream",
     "text": [
      "136 /1573 : 5bUlFE9dGh7pX93PUEVAue Born On The Bayou Creedence Clearwater Revival Bayou Country\n",
      "137 /1573 : 0HHIbFhmTXsIzz2VUmkH96 I Heard It Through The Grapevine Creedence Clearwater Revival Cosmo's Factory (40th Anniversary Edition)\n"
     ]
    },
    {
     "name": "stdout",
     "output_type": "stream",
     "text": [
      "138 /1573 : 11DjZQEZ69EXLo77HVj6yW Green River Creedence Clearwater Revival Green River (40th Anniversary Edition)\n",
      "139 /1573 : 4BP3uh0hFLFRb5cjsgLqDh Fortunate Son Creedence Clearwater Revival Willy And The Poor Boys\n",
      "140 /1573 : 3H3cOQ6LBLSvmcaV7QkZEu Aerodynamic Daft Punk Discovery\n"
     ]
    },
    {
     "name": "stdout",
     "output_type": "stream",
     "text": [
      "141 /1573 : 6vuPZX9fWESg5js2JFTQRJ Crescendolls Daft Punk Discovery\n",
      "142 /1573 : 2VEZx7NWsZ1D0eJ4uv5Fym Digital Love Daft Punk Discovery\n"
     ]
    },
    {
     "name": "stdout",
     "output_type": "stream",
     "text": [
      "143 /1573 : 7v9Q0dAb9t7h8gJOkcJHay Face to Face Daft Punk Discovery\n",
      "144 /1573 : 5W3cjX2J3tjhG8zb6u0qHn Harder, Better, Faster, Stronger Daft Punk Discovery\n"
     ]
    },
    {
     "name": "stdout",
     "output_type": "stream",
     "text": [
      "145 /1573 : 098ttCNmncrO4YvqWUNMvn High Life Daft Punk Discovery\n"
     ]
    },
    {
     "name": "stdout",
     "output_type": "stream",
     "text": [
      "146 /1573 : 63JXZZRbmzooashakb0zbu Nightvision Daft Punk Discovery\n",
      "147 /1573 : 0DiWol3AO6WpXZgp0goxAV One More Time Daft Punk Discovery\n"
     ]
    },
    {
     "name": "stdout",
     "output_type": "stream",
     "text": [
      "148 /1573 : 4npMbTuxrUA3Wd7edACZ2L Short Circuit Daft Punk Discovery\n",
      "149 /1573 : 1NeLwFETswx8Fzxl2AFl91 Something About Us Daft Punk Discovery\n"
     ]
    },
    {
     "name": "stdout",
     "output_type": "stream",
     "text": [
      "150 /1573 : 186hvCTyrni4KT9nwIQ7zS Superheroes Daft Punk Discovery\n",
      "151 /1573 : 3zMvotMEQK3xvH01vA9wAP Too Long Daft Punk Discovery\n",
      "152 /1573 : 2LD2gT7gwAurzdQDQtILds Veridis Quo Daft Punk Discovery\n"
     ]
    },
    {
     "name": "stdout",
     "output_type": "stream",
     "text": [
      "153 /1573 : 7cMFjxhbXBpOlais7KMF3j Voyager Daft Punk Discovery\n"
     ]
    },
    {
     "name": "stdout",
     "output_type": "stream",
     "text": [
      "154 /1573 : 0k1xMUwn9sb7bZiqdT9ygx Beyond Daft Punk Random Access Memories\n",
      "155 /1573 : 2KHRENHQzTIQ001nlP9Gdc Contact Daft Punk Random Access Memories\n"
     ]
    },
    {
     "name": "stdout",
     "output_type": "stream",
     "text": [
      "156 /1573 : 36c4JohayB9qd64eidQMBi Doin' it Right (feat. Panda Bear) Daft Punk Random Access Memories\n",
      "157 /1573 : 0IedgQjjJ8Ad4B3UDQ5Lyn Fragments of Time (feat. Todd Edwards) Daft Punk Random Access Memories\n",
      "158 /1573 : 69kOkLUCkxIZYexIgSG8rq Get Lucky (feat. Pharrell Williams & Nile Rodgers) Daft Punk Random Access Memories\n"
     ]
    },
    {
     "name": "stdout",
     "output_type": "stream",
     "text": [
      "159 /1573 : 0oks4FnzhNp5QPTZtoet7c Giorgio by Moroder Daft Punk Random Access Memories\n",
      "160 /1573 : 0dEIca2nhcxDUV8C5QkPYb Give Life Back to Music Daft Punk Random Access Memories\n"
     ]
    },
    {
     "name": "stdout",
     "output_type": "stream",
     "text": [
      "161 /1573 : 2cGxRwrMyEAp8dEbuZaVv6 Instant Crush (feat. Julian Casablancas) Daft Punk Random Access Memories\n",
      "162 /1573 : 5CMjjywI0eZMixPeqNd75R Lose Yourself to Dance (feat. Pharrell Williams) Daft Punk Random Access Memories\n"
     ]
    },
    {
     "name": "stdout",
     "output_type": "stream",
     "text": [
      "163 /1573 : 79koEJRtKOOGJ0VSAF3FMk Motherboard Daft Punk Random Access Memories\n",
      "164 /1573 : 3ctALmweZBapfBdFiIVpji The Game of Love Daft Punk Random Access Memories\n"
     ]
    },
    {
     "name": "stdout",
     "output_type": "stream",
     "text": [
      "165 /1573 : 7oaEjLP2dTJLJsITbAxTOz Touch (feat. Paul Williams) Daft Punk Random Access Memories\n"
     ]
    },
    {
     "name": "stdout",
     "output_type": "stream",
     "text": [
      "166 /1573 : 7Bxv0WL7UC6WwQpk9TzdMJ Within Daft Punk Random Access Memories\n",
      "167 /1573 : 72Z17vmmeQKAg8bptWvpVG Space Oddity - 2015 Remaster David Bowie David Bowie (aka Space Oddity) [2015 Remaster]\n"
     ]
    },
    {
     "name": "stdout",
     "output_type": "stream",
     "text": [
      "168 /1573 : 3ZE3wv8V3w2T2f7nOCjV0N Life on Mars? - 2015 Remaster David Bowie Hunky Dory (2015 Remaster)\n"
     ]
    },
    {
     "name": "stdout",
     "output_type": "stream",
     "text": [
      "169 /1573 : 7uHO4AmKtyGa5v5fsElGoC You Spin Me Round (Like a Record) Dead Or Alive Youthquake\n",
      "artist:Début de Soirée track:Nuit de Folie album:Jardins d enfants not in spotify\n"
     ]
    },
    {
     "name": "stdout",
     "output_type": "stream",
     "text": [
      "171 /1573 : 5s8IEEjgCTrujK3aUalvfF Burn - 2002 Remaster Deep Purple Burn (Expanded 2005 Remaster)\n",
      "172 /1573 : 5UXX9TjjfbjULIyrhlWKcR You Fool No One Deep Purple Burn (Expanded 2005 Remaster)\n"
     ]
    },
    {
     "name": "stdout",
     "output_type": "stream",
     "text": [
      "173 /1573 : 5TrfusgKC1BYic5LaWCoKm Child in Time Deep Purple Deep Purple in Rock\n",
      "174 /1573 : 18URo35acNKRTHfEdjTcGn Photograph Def Leppard Pyromania\n"
     ]
    },
    {
     "name": "stdout",
     "output_type": "stream",
     "text": [
      "175 /1573 : 3c4bJL7mARZvd387847GsC Precious Depeche Mode Playing the Angel\n",
      "176 /1573 : 2kkvB3RNRzwjFdGhaUA0tz Layla - 40th Anniversary Version / 2010 Remastered Derek & The Dominos Layla And Other Assorted Love Songs (40th Anniversary / 2010 Remastered)\n"
     ]
    },
    {
     "name": "stdout",
     "output_type": "stream",
     "text": [
      "177 /1573 : 5jAV3dThaNqdy1pUzO5Xpi Ist das noch Punkrock? Die Ärzte auch\n",
      "178 /1573 : 4lRH3aAhNnyC144Bmn3Y1o Arob@se Dinos Taciturne\n"
     ]
    },
    {
     "name": "stdout",
     "output_type": "stream",
     "text": [
      "179 /1573 : 26tWBbtjvgi0tipRL2VQ2X Brothers in Arms Dire Straits Brothers in Arms\n",
      "180 /1573 : 4yqtwO7MQIIXqoiRBPHAgR Money for Nothing Dire Straits Brothers in Arms\n"
     ]
    },
    {
     "name": "stdout",
     "output_type": "stream",
     "text": [
      "181 /1573 : 1fBxdTUpYGQPYkOfxM9uhe Single-Handed Sailor Dire Straits Communiqué\n",
      "182 /1573 : 6cr6UDpkjEaMQ80OjWqEBQ Sultans of Swing Dire Straits Dire Straits\n"
     ]
    },
    {
     "name": "stdout",
     "output_type": "stream",
     "text": [
      "183 /1573 : 1laOaJ0vcBx3cjUhH50mW7 Industrial Disease Dire Straits Love Over Gold\n"
     ]
    },
    {
     "name": "stdout",
     "output_type": "stream",
     "text": [
      "184 /1573 : 4MkREzrofcXWhHRBuhdS1o It Never Rains Dire Straits Love Over Gold\n",
      "185 /1573 : 0oITRRofhFHlTadArBF1b5 Love over Gold Dire Straits Love Over Gold\n"
     ]
    },
    {
     "name": "stdout",
     "output_type": "stream",
     "text": [
      "186 /1573 : 0SqUwlygrVkMWkplNvvld1 Private Investigations Dire Straits Love Over Gold\n",
      "187 /1573 : 071BtONQBIq4SkvO0okS4k Telegraph Road Dire Straits Love Over Gold\n"
     ]
    },
    {
     "name": "stdout",
     "output_type": "stream",
     "text": [
      "188 /1573 : 57MflfPN3ObQQAQtPUp0WF Romeo and Juliet Dire Straits Making Movies\n",
      "189 /1573 : 06ku5BBS2HufqSDVkcSR15 Tunnel of Love (Intro: The Carousel Waltz) Dire Straits Making Movies\n"
     ]
    },
    {
     "name": "stdout",
     "output_type": "stream",
     "text": [
      "190 /1573 : 5g6o2ZEegnAI3MczbwZaTZ Calling Elvis Dire Straits On Every Street\n"
     ]
    },
    {
     "name": "stdout",
     "output_type": "stream",
     "text": [
      "191 /1573 : 5rEEkF2wZsHfFHTaEknuji Heavy Fuel Dire Straits On Every Street (Remaster)\n",
      "192 /1573 : 1YLMZuxgIU4g5aS4gjHT0o Planet of New Orleans Dire Straits On Every Street (Remaster)\n"
     ]
    },
    {
     "name": "stdout",
     "output_type": "stream",
     "text": [
      "193 /1573 : 5onlhFwHJhp0ff2tPju2X6 J'pète les plombs Disiz La Peste Le collector, Vol. 1\n",
      "194 /1573 : 1No3SDMTneCwu3R0gKZqpI Les 10 Commandements du MC Disiz La Peste Rap Machine\n"
     ]
    },
    {
     "name": "stdout",
     "output_type": "stream",
     "text": [
      "195 /1573 : 32VjGZWrYx3fB0Ma1Qjydq X Gon' Give It To Ya DMX Cradle 2 The Grave\n",
      "196 /1573 : 4TF0nT9RfSoA0ztC3Oif4r Bloodflower Draconian Turning Season Within\n"
     ]
    },
    {
     "name": "stdout",
     "output_type": "stream",
     "text": [
      "197 /1573 : 2gbpAcczo1e3QFDrWBpYhe Earthbound Draconian Turning Season Within\n",
      "198 /1573 : 6GPQCXCitZZwUrnN44dDDP Morphine Cloud Draconian Turning Season Within\n"
     ]
    },
    {
     "name": "stdout",
     "output_type": "stream",
     "text": [
      "199 /1573 : 0iXdF8F7htTErXSKEA2piV Not Breathing Draconian Turning Season Within\n"
     ]
    },
    {
     "name": "stdout",
     "output_type": "stream",
     "text": [
      "200 /1573 : 69HGq7dhBM0XqlW5SpTjeN Seasons Apart Draconian Turning Season Within\n"
     ]
    },
    {
     "name": "stdout",
     "output_type": "stream",
     "text": [
      "artist:Draconian track:The Empy Stare / September Ashes album:Turning Season Within not in spotify\n"
     ]
    },
    {
     "name": "stdout",
     "output_type": "stream",
     "text": [
      "202 /1573 : 7IrDK2wkI9XzTZ5CAXm8Xn The Failure Epiphany Draconian Turning Season Within\n",
      "203 /1573 : 0ugwIBrHNZcRLUtP7G0hjW When I Wake Draconian Turning Season Within\n"
     ]
    },
    {
     "name": "stdout",
     "output_type": "stream",
     "text": [
      "204 /1573 : 1yW6zNGmBCP95LLy2w1p1O September/The Joker Earth, Wind & Fire Babel - Music From And Inspired By The Motion Picture\n",
      "205 /1573 : 1TF8mSG5YHyaS4o3NeBSAo Munich Editors The Back Room\n"
     ]
    },
    {
     "name": "stdout",
     "output_type": "stream",
     "text": [
      "206 /1573 : 5jDLMyRG0hq0U1O54ELZhE Was Ist Hier Los? Eisbrecher Sturmfahrt\n",
      "207 /1573 : 6xE6ZWzK1YDDSYzqOCoQlz Last Train to London Electric Light Orchestra Discovery\n",
      "208 /1573 : 6DU1WKdUnR7OZkw7BZl9P0 Funeralopolis Electric Wizard Dopethrone\n"
     ]
    },
    {
     "name": "stdout",
     "output_type": "stream",
     "text": [
      "209 /1573 : 6BYULU1d4pbArOI3Y67k1N Tarkus - i. Eruption, ii. Stones of Years, iii. Iconoclast, iv. Mass, v. Manticore, vi. Battlefield, vii. Aquatarkus; 2012 Stereo Mix Emerson, Lake & Palmer Tarkus (Deluxe Version)\n",
      "artist:Eric Burdon track:Colour Of The Sunset album:When I Was Young not in spotify\n",
      "211 /1573 : 3ykSdTGmYPFl8pDBXer1zG Cocaine Eric Clapton Slowhand 35th Anniversary (Super Deluxe)\n"
     ]
    },
    {
     "name": "stdout",
     "output_type": "stream",
     "text": [
      "212 /1573 : 3BEZCNZSmVv30vsMNSOCri Layla - Acoustic; Live at MTV Unplugged, Bray Film Studios, Windsor, England, UK, 1/16/1992; 2013 Remaster Eric Clapton Unplugged (Deluxe Edition)\n",
      "artist:Feuerschwanz track:Hurra Hurra Die Pest ist da! album: not in spotify\n"
     ]
    },
    {
     "name": "stdout",
     "output_type": "stream",
     "text": [
      "artist:Flamingosis track:A Groovy Intro album:A Groovy Thing not in spotify\n",
      "artist:Flamingosis track:A Groovy Thing album:A Groovy Thing not in spotify\n",
      "artist:Flamingosis track:Breezy album:A Groovy Thing not in spotify\n"
     ]
    },
    {
     "name": "stdout",
     "output_type": "stream",
     "text": [
      "artist:Flamingosis track:Come & Get it album:A Groovy Thing not in spotify\n",
      "artist:Flamingosis track:Don’t Lose the Feeling album:A Groovy Thing not in spotify\n"
     ]
    },
    {
     "name": "stdout",
     "output_type": "stream",
     "text": [
      "artist:Flamingosis track:Flute Salad album:A Groovy Thing not in spotify\n",
      "artist:Flamingosis track:Get Yourself Together album:A Groovy Thing not in spotify\n"
     ]
    },
    {
     "name": "stdout",
     "output_type": "stream",
     "text": [
      "artist:Flamingosis track:Guilty Pleasure album:A Groovy Thing not in spotify\n",
      "artist:Flamingosis track:High Tide album:A Groovy Thing not in spotify\n"
     ]
    },
    {
     "name": "stdout",
     "output_type": "stream",
     "text": [
      "artist:Flamingosis track:Keep Shining album:A Groovy Thing not in spotify\n",
      "artist:Flamingosis track:Long Distance album:A Groovy Thing not in spotify\n"
     ]
    },
    {
     "name": "stdout",
     "output_type": "stream",
     "text": [
      "artist:Flamingosis track:Never Felt a Feeling Like This album:A Groovy Thing not in spotify\n"
     ]
    },
    {
     "name": "stdout",
     "output_type": "stream",
     "text": [
      "artist:Flamingosis track:Not Like the Others album:A Groovy Thing not in spotify\n",
      "artist:Flamingosis track:Otaku Mode album:A Groovy Thing not in spotify\n"
     ]
    },
    {
     "name": "stdout",
     "output_type": "stream",
     "text": [
      "artist:Flamingosis track:Persevere album:A Groovy Thing not in spotify\n",
      "artist:Flamingosis track:Soul Crusade album:A Groovy Thing not in spotify\n"
     ]
    },
    {
     "name": "stdout",
     "output_type": "stream",
     "text": [
      "artist:Flamingosis track:That’s Cold album:A Groovy Thing not in spotify\n",
      "artist:Flamingosis track:Want Me (Need Me) album:A Groovy Thing not in spotify\n"
     ]
    },
    {
     "name": "stdout",
     "output_type": "stream",
     "text": [
      "232 /1573 : 5e9TFTbltYBg2xThimr0rU The Chain - 2004 Remaster Fleetwood Mac Rumours (Super Deluxe)\n",
      "artist:François Valéry track:Mon pote le DJ album:Mon pote le DJ not in spotify\n"
     ]
    },
    {
     "name": "stdout",
     "output_type": "stream",
     "text": [
      "234 /1573 : 6ooluO7DiEhI1zmK94nRCM Take Me Out Franz Ferdinand Franz Ferdinand\n",
      "artist:Franzl Lang track:Auf und auf voll Lebenslust album:N/A not in spotify\n"
     ]
    },
    {
     "name": "stdout",
     "output_type": "stream",
     "text": [
      "236 /1573 : 7dEQgmYcZSVWsHmutkOLDF All Right Now - Single Version Free The Free Story\n",
      "237 /1573 : 0mLJdJPzeWzBegRrfmeiwM 1979 French 79 Olympic\n"
     ]
    },
    {
     "name": "stdout",
     "output_type": "stream",
     "text": [
      "238 /1573 : 6NNg7SJpg7p9VCZXhSqiaE After Party French 79 Olympic\n",
      "239 /1573 : 1LpZP3BXZokmhMi0IN73yY Between the Buttons French 79 Olympic\n"
     ]
    },
    {
     "name": "stdout",
     "output_type": "stream",
     "text": [
      "240 /1573 : 4ZNpdroEGIgnr3O7IvlUsB DDROPP French 79 Olympic\n",
      "241 /1573 : 5G0oVoL309pqsvGDzhMOwx Diamond Veins (feat. Sarah Rebecca) French 79 Olympic\n"
     ]
    },
    {
     "name": "stdout",
     "output_type": "stream",
     "text": [
      "242 /1573 : 559C5y1XbfhzB8xYjleIQQ Golden Times French 79 Olympic\n",
      "243 /1573 : 2AQxYyQR0gi5mNb0QsFOQJ Hush Hush French 79 Olympic\n"
     ]
    },
    {
     "name": "stdout",
     "output_type": "stream",
     "text": [
      "244 /1573 : 5e1kNatja9w74M4PU8Ki6d Invisible Moon French 79 Olympic\n",
      "245 /1573 : 5pxtj7cCnv2hZe6mbS2MBx Lovin' Feeling French 79 Olympic\n"
     ]
    },
    {
     "name": "stdout",
     "output_type": "stream",
     "text": [
      "246 /1573 : 5HCYfovH50URGDvpfH571V Olympic French 79 Olympic\n",
      "247 /1573 : 25Yj5EDimlbwUWEFXJmAmw Pantheon Neon French 79 Olympic\n"
     ]
    },
    {
     "name": "stdout",
     "output_type": "stream",
     "text": [
      "248 /1573 : 5leH1cR5UPBWT3MFmOXyGl Vertigo Valley French 79 Olympic\n",
      "249 /1573 : 46bxbxG8YnnjZvjfGvZXbj Blank Tapes From Indian Lakes Everything Feels Better Now\n"
     ]
    },
    {
     "name": "stdout",
     "output_type": "stream",
     "text": [
      "250 /1573 : 1SOECNmtGKx3yW14505Wfu La danse des parasites Full dub Rewind\n",
      "251 /1573 : 61NCzmaWiG6eF5cbWvRiU8 After the Ordeal - New Stereo Mix Genesis Selling England by the Pound\n"
     ]
    },
    {
     "name": "stdout",
     "output_type": "stream",
     "text": [
      "252 /1573 : 2a0HWU7HrAPfYmW0pUGMTJ Aisle of Plenty - New Stereo Mix Genesis Selling England by the Pound\n",
      "253 /1573 : 1a1xoTlWpndO6azw57dKdJ Dancing with the Moonlit Knight - New Stereo Mix Genesis Selling England by the Pound\n"
     ]
    },
    {
     "name": "stdout",
     "output_type": "stream",
     "text": [
      "254 /1573 : 6UpMG6BDOd5xecMTu5r3sj Firth of Fifth - New Stereo Mix Genesis Selling England by the Pound\n",
      "255 /1573 : 31VLSfg86NJN74rUHQi7e8 I Know What I Like (In Your Wardrobe) - New Stereo Mix Genesis Selling England by the Pound\n"
     ]
    },
    {
     "name": "stdout",
     "output_type": "stream",
     "text": [
      "256 /1573 : 4EoKbid1MFccC0VCtO5ehz More Fool Me - New Stereo Mix Genesis Selling England by the Pound\n",
      "257 /1573 : 0GSNE8polfFfxGWnyx4knV The Battle of Epping Forest - New Stereo Mix Genesis Selling England by the Pound\n"
     ]
    },
    {
     "name": "stdout",
     "output_type": "stream",
     "text": [
      "258 /1573 : 5k10LV4157WEzdFmB97NQR The Cinema Show - New Stereo Mix Genesis Selling England by the Pound\n",
      "259 /1573 : 0lNaytiCORnMNZTEBQxlPv Affirmation George Benson Breezin'\n"
     ]
    },
    {
     "name": "stdout",
     "output_type": "stream",
     "text": [
      "260 /1573 : 5gaUkg5JNk8c4mr2jnpX8H Give Me the Night George Benson Give Me the Night\n",
      "261 /1573 : 37y1QZW0uSeMjTztnjjoOV It's On George Duke After Hours\n"
     ]
    },
    {
     "name": "stdout",
     "output_type": "stream",
     "text": [
      "262 /1573 : 5u1ZHSxdiazsiH4HghWgDZ Le Pornographe Georges Brassens Les Copains D'Abord\n",
      "artist:Georges Brassens track:Brave Margot album:Le Vent not in spotify\n"
     ]
    },
    {
     "name": "stdout",
     "output_type": "stream",
     "text": [
      "artist:Georges Brassens track:Les 4 z arts album:Les Copains D Abord not in spotify\n"
     ]
    },
    {
     "name": "stdout",
     "output_type": "stream",
     "text": [
      "265 /1573 : 12XKwBWwqdkunI1a8C0BFr Les copains d'abord Georges Brassens Les plus grandes Chansons Françaises\n"
     ]
    },
    {
     "name": "stdout",
     "output_type": "stream",
     "text": [
      "artist:Georges Brassens track:Le Bistrot album:Les Funérailles d antan not in spotify\n"
     ]
    },
    {
     "name": "stdout",
     "output_type": "stream",
     "text": [
      "267 /1573 : 55hOoPBqFhebHwepr33mak Absolution Ghost Meliora\n"
     ]
    },
    {
     "name": "stdout",
     "output_type": "stream",
     "text": [
      "268 /1573 : 3ZXZ9RMsznqgyHnyq0K5FL Cirice Ghost Meliora\n"
     ]
    },
    {
     "name": "stdout",
     "output_type": "stream",
     "text": [
      "269 /1573 : 5t8Qb2sDIgyj57pcrEjsCC Deus In Absentia Ghost Meliora\n"
     ]
    },
    {
     "name": "stdout",
     "output_type": "stream",
     "text": [
      "270 /1573 : 2o2UpxEGdYpJqSAAmEgpRD Devil Church Ghost Meliora (Deluxe Edition)\n",
      "271 /1573 : 2J5aJp4HQxcMuxZ6HVM4GC From The Pinnacle To The Pit Ghost Meliora\n"
     ]
    },
    {
     "name": "stdout",
     "output_type": "stream",
     "text": [
      "272 /1573 : 4ExR43GqMe2KwWM3VPGUmO He Is Ghost Meliora\n",
      "273 /1573 : 30ZhfyAmOmF6GN2i5fpVen Majesty Ghost Meliora\n",
      "274 /1573 : 3OF5mCJ8aRRIzyE49c9x6x Mummy Dust Ghost Meliora\n"
     ]
    },
    {
     "name": "stdout",
     "output_type": "stream",
     "text": [
      "275 /1573 : 6NlyLv5ytvhE4xOWN47V0g Spirit Ghost Meliora\n",
      "276 /1573 : 45E7Yc6VNL0Qoo216EoD0R Spöksonat Ghost Meliora (Deluxe Edition)\n",
      "277 /1573 : 4AzomjMRpr1NMNE90ZIOD6 Square Hammer Ghost Popestar\n"
     ]
    },
    {
     "name": "stdout",
     "output_type": "stream",
     "text": [
      "278 /1573 : 7rIovIsXE6kMn629b7kDig I Will Survive Gloria Gaynor Love Tracks\n",
      "artist:GoGo Penguin track:Unspeakable Word album:Man Made Object not in spotify\n",
      "280 /1573 : 3mJBpjkoGVZdAFgo4xeeIL Backbone Gojira From Mars to Sirius\n"
     ]
    },
    {
     "name": "stdout",
     "output_type": "stream",
     "text": [
      "281 /1573 : 7vxtxgtlAecGklW2gomanZ Flying Whales Gojira From Mars to Sirius\n",
      "282 /1573 : 4ZF3jGBNbIRd24sZ88tZPi From The Sky Gojira From Mars to Sirius\n"
     ]
    },
    {
     "name": "stdout",
     "output_type": "stream",
     "text": [
      "283 /1573 : 4ZF3jGBNbIRd24sZ88tZPi From The Sky Gojira From Mars to Sirius\n",
      "284 /1573 : 0dPtOlVrqvkg6cstMNxckp Global Warming Gojira From Mars to Sirius\n"
     ]
    },
    {
     "name": "stdout",
     "output_type": "stream",
     "text": [
      "285 /1573 : 6MEsBAHtg6CiRcwk5BFIlf In The Wilderness Gojira From Mars to Sirius\n",
      "286 /1573 : 7vRPKAROaM9aev5jQ3WRwe Ocean Planet Gojira From Mars to Sirius\n"
     ]
    },
    {
     "name": "stdout",
     "output_type": "stream",
     "text": [
      "287 /1573 : 1KJqxYkRqWZdDQHMJ9IQaZ The Heaviest Matter Of The Universe Gojira From Mars to Sirius\n",
      "288 /1573 : 2s93FwuKG0ljjLdqEpU7Kb To Sirius Gojira From Mars to Sirius\n"
     ]
    },
    {
     "name": "stdout",
     "output_type": "stream",
     "text": [
      "289 /1573 : 4b1yqONf1IrjhG69u6vmRC Unicorn Gojira From Mars to Sirius\n"
     ]
    },
    {
     "name": "stdout",
     "output_type": "stream",
     "text": [
      "290 /1573 : 1Ibn3CNFcN8HFaWzyy6bHy Where Dragons Dwell Gojira From Mars to Sirius\n",
      "291 /1573 : 4dYfbsV56rlrlcmWInxyGM World To Come Gojira From Mars to Sirius\n"
     ]
    },
    {
     "name": "stdout",
     "output_type": "stream",
     "text": [
      "292 /1573 : 1rDzUqMRA9VdGCIwzgfeh9 Born in Winter Gojira L'Enfant Sauvage (Special Edition)\n"
     ]
    },
    {
     "name": "stdout",
     "output_type": "stream",
     "text": [
      "293 /1573 : 7f7AkrOCmi5X6Eovd3TiNq Explosia Gojira L'Enfant Sauvage (Special Edition)\n"
     ]
    },
    {
     "name": "stdout",
     "output_type": "stream",
     "text": [
      "294 /1573 : 4PWxt9Fy949kUtkEi2GI5V L'enfant sauvage Gojira L'Enfant Sauvage (Special Edition)\n"
     ]
    },
    {
     "name": "stdout",
     "output_type": "stream",
     "text": [
      "295 /1573 : 5BHLmCLntTLjSFGl8MG5wZ Liquid Fire Gojira L'Enfant Sauvage (Special Edition)\n"
     ]
    },
    {
     "name": "stdout",
     "output_type": "stream",
     "text": [
      "296 /1573 : 3YVwGFmSc1ycqsk6qLNAK3 Mouth of Kala Gojira L'Enfant Sauvage (Special Edition)\n",
      "297 /1573 : 6TEDqADSZjLJ8sH1q8yQDt My Last Creation Gojira L'Enfant Sauvage (Special Edition)\n"
     ]
    },
    {
     "name": "stdout",
     "output_type": "stream",
     "text": [
      "298 /1573 : 341EpTlTyC2YbVAxPurQon Pain Is a Master Gojira L'Enfant Sauvage (Special Edition)\n"
     ]
    },
    {
     "name": "stdout",
     "output_type": "stream",
     "text": [
      "299 /1573 : 57caEZCym7upL7k7wt5h4o Planned Obsolescence Gojira L'Enfant Sauvage (Special Edition)\n",
      "300 /1573 : 25I6CiICRyGB0K7E9c7Ho0 The Axe Gojira L'Enfant Sauvage (Special Edition)\n"
     ]
    },
    {
     "name": "stdout",
     "output_type": "stream",
     "text": [
      "301 /1573 : 6WwjzD7ZnIgzWHKyOvGqG1 The Fall Gojira L'Enfant Sauvage (Special Edition)\n"
     ]
    },
    {
     "name": "stdout",
     "output_type": "stream",
     "text": [
      "302 /1573 : 1mjC68qU0Q9HlCIZHZAEko The Gift of Guilt Gojira L'Enfant Sauvage (Special Edition)\n",
      "303 /1573 : 1Pa0DVjBUGreCBHIh81G50 The Wild Healer Gojira L'Enfant Sauvage (Special Edition)\n"
     ]
    },
    {
     "name": "stdout",
     "output_type": "stream",
     "text": [
      "304 /1573 : 5HTPySHVzKat76M1IbiNml This Emptiness Gojira L'Enfant Sauvage (Special Edition)\n"
     ]
    },
    {
     "name": "stdout",
     "output_type": "stream",
     "text": [
      "305 /1573 : 5uunXHE4kIW6uS4HWAXaOQ Silvera Gojira Magma\n",
      "306 /1573 : 2VMB8NG3ZMryFHuFxpcUFO Connected Gojira The Link\n"
     ]
    },
    {
     "name": "stdout",
     "output_type": "stream",
     "text": [
      "307 /1573 : 4NEQ491tBBtfuQ34uHREOz Dawn Gojira The Link\n",
      "308 /1573 : 3U8Cn1reedRo5WXnTUWh6y Death Of Me Gojira The Link\n"
     ]
    },
    {
     "name": "stdout",
     "output_type": "stream",
     "text": [
      "309 /1573 : 6mexhzCMb4fBvqxEeSvoyg Embrace The World Gojira The Link\n",
      "310 /1573 : 4iNIDlajbzwrja5GdSgv7U Indians Gojira The Link\n"
     ]
    },
    {
     "name": "stdout",
     "output_type": "stream",
     "text": [
      "311 /1573 : 72xfEhQyroS0QNnaEZKwId Inward Movement Gojira The Link Alive\n"
     ]
    },
    {
     "name": "stdout",
     "output_type": "stream",
     "text": [
      "312 /1573 : 6GDnjSG4fYaLjzpH2r3yTh Over The Flows Gojira The Link\n",
      "313 /1573 : 63uaSgoiBOc2APs4KA24hK Remembrance Gojira The Link\n"
     ]
    },
    {
     "name": "stdout",
     "output_type": "stream",
     "text": [
      "314 /1573 : 6MoL1DemRXxfPKf3h07IMO The Link Gojira The Link\n"
     ]
    },
    {
     "name": "stdout",
     "output_type": "stream",
     "text": [
      "315 /1573 : 7m4t3QojVWWP8xEFeU11PH Torii Gojira The Link\n",
      "316 /1573 : 3Vgn25iwaX297dx6hSsIUw Wisdom Comes Gojira The Link\n"
     ]
    },
    {
     "name": "stdout",
     "output_type": "stream",
     "text": [
      "317 /1573 : 7MBbfqcqfPmS3lHU0ceLQy A SIGHT TO BEHOLD Gojira The Way of all Flesh\n",
      "318 /1573 : 79nsMx5O53Wn0Px9MZRE3U ADORATION FOR NONE Gojira The Way of all Flesh\n"
     ]
    },
    {
     "name": "stdout",
     "output_type": "stream",
     "text": [
      "319 /1573 : 4Sjn46VQ43ngZjHdEEJwMn ALL THE TEARS Gojira The Way of all Flesh\n",
      "320 /1573 : 31Rxsu5Ad0U5ToQKQWYAK1 ESOTERIC SURGERY Gojira The Way of all Flesh\n"
     ]
    },
    {
     "name": "stdout",
     "output_type": "stream",
     "text": [
      "321 /1573 : 6jYB9DxligWEtHq1K5ExEi OROBORUS Gojira The Way of all Flesh\n",
      "322 /1573 : 666L3SqyCAxOUMyewZI9Ll THE ART OF DYING Gojira The Way of all Flesh\n"
     ]
    },
    {
     "name": "stdout",
     "output_type": "stream",
     "text": [
      "323 /1573 : 33jZqgOPG0Fxrron5JQRx1 THE SILVER CORD Gojira The Way of all Flesh\n",
      "324 /1573 : 666L3SqyCAxOUMyewZI9Ll THE ART OF DYING Gojira The Way of all Flesh\n"
     ]
    },
    {
     "name": "stdout",
     "output_type": "stream",
     "text": [
      "325 /1573 : 1mEaiE4yw6BsaNMsctM4Sr TOXIC GARBAGE ISLAND Gojira The Way of all Flesh\n",
      "326 /1573 : 6HIZIhqCq2Wvnro9GCv9cA VACUITY Gojira The Way of all Flesh\n"
     ]
    },
    {
     "name": "stdout",
     "output_type": "stream",
     "text": [
      "327 /1573 : 37jqj9gyQztkNJhX2ZhDLe WOLF DOWN THE EARTH Gojira The Way of all Flesh\n"
     ]
    },
    {
     "name": "stdout",
     "output_type": "stream",
     "text": [
      "328 /1573 : 68cFjtZ4RbVwpv76TwCe0A YAMA'S MESSENGERS Gojira The Way of all Flesh\n",
      "329 /1573 : 5NYKOiiSD0iC5BaBFyOiFP Are You Receiving Me Golden Earring Moontan\n"
     ]
    },
    {
     "name": "stdout",
     "output_type": "stream",
     "text": [
      "330 /1573 : 5t7tuBGnmy1AegGj6WMvqt Candy's Going Bad Golden Earring Moontan\n",
      "331 /1573 : 4ENwYjiCcpOHXLQ2SM2M0E Just Like Vince Taylor Golden Earring Moontan\n"
     ]
    },
    {
     "name": "stdout",
     "output_type": "stream",
     "text": [
      "332 /1573 : 20aASiwfsbiLlaJxLiC0PQ Radar Love Golden Earring Moontan\n",
      "333 /1573 : 5ld7iP4kXPPBFRL4Q65M9s Suzy Lunacy - Mental Rock Golden Earring Moontan\n"
     ]
    },
    {
     "name": "stdout",
     "output_type": "stream",
     "text": [
      "334 /1573 : 1QLG203TjRwIt1J7WXqSnW The Vanilla Queen Golden Earring Moontan\n",
      "335 /1573 : 76Ug1q4l6rGwJ2ubV5wh3X All Alone Gorillaz Demon Days\n"
     ]
    },
    {
     "name": "stdout",
     "output_type": "stream",
     "text": [
      "336 /1573 : 4Hff1IjRbLGeLgFgxvHflk DARE Gorillaz Demon Days\n",
      "337 /1573 : 2k6hpKTyubRVOmQR11ViY3 Demon Days Gorillaz Demon Days\n"
     ]
    },
    {
     "name": "stdout",
     "output_type": "stream",
     "text": [
      "338 /1573 : 2bfGNzdiRa1jXZRdfssSzR Dirty Harry Gorillaz Demon Days\n"
     ]
    },
    {
     "name": "stdout",
     "output_type": "stream",
     "text": [
      "339 /1573 : 4hjGZN8poACfjWCK3Og6vY Don't Get Lost in Heaven Gorillaz Demon Days\n"
     ]
    },
    {
     "name": "stdout",
     "output_type": "stream",
     "text": [
      "340 /1573 : 0dcMqjeDpwqB2xhzMsld0p El Mañana Gorillaz Demon Days\n"
     ]
    },
    {
     "name": "stdout",
     "output_type": "stream",
     "text": [
      "341 /1573 : 2pw9RZWZibttZzoFhwjuy6 Every Planet We Reach Is Dead Gorillaz Demon Days\n",
      "342 /1573 : 0d28khcov6AiegSCpG5TuT Feel Good Inc. Gorillaz Demon Days\n"
     ]
    },
    {
     "name": "stdout",
     "output_type": "stream",
     "text": [
      "343 /1573 : 1S9tfxdFr4TqoqA14gnKj3 Fire Coming out of the Monkey's Head Gorillaz Demon Days\n",
      "344 /1573 : 2zavoMfVVPJMikH57fd8yK Intro Gorillaz Demon Days\n"
     ]
    },
    {
     "name": "stdout",
     "output_type": "stream",
     "text": [
      "345 /1573 : 0eEgMbSzOHmkOeVuNC3E0k Kids with Guns Gorillaz Demon Days\n",
      "346 /1573 : 7JzmCjvB6bk48JghLyrg8N Last Living Souls Gorillaz Demon Days\n"
     ]
    },
    {
     "name": "stdout",
     "output_type": "stream",
     "text": [
      "347 /1573 : 6lrDckuosGpwEHtm1hHBcf November Has Come Gorillaz Demon Days\n",
      "348 /1573 : 4hNPMfFHauPIbOKvdYqFt7 O Green World Gorillaz Demon Days\n"
     ]
    },
    {
     "name": "stdout",
     "output_type": "stream",
     "text": [
      "349 /1573 : 7hnW9af7GuGH5lyUUTa8UH White Light Gorillaz Demon Days\n",
      "350 /1573 : 3THFKx88trZuOFlssVLJ5G Broken Gorillaz Plastic Beach\n"
     ]
    },
    {
     "name": "stdout",
     "output_type": "stream",
     "text": [
      "351 /1573 : 0NDOVMOT6ah2k6HuXLrq5x Cloud of Unknowing (feat. Bobby Womack and Sinfonia ViVA) Gorillaz Plastic Beach\n",
      "artist:Gorillaz track:Doncamatic album:Plastic Beach not in spotify\n"
     ]
    },
    {
     "name": "stdout",
     "output_type": "stream",
     "text": [
      "353 /1573 : 3a6PN6BRB8PP3ms48s7kU1 Empire Ants (feat. Little Dragon) Gorillaz Plastic Beach\n",
      "354 /1573 : 4EJFCpthcrP6oOUUXQZ22Z Glitter Freeze (feat. Mark E Smith) Gorillaz Plastic Beach\n"
     ]
    },
    {
     "name": "stdout",
     "output_type": "stream",
     "text": [
      "355 /1573 : 0q6LuUqGLUiCPP1cbdwFs3 On Melancholy Hill Gorillaz Plastic Beach\n"
     ]
    },
    {
     "name": "stdout",
     "output_type": "stream",
     "text": [
      "356 /1573 : 3s2f6XU5sJ6aqEe7GgDBta Orchestral Intro (feat. Sinfonia ViVA) Gorillaz Plastic Beach\n",
      "357 /1573 : 0xSF7iHZQxaZYMAiBfobms Pirate Jet Gorillaz Plastic Beach\n"
     ]
    },
    {
     "name": "stdout",
     "output_type": "stream",
     "text": [
      "artist:Gorillaz track:Pirate s Progress album:Plastic Beach not in spotify\n",
      "359 /1573 : 2nZ33CKRbgpJQJJQKHuGXb Plastic Beach (feat. Mick Jones and Paul Simonon) Gorillaz Plastic Beach\n"
     ]
    },
    {
     "name": "stdout",
     "output_type": "stream",
     "text": [
      "360 /1573 : 1foMv2HQwfQ2vntFf9HFeG Rhinestone Eyes Gorillaz Plastic Beach\n",
      "361 /1573 : 4M88Wd7Aps5LGRWMOC7gSH Some Kind of Nature (feat. Lou Reed) Gorillaz Plastic Beach\n"
     ]
    },
    {
     "name": "stdout",
     "output_type": "stream",
     "text": [
      "362 /1573 : 6LUfuyLgvgqrykiTE6sJHY Stylo (feat. Mos Def and Bobby Womack) Gorillaz Plastic Beach\n",
      "363 /1573 : 1UJNbgfTzG1gZZTWFJdMf1 Superfast Jellyfish (feat. Gruff Rhys and De La Soul) Gorillaz Plastic Beach\n"
     ]
    },
    {
     "name": "stdout",
     "output_type": "stream",
     "text": [
      "364 /1573 : 5SM5amC17V4itA5jxIICjS Sweepstakes (feat. Mos Def and Hypnotic Brass Ensemble) Gorillaz Plastic Beach\n",
      "365 /1573 : 1dvOwoHwZB9SwvRw2Gv3nz To Binge (feat. Little Dragon) Gorillaz Plastic Beach\n",
      "366 /1573 : 46WOptLnXUtH3LOyYvmMO1 Welcome to the World of the Plastic Beach (feat. Snoop Dogg and Hypnotic Brass Ensemble) Gorillaz Plastic Beach\n"
     ]
    },
    {
     "name": "stdout",
     "output_type": "stream",
     "text": [
      "367 /1573 : 3famfyGuWw5QFcVO5Xk1uW White Flag (feat. Bashy, Kano and the National Orchestra for Arabic Music) Gorillaz Plastic Beach\n",
      "368 /1573 : 2haIfONRw1Bhi2zSp67MYU Aries (feat. Peter Hook and Georgia) Gorillaz Song Machine Episode 3\n"
     ]
    },
    {
     "name": "stdout",
     "output_type": "stream",
     "text": [
      "369 /1573 : 6xbDAaVUnQ2kaPAg5GXjFW Detroit Gorillaz The Fall\n",
      "370 /1573 : 6nTiIhLmQ3FWhvrGafw2zj American Idiot Green Day American Idiot\n"
     ]
    },
    {
     "name": "stdout",
     "output_type": "stream",
     "text": [
      "371 /1573 : 6eN1f9KNmiWEhpE2RhQqB5 Paradise City Guns N' Roses Appetite For Destruction\n"
     ]
    },
    {
     "name": "stdout",
     "output_type": "stream",
     "text": [
      "372 /1573 : 7snQQk1zcKl8gZ92AnueZW Sweet Child O' Mine Guns N' Roses Appetite For Destruction\n"
     ]
    },
    {
     "name": "stdout",
     "output_type": "stream",
     "text": [
      "373 /1573 : 3Llikc7f9KKGYwbrEfAYtk 1985 Haken Affinity\n"
     ]
    },
    {
     "name": "stdout",
     "output_type": "stream",
     "text": [
      "artist:Haken track:affinitiy.exe / Initiate album:Affinity not in spotify\n"
     ]
    },
    {
     "name": "stdout",
     "output_type": "stream",
     "text": [
      "375 /1573 : 48yGP7ecT6JknKUZzLbu6e Bound by Gravity Haken Affinity\n",
      "376 /1573 : 1OtGh4nRaCYGisPJwubjvz Earthrise Haken Affinity\n"
     ]
    },
    {
     "name": "stdout",
     "output_type": "stream",
     "text": [
      "377 /1573 : 4eS9umlLK4MYscFl5qXxBQ Lapse Haken Affinity\n"
     ]
    },
    {
     "name": "stdout",
     "output_type": "stream",
     "text": [
      "378 /1573 : 7B2T9UwGKfbUg2ChxyiMI6 Red Giant Haken Affinity\n",
      "379 /1573 : 2sApFpOvdX7RKiHbShekNL The Architect Haken Affinity\n"
     ]
    },
    {
     "name": "stdout",
     "output_type": "stream",
     "text": [
      "380 /1573 : 1ux3tUN5QnfnFlyDTCxELH The Endless Knot Haken Affinity\n",
      "artist:Happy End track:Aiga wo\r",
      " album:Kazemachi Roman not in spotify\n"
     ]
    },
    {
     "name": "stdout",
     "output_type": "stream",
     "text": [
      "artist:Happy End track:Ashita tenki ni Naare album:Kazemachi Roman not in spotify\n",
      "artist:Happy End track:Dakishimetai album:Kazemachi Roman not in spotify\n"
     ]
    },
    {
     "name": "stdout",
     "output_type": "stream",
     "text": [
      "artist:Happy End track:Haikara Beautiful album:Kazemachi Roman not in spotify\n",
      "artist:Happy End track:Haikara Hakuchi album:Kazemachi Roman not in spotify\n"
     ]
    },
    {
     "name": "stdout",
     "output_type": "stream",
     "text": [
      "artist:Happy End track:Hanaichimonme album:Kazemachi Roman not in spotify\n",
      "artist:Happy End track:Haru Ranman album:Kazemachi Roman not in spotify\n"
     ]
    },
    {
     "name": "stdout",
     "output_type": "stream",
     "text": [
      "artist:Happy End track:Kaze wo Atsumete album:Kazemachi Roman not in spotify\n",
      "artist:Happy End track:Kurayamizaka Musasabi Henka album:Kazemachi Roman not in spotify\n"
     ]
    },
    {
     "name": "stdout",
     "output_type": "stream",
     "text": [
      "artist:Happy End track:Natsu nandesu album:Kazemachi Roman not in spotify\n",
      "artist:Happy End track:Sorairo no Crayon album:Kazemachi Roman not in spotify\n",
      "artist:Happy End track:Taifuu album:Kazemachi Roman not in spotify\n"
     ]
    },
    {
     "name": "stdout",
     "output_type": "stream",
     "text": [
      "393 /1573 : 20zOIoex7YchUh87d8tlvg Boogie Nights Heatwave Too Hot To Handle\n",
      "394 /1573 : 4Ce66JznW8QbeyTdSzdGwR Chameleon Herbie Hancock Head Hunters\n"
     ]
    },
    {
     "name": "stdout",
     "output_type": "stream",
     "text": [
      "395 /1573 : 4WyVRn3L2uXnSUkY762gqN Sly Herbie Hancock Head Hunters\n",
      "396 /1573 : 6c0ziyel6ZMTQ37vKRooGZ Vein Melter Herbie Hancock Head Hunters\n"
     ]
    },
    {
     "name": "stdout",
     "output_type": "stream",
     "text": [
      "397 /1573 : 2zQl59dZMzwhrmeSBEgiXY Watermelon Man Herbie Hancock Head Hunters\n",
      "398 /1573 : 24hwI6OhnNKAOpRDmoSi3q Hidden Shadows Herbie Hancock Sextant\n"
     ]
    },
    {
     "name": "stdout",
     "output_type": "stream",
     "text": [
      "399 /1573 : 0sJyW4f7X5YvmrG0cPBLzI Hornets Herbie Hancock Sextant\n",
      "400 /1573 : 5c5F0rVz812oUbgRUq5HcR Rain Dance Herbie Hancock Sextant\n"
     ]
    },
    {
     "name": "stdout",
     "output_type": "stream",
     "text": [
      "401 /1573 : 4QPFsGzN0Z4yh1NchgpeOk The One I Call Hey Hey My My British Hawaii\n",
      "402 /1573 : 3QQgR5v0nGHNxMsMqVLrnW Périmètre Hugo TSR Périmètre\n"
     ]
    },
    {
     "name": "stdout",
     "output_type": "stream",
     "text": [
      "403 /1573 : 3vb3cuNO0q8qL4fni4gTxn Bouger la tête Iam L'école du micro d'argent\n",
      "404 /1573 : 2D7I6bbfc2Vvz4zYBGWvW1 Chez le mac Iam L'école du micro d'argent\n"
     ]
    },
    {
     "name": "stdout",
     "output_type": "stream",
     "text": [
      "405 /1573 : 3ivCKJqe7y23kebjJnb2Ua Dangereux Iam L'école du micro d'argent\n",
      "406 /1573 : 0QtKyWOrV5Vhw2n5Yf7LcF Demain, c'est loin Iam L'école du micro d'argent\n",
      "407 /1573 : 0BdZEQpJDKgj0DWBfiG1DH Elle donne son corps avant son nom Iam L'école du micro d'argent\n"
     ]
    },
    {
     "name": "stdout",
     "output_type": "stream",
     "text": [
      "408 /1573 : 2I5S4UqzgMdooPBc31EmgX L'empire du côté obscur Iam L'école du micro d'argent\n"
     ]
    },
    {
     "name": "stdout",
     "output_type": "stream",
     "text": [
      "409 /1573 : 2I5S4UqzgMdooPBc31EmgX L'empire du côté obscur Iam L'école du micro d'argent\n"
     ]
    },
    {
     "name": "stdout",
     "output_type": "stream",
     "text": [
      "410 /1573 : 5kpqjjwrI3GIVR2qMBqr3D L'enfer (feat. East & Fabe) Iam L'école du micro d'argent\n",
      "411 /1573 : 3mFHyDEPrWnc29OlWUBtPI La saga Iam L'école du micro d'argent\n"
     ]
    },
    {
     "name": "stdout",
     "output_type": "stream",
     "text": [
      "412 /1573 : 2qfrNd9xxV6Axycd3F5Eqb Libère mon imagination Iam L'école Du Micro D'argent (Edition Collector)\n",
      "413 /1573 : 66ZtqKhYSA8XyPr0aAUFsm Nés sous la même étoile Iam L'école du micro d'argent\n"
     ]
    },
    {
     "name": "stdout",
     "output_type": "stream",
     "text": [
      "414 /1573 : 3jqBLwtTiUYismDiZgAgPE Petit frère Iam L'école du micro d'argent\n",
      "artist:IAM track:Quant tu allais, on revenait album:L École du Micro d Argent not in spotify\n"
     ]
    },
    {
     "name": "stdout",
     "output_type": "stream",
     "text": [
      "416 /1573 : 6Fu77zQJkRBzzCPRnSMWgI Regarde Iam L'école du micro d'argent\n",
      "417 /1573 : 3gN0dANbfEdlK3p31pqgw9 Un bon son brut pour les truands Iam L'école du micro d'argent\n"
     ]
    },
    {
     "name": "stdout",
     "output_type": "stream",
     "text": [
      "418 /1573 : 35wUBvwdtylu6S1QO5cUur Un cri court dans la nuit (feat. Nuttea) Iam L'école du micro d'argent\n",
      "419 /1573 : 79xLxZrpdURjzJmdHKB85a Downgrade Desert Igorrr Spirituality and Distortion\n"
     ]
    },
    {
     "name": "stdout",
     "output_type": "stream",
     "text": [
      "420 /1573 : 0JBQnLKfLXmlkquabLtAgd Only for the Weak In Flames Clayman\n",
      "artist:Incantation track:Cacharpaya album:Pan Pipes of the Andes not in spotify\n"
     ]
    },
    {
     "name": "stdout",
     "output_type": "stream",
     "text": [
      "422 /1573 : 0Xhnby7DAJ026HpMYdEbSD No More Lies - 2015 Remaster Iron Maiden Dance of Death (2015 - Remaster)\n",
      "artist:Jake Chudnow track:Poodles album:Short Stories not in spotify\n"
     ]
    },
    {
     "name": "stdout",
     "output_type": "stream",
     "text": [
      "artist:Jake Chudnow track:Turquoise album:Short Stories not in spotify\n",
      "425 /1573 : 2Cdvbe2G4hZsnhNMKyGrie I Love Rock 'N Roll Joan Jett & The Blackhearts I Love Rock 'N' Roll (Expanded Edition)\n"
     ]
    },
    {
     "name": "stdout",
     "output_type": "stream",
     "text": [
      "426 /1573 : 2jgbxmCRAbqK1dSMY33g6A Les Champs-Elysées Joe Dassin Joe Dassin Éternel...\n"
     ]
    },
    {
     "name": "stdout",
     "output_type": "stream",
     "text": [
      "427 /1573 : 4HE2Ex0bjbj3YNXmV01OoM Toccata and Fugue in D Minor, BWV 565: 1. Toccata Johann Sebastian Bach Bach, J.S.: Toccata and Fugue BWV 565; Organ Works BWV 572, 590, 532, 769 & 552\n",
      "428 /1573 : 5431KRbZtVF3tVgMR1lIYS An der schönen blauen Donau, Walzer, Op. 314 Johann Strauss II Neujahrskonzert 2020 / New Year's Concert 2020 / Concert du Nouvel An 2020\n",
      "429 /1573 : 133O0c1dynolUei1FMi7C2 I was Looking at the Ceiling and Then I Saw the Sky: Act II: Finale (Tutti) John Adams Adams: I Was Looking at the Ceiling and Then I Saw the Sky\n"
     ]
    },
    {
     "name": "stdout",
     "output_type": "stream",
     "text": [
      "430 /1573 : 1YYhDizHx7PnDhAhko6cDS Take Me Home, Country Roads John Denver Poems, Prayers and Promises\n",
      "431 /1573 : 7pKfPomDEeI4TPT6EOYjn9 Imagine - 2010 Mix John Lennon Imagine\n"
     ]
    },
    {
     "name": "stdout",
     "output_type": "stream",
     "text": [
      "432 /1573 : 2hfoyc7ve6xM4ZEiNIiU1B Gimme Love Joji Gimme Love\n",
      "433 /1573 : 3zbZNJ1yewL5HqjvIEjjUD Folie Jul La machine\n"
     ]
    },
    {
     "name": "stdout",
     "output_type": "stream",
     "text": [
      "434 /1573 : 3dyoo6UNb2VlMTISBqrDb1 Sousou Jul Sousou\n",
      "artist:Jun Fukamachi track:Desillusion album:Quark not in spotify\n"
     ]
    },
    {
     "name": "stdout",
     "output_type": "stream",
     "text": [
      "artist:Jun Fukamachi track:Insight album:Quark not in spotify\n",
      "artist:Jun Fukamachi track:Perpetual (Movement) album:Quark not in spotify\n"
     ]
    },
    {
     "name": "stdout",
     "output_type": "stream",
     "text": [
      "artist:Jun Fukamachi track:Quark album:Quark not in spotify\n",
      "artist:Kalash Criminel track:Pronostic album:N/A not in spotify\n"
     ]
    },
    {
     "name": "stdout",
     "output_type": "stream",
     "text": [
      "artist:Kelly Bailey track:CP Violation album:Half Life 2 not in spotify\n"
     ]
    },
    {
     "name": "stdout",
     "output_type": "stream",
     "text": [
      "441 /1573 : 2WFggVC84b18ZkJTNgFnGP believe Kenichiro Nishihara Jazzy Folklore\n"
     ]
    },
    {
     "name": "stdout",
     "output_type": "stream",
     "text": [
      "artist:Kenichiro Nishihara track:Magazine album:Jazzy Folklore not in spotify\n",
      "443 /1573 : 6b6D94SnWcbNYYcw7ky7YL my leaving Kenichiro Nishihara Jazzy Folklore\n"
     ]
    },
    {
     "name": "stdout",
     "output_type": "stream",
     "text": [
      "444 /1573 : 2gR2zWHWq1mGEraOgZvEuW my love my life Kenichiro Nishihara Jazzy Folklore\n"
     ]
    },
    {
     "name": "stdout",
     "output_type": "stream",
     "text": [
      "445 /1573 : 69mJOQRpKgvq8dZX1jaeKZ pass the tea Kenichiro Nishihara Jazzy Folklore\n"
     ]
    },
    {
     "name": "stdout",
     "output_type": "stream",
     "text": [
      "446 /1573 : 6PPDZSjl29m4SpQbJqTBQZ piano choir Kenichiro Nishihara Jazzy Folklore\n",
      "447 /1573 : 3b6G3g3cB34x1sMggyffbS prism tale Kenichiro Nishihara Jazzy Folklore\n",
      "artist:Kenichiro Nishihara track:The Vibe album:Jazzy Folklore not in spotify\n"
     ]
    },
    {
     "name": "stdout",
     "output_type": "stream",
     "text": [
      "449 /1573 : 6pUjl3qNOXV9fbVIFQWtG3 waves Kenichiro Nishihara Jazzy Folklore\n",
      "artist:Kenichiro Nishihara track:Yesternow Immignrats album:Jazzy Folklore not in spotify\n"
     ]
    },
    {
     "name": "stdout",
     "output_type": "stream",
     "text": [
      "451 /1573 : 07q0QVgO56EorrSGHC48y3 I Was Made For Lovin' You KISS Dynasty\n",
      "artist:Koji Kondo track:Kokiri Forest album:Ocarina of Time not in spotify\n"
     ]
    },
    {
     "name": "stdout",
     "output_type": "stream",
     "text": [
      "453 /1573 : 1mMYaXpT65iZDtvfRA9EkE Fresh Kool & The Gang Emergency (Reissue)\n"
     ]
    },
    {
     "name": "stdout",
     "output_type": "stream",
     "text": [
      "454 /1573 : 4Cv6ongCvJy9JfSkWVnb5D Get Down On It Kool & The Gang Something Special\n",
      "455 /1573 : 1pr9TZGOXeJUggIal1Wq3R Blind Korn Korn\n",
      "456 /1573 : 2f1BjAVy4k8B3pB4qBntHj Alone I Break Korn Untouchables\n"
     ]
    },
    {
     "name": "stdout",
     "output_type": "stream",
     "text": [
      "457 /1573 : 1VlW3owKPeiEtxMaHkq4Pv Beat It Upright Korn Untouchables\n",
      "458 /1573 : 1mGIbvbKtTqWSMLAEDA6tj Blame Korn Untouchables\n"
     ]
    },
    {
     "name": "stdout",
     "output_type": "stream",
     "text": [
      "459 /1573 : 52iwy78GCO58e6fb7CB4Kb Bottled up Inside Korn Untouchables\n",
      "460 /1573 : 487O7RBFtw8dfRJEs2NRxA Embrace Korn Untouchables\n"
     ]
    },
    {
     "name": "stdout",
     "output_type": "stream",
     "text": [
      "461 /1573 : 3QXcSwYu2HlH45ZfV1cCIw Hating Korn Untouchables\n",
      "462 /1573 : 5NHTtXGCdO7ul16xr0q93w Here to Stay Korn Untouchables\n"
     ]
    },
    {
     "name": "stdout",
     "output_type": "stream",
     "text": [
      "463 /1573 : 2epJOYKMo2XOXuc8Bk3Xwa Hollow Life Korn Untouchables\n",
      "464 /1573 : 7aWbEWjNhXEaD2tMPWHUZj I'm Hiding Korn Untouchables\n",
      "465 /1573 : 0VUGGLcINsmJi3nc612KkL Make Believe Korn Untouchables\n"
     ]
    },
    {
     "name": "stdout",
     "output_type": "stream",
     "text": [
      "466 /1573 : 0sGSlTV3HjZayg5g6CdNbc No One's There Korn Untouchables\n",
      "467 /1573 : 25pAePMnGdeFVhMMUE2eKV One More Time Korn Untouchables\n"
     ]
    },
    {
     "name": "stdout",
     "output_type": "stream",
     "text": [
      "468 /1573 : 6HlFxHQ5nn6HYGxOOYIrLm Thoughtless Korn Untouchables\n",
      "469 /1573 : 7tEHwkn9Ym0lDbwKONHBvW Wake Up Hate Korn Untouchables\n"
     ]
    },
    {
     "name": "stdout",
     "output_type": "stream",
     "text": [
      "470 /1573 : 0keNORyUWidCWh1I0gli6D A Quick Break Kristofer Maddigan Cuphead (Original Soundtrack)\n",
      "471 /1573 : 6xjSxW2xKQX60VQEuV5ce0 Admission to Perdition Kristofer Maddigan Cuphead (Original Soundtrack)\n"
     ]
    },
    {
     "name": "stdout",
     "output_type": "stream",
     "text": [
      "472 /1573 : 0lR96n5ReVvMnSpeymAHIh All Bets Are Off Kristofer Maddigan Cuphead (Original Soundtrack)\n",
      "473 /1573 : 4fxY3i5FNyP3LUzixUS7CD Aviary Action Kristofer Maddigan Cuphead (Original Soundtrack)\n"
     ]
    },
    {
     "name": "stdout",
     "output_type": "stream",
     "text": [
      "474 /1573 : 0YBHCNZipJmhgykFFInajM Botanic Panic Kristofer Maddigan Cuphead (Original Soundtrack)\n",
      "475 /1573 : 5AMlkhfcb7TEVghsY4ymdD Carnival Kerfuffle Kristofer Maddigan Cuphead (Original Soundtrack)\n"
     ]
    },
    {
     "name": "stdout",
     "output_type": "stream",
     "text": [
      "476 /1573 : 4HSbWc9sk1fi7CbCxjYvda Chief Evil Officer Kristofer Maddigan Cuphead (Original Soundtrack)\n",
      "477 /1573 : 7uVpjihhrP2plvxnSzP6JY Clip Joint Calamity Kristofer Maddigan Cuphead (Original Soundtrack)\n",
      "478 /1573 : 5MsrxyKk8Pwwij03I8QHDs Closing Credits Kristofer Maddigan Cuphead (Original Soundtrack)\n"
     ]
    },
    {
     "name": "stdout",
     "output_type": "stream",
     "text": [
      "479 /1573 : 3xy2j2CjDQph91gUK71oHz Coin-Op Bop Kristofer Maddigan Cuphead (Original Soundtrack)\n",
      "480 /1573 : 3HpvQ7aZ5338LLRxPjUawN Die House Kristofer Maddigan Cuphead (Original Soundtrack)\n"
     ]
    },
    {
     "name": "stdout",
     "output_type": "stream",
     "text": [
      "481 /1573 : 55lscnv23cvuEyaf0xSxed Don't Deal with the Devil (Instrumental) Kristofer Maddigan Cuphead (Original Soundtrack)\n",
      "482 /1573 : 7Hd76FhngTrK6KK8TNVnFb Dramatic Fanatic Kristofer Maddigan Cuphead (Original Soundtrack)\n"
     ]
    },
    {
     "name": "stdout",
     "output_type": "stream",
     "text": [
      "483 /1573 : 6ktFdl272RBi7uk8FTPeuQ Elder Kettle Kristofer Maddigan Cuphead (Original Soundtrack)\n",
      "484 /1573 : 6oNYc9y8DfgEDh4HzPupAS Elder Kettle (Piano) Kristofer Maddigan Cuphead (Original Soundtrack)\n"
     ]
    },
    {
     "name": "stdout",
     "output_type": "stream",
     "text": [
      "485 /1573 : 02h2lqTc872LnYQ7TOFMmF Fiery Frolic Kristofer Maddigan Cuphead (Original Soundtrack)\n",
      "486 /1573 : 3zD0YE28NZ9qTHvfVl6imU Floral Fury Kristofer Maddigan Cuphead (Original Soundtrack)\n"
     ]
    },
    {
     "name": "stdout",
     "output_type": "stream",
     "text": [
      "487 /1573 : 70THn7YYfyk1U4zozH3bUy Forest Follies Kristofer Maddigan Cuphead (Original Soundtrack)\n",
      "488 /1573 : 7sJxeev8KjB8HXjA4pxy3E Funfair Fever Kristofer Maddigan Cuphead (Original Soundtrack)\n"
     ]
    },
    {
     "name": "stdout",
     "output_type": "stream",
     "text": [
      "489 /1573 : 18glzC2ulLjpZAGRMt4eoA Funhouse Frazzle Kristofer Maddigan Cuphead (Original Soundtrack)\n",
      "490 /1573 : 33bdiZAAiUu9MkwELMztV2 High Score Kristofer Maddigan Cuphead (Original Soundtrack)\n"
     ]
    },
    {
     "name": "stdout",
     "output_type": "stream",
     "text": [
      "491 /1573 : 7MOLuGHl3msefPDQF8MeKG High Seas Hi-Jinx Kristofer Maddigan Cuphead (Original Soundtrack)\n"
     ]
    },
    {
     "name": "stdout",
     "output_type": "stream",
     "text": [
      "492 /1573 : 0nKZsdHAqChEd0jwynrfoW Honeycomb Herald Kristofer Maddigan Cuphead (Original Soundtrack)\n"
     ]
    },
    {
     "name": "stdout",
     "output_type": "stream",
     "text": [
      "493 /1573 : 2AvPs6sbcDQQgXhRgmUufp Hurry Up Kristofer Maddigan Cuphead (Original Soundtrack)\n",
      "494 /1573 : 4IIhfvn5exIXltV9sznYtR Inkwell Hell Kristofer Maddigan Cuphead (Original Soundtrack)\n"
     ]
    },
    {
     "name": "stdout",
     "output_type": "stream",
     "text": [
      "495 /1573 : 0wdquw14LO4V24Oi5Fildy Inkwell Hell (Piano) Kristofer Maddigan Cuphead (Original Soundtrack)\n"
     ]
    },
    {
     "name": "stdout",
     "output_type": "stream",
     "text": [
      "496 /1573 : 6UehmCQPTPaZk5R0VXQ5eE Inkwell Isle One Kristofer Maddigan Cuphead (Original Soundtrack)\n",
      "497 /1573 : 4mSI8DMnuj3JKXJwhaN9DM Inkwell Isle One (Piano) Kristofer Maddigan Cuphead (Original Soundtrack)\n"
     ]
    },
    {
     "name": "stdout",
     "output_type": "stream",
     "text": [
      "498 /1573 : 7MToKxeepujquHIVLya6jt Inkwell Isle Three Kristofer Maddigan Cuphead (Original Soundtrack)\n"
     ]
    },
    {
     "name": "stdout",
     "output_type": "stream",
     "text": [
      "499 /1573 : 6JLAE1sWylNmvJU7283CGE Inkwell Isle Three (Piano) Kristofer Maddigan Cuphead (Original Soundtrack)\n",
      "500 /1573 : 2ZWRAljvtZIirVQWvcBGkD Inkwell Isle Two Kristofer Maddigan Cuphead (Original Soundtrack)\n"
     ]
    },
    {
     "name": "stdout",
     "output_type": "stream",
     "text": [
      "501 /1573 : 7IcqrOolPAgqxcK55hvqZk Inkwell Isle Two (Piano) Kristofer Maddigan Cuphead (Original Soundtrack)\n",
      "502 /1573 : 2ufr0Gs4OWL1Uo22EsJDSx Introduction Kristofer Maddigan Cuphead (Original Soundtrack)\n"
     ]
    },
    {
     "name": "stdout",
     "output_type": "stream",
     "text": [
      "503 /1573 : 3LbC5JsZ1Sa4HGfhMFSS3o Junkyard Jive Kristofer Maddigan Cuphead (Original Soundtrack)\n",
      "504 /1573 : 4TvuAd18ViTQJ19QAbezDT Legendary Ghost Kristofer Maddigan Cuphead (Original Soundtrack)\n"
     ]
    },
    {
     "name": "stdout",
     "output_type": "stream",
     "text": [
      "505 /1573 : 0HBseo5ADohKTaH6JK3rn1 Murine Corps Kristofer Maddigan Cuphead (Original Soundtrack)\n",
      "506 /1573 : 20KOgZJtB7XOButnyAsLQR Ominous Interlude Kristofer Maddigan Cuphead (Original Soundtrack)\n"
     ]
    },
    {
     "name": "stdout",
     "output_type": "stream",
     "text": [
      "507 /1573 : 2PMX8sBBrT0q7B4sQkBR7a One Hell of a Time Kristofer Maddigan Cuphead (Original Soundtrack)\n",
      "artist:Kristofer Maddigan track:Perilious Piers album:Cuphead not in spotify\n"
     ]
    },
    {
     "name": "stdout",
     "output_type": "stream",
     "text": [
      "509 /1573 : 5vUWXPgS8kCAOP4tZ0o6vI Porkrind's Shop Kristofer Maddigan Cuphead (Original Soundtrack)\n",
      "510 /1573 : 0MX6VvRcqrvJXRLzfZUOmk Pyramid Peril Kristofer Maddigan Cuphead (Original Soundtrack)\n"
     ]
    },
    {
     "name": "stdout",
     "output_type": "stream",
     "text": [
      "511 /1573 : 0v3uNqdn2dHuSCQLFperyZ Railroad Wrath Kristofer Maddigan Cuphead (Original Soundtrack)\n",
      "512 /1573 : 7yHJxwR8NEZZzjcTdPWq5e Rugged Ridge Kristofer Maddigan Cuphead (Original Soundtrack)\n"
     ]
    },
    {
     "name": "stdout",
     "output_type": "stream",
     "text": [
      "513 /1573 : 0dvxG9bYKI4ZUCYwcF3c5N Ruse of an Ooze Kristofer Maddigan Cuphead (Original Soundtrack)\n",
      "514 /1573 : 4w4qrHEm4Olj1K070PKgvZ Shootin' 'n' Lootin' Kristofer Maddigan Cuphead (Original Soundtrack)\n"
     ]
    },
    {
     "name": "stdout",
     "output_type": "stream",
     "text": [
      "515 /1573 : 7eVPSl96DJOMSc9rIBn6ft Sugarland Shimmy Kristofer Maddigan Cuphead (Original Soundtrack)\n",
      "516 /1573 : 3Mk62kPEDmcXpEvAM8ng72 The Airship Kristofer Maddigan Cuphead (Original Soundtrack)\n"
     ]
    },
    {
     "name": "stdout",
     "output_type": "stream",
     "text": [
      "517 /1573 : 6i6cXgQLeEH40MwUnaIxSJ The End Kristofer Maddigan Cuphead (Original Soundtrack)\n",
      "518 /1573 : 3Q1ihQlFp9V9VDYxlWb25u The King's Court Kristofer Maddigan Cuphead (Original Soundtrack)\n",
      "519 /1573 : 1MpjMyBxY45fY5mUaqrdxj The Mausoleum Kristofer Maddigan Cuphead (Original Soundtrack)\n"
     ]
    },
    {
     "name": "stdout",
     "output_type": "stream",
     "text": [
      "520 /1573 : 3cShnBQsJ2zLR6iya0V3z1 Threatenin' Zeppelin Kristofer Maddigan Cuphead (Original Soundtrack)\n"
     ]
    },
    {
     "name": "stdout",
     "output_type": "stream",
     "text": [
      "521 /1573 : 7D4cP3Hn1VepH9ZpcP0t8R Treetop Trouble Kristofer Maddigan Cuphead (Original Soundtrack)\n"
     ]
    },
    {
     "name": "stdout",
     "output_type": "stream",
     "text": [
      "522 /1573 : 3b283GyxalGqsqCqLNw8xR Tutorial Kristofer Maddigan Cuphead (Original Soundtrack)\n"
     ]
    },
    {
     "name": "stdout",
     "output_type": "stream",
     "text": [
      "523 /1573 : 4ZaUqU13ynXcIkfoznfU3n Victory Tune Kristofer Maddigan Cuphead (Original Soundtrack)\n"
     ]
    },
    {
     "name": "stdout",
     "output_type": "stream",
     "text": [
      "524 /1573 : 4JdlT1FxsyGCKqaWxcSEfI Winner Takes All Kristofer Maddigan Cuphead (Original Soundtrack)\n",
      "525 /1573 : 3frUvGrmGcay91lvFbOgsN Like It Is Kygo Like It Is\n",
      "artist:La P tite Fumée track:Thunderbreizh album:N/A not in spotify\n"
     ]
    },
    {
     "name": "stdout",
     "output_type": "stream",
     "text": [
      "527 /1573 : 2uWYOq36wrjC3UstoI1lRV Stupid Love - Vitaclub Warehouse Mix Lady Gaga Stupid Love (Vitaclub Warehouse Mix)\n",
      "artist:Lalo Schifrin track:Serenata album:Steal Away not in spotify\n"
     ]
    },
    {
     "name": "stdout",
     "output_type": "stream",
     "text": [
      "529 /1573 : 7LsdvPwmV18qhipmHcRF8A 512 Lamb of God VII: Sturm Und Drang (Deluxe)\n"
     ]
    },
    {
     "name": "stdout",
     "output_type": "stream",
     "text": [
      "530 /1573 : 2fQ2iALVbAZ7MkH6PaaIJ6 No Quarter - 1990 Remaster Led Zeppelin Houses of the Holy (1994 Remaster)\n",
      "531 /1573 : 62p6fF2r4NY6pwZbxxvmr8 Fool in the Rain - 1990 Remaster Led Zeppelin In Through the out Door (1994 Remaster)\n"
     ]
    },
    {
     "name": "stdout",
     "output_type": "stream",
     "text": [
      "532 /1573 : 1rxD34LAtkafrMUHqHIV76 Bring It on Home - 2012 Remaster Led Zeppelin Led Zeppelin II (Remaster)\n",
      "533 /1573 : 6WE7jSshLCuVKoCmobVKVf Heartbreaker - 1990 Remaster Led Zeppelin Led Zeppelin II (1994 Remaster)\n"
     ]
    },
    {
     "name": "stdout",
     "output_type": "stream",
     "text": [
      "534 /1573 : 49C6EGQhCUSgyADHYvJ7ez Living Loving Maid (She's Just a Woman) - 2012 Remaster Led Zeppelin Led Zeppelin II (Remaster)\n",
      "535 /1573 : 0h2gzJQBt6duqZD6kWiz4s Moby Dick Led Zeppelin Led Zeppelin II (1994 Remaster)\n"
     ]
    },
    {
     "name": "stdout",
     "output_type": "stream",
     "text": [
      "536 /1573 : 3MODES4TNtygekLl146Dxd Ramble On - 1990 Remaster Led Zeppelin Led Zeppelin II (1994 Remaster)\n",
      "537 /1573 : 4ZkhFcoS3apzze9w2yI9NO Thank You - 1990 Remaster Led Zeppelin Led Zeppelin II (1994 Remaster)\n"
     ]
    },
    {
     "name": "stdout",
     "output_type": "stream",
     "text": [
      "538 /1573 : 5qbVkwfy0RYGFA6hAiIL90 The Lemon Song - 1993 Remaster Led Zeppelin Led Zeppelin II (1994 Remaster)\n",
      "539 /1573 : 5G7uLHtoEW140QOcBpJlfz What Is and What Should Never Be - 1990 Remaster Led Zeppelin Led Zeppelin II (1994 Remaster)\n"
     ]
    },
    {
     "name": "stdout",
     "output_type": "stream",
     "text": [
      "540 /1573 : 0hCB0YR03f6AmQaHbwWDe8 Whole Lotta Love - 1990 Remaster Led Zeppelin Led Zeppelin II (1994 Remaster)\n",
      "541 /1573 : 78MXICbE7bD4cuPKFh1EFO Celebration Day - 2012 Remaster Led Zeppelin Led Zeppelin III (Remaster)\n"
     ]
    },
    {
     "name": "stdout",
     "output_type": "stream",
     "text": [
      "542 /1573 : 4PRGxHpCpF2yoOHYKQIEwD Rock and Roll - 2012 Remaster Led Zeppelin Led Zeppelin IV (Deluxe Edition; Remaster)\n",
      "543 /1573 : 5tRb0Y2bloJGI8uskuAtRL Bonneville Leprous Malina\n"
     ]
    },
    {
     "name": "stdout",
     "output_type": "stream",
     "text": [
      "544 /1573 : 5Yd4WNmT89T5wsafIMRjfA Captive Leprous Malina\n",
      "545 /1573 : 3DsQZKycCle3aiZf6Tax3P Coma Leprous Malina\n",
      "546 /1573 : 1tBxs9BqNlBXbIxVaCBrv5 From the Flame Leprous Malina\n"
     ]
    },
    {
     "name": "stdout",
     "output_type": "stream",
     "text": [
      "547 /1573 : 2N3vUnZi5Nj54ELyI8wAJ7 Illuminate Leprous Malina\n",
      "548 /1573 : 43UDvLX76YlPWlXnMnzIUJ Leashes Leprous Malina\n"
     ]
    },
    {
     "name": "stdout",
     "output_type": "stream",
     "text": [
      "549 /1573 : 46KeFeHERSkT34TbIZsWRy Malina Leprous Malina\n",
      "550 /1573 : 2v5frKIhRuyDA9lgaaesR6 Mirage Leprous Malina\n"
     ]
    },
    {
     "name": "stdout",
     "output_type": "stream",
     "text": [
      "551 /1573 : 74vy9v25MuoqNVBdAjGwJC Stuck Leprous Malina\n"
     ]
    },
    {
     "name": "stdout",
     "output_type": "stream",
     "text": [
      "552 /1573 : 2BeVytGUGVlT1vxFo0AowH The Last Milestone Leprous Malina\n"
     ]
    },
    {
     "name": "stdout",
     "output_type": "stream",
     "text": [
      "553 /1573 : 35OyuK76YVYWrokOGBA1Ln The Weight of Disaster Leprous Malina\n",
      "554 /1573 : 0mdiu7UpUOr5Non3kZt4uO Down Leprous The Congregation\n"
     ]
    },
    {
     "name": "stdout",
     "output_type": "stream",
     "text": [
      "555 /1573 : 3IJVVQUPhLMlrr1cQu2u3B Lower Leprous The Congregation\n"
     ]
    },
    {
     "name": "stdout",
     "output_type": "stream",
     "text": [
      "556 /1573 : 2phdVu3rv0cAslwuG9Xydn Moon Leprous The Congregation\n"
     ]
    },
    {
     "name": "stdout",
     "output_type": "stream",
     "text": [
      "artist:Leprous track:Pixel album:The Congregation not in spotify\n"
     ]
    },
    {
     "name": "stdout",
     "output_type": "stream",
     "text": [
      "558 /1573 : 1Cd0PU3AYHdd4tKGGmkIHx Red Leprous The Congregation\n",
      "559 /1573 : 12NwYmQT1Mm7gkrCjIuq0d Rewind Leprous The Congregation\n"
     ]
    },
    {
     "name": "stdout",
     "output_type": "stream",
     "text": [
      "560 /1573 : 6RYWCMf5LvlUlgyYPTtplQ Slave Leprous The Congregation\n"
     ]
    },
    {
     "name": "stdout",
     "output_type": "stream",
     "text": [
      "561 /1573 : 3ta3S0R3EZYW0pTcopZP5P The Flood Leprous The Congregation\n"
     ]
    },
    {
     "name": "stdout",
     "output_type": "stream",
     "text": [
      "562 /1573 : 134I0qT6UrkDjhbI6bx0x3 The Price Leprous The Congregation\n",
      "563 /1573 : 77fpiSyauWmfvdQy2y02Bu Third Law Leprous The Congregation\n"
     ]
    },
    {
     "name": "stdout",
     "output_type": "stream",
     "text": [
      "564 /1573 : 44KzUMe9Kn2xVxD5v7jisb Triumphant Leprous The Congregation\n"
     ]
    },
    {
     "name": "stdout",
     "output_type": "stream",
     "text": [
      "565 /1573 : 2HA08a69UHthb1g8JMqkn3 Within My Fence Leprous The Congregation\n"
     ]
    },
    {
     "name": "stdout",
     "output_type": "stream",
     "text": [
      "566 /1573 : 60a0Rd6pjrkxjPbaKzXjfq In the End Linkin Park Hybrid Theory (Bonus Edition)\n"
     ]
    },
    {
     "name": "stdout",
     "output_type": "stream",
     "text": [
      "567 /1573 : 2nLtzopw4rPReszdYBJU6h Numb Linkin Park Meteora\n"
     ]
    },
    {
     "name": "stdout",
     "output_type": "stream",
     "text": [
      "artist:Lipps Inc. track:Funkytown album:Mouth to Mouth not in spotify\n",
      "569 /1573 : 0FVbbb6EDyCckexuU1QRD4 Undecided Ludivine Issambourg Outlaws\n"
     ]
    },
    {
     "name": "stdout",
     "output_type": "stream",
     "text": [
      "artist:Luke Million track:Arnold album:N/A not in spotify\n",
      "artist:Luke Million track:Ice Ice Arnie (Cool Party) album:N/A not in spotify\n",
      "artist:Lynrd Skynrd track:Sweet Home Alabama album:Second Helping not in spotify\n"
     ]
    },
    {
     "name": "stdout",
     "output_type": "stream",
     "text": [
      "573 /1573 : 5U4ByJt0IvLu3bpF2DdDQT A Farewell to Arms Machine Head The Blackening\n"
     ]
    },
    {
     "name": "stdout",
     "output_type": "stream",
     "text": [
      "574 /1573 : 2dy8eXtNCrLcpT006adx5g Aesthetics of Hate Machine Head The Blackening\n"
     ]
    },
    {
     "name": "stdout",
     "output_type": "stream",
     "text": [
      "575 /1573 : 5Cs6AftcanvD6Ib7YJ1otT Beautiful Mourning Machine Head The Blackening\n",
      "576 /1573 : 7ao9MKmhkjeFxw0alndkdM Clenching the Fists of Dissent Machine Head The Blackening\n"
     ]
    },
    {
     "name": "stdout",
     "output_type": "stream",
     "text": [
      "577 /1573 : 5nksa8EqKHSWO9WBj6DnmS Halo Machine Head The Blackening\n",
      "578 /1573 : 65GqoNsz3q6GMW9AXjv8mz Now I Lay Thee Down Machine Head The Blackening\n"
     ]
    },
    {
     "name": "stdout",
     "output_type": "stream",
     "text": [
      "579 /1573 : 4tH51l243jr1ZIrdHgXlQm Slanderous Machine Head The Blackening\n",
      "580 /1573 : 07xghD8AXeVlCHfnD18HM0 Wolves Machine Head The Blackening\n"
     ]
    },
    {
     "name": "stdout",
     "output_type": "stream",
     "text": [
      "artist:Mahito Yokota track:Gusty Gardens album:Super Mario Galaxy not in spotify\n",
      "artist:Maître Gims track:Reste album:N/A not in spotify\n"
     ]
    },
    {
     "name": "stdout",
     "output_type": "stream",
     "text": [
      "583 /1573 : 49xRQ2i2OOAxdO8AaRzcoM I Can’t Breathe Marcus Miller Afrodeezia\n",
      "584 /1573 : 62ubbkWAhTOftwgRjHS1UH All Night Long Mary Jane Girls Mary Jane Girls\n"
     ]
    },
    {
     "name": "stdout",
     "output_type": "stream",
     "text": [
      "585 /1573 : 2HuMQkNVpFIsur2cRWWQmX Exchange Massive Attack Mezzanine\n",
      "586 /1573 : 7uv632EkfwYhXoqf8rhYrg Angel Massive Attack Mezzanine\n"
     ]
    },
    {
     "name": "stdout",
     "output_type": "stream",
     "text": [
      "587 /1573 : 1Rezzt36ybaT2ZbDZpv83D Black Milk Massive Attack Mezzanine\n"
     ]
    },
    {
     "name": "stdout",
     "output_type": "stream",
     "text": [
      "588 /1573 : 0oeEqyEAavgPfFxDYvjAP6 Dissolved Girl Massive Attack Mezzanine\n",
      "589 /1573 : 2HuMQkNVpFIsur2cRWWQmX Exchange Massive Attack Mezzanine\n"
     ]
    },
    {
     "name": "stdout",
     "output_type": "stream",
     "text": [
      "590 /1573 : 0pWrU4My52DJ75GnZKDlv8 Group Four Massive Attack Mezzanine\n"
     ]
    },
    {
     "name": "stdout",
     "output_type": "stream",
     "text": [
      "591 /1573 : 3N2UhXZI4Gf64Ku3cCjz2g Inertia Creeps Massive Attack Mezzanine\n"
     ]
    },
    {
     "name": "stdout",
     "output_type": "stream",
     "text": [
      "592 /1573 : 2Tz5THgkMOQeaW6DlqAlIa Man Next Door Massive Attack Mezzanine\n",
      "593 /1573 : 4IfHYniNBoAATWV6iLEXRs Mezzanine Massive Attack Mezzanine\n"
     ]
    },
    {
     "name": "stdout",
     "output_type": "stream",
     "text": [
      "594 /1573 : 6ggJ6MceyHGWtUg1KLp3M1 Risingson Massive Attack Mezzanine\n",
      "595 /1573 : 67Hna13dNDkZvBpTXRIaOJ Teardrop Massive Attack Mezzanine\n"
     ]
    },
    {
     "name": "stdout",
     "output_type": "stream",
     "text": [
      "596 /1573 : 4nwwFLQqopxAL0g2L0Fg0B Crack the Skye Mastodon Crack the Skye\n"
     ]
    },
    {
     "name": "stdout",
     "output_type": "stream",
     "text": [
      "597 /1573 : 6HZ8zBamcVKjO46vsLj9vh Divinations Mastodon Crack the Skye\n",
      "598 /1573 : 2VzyWKHUmuxUq7J7I8wbng Ghost of Karelia Mastodon Crack the Skye\n"
     ]
    },
    {
     "name": "stdout",
     "output_type": "stream",
     "text": [
      "599 /1573 : 4Ynr1SPCeUI0W0YPeSFSIK Oblivion Mastodon Crack the Skye\n",
      "600 /1573 : 7n2K9HW8OhwFpWEdzeYu79 Quintessence Mastodon Crack the Skye\n"
     ]
    },
    {
     "name": "stdout",
     "output_type": "stream",
     "text": [
      "601 /1573 : 2LMjQnKH7sQzOD0l8q6eWz The Czar: Usurper / Escape / Martyr / Spiral Mastodon Crack the Skye\n",
      "602 /1573 : 6MUc3qu8WOqO7hAY6gdhJY The Last Baron Mastodon Crack the Skye\n"
     ]
    },
    {
     "name": "stdout",
     "output_type": "stream",
     "text": [
      "603 /1573 : 0k8CNAD5ADcMCOdTOMxUHk Ancient Kingdom Mastodon Emperor of Sand\n",
      "604 /1573 : 6asbKxqMe9pxI3rxax74Yr Andromeda Mastodon Emperor of Sand\n"
     ]
    },
    {
     "name": "stdout",
     "output_type": "stream",
     "text": [
      "605 /1573 : 6ZWzCxc7bBSPYZPem17HbW Clandestiny Mastodon Emperor of Sand\n",
      "606 /1573 : 7lGOFEVWK0jzpLMFuR4ANh Jaguar God Mastodon Emperor of Sand\n"
     ]
    },
    {
     "name": "stdout",
     "output_type": "stream",
     "text": [
      "607 /1573 : 4GPne3vf5okCDszbmeCUZz Precious Stones Mastodon Emperor of Sand\n"
     ]
    },
    {
     "name": "stdout",
     "output_type": "stream",
     "text": [
      "608 /1573 : 5llEJFL6NzKYgMTEb68XtL Roots Remain Mastodon Emperor of Sand\n",
      "609 /1573 : 36dvfTxi43vTmGQOAnxsi5 Scorpion Breath Mastodon Emperor of Sand\n"
     ]
    },
    {
     "name": "stdout",
     "output_type": "stream",
     "text": [
      "610 /1573 : 1dfHpGeaXunLRNvzSZOZtc Show Yourself Mastodon Emperor of Sand\n",
      "611 /1573 : 4Ut80ggQbyiJN2pGCs7VfB Steambreather Mastodon Emperor of Sand\n"
     ]
    },
    {
     "name": "stdout",
     "output_type": "stream",
     "text": [
      "612 /1573 : 4X5g2t99BTuLQIRdjGw1Fn Sultan's Curse Mastodon Emperor of Sand\n",
      "613 /1573 : 2aYtAI8xvZLUTZPYZMC6ad Word to the Wise Mastodon Emperor of Sand\n"
     ]
    },
    {
     "name": "stdout",
     "output_type": "stream",
     "text": [
      "614 /1573 : 66IQ0mkE79F2G8UJoTZ8Wh All the Heavy Lifting Mastodon The Hunter\n",
      "615 /1573 : 0ZUFpi7zB4fNwDR9QvCNAx Bedazzled Fingernails Mastodon The Hunter\n"
     ]
    },
    {
     "name": "stdout",
     "output_type": "stream",
     "text": [
      "616 /1573 : 0mc0SaUktWUvWuvLcsbGxo Black Tongue Mastodon The Hunter (Deluxe)\n",
      "617 /1573 : 5Z1dxiIrZGvnViXtY7N8g9 Blasteroid Mastodon The Hunter (Deluxe)\n"
     ]
    },
    {
     "name": "stdout",
     "output_type": "stream",
     "text": [
      "618 /1573 : 0z6SMC3gEs3lc8SNKHWlCP Creature Lives Mastodon The Hunter\n",
      "619 /1573 : 7hUKxjrojKK6r4wiO3G9iU Curl of the Burl Mastodon The Hunter (Deluxe)\n"
     ]
    },
    {
     "name": "stdout",
     "output_type": "stream",
     "text": [
      "620 /1573 : 6ydsoMOdkMhqWdKSVdKfG4 Dry Bone Valley Mastodon The Hunter\n",
      "621 /1573 : 6ebcAa58q1QVhROAfFzUDV Octopus Has No Friends Mastodon The Hunter\n"
     ]
    },
    {
     "name": "stdout",
     "output_type": "stream",
     "text": [
      "622 /1573 : 3pH77UgKQ0kTQ92zQgIXxS Spectrelight Mastodon The Hunter (Deluxe)\n"
     ]
    },
    {
     "name": "stdout",
     "output_type": "stream",
     "text": [
      "623 /1573 : 3rcHLWmRsYKdbTgwMgCfRO Stargasm Mastodon The Hunter (Deluxe)\n",
      "624 /1573 : 7hUKxjrojKK6r4wiO3G9iU Curl of the Burl Mastodon The Hunter (Deluxe)\n"
     ]
    },
    {
     "name": "stdout",
     "output_type": "stream",
     "text": [
      "625 /1573 : 6HrhyuJgFztW0PUkbki2C9 The Sparrow Mastodon The Hunter\n",
      "626 /1573 : 3opV7fLdliwk9tXOkNOs27 Thickening Mastodon The Hunter\n"
     ]
    },
    {
     "name": "stdout",
     "output_type": "stream",
     "text": [
      "627 /1573 : 0AeL6W5DmBC44nYAyycitt Boléro: Tempo di Boléro moderato assai Maurice Ravel Ravel: Boléro, Alborada del gracioso, La Valse and other works\n",
      "628 /1573 : 1B75hgRqe7A4fwee3g3Wmu U Can't Touch This MC Hammer Please Hammer Don't Hurt 'Em\n"
     ]
    },
    {
     "name": "stdout",
     "output_type": "stream",
     "text": [
      "629 /1573 : 3mCeeoBvTTpg8Xy2Wuvirw Bat Out of Hell Meat Loaf Bat Out Of Hell\n",
      "630 /1573 : 1BbocHcTYAu0wCS4NqgRsI Architecture Of Aggression Megadeth Countdown To Extinction\n"
     ]
    },
    {
     "name": "stdout",
     "output_type": "stream",
     "text": [
      "631 /1573 : 2Fkgr7LZTAjakkceB7PwN5 Ashes In Your Mouth - Remastered Megadeth Countdown To Extinction\n",
      "632 /1573 : 3hUTwUiS7H79Po2hnErd8H Captive Honour Megadeth Countdown To Extinction\n"
     ]
    },
    {
     "name": "stdout",
     "output_type": "stream",
     "text": [
      "633 /1573 : 1Mt6BsusgJJln2FMyGFLg1 Countdown To Extinction Megadeth Countdown To Extinction\n"
     ]
    },
    {
     "name": "stdout",
     "output_type": "stream",
     "text": [
      "634 /1573 : 4goJhfQRbNfYybpYf9xmbL Foreclosure Of A Dream - Remastered Megadeth Countdown To Extinction\n"
     ]
    },
    {
     "name": "stdout",
     "output_type": "stream",
     "text": [
      "635 /1573 : 0rzFlOXHVVmL8CvXPL0Fb3 High Speed Dirt Megadeth Countdown To Extinction\n"
     ]
    },
    {
     "name": "stdout",
     "output_type": "stream",
     "text": [
      "636 /1573 : 6HyVffzF6uXt9NHMgEkQpJ Psychotron Megadeth Countdown To Extinction\n"
     ]
    },
    {
     "name": "stdout",
     "output_type": "stream",
     "text": [
      "637 /1573 : 7EFho37SrizYaQ2NVxLejd Skin O' My Teeth - Remastered Megadeth Countdown To Extinction\n",
      "638 /1573 : 6i7IXg8j7ZngiEOgBYjkhw Sweating Bullets - Remastered 2004 Megadeth Countdown To Extinction\n"
     ]
    },
    {
     "name": "stdout",
     "output_type": "stream",
     "text": [
      "639 /1573 : 51TG9W3y9qyO8BY5RXKgnZ Symphony Of Destruction Megadeth Countdown To Extinction\n"
     ]
    },
    {
     "name": "stdout",
     "output_type": "stream",
     "text": [
      "640 /1573 : 0Ad43GBuMZqdInDrwp2HHL This Was My Life Megadeth Countdown To Extinction\n",
      "641 /1573 : 1IbxJ3jbvSLmaecRamvtui Bad Omen - Remastered Megadeth Peace Sells...But Who's Buying?\n"
     ]
    },
    {
     "name": "stdout",
     "output_type": "stream",
     "text": [
      "642 /1573 : 009aJqwtazpcpmOW3YbwDx Devils Island - Remastered Megadeth Peace Sells...But Who's Buying?\n",
      "643 /1573 : 36gQBgUJjbRbrMTyQUNl56 Good Mourning / Black Friday - Remastered Megadeth Peace Sells...But Who's Buying?\n"
     ]
    },
    {
     "name": "stdout",
     "output_type": "stream",
     "text": [
      "644 /1573 : 43gM0PIvpgqv19nFZWRlN3 I Ain't Superstitious - Remastered Megadeth Peace Sells...But Who's Buying?\n",
      "645 /1573 : 6VdoivAOy8oRR6Pmpw4Ux4 My Last Words - Remastered Megadeth Peace Sells...But Who's Buying?\n"
     ]
    },
    {
     "name": "stdout",
     "output_type": "stream",
     "text": [
      "646 /1573 : 5a2hIQWInPjqkkFiUEgxoX Peace Sells - Remastered Megadeth Peace Sells...But Who's Buying (25th Anniversary)\n",
      "647 /1573 : 0pv49erP5wxMZMnprRCqXT The Conjuring - Remastered Megadeth Peace Sells...But Who's Buying?\n"
     ]
    },
    {
     "name": "stdout",
     "output_type": "stream",
     "text": [
      "648 /1573 : 1I3qfFMraXE0kAPtRERpok Wake Up Dead - Remastered Megadeth Peace Sells...But Who's Buying?\n",
      "649 /1573 : 4NwFxag85AYdCel47a3Yhi Dawn Patrol - Remastered 2004 Megadeth Rust In Peace\n"
     ]
    },
    {
     "name": "stdout",
     "output_type": "stream",
     "text": [
      "650 /1573 : 3tISv448Ikxvpq2ZrFyGG2 Five Magics - Remastered 2004 Megadeth Rust In Peace\n",
      "651 /1573 : 6b6uLZsoGhObYexIxnRbIb Hangar 18 - Remastered 2004 Megadeth Rust In Peace\n"
     ]
    },
    {
     "name": "stdout",
     "output_type": "stream",
     "text": [
      "652 /1573 : 5LyRtsQLhcXmy50VXhQXXS Holy Wars...The Punishment Due - Remastered 2004 Megadeth Rust In Peace\n",
      "653 /1573 : 1Bi6Me45Xiqy4kYUGGwBTv Lucretia - Remastered 2004 Megadeth Rust In Peace\n"
     ]
    },
    {
     "name": "stdout",
     "output_type": "stream",
     "text": [
      "654 /1573 : 6bz32FHJGzO5SFYDnLBmG7 My Creation - Remastered 2004 Megadeth Rust In Peace\n",
      "655 /1573 : 6HqnBoikcyjy7I1kbrfhlr Poison Was The Cure - Remastered 2004 Megadeth Rust In Peace\n"
     ]
    },
    {
     "name": "stdout",
     "output_type": "stream",
     "text": [
      "656 /1573 : 0803SWqmIJGvZ15B8zsewn Rust In Peace...Polaris - Remastered 2004 Megadeth Rust In Peace\n",
      "657 /1573 : 1XFSSbQ9fApWNXZMAKllb6 Take No Prisoners - Remastered 2004 Megadeth Rust In Peace\n"
     ]
    },
    {
     "name": "stdout",
     "output_type": "stream",
     "text": [
      "658 /1573 : 4E5xVW505akJX0wcKj8Mpd Tornado Of Souls - Remastered 2004 Megadeth Rust In Peace\n",
      "659 /1573 : 0ep7UTGw3F9VkN9FV52En3 ...And Justice for All (Remastered) Metallica ...And Justice for All (Remastered)\n"
     ]
    },
    {
     "name": "stdout",
     "output_type": "stream",
     "text": [
      "660 /1573 : 0M1pfDTZGWC7cBuEx3FwwT Blackened (Remastered) Metallica ...And Justice for All (Remastered)\n",
      "661 /1573 : 4bAQzjDk9ONZ8gvm5YKEGE Dyers Eve (Remastered) Metallica ...And Justice for All (Remastered)\n"
     ]
    },
    {
     "name": "stdout",
     "output_type": "stream",
     "text": [
      "662 /1573 : 1WnEyhN7Gdu23DQvUZkQy8 Eye of the Beholder (Remastered) Metallica ...And Justice for All (Remastered Deluxe Box Set)\n",
      "663 /1573 : 3IolN0Ae207i0Fr9IHuNbu Harvester of Sorrow (Remastered) Metallica ...And Justice for All (Remastered)\n"
     ]
    },
    {
     "name": "stdout",
     "output_type": "stream",
     "text": [
      "664 /1573 : 0LAcM6I7ijW4VVW0aytl1t One (Remastered) Metallica ...And Justice for All (Remastered Deluxe Box Set)\n"
     ]
    },
    {
     "name": "stdout",
     "output_type": "stream",
     "text": [
      "665 /1573 : 2ZTequNqaDxvv5N7tFrsl9 The Frayed Ends of Sanity (Remastered) Metallica ...And Justice for All (Remastered Deluxe Box Set)\n"
     ]
    },
    {
     "name": "stdout",
     "output_type": "stream",
     "text": [
      "666 /1573 : 2Rn5VhDVELkuB4BjZEVJKr The Shortest Straw (Remastered) Metallica ...And Justice for All (Remastered Deluxe Box Set)\n"
     ]
    },
    {
     "name": "stdout",
     "output_type": "stream",
     "text": [
      "667 /1573 : 1kI7gQPOHJRrQWMyDvYdUW To Live Is to Die (Remastered) Metallica ...And Justice for All (Remastered)\n"
     ]
    },
    {
     "name": "stdout",
     "output_type": "stream",
     "text": [
      "668 /1573 : 0PDThNPaf3ganx4PFmGznK Don't Tread On Me Metallica Metallica\n"
     ]
    },
    {
     "name": "stdout",
     "output_type": "stream",
     "text": [
      "669 /1573 : 5BIMPccDwShpXq784RJlJp Enter Sandman Metallica Metallica\n"
     ]
    },
    {
     "name": "stdout",
     "output_type": "stream",
     "text": [
      "670 /1573 : 1kaB0BvQEmwHeAzNh4jziT Holier Than Thou Metallica Metallica\n"
     ]
    },
    {
     "name": "stdout",
     "output_type": "stream",
     "text": [
      "671 /1573 : 6YwqziI3H71IMishKRTHHg My Friend Of Misery Metallica Metallica\n"
     ]
    },
    {
     "name": "stdout",
     "output_type": "stream",
     "text": [
      "672 /1573 : 10igKaIKsSB6ZnWxPxPvKO Nothing Else Matters Metallica Metallica\n",
      "673 /1573 : 1cojSYj0ugS7tmcwKIxMX4 Of Wolf And Man Metallica Metallica\n",
      "674 /1573 : 1Ug98CRiQYu7wiSym4uLY4 Sad But True Metallica Metallica\n"
     ]
    },
    {
     "name": "stdout",
     "output_type": "stream",
     "text": [
      "675 /1573 : 0h26wQZD5GoSvK5zZuv69E The God That Failed Metallica Metallica\n",
      "676 /1573 : 6RlsFZUCF3bU4NE7BjpDXr The Struggle Within Metallica Metallica\n",
      "677 /1573 : 2lF8jQFhIjpmQa501sYXxR The Unforgiven Metallica Metallica\n"
     ]
    },
    {
     "name": "stdout",
     "output_type": "stream",
     "text": [
      "678 /1573 : 0K8hmlY7fVZLRp3R1JnWLT Through The Never Metallica Metallica\n",
      "679 /1573 : 49rcSzMayJhIwGf0CJCaxJ Wherever I May Roam Metallica Metallica\n"
     ]
    },
    {
     "name": "stdout",
     "output_type": "stream",
     "text": [
      "680 /1573 : 4q9QVIaLqjbcoqeCfM2zan Creeping Death (Remastered) Metallica Ride The Lightning (Deluxe Remaster)\n",
      "681 /1573 : 4SlFMlB9eD0Y48RXVp1ixR Escape (Remastered) Metallica Ride The Lightning (Deluxe Remaster)\n",
      "682 /1573 : 0dqGfCMAGyDgpUAgLNOjWd Fade To Black (Remastered) Metallica Ride The Lightning (Deluxe Remaster)\n"
     ]
    },
    {
     "name": "stdout",
     "output_type": "stream",
     "text": [
      "683 /1573 : 0WSRrGVg1gO33MKIBPgBV2 Fight Fire With Fire (Remastered) Metallica Ride The Lightning (Deluxe Remaster)\n",
      "684 /1573 : 51YZAJhOwIC5Gg3jMbAmhZ For Whom The Bell Tolls (Remastered) Metallica Ride The Lightning (Deluxe Remaster)\n"
     ]
    },
    {
     "name": "stdout",
     "output_type": "stream",
     "text": [
      "685 /1573 : 36DLF96pjKydN0MZtsahQz Ride The Lightning (Remastered) Metallica Ride The Lightning (Deluxe Remaster)\n",
      "686 /1573 : 1E2AfYuobMm18cKEoQaRob The Call Of Ktulu (Remastered) Metallica Ride The Lightning (Deluxe Remaster)\n"
     ]
    },
    {
     "name": "stdout",
     "output_type": "stream",
     "text": [
      "687 /1573 : 3lVAAVOkfNyCii1aLgH3JX Trapped Under Ice (Remastered) Metallica Ride The Lightning (Deluxe Remaster)\n",
      "688 /1573 : 6sJT6EIer5VO2T05Qbg3cC Devil's Dance - Live with the SFSO Metallica S&M\n"
     ]
    },
    {
     "name": "stdout",
     "output_type": "stream",
     "text": [
      "689 /1573 : 6EmUlknZSc3QK8JSk7F2Qt For Whom The Bell Tolls - Live with the SFSO Metallica S&M\n",
      "690 /1573 : 7yQP0dsMgIV5FJT94htpxe Fuel - Live with the SFSO Metallica S&M\n"
     ]
    },
    {
     "name": "stdout",
     "output_type": "stream",
     "text": [
      "691 /1573 : 0wFL6kJKvHY6t5OcOiAbCZ Master Of Puppets - Live with the SFSO Metallica S&M\n"
     ]
    },
    {
     "name": "stdout",
     "output_type": "stream",
     "text": [
      "692 /1573 : 0n4AllHzf3ma4ki20Y9h00 No Leaf Clover - Live with the SFSO Metallica S&M\n"
     ]
    },
    {
     "name": "stdout",
     "output_type": "stream",
     "text": [
      "693 /1573 : 0oYB2jJWFABCjNRY4KSZ9w Of Wolf And Man - Live with the SFSO Metallica S&M\n"
     ]
    },
    {
     "name": "stdout",
     "output_type": "stream",
     "text": [
      "694 /1573 : 7KLL4TSjeDuFo6VtM9gNWk The Call Of Ktulu - Live with the SFSO Metallica S&M\n",
      "695 /1573 : 4jfrFYcMWGojddctOCCSjL The Memory Remains - Live with the SFSO Metallica S&M\n"
     ]
    },
    {
     "name": "stdout",
     "output_type": "stream",
     "text": [
      "696 /1573 : 37DziDjAAxRySqsYGNYBlW The Thing That Should Not Be - Live with the SFSO Metallica S&M\n",
      "697 /1573 : 21VCYxPZ8A2XpSNUyQCT3B Another Part of Me - 2012 Remaster Michael Jackson Bad 25th Anniversary\n"
     ]
    },
    {
     "name": "stdout",
     "output_type": "stream",
     "text": [
      "698 /1573 : 5lWFrW5T3JtxVCLDb7etPu Bad - 2012 Remaster Michael Jackson Bad 25th Anniversary\n",
      "699 /1573 : 3yBlJtq86wROQpHi1goEKT Dirty Diana - 2012 Remaster Michael Jackson Bad 25th Anniversary\n"
     ]
    },
    {
     "name": "stdout",
     "output_type": "stream",
     "text": [
      "700 /1573 : 2fytePz8UsbUr8n33QBEcm I Just Can't Stop Loving You (feat. Siedah Garrett) - 2012 Remaster Michael Jackson Bad 25th Anniversary\n",
      "701 /1573 : 75Rv9SkGILm24kmhAYvjZg Just Good Friends - 2012 Remaster Michael Jackson Bad 25th Anniversary\n"
     ]
    },
    {
     "name": "stdout",
     "output_type": "stream",
     "text": [
      "702 /1573 : 2jQfozDpitT8lVEYoOjmeR Leave Me Alone - 2012 Remaster Michael Jackson Bad 25th Anniversary\n",
      "703 /1573 : 5OoRmdDfAiDztSwrhe7wuE Liberian Girl - 2012 Remastered Version Michael Jackson Bad 25th Anniversary\n"
     ]
    },
    {
     "name": "stdout",
     "output_type": "stream",
     "text": [
      "704 /1573 : 1kiNatIrwDusOZfR29W0LJ Man in the Mirror - 2012 Remaster Michael Jackson Bad 25th Anniversary\n",
      "705 /1573 : 2bCQHF9gdG5BNDVuEIEnNk Smooth Criminal - 2012 Remaster Michael Jackson Bad 25th Anniversary\n"
     ]
    },
    {
     "name": "stdout",
     "output_type": "stream",
     "text": [
      "706 /1573 : 2w7VEWHtt8WW88Yt5H9ibZ Speed Demon - 2012 Remaster Michael Jackson Bad 25th Anniversary\n"
     ]
    },
    {
     "name": "stdout",
     "output_type": "stream",
     "text": [
      "707 /1573 : 0sKlV58cODrjxGFOyf9IXY The Way You Make Me Feel - 2012 Remaster Michael Jackson Bad 25th Anniversary\n"
     ]
    },
    {
     "name": "stdout",
     "output_type": "stream",
     "text": [
      "708 /1573 : 6XYbMGvtl6tlPoGWaiH7EY Baby Be Mine Michael Jackson Thriller\n"
     ]
    },
    {
     "name": "stdout",
     "output_type": "stream",
     "text": [
      "709 /1573 : 1OOtq8tRnDM8kG2gqUPjAj Beat It - Single Version Michael Jackson Thriller 25 Super Deluxe Edition\n"
     ]
    },
    {
     "name": "stdout",
     "output_type": "stream",
     "text": [
      "710 /1573 : 5ChkMS8OtdzJeqyybCc9R5 Billie Jean Michael Jackson Thriller 25 Super Deluxe Edition\n",
      "711 /1573 : 35lAjvsvS9k9HHuP1fjDT8 Human Nature Michael Jackson Thriller 25 Super Deluxe Edition\n"
     ]
    },
    {
     "name": "stdout",
     "output_type": "stream",
     "text": [
      "712 /1573 : 5lA3pwMkBdd24StM90QrNR P.Y.T. (Pretty Young Thing) Michael Jackson Thriller 25 Super Deluxe Edition\n",
      "713 /1573 : 1diEQsD8PJC9hXB5Gpfgtn The Girl Is Mine (with Paul McCartney) Michael Jackson Thriller 25 Super Deluxe Edition\n"
     ]
    },
    {
     "name": "stdout",
     "output_type": "stream",
     "text": [
      "714 /1573 : 07L1pzoVerhRSSaDGZHrKy The Lady in My Life Michael Jackson Thriller\n",
      "715 /1573 : 3S2R0EVwBSAVMd5UMgKTL0 Thriller Michael Jackson Thriller 25 Super Deluxe Edition\n"
     ]
    },
    {
     "name": "stdout",
     "output_type": "stream",
     "text": [
      "716 /1573 : 2kulOHR2XY6YDZCWXb38hn Wanna Be Startin' Somethin' Michael Jackson Thriller 25 Super Deluxe Edition\n",
      "717 /1573 : 5jJ69cMDMC0aeWPjZo6VP2 Lampshades on Fire Modest Mouse Strangers to Ourselves\n"
     ]
    },
    {
     "name": "stdout",
     "output_type": "stream",
     "text": [
      "718 /1573 : 1hqrYSqvNc9x3BETX1cZhk Shout At The Devil Mötley Crüe Shout At The Devil\n",
      "719 /1573 : 6VWyeR6Pmw0J1WSwntKeve Requiem in D minor, K.626: 1. Introitus: Requiem Wolfgang Amadeus Mozart Mozart: Requiem; Kyrie in D minor\n"
     ]
    },
    {
     "name": "stdout",
     "output_type": "stream",
     "text": [
      "720 /1573 : 7JU3UNQBit19qmCGG0tQej Requiem In D Minor, K 626 - 1. Introitus - Requiem Aeternam - 2. Kyrie Eleison Wolfgang Amadeus Mozart Mozart: Requiem\n",
      "artist:Mozart track:3. Sequenta: Confutatis album:Requiem in D minor K 626 not in spotify\n"
     ]
    },
    {
     "name": "stdout",
     "output_type": "stream",
     "text": [
      "artist:Mozart track:3. Sequenta: Lacrimosa album:Requiem in D minor K 626 not in spotify\n"
     ]
    },
    {
     "name": "stdout",
     "output_type": "stream",
     "text": [
      "artist:Mozart track:3. Sequenta: Recordare album:Requiem in D minor K 626 not in spotify\n"
     ]
    },
    {
     "name": "stdout",
     "output_type": "stream",
     "text": [
      "artist:Mozart track:3. Sequenta: Rex tremendae album:Requiem in D minor K 626 not in spotify\n"
     ]
    },
    {
     "name": "stdout",
     "output_type": "stream",
     "text": [
      "artist:Mozart track:3. Sequentia: Tubamirum album:Requiem in D minor K 626 not in spotify\n"
     ]
    },
    {
     "name": "stdout",
     "output_type": "stream",
     "text": [
      "artist:Mozart track:3a. Sequienta: Dies irae album:Requiem in D minor K 626 not in spotify\n"
     ]
    },
    {
     "name": "stdout",
     "output_type": "stream",
     "text": [
      "727 /1573 : 6Z9aBb0KnfthWGAp5rFxKq Requiem in D Minor, K. 626: 4. Offertorium: Domine Jesu - Live Wolfgang Amadeus Mozart Mozart: Requiem\n",
      "728 /1573 : 2VCIxkK8jmTEwcCtn9AS73 Requiem in D Minor, K. 626: 4. Offertorium: Hostias - Live Wolfgang Amadeus Mozart Mozart: Requiem\n"
     ]
    },
    {
     "name": "stdout",
     "output_type": "stream",
     "text": [
      "729 /1573 : 1KXdIKMxoD9kDBbJyTes4L Requiem in D Minor, K. 626: 5. Sanctus - Live Wolfgang Amadeus Mozart Mozart: Requiem\n",
      "730 /1573 : 6KMRgOVnicZuBxs86z6ZUZ Requiem in D Minor, K. 626: 6. Benedictus - Live Wolfgang Amadeus Mozart Mozart: Requiem\n"
     ]
    },
    {
     "name": "stdout",
     "output_type": "stream",
     "text": [
      "731 /1573 : 4HwQUYEHODAq2nr6ea2O7s Requiem in D Minor, K. 626: 7. Agnus Dei - Live Wolfgang Amadeus Mozart Mozart: Requiem\n",
      "732 /1573 : 04481CKq8ZtRoXbYjC0ZFp Requiem in D Minor, K. 626: 8. Communio: Lux aeterna - Live Wolfgang Amadeus Mozart Mozart: Requiem\n"
     ]
    },
    {
     "name": "stdout",
     "output_type": "stream",
     "text": [
      "733 /1573 : 6JnFVmPyJvjnfBag0hhIFa Assassin Muse Black Holes and Revelations\n",
      "734 /1573 : 3Sno9FE8r2uz8QP0MtnTPL City of Delusion Muse Black Holes and Revelations\n"
     ]
    },
    {
     "name": "stdout",
     "output_type": "stream",
     "text": [
      "735 /1573 : 20vZII9Yu52czI9Fk4p39r Exo-Politics Muse Black Holes and Revelations\n",
      "736 /1573 : 6IfitwQQ1Gu9g9QnLWDHRY Glorious Muse Black Holes and Revelations\n"
     ]
    },
    {
     "name": "stdout",
     "output_type": "stream",
     "text": [
      "737 /1573 : 0EkE0ripJ9OFNzvZANzo5C Hoodoo Muse Black Holes and Revelations\n",
      "738 /1573 : 2zmR3FG7iOGDAdwrVPzdg9 Invincible Muse Black Holes and Revelations\n",
      "739 /1573 : 7ouMYWpwJ422jRcDASZB7P Knights of Cydonia Muse Black Holes and Revelations\n"
     ]
    },
    {
     "name": "stdout",
     "output_type": "stream",
     "text": [
      "740 /1573 : 5YXr4AGfUQpLSxtFSsKUh6 Map of the Problematique Muse Black Holes and Revelations\n"
     ]
    },
    {
     "name": "stdout",
     "output_type": "stream",
     "text": [
      "741 /1573 : 6jH5aCuXgtygWpx7BF54at Soldier's Poem Muse Black Holes and Revelations\n",
      "742 /1573 : 3skn2lauGk7Dx6bVIt5DVj Starlight Muse Black Holes and Revelations\n"
     ]
    },
    {
     "name": "stdout",
     "output_type": "stream",
     "text": [
      "743 /1573 : 3lPr8ghNDBLc2uZovNyLs9 Supermassive Black Hole Muse Black Holes and Revelations\n",
      "744 /1573 : 4jrCMOG9OPe6iF4vWFxatb Take a Bow Muse Black Holes and Revelations\n"
     ]
    },
    {
     "name": "stdout",
     "output_type": "stream",
     "text": [
      "745 /1573 : 4Y7fEQ4PAzhlLnLviRw2P4 Rockin' in the Free World Neil Young Freedom\n"
     ]
    },
    {
     "name": "stdout",
     "output_type": "stream",
     "text": [
      "746 /1573 : 1vGmdXBUWksAsi2NlhMNwR Aeon Neurosis Through Silver In Blood\n"
     ]
    },
    {
     "name": "stdout",
     "output_type": "stream",
     "text": [
      "747 /1573 : 1BpIsdibg1tudFkLDPerzQ Become the Ocean Neurosis Through Silver In Blood\n"
     ]
    },
    {
     "name": "stdout",
     "output_type": "stream",
     "text": [
      "748 /1573 : 6LfseiBqkTtyONP8SztCcD Enclosure In Flame Neurosis Through Silver In Blood\n"
     ]
    },
    {
     "name": "stdout",
     "output_type": "stream",
     "text": [
      "749 /1573 : 56bAgMY066gE5GoWAqcxcg Eye Neurosis Through Silver In Blood\n"
     ]
    },
    {
     "name": "stdout",
     "output_type": "stream",
     "text": [
      "750 /1573 : 1Sb2dgS6ruZnJYNQ3SxLHd Locust Star Neurosis Through Silver In Blood\n"
     ]
    },
    {
     "name": "stdout",
     "output_type": "stream",
     "text": [
      "751 /1573 : 7lxlrqS1dCBmdAgXI4cR9P Purify Neurosis Through Silver In Blood\n"
     ]
    },
    {
     "name": "stdout",
     "output_type": "stream",
     "text": [
      "752 /1573 : 5BBfllI8hk4r2GK7bWtCzl Rehumanize Neurosis Through Silver In Blood\n",
      "753 /1573 : 6O3NHOrGfwf7KXM1EsTtHf Strength of Fates Neurosis Through Silver In Blood\n"
     ]
    },
    {
     "name": "stdout",
     "output_type": "stream",
     "text": [
      "754 /1573 : 7eyK2gnvdlOwqHv8YH9bK7 Through Silver In Blood Neurosis Through Silver In Blood\n",
      "755 /1573 : 0gmbgwZ8iqyMPmXefof8Yf How You Remind Me Nickelback Silver Side Up\n",
      "756 /1573 : 0F9006OrjS0L9w0e9dVeZA 7 Days to the Wolves Nightwish Dark Passion Play\n"
     ]
    },
    {
     "name": "stdout",
     "output_type": "stream",
     "text": [
      "757 /1573 : 1vzqcPRQ6P1Uw7NZ5M77wJ Amaranth Nightwish Dark Passion Play\n",
      "758 /1573 : 0uzJU4LpKHBU1qrAhIJ4mY Bye Bye Beautiful Nightwish Dark Passion Play\n"
     ]
    },
    {
     "name": "stdout",
     "output_type": "stream",
     "text": [
      "759 /1573 : 52Fd9jBTFmqKBNm0gTmu8t Cadence of Her Last Breath Nightwish Dark Passion Play\n",
      "760 /1573 : 0bWX6lLV1DgCW2KhXcQNAB Eva [Demo] Nightwish 'The Sounds of Nightwish Reborn: Early Demos for \"Dark Passion Play\" and B-Sides'\n"
     ]
    },
    {
     "name": "stdout",
     "output_type": "stream",
     "text": [
      "761 /1573 : 1jQHkVzpp96U6EbPTBE3Ha For the Heart I Once Had Nightwish Dark Passion Play\n",
      "762 /1573 : 4LcsZa53i4Rx3duMU9ApkI Last of the Wilds Nightwish Dark Passion Play\n",
      "763 /1573 : 5l2genxxVzjKbzHr0raAZP Master Passion Greed Nightwish Dark Passion Play\n"
     ]
    },
    {
     "name": "stdout",
     "output_type": "stream",
     "text": [
      "764 /1573 : 57jrg8U5c3NZUf87xQ8v9V Meadows of Heaven Nightwish Dark Passion Play\n",
      "765 /1573 : 5E21wrJBYW6gQSwfrRQrOC Sahara Nightwish Dark Passion Play\n"
     ]
    },
    {
     "name": "stdout",
     "output_type": "stream",
     "text": [
      "766 /1573 : 4A1UYa2fFUevK7xW3aKD9L The Islander Nightwish Dark Passion Play\n"
     ]
    },
    {
     "name": "stdout",
     "output_type": "stream",
     "text": [
      "767 /1573 : 2Zr87XD5AeRko0ab9NIp79 The Poet and the Pendulum Nightwish Dark Passion Play\n"
     ]
    },
    {
     "name": "stdout",
     "output_type": "stream",
     "text": [
      "768 /1573 : 17TMhgqazTXD9jn9zEuClm Whoever Brings the Night Nightwish Dark Passion Play\n"
     ]
    },
    {
     "name": "stdout",
     "output_type": "stream",
     "text": [
      "769 /1573 : 6utuFCvF34xhmwwwFAYntF Endlessness Nightwish HUMAN. :II: NATURE.\n"
     ]
    },
    {
     "name": "stdout",
     "output_type": "stream",
     "text": [
      "770 /1573 : 06h4HxzQkqx45lCRxDe4lA Harvest Nightwish HUMAN. :II: NATURE.\n"
     ]
    },
    {
     "name": "stdout",
     "output_type": "stream",
     "text": [
      "771 /1573 : 6lkVbijlh932FSS2I0gDrR How's the Heart? Nightwish HUMAN. :II: NATURE.\n"
     ]
    },
    {
     "name": "stdout",
     "output_type": "stream",
     "text": [
      "772 /1573 : 49LQq6RoFTWFk5d6hBGEKt Music Nightwish HUMAN. :II: NATURE.\n",
      "773 /1573 : 0RZVAhyB8vhxQz6ITjiuyA Noise Nightwish HUMAN. :II: NATURE.\n"
     ]
    },
    {
     "name": "stdout",
     "output_type": "stream",
     "text": [
      "774 /1573 : 1XcTT3XqNalzJMamAiIqOW Pan Nightwish HUMAN. :II: NATURE.\n"
     ]
    },
    {
     "name": "stdout",
     "output_type": "stream",
     "text": [
      "775 /1573 : 7aIxfEHjebCNbs6bpKv9Go Procession Nightwish HUMAN. :II: NATURE.\n"
     ]
    },
    {
     "name": "stdout",
     "output_type": "stream",
     "text": [
      "776 /1573 : 5xITcnqoMdILDBNCwHGr5v Shoemaker Nightwish HUMAN. :II: NATURE.\n",
      "777 /1573 : 5tN4bKhtt6klkkB0GVt9i1 Tribal Nightwish HUMAN. :II: NATURE.\n"
     ]
    },
    {
     "name": "stdout",
     "output_type": "stream",
     "text": [
      "778 /1573 : 6yRTuuYsGhceeI1QQ9KfDQ Réseaux Niska NOUVEL AN RAP FR\n"
     ]
    },
    {
     "name": "stdout",
     "output_type": "stream",
     "text": [
      "779 /1573 : 4vJr55lngvhSM8WIh9CjQc Cemetery Gates Pantera Cowboys from Hell\n"
     ]
    },
    {
     "name": "stdout",
     "output_type": "stream",
     "text": [
      "780 /1573 : 2SgbR6ttzoNlCRGQOKjrop Cowboys from Hell Pantera Cowboys from Hell\n",
      "781 /1573 : 769cLRTw2y6KRdkFWFkxtu Domination Pantera Cowboys from Hell\n"
     ]
    },
    {
     "name": "stdout",
     "output_type": "stream",
     "text": [
      "782 /1573 : 4c6yZLnA730uJgQf9fTW2M Heresy Pantera Cowboys from Hell\n"
     ]
    },
    {
     "name": "stdout",
     "output_type": "stream",
     "text": [
      "783 /1573 : 6lJJcUjhsp0TJRuzUIPOYO Primal Concrete Sledge Pantera Cowboys from Hell\n"
     ]
    },
    {
     "name": "stdout",
     "output_type": "stream",
     "text": [
      "784 /1573 : 5JCZHWdFLg2rXtg684rTHt Psycho Holiday Pantera Cowboys from Hell\n",
      "785 /1573 : 5APqyicPSWwJgFH8D9a8i3 Shattered Pantera Cowboys from Hell\n"
     ]
    },
    {
     "name": "stdout",
     "output_type": "stream",
     "text": [
      "786 /1573 : 59dUIzMJxeMVzLDW7efLic Elusive Cure Paradise Lost Draconian Times\n",
      "787 /1573 : 4tTLo644XcmhYRzpDZdnlb Enchantment - 2011 Remasterred Paradise Lost Draconian Times (Legacy Edition)\n"
     ]
    },
    {
     "name": "stdout",
     "output_type": "stream",
     "text": [
      "788 /1573 : 5OTOUyo18hGb3p1QeLOsp8 Forever Failure Paradise Lost Draconian Times\n"
     ]
    },
    {
     "name": "stdout",
     "output_type": "stream",
     "text": [
      "789 /1573 : 0ibuggkWTSDXHo25S0Qqvj Hallowed Land Paradise Lost Draconian Times\n"
     ]
    },
    {
     "name": "stdout",
     "output_type": "stream",
     "text": [
      "790 /1573 : 41eLsM7dWBxeHJg2mO5PYY Hands Of Reason Paradise Lost Draconian Times\n"
     ]
    },
    {
     "name": "stdout",
     "output_type": "stream",
     "text": [
      "791 /1573 : 4SlBn3adjzgtT0rEW1wdKJ I See Your Face Paradise Lost Draconian Times\n"
     ]
    },
    {
     "name": "stdout",
     "output_type": "stream",
     "text": [
      "792 /1573 : 4ojsxsOZL3HBXALCCQV2Dg Jaded Paradise Lost Draconian Times\n"
     ]
    },
    {
     "name": "stdout",
     "output_type": "stream",
     "text": [
      "793 /1573 : 613fYhrrubkEQAjkfHREt4 Once Solemn Paradise Lost Draconian Times\n",
      "794 /1573 : 0e5X7i3AtGbg0P8Ui4RKVN Shades Of God Paradise Lost Draconian Times\n"
     ]
    },
    {
     "name": "stdout",
     "output_type": "stream",
     "text": [
      "795 /1573 : 4YdNlZSNrJhNCfqYhI1ENF Shadowkings Paradise Lost Draconian Times\n",
      "796 /1573 : 76bUvHShiaBaCOpeMMP8F0 The Last Time Paradise Lost Draconian Times\n"
     ]
    },
    {
     "name": "stdout",
     "output_type": "stream",
     "text": [
      "797 /1573 : 7L4ruNa5TK7ykKr6zfBn6q Yearn For Change Paradise Lost Draconian Times\n",
      "798 /1573 : 3R1DPDoWdFdPeBj4aLwqBo Bemyself - from Hansa Studios, Berlin Parcels Live Vol. 1\n",
      "799 /1573 : 4Y668YELGKHZ36nfTE3eBu Closetowhy - from Hansa Studios, Berlin Parcels Live Vol. 1\n"
     ]
    },
    {
     "name": "stdout",
     "output_type": "stream",
     "text": [
      "800 /1573 : 6GQEhwaBBC1E2pzlRlGity Comedown - from Hansa Studios, Berlin Parcels Live Vol. 1\n",
      "801 /1573 : 04YsaTosW9B6i4yaTp766U Elude - from Hansa Studios, Berlin Parcels Live Vol. 1\n",
      "802 /1573 : 55ePH4TKRkvSBmg5kI8K1m Enter - from Hansa Studios, Berlin Parcels Live Vol. 1\n"
     ]
    },
    {
     "name": "stdout",
     "output_type": "stream",
     "text": [
      "803 /1573 : 2s7nxagCl9fnFUoNIQxjnp Everyroad - from Hansa Studios, Berlin Parcels Live Vol. 1\n",
      "804 /1573 : 53ElE1J1DwuwVxpINXYJpb Gamesofluck - from Hansa Studios, Berlin Parcels Live Vol. 1\n",
      "805 /1573 : 4M3MUIXtQLN2qRPcwcpHzW IknowhowIfeel - from Hansa Studios, Berlin Parcels Live Vol. 1\n"
     ]
    },
    {
     "name": "stdout",
     "output_type": "stream",
     "text": [
      "806 /1573 : 4l9uFziLnJgpdBoBqUtoum Intrude - from Hansa Studios, Berlin Parcels Live Vol. 1\n",
      "807 /1573 : 0ZcOprrr9ubO9ORfjbHjsx Lightenup - from Hansa Studios, Berlin Parcels Live Vol. 1\n"
     ]
    },
    {
     "name": "stdout",
     "output_type": "stream",
     "text": [
      "808 /1573 : 0oEUagxKUH6rKFYlqNC7rz Myenemy - from Hansa Studios, Berlin Parcels Live Vol. 1\n",
      "809 /1573 : 0ax2Np3bXCUXCcYmcX5x1x Overnight - from Hansa Studios, Berlin Parcels Live Vol. 1\n"
     ]
    },
    {
     "name": "stdout",
     "output_type": "stream",
     "text": [
      "810 /1573 : 0QugsGHunz3peiUxRg51WE Redline - from Hansa Studios, Berlin Parcels Live Vol. 1\n",
      "811 /1573 : 35kZ2D9sADNOZ53zWOljkQ Retuned - from Hansa Studios, Berlin Parcels Live Vol. 1\n"
     ]
    },
    {
     "name": "stdout",
     "output_type": "stream",
     "text": [
      "812 /1573 : 4cyygA6kLAF2H6QqwmACHd Tieduprightnow - from Hansa Studios, Berlin Parcels Live Vol. 1\n",
      "813 /1573 : 6VQDFodEZkjmfAqCCcVLOm Untried - from Hansa Studios, Berlin Parcels Live Vol. 1\n"
     ]
    },
    {
     "name": "stdout",
     "output_type": "stream",
     "text": [
      "814 /1573 : 6GGXja13qA0BYNNAqgXQxS Withorwithout - from Hansa Studios, Berlin Parcels Live Vol. 1\n",
      "815 /1573 : 2TeGrk8lm2DhSnAx63KAqv Yourfault - from Hansa Studios, Berlin Parcels Live Vol. 1\n"
     ]
    },
    {
     "name": "stdout",
     "output_type": "stream",
     "text": [
      "artist:Parkway Drive track:Prey album:Prey not in spotify\n",
      "817 /1573 : 2jvuMDqBK04WvCYYz5qjvG Dogs Pink Floyd Animals\n"
     ]
    },
    {
     "name": "stdout",
     "output_type": "stream",
     "text": [
      "818 /1573 : 0gEaeqVRHPzRc7HMXtOKc7 Pigs (Three Different Ones) Pink Floyd Animals\n"
     ]
    },
    {
     "name": "stdout",
     "output_type": "stream",
     "text": [
      "819 /1573 : 7krbQbYq63hcwVMNW1R0tD A Pillow of Winds Pink Floyd Meddle\n"
     ]
    },
    {
     "name": "stdout",
     "output_type": "stream",
     "text": [
      "820 /1573 : 7kriFJLY2KOhw5en9iI2jb Echoes Pink Floyd Meddle\n"
     ]
    },
    {
     "name": "stdout",
     "output_type": "stream",
     "text": [
      "821 /1573 : 7AalBKBoLDR4UmRYRJpdbj Fearless Pink Floyd Meddle\n"
     ]
    },
    {
     "name": "stdout",
     "output_type": "stream",
     "text": [
      "822 /1573 : 6uU0Hu8oVk9gBihokcrDMH One of These Days Pink Floyd Meddle\n"
     ]
    },
    {
     "name": "stdout",
     "output_type": "stream",
     "text": [
      "823 /1573 : 3kbUFmLV5SHVQonfOpNgkd San Tropez Pink Floyd Meddle\n"
     ]
    },
    {
     "name": "stdout",
     "output_type": "stream",
     "text": [
      "824 /1573 : 05lNdqc6FhcsxCfS8lJzyE Seamus Pink Floyd Meddle\n"
     ]
    },
    {
     "name": "stdout",
     "output_type": "stream",
     "text": [
      "825 /1573 : 3Y8gNcoJu1uJ5L1BZuGvqB Astronomy Domine Pink Floyd The Piper at the Gates of Dawn\n"
     ]
    },
    {
     "name": "stdout",
     "output_type": "stream",
     "text": [
      "826 /1573 : 4gJrRkskBk1oyooA4qm67a Bike Pink Floyd The Piper at the Gates of Dawn\n"
     ]
    },
    {
     "name": "stdout",
     "output_type": "stream",
     "text": [
      "827 /1573 : 0j9iv7tRpEpTGSGpkCMJve Chapter 24 Pink Floyd The Piper at the Gates of Dawn\n"
     ]
    },
    {
     "name": "stdout",
     "output_type": "stream",
     "text": [
      "828 /1573 : 4r74qNo5usVTNhBZwo1Hg6 Flaming Pink Floyd The Piper at the Gates of Dawn\n"
     ]
    },
    {
     "name": "stdout",
     "output_type": "stream",
     "text": [
      "829 /1573 : 3xyTufSSGLP3oZnomceAVW Interstellar Overdrive Pink Floyd The Piper at the Gates of Dawn\n",
      "830 /1573 : 0lT4imdjSzpCtooUccYAKj Lucifer Sam Pink Floyd The Piper at the Gates of Dawn\n"
     ]
    },
    {
     "name": "stdout",
     "output_type": "stream",
     "text": [
      "831 /1573 : 6SlI8JYwFaESqre47wrQZz Matilda Mother Pink Floyd The Piper at the Gates of Dawn\n",
      "832 /1573 : 0X0SM0KFf88MFvvnJNmi6D Pow R. Toc H. Pink Floyd The Piper at the Gates of Dawn\n"
     ]
    },
    {
     "name": "stdout",
     "output_type": "stream",
     "text": [
      "833 /1573 : 1aV8FeJiQpZXFY35rLNNu0 The Scarecrow Pink Floyd The Piper at the Gates of Dawn\n",
      "834 /1573 : 6q3URBXG6Tr9pMU0bOlvrc Take Up Thy Stethoscope and Walk Pink Floyd The Piper at the Gates of Dawn\n"
     ]
    },
    {
     "name": "stdout",
     "output_type": "stream",
     "text": [
      "835 /1573 : 1GqRmuG89ILDLcuAdcli6r The Gnome Pink Floyd The Piper at the Gates of Dawn\n"
     ]
    },
    {
     "name": "stdout",
     "output_type": "stream",
     "text": [
      "836 /1573 : 3CmHvyZQQAGkKkTjTBFWN6 Have a Cigar Pink Floyd Wish You Were Here\n",
      "837 /1573 : 6pnwfWyaWjQiHCKTiZLItr Shine On You Crazy Diamond (Pts. 1-5) Pink Floyd Wish You Were Here\n"
     ]
    },
    {
     "name": "stdout",
     "output_type": "stream",
     "text": [
      "838 /1573 : 21j1PsCiTaO8ZW88UZrh3A Shine On You Crazy Diamond (Pts. 6-9) Pink Floyd Wish You Were Here\n",
      "839 /1573 : 5VWC7v2dC2K0SIIjT9WTLN Welcome to the Machine Pink Floyd Wish You Were Here\n"
     ]
    },
    {
     "name": "stdout",
     "output_type": "stream",
     "text": [
      "840 /1573 : 6mFkJmJqdDVQ1REhVfGgd1 Wish You Were Here Pink Floyd Wish You Were Here\n",
      "841 /1573 : 5IJbTPhcj0IjdzUaYqwe2I Stfu Pink Guy Pink Season\n"
     ]
    },
    {
     "name": "stdout",
     "output_type": "stream",
     "text": [
      "842 /1573 : 3dPmG97SN3qgYlkBA205x8 .3 Porcupine Tree In Absentia\n",
      "843 /1573 : 2WObDBPZ4UZ8yBBf1R41QL Blackest Eyes Porcupine Tree In Absentia\n"
     ]
    },
    {
     "name": "stdout",
     "output_type": "stream",
     "text": [
      "artist:Porcupine Tree track:Chloroform album:In Absentia not in spotify\n",
      "845 /1573 : 31ZT15OJPYjl1kqLeWssC9 Collapse The Light Into Earth Porcupine Tree In Absentia\n"
     ]
    },
    {
     "name": "stdout",
     "output_type": "stream",
     "text": [
      "artist:Porcupine Tree track:Drown With Me album:In Absentia not in spotify\n",
      "847 /1573 : 49vKZifxRayUeUQ0TIEX0l Gravity Eyelids Porcupine Tree In Absentia\n"
     ]
    },
    {
     "name": "stdout",
     "output_type": "stream",
     "text": [
      "artist:Porcupine Tree track:Heartattack in a Lay By album:In Absentia not in spotify\n"
     ]
    },
    {
     "name": "stdout",
     "output_type": "stream",
     "text": [
      "849 /1573 : 1UrogDOQaZOJbeiGDGqGwm Lips Of Ashes Porcupine Tree In Absentia\n",
      "850 /1573 : 013rp6MswL21Cq25JorvOI Prodigal Porcupine Tree In Absentia\n"
     ]
    },
    {
     "name": "stdout",
     "output_type": "stream",
     "text": [
      "851 /1573 : 7ajEtAFkT5vPxx1YTePSz2 Strip The Soul Porcupine Tree In Absentia\n",
      "852 /1573 : 2YF8IpCJWnrT0pZgZzehgH The Creator Has A Mastertape Porcupine Tree In Absentia\n"
     ]
    },
    {
     "name": "stdout",
     "output_type": "stream",
     "text": [
      "853 /1573 : 3OMCZSG5TbqJBKKRmtJciA The Sound Of Muzak Porcupine Tree In Absentia\n",
      "854 /1573 : 5lBQ3mnWsYIt5aCdgz1U9n Trains Porcupine Tree In Absentia\n"
     ]
    },
    {
     "name": "stdout",
     "output_type": "stream",
     "text": [
      "855 /1573 : 4jiUX9HRDTbTgEIGHDarfr Wedding Nails Porcupine Tree In Absentia\n",
      "856 /1573 : 6QgjcU0zLnzq5OrUoSZ3OK Feel It Still Portugal. The Man Woodstock\n",
      "artist:PostmodernJukebox track:Feel It Still album:N/A not in spotify\n"
     ]
    },
    {
     "name": "stdout",
     "output_type": "stream",
     "text": [
      "858 /1573 : 0KLhqAUHQli9bUNbS3KZtI Midnight Madonna Powerwolf Midnight Madonna\n",
      "859 /1573 : 23vc53BVj9eqIBYwX5c07n Amen & Attack Powerwolf Preachers Of The Night\n"
     ]
    },
    {
     "name": "stdout",
     "output_type": "stream",
     "text": [
      "860 /1573 : 2TndNxhljDChvNEhMxCEgv Cardinal Sin Powerwolf Preachers Of The Night\n",
      "861 /1573 : 0upmTdxGVCNNAbuJpadks9 Coleus Sanctus Powerwolf Preachers Of The Night\n"
     ]
    },
    {
     "name": "stdout",
     "output_type": "stream",
     "text": [
      "862 /1573 : 4LVAEVrwNja98sZwS3Busy Extatum Et Oratum Powerwolf Preachers Of The Night\n"
     ]
    },
    {
     "name": "stdout",
     "output_type": "stream",
     "text": [
      "863 /1573 : 7fxl1Bfxurjuk3QXCdH5i1 In The Name Of God (Deus Vult) Powerwolf Preachers Of The Night\n",
      "864 /1573 : 7AJnfdIDMTd562jntLSq14 Kreuzfeuer Powerwolf Preachers Of The Night\n",
      "865 /1573 : 4mvXJzYlZEEfSX2IQVltt9 Last Of The Living Dead Powerwolf Preachers Of The Night\n"
     ]
    },
    {
     "name": "stdout",
     "output_type": "stream",
     "text": [
      "866 /1573 : 5G4pwsu6vQZRdmyKtFdv6o Lust For Blood Powerwolf Preachers Of The Night\n",
      "867 /1573 : 1scZvFoSgjh4HQMWOuHrCX Nochnoi Dozor Powerwolf Preachers Of The Night\n"
     ]
    },
    {
     "name": "stdout",
     "output_type": "stream",
     "text": [
      "868 /1573 : 4fX7lPaQ7LseZEps7n8Z05 Sacred & Wild Powerwolf Preachers Of The Night\n",
      "869 /1573 : 0O6EnLpGRBJdlStNI0SaKu Secrets Of The Sacristy Powerwolf Preachers Of The Night\n"
     ]
    },
    {
     "name": "stdout",
     "output_type": "stream",
     "text": [
      "870 /1573 : 5cJJZFR8CtHn5CdKLr17d6 Demons Are A Girl's Best Friend Powerwolf The Sacrament Of Sin\n",
      "871 /1573 : 1dUcOJpZ7xpkNXf4fQ5fEn Fire & Forgive Powerwolf The Sacrament Of Sin\n"
     ]
    },
    {
     "name": "stdout",
     "output_type": "stream",
     "text": [
      "872 /1573 : 1fnckMhEAO3Jq3FnJM95Dk Fist By Fist (Sacralize Or Strike) Powerwolf The Sacrament Of Sin\n",
      "873 /1573 : 0OIjj9Y5Dk4MlFsyJBzJIa Incense & Iron Powerwolf The Sacrament Of Sin\n"
     ]
    },
    {
     "name": "stdout",
     "output_type": "stream",
     "text": [
      "874 /1573 : 3wtpaQOe6GU5fAGLnK2DU5 Killers With The Cross Powerwolf The Sacrament Of Sin\n",
      "875 /1573 : 28RK2aM4j8H4KDDFsXqfxl Nightside Of Siberia Powerwolf The Sacrament Of Sin\n"
     ]
    },
    {
     "name": "stdout",
     "output_type": "stream",
     "text": [
      "876 /1573 : 0hQ98GODPQHRbGGID6nQB0 Nighttime Rebel Powerwolf The Sacrament Of Sin\n",
      "877 /1573 : 2mSzmhARhyT9Al1sBNtaLT Stossgebet Powerwolf The Sacrament Of Sin\n"
     ]
    },
    {
     "name": "stdout",
     "output_type": "stream",
     "text": [
      "878 /1573 : 3wtpaQOe6GU5fAGLnK2DU5 Killers With The Cross Powerwolf The Sacrament Of Sin\n",
      "879 /1573 : 6RAjSwY938yVMZ3yI2PbMt Venom Of Venus Powerwolf The Sacrament Of Sin\n"
     ]
    },
    {
     "name": "stdout",
     "output_type": "stream",
     "text": [
      "880 /1573 : 10oVEkkcmaZvOCOAQozPwP Where The Wild Wolves Have Gone Powerwolf The Sacrament Of Sin\n",
      "881 /1573 : 62LJFaYihsdVrrkgUOJC05 Kiss Prince Parade - Music from the Motion Picture Under the Cherry Moon\n"
     ]
    },
    {
     "name": "stdout",
     "output_type": "stream",
     "text": [
      "882 /1573 : 5DS5aMoVYgmZkULtzN6VCv Hymn for a Droid Psychedelic Porn Crumpets And Now for the Whatchamacallit\n",
      "883 /1573 : 3038NH8wdXx0owuMdVTTrI ..and the Addled Abstraction of Being Psychedelic Porn Crumpets High Visceral, Pt. 1\n"
     ]
    },
    {
     "name": "stdout",
     "output_type": "stream",
     "text": [
      "884 /1573 : 2SPI1dXVaZvR4qlwbzxdcC Cornflake Psychedelic Porn Crumpets High Visceral, Pt. 1\n",
      "885 /1573 : 6pmnLlu0OhMNFXEEgkiYEX Cubensis Lenses Psychedelic Porn Crumpets High Visceral, Pt. 1\n"
     ]
    },
    {
     "name": "stdout",
     "output_type": "stream",
     "text": [
      "886 /1573 : 7sP57RtB31LWReHyQ02RxX Denmark / Van Gogh & Gone Psychedelic Porn Crumpets High Visceral, Pt. 1\n",
      "887 /1573 : 61iUB6sUL3ARJ0phDHaCGK Entropy Psychedelic Porn Crumpets High Visceral, Pt. 1\n"
     ]
    },
    {
     "name": "stdout",
     "output_type": "stream",
     "text": [
      "888 /1573 : 4xBFKgS6VAmpmeoG0WJ9Pl Found God in a Tomato Psychedelic Porn Crumpets High Visceral, Pt. 1\n",
      "889 /1573 : 2acY3t1ZKAi3t6xVjWVktd Gallop to Southport Psychedelic Porn Crumpets High Visceral, Pt. 1\n"
     ]
    },
    {
     "name": "stdout",
     "output_type": "stream",
     "text": [
      "890 /1573 : 33nIAkg5UqyXSmfRpfKW3V High Visceral Psychedelic Porn Crumpets High Visceral, Pt. 1\n",
      "891 /1573 : 19n2inOfXSxHlBuygEdCZV Marmalade March Psychedelic Porn Crumpets High Visceral, Pt. 1\n"
     ]
    },
    {
     "name": "stdout",
     "output_type": "stream",
     "text": [
      "892 /1573 : 0NBcMaT9LFP0CQ87NqTiVC Surf's Up Psychedelic Porn Crumpets High Visceral, Pt. 1\n",
      "artist:Pulko track:Du Lourd album:N/A not in spotify\n"
     ]
    },
    {
     "name": "stdout",
     "output_type": "stream",
     "text": [
      "894 /1573 : 6oj8xg1wYiHRSmqAUBFz2g Drowse Queen A Day At The Races\n",
      "895 /1573 : 1mnQiO568zXIrUncttTZGp Good Old-Fashioned Lover Boy - 2011 Mix Queen A Day At The Races (Deluxe Remastered Version)\n"
     ]
    },
    {
     "name": "stdout",
     "output_type": "stream",
     "text": [
      "896 /1573 : 2tc0VhzN6l23HE3HEzSCQC Long Away - Remastered 2011 Queen A Day At The Races (Deluxe Remastered Version)\n"
     ]
    },
    {
     "name": "stdout",
     "output_type": "stream",
     "text": [
      "897 /1573 : 6cFZ4PLC19taNlpl9pbGMf Somebody To Love - 2011 Mix Queen A Day At The Races (Deluxe Remastered Version)\n"
     ]
    },
    {
     "name": "stdout",
     "output_type": "stream",
     "text": [
      "898 /1573 : 33sQQjtuxeH7q3ia53jJ5E Teo Torriatte (Let Us Cling Together) - 2011 Mix Queen A Day At The Races (Deluxe Remastered Version)\n"
     ]
    },
    {
     "name": "stdout",
     "output_type": "stream",
     "text": [
      "899 /1573 : 5K0Rhne6C8Fkt4Az5fBcRJ The Millionaire Waltz - Remastered 2011 Queen A Day At The Races (Deluxe Remastered Version)\n"
     ]
    },
    {
     "name": "stdout",
     "output_type": "stream",
     "text": [
      "900 /1573 : 6K8gEgGkOyD1wFY3kAcyOy Tie Your Mother Down - Remastered 2011 Queen A Day At The Races (Deluxe Remastered Version)\n"
     ]
    },
    {
     "name": "stdout",
     "output_type": "stream",
     "text": [
      "901 /1573 : 6A7eSUTtKFW7v3BzCDVakR White Man - Remastered 2011 Queen A Day At The Races (Deluxe Remastered Version)\n",
      "902 /1573 : 6pnhzWVuH12mZKQ5IQ2laD You And I - Remastered 2011 Queen A Day At The Races (Deluxe Remastered Version)\n"
     ]
    },
    {
     "name": "stdout",
     "output_type": "stream",
     "text": [
      "903 /1573 : 0JR1UPExSwwEvTRub1SZI3 You Take My Breath Away - Remastered 2011 Queen A Day At The Races (Deluxe Remastered Version)\n"
     ]
    },
    {
     "name": "stdout",
     "output_type": "stream",
     "text": [
      "904 /1573 : 1EID0aupOLdv4ZDQu2Jbrz I'm In Love With My Car - Remastered 2011 Queen A Night At The Opera (Deluxe Remastered Version)\n"
     ]
    },
    {
     "name": "stdout",
     "output_type": "stream",
     "text": [
      "905 /1573 : 7h2yhVxcZOGyQdOwD4Hu8J I Want To Break Free - Remastered 2011 Queen The Works (Deluxe Remastered Version)\n"
     ]
    },
    {
     "name": "stdout",
     "output_type": "stream",
     "text": [
      "906 /1573 : 68DKrU7sTyDpDA5T3dsOlk You Think I Ain't Worth A Dollar, But I Feel Like A Millionaire Queens of the Stone Age Songs For The Deaf\n",
      "907 /1573 : 2ZOTtG7v1OrSNs6EINIGb4 Black Betty Ram Jam The Very Best Of Ram Jam\n",
      "908 /1573 : 2MU8UF0bdK8BuYV1cBWVZL Asche zu Asche Rammstein Herzeleid\n"
     ]
    },
    {
     "name": "stdout",
     "output_type": "stream",
     "text": [
      "909 /1573 : 2mVn9Mbfcwi6ANldHKpsg1 Das alte Leid Rammstein Herzeleid\n",
      "910 /1573 : 3UrljRJrISV3hfiSVm0zQD Der Meister Rammstein Herzeleid\n",
      "911 /1573 : 73se54LukI1xEPE8XKsrWf Du riechst so gut Rammstein Herzeleid\n"
     ]
    },
    {
     "name": "stdout",
     "output_type": "stream",
     "text": [
      "912 /1573 : 1KLyMQwUeIPJaXn7wgdeNW Heirate mich Rammstein Herzeleid\n",
      "913 /1573 : 08ORFfaJSu4hwiFn9XWT0J Herzeleid Rammstein Herzeleid\n",
      "914 /1573 : 7BQWcPnFAlkPVxJQAf20aq Laichzeit Rammstein Herzeleid\n"
     ]
    },
    {
     "name": "stdout",
     "output_type": "stream",
     "text": [
      "915 /1573 : 5sQlA2pLHBBrn5UkYclNrQ Rammstein Rammstein Herzeleid\n",
      "916 /1573 : 1hpvWM9tt5hvbezWq84ETB Seemann Rammstein Herzeleid\n",
      "917 /1573 : 6mTY75g7EkgvIuoE02eYIG Weisses Fleisch Rammstein Herzeleid\n"
     ]
    },
    {
     "name": "stdout",
     "output_type": "stream",
     "text": [
      "918 /1573 : 14CVBGaoD5k3VC9Qmz5imZ Wollt ihr das Bett in Flammen sehen Rammstein Herzeleid\n",
      "919 /1573 : 7rOPeDJ9zeLDRfZowRK8qB Adios Rammstein Mutter\n"
     ]
    },
    {
     "name": "stdout",
     "output_type": "stream",
     "text": [
      "920 /1573 : 73JZKk0nb1WOUmh1Eo3Unc Feuer frei! Rammstein Mutter\n",
      "921 /1573 : 1SlMYQmLe0yNEvBIfaPTAW Ich will Rammstein Mutter\n"
     ]
    },
    {
     "name": "stdout",
     "output_type": "stream",
     "text": [
      "922 /1573 : 2bEOoGCjJJVf60y3aKgXcn Links 2 3 4 Rammstein Mutter\n",
      "923 /1573 : 1ryMgu0CnRSseTYpvMDOLD Mein Herz brennt Rammstein Mutter\n"
     ]
    },
    {
     "name": "stdout",
     "output_type": "stream",
     "text": [
      "924 /1573 : 3Yj9lNYD0su1mbTtA1ktat Mutter Rammstein Mutter\n",
      "925 /1573 : 0Jcjqx0IPMmK7se9Qn0B54 Nebel Rammstein Mutter\n"
     ]
    },
    {
     "name": "stdout",
     "output_type": "stream",
     "text": [
      "926 /1573 : 1qlTeIhNofXvNYy4appFOC Rein raus Rammstein Mutter\n",
      "927 /1573 : 4w3R0GZ2rScJMKlgPJzHRq Sonne Rammstein Mutter\n"
     ]
    },
    {
     "name": "stdout",
     "output_type": "stream",
     "text": [
      "928 /1573 : 2YfSQPgeAkhNjFwm3qJbSx Spieluhr Rammstein Mutter\n"
     ]
    },
    {
     "name": "stdout",
     "output_type": "stream",
     "text": [
      "929 /1573 : 5NSoxlB4utD51hYMAZpIdV Zwitter Rammstein Mutter\n",
      "930 /1573 : 15f16lrsDzFeNpHYBTzHLI SEX Rammstein RAMMSTEIN\n"
     ]
    },
    {
     "name": "stdout",
     "output_type": "stream",
     "text": [
      "931 /1573 : 33ayEZDfgARpadIdqo87JQ AMERIKA Rammstein Reise, Reise\n",
      "932 /1573 : 4tNIRQkZwbtXPVYtaYDiTd AMOUR Rammstein Reise, Reise\n",
      "933 /1573 : 50VqNIbwCOPVtXuWSWjdOY DALAI LAMA Rammstein Reise, Reise\n"
     ]
    },
    {
     "name": "stdout",
     "output_type": "stream",
     "text": [
      "934 /1573 : 29YDZUNKvBI2I64TvLj1Wt KEINE LUST Rammstein Reise, Reise\n",
      "935 /1573 : 679Tyyun9r41BvpDOTAAOo LOS Rammstein Reise, Reise\n"
     ]
    },
    {
     "name": "stdout",
     "output_type": "stream",
     "text": [
      "936 /1573 : 2OQRceDfxBfmwTEmNOSpFq MEIN TEIL Rammstein Reise, Reise\n",
      "937 /1573 : 6qNtBTcJTKlP88CdAvUGw4 MORGENSTERN Rammstein Reise, Reise\n"
     ]
    },
    {
     "name": "stdout",
     "output_type": "stream",
     "text": [
      "938 /1573 : 0k8LXt5uJ5O07BhSvnvjkY MOSKAU Rammstein Reise, Reise\n",
      "939 /1573 : 4Hruh5C0Ef3y8mIcns5Y1O OHNE DICH Rammstein Reise, Reise\n"
     ]
    },
    {
     "name": "stdout",
     "output_type": "stream",
     "text": [
      "940 /1573 : 53yBfGozCZOAqaM16PwMKP REISE, REISE Rammstein Reise, Reise\n",
      "941 /1573 : 7KiB7d1EkC0YM2OAQGACML STEIN UM STEIN Rammstein Reise, Reise\n"
     ]
    },
    {
     "name": "stdout",
     "output_type": "stream",
     "text": [
      "942 /1573 : 1Q94WI2punbv0tABeSch7n BENZIN Rammstein ROSENROT\n",
      "943 /1573 : 4L4oCtdmqjxS8AjkzjLGDQ EIN LIED Rammstein ROSENROT\n"
     ]
    },
    {
     "name": "stdout",
     "output_type": "stream",
     "text": [
      "944 /1573 : 48LYcLfuBtTfKD6DLlyOyj FEUER UND WASSER Rammstein ROSENROT\n"
     ]
    },
    {
     "name": "stdout",
     "output_type": "stream",
     "text": [
      "945 /1573 : 12oRvm1xzDO56HlpEnm0JH HILF MIR Rammstein ROSENROT\n"
     ]
    },
    {
     "name": "stdout",
     "output_type": "stream",
     "text": [
      "946 /1573 : 6UHXHzMYvpatBSPK7hxQR5 MANN GEGEN MANN Rammstein ROSENROT\n"
     ]
    },
    {
     "name": "stdout",
     "output_type": "stream",
     "text": [
      "947 /1573 : 7u018epVcYPTPVKCWAemLP ROSENROT Rammstein ROSENROT\n"
     ]
    },
    {
     "name": "stdout",
     "output_type": "stream",
     "text": [
      "948 /1573 : 2SPsfOz23D2rOeRdhSKZOR SPRING Rammstein ROSENROT\n"
     ]
    },
    {
     "name": "stdout",
     "output_type": "stream",
     "text": [
      "949 /1573 : 3f1Pyzzn7GWBWNpx0vXqjF STIRB NICHT VOR MIR (DON'T DIE BEFORE I DO) Rammstein ROSENROT\n"
     ]
    },
    {
     "name": "stdout",
     "output_type": "stream",
     "text": [
      "950 /1573 : 4hLS1e3mrL0gbm8BqX1VvN TE QUIERO PUTA! Rammstein ROSENROT\n"
     ]
    },
    {
     "name": "stdout",
     "output_type": "stream",
     "text": [
      "951 /1573 : 3xiYn2FVh7XOlhb8pBrELg WO BIST DU Rammstein ROSENROT\n",
      "952 /1573 : 3sc9J5yO4vMKIP41UcKB8I ZERSTÖREN Rammstein ROSENROT\n"
     ]
    },
    {
     "name": "stdout",
     "output_type": "stream",
     "text": [
      "953 /1573 : 1ilqu0y37Kl1sgF4jfIkle Alter Mann Rammstein Sehnsucht\n"
     ]
    },
    {
     "name": "stdout",
     "output_type": "stream",
     "text": [
      "954 /1573 : 0G7gu8m9HuYX3vAAz2gcFi Bestrafe mich Rammstein Sehnsucht\n"
     ]
    },
    {
     "name": "stdout",
     "output_type": "stream",
     "text": [
      "955 /1573 : 0SCkN2QprWk02svK0HCZ2n Bück dich Rammstein Sehnsucht\n",
      "956 /1573 : 6uEvFCaOqXyEidoO8BZbyh Du hast Rammstein Sehnsucht\n",
      "957 /1573 : 07CUEJZd1N8NFKcIeHiFbR Eifersucht Rammstein Sehnsucht\n"
     ]
    },
    {
     "name": "stdout",
     "output_type": "stream",
     "text": [
      "958 /1573 : 0xQZkTxb49QpopIZQhKJUY Engel Rammstein Sehnsucht\n",
      "959 /1573 : 5pRKNboeEfPCaitVvh7F8S Klavier Rammstein Sehnsucht\n",
      "960 /1573 : 21lHn1YDJIcM695Lob0l0R Küss mich (Fellfrosch) Rammstein Sehnsucht\n"
     ]
    },
    {
     "name": "stdout",
     "output_type": "stream",
     "text": [
      "961 /1573 : 138ADAIJra5lBNbqQF2m7z Sehnsucht Rammstein Sehnsucht\n",
      "962 /1573 : 5tNhreO6L8kfvQSqPjuGUg Spiel mit mir Rammstein Sehnsucht\n"
     ]
    },
    {
     "name": "stdout",
     "output_type": "stream",
     "text": [
      "963 /1573 : 2mJabhCPoHBA7a6uLLbDlV Tier Rammstein Sehnsucht\n",
      "964 /1573 : 48UPSzbZjgc449aqz8bxox Californication Red Hot Chili Peppers Californication (Deluxe Edition)\n"
     ]
    },
    {
     "name": "stdout",
     "output_type": "stream",
     "text": [
      "965 /1573 : 1G391cbiT3v3Cywg8T7DM1 Scar Tissue Red Hot Chili Peppers Californication (Deluxe Edition)\n",
      "966 /1573 : 3SoDB59Y7dSZLSDBiNJ6o2 Charlie Red Hot Chili Peppers Stadium Arcadium\n"
     ]
    },
    {
     "name": "stdout",
     "output_type": "stream",
     "text": [
      "967 /1573 : 10Nmj3JCNoMeBQ87uw5j8k Dani California Red Hot Chili Peppers Stadium Arcadium\n"
     ]
    },
    {
     "name": "stdout",
     "output_type": "stream",
     "text": [
      "968 /1573 : 1ylzYcU6FGnuBqqdqqH7QL Especially in Michigan Red Hot Chili Peppers Stadium Arcadium\n"
     ]
    },
    {
     "name": "stdout",
     "output_type": "stream",
     "text": [
      "969 /1573 : 5f2ZVFERwwh3asebmurZEf Hump de Bump Red Hot Chili Peppers Stadium Arcadium\n"
     ]
    },
    {
     "name": "stdout",
     "output_type": "stream",
     "text": [
      "970 /1573 : 3gvyksxkLbyKwi0WjCiPXE She's Only 18 Red Hot Chili Peppers Stadium Arcadium\n"
     ]
    },
    {
     "name": "stdout",
     "output_type": "stream",
     "text": [
      "971 /1573 : 06wTEKL2rSrSaOjFtgG8fj Slow Cheetah Red Hot Chili Peppers Stadium Arcadium\n"
     ]
    },
    {
     "name": "stdout",
     "output_type": "stream",
     "text": [
      "972 /1573 : 2aibwv5hGXSgw7Yru8IYTO Snow (Hey Oh) Red Hot Chili Peppers Stadium Arcadium\n"
     ]
    },
    {
     "name": "stdout",
     "output_type": "stream",
     "text": [
      "973 /1573 : 4y84ILALZSa4LyP6H7NVjR Stadium Arcadium Red Hot Chili Peppers Stadium Arcadium\n"
     ]
    },
    {
     "name": "stdout",
     "output_type": "stream",
     "text": [
      "974 /1573 : 0J3ytriezGZ3KCREfHKDOI Strip My Mind Red Hot Chili Peppers Stadium Arcadium\n"
     ]
    },
    {
     "name": "stdout",
     "output_type": "stream",
     "text": [
      "975 /1573 : 5ZISTTuh3YIBtYsCvBKk5w Torture Me Red Hot Chili Peppers Stadium Arcadium\n"
     ]
    },
    {
     "name": "stdout",
     "output_type": "stream",
     "text": [
      "976 /1573 : 4nriBQlagNNqEfkvHFVWVz Baby-Sitting Blues Renaud Mistral gagnant\n"
     ]
    },
    {
     "name": "stdout",
     "output_type": "stream",
     "text": [
      "977 /1573 : 6jO6o0h4BjZqqGCetHpYln Fatigué Renaud Mistral gagnant\n",
      "978 /1573 : 1ZlG9VQSUfSw0gJBzy7eEV La pêche à la ligne Renaud Mistral gagnant\n",
      "979 /1573 : 4KL0TurAerOq7bnGiFRm0z Le retour de la pépette Renaud Mistral gagnant\n"
     ]
    },
    {
     "name": "stdout",
     "output_type": "stream",
     "text": [
      "980 /1573 : 3mrD89s4Ua9IS3Aw5kxMU7 Miss Maggie Renaud Mistral gagnant\n",
      "981 /1573 : 1MOSRjdAbUhvLNnHCdUEL5 Mistral gagnant Renaud Mistral gagnant\n"
     ]
    },
    {
     "name": "stdout",
     "output_type": "stream",
     "text": [
      "982 /1573 : 6yb2oQW16NzCT1o8p0q5y9 Morts les enfants Renaud Mistral gagnant\n",
      "983 /1573 : 4yksBrqsVlu6D5EgfEo9cC P'tite conne Renaud Mistral gagnant\n"
     ]
    },
    {
     "name": "stdout",
     "output_type": "stream",
     "text": [
      "984 /1573 : 3LvcjcEsF1y1zX39Yhz6ds Si t'es mon pote Renaud Mistral gagnant\n",
      "985 /1573 : 2kdaKCgDmuFyFAS534yG8w Trois matelots Renaud Mistral gagnant\n"
     ]
    },
    {
     "name": "stdout",
     "output_type": "stream",
     "text": [
      "986 /1573 : 04O7ZO0DIjFhv5Pl1wYiLf Tu vas au bal ? Renaud Mistral gagnant\n",
      "987 /1573 : 0wHNrrefyaeVewm4NxjxrX Make It Stop (September's Children) Rise Against Endgame\n"
     ]
    },
    {
     "name": "stdout",
     "output_type": "stream",
     "text": [
      "988 /1573 : 605hJIiMrdsUjr4Vx4BFD6 Demon Speeding Rob Zombie The Sinister Urge\n",
      "989 /1573 : 07ULY0kkBV2A0YVCXzLJEK 11:11 Rodrigo y Gabriela 11:11\n"
     ]
    },
    {
     "name": "stdout",
     "output_type": "stream",
     "text": [
      "990 /1573 : 5wQ8dSNPB7lwUVpnw0U7Xp Atman Rodrigo y Gabriela 11:11\n",
      "991 /1573 : 09ysr2pWxrEh3IJbf3CBvQ Buster Voodoo Rodrigo y Gabriela 11:11\n"
     ]
    },
    {
     "name": "stdout",
     "output_type": "stream",
     "text": [
      "992 /1573 : 3S0FGjHiAsUKkBpx5JlDte Chac Mool Rodrigo y Gabriela 11:11\n"
     ]
    },
    {
     "name": "stdout",
     "output_type": "stream",
     "text": [
      "993 /1573 : 4vV1A6xSDVLLPTJUrSZfVP Hanuman Rodrigo y Gabriela 11:11\n"
     ]
    },
    {
     "name": "stdout",
     "output_type": "stream",
     "text": [
      "994 /1573 : 115JzfyejuiiTxp58fbNBm Hora Zero Rodrigo y Gabriela 11:11\n"
     ]
    },
    {
     "name": "stdout",
     "output_type": "stream",
     "text": [
      "995 /1573 : 35U4iSvtTGNOt59JCCYm1p Logos Rodrigo y Gabriela 11:11\n"
     ]
    },
    {
     "name": "stdout",
     "output_type": "stream",
     "text": [
      "996 /1573 : 6vyVG1z8oIqzsa0aPyFM9j Master Maqui Rodrigo y Gabriela 11:11\n"
     ]
    },
    {
     "name": "stdout",
     "output_type": "stream",
     "text": [
      "997 /1573 : 1i032xEoQs2zwpTgklW3MT Santo Domingo Rodrigo y Gabriela 11:11\n"
     ]
    },
    {
     "name": "stdout",
     "output_type": "stream",
     "text": [
      "998 /1573 : 5LVUpkPaxVnJW4ODhYFZUP Savitri Rodrigo y Gabriela 11:11\n"
     ]
    },
    {
     "name": "stdout",
     "output_type": "stream",
     "text": [
      "999 /1573 : 676WlameCUrDNuJhnT1Cjz Triveni Rodrigo y Gabriela 11:11\n",
      "artist:Roi Heenok track:Hybride Exo album:N/A not in spotify\n"
     ]
    },
    {
     "name": "stdout",
     "output_type": "stream",
     "text": [
      "1001/1573 : 62VWmsNoDmqT0Mj9oHHFVh Strasbourg / St. Denis Roy Hargrove Earfood\n",
      "1002/1573 : 4zvXVO0SrMYIMHVGdOm0DA 82nd All the Way Sabaton The Great War\n",
      "1003/1573 : 6wWnwIrwPV32hKQouXpasL A Ghost in the Trenches Sabaton The Great War\n"
     ]
    },
    {
     "name": "stdout",
     "output_type": "stream",
     "text": [
      "1004/1573 : 0pjIkwwUFLCGqLY90Jp3bH Devil Dogs Sabaton The Great War\n",
      "1005/1573 : 2VS1jveuhfU7Latlgfh62T Fields of Verdun Sabaton The Great War\n"
     ]
    },
    {
     "name": "stdout",
     "output_type": "stream",
     "text": [
      "1006/1573 : 4fmr8c3rh0dUKjw14UGfaH Great War Sabaton The Great War\n",
      "1007/1573 : 5RhPNWj5NCJO0rYYpvban5 In Flanders Fields Sabaton The Great War\n"
     ]
    },
    {
     "name": "stdout",
     "output_type": "stream",
     "text": [
      "1008/1573 : 6kiASFX63DwJ7grwKG2HUX Seven Pillars of Wisdom Sabaton The Great War\n",
      "1009/1573 : 2K2NeVnP853rkR5ese8ZLP The Attack of the Dead Men Sabaton The Great War\n"
     ]
    },
    {
     "name": "stdout",
     "output_type": "stream",
     "text": [
      "1010/1573 : 6aQBOvi6WUZK1l62Umun8L The End of the War to End All Wars Sabaton The Great War\n",
      "1011/1573 : 25UznYxMoMzQd4S963GMkp The Future of Warfare Sabaton The Great War\n"
     ]
    },
    {
     "name": "stdout",
     "output_type": "stream",
     "text": [
      "1012/1573 : 0ePmfd8y7g4zs3E6ew7pDB The Red Baron Sabaton The Great War\n",
      "artist:SAINt JHN track:Roses (Imanbek Remix) album:N/A not in spotify\n"
     ]
    },
    {
     "name": "stdout",
     "output_type": "stream",
     "text": [
      "artist:Santo & Johnny track:All Night Dinner album:Santo & Johnny not in spotify\n"
     ]
    },
    {
     "name": "stdout",
     "output_type": "stream",
     "text": [
      "1015/1573 : 1Zd4g6pVEMHkTeA0EBzaoN Blue Moon Santo & Johnny Santo y Johnny Antologia de Exitos\n"
     ]
    },
    {
     "name": "stdout",
     "output_type": "stream",
     "text": [
      "1016/1573 : 3xkQqmpPx94p9mIoj6nHd5 Santo & Johnny Greatest Hits Medley: Summertime / Blue Moon / Sleepwalk /Tenderly / Dream / Canadian Sunset / Harbor Lights / Around The World Raunchy / Poor People Of Paris / Arrivederci Roma / Istanbul / Cairo / Midnight to Moscow Santo & Johnny Santo & Johnny Greatest Hits Medley\n"
     ]
    },
    {
     "name": "stdout",
     "output_type": "stream",
     "text": [
      "artist:Santo & Johnny track:Caravan album:Santo & Johnny not in spotify\n"
     ]
    },
    {
     "name": "stdout",
     "output_type": "stream",
     "text": [
      "1018/1573 : 5p9h9nAUNPm34TsFvhSHq8 Sea Dream Santo & Johnny Santo & Johnny\n"
     ]
    },
    {
     "name": "stdout",
     "output_type": "stream",
     "text": [
      "1019/1573 : 28OtmdJAvXV7iBSfW0QJ5h Luces En El Puerto (Harbor Lights) Santo & Johnny Al Estilo De Santo & Johnny La Costa\n",
      "1020/1573 : 3xkQqmpPx94p9mIoj6nHd5 Santo & Johnny Greatest Hits Medley: Summertime / Blue Moon / Sleepwalk /Tenderly / Dream / Canadian Sunset / Harbor Lights / Around The World Raunchy / Poor People Of Paris / Arrivederci Roma / Istanbul / Cairo / Midnight to Moscow Santo & Johnny Santo & Johnny Greatest Hits Medley\n"
     ]
    },
    {
     "name": "stdout",
     "output_type": "stream",
     "text": [
      "artist:Santo & Johnny track:School Day album:Santo & Johnny not in spotify\n",
      "artist:Santo & Johnny track:Slave Girl album:Santo & Johnny not in spotify\n",
      "artist:Santo & Johnny track:Sleep Walk album:Santo & Johnny not in spotify\n"
     ]
    },
    {
     "name": "stdout",
     "output_type": "stream",
     "text": [
      "1024/1573 : 3xkQqmpPx94p9mIoj6nHd5 Santo & Johnny Greatest Hits Medley: Summertime / Blue Moon / Sleepwalk /Tenderly / Dream / Canadian Sunset / Harbor Lights / Around The World Raunchy / Poor People Of Paris / Arrivederci Roma / Istanbul / Cairo / Midnight to Moscow Santo & Johnny Santo & Johnny Greatest Hits Medley\n",
      "1025/1573 : 3xkQqmpPx94p9mIoj6nHd5 Santo & Johnny Greatest Hits Medley: Summertime / Blue Moon / Sleepwalk /Tenderly / Dream / Canadian Sunset / Harbor Lights / Around The World Raunchy / Poor People Of Paris / Arrivederci Roma / Istanbul / Cairo / Midnight to Moscow Santo & Johnny Santo & Johnny Greatest Hits Medley\n"
     ]
    },
    {
     "name": "stdout",
     "output_type": "stream",
     "text": [
      "1026/1573 : 623rRTKwGmgjH6sjE9uWLh Scatman (ski-ba-bop-ba-dop-bop) Scatman John Scatman's World\n",
      "1027/1573 : 623rRTKwGmgjH6sjE9uWLh Scatman (ski-ba-bop-ba-dop-bop) Scatman John Scatman's World\n"
     ]
    },
    {
     "name": "stdout",
     "output_type": "stream",
     "text": [
      "1028/1573 : 1gKcpNIXhmHx2EHI5IPhte Fusil SCH A7\n",
      "1029/1573 : 17I2lMIP80GMQwve1cDMhD ROOFTOP! NOAH SCHATZ ROOFTOP!\n"
     ]
    },
    {
     "name": "stdout",
     "output_type": "stream",
     "text": [
      "1030/1573 : 5gHPSORJBqP7rER1cbYB5x La javanaise Serge Gainsbourg Bonnie And Clyde\n",
      "1031/1573 : 3nvREfeASA91U3atMsVO3H Bad Kids To The Back Snarky Puppy Immigrance\n"
     ]
    },
    {
     "name": "stdout",
     "output_type": "stream",
     "text": [
      "artist:Snowy White And The White Flames track:Midnight Blues album:No Faith Required not in spotify\n",
      "artist:Stand High Patrol track:Atmosphere album:Summer on Mars not in spotify\n"
     ]
    },
    {
     "name": "stdout",
     "output_type": "stream",
     "text": [
      "artist:Stand High Patrol track:Dreamcatcher album:Summer on Mars not in spotify\n",
      "artist:Stand High Patrol track:Fragile album:Summer on Mars not in spotify\n"
     ]
    },
    {
     "name": "stdout",
     "output_type": "stream",
     "text": [
      "artist:Stand High Patrol track:Landlord album:Summer on Mars not in spotify\n",
      "artist:Stand High Patrol track:Raw Lines album:Summer on Mars not in spotify\n"
     ]
    },
    {
     "name": "stdout",
     "output_type": "stream",
     "text": [
      "artist:Stand High Patrol track:Rosetta album:Summer on Mars not in spotify\n",
      "artist:Stand High Patrol track:Spring Rain album:Summer on Mars not in spotify\n"
     ]
    },
    {
     "name": "stdout",
     "output_type": "stream",
     "text": [
      "artist:Stand High Patrol track:Summer on Mars album:Summer on Mars not in spotify\n"
     ]
    },
    {
     "name": "stdout",
     "output_type": "stream",
     "text": [
      "artist:Stand High Patrol track:Working Class album:Summer on Mars not in spotify\n",
      "1042/1573 : 3aAuIvgJGdp4wWd60riWfB Valerie Steve Winwood Talking Back To The Night\n"
     ]
    },
    {
     "name": "stdout",
     "output_type": "stream",
     "text": [
      "1043/1573 : 2DMZ7rhk2LZvP6Gy8vthH5 Thunderstruck Steve ´n´ Seagulls Farm Machine\n",
      "1044/1573 : 38punNoJGGFWOgOjm8eMRJ First Regret / 3 Years Older Steven Wilson Hand Cannot Erase\n"
     ]
    },
    {
     "name": "stdout",
     "output_type": "stream",
     "text": [
      "1045/1573 : 4ceTCJPLBQBOogseivMuhL Ancestral Steven Wilson Hand Cannot Erase\n",
      "1046/1573 : 37TyzXvVbPD2JIZEm65x9h Happy Returns / Ascendant Here on... Steven Wilson Hand Cannot Erase\n"
     ]
    },
    {
     "name": "stdout",
     "output_type": "stream",
     "text": [
      "1047/1573 : 38punNoJGGFWOgOjm8eMRJ First Regret / 3 Years Older Steven Wilson Hand Cannot Erase\n",
      "1048/1573 : 3L6iaRFenZmnkepJ4Ey9Cm Hand Cannot Erase Steven Wilson Hand Cannot Erase\n"
     ]
    },
    {
     "name": "stdout",
     "output_type": "stream",
     "text": [
      "1049/1573 : 37TyzXvVbPD2JIZEm65x9h Happy Returns / Ascendant Here on... Steven Wilson Hand Cannot Erase\n",
      "1050/1573 : 1a6uHU6uqREaMMgkrKijLC Home Invasion / Regret #9 Steven Wilson Hand Cannot Erase\n"
     ]
    },
    {
     "name": "stdout",
     "output_type": "stream",
     "text": [
      "1051/1573 : 7GVrWak6y01P1t8bwbZW8e Perfect Life Steven Wilson Hand Cannot Erase\n"
     ]
    },
    {
     "name": "stdout",
     "output_type": "stream",
     "text": [
      "1052/1573 : 1a6uHU6uqREaMMgkrKijLC Home Invasion / Regret #9 Steven Wilson Hand Cannot Erase\n"
     ]
    },
    {
     "name": "stdout",
     "output_type": "stream",
     "text": [
      "1053/1573 : 5cxmpBhMn4Wxs4ZyHLv4mR Routine Steven Wilson Hand Cannot Erase\n"
     ]
    },
    {
     "name": "stdout",
     "output_type": "stream",
     "text": [
      "artist:Steven Wilson track:Transcience album:Hand. Cannot. Erase. not in spotify\n"
     ]
    },
    {
     "name": "stdout",
     "output_type": "stream",
     "text": [
      "1055/1573 : 0PaCLduwMvGn19BNUHq0L1 Blank Tapes Steven Wilson To The Bone\n"
     ]
    },
    {
     "name": "stdout",
     "output_type": "stream",
     "text": [
      "1056/1573 : 5ZcxDZkfflzvZ5nJPyzXZs Detonation Steven Wilson To The Bone\n"
     ]
    },
    {
     "name": "stdout",
     "output_type": "stream",
     "text": [
      "1057/1573 : 6IyWD0fAwt05ee3emHHXkn Nowhere Now Steven Wilson To The Bone\n",
      "1058/1573 : 7CcaktZZsdb8AWPdhDM38f Pariah Steven Wilson To The Bone\n"
     ]
    },
    {
     "name": "stdout",
     "output_type": "stream",
     "text": [
      "1059/1573 : 5LlhPAV6Wtwc3veHr4u2ZB People Who Eat Darkness Steven Wilson To The Bone\n"
     ]
    },
    {
     "name": "stdout",
     "output_type": "stream",
     "text": [
      "1060/1573 : 1tzCbOeyoKtCNkynz4HmQk Permanating Steven Wilson To The Bone\n"
     ]
    },
    {
     "name": "stdout",
     "output_type": "stream",
     "text": [
      "1061/1573 : 3lxD0l11Oog4UUZe24SrkG Refuge Steven Wilson To The Bone\n",
      "1062/1573 : 0rHyrUwNjEJKRywss2MvTm Song Of I Steven Wilson To The Bone\n"
     ]
    },
    {
     "name": "stdout",
     "output_type": "stream",
     "text": [
      "1063/1573 : 6bHiGzAT6lxyWRBXd6lVRF Song Of Unborn Steven Wilson To The Bone\n",
      "1064/1573 : 5EYEOZLyr1XuHzW5ZPLkFD The Same Asylum As Before Steven Wilson To The Bone\n"
     ]
    },
    {
     "name": "stdout",
     "output_type": "stream",
     "text": [
      "1065/1573 : 3aTmXPZxyXcB7kDVEzhyLv To The Bone Steven Wilson To The Bone\n",
      "1066/1573 : 4N0TP4Rmj6QQezWV88ARNJ Superstition Stevie Wonder Talking Book\n"
     ]
    },
    {
     "name": "stdout",
     "output_type": "stream",
     "text": [
      "artist:Stupeflip track:Les Ronces album:Terror Maxi not in spotify\n",
      "artist:Stupeflip track:Stupeflip Vite !!! album:Terror Maxi not in spotify\n"
     ]
    },
    {
     "name": "stdout",
     "output_type": "stream",
     "text": [
      "1069/1573 : 3xcgl1k29fKcDNowRJbMq6 72.8 mhz - Interlude 3 Stupeflip The Hypnoflip Invasion\n",
      "1070/1573 : 626KJ8oTkNs9znR1nDqq1k Ancienne prophétie - Interlude 5 Stupeflip The Hypnoflip Invasion\n"
     ]
    },
    {
     "name": "stdout",
     "output_type": "stream",
     "text": [
      "1071/1573 : 0A6FdQB9XVIbjP6Kr4vsa1 Apocalypse 894 Stupeflip The Hypnoflip Invasion\n",
      "artist:Stupeflip track:C est un Tube album:The Hypnoflip Invasion not in spotify\n"
     ]
    },
    {
     "name": "stdout",
     "output_type": "stream",
     "text": [
      "1073/1573 : 3dLIduwK5uQmKMH7TFsDlF Ce petit blouson en daim Stupeflip The Hypnoflip Invasion\n",
      "1074/1573 : 1cNm3Y37Hhe493MfKuNwGW Check da Crou Stupeflip The Hypnoflip Invasion\n"
     ]
    },
    {
     "name": "stdout",
     "output_type": "stream",
     "text": [
      "artist:Stupeflip track:Cold World album:The Hypnoflip Invasion not in spotify\n",
      "1076/1573 : 0R8ei1Ja9TCnSpElFhryZS Dangereux !! - Interlude 1 Stupeflip The Hypnoflip Invasion\n",
      "1077/1573 : 51NbezCtFMJR5283vWxH8J Dark Warriors - Interlude 4 Stupeflip The Hypnoflip Invasion\n"
     ]
    },
    {
     "name": "stdout",
     "output_type": "stream",
     "text": [
      "1078/1573 : 57XHpRax8ytkhXrotxu8uE Gaëlle Stupeflip The Hypnoflip Invasion\n",
      "1079/1573 : 4nxLQxln8uOLYL9pU1bpRG Gem lé moch' Stupeflip The Hypnoflip Invasion\n",
      "1080/1573 : 3a2eEFpPmvKxadRGpOXzr9 Hater's Killah Stupeflip The Hypnoflip Invasion\n"
     ]
    },
    {
     "name": "stdout",
     "output_type": "stream",
     "text": [
      "1081/1573 : 4pMfDkHab6PU8yjAxSoHCd Invasion Stupeflip The Hypnoflip Invasion\n",
      "1082/1573 : 6Rpg1cBjDXDGlbbalRPU84 La menuiserie Stupeflip The Hypnoflip Invasion\n"
     ]
    },
    {
     "name": "stdout",
     "output_type": "stream",
     "text": [
      "1083/1573 : 6IkpQyY8TcaMM0Cx4OCf2N La mort à Pop Hip - Interlude 6 Stupeflip The Hypnoflip Invasion\n",
      "1084/1573 : 2nGwLNOOfOFWMpETHiwJIP Le coeur qui cogne Stupeflip The Hypnoflip Invasion\n"
     ]
    },
    {
     "name": "stdout",
     "output_type": "stream",
     "text": [
      "1085/1573 : 0dtzevwOURr9R7tYIlWTOo Le spleen des petits Stupeflip The Hypnoflip Invasion\n"
     ]
    },
    {
     "name": "stdout",
     "output_type": "stream",
     "text": [
      "1086/1573 : 57RPJrjsYcFj1kC7L41U1Z Lettre à Mylène Stupeflip The Hypnoflip Invasion\n"
     ]
    },
    {
     "name": "stdout",
     "output_type": "stream",
     "text": [
      "1087/1573 : 3XUkRMMrrn7x7OQAQJUCF4 Région est Stupeflip The Hypnoflip Invasion\n",
      "1088/1573 : 4rzapbR90qjU0mOr3RszP3 Sinode pibouin Stupeflip The Hypnoflip Invasion\n"
     ]
    },
    {
     "name": "stdout",
     "output_type": "stream",
     "text": [
      "1089/1573 : 4lixC8ILNVVsP2880K7fKl Strange Pain - Interlude 2 Stupeflip The Hypnoflip Invasion\n",
      "1090/1573 : 178zd1WV9MN2rVab2TsfDE Stupeflip vite !!! Stupeflip The Hypnoflip Invasion\n"
     ]
    },
    {
     "name": "stdout",
     "output_type": "stream",
     "text": [
      "1091/1573 : 4a5pNRjwmzYQuEY1E7O6pj Breakfast In America - Remastered Supertramp Breakfast In America (Deluxe Edition)\n",
      "1092/1573 : 5gLJZBGkpvRXWbEbTcLIz8 Casual Conversations - 2010 Remastered Supertramp Breakfast In America (Deluxe Edition)\n"
     ]
    },
    {
     "name": "stdout",
     "output_type": "stream",
     "text": [
      "1093/1573 : 7hHTyS1QG0TcX5iQ0sa1Tk Child Of Vision - 2010 Remastered Supertramp Breakfast In America (Deluxe Edition)\n",
      "1094/1573 : 43BVfHr7mkNDtNIGVp1vff Gone Hollywood - 2010 Remastered Supertramp Breakfast In America (Deluxe Edition)\n"
     ]
    },
    {
     "name": "stdout",
     "output_type": "stream",
     "text": [
      "1095/1573 : 67oyFnjJnn78fZP9KjeZx0 Goodbye Stranger - 2010 Remastered Supertramp Breakfast In America (Deluxe Edition)\n"
     ]
    },
    {
     "name": "stdout",
     "output_type": "stream",
     "text": [
      "1096/1573 : 6o8nZVzweaEOLDLOgaogX5 Just Another Nervous Wreck - 2010 Remastered Supertramp Breakfast In America (Deluxe Edition)\n",
      "1097/1573 : 3AUpYeScJOpYf8psTIz62l Lord Is It Mine - 2010 Remastered Supertramp Breakfast In America (Deluxe Edition)\n"
     ]
    },
    {
     "name": "stdout",
     "output_type": "stream",
     "text": [
      "1098/1573 : 089NMLhXz421ohFN55A3yo Oh Darling - 2010 Remastered Supertramp Breakfast In America (Deluxe Edition)\n"
     ]
    },
    {
     "name": "stdout",
     "output_type": "stream",
     "text": [
      "1099/1573 : 0v0XYK0pLgsPiq5u4FKHaw Take The Long Way Home - 2010 Remastered Supertramp Breakfast In America (Deluxe Edition)\n"
     ]
    },
    {
     "name": "stdout",
     "output_type": "stream",
     "text": [
      "1100/1573 : 6mHOcVtsHLMuesJkswc0GZ The Logical Song - Remastered 2010 Supertramp Breakfast In America (Deluxe Edition)\n"
     ]
    },
    {
     "name": "stdout",
     "output_type": "stream",
     "text": [
      "artist:System Of A Down track:The Metro album:Dracula 2000 not in spotify\n"
     ]
    },
    {
     "name": "stdout",
     "output_type": "stream",
     "text": [
      "1102/1573 : 0dxPHMZTI8TWMYRucsAFNd Attack System Of A Down Hypnotize\n",
      "1103/1573 : 4uCfGqrF2OHcav71k0bk9D Dreaming System Of A Down Hypnotize\n"
     ]
    },
    {
     "name": "stdout",
     "output_type": "stream",
     "text": [
      "1104/1573 : 4mj2UMyJTBTaO7pffAK29j Holy Mountains System Of A Down Hypnotize\n",
      "1105/1573 : 6oO7WMjD6kEvCITLbVj0mu Hypnotize System Of A Down Hypnotize\n"
     ]
    },
    {
     "name": "stdout",
     "output_type": "stream",
     "text": [
      "1106/1573 : 28TReO2Mxk9Q3GA4K98YSz Kill Rock 'n Roll System Of A Down Hypnotize\n",
      "1107/1573 : 1VNWaY3uNfoeWqb5U8x2QX Lonely Day System Of A Down Hypnotize\n"
     ]
    },
    {
     "name": "stdout",
     "output_type": "stream",
     "text": [
      "1108/1573 : 3bcOxfqIiXj41AdUHfHfgj She's Like Heroin System Of A Down Hypnotize\n",
      "1109/1573 : 1ez4uWPnJwYufNhYTLVsJr Soldier Side System Of A Down Hypnotize\n"
     ]
    },
    {
     "name": "stdout",
     "output_type": "stream",
     "text": [
      "1110/1573 : 0ELxqqeeisigIJhN6dsNHI Stealing Society System Of A Down Hypnotize\n",
      "1111/1573 : 11WZXXvGyrtUBp15TtojxA Tentative System Of A Down Hypnotize\n"
     ]
    },
    {
     "name": "stdout",
     "output_type": "stream",
     "text": [
      "1112/1573 : 0dgCqrI14Oe3nqGLS3qbzJ U-Fig System Of A Down Hypnotize\n",
      "1113/1573 : 5uMTA9SIe0sE4dnHHSHaYz Vicinity Of Obscenity System Of A Down Hypnotize\n"
     ]
    },
    {
     "name": "stdout",
     "output_type": "stream",
     "text": [
      "1114/1573 : 0EYOdF5FCkgOJJla8DI2Md B.Y.O.B. System Of A Down Mezmerize\n",
      "1115/1573 : 47EqCQZG5v4o0WFMufGf5S Cigaro System Of A Down Mezmerize\n"
     ]
    },
    {
     "name": "stdout",
     "output_type": "stream",
     "text": [
      "1116/1573 : 0GrHWVTDsaWcD4nrCGr7VE Lost In Hollywood System Of A Down Mezmerize\n"
     ]
    },
    {
     "name": "stdout",
     "output_type": "stream",
     "text": [
      "1117/1573 : 6iFVJGxSVdFkzYQJL7Rgdk Old School Hollywood System Of A Down Mezmerize\n"
     ]
    },
    {
     "name": "stdout",
     "output_type": "stream",
     "text": [
      "1118/1573 : 6y2DHyCYf6azhUfXmnuH6w Question! System Of A Down Mezmerize\n",
      "1119/1573 : 41pOIT2t1rvr2Trg1HQChZ Radio/Video System Of A Down Mezmerize\n"
     ]
    },
    {
     "name": "stdout",
     "output_type": "stream",
     "text": [
      "1120/1573 : 577mOFb1LAvSANIUZ4mbQ7 Revenga System Of A Down Mezmerize\n",
      "1121/1573 : 1wGRSG94dLt8fIZWhR3rGG Sad Statue System Of A Down Mezmerize\n"
     ]
    },
    {
     "name": "stdout",
     "output_type": "stream",
     "text": [
      "1122/1573 : 6f1HJMVJ1CgUeCIM6r795H Soldier Side - Intro System Of A Down Mezmerize\n"
     ]
    },
    {
     "name": "stdout",
     "output_type": "stream",
     "text": [
      "1123/1573 : 0DVHR5FQ0Gp2dsZJz7hfdy This Cocaine Makes Me Feel Like I'm On This Song System Of A Down Mezmerize\n"
     ]
    },
    {
     "name": "stdout",
     "output_type": "stream",
     "text": [
      "1124/1573 : 249Z7XT6mf8B2zuI0RaeS0 Violent Pornography System Of A Down Mezmerize\n"
     ]
    },
    {
     "name": "stdout",
     "output_type": "stream",
     "text": [
      "1125/1573 : 3F385pf2JrVgSwcyqBDZEu CUBErt System Of A Down System Of A Down\n"
     ]
    },
    {
     "name": "stdout",
     "output_type": "stream",
     "text": [
      "1126/1573 : 0GIvGfgr68OGkcCNFBAdrX Darts System Of A Down System Of A Down\n"
     ]
    },
    {
     "name": "stdout",
     "output_type": "stream",
     "text": [
      "1127/1573 : 1Cu3MCxugh9oia9betnm8i DDevil System Of A Down System Of A Down\n"
     ]
    },
    {
     "name": "stdout",
     "output_type": "stream",
     "text": [
      "1128/1573 : 1ByE7lUw6wWMTbCb3woHdK Know System Of A Down System Of A Down\n"
     ]
    },
    {
     "name": "stdout",
     "output_type": "stream",
     "text": [
      "1129/1573 : 658IQdgfrqSIf58I1AkWyz Mind System Of A Down System Of A Down\n"
     ]
    },
    {
     "name": "stdout",
     "output_type": "stream",
     "text": [
      "1130/1573 : 5ZjfvGPEW7AZ00QZR2XQBJ P.L.U.C.K. System Of A Down System Of A Down\n"
     ]
    },
    {
     "name": "stdout",
     "output_type": "stream",
     "text": [
      "1131/1573 : 53QqFzAWnl7D8IVBvCmRtc Peephole System Of A Down System Of A Down\n",
      "1132/1573 : 3gY25vepRvvspuoAfxCyRO Soil System Of A Down System Of A Down\n"
     ]
    },
    {
     "name": "stdout",
     "output_type": "stream",
     "text": [
      "1133/1573 : 4vAHXnJ5YWLq5hbIVzZS1h Spiders System Of A Down System Of A Down\n"
     ]
    },
    {
     "name": "stdout",
     "output_type": "stream",
     "text": [
      "1134/1573 : 31RTFPrB7wmYBhlkM2ILXG Sugar System Of A Down System Of A Down\n",
      "1135/1573 : 7phMc88qiwpKzOAIiR3xIU Suggestions System Of A Down System Of A Down\n",
      "1136/1573 : 1qGmxIGEuBEkj7bft72Kh0 Suite-Pee System Of A Down System Of A Down\n"
     ]
    },
    {
     "name": "stdout",
     "output_type": "stream",
     "text": [
      "1137/1573 : 5Q7m1Km199HHMB926xxbrs War? System Of A Down System Of A Down\n",
      "1138/1573 : 4e9eGQYsOiBcftrWXwsVco Aerials System Of A Down Toxicity\n"
     ]
    },
    {
     "name": "stdout",
     "output_type": "stream",
     "text": [
      "1139/1573 : 0aueluj36PA9LNoj7d9SFb Arto System Of A Down Toxicity\n",
      "1140/1573 : 6gCVA6ja6g0foIsWv0RuSZ ATWA System Of A Down Toxicity\n"
     ]
    },
    {
     "name": "stdout",
     "output_type": "stream",
     "text": [
      "1141/1573 : 6dr2T6DRymdT1jfSUxDgut Bounce System Of A Down Toxicity\n",
      "1142/1573 : 2DlHlPMa4M17kufBvI2lEN Chop Suey! System Of A Down Toxicity\n"
     ]
    },
    {
     "name": "stdout",
     "output_type": "stream",
     "text": [
      "1143/1573 : 2SpGXD7EbexndFmmThrnsy Deer Dance System Of A Down Toxicity\n",
      "1144/1573 : 1B5Y9I5wPfvD3C2A81A36C Forest System Of A Down Toxicity\n"
     ]
    },
    {
     "name": "stdout",
     "output_type": "stream",
     "text": [
      "1145/1573 : 0a2kVvbCbk52gmeFQFHNaG Jet Pilot System Of A Down Toxicity\n",
      "1146/1573 : 6V8oQXzymTzpEZOsiBiyJT Needles System Of A Down Toxicity\n"
     ]
    },
    {
     "name": "stdout",
     "output_type": "stream",
     "text": [
      "1147/1573 : 3AwLxSqo1jOOMpNsgxqRNE Prison Song System Of A Down Toxicity\n"
     ]
    },
    {
     "name": "stdout",
     "output_type": "stream",
     "text": [
      "1148/1573 : 6VzV6RI7641o57TuqfGRpj Psycho System Of A Down Toxicity\n",
      "1149/1573 : 58lcznIKSNlOVdmklrPA99 Science System Of A Down Toxicity\n",
      "1150/1573 : 1a3X8Y882vwSnlnHqf9ztF Shimmy System Of A Down Toxicity\n"
     ]
    },
    {
     "name": "stdout",
     "output_type": "stream",
     "text": [
      "1151/1573 : 0snQkGI5qnAmohLE7jTsTn Toxicity System Of A Down Toxicity\n",
      "1152/1573 : 4HIKcEKSijQLW5YNLsdLzt X System Of A Down Toxicity\n"
     ]
    },
    {
     "name": "stdout",
     "output_type": "stream",
     "text": [
      "1153/1573 : 5QRfoW5XLqBM2oCPRg2Sr7 L'urlo della strega Tangerine Stoned Tangerine Stoned\n",
      "1154/1573 : 0aF9m87P8Tja3NUMv4DfHt Head Over Heels / Broken Tears For Fears Songs From The Big Chair\n"
     ]
    },
    {
     "name": "stdout",
     "output_type": "stream",
     "text": [
      "1155/1573 : 4RvWPyQ5RL0ao9LPZeSouE Everybody Wants To Rule The World Tears For Fears Songs From The Big Chair (Super Deluxe Edition)\n",
      "1156/1573 : 0aF9m87P8Tja3NUMv4DfHt Head Over Heels / Broken Tears For Fears Songs From The Big Chair\n"
     ]
    },
    {
     "name": "stdout",
     "output_type": "stream",
     "text": [
      "1157/1573 : 2iwXxZD87p1Q3ISveQteiJ I Believe Tears For Fears Songs From The Big Chair\n",
      "1158/1573 : 6eAPuRbhPyTwY0xTBkHHtH Listen Tears For Fears Songs From The Big Chair\n"
     ]
    },
    {
     "name": "stdout",
     "output_type": "stream",
     "text": [
      "1159/1573 : 2p87CAEgL7eJzVgNZt2M0J Mothers Talk Tears For Fears Songs From The Big Chair\n",
      "1160/1573 : 2gQaQUhDCNGfBVXTvxAmXQ Shout Tears For Fears Songs From The Big Chair\n"
     ]
    },
    {
     "name": "stdout",
     "output_type": "stream",
     "text": [
      "1161/1573 : 23DKn3AP0fpx1aAYth2Pax The Working Hour Tears For Fears Songs From The Big Chair\n",
      "1162/1573 : 19HjHUjCfDrEYhVSIKG6nK I'd Love to Change the World - 2004 Remaster Ten Years After A Space in Time (Deluxe Version)\n"
     ]
    },
    {
     "name": "stdout",
     "output_type": "stream",
     "text": [
      "1163/1573 : 478d70Vg2ljAG28eeDp2w5 Rize of the Fenix Tenacious D Rize Of The Fenix\n",
      "1164/1573 : 7x86D0wH2PrWgSLz8Wtnzf Business Suits and Combat Boots The Agonist Once Only Imagined\n"
     ]
    },
    {
     "name": "stdout",
     "output_type": "stream",
     "text": [
      "1165/1573 : 0uMhYGXAgnP2Y7TMyUPUgd See See Rider (Bonus Track) The Animals Animalisms\n",
      "1166/1573 : 1rxoyGj1QuPoVi8fOft1Kt Because - Remastered 2009 The Beatles Abbey Road (Remastered)\n"
     ]
    },
    {
     "name": "stdout",
     "output_type": "stream",
     "text": [
      "1167/1573 : 5eZrW59C3UgBhkqNlowEID Carry That Weight - Remastered 2009 The Beatles Abbey Road (Remastered)\n",
      "1168/1573 : 2EqlS6tkEnglzr7tkKAAYD Come Together - Remastered 2009 The Beatles Abbey Road (Remastered)\n",
      "1169/1573 : 01SfTM5nfCou5gQL70r6gs Golden Slumbers - Remastered 2009 The Beatles Abbey Road (Remastered)\n"
     ]
    },
    {
     "name": "stdout",
     "output_type": "stream",
     "text": [
      "1170/1573 : 52hm7o5MPKymBUmSJadwve Her Majesty - Takes 1-3 The Beatles Abbey Road (Super Deluxe Edition)\n",
      "1171/1573 : 6dGnYIeXmHdcikdzNNDMm2 Here Comes The Sun - Remastered 2009 The Beatles Abbey Road (Remastered)\n"
     ]
    },
    {
     "name": "stdout",
     "output_type": "stream",
     "text": [
      "1172/1573 : 3Z25k4ZF6QENy2d9YatsM5 I Want You (She's So Heavy) - Remastered 2009 The Beatles Abbey Road (Remastered)\n",
      "1173/1573 : 2S8xyNRJX1XQdo3qnTuovI Maxwell's Silver Hammer - Remastered 2009 The Beatles Abbey Road (Remastered)\n"
     ]
    },
    {
     "name": "stdout",
     "output_type": "stream",
     "text": [
      "1174/1573 : 4JOyMhad5dD81uGYLGgKrS Mean Mr Mustard - Remastered 2009 The Beatles Abbey Road (Remastered)\n",
      "1175/1573 : 0suLngfo7rJoetk7Ub6N8l Octopus's Garden - Remastered 2009 The Beatles Abbey Road (Remastered)\n"
     ]
    },
    {
     "name": "stdout",
     "output_type": "stream",
     "text": [
      "1176/1573 : 2mxByJWOajjiVsLWjNXvDJ Oh! Darling - Remastered 2009 The Beatles Abbey Road (Remastered)\n",
      "1177/1573 : 1FTCA6wQwulQFokDddKE68 Polythene Pam - Remastered 2009 The Beatles Abbey Road (Remastered)\n"
     ]
    },
    {
     "name": "stdout",
     "output_type": "stream",
     "text": [
      "1178/1573 : 2jtUGFsqanQ82zqDlhiKIp She Came In Through The Bathroom Window - Remastered 2009 The Beatles Abbey Road (Remastered)\n"
     ]
    },
    {
     "name": "stdout",
     "output_type": "stream",
     "text": [
      "1179/1573 : 0pNeVovbiZHkulpGeOx1Gj Something - Remastered 2009 The Beatles Abbey Road (Remastered)\n",
      "1180/1573 : 4nwKdZID1ht0lDBJ5h2p87 Sun King - Remastered 2009 The Beatles Abbey Road (Remastered)\n"
     ]
    },
    {
     "name": "stdout",
     "output_type": "stream",
     "text": [
      "1181/1573 : 5aHHf6jrqDRb1fcBmue2kn The End - Remastered 2009 The Beatles Abbey Road (Remastered)\n",
      "1182/1573 : 1jOLTO379yIu9aMnCkpMQl You Never Give Me Your Money - Remastered 2009 The Beatles Abbey Road (Remastered)\n"
     ]
    },
    {
     "name": "stdout",
     "output_type": "stream",
     "text": [
      "1183/1573 : 68BTFws92cRztMS1oQ7Ewj All You Need Is Love - Remastered 2009 The Beatles Magical Mystery Tour (Remastered)\n",
      "1184/1573 : 0JBvtprXP2Z0LP3jmzA7Xp Baby, You're A Rich Man - Remastered 2009 The Beatles Magical Mystery Tour (Remastered)\n"
     ]
    },
    {
     "name": "stdout",
     "output_type": "stream",
     "text": [
      "1185/1573 : 0QIX9BS0AUCQcHYvyrsMkV Blue Jay Way - Remastered 2009 The Beatles Magical Mystery Tour (Remastered)\n",
      "1186/1573 : 1itLKsCWHtLnxALkgBk1Fa Flying - Remastered 2009 The Beatles Magical Mystery Tour (Remastered)\n"
     ]
    },
    {
     "name": "stdout",
     "output_type": "stream",
     "text": [
      "1187/1573 : 0vZ97gHhemKm6c64hTfJNA Hello, Goodbye - Remastered 2009 The Beatles Magical Mystery Tour (Remastered)\n",
      "1188/1573 : 6Pq9MmkDQYZiiCDpxnvrf6 I Am The Walrus - Remastered 2009 The Beatles Magical Mystery Tour (Remastered)\n"
     ]
    },
    {
     "name": "stdout",
     "output_type": "stream",
     "text": [
      "1189/1573 : 0qHMhBZqYb99yhX9BHcIkV Magical Mystery Tour - Remastered 2009 The Beatles Magical Mystery Tour (Remastered)\n",
      "1190/1573 : 1h04XMpzGzmAudoI6VHBgA Penny Lane - Remastered 2009 The Beatles Magical Mystery Tour (Remastered)\n"
     ]
    },
    {
     "name": "stdout",
     "output_type": "stream",
     "text": [
      "1191/1573 : 3Am0IbOxmvlSXro7N5iSfZ Strawberry Fields Forever - Remastered 2009 The Beatles Magical Mystery Tour (Remastered)\n",
      "1192/1573 : 6rHh8urosEFRI67xVa6fzU The Fool On The Hill - Remastered 2009 The Beatles Magical Mystery Tour (Remastered)\n"
     ]
    },
    {
     "name": "stdout",
     "output_type": "stream",
     "text": [
      "1193/1573 : 1dxbAIfCASqv6jix2R1Taj Your Mother Should Know - Remastered 2009 The Beatles Magical Mystery Tour (Remastered)\n",
      "1194/1573 : 4KRgqwb4kvBuTz1utbYxfb And Your Bird Can Sing - Remastered 2009 The Beatles Revolver (Remastered)\n"
     ]
    },
    {
     "name": "stdout",
     "output_type": "stream",
     "text": [
      "1195/1573 : 1ob06Ol8FMIPQgjpg7bMyk Doctor Robert - Remastered 2009 The Beatles Revolver (Remastered)\n",
      "1196/1573 : 5GjPQ0eI7AgmOnADn1EO6Q Eleanor Rigby - Remastered 2009 The Beatles Revolver (Remastered)\n"
     ]
    },
    {
     "name": "stdout",
     "output_type": "stream",
     "text": [
      "1197/1573 : 1kDkaFlmkdEZiVUogaP9OZ For No One - Remastered 2009 The Beatles Revolver (Remastered)\n",
      "1198/1573 : 7HTH1ppjkkOe7RLoBDKXYJ Good Day Sunshine - Remastered 2009 The Beatles Revolver (Remastered)\n"
     ]
    },
    {
     "name": "stdout",
     "output_type": "stream",
     "text": [
      "1199/1573 : 3tGhRLgcCP6SIZU3tbGl7l Got To Get You Into My Life - Remastered 2009 The Beatles Revolver (Remastered)\n",
      "1200/1573 : 2B4Y9u4ERAFiMo13XPJyGP Here, There And Everywhere - Remastered 2009 The Beatles Revolver (Remastered)\n"
     ]
    },
    {
     "name": "stdout",
     "output_type": "stream",
     "text": [
      "1201/1573 : 7orb0y6ySGdsYZywMoQtsD I Want To Tell You - Remastered 2009 The Beatles Revolver (Remastered)\n",
      "1202/1573 : 2ylCrFiBu98SC0vFfaCent I'm Only Sleeping - Remastered 2009 The Beatles Revolver (Remastered)\n"
     ]
    },
    {
     "name": "stdout",
     "output_type": "stream",
     "text": [
      "1203/1573 : 4RdJFhfLQcezwN5LsXl4qP Love You To - Remastered 2009 The Beatles Revolver (Remastered)\n",
      "1204/1573 : 3VSuWxZM6x6V3ig5nYtikL She Said She Said - Remastered 2009 The Beatles Revolver (Remastered)\n"
     ]
    },
    {
     "name": "stdout",
     "output_type": "stream",
     "text": [
      "1205/1573 : 4BRkPBUxOYffM2QXVlq7aC Taxman - Remastered 2009 The Beatles Revolver (Remastered)\n",
      "1206/1573 : 00oZhqZIQfL9P5CjOP6JsO Tomorrow Never Knows - Remastered 2009 The Beatles Revolver (Remastered)\n"
     ]
    },
    {
     "name": "stdout",
     "output_type": "stream",
     "text": [
      "1207/1573 : 50xwQXPtfNZFKFeZ0XePWc Yellow Submarine - Remastered 2009 The Beatles Revolver (Remastered)\n"
     ]
    },
    {
     "name": "stdout",
     "output_type": "stream",
     "text": [
      "1208/1573 : 0hKRSZhUGEhKU6aNSPBACZ A Day In The Life - Remastered 2009 The Beatles Sgt. Pepper's Lonely Hearts Club Band (Remastered)\n"
     ]
    },
    {
     "name": "stdout",
     "output_type": "stream",
     "text": [
      "1209/1573 : 6W35n1UlkvqhfMZstB4BXs Being For The Benefit Of Mr. Kite! - Remastered 2009 The Beatles Sgt. Pepper's Lonely Hearts Club Band (Remastered)\n"
     ]
    },
    {
     "name": "stdout",
     "output_type": "stream",
     "text": [
      "1210/1573 : 3pKKxkeB1pOUMHwWBmKc3Y Fixing A Hole - Remastered 2009 The Beatles Sgt. Pepper's Lonely Hearts Club Band (Remastered)\n"
     ]
    },
    {
     "name": "stdout",
     "output_type": "stream",
     "text": [
      "1211/1573 : 3LtOmWpTXLhilL5odoKysR Getting Better - Remastered 2009 The Beatles Sgt. Pepper's Lonely Hearts Club Band (Remastered)\n"
     ]
    },
    {
     "name": "stdout",
     "output_type": "stream",
     "text": [
      "1212/1573 : 0xIuNHHcKI1JDuBPlSwzb1 Good Morning Good Morning - Remastered 2009 The Beatles Sgt. Pepper's Lonely Hearts Club Band (Remastered)\n"
     ]
    },
    {
     "name": "stdout",
     "output_type": "stream",
     "text": [
      "1213/1573 : 6h9W5FxX4E9lUFsyq8j1AD Lovely Rita - Remastered 2009 The Beatles Sgt. Pepper's Lonely Hearts Club Band (Remastered)\n"
     ]
    },
    {
     "name": "stdout",
     "output_type": "stream",
     "text": [
      "1214/1573 : 25yQPHgC35WNnnOUqFhgVR Lucy In The Sky With Diamonds - Remastered 2009 The Beatles Sgt. Pepper's Lonely Hearts Club Band (Remastered)\n"
     ]
    },
    {
     "name": "stdout",
     "output_type": "stream",
     "text": [
      "1215/1573 : 4fUKE8EULjQdHF4zb0M8FO Sgt. Pepper's Lonely Hearts Club Band - Remastered 2009 The Beatles Sgt. Pepper's Lonely Hearts Club Band (Remastered)\n"
     ]
    },
    {
     "name": "stdout",
     "output_type": "stream",
     "text": [
      "1216/1573 : 42ocGQCOT0xYtV3f5kJDsD Sgt. Pepper's Lonely Hearts Club Band - Reprise / Remastered 2009 The Beatles Sgt. Pepper's Lonely Hearts Club Band (Remastered)\n",
      "1217/1573 : 3PjMtNzwhDHqxoKudm6GvF She's Leaving Home - Remastered 2009 The Beatles Sgt. Pepper's Lonely Hearts Club Band (Remastered)\n"
     ]
    },
    {
     "name": "stdout",
     "output_type": "stream",
     "text": [
      "1218/1573 : 1NrbnHlR2BFREcyWXHIHip When I'm Sixty Four - Remastered 2009 The Beatles Sgt. Pepper's Lonely Hearts Club Band (Remastered)\n",
      "1219/1573 : 2RnPATK99oGOZygnD2GTO6 With A Little Help From My Friends - Remastered 2009 The Beatles Sgt. Pepper's Lonely Hearts Club Band (Remastered)\n"
     ]
    },
    {
     "name": "stdout",
     "output_type": "stream",
     "text": [
      "1220/1573 : 3Umg8CDhO8dOSj7yBTInYb Within You Without You - Remastered 2009 The Beatles Sgt. Pepper's Lonely Hearts Club Band (Remastered)\n",
      "1221/1573 : 0j3p1p06deJ7f9xmJ9yG22 Back In The U.S.S.R. - Remastered 2009 The Beatles The Beatles (Remastered)\n"
     ]
    },
    {
     "name": "stdout",
     "output_type": "stream",
     "text": [
      "1222/1573 : 1ABegtCPBMMJaMpfDyATjE Birthday - Remastered 2009 The Beatles The Beatles (Remastered)\n",
      "1223/1573 : 5jgFfDIR6FR0gvlA56Nakr Blackbird - Remastered 2009 The Beatles The Beatles (Remastered)\n"
     ]
    },
    {
     "name": "stdout",
     "output_type": "stream",
     "text": [
      "1224/1573 : 5XmetMMUFNXClbiYnGdVmP Cry Baby Cry - Remastered 2009 The Beatles The Beatles (Remastered)\n"
     ]
    },
    {
     "name": "stdout",
     "output_type": "stream",
     "text": [
      "1225/1573 : 5NQYyej46WQkgCbnzGD21W Dear Prudence - Remastered 2009 The Beatles The Beatles (Remastered)\n",
      "1226/1573 : 4uKyLqJHDjT6mdA22ofxuM A Beginning (Take 4) / Don’t Pass Me By (Take 7) The Beatles The Beatles\n"
     ]
    },
    {
     "name": "stdout",
     "output_type": "stream",
     "text": [
      "1227/1573 : 64P3zpRsDHIk7YTpRtaKYL Everybody's Got Something To Hide Except Me And My Monkey - Remastered 2009 The Beatles The Beatles (Remastered)\n",
      "1228/1573 : 2jAojvUaPoHPFSPpF0UNRo Glass Onion - Remastered 2009 The Beatles The Beatles (Remastered)\n"
     ]
    },
    {
     "name": "stdout",
     "output_type": "stream",
     "text": [
      "1229/1573 : 3T4Kt51PV4k8tx6YCtBgcl Good Night - Remastered 2009 The Beatles The Beatles (Remastered)\n",
      "1230/1573 : 71LsKf3xISiOlY1mj7FFPP Happiness Is A Warm Gun - Remastered 2009 The Beatles The Beatles (Remastered)\n"
     ]
    },
    {
     "name": "stdout",
     "output_type": "stream",
     "text": [
      "1231/1573 : 0Bs0hUYxz7REyIHH7tRhL2 Helter Skelter - Remastered 2009 The Beatles The Beatles (Remastered)\n",
      "1232/1573 : 1TPcNcmuKlq0PKpYOBgP1U Honey Pie - Remastered 2009 The Beatles The Beatles (Remastered)\n"
     ]
    },
    {
     "name": "stdout",
     "output_type": "stream",
     "text": [
      "1233/1573 : 09x9v1o51dbqi5H0u7UGfp I Will - Remastered 2009 The Beatles The Beatles (Remastered)\n",
      "1234/1573 : 2X9H5BokS1u5O46YpNYNsZ I'm So Tired - Remastered 2009 The Beatles The Beatles (Remastered)\n"
     ]
    },
    {
     "name": "stdout",
     "output_type": "stream",
     "text": [
      "1235/1573 : 5FnpXVgDOk2sLT58qM22Of Julia - Remastered 2009 The Beatles The Beatles (Remastered)\n"
     ]
    },
    {
     "name": "stdout",
     "output_type": "stream",
     "text": [
      "1236/1573 : 4ekUX4pWizXXksJe0JfS9U It Won't Be Long - Remastered 2009 The Beatles With The Beatles (Remastered)\n",
      "1237/1573 : 1swmf4hFMJYRNA8Rq9PVaW Martha My Dear - Remastered 2009 The Beatles The Beatles (Remastered)\n"
     ]
    },
    {
     "name": "stdout",
     "output_type": "stream",
     "text": [
      "1238/1573 : 6TjUg1cTUzWHbal6yQAi7c Mother Nature's Son - Remastered 2009 The Beatles The Beatles (Remastered)\n",
      "1239/1573 : 1gFNm7cXfG1vSMcxPpSxec Ob-La-Di, Ob-La-Da - Remastered 2009 The Beatles The Beatles (Remastered)\n"
     ]
    },
    {
     "name": "stdout",
     "output_type": "stream",
     "text": [
      "1240/1573 : 4ZmjfLdJXbqjAENqk7eWSE Piggies - Remastered 2009 The Beatles The Beatles (Remastered)\n",
      "1241/1573 : 5dZ8PeKKZJLIQAWNTdp8WX Revolution 9 - Remastered 2009 The Beatles The Beatles (Remastered)\n"
     ]
    },
    {
     "name": "stdout",
     "output_type": "stream",
     "text": [
      "1242/1573 : 0xulhqNI2L3CoAe0CLe65V Revolution - Take 14 / Instrumental Backing Track The Beatles The Beatles\n",
      "1243/1573 : 1ITQbrueGLl581a25XXm9c Rocky Raccoon - Remastered 2009 The Beatles The Beatles (Remastered)\n"
     ]
    },
    {
     "name": "stdout",
     "output_type": "stream",
     "text": [
      "1244/1573 : 5iyCSUM7zzficwaGo8GIoc Savoy Truffle - Remastered 2009 The Beatles The Beatles (Remastered)\n",
      "1245/1573 : 2tBv9tAdqEbLNDi5smSjbg Sexy Sadie - Remastered 2009 The Beatles The Beatles (Remastered)\n"
     ]
    },
    {
     "name": "stdout",
     "output_type": "stream",
     "text": [
      "1246/1573 : 5Z3Rd1fMcaty8g5Pn7yhBQ The Continuing Story Of Bungalow Bill - Remastered 2009 The Beatles The Beatles (Remastered)\n",
      "1247/1573 : 389QX9Q1eUOEZ19vtzzI9O While My Guitar Gently Weeps - Remastered 2009 The Beatles The Beatles (Remastered)\n"
     ]
    },
    {
     "name": "stdout",
     "output_type": "stream",
     "text": [
      "1248/1573 : 4eLIq1nQNwz2qLu8DeiWIp Why Don't We Do It In The Road? - Remastered 2009 The Beatles The Beatles (Remastered)\n",
      "1249/1573 : 6j67aNAPeQ31uw4qw4rpLa Wild Honey Pie - Remastered 2009 The Beatles The Beatles (Remastered)\n"
     ]
    },
    {
     "name": "stdout",
     "output_type": "stream",
     "text": [
      "1250/1573 : 2AsGApoUuN8pTM17Lq9eUd Yer Blues - Remastered 2009 The Beatles The Beatles (Remastered)\n",
      "artist:The Bee Gees track:Jive Talkin  album:Main Course not in spotify\n"
     ]
    },
    {
     "name": "stdout",
     "output_type": "stream",
     "text": [
      "1252/1573 : 4viH84DDeaSUR1isFpJGHN Stayin' Alive (In the Style of Bee Gees) [Karaoke Version] The Karaoke Channel The Karaoke Channel - Sing Songs Used in the Movie Saturday Night Fever\n",
      "1253/1573 : 5lN1EH25gdiqT1SFALMAq1 Gold on the Ceiling The Black Keys El Camino\n"
     ]
    },
    {
     "name": "stdout",
     "output_type": "stream",
     "text": [
      "1254/1573 : 5G1sTBGbZT5o4PNRc75RKI Lonely Boy The Black Keys El Camino\n"
     ]
    },
    {
     "name": "stdout",
     "output_type": "stream",
     "text": [
      "1255/1573 : 5inmQ7dVwQtvWJn8L4iFs6 Sweet Home Chicago London Theatre Orchestra & Cast The Blues Brothers\n"
     ]
    },
    {
     "name": "stdout",
     "output_type": "stream",
     "text": [
      "1256/1573 : 2yBVeksU2EtrPJbTu4ZslK What a Fool Believes The Doobie Brothers Minute by Minute\n",
      "1257/1573 : 2yBVeksU2EtrPJbTu4ZslK What a Fool Believes The Doobie Brothers Minute by Minute\n"
     ]
    },
    {
     "name": "stdout",
     "output_type": "stream",
     "text": [
      "artist:The Doors track:(You Need Meat) Don t Go No Further album:L.A. Woman not in spotify\n",
      "1259/1573 : 1E7qCptwRPfvZrIDyDDgjh Been down so Long The Doors L.A. Woman\n"
     ]
    },
    {
     "name": "stdout",
     "output_type": "stream",
     "text": [
      "1260/1573 : 2Sjez1CwJv8Pz018CxKjWa Cars Hiss by My Window The Doors L.A. Woman\n",
      "1261/1573 : 14qbY7LbhcXwECCGqH2z7U Crawling King Snake The Doors L.A. Woman\n"
     ]
    },
    {
     "name": "stdout",
     "output_type": "stream",
     "text": [
      "1262/1573 : 4nKmlUaUiUN4rpMGYnUPAu Hyacinth House The Doors L.A. Woman\n",
      "1263/1573 : 6DmfWj5kOa1fX8AwN9byOn L.A. Woman The Doors L.A. Woman\n",
      "1264/1573 : 4RE79d7ACKfTPC7qE65xpi L'America The Doors L.A. Woman\n"
     ]
    },
    {
     "name": "stdout",
     "output_type": "stream",
     "text": [
      "1265/1573 : 3MFFDRC4wTN9JNGtzXsZlN Love Her Madly The Doors L.A. Woman\n",
      "1266/1573 : 14XWXWv5FoCbFzLksawpEe Riders on the Storm The Doors L.A. Woman\n"
     ]
    },
    {
     "name": "stdout",
     "output_type": "stream",
     "text": [
      "1267/1573 : 3uqxwLp7Hs9sJhm4uVF8li The Changeling The Doors L.A. Woman\n",
      "1268/1573 : 6ieXnWm8uineF8k9Ugn5DG The WASP (Texas Radio and the Big Beat) The Doors L.A. Woman\n"
     ]
    },
    {
     "name": "stdout",
     "output_type": "stream",
     "text": [
      "1269/1573 : 42dsUTJpzMWUJfEkzsbKWl When the Music's Over The Doors Strange Days\n",
      "1270/1573 : 0JNZGIavoUrdup1NsgJOQs Alabama Song (Whisky Bar) The Doors The Doors\n"
     ]
    },
    {
     "name": "stdout",
     "output_type": "stream",
     "text": [
      "1271/1573 : 03By6gD02qhtvIQiK8KidK Back Door Man The Doors The Doors\n"
     ]
    },
    {
     "name": "stdout",
     "output_type": "stream",
     "text": [
      "1272/1573 : 6ToM0uwxtPKo9CMpbPGYvM Break on Through (To the Other Side) The Doors The Doors\n"
     ]
    },
    {
     "name": "stdout",
     "output_type": "stream",
     "text": [
      "1273/1573 : 09ezgACZuwWZt6CtQSSLRG End of the Night The Doors The Doors\n",
      "1274/1573 : 6vCLIvOIabRk1XQfMb6RXi I Looked at You The Doors The Doors\n"
     ]
    },
    {
     "name": "stdout",
     "output_type": "stream",
     "text": [
      "1275/1573 : 5uvosCdMlFdTXhoazkTI5R Light My Fire The Doors The Doors\n",
      "1276/1573 : 2Xdc6qyaFBJZ8QW1KhpVci Soul Kitchen The Doors The Doors\n"
     ]
    },
    {
     "name": "stdout",
     "output_type": "stream",
     "text": [
      "1277/1573 : 4pxHVL0syMQwYK3BxDaTIs Take It as It Comes The Doors The Doors\n"
     ]
    },
    {
     "name": "stdout",
     "output_type": "stream",
     "text": [
      "1278/1573 : 0gWvVB4bGvADocoPMEDy3K The Crystal Ship The Doors The Doors\n",
      "1279/1573 : 5UgT7w6zVZjP3oyawMzbiK The End The Doors The Doors\n"
     ]
    },
    {
     "name": "stdout",
     "output_type": "stream",
     "text": [
      "1280/1573 : 7mc2TP4Vzuyw2vNf1bLW9f Twentieth Century Fox The Doors The Doors\n",
      "1281/1573 : 55eILhe6Yr58TuLxHskVh1 Dawn Patrol The Eliminators Unleashed\n"
     ]
    },
    {
     "name": "stdout",
     "output_type": "stream",
     "text": [
      "artist:The Killers track:Somedy Told Me album:Hot Fuss not in spotify\n",
      "1283/1573 : 6jX5mso4x00c1EiNMrTU9U Please Mr. Postman The Marvelettes Please Mr. Postman\n"
     ]
    },
    {
     "name": "stdout",
     "output_type": "stream",
     "text": [
      "1284/1573 : 41AzqP02Aat8A8Orp5tGWh Come Out and Play The Offspring Smash (2008 Remaster)\n",
      "1285/1573 : 4cHObLf8gg0XIvi7AsUPuJ Be My Girl - Sally The Police Outlandos D'Amour (Remastered 2003)\n"
     ]
    },
    {
     "name": "stdout",
     "output_type": "stream",
     "text": [
      "1286/1573 : 0RxrsIXyGkeV8JwEFUZMhg Born In The 50's The Police Outlandos D'Amour (Remastered 2003)\n"
     ]
    },
    {
     "name": "stdout",
     "output_type": "stream",
     "text": [
      "1287/1573 : 6DjKJgwe9c90Bd2iya0fre Can't Stand Losing You The Police Outlandos D'Amour (Remastered 2003)\n",
      "1288/1573 : 25McPIqh9oSdPSP36Gu7Jp Hole In My Life The Police Outlandos D'Amour (Remastered 2003)\n",
      "1289/1573 : 4i4zjkLYGOwHXbNTnsesGe Masoko Tanga The Police Outlandos D'Amour (Remastered 2003)\n"
     ]
    },
    {
     "name": "stdout",
     "output_type": "stream",
     "text": [
      "1290/1573 : 7HjipY3Vy2HAN11D2juKHT Next To You The Police Outlandos D'Amour (Remastered 2003)\n",
      "1291/1573 : 7Jsli31ZTv3TI28qcXzEkE Peanuts The Police Outlandos D'Amour (Remastered 2003)\n"
     ]
    },
    {
     "name": "stdout",
     "output_type": "stream",
     "text": [
      "1292/1573 : 3EYOJ48Et32uATr9ZmLnAo Roxanne The Police Outlandos D'Amour (Remastered 2003)\n",
      "1293/1573 : 2wnsBaxrmkthIFAm6vqCuX So Lonely The Police Outlandos D'Amour (Remastered 2003)\n"
     ]
    },
    {
     "name": "stdout",
     "output_type": "stream",
     "text": [
      "1294/1573 : 4pLhVO0JuMiFDSJYDiGP7S Truth Hits Everybody The Police Outlandos D'Amour (Remastered 2003)\n",
      "artist:The Pretenders track:Almost Perfect album:Break Up the Concrete not in spotify\n"
     ]
    },
    {
     "name": "stdout",
     "output_type": "stream",
     "text": [
      "artist:The Pretenders track:Boots of Chinese Plastic album:Break Up the Concrete not in spotify\n"
     ]
    },
    {
     "name": "stdout",
     "output_type": "stream",
     "text": [
      "artist:The Pretenders track:Break Up the Concrete album:Break Up the Concrete not in spotify\n"
     ]
    },
    {
     "name": "stdout",
     "output_type": "stream",
     "text": [
      "artist:The Pretenders track:Don t Cut Your Hair album:Break Up the Concrete not in spotify\n"
     ]
    },
    {
     "name": "stdout",
     "output_type": "stream",
     "text": [
      "artist:The Pretenders track:Don t Lose Faith in Me album:Break Up the Concrete not in spotify\n"
     ]
    },
    {
     "name": "stdout",
     "output_type": "stream",
     "text": [
      "artist:The Pretenders track:Love s a Mystery album:Break Up the Concrete not in spotify\n"
     ]
    },
    {
     "name": "stdout",
     "output_type": "stream",
     "text": [
      "artist:The Pretenders track:One thing never changed album:Break Up the Concrete not in spotify\n",
      "artist:The Pretenders track:Rosalee album:Break Up the Concrete not in spotify\n"
     ]
    },
    {
     "name": "stdout",
     "output_type": "stream",
     "text": [
      "artist:The Pretenders track:The Last Ride album:Break Up the Concrete not in spotify\n",
      "artist:The Pretenders track:The Nothing Maker album:Break Up the Concrete not in spotify\n"
     ]
    },
    {
     "name": "stdout",
     "output_type": "stream",
     "text": [
      "artist:The Pretenders track:You Didn t Have To album:Break Up the Concrete not in spotify\n",
      "1306/1573 : 6AznTnbCau8hm34I1spHIj Blitzkrieg Bop Jim Lindberg, Brats On The Beat Singers Brats On The Beat: Ramones For Kids\n"
     ]
    },
    {
     "name": "stdout",
     "output_type": "stream",
     "text": [
      "1307/1573 : 1Xdhp215nsdETJ17AtC7ve Paint It, Black The Rolling Stones Big Hits (High Tide and Green Grass)\n",
      "1308/1573 : 2PzU4IB8Dr6mxV3lHuaG34 (I Can't Get No) Satisfaction - Mono Version The Rolling Stones Out Of Our Heads\n"
     ]
    },
    {
     "name": "stdout",
     "output_type": "stream",
     "text": [
      "1309/1573 : 77oU2rjC5XbjQfNe3bD6so Beast Of Burden - Remastered The Rolling Stones Some Girls\n",
      "artist:The Shutes track:Echo Of Love album:Bright Blue Berlin Sky not in spotify\n"
     ]
    },
    {
     "name": "stdout",
     "output_type": "stream",
     "text": [
      "1311/1573 : 6oLkjvoxlMBTvkZp80qr8j Armageddon The Skints Swimming Lessons\n",
      "1312/1573 : 67dUbEzM08T33e1cJwqWOf Donkey Brain The Skints Swimming Lessons\n",
      "1313/1573 : 79o3E0w2LxEE1xFa3rSQDI Gets on Top The Skints Swimming Lessons\n"
     ]
    },
    {
     "name": "stdout",
     "output_type": "stream",
     "text": [
      "1314/1573 : 7ItGWAFE1mL5zRY2FP7sbH I'm a Fool The Skints Swimming Lessons\n",
      "1315/1573 : 1Fv3HXp8X6ca1mBAnPRgY8 La La La The Skints Swimming Lessons\n"
     ]
    },
    {
     "name": "stdout",
     "output_type": "stream",
     "text": [
      "1316/1573 : 6jZigSdBjou8UjTmo0qIPn Learning to Swim The Skints Swimming Lessons\n",
      "1317/1573 : 6wLD6BlEDdtVsAcQvpGZTb Love is the Devil The Skints Swimming Lessons\n"
     ]
    },
    {
     "name": "stdout",
     "output_type": "stream",
     "text": [
      "1318/1573 : 5JjhxNp40aX982GU7Mqtze New Kind of Friend The Skints Swimming Lessons\n",
      "1319/1573 : 4s4qkPt2enoBT0AvAVOkOo Oh My Love The Skints Swimming Lessons\n",
      "1320/1573 : 6Pivf1vb0CqdocaQDoaAP2 Restless The Skints Swimming Lessons\n"
     ]
    },
    {
     "name": "stdout",
     "output_type": "stream",
     "text": [
      "1321/1573 : 4fehscYU2DqceDaxDtbk74 Stop Looking Back The Skints Swimming Lessons\n",
      "1322/1573 : 4fookAEFrK1ROLsH2pSiak The Island The Skints Swimming Lessons\n"
     ]
    },
    {
     "name": "stdout",
     "output_type": "stream",
     "text": [
      "1323/1573 : 69C44oYQBEteub1apzAOAW This is an Interlude The Skints Swimming Lessons\n",
      "artist:The Skints track:What Did I Learned Today? album:Swimming Lessons not in spotify\n"
     ]
    },
    {
     "name": "stdout",
     "output_type": "stream",
     "text": [
      "1325/1573 : 7ledv9CTjqdwnvHgRmETyZ Flowers On the Wall The Statler Brothers Flowers On The Wall: The Essential Statler Brothers 1964-1969\n",
      "1326/1573 : 57Xjny5yNzAcsxnusKmAfA Reptilia The Strokes Room On Fire\n"
     ]
    },
    {
     "name": "stdout",
     "output_type": "stream",
     "text": [
      "1327/1573 : 5jUA1njy3h6ynHLvPdEVHt Disco Inferno - LP / 12\" Version The Trammps Disco Inferno\n",
      "1328/1573 : 1JO1xLtVc8mWhIoE3YaCL0 Happy Together The Turtles Happy Together\n"
     ]
    },
    {
     "name": "stdout",
     "output_type": "stream",
     "text": [
      "1329/1573 : 7i6r9KotUPQg3ozKKgEPIN Seven Nation Army The White Stripes Elephant\n",
      "1330/1573 : 3qiyyUfYe7CRYLucrPmulD Baba O'Riley The Who Who's Next\n"
     ]
    },
    {
     "name": "stdout",
     "output_type": "stream",
     "text": [
      "1331/1573 : 1W1GpfPujmgp2vQqcpUhtU Won't Get Fooled Again - Remix The Who Who's Next (Expanded Edition)\n",
      "1332/1573 : 43DeSV93pJPT4lCZaWZ6b1 The Boys Are Back In Town Thin Lizzy Jailbreak (Deluxe Edition)\n"
     ]
    },
    {
     "name": "stdout",
     "output_type": "stream",
     "text": [
      "1333/1573 : 6rUp7v3l8yC4TKxAAR5Bmx I Hate Everything About You Three Days Grace Three Days Grace (Deluxe Version)\n",
      "artist:Todd Terje track:Alfonso Muskender album:It s Album Time not in spotify\n"
     ]
    },
    {
     "name": "stdout",
     "output_type": "stream",
     "text": [
      "artist:Todd Terje track:Dolorean Dynamite album:It s Album Time not in spotify\n",
      "1336/1573 : 01txDiOnBPfMrVQwPQtDHR Inspector Norse Todd Terje It's Album Time\n"
     ]
    },
    {
     "name": "stdout",
     "output_type": "stream",
     "text": [
      "1337/1573 : 60EtWSoDRJSFmg99MKZi0x Intro (It's Album Time) Todd Terje It's Album Time\n",
      "1338/1573 : 07Wr8BA8v4hsvczK43fZw4 Oh Joy Todd Terje It's Album Time\n"
     ]
    },
    {
     "name": "stdout",
     "output_type": "stream",
     "text": [
      "1339/1573 : 7vUbnU8XibkKccpuoyWqIm Preben Goes to Acapulco Todd Terje It's Album Time\n",
      "1340/1573 : 6reLfBSO38qmFgHgz6kAs0 Strandbar Todd Terje It's Album Time\n"
     ]
    },
    {
     "name": "stdout",
     "output_type": "stream",
     "text": [
      "1341/1573 : 0Def9GQnjyliBmy7LmoXvn Svensk Sås Todd Terje It's Album Time\n",
      "1342/1573 : 0z6QVQ6FbgHFi6qVyh8xSh Swing Star, Pt. 1 Todd Terje It's Album Time\n"
     ]
    },
    {
     "name": "stdout",
     "output_type": "stream",
     "text": [
      "1343/1573 : 2z6OostMhIFP6JmpQazDIL Swing Star, Pt. 2 Todd Terje It's Album Time\n",
      "1344/1573 : 1zkdB1DXcduNBqtESrvRAj Mjøndalen Diskoklubb Todd Terje Mjøndalen Diskoklubb\n"
     ]
    },
    {
     "name": "stdout",
     "output_type": "stream",
     "text": [
      "1345/1573 : 7nNKbWdmUqKHGfgipRborS A Distant Closeness Tommy Guerrero Road to Knowhere\n",
      "1346/1573 : 46TKHBSVXIOYjfi3pp6X7F El camino negro Tommy Guerrero Road to Knowhere\n"
     ]
    },
    {
     "name": "stdout",
     "output_type": "stream",
     "text": [
      "1347/1573 : 2Rh8lX6vMw4gPWbB9hyEO3 Headin West - Bonus Track Tommy Guerrero Road to Knowhere\n",
      "1348/1573 : 4gvwWBH2sM1nK8Jf0MJNK1 Heat in the Streets Tommy Guerrero Road to Knowhere\n"
     ]
    },
    {
     "name": "stdout",
     "output_type": "stream",
     "text": [
      "1349/1573 : 1rJaiv1oQkEL0DdBoKarPA Highway Hustle Tommy Guerrero Road to Knowhere\n",
      "1350/1573 : 7l5DDOzlf8q5S87KbrNI16 Los padres Tommy Guerrero Road to Knowhere\n"
     ]
    },
    {
     "name": "stdout",
     "output_type": "stream",
     "text": [
      "1351/1573 : 2u4sit6Khr9SMHDAzLNzPs Postcard Home Tommy Guerrero Road to Knowhere\n",
      "1352/1573 : 2fllsdGix2LLcVYufzKtMq Sidewalk Soul Tommy Guerrero Road to Knowhere\n"
     ]
    },
    {
     "name": "stdout",
     "output_type": "stream",
     "text": [
      "1353/1573 : 5RuoRiA2VuewUvCBn3Tqrp Silent Miles - Bonus Track Tommy Guerrero Road to Knowhere\n",
      "1354/1573 : 1f6zaaYNBHcEDi8flDfsSg Slow Roll Tommy Guerrero Road to Knowhere\n"
     ]
    },
    {
     "name": "stdout",
     "output_type": "stream",
     "text": [
      "1355/1573 : 7D96SLwZnOBC0v3dpOPsEt The Endless Road Tommy Guerrero Road to Knowhere\n",
      "1356/1573 : 75WWE2KDn0vU9kWoYl8T9S Where Water Once Was Tommy Guerrero Road to Knowhere\n"
     ]
    },
    {
     "name": "stdout",
     "output_type": "stream",
     "text": [
      "1357/1573 : 3EhuEeTQP2tAICvTakOEYF White Sands Tommy Guerrero Road to Knowhere\n",
      "1358/1573 : 4OhqsmPMreC0EFCo3OmDSm 10,000 Days (Wings Pt 2) TOOL 10,000 Days\n",
      "1359/1573 : 2ae6mkuD2gJnJQADl488et Intension TOOL 10,000 Days\n"
     ]
    },
    {
     "name": "stdout",
     "output_type": "stream",
     "text": [
      "1360/1573 : 2gbPu2QNqhnnqtfK3yyeZ0 Jambi TOOL 10,000 Days\n"
     ]
    },
    {
     "name": "stdout",
     "output_type": "stream",
     "text": [
      "1361/1573 : 7dP42zpNCIsEHlnRLZGo0i Lipan Conjuring TOOL 10,000 Days\n",
      "1362/1573 : 0PLtBp8VchqMaJMl4abJaZ Lost Keys (Blame Hofman) TOOL 10,000 Days\n"
     ]
    },
    {
     "name": "stdout",
     "output_type": "stream",
     "text": [
      "1363/1573 : 0NLDZzVke3Qu7vDhWyGzRk Right In Two TOOL 10,000 Days\n",
      "1364/1573 : 0D8l86LXxKcgKAO17DfQsl Rosetta Stoned TOOL 10,000 Days\n"
     ]
    },
    {
     "name": "stdout",
     "output_type": "stream",
     "text": [
      "1365/1573 : 1lATXTBJDHwawvT1UfxWu3 The Pot TOOL 10,000 Days\n",
      "1366/1573 : 65ShmiE5aLBdcIGr7tHX35 Vicarious TOOL 10,000 Days\n"
     ]
    },
    {
     "name": "stdout",
     "output_type": "stream",
     "text": [
      "1367/1573 : 1A00hgLu1S7Q3GNMAjs5mX Viginti Tres TOOL 10,000 Days\n",
      "1368/1573 : 1BDuMlv8zbeBmwFEBmE6N9 Wings For Marie (Pt 1) TOOL 10,000 Days\n"
     ]
    },
    {
     "name": "stdout",
     "output_type": "stream",
     "text": [
      "1369/1573 : 0KCdkjFn7as5rME8dInqGQ (-) Ions TOOL Ænima\n",
      "1370/1573 : 0nLOl4fSiBZKGFla5pLUtf Ænema TOOL Ænima\n"
     ]
    },
    {
     "name": "stdout",
     "output_type": "stream",
     "text": [
      "1371/1573 : 6xttnk5U2VMVCaihaD0RPE Cesaro Summability TOOL Ænima\n",
      "1372/1573 : 2uzCJ4ckvFhv6F9Q1CMkys Die Eier von Satan TOOL Ænima\n"
     ]
    },
    {
     "name": "stdout",
     "output_type": "stream",
     "text": [
      "1373/1573 : 0RVFjx2HwbHcl5SCSADpFP Eulogy TOOL Ænima\n",
      "1374/1573 : 6AioOohg4bQZFA4jIYQQ2r Forty Six & 2 TOOL Ænima\n",
      "1375/1573 : 5fYzuUxtcaJaRRaxMoM2DT H. TOOL Ænima\n"
     ]
    },
    {
     "name": "stdout",
     "output_type": "stream",
     "text": [
      "1376/1573 : 3S4G4SL15Cp4CvAfmye8um Hooker With A Penis TOOL Ænima\n",
      "1377/1573 : 56IPgOpV9w1suGl7Lu9qeZ Intermission TOOL Ænima\n",
      "1378/1573 : 09KJ3XQZ9RQ5prbSp59Wbc Jimmy TOOL Ænima\n"
     ]
    },
    {
     "name": "stdout",
     "output_type": "stream",
     "text": [
      "1379/1573 : 13aTOYQ4xvj84VACPu9zur Message To Harry Manback TOOL Ænima\n",
      "1380/1573 : 4CbHM5bpfOfMNxNgVDHJRw Pushit TOOL Ænima\n"
     ]
    },
    {
     "name": "stdout",
     "output_type": "stream",
     "text": [
      "1381/1573 : 0pwObEOHolQZSldJ2q1wpy Stinkfist TOOL Ænima\n",
      "1382/1573 : 2Dqg2mRbfIVKhBZleNrgmH Third Eye TOOL Ænima\n"
     ]
    },
    {
     "name": "stdout",
     "output_type": "stream",
     "text": [
      "1383/1573 : 5Ca9qZBftB2kGmuUOoJoea Useful Idiot TOOL Ænima\n",
      "1384/1573 : 0gGfmw4csswZmFPj9YK8GW 7empest TOOL Fear Inoculum\n"
     ]
    },
    {
     "name": "stdout",
     "output_type": "stream",
     "text": [
      "1385/1573 : 3VcEEhf6NL8oq2e1IxFUVM Chocolate Chip Trip TOOL Fear Inoculum\n",
      "1386/1573 : 3gPxMQWDMSEyPXMtzbcDdQ Culling Voices TOOL Fear Inoculum\n"
     ]
    },
    {
     "name": "stdout",
     "output_type": "stream",
     "text": [
      "1387/1573 : 0aTiUssEOy0Mt69bsavj6K Descending TOOL Fear Inoculum\n",
      "1388/1573 : 39zWYYZStDgWi32sOU9AX4 Fear Inoculum TOOL Fear Inoculum\n"
     ]
    },
    {
     "name": "stdout",
     "output_type": "stream",
     "text": [
      "1389/1573 : 2xKDKtJBLDPd7BF3VmSQQO Invincible TOOL Fear Inoculum\n",
      "1390/1573 : 48C0O5CXfQdfjUCUhOs1YP Legion Inoculant TOOL Fear Inoculum\n"
     ]
    },
    {
     "name": "stdout",
     "output_type": "stream",
     "text": [
      "1391/1573 : 4qE9yOgBNsARadpZTAb6RH Litanie contre la Peur TOOL Fear Inoculum\n",
      "1392/1573 : 5aDylkK93g6SvfTPJTXq4L Mockingbeat TOOL Fear Inoculum\n"
     ]
    },
    {
     "name": "stdout",
     "output_type": "stream",
     "text": [
      "1393/1573 : 03sEzk1VyrUZSgyhoQR0LZ Pneuma TOOL Fear Inoculum\n",
      "1394/1573 : 1FRlNrHd4OGNIEVgFuX9Fu Disposition TOOL Lateralus\n"
     ]
    },
    {
     "name": "stdout",
     "output_type": "stream",
     "text": [
      "1395/1573 : 5aVJ5rv7ghWSkQaqP726tE Eon Blue Apocalypse TOOL Lateralus\n"
     ]
    },
    {
     "name": "stdout",
     "output_type": "stream",
     "text": [
      "1396/1573 : 3oEgMtjTzGgXTFdO0IW2M7 Faaip De Oiad TOOL Lateralus\n",
      "1397/1573 : 7tvuLLroI0n6uYBWuFig5d Lateralus TOOL Lateralus\n"
     ]
    },
    {
     "name": "stdout",
     "output_type": "stream",
     "text": [
      "1398/1573 : 4KVTRIZIj1WWIxitbREDnK Mantra TOOL Lateralus\n",
      "1399/1573 : 1vxu8vMNshg5J8z3oA7QJZ Parabola TOOL Lateralus\n"
     ]
    },
    {
     "name": "stdout",
     "output_type": "stream",
     "text": [
      "1400/1573 : 1vxu8vMNshg5J8z3oA7QJZ Parabola TOOL Lateralus\n"
     ]
    },
    {
     "name": "stdout",
     "output_type": "stream",
     "text": [
      "1401/1573 : 0R7HFX1LW3E0ZR5BnAJLHz Reflection TOOL Lateralus\n"
     ]
    },
    {
     "name": "stdout",
     "output_type": "stream",
     "text": [
      "1402/1573 : 55mJleti2WfWEFNFcBduhc Schism TOOL Lateralus\n",
      "1403/1573 : 6ZsZxNP4Iwdyp3kd5oFFQN The Grudge TOOL Lateralus\n"
     ]
    },
    {
     "name": "stdout",
     "output_type": "stream",
     "text": [
      "1404/1573 : 0Klbxk3g96Qae4DbCnUNcT The Patient TOOL Lateralus\n",
      "1405/1573 : 0Cnx6PGogxIE2RnDcnoeK8 Ticks & Leeches TOOL Lateralus\n",
      "1406/1573 : 2D9rd6TIpqmDkog5Mx8kxl Triad TOOL Lateralus\n"
     ]
    },
    {
     "name": "stdout",
     "output_type": "stream",
     "text": [
      "1407/1573 : 4aVuWgvD0X63hcOCnZtNFA Hold the Line TOTO Toto\n",
      "1408/1573 : 15RB3lFt2Mhc16m5fTTYkh Hey Oh - Radio Edit Tragédie Tragédie (Édition Deluxe)\n"
     ]
    },
    {
     "name": "stdout",
     "output_type": "stream",
     "text": [
      "artist:Twenty One Pilots track:Ride album:Blurry Face not in spotify\n"
     ]
    },
    {
     "name": "stdout",
     "output_type": "stream",
     "text": [
      "1410/1573 : 0efpklu9vwloDqyhWMD8rj Panama - Live Van Halen Van Halen Live: Right Here, Right Now\n"
     ]
    },
    {
     "name": "stdout",
     "output_type": "stream",
     "text": [
      "1411/1573 : 423RKXolCbgBbkF8WanOwA Riptide Vance Joy God Loves You When You're Dancing\n"
     ]
    },
    {
     "name": "stdout",
     "output_type": "stream",
     "text": [
      "1412/1573 : 5MZrOnwTMwnUqAMxTNnV7t Heaven Nor Hell Volbeat Beyond Hell / Above Heaven\n"
     ]
    },
    {
     "name": "stdout",
     "output_type": "stream",
     "text": [
      "1413/1573 : 48wH8bAxvBJO2l14GmNLz7 Wait for the Moment Vulfpeck My First Car\n"
     ]
    },
    {
     "name": "stdout",
     "output_type": "stream",
     "text": [
      "1414/1573 : 6ZyuNGpj7FQDT9vklQlmJA 1 for 1, DiMaggio Vulfpeck The Beautiful Game\n",
      "1415/1573 : 1SHA4IJyiyNobDOrQzFFXy Animal Spirits Vulfpeck The Beautiful Game\n"
     ]
    },
    {
     "name": "stdout",
     "output_type": "stream",
     "text": [
      "1416/1573 : 6vzRQHItVGIT94q33HvRZx Aunt Leslie Vulfpeck The Beautiful Game\n",
      "1417/1573 : 5vmFVIJV9XN1l01YsFuKL3 Conscious Club Vulfpeck The Beautiful Game\n"
     ]
    },
    {
     "name": "stdout",
     "output_type": "stream",
     "text": [
      "1418/1573 : 1L9qsoNnyT3r8fgr2Pr7Ty Cory Wong Vulfpeck The Beautiful Game\n",
      "1419/1573 : 2WbKDH7BbDUHqACsZH0KVW Daddy, He Got a Tesla Vulfpeck The Beautiful Game\n"
     ]
    },
    {
     "name": "stdout",
     "output_type": "stream",
     "text": [
      "1420/1573 : 1oOD1pV43cV9sHg97aBdLs Dean Town Vulfpeck The Beautiful Game\n",
      "1421/1573 : 4dwUJK6Za2KRrj8z0BM2Ab El Chepe Vulfpeck The Beautiful Game\n"
     ]
    },
    {
     "name": "stdout",
     "output_type": "stream",
     "text": [
      "1422/1573 : 5h3MfjJrSPqKTZ7F4wyHg9 Margery, My First Car Vulfpeck The Beautiful Game\n"
     ]
    },
    {
     "name": "stdout",
     "output_type": "stream",
     "text": [
      "1423/1573 : 73bJahLiTR2RAfXd3aNn1p The Sweet Science Vulfpeck The Beautiful Game\n",
      "1424/1573 : 1DrlLvlYd1FIjNavRm6NdX Back Pocket Vulfpeck Thrill of the Arts\n"
     ]
    },
    {
     "name": "stdout",
     "output_type": "stream",
     "text": [
      "1425/1573 : 1CyAxM93XN2atUBykXFWPX Game Winner Vulfpeck Thrill of the Arts\n"
     ]
    },
    {
     "name": "stdout",
     "output_type": "stream",
     "text": [
      "1426/1573 : 7LygtNjQ65PSdzVjUnHXQb Cherry Pie Warrant Cherry Pie\n",
      "artist:Weezer track:Say It Ain t So album:Weezer (Blue Album) not in spotify\n"
     ]
    },
    {
     "name": "stdout",
     "output_type": "stream",
     "text": [
      "1428/1573 : 2MLHyLy5z5l5YRp7momlgw Island In The Sun Weezer Weezer (Green Album)\n",
      "artist:Wejdene track:Anissa album:N/A not in spotify\n"
     ]
    },
    {
     "name": "stdout",
     "output_type": "stream",
     "text": [
      "1430/1573 : 4jeOc5YrcgFdjgOQqSahd1 Caged Within Temptation Mother Earth\n",
      "1431/1573 : 5cEc0OHUUMfD5MVfFdizR6 Dark Wings Within Temptation Mother Earth\n"
     ]
    },
    {
     "name": "stdout",
     "output_type": "stream",
     "text": [
      "1432/1573 : 5aygztsY9IOUz4lBd0M4Ru Deceiver Of Fools Within Temptation Mother Earth\n",
      "1433/1573 : 4GbYLpSqf2Trkwqgb7p1os Ice Queen Within Temptation Mother Earth\n"
     ]
    },
    {
     "name": "stdout",
     "output_type": "stream",
     "text": [
      "1434/1573 : 0HltrGBDkljdqfsK7ZlKPB In Perfect Harmony Within Temptation Mother Earth\n",
      "1435/1573 : 0Ggzy6UEomashfAkKHzcQr Mother Earth Within Temptation Mother Earth\n"
     ]
    },
    {
     "name": "stdout",
     "output_type": "stream",
     "text": [
      "1436/1573 : 6eb2kEFO4SsyUTlFMU1ZZF Never Ending Story - Extended Version Within Temptation Mother Earth\n"
     ]
    },
    {
     "name": "stdout",
     "output_type": "stream",
     "text": [
      "1437/1573 : 0ClEsmX3to1Rb4tcHkYmOL Our Farewell Within Temptation Mother Earth\n"
     ]
    },
    {
     "name": "stdout",
     "output_type": "stream",
     "text": [
      "1438/1573 : 6gjIe22qtRjVv22mU3spo3 The Promise Within Temptation Mother Earth\n",
      "1439/1573 : 4BhqnM5lktowwfHqq2JYhg All I Need Within Temptation The Heart of Everything\n"
     ]
    },
    {
     "name": "stdout",
     "output_type": "stream",
     "text": [
      "1440/1573 : 3nehrTMRyizLW3WgRcbNTQ Final Destination Within Temptation The Heart of Everything\n",
      "1441/1573 : 5JY8IIwlpMZnSvL20SKpGp Forgiven Within Temptation The Heart of Everything\n"
     ]
    },
    {
     "name": "stdout",
     "output_type": "stream",
     "text": [
      "1442/1573 : 0QAvJ73wGHw7IC3sis4nLE Frozen Within Temptation The Heart of Everything\n",
      "1443/1573 : 61i8W3gHpGUAIDlQj5UUAE Hand of Sorrow Within Temptation The Heart of Everything\n"
     ]
    },
    {
     "name": "stdout",
     "output_type": "stream",
     "text": [
      "1444/1573 : 1jCPzDzUzhCVX75KLqrzCw Our Solemn Hour Within Temptation The Heart of Everything\n",
      "1445/1573 : 4yYmZH77EKb4ZWjfpVm8Rj Stand My Ground - Live Within Temptation The Heart of Everything\n"
     ]
    },
    {
     "name": "stdout",
     "output_type": "stream",
     "text": [
      "1446/1573 : 4VPsB29pvoGauzIlaqjYA0 The Cross Within Temptation The Heart of Everything\n",
      "1447/1573 : 6HQWzxzoM0d3KSOHRREDie The Howling Within Temptation The Heart of Everything\n"
     ]
    },
    {
     "name": "stdout",
     "output_type": "stream",
     "text": [
      "1448/1573 : 6HQWzxzoM0d3KSOHRREDie The Howling Within Temptation The Heart of Everything\n",
      "1449/1573 : 1hVoVHuzYmnLWGZ557vlBf The Truth Beneath the Rose Within Temptation The Heart of Everything\n"
     ]
    },
    {
     "name": "stdout",
     "output_type": "stream",
     "text": [
      "1450/1573 : 66wcihY2Y8ZSqux6EivMWa What Have You Done (feat. Keith Caputo) Within Temptation The Heart of Everything\n",
      "1451/1573 : 2GwzOugx5dH89QfMMvg5Wy A Demon's Fate Within Temptation The Unforgiving\n"
     ]
    },
    {
     "name": "stdout",
     "output_type": "stream",
     "text": [
      "1452/1573 : 5oX5jpeZsXBWEheqE0qqqD Faster Within Temptation The Unforgiving\n"
     ]
    },
    {
     "name": "stdout",
     "output_type": "stream",
     "text": [
      "1453/1573 : 3ndK85JYhmurz1920xl23H Fire and Ice Within Temptation The Unforgiving\n",
      "1454/1573 : 0qAhYeTUICaVc6s4uq1GeN In the Middle of the Night Within Temptation The Unforgiving\n"
     ]
    },
    {
     "name": "stdout",
     "output_type": "stream",
     "text": [
      "1455/1573 : 5yb3Oqo1cJiYYRaud6RFsf Iron Within Temptation The Unforgiving\n"
     ]
    },
    {
     "name": "stdout",
     "output_type": "stream",
     "text": [
      "1456/1573 : 3BXc00WLOa0gZ5uMRSmNhb Lost Within Temptation The Unforgiving\n"
     ]
    },
    {
     "name": "stdout",
     "output_type": "stream",
     "text": [
      "1457/1573 : 76VytyjsLI9OGz5HsRr4td Murder Within Temptation The Unforgiving\n"
     ]
    },
    {
     "name": "stdout",
     "output_type": "stream",
     "text": [
      "1458/1573 : 5TsnDwMorhrETdY5CqBHxf Shot in the Dark Within Temptation The Unforgiving\n",
      "1459/1573 : 12IwGbGIHyHNwVYBlqeBC5 Sinéad Within Temptation The Unforgiving\n"
     ]
    },
    {
     "name": "stdout",
     "output_type": "stream",
     "text": [
      "1460/1573 : 3rOM7x4F8RBi9lyjX9Ifu0 Stairway to the Skies Within Temptation The Unforgiving\n",
      "1461/1573 : 6I8YdlXMofPWxQUnCvnvye Where Is the Edge Within Temptation The Unforgiving\n"
     ]
    },
    {
     "name": "stdout",
     "output_type": "stream",
     "text": [
      "1462/1573 : 4syPlsQHh78fTKEIEzzSAc Cans and Brahms - 2003 Remaster Yes Fragile (Deluxe Edition)\n",
      "1463/1573 : 4KBBtbZwQiJaAZxDBXJpqE Five per Cent for Nothing - 2008 Remaster Versioin Yes Fragile\n"
     ]
    },
    {
     "name": "stdout",
     "output_type": "stream",
     "text": [
      "1464/1573 : 7gC6Rbllqf1yXNC02e5jz2 Heart of the Sunrise - 2003 Remaster Yes Fragile (Deluxe Edition)\n",
      "1465/1573 : 5vfoqFiW6wXwhwa7r523Iq Long Distance Runaround - 2003 Remaster Yes Fragile (Deluxe Edition)\n"
     ]
    },
    {
     "name": "stdout",
     "output_type": "stream",
     "text": [
      "1466/1573 : 7nxmJPzgJZIG2dGBEV0U0G Mood for a Day - 2003 Remaster Yes Fragile (Deluxe Edition)\n",
      "1467/1573 : 0YveezON7jpiaHA8fnUHxN Roundabout - 2003 Remaster Yes Fragile (Deluxe Edition)\n"
     ]
    },
    {
     "name": "stdout",
     "output_type": "stream",
     "text": [
      "1468/1573 : 1Bey85529sRbLZHMLsrhAd South Side of the Sky - 2003 Remaster Yes Fragile (Deluxe Edition)\n",
      "1469/1573 : 6VGX9kEqcMZfAzfETmSn9h The Fish (Schindleria Praemeturus) - 2003 Remaster Yes Fragile (Deluxe Edition)\n"
     ]
    },
    {
     "name": "stdout",
     "output_type": "stream",
     "text": [
      "1470/1573 : 6avltRfZeoNa2zWipWNIyp We Have Heaven - 2003 Remaster Yes Fragile (Deluxe Edition)\n",
      "1471/1573 : 67APpNz0kX0S8LhOT6EaPR Owner of a Lonely Heart - Original Mix Say Yes Owner of a Lonely Heart (The 80´s Collection)\n"
     ]
    },
    {
     "name": "stdout",
     "output_type": "stream",
     "text": [
      "1472/1573 : 2sOEiueGcOLUQu9WdNQDd7 Into the Light (feat. Isaac Delusion) Yuksek Into the Light (feat. Isaac Delusion)\n",
      "1473/1573 : 3uVCaMWl32pWCGimHuH486 Ayla Yussef Kamaal Black Focus\n"
     ]
    },
    {
     "name": "stdout",
     "output_type": "stream",
     "text": [
      "1474/1573 : 3UAvk9DfptABLf8H3G8ke4 Black Focus Yussef Kamaal Black Focus\n",
      "1475/1573 : 7hWNPHEFIM7Odz4JvdnGZw Joint 17 Yussef Kamaal Black Focus\n"
     ]
    },
    {
     "name": "stdout",
     "output_type": "stream",
     "text": [
      "1476/1573 : 5wdF0EcXNfyoMMAXzgc9Ib Lowrider Yussef Kamaal Black Focus\n",
      "1477/1573 : 10Yc0jL0o7IBBhUm7K0dTH Mansur's Message Yussef Kamaal Black Focus\n"
     ]
    },
    {
     "name": "stdout",
     "output_type": "stream",
     "text": [
      "1478/1573 : 1eFKv7wfLsgI6klAUuaGda O.G. Yussef Kamaal Black Focus\n",
      "1479/1573 : 0t6pM6f3bwiNetWnXekj56 Remembrance Yussef Kamaal Black Focus\n"
     ]
    },
    {
     "name": "stdout",
     "output_type": "stream",
     "text": [
      "1480/1573 : 5yPowIqdVPFaBvBmhoLE0Y Strings of Light Yussef Kamaal Black Focus\n",
      "1481/1573 : 08nUFYF2WEXAeUQrg9DREX WingTai Drums Yussef Kamaal Black Focus\n"
     ]
    },
    {
     "name": "stdout",
     "output_type": "stream",
     "text": [
      "1482/1573 : 0jXz7o8Drqf0819TyDfJXv Yo Chavez Yussef Kamaal Black Focus\n",
      "1483/1573 : 6xjNioXsWUYOduKYUrjuEX Bad Girl - 2008 Remaster ZZ Top Eliminator\n"
     ]
    },
    {
     "name": "stdout",
     "output_type": "stream",
     "text": [
      "1484/1573 : 0OBwxFLu6Yj61s2OagYbgY Gimme All Your Lovin' ZZ Top Eliminator\n",
      "1485/1573 : 1jzZZsfzxsebFa6KpWXaAr Got Me Under Pressure - 2008 Remaster ZZ Top Eliminator\n"
     ]
    },
    {
     "name": "stdout",
     "output_type": "stream",
     "text": [
      "1486/1573 : 2WcnvJKsp1aYs8xp2nJyDN I Got the Six - 2008 Remaster ZZ Top Eliminator\n",
      "1487/1573 : 4s22XSQoOFvN5HrXk9YZ3I I Need You Tonight - 2008 Remaster ZZ Top Eliminator\n"
     ]
    },
    {
     "name": "stdout",
     "output_type": "stream",
     "text": [
      "1488/1573 : 12kRyzNezk2nE2EzJ2nq2l If I Could Only Flag Her Down - 2008 Remaster ZZ Top Eliminator\n"
     ]
    },
    {
     "name": "stdout",
     "output_type": "stream",
     "text": [
      "1489/1573 : 7t6CAWplijBj4sdl0q3z0e Legs - 2008 Remaster ZZ Top Eliminator\n"
     ]
    },
    {
     "name": "stdout",
     "output_type": "stream",
     "text": [
      "1490/1573 : 1UBQ5GK8JaQjm5VbkBZY66 Sharp Dressed Man - 2008 Remaster ZZ Top Eliminator\n"
     ]
    },
    {
     "name": "stdout",
     "output_type": "stream",
     "text": [
      "1491/1573 : 2pOk2SDsJhO7o8xtfXf1jy Thug - 2008 Remaster ZZ Top Eliminator\n"
     ]
    },
    {
     "name": "stdout",
     "output_type": "stream",
     "text": [
      "1492/1573 : 4c0IaYoW94OEFhJE40zcQb TV Dinners - 2008 Remaster ZZ Top Eliminator\n"
     ]
    },
    {
     "name": "stdout",
     "output_type": "stream",
     "text": [
      "1493/1573 : 3v9xlH6BpmRbqL7hgNJhfT I Get Around (Mono) The Beach Boys All Summer Long\n"
     ]
    },
    {
     "name": "stdout",
     "output_type": "stream",
     "text": [
      "1494/1573 : 7tqhbajSfrz2F7E1Z75ASX Ain't No Mountain High Enough Marvin Gaye United\n"
     ]
    },
    {
     "name": "stdout",
     "output_type": "stream",
     "text": [
      "1495/1573 : 5pSSEkT0963muzzIjsVkrs Fool's Overture Supertramp Even In The Quietest Moments\n",
      "1496/1573 : 1EjQRTG53jsinzk2xlVVJP Enjoy the Silence - 2006 Remaster Depeche Mode Violator (2006 Remaster)\n"
     ]
    },
    {
     "name": "stdout",
     "output_type": "stream",
     "text": [
      "1497/1573 : 3ovjw5HZZv43SxTwApooCM Wind Of Change Scorpions Crazy World\n",
      "1498/1573 : 3VjyApUOSnsKUuUjbkvfJl Das elfte Gebot Feuerschwanz Das elfte Gebot\n",
      "1499/1573 : 0Qrb3L8JgreLBW8g4qyan9 Back to School (Mini Maggit) Deftones White Pony\n"
     ]
    },
    {
     "name": "stdout",
     "output_type": "stream",
     "text": [
      "1500/1573 : 0FpYnuKYFJXHAmHbS1CycY Feiticeira Deftones White Pony\n",
      "1501/1573 : 2jSJm3Gv6GLxduWLenmjKS Digital Bath Deftones White Pony\n",
      "1502/1573 : 7IoK6jZBxY7NMoQPoPXZCF Passenger Deftones White Pony\n"
     ]
    },
    {
     "name": "stdout",
     "output_type": "stream",
     "text": [
      "artist:Deftones track:Changes (In the House of Flies) album:White Pony not in spotify\n",
      "1504/1573 : 58XWGx7KNNkKneHdprcprX Rock You Like A Hurricane Scorpions Love At First Sting\n"
     ]
    },
    {
     "name": "stdout",
     "output_type": "stream",
     "text": [
      "1505/1573 : 7kjsCbksOZotNNHOvKsJJh Still Loving You Scorpions Love At First Sting\n",
      "1506/1573 : 2cF1W1G0sERJu0Y49tGjnx Intolerance TOOL Undertow\n",
      "1507/1573 : 6bBfqZW47dwndIfYQcB0VR Prison Sex TOOL Undertow\n"
     ]
    },
    {
     "name": "stdout",
     "output_type": "stream",
     "text": [
      "1508/1573 : 6DyywdbmTzlmXBzG9ym7Rt Sober TOOL Undertow\n",
      "1509/1573 : 46XOHK5QfCC83yg5SOGjZk Bottom TOOL Undertow\n",
      "1510/1573 : 1KCndc1SfLo9i9YWXdjy9D Crawl Away TOOL Undertow\n"
     ]
    },
    {
     "name": "stdout",
     "output_type": "stream",
     "text": [
      "1511/1573 : 5q4L6JyoEY3VN5pOSbgjS8 Swamp Song TOOL Undertow\n",
      "1512/1573 : 4Wvnm0J3Zz9cmMdEMMghGA Undertow TOOL Undertow\n"
     ]
    },
    {
     "name": "stdout",
     "output_type": "stream",
     "text": [
      "1513/1573 : 1LXQ7xqksXo4q4r5oCxW7M 4° TOOL Undertow\n",
      "1514/1573 : 1ZzzgXjX1bHroTSMoShdMe Flood TOOL Undertow\n"
     ]
    },
    {
     "name": "stdout",
     "output_type": "stream",
     "text": [
      "1515/1573 : 4rEMNX61UlQInnHB8f3SX1 Disgustipated TOOL Undertow\n",
      "1516/1573 : 59WN2psjkt1tyaxjspN8fp Killing In The Name Rage Against The Machine Rage Against The Machine - XX (20th Anniversary Special Edition)\n"
     ]
    },
    {
     "name": "stdout",
     "output_type": "stream",
     "text": [
      "1517/1573 : 45Ia1U4KtIjAPPU7Wv1Sea Are You Gonna Go My Way Lenny Kravitz Are You Gonna Go My Way\n",
      "1518/1573 : 57JVGBtBLCfHw2muk5416J Another One Bites The Dust - Remastered 2011 Queen The Game (Deluxe Remastered Version)\n"
     ]
    },
    {
     "name": "stdout",
     "output_type": "stream",
     "text": [
      "1519/1573 : 3OXc6xDxasnl4uj2jl1q4Y Fire of Unknown Origin Blue Öyster Cult Fire of Unknown Origin\n",
      "1520/1573 : 7AW4T7G3e8VsZ8D7jV1hMr Cannonball Supertramp Brother Where You Bound (Remastered)\n"
     ]
    },
    {
     "name": "stdout",
     "output_type": "stream",
     "text": [
      "1521/1573 : 3MrRksHupTVEQ7YbA0FsZK The Final Countdown Europe The Final Countdown (Expanded Edition)\n",
      "1522/1573 : 4YtuhhgpKwckVZNGzjpxBh Streamline System Of A Down Steal This Album!\n"
     ]
    },
    {
     "name": "stdout",
     "output_type": "stream",
     "text": [
      "1523/1573 : 69QHm3pustz01CJRwdo20z Hells Bells AC/DC Back In Black\n",
      "1524/1573 : 2HHtWyy5CgaQbC7XSoOb0e Eye of the Tiger Survivor Eye Of The Tiger\n"
     ]
    },
    {
     "name": "stdout",
     "output_type": "stream",
     "text": [
      "1525/1573 : 0vOkmmJEtjuFZDzrQSFzEE Hit Me With Your Best Shot Pat Benatar Crimes Of Passion\n",
      "1526/1573 : 7HKez549fwJQDzx3zLjHKC Start Me Up - Remastered The Rolling Stones Tattoo You (2009 Re-Mastered)\n"
     ]
    },
    {
     "name": "stdout",
     "output_type": "stream",
     "text": [
      "1527/1573 : 2wUaoTEGmKmaOLwP8iDIsc I've Been Around The Animals The Animals\n",
      "1528/1573 : 70YvYr2hGlS01bKRIho1HM La Grange - 2005 Remaster ZZ Top Tres Hombres (Expanded 2006 Remaster)\n"
     ]
    },
    {
     "name": "stdout",
     "output_type": "stream",
     "text": [
      "1529/1573 : 423o3ZHIaBtGXyhF1uH41a Walk of Life Dire Straits Brothers in Arms\n",
      "1530/1573 : 5jzma6gCzYtKB1DbEwFZKH London Calling - Remastered The Clash London Calling (Remastered)\n",
      "1531/1573 : 4v2rkl1mC3zVAz0nXMx9r4 Heart Of Glass Blondie Parallel Lines\n"
     ]
    },
    {
     "name": "stdout",
     "output_type": "stream",
     "text": [
      "1532/1573 : 7cDxjUnMitNKQC5c8RQUko Black Magic Woman / Gypsy Queen Santana Abraxas\n",
      "1533/1573 : 2rBHnIxbhkMGLpqmsNX91M Bombtrack Rage Against The Machine Rage Against The Machine - XX (20th Anniversary Special Edition)\n"
     ]
    },
    {
     "name": "stdout",
     "output_type": "stream",
     "text": [
      "1534/1573 : 25CbtOzU8Pn17SAaXFjIR3 Take The Power Back Rage Against The Machine Rage Against The Machine - XX (20th Anniversary Special Edition)\n",
      "1535/1573 : 1CbG6oKKrYEw3W1DnddDFv Settle For Nothing Rage Against The Machine Rage Against The Machine - XX (20th Anniversary Special Edition)\n"
     ]
    },
    {
     "name": "stdout",
     "output_type": "stream",
     "text": [
      "1536/1573 : 1WWgMk8nD79p8VeKFGYrOw Bullet In The Head Rage Against The Machine Rage Against The Machine - XX (20th Anniversary Special Edition)\n",
      "1537/1573 : 1XTGyfJeMiZXrZ1W3NolcB Know Your Enemy Rage Against The Machine Rage Against The Machine - XX (20th Anniversary Special Edition)\n"
     ]
    },
    {
     "name": "stdout",
     "output_type": "stream",
     "text": [
      "1538/1573 : 2QiqwOVUctPRVggO9G1Zs5 Wake Up Rage Against The Machine Rage Against The Machine - XX (20th Anniversary Special Edition)\n",
      "1539/1573 : 67qdozSgFFHL6VGW85KmtD Fistful Of Steel Rage Against The Machine Rage Against The Machine - XX (20th Anniversary Special Edition)\n",
      "1540/1573 : 4BOOsIe7Zx3SKJAEXgt1YH Township Rebellion Rage Against The Machine Rage Against The Machine - XX (20th Anniversary Special Edition)\n"
     ]
    },
    {
     "name": "stdout",
     "output_type": "stream",
     "text": [
      "1541/1573 : 48lQegoLqGAzaRLnMwK0mO Freedom Rage Against The Machine Rage Against The Machine - XX (20th Anniversary Special Edition)\n",
      "1542/1573 : 574y1r7o2tRA009FW0LE7v Speak to Me Pink Floyd The Dark Side of the Moon\n"
     ]
    },
    {
     "name": "stdout",
     "output_type": "stream",
     "text": [
      "1543/1573 : 2ctvdKmETyOzPb2GiJJT53 Breathe (In the Air) Pink Floyd The Dark Side of the Moon\n"
     ]
    },
    {
     "name": "stdout",
     "output_type": "stream",
     "text": [
      "1544/1573 : 73OIUNKRi2y24Cu9cOLrzM On the Run Pink Floyd The Dark Side of the Moon\n",
      "1545/1573 : 3TO7bbrUKrOSPGRTB5MeCz Time Pink Floyd The Dark Side of the Moon\n"
     ]
    },
    {
     "name": "stdout",
     "output_type": "stream",
     "text": [
      "1546/1573 : 2TjdnqlpwOjhijHCwHCP2d The Great Gig in the Sky Pink Floyd The Dark Side of the Moon\n",
      "1547/1573 : 0vFOzaXqZHahrZp6enQwQb Money Pink Floyd The Dark Side of the Moon\n"
     ]
    },
    {
     "name": "stdout",
     "output_type": "stream",
     "text": [
      "1548/1573 : 1TKTiKp3zbNgrBH2IwSwIx Us and Them Pink Floyd The Dark Side of the Moon\n",
      "1549/1573 : 6FBPOJLxUZEair6x4kLDhf Any Colour You Like Pink Floyd The Dark Side of the Moon\n"
     ]
    },
    {
     "name": "stdout",
     "output_type": "stream",
     "text": [
      "1550/1573 : 05uGBKRCuePsf43Hfm0JwX Brain Damage Pink Floyd The Dark Side of the Moon\n",
      "1551/1573 : 1tDWVeCR9oWGX8d5J9rswk Eclipse Pink Floyd The Dark Side of the Moon\n"
     ]
    },
    {
     "name": "stdout",
     "output_type": "stream",
     "text": [
      "1552/1573 : 1GcVa4jFySlun4jLSuMhiq Angie The Rolling Stones Goats Head Soup (Remastered 2009)\n",
      "1553/1573 : 11IzgLRXV7Cgek3tEgGgjw Under Pressure - Remastered Queen Hot Space (Deluxe Remastered Version)\n"
     ]
    },
    {
     "name": "stdout",
     "output_type": "stream",
     "text": [
      "1554/1573 : 4XRkQloZFcRrCONN7ZQ49Y Give Up The Funk (Tear The Roof Off The Sucker) Parliament Mothership Connection\n",
      "1555/1573 : 5W5FVsgGCe3T9nIMkiXqNo Sing a Song Earth, Wind & Fire Gratitude\n"
     ]
    },
    {
     "name": "stdout",
     "output_type": "stream",
     "text": [
      "1556/1573 : 4CdVCmWQ0sq3ovvGqPLwgQ Main Girl Charlotte Cardin Main Girl EP\n",
      "artist:Johnny \"Guitar\" Watson track:Booty Ooty album:Love Jones not in spotify\n"
     ]
    },
    {
     "name": "stdout",
     "output_type": "stream",
     "text": [
      "1558/1573 : 7IwURvEfVcdxUCjLKUu6sv Shame On a Nigga Wu-Tang Clan Enter The Wu-Tang (36 Chambers) [Expanded Edition]\n",
      "artist:Surface track:Falling In Love album:Falling In Love not in spotify\n"
     ]
    },
    {
     "name": "stdout",
     "output_type": "stream",
     "text": [
      "1560/1573 : 3pf96IFggfQuT6Gafqx2rt Sunny Boney M. Take The Heat Off Me\n",
      "1561/1573 : 78His8pbKjbDQF7aX5asgv Rivers of Babylon Boney M. Nightflight to Venus\n"
     ]
    },
    {
     "name": "stdout",
     "output_type": "stream",
     "text": [
      "1562/1573 : 7a00cQDulg05uPkHuFoQiS Smile Meditation Vulfpeck Thrill of the Arts\n",
      "1563/1573 : 5zQyqgNXKzhifkivumzxDS My Girl Otis Redding Otis Blue: Otis Redding Sings Soul (Collector's Edition)\n"
     ]
    },
    {
     "name": "stdout",
     "output_type": "stream",
     "text": [
      "1564/1573 : 7Kszjzps0xbQXyo1pO4KfE Le Freak - 2018 Remaster CHIC C'est Chic (2018 Remaster)\n",
      "1565/1573 : 15ifyO8wYntwyXAptfxhKr Everybody Dance - 2018 Remaster CHIC Chic (2018 Remaster)\n"
     ]
    },
    {
     "name": "stdout",
     "output_type": "stream",
     "text": [
      "1566/1573 : 5jwrYhbcVggJnZO9LETUkU Deadline Blue Öyster Cult Cultosaurus Erectus\n",
      "1567/1573 : 78lgmZwycJ3nzsdgmPPGNx Immigrant Song - 2012 Remaster Led Zeppelin Led Zeppelin III (Remaster)\n"
     ]
    },
    {
     "name": "stdout",
     "output_type": "stream",
     "text": [
      "1568/1573 : 0cKk8BKEi7zXbdrYdyqBP5 Behind Blue Eyes The Who Who's Next\n",
      "1569/1573 : 6Xz7FeyE8HTP90HecgHV57 Wild World Yusuf / Cat Stevens Tea For The Tillerman (Remastered)\n"
     ]
    },
    {
     "name": "stdout",
     "output_type": "stream",
     "text": [
      "1570/1573 : 0ofHAoxe9vBkTCp2UQIavz Dreams - 2004 Remaster Fleetwood Mac Rumours (Super Deluxe)\n",
      "1571/1573 : 0iOZM63lendWRTTeKhZBSC Mrs. Robinson - From \"The Graduate\" Soundtrack Simon & Garfunkel Bookends\n"
     ]
    },
    {
     "name": "stdout",
     "output_type": "stream",
     "text": [
      "1572/1573 : 3YuaBvuZqcwN3CEAyyoaei Like a Stone Audioslave Audioslave\n"
     ]
    }
   ],
   "source": [
    "bad_format = []\n",
    "for idx, (_, content) in enumerate(df.index.to_frame().iterrows()):\n",
    "    search = f\"artist:{content.artist} track:{content.song} album:{content.album}\"\n",
    "    search = search.replace(\"'\", \" \")\n",
    "    res = spotify.search(search)\n",
    "    try:\n",
    "        track = res['tracks']['items'][0]\n",
    "    except IndexError as e:\n",
    "        print(f\"{search} not in spotify\")\n",
    "        bad_format.append(search)\n",
    "        continue\n",
    "    album = track['album']['name']\n",
    "    name = track['name']\n",
    "    artist = track['artists'][0]['name']\n",
    "    id = track['id']\n",
    "    print(f\"{idx:<4}/{len(df)} : {id} {name} {artist} {album}\")"
   ]
  },
  {
   "cell_type": "code",
   "execution_count": 19,
   "metadata": {
    "collapsed": false
   },
   "outputs": [
    {
     "data": {
      "text/plain": [
       "['artist:Alkapote, Vald track:Plus haut - Les marches de l empeureur Saison 3 / épisode 1 album:N/A',\n",
       " 'artist:Auracle track:Bombs Away Ballet album:City Slickers',\n",
       " 'artist:Auracle track:City of Penetrating Light album:City Slickers',\n",
       " 'artist:Auracle track:Honey album:City Slickers',\n",
       " 'artist:Auracle track:Little City Slickers album:City Slickers',\n",
       " 'artist:Auracle track:Rotary Andy s Raggedy album:City Slickers',\n",
       " 'artist:Auracle track:Sambanana album:City Slickers',\n",
       " 'artist:Auracle track:Tied Shoes album:City Slickers',\n",
       " 'artist:B.J. Thomas track:Rain Drops Keep Falling on My Head album:Rain Drops Keep Fallin  On My Head',\n",
       " 'artist:Black Sabbath track:Evil Woman album:Black Sabbath',\n",
       " 'artist:Casiopea track:Galactic Funk album:Crosspoint',\n",
       " 'artist:Casiopea track:Swear! album:Mint Jams',\n",
       " 'artist:Claude François track:17 ans album:Chansons françaises',\n",
       " 'artist:Claude François track:Il fait beau, il fait bon album:Il fait beau, il fait bon',\n",
       " 'artist:Claude François track:Cette année-là album:Le Vagabond',\n",
       " 'artist:Claude François track:Le Vagabond album:Le Vagabond',\n",
       " 'artist:Claude François track:Alexandrie Alexandra album:Magnolias For Ever',\n",
       " 'artist:Claude François track:Magnolias For Ever album:Magnolias For Ever',\n",
       " 'artist:Début de Soirée track:Nuit de Folie album:Jardins d enfants',\n",
       " 'artist:Draconian track:The Empy Stare / September Ashes album:Turning Season Within',\n",
       " 'artist:Eric Burdon track:Colour Of The Sunset album:When I Was Young',\n",
       " 'artist:Feuerschwanz track:Hurra Hurra Die Pest ist da! album:',\n",
       " 'artist:Flamingosis track:A Groovy Intro album:A Groovy Thing',\n",
       " 'artist:Flamingosis track:A Groovy Thing album:A Groovy Thing',\n",
       " 'artist:Flamingosis track:Breezy album:A Groovy Thing',\n",
       " 'artist:Flamingosis track:Come & Get it album:A Groovy Thing',\n",
       " 'artist:Flamingosis track:Don’t Lose the Feeling album:A Groovy Thing',\n",
       " 'artist:Flamingosis track:Flute Salad album:A Groovy Thing',\n",
       " 'artist:Flamingosis track:Get Yourself Together album:A Groovy Thing',\n",
       " 'artist:Flamingosis track:Guilty Pleasure album:A Groovy Thing',\n",
       " 'artist:Flamingosis track:High Tide album:A Groovy Thing',\n",
       " 'artist:Flamingosis track:Keep Shining album:A Groovy Thing',\n",
       " 'artist:Flamingosis track:Long Distance album:A Groovy Thing',\n",
       " 'artist:Flamingosis track:Never Felt a Feeling Like This album:A Groovy Thing',\n",
       " 'artist:Flamingosis track:Not Like the Others album:A Groovy Thing',\n",
       " 'artist:Flamingosis track:Otaku Mode album:A Groovy Thing',\n",
       " 'artist:Flamingosis track:Persevere album:A Groovy Thing',\n",
       " 'artist:Flamingosis track:Soul Crusade album:A Groovy Thing',\n",
       " 'artist:Flamingosis track:That’s Cold album:A Groovy Thing',\n",
       " 'artist:Flamingosis track:Want Me (Need Me) album:A Groovy Thing',\n",
       " 'artist:François Valéry track:Mon pote le DJ album:Mon pote le DJ',\n",
       " 'artist:Franzl Lang track:Auf und auf voll Lebenslust album:N/A',\n",
       " 'artist:Georges Brassens track:Brave Margot album:Le Vent',\n",
       " 'artist:Georges Brassens track:Les 4 z arts album:Les Copains D Abord',\n",
       " 'artist:Georges Brassens track:Le Bistrot album:Les Funérailles d antan',\n",
       " 'artist:GoGo Penguin track:Unspeakable Word album:Man Made Object',\n",
       " 'artist:Gorillaz track:Doncamatic album:Plastic Beach',\n",
       " 'artist:Gorillaz track:Pirate s Progress album:Plastic Beach',\n",
       " 'artist:Haken track:affinitiy.exe / Initiate album:Affinity',\n",
       " 'artist:Happy End track:Aiga wo\\r album:Kazemachi Roman',\n",
       " 'artist:Happy End track:Ashita tenki ni Naare album:Kazemachi Roman',\n",
       " 'artist:Happy End track:Dakishimetai album:Kazemachi Roman',\n",
       " 'artist:Happy End track:Haikara Beautiful album:Kazemachi Roman',\n",
       " 'artist:Happy End track:Haikara Hakuchi album:Kazemachi Roman',\n",
       " 'artist:Happy End track:Hanaichimonme album:Kazemachi Roman',\n",
       " 'artist:Happy End track:Haru Ranman album:Kazemachi Roman',\n",
       " 'artist:Happy End track:Kaze wo Atsumete album:Kazemachi Roman',\n",
       " 'artist:Happy End track:Kurayamizaka Musasabi Henka album:Kazemachi Roman',\n",
       " 'artist:Happy End track:Natsu nandesu album:Kazemachi Roman',\n",
       " 'artist:Happy End track:Sorairo no Crayon album:Kazemachi Roman',\n",
       " 'artist:Happy End track:Taifuu album:Kazemachi Roman',\n",
       " 'artist:IAM track:Quant tu allais, on revenait album:L École du Micro d Argent',\n",
       " 'artist:Incantation track:Cacharpaya album:Pan Pipes of the Andes',\n",
       " 'artist:Jake Chudnow track:Poodles album:Short Stories',\n",
       " 'artist:Jake Chudnow track:Turquoise album:Short Stories',\n",
       " 'artist:Jun Fukamachi track:Desillusion album:Quark',\n",
       " 'artist:Jun Fukamachi track:Insight album:Quark',\n",
       " 'artist:Jun Fukamachi track:Perpetual (Movement) album:Quark',\n",
       " 'artist:Jun Fukamachi track:Quark album:Quark',\n",
       " 'artist:Kalash Criminel track:Pronostic album:N/A',\n",
       " 'artist:Kelly Bailey track:CP Violation album:Half Life 2',\n",
       " 'artist:Kenichiro Nishihara track:Magazine album:Jazzy Folklore',\n",
       " 'artist:Kenichiro Nishihara track:The Vibe album:Jazzy Folklore',\n",
       " 'artist:Kenichiro Nishihara track:Yesternow Immignrats album:Jazzy Folklore',\n",
       " 'artist:Koji Kondo track:Kokiri Forest album:Ocarina of Time',\n",
       " 'artist:Kristofer Maddigan track:Perilious Piers album:Cuphead',\n",
       " 'artist:La P tite Fumée track:Thunderbreizh album:N/A',\n",
       " 'artist:Lalo Schifrin track:Serenata album:Steal Away',\n",
       " 'artist:Leprous track:Pixel album:The Congregation',\n",
       " 'artist:Lipps Inc. track:Funkytown album:Mouth to Mouth',\n",
       " 'artist:Luke Million track:Arnold album:N/A',\n",
       " 'artist:Luke Million track:Ice Ice Arnie (Cool Party) album:N/A',\n",
       " 'artist:Lynrd Skynrd track:Sweet Home Alabama album:Second Helping',\n",
       " 'artist:Mahito Yokota track:Gusty Gardens album:Super Mario Galaxy',\n",
       " 'artist:Maître Gims track:Reste album:N/A',\n",
       " 'artist:Mozart track:3. Sequenta: Confutatis album:Requiem in D minor K 626',\n",
       " 'artist:Mozart track:3. Sequenta: Lacrimosa album:Requiem in D minor K 626',\n",
       " 'artist:Mozart track:3. Sequenta: Recordare album:Requiem in D minor K 626',\n",
       " 'artist:Mozart track:3. Sequenta: Rex tremendae album:Requiem in D minor K 626',\n",
       " 'artist:Mozart track:3. Sequentia: Tubamirum album:Requiem in D minor K 626',\n",
       " 'artist:Mozart track:3a. Sequienta: Dies irae album:Requiem in D minor K 626',\n",
       " 'artist:Parkway Drive track:Prey album:Prey',\n",
       " 'artist:Porcupine Tree track:Chloroform album:In Absentia',\n",
       " 'artist:Porcupine Tree track:Drown With Me album:In Absentia',\n",
       " 'artist:Porcupine Tree track:Heartattack in a Lay By album:In Absentia',\n",
       " 'artist:PostmodernJukebox track:Feel It Still album:N/A',\n",
       " 'artist:Pulko track:Du Lourd album:N/A',\n",
       " 'artist:Roi Heenok track:Hybride Exo album:N/A',\n",
       " 'artist:SAINt JHN track:Roses (Imanbek Remix) album:N/A',\n",
       " 'artist:Santo & Johnny track:All Night Dinner album:Santo & Johnny',\n",
       " 'artist:Santo & Johnny track:Caravan album:Santo & Johnny',\n",
       " 'artist:Santo & Johnny track:School Day album:Santo & Johnny',\n",
       " 'artist:Santo & Johnny track:Slave Girl album:Santo & Johnny',\n",
       " 'artist:Santo & Johnny track:Sleep Walk album:Santo & Johnny',\n",
       " 'artist:Snowy White And The White Flames track:Midnight Blues album:No Faith Required',\n",
       " 'artist:Stand High Patrol track:Atmosphere album:Summer on Mars',\n",
       " 'artist:Stand High Patrol track:Dreamcatcher album:Summer on Mars',\n",
       " 'artist:Stand High Patrol track:Fragile album:Summer on Mars',\n",
       " 'artist:Stand High Patrol track:Landlord album:Summer on Mars',\n",
       " 'artist:Stand High Patrol track:Raw Lines album:Summer on Mars',\n",
       " 'artist:Stand High Patrol track:Rosetta album:Summer on Mars',\n",
       " 'artist:Stand High Patrol track:Spring Rain album:Summer on Mars',\n",
       " 'artist:Stand High Patrol track:Summer on Mars album:Summer on Mars',\n",
       " 'artist:Stand High Patrol track:Working Class album:Summer on Mars',\n",
       " 'artist:Steven Wilson track:Transcience album:Hand. Cannot. Erase.',\n",
       " 'artist:Stupeflip track:Les Ronces album:Terror Maxi',\n",
       " 'artist:Stupeflip track:Stupeflip Vite !!! album:Terror Maxi',\n",
       " 'artist:Stupeflip track:C est un Tube album:The Hypnoflip Invasion',\n",
       " 'artist:Stupeflip track:Cold World album:The Hypnoflip Invasion',\n",
       " 'artist:System Of A Down track:The Metro album:Dracula 2000',\n",
       " 'artist:The Bee Gees track:Jive Talkin  album:Main Course',\n",
       " 'artist:The Doors track:(You Need Meat) Don t Go No Further album:L.A. Woman',\n",
       " 'artist:The Killers track:Somedy Told Me album:Hot Fuss',\n",
       " 'artist:The Pretenders track:Almost Perfect album:Break Up the Concrete',\n",
       " 'artist:The Pretenders track:Boots of Chinese Plastic album:Break Up the Concrete',\n",
       " 'artist:The Pretenders track:Break Up the Concrete album:Break Up the Concrete',\n",
       " 'artist:The Pretenders track:Don t Cut Your Hair album:Break Up the Concrete',\n",
       " 'artist:The Pretenders track:Don t Lose Faith in Me album:Break Up the Concrete',\n",
       " 'artist:The Pretenders track:Love s a Mystery album:Break Up the Concrete',\n",
       " 'artist:The Pretenders track:One thing never changed album:Break Up the Concrete',\n",
       " 'artist:The Pretenders track:Rosalee album:Break Up the Concrete',\n",
       " 'artist:The Pretenders track:The Last Ride album:Break Up the Concrete',\n",
       " 'artist:The Pretenders track:The Nothing Maker album:Break Up the Concrete',\n",
       " 'artist:The Pretenders track:You Didn t Have To album:Break Up the Concrete',\n",
       " 'artist:The Shutes track:Echo Of Love album:Bright Blue Berlin Sky',\n",
       " 'artist:The Skints track:What Did I Learned Today? album:Swimming Lessons',\n",
       " 'artist:Todd Terje track:Alfonso Muskender album:It s Album Time',\n",
       " 'artist:Todd Terje track:Dolorean Dynamite album:It s Album Time',\n",
       " 'artist:Twenty One Pilots track:Ride album:Blurry Face',\n",
       " 'artist:Weezer track:Say It Ain t So album:Weezer (Blue Album)',\n",
       " 'artist:Wejdene track:Anissa album:N/A',\n",
       " 'artist:Deftones track:Changes (In the House of Flies) album:White Pony',\n",
       " 'artist:Johnny \"Guitar\" Watson track:Booty Ooty album:Love Jones',\n",
       " 'artist:Surface track:Falling In Love album:Falling In Love']"
      ]
     },
     "execution_count": 19,
     "metadata": {},
     "output_type": "execute_result"
    }
   ],
   "source": [
    "bad_format"
   ]
  },
  {
   "cell_type": "code",
   "execution_count": null,
   "metadata": {
    "collapsed": false
   },
   "outputs": [],
   "source": []
  }
 ],
 "metadata": {
  "kernelspec": {
   "argv": [
    "/home/gary/.virtualenvs/bot_dj/bin/python",
    "-m",
    "ipykernel_launcher",
    "-f",
    "{connection_file}"
   ],
   "display_name": "bot_dj",
   "env": null,
   "interrupt_mode": "signal",
   "language": "python",
   "metadata": null,
   "name": "bot_dj"
  },
  "name": "connect_spotify.ipynb"
 },
 "nbformat": 4,
 "nbformat_minor": 4
}
