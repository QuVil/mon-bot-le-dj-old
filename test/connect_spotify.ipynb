{
 "cells": [
  {
   "cell_type": "code",
   "execution_count": 80,
   "metadata": {
    "collapsed": false
   },
   "outputs": [],
   "source": [
    "import spotipy\n",
    "from spotipy.oauth2 import SpotifyClientCredentials\n",
    "import json\n",
    "import gspread\n",
    "from oauth2client.service_account import ServiceAccountCredentials"
   ]
  },
  {
   "cell_type": "code",
   "execution_count": 116,
   "metadata": {
    "collapsed": false
   },
   "outputs": [],
   "source": [
    "import pandas as pd"
   ]
  },
  {
   "cell_type": "markdown",
   "metadata": {
    "collapsed": false
   },
   "source": [
    "## Connexion a spotify"
   ]
  },
  {
   "cell_type": "code",
   "execution_count": 41,
   "metadata": {
    "collapsed": false
   },
   "outputs": [],
   "source": [
    "CRED_PATH_SPOTIFY = \"../creditentials-spotify.json\""
   ]
  },
  {
   "cell_type": "code",
   "execution_count": 42,
   "metadata": {
    "collapsed": false
   },
   "outputs": [],
   "source": [
    "with open(CRED_PATH_SPOTIFY, 'r') as handle:\n",
    "    data = json.load(handle)"
   ]
  },
  {
   "cell_type": "code",
   "execution_count": 43,
   "metadata": {
    "collapsed": false
   },
   "outputs": [],
   "source": [
    "spotify = spotipy.Spotify(auth_manager=SpotifyClientCredentials(\n",
    "    **data\n",
    "))"
   ]
  },
  {
   "cell_type": "markdown",
   "metadata": {
    "collapsed": false
   },
   "source": [
    "## Connexion a google"
   ]
  },
  {
   "cell_type": "code",
   "execution_count": 78,
   "metadata": {
    "collapsed": false
   },
   "outputs": [],
   "source": [
    "SCOPES = ['https://www.googleapis.com/auth/spreadsheets.readonly']\n",
    "SAMPLE_SPREADSHEET_ID = '1b75J-QTGrujSgF9r0_JPOKkcXAwzFVwpETOAyVBw8ak'\n",
    "SAMPLE_RANGE_NAME = 'Class Notations!A1:N'"
   ]
  },
  {
   "cell_type": "code",
   "execution_count": 59,
   "metadata": {
    "collapsed": false
   },
   "outputs": [],
   "source": [
    "CRED_PATH_GOOGLE = \"../credentials-sheets.json\""
   ]
  },
  {
   "cell_type": "code",
   "execution_count": 92,
   "metadata": {
    "collapsed": false
   },
   "outputs": [],
   "source": [
    "scope = ['https://spreadsheets.google.com/feeds','https://www.googleapis.com/auth/drive']\n",
    "creds = ServiceAccountCredentials.from_json_keyfile_name(CRED_PATH_GOOGLE, scope)\n",
    "client = gspread.authorize(creds)"
   ]
  },
  {
   "cell_type": "code",
   "execution_count": 115,
   "metadata": {
    "collapsed": false
   },
   "outputs": [],
   "source": [
    "sh = client.open('Ach! Musik')\n",
    "sheet = sh.worksheet('Notations')"
   ]
  },
  {
   "cell_type": "code",
   "execution_count": 117,
   "metadata": {
    "collapsed": false
   },
   "outputs": [],
   "source": [
    "data = sheet.get_all_values()\n",
    "headers = data.pop(0)\n",
    "\n",
    "df = pd.DataFrame(data, columns=headers)"
   ]
  },
  {
   "cell_type": "code",
   "execution_count": 118,
   "metadata": {
    "collapsed": false
   },
   "outputs": [
    {
     "data": {
      "text/html": [
       "<div>\n",
       "<style scoped>\n",
       "    .dataframe tbody tr th:only-of-type {\n",
       "        vertical-align: middle;\n",
       "    }\n",
       "\n",
       "    .dataframe tbody tr th {\n",
       "        vertical-align: top;\n",
       "    }\n",
       "\n",
       "    .dataframe thead th {\n",
       "        text-align: right;\n",
       "    }\n",
       "</style>\n",
       "<table border=\"1\" class=\"dataframe\">\n",
       "  <thead>\n",
       "    <tr style=\"text-align: right;\">\n",
       "      <th></th>\n",
       "      <th>genre</th>\n",
       "      <th>sub_genre</th>\n",
       "      <th>artist</th>\n",
       "      <th>album</th>\n",
       "      <th>song</th>\n",
       "      <th>ntQ</th>\n",
       "      <th>ntG</th>\n",
       "      <th>ntV</th>\n",
       "      <th>ntR</th>\n",
       "      <th>ntS</th>\n",
       "      <th>ntGl</th>\n",
       "      <th>ntRx</th>\n",
       "      <th>ntC</th>\n",
       "      <th>ntL</th>\n",
       "    </tr>\n",
       "  </thead>\n",
       "  <tbody>\n",
       "    <tr>\n",
       "      <th>0</th>\n",
       "      <td>Pop</td>\n",
       "      <td>Disco</td>\n",
       "      <td>Abba</td>\n",
       "      <td>Abba</td>\n",
       "      <td>I do, I do, I do, I do, I do</td>\n",
       "      <td>8</td>\n",
       "      <td>8,5</td>\n",
       "      <td>5</td>\n",
       "      <td>8</td>\n",
       "      <td></td>\n",
       "      <td></td>\n",
       "      <td></td>\n",
       "      <td></td>\n",
       "      <td></td>\n",
       "    </tr>\n",
       "    <tr>\n",
       "      <th>1</th>\n",
       "      <td>Pop</td>\n",
       "      <td>Disco</td>\n",
       "      <td>Abba</td>\n",
       "      <td>Abba</td>\n",
       "      <td>Mamma Mia</td>\n",
       "      <td>8,5</td>\n",
       "      <td>8,75</td>\n",
       "      <td>6,5</td>\n",
       "      <td>8,3</td>\n",
       "      <td></td>\n",
       "      <td>6</td>\n",
       "      <td></td>\n",
       "      <td></td>\n",
       "      <td></td>\n",
       "    </tr>\n",
       "    <tr>\n",
       "      <th>2</th>\n",
       "      <td>Pop</td>\n",
       "      <td>Disco</td>\n",
       "      <td>Abba</td>\n",
       "      <td>Abba</td>\n",
       "      <td>SOS</td>\n",
       "      <td>9</td>\n",
       "      <td>9</td>\n",
       "      <td>7</td>\n",
       "      <td>8,4</td>\n",
       "      <td></td>\n",
       "      <td>6,25</td>\n",
       "      <td></td>\n",
       "      <td></td>\n",
       "      <td></td>\n",
       "    </tr>\n",
       "    <tr>\n",
       "      <th>3</th>\n",
       "      <td>Pop</td>\n",
       "      <td>Disco</td>\n",
       "      <td>Abba</td>\n",
       "      <td>Arrival</td>\n",
       "      <td>Knowing me, knowing you</td>\n",
       "      <td>7,5</td>\n",
       "      <td>8,5</td>\n",
       "      <td>5,5</td>\n",
       "      <td>6,5</td>\n",
       "      <td></td>\n",
       "      <td></td>\n",
       "      <td></td>\n",
       "      <td></td>\n",
       "      <td></td>\n",
       "    </tr>\n",
       "    <tr>\n",
       "      <th>4</th>\n",
       "      <td>Pop</td>\n",
       "      <td>Disco</td>\n",
       "      <td>Abba</td>\n",
       "      <td>Super Trouper</td>\n",
       "      <td>Lay all your love on me</td>\n",
       "      <td>8</td>\n",
       "      <td>8,5</td>\n",
       "      <td>4</td>\n",
       "      <td>8,5</td>\n",
       "      <td></td>\n",
       "      <td></td>\n",
       "      <td></td>\n",
       "      <td></td>\n",
       "      <td></td>\n",
       "    </tr>\n",
       "    <tr>\n",
       "      <th>...</th>\n",
       "      <td>...</td>\n",
       "      <td>...</td>\n",
       "      <td>...</td>\n",
       "      <td>...</td>\n",
       "      <td>...</td>\n",
       "      <td>...</td>\n",
       "      <td>...</td>\n",
       "      <td>...</td>\n",
       "      <td>...</td>\n",
       "      <td>...</td>\n",
       "      <td>...</td>\n",
       "      <td>...</td>\n",
       "      <td>...</td>\n",
       "      <td>...</td>\n",
       "    </tr>\n",
       "    <tr>\n",
       "      <th>1411</th>\n",
       "      <td>Rock</td>\n",
       "      <td>Punk</td>\n",
       "      <td>The Offspring</td>\n",
       "      <td>Smash</td>\n",
       "      <td>Come Out and Play</td>\n",
       "      <td>8</td>\n",
       "      <td></td>\n",
       "      <td></td>\n",
       "      <td>?</td>\n",
       "      <td></td>\n",
       "      <td></td>\n",
       "      <td></td>\n",
       "      <td></td>\n",
       "      <td></td>\n",
       "    </tr>\n",
       "    <tr>\n",
       "      <th>1412</th>\n",
       "      <td>Rock</td>\n",
       "      <td>Alt Rock</td>\n",
       "      <td>Red Hot Chili Peppers</td>\n",
       "      <td>Californication</td>\n",
       "      <td>Scar Tissue</td>\n",
       "      <td>8,5</td>\n",
       "      <td></td>\n",
       "      <td>?</td>\n",
       "      <td></td>\n",
       "      <td></td>\n",
       "      <td></td>\n",
       "      <td></td>\n",
       "      <td></td>\n",
       "      <td></td>\n",
       "    </tr>\n",
       "    <tr>\n",
       "      <th>1413</th>\n",
       "      <td>Rock</td>\n",
       "      <td></td>\n",
       "      <td>The Who</td>\n",
       "      <td>Who's Next</td>\n",
       "      <td>Won't Get Fooled Again</td>\n",
       "      <td>7,5</td>\n",
       "      <td></td>\n",
       "      <td></td>\n",
       "      <td></td>\n",
       "      <td></td>\n",
       "      <td></td>\n",
       "      <td></td>\n",
       "      <td></td>\n",
       "      <td></td>\n",
       "    </tr>\n",
       "    <tr>\n",
       "      <th>1414</th>\n",
       "      <td>Rock</td>\n",
       "      <td>Garage Rock</td>\n",
       "      <td>The White Stripes</td>\n",
       "      <td>Elephant</td>\n",
       "      <td>Seven Nation Army</td>\n",
       "      <td>7,5</td>\n",
       "      <td></td>\n",
       "      <td></td>\n",
       "      <td>?</td>\n",
       "      <td></td>\n",
       "      <td></td>\n",
       "      <td></td>\n",
       "      <td></td>\n",
       "      <td></td>\n",
       "    </tr>\n",
       "    <tr>\n",
       "      <th>1415</th>\n",
       "      <td>Rock</td>\n",
       "      <td>Blues Rock</td>\n",
       "      <td>Cream</td>\n",
       "      <td>Disraeli Gears</td>\n",
       "      <td>Sunshine Of Your Love</td>\n",
       "      <td>8</td>\n",
       "      <td></td>\n",
       "      <td></td>\n",
       "      <td></td>\n",
       "      <td></td>\n",
       "      <td></td>\n",
       "      <td></td>\n",
       "      <td></td>\n",
       "      <td></td>\n",
       "    </tr>\n",
       "  </tbody>\n",
       "</table>\n",
       "<p>1416 rows × 14 columns</p>\n",
       "</div>"
      ],
      "text/plain": [
       "     genre    sub_genre                 artist            album  \\\n",
       "0      Pop        Disco                   Abba             Abba   \n",
       "1      Pop        Disco                   Abba             Abba   \n",
       "2      Pop        Disco                   Abba             Abba   \n",
       "3      Pop        Disco                   Abba          Arrival   \n",
       "4      Pop        Disco                   Abba    Super Trouper   \n",
       "...    ...          ...                    ...              ...   \n",
       "1411  Rock         Punk          The Offspring            Smash   \n",
       "1412  Rock     Alt Rock  Red Hot Chili Peppers  Californication   \n",
       "1413  Rock                             The Who       Who's Next   \n",
       "1414  Rock  Garage Rock      The White Stripes         Elephant   \n",
       "1415  Rock   Blues Rock                  Cream   Disraeli Gears   \n",
       "\n",
       "                              song  ntQ   ntG  ntV  ntR ntS  ntGl ntRx ntC ntL  \n",
       "0     I do, I do, I do, I do, I do    8   8,5    5    8                         \n",
       "1                        Mamma Mia  8,5  8,75  6,5  8,3         6               \n",
       "2                              SOS    9     9    7  8,4      6,25               \n",
       "3          Knowing me, knowing you  7,5   8,5  5,5  6,5                         \n",
       "4          Lay all your love on me    8   8,5    4  8,5                         \n",
       "...                            ...  ...   ...  ...  ...  ..   ...  ...  ..  ..  \n",
       "1411             Come Out and Play    8               ?                         \n",
       "1412                   Scar Tissue  8,5          ?                              \n",
       "1413        Won't Get Fooled Again  7,5                                         \n",
       "1414             Seven Nation Army  7,5               ?                         \n",
       "1415         Sunshine Of Your Love    8                                         \n",
       "\n",
       "[1416 rows x 14 columns]"
      ]
     },
     "execution_count": 118,
     "metadata": {},
     "output_type": "execute_result"
    }
   ],
   "source": [
    "df"
   ]
  },
  {
   "cell_type": "code",
   "execution_count": null,
   "metadata": {
    "collapsed": false
   },
   "outputs": [],
   "source": [
    "sp.search('cowboys from hell')"
   ]
  },
  {
   "cell_type": "code",
   "execution_count": null,
   "metadata": {
    "collapsed": false
   },
   "outputs": [],
   "source": []
  }
 ],
 "metadata": {
  "kernelspec": {
   "argv": [
    "/home/gary/.virtualenvs/bot_dj/bin/python",
    "-m",
    "ipykernel_launcher",
    "-f",
    "{connection_file}"
   ],
   "display_name": "bot_dj",
   "env": null,
   "interrupt_mode": "signal",
   "language": "python",
   "metadata": null,
   "name": "bot_dj"
  },
  "name": "connect_spotify.ipynb"
 },
 "nbformat": 4,
 "nbformat_minor": 4
}
