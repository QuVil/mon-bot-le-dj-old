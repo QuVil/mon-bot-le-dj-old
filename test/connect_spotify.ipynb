{
 "cells": [
  {
   "cell_type": "code",
   "execution_count": 80,
   "metadata": {
    "collapsed": false
   },
   "outputs": [],
   "source": [
    "import spotipy\n",
    "from spotipy.oauth2 import SpotifyClientCredentials\n",
    "import json\n",
    "import gspread\n",
    "from oauth2client.service_account import ServiceAccountCredentials"
   ]
  },
  {
   "cell_type": "code",
   "execution_count": 116,
   "metadata": {
    "collapsed": false
   },
   "outputs": [],
   "source": [
    "import pandas as pd"
   ]
  },
  {
   "cell_type": "markdown",
   "metadata": {
    "collapsed": false
   },
   "source": [
    "## Connexion a spotify"
   ]
  },
  {
   "cell_type": "code",
   "execution_count": 41,
   "metadata": {
    "collapsed": false
   },
   "outputs": [],
   "source": [
    "CRED_PATH_SPOTIFY = \"../creditentials-spotify.json\""
   ]
  },
  {
   "cell_type": "code",
   "execution_count": 42,
   "metadata": {
    "collapsed": false
   },
   "outputs": [],
   "source": [
    "with open(CRED_PATH_SPOTIFY, 'r') as handle:\n",
    "    data = json.load(handle)"
   ]
  },
  {
   "cell_type": "code",
   "execution_count": 43,
   "metadata": {
    "collapsed": false
   },
   "outputs": [],
   "source": [
    "spotify = spotipy.Spotify(auth_manager=SpotifyClientCredentials(\n",
    "    **data\n",
    "))"
   ]
  },
  {
   "cell_type": "markdown",
   "metadata": {
    "collapsed": false
   },
   "source": [
    "## Connexion a google"
   ]
  },
  {
   "cell_type": "code",
   "execution_count": 78,
   "metadata": {
    "collapsed": false
   },
   "outputs": [],
   "source": [
    "SCOPES = ['https://www.googleapis.com/auth/spreadsheets.readonly']\n",
    "SAMPLE_SPREADSHEET_ID = '1b75J-QTGrujSgF9r0_JPOKkcXAwzFVwpETOAyVBw8ak'\n",
    "SAMPLE_RANGE_NAME = 'Class Notations!A1:N'"
   ]
  },
  {
   "cell_type": "code",
   "execution_count": 59,
   "metadata": {
    "collapsed": false
   },
   "outputs": [],
   "source": [
    "CRED_PATH_GOOGLE = \"../credentials-sheets.json\""
   ]
  },
  {
   "cell_type": "code",
   "execution_count": 119,
   "metadata": {
    "collapsed": false
   },
   "outputs": [],
   "source": [
    "scope = ['https://spreadsheets.google.com/feeds','https://www.googleapis.com/auth/drive']\n",
    "creds = ServiceAccountCredentials.from_json_keyfile_name(CRED_PATH_GOOGLE, scope)\n",
    "client = gspread.authorize(creds)"
   ]
  },
  {
   "cell_type": "code",
   "execution_count": 120,
   "metadata": {
    "collapsed": false
   },
   "outputs": [],
   "source": [
    "sh = client.open('Ach! Musik')\n",
    "sheet = sh.worksheet('Notations')"
   ]
  },
  {
   "cell_type": "code",
   "execution_count": 121,
   "metadata": {
    "collapsed": false
   },
   "outputs": [],
   "source": [
    "data = sheet.get_all_values()\n",
    "headers = data.pop(0)\n",
    "\n",
    "df = pd.DataFrame(data, columns=headers)"
   ]
  },
  {
   "cell_type": "code",
   "execution_count": 122,
   "metadata": {
    "collapsed": false
   },
   "outputs": [
    {
     "data": {
      "text/html": [
       "<div>\n",
       "<style scoped>\n",
       "    .dataframe tbody tr th:only-of-type {\n",
       "        vertical-align: middle;\n",
       "    }\n",
       "\n",
       "    .dataframe tbody tr th {\n",
       "        vertical-align: top;\n",
       "    }\n",
       "\n",
       "    .dataframe thead th {\n",
       "        text-align: right;\n",
       "    }\n",
       "</style>\n",
       "<table border=\"1\" class=\"dataframe\">\n",
       "  <thead>\n",
       "    <tr style=\"text-align: right;\">\n",
       "      <th></th>\n",
       "      <th>genre</th>\n",
       "      <th>sub_genre</th>\n",
       "      <th>artist</th>\n",
       "      <th>album</th>\n",
       "      <th>song</th>\n",
       "      <th>ntQ</th>\n",
       "      <th>ntG</th>\n",
       "      <th>ntV</th>\n",
       "      <th>ntR</th>\n",
       "      <th>ntS</th>\n",
       "      <th>ntGl</th>\n",
       "      <th>ntRx</th>\n",
       "      <th>ntC</th>\n",
       "      <th>ntL</th>\n",
       "    </tr>\n",
       "  </thead>\n",
       "  <tbody>\n",
       "    <tr>\n",
       "      <th>0</th>\n",
       "      <td>Pop</td>\n",
       "      <td>Disco</td>\n",
       "      <td>Abba</td>\n",
       "      <td>Abba</td>\n",
       "      <td>I do, I do, I do, I do, I do</td>\n",
       "      <td>8</td>\n",
       "      <td>8,5</td>\n",
       "      <td>5</td>\n",
       "      <td>8</td>\n",
       "      <td></td>\n",
       "      <td></td>\n",
       "      <td></td>\n",
       "      <td></td>\n",
       "      <td></td>\n",
       "    </tr>\n",
       "    <tr>\n",
       "      <th>1</th>\n",
       "      <td>Pop</td>\n",
       "      <td>Disco</td>\n",
       "      <td>Abba</td>\n",
       "      <td>Abba</td>\n",
       "      <td>Mamma Mia</td>\n",
       "      <td>8,5</td>\n",
       "      <td>8,75</td>\n",
       "      <td>6,5</td>\n",
       "      <td>8,3</td>\n",
       "      <td></td>\n",
       "      <td>6</td>\n",
       "      <td></td>\n",
       "      <td></td>\n",
       "      <td></td>\n",
       "    </tr>\n",
       "    <tr>\n",
       "      <th>2</th>\n",
       "      <td>Pop</td>\n",
       "      <td>Disco</td>\n",
       "      <td>Abba</td>\n",
       "      <td>Abba</td>\n",
       "      <td>SOS</td>\n",
       "      <td>9</td>\n",
       "      <td>9</td>\n",
       "      <td>7</td>\n",
       "      <td>8,4</td>\n",
       "      <td></td>\n",
       "      <td>6,25</td>\n",
       "      <td></td>\n",
       "      <td></td>\n",
       "      <td></td>\n",
       "    </tr>\n",
       "    <tr>\n",
       "      <th>3</th>\n",
       "      <td>Pop</td>\n",
       "      <td>Disco</td>\n",
       "      <td>Abba</td>\n",
       "      <td>Arrival</td>\n",
       "      <td>Knowing me, knowing you</td>\n",
       "      <td>7,5</td>\n",
       "      <td>8,5</td>\n",
       "      <td>5,5</td>\n",
       "      <td>6,5</td>\n",
       "      <td></td>\n",
       "      <td></td>\n",
       "      <td></td>\n",
       "      <td></td>\n",
       "      <td></td>\n",
       "    </tr>\n",
       "    <tr>\n",
       "      <th>4</th>\n",
       "      <td>Pop</td>\n",
       "      <td>Disco</td>\n",
       "      <td>Abba</td>\n",
       "      <td>Super Trouper</td>\n",
       "      <td>Lay all your love on me</td>\n",
       "      <td>8</td>\n",
       "      <td>8,5</td>\n",
       "      <td>4</td>\n",
       "      <td>8,5</td>\n",
       "      <td></td>\n",
       "      <td></td>\n",
       "      <td></td>\n",
       "      <td></td>\n",
       "      <td></td>\n",
       "    </tr>\n",
       "    <tr>\n",
       "      <th>...</th>\n",
       "      <td>...</td>\n",
       "      <td>...</td>\n",
       "      <td>...</td>\n",
       "      <td>...</td>\n",
       "      <td>...</td>\n",
       "      <td>...</td>\n",
       "      <td>...</td>\n",
       "      <td>...</td>\n",
       "      <td>...</td>\n",
       "      <td>...</td>\n",
       "      <td>...</td>\n",
       "      <td>...</td>\n",
       "      <td>...</td>\n",
       "      <td>...</td>\n",
       "    </tr>\n",
       "    <tr>\n",
       "      <th>1411</th>\n",
       "      <td>Rock</td>\n",
       "      <td>Punk</td>\n",
       "      <td>The Offspring</td>\n",
       "      <td>Smash</td>\n",
       "      <td>Come Out and Play</td>\n",
       "      <td>8</td>\n",
       "      <td></td>\n",
       "      <td></td>\n",
       "      <td>?</td>\n",
       "      <td></td>\n",
       "      <td></td>\n",
       "      <td></td>\n",
       "      <td></td>\n",
       "      <td></td>\n",
       "    </tr>\n",
       "    <tr>\n",
       "      <th>1412</th>\n",
       "      <td>Rock</td>\n",
       "      <td>Alt Rock</td>\n",
       "      <td>Red Hot Chili Peppers</td>\n",
       "      <td>Californication</td>\n",
       "      <td>Scar Tissue</td>\n",
       "      <td>8,5</td>\n",
       "      <td></td>\n",
       "      <td>?</td>\n",
       "      <td></td>\n",
       "      <td></td>\n",
       "      <td></td>\n",
       "      <td></td>\n",
       "      <td></td>\n",
       "      <td></td>\n",
       "    </tr>\n",
       "    <tr>\n",
       "      <th>1413</th>\n",
       "      <td>Rock</td>\n",
       "      <td></td>\n",
       "      <td>The Who</td>\n",
       "      <td>Who's Next</td>\n",
       "      <td>Won't Get Fooled Again</td>\n",
       "      <td>7,5</td>\n",
       "      <td></td>\n",
       "      <td></td>\n",
       "      <td></td>\n",
       "      <td></td>\n",
       "      <td></td>\n",
       "      <td></td>\n",
       "      <td></td>\n",
       "      <td></td>\n",
       "    </tr>\n",
       "    <tr>\n",
       "      <th>1414</th>\n",
       "      <td>Rock</td>\n",
       "      <td>Garage Rock</td>\n",
       "      <td>The White Stripes</td>\n",
       "      <td>Elephant</td>\n",
       "      <td>Seven Nation Army</td>\n",
       "      <td>7,5</td>\n",
       "      <td></td>\n",
       "      <td></td>\n",
       "      <td>?</td>\n",
       "      <td></td>\n",
       "      <td></td>\n",
       "      <td></td>\n",
       "      <td></td>\n",
       "      <td></td>\n",
       "    </tr>\n",
       "    <tr>\n",
       "      <th>1415</th>\n",
       "      <td>Rock</td>\n",
       "      <td>Blues Rock</td>\n",
       "      <td>Cream</td>\n",
       "      <td>Disraeli Gears</td>\n",
       "      <td>Sunshine Of Your Love</td>\n",
       "      <td>8</td>\n",
       "      <td></td>\n",
       "      <td></td>\n",
       "      <td></td>\n",
       "      <td></td>\n",
       "      <td></td>\n",
       "      <td></td>\n",
       "      <td></td>\n",
       "      <td></td>\n",
       "    </tr>\n",
       "  </tbody>\n",
       "</table>\n",
       "<p>1416 rows × 14 columns</p>\n",
       "</div>"
      ],
      "text/plain": [
       "     genre    sub_genre                 artist            album  \\\n",
       "0      Pop        Disco                   Abba             Abba   \n",
       "1      Pop        Disco                   Abba             Abba   \n",
       "2      Pop        Disco                   Abba             Abba   \n",
       "3      Pop        Disco                   Abba          Arrival   \n",
       "4      Pop        Disco                   Abba    Super Trouper   \n",
       "...    ...          ...                    ...              ...   \n",
       "1411  Rock         Punk          The Offspring            Smash   \n",
       "1412  Rock     Alt Rock  Red Hot Chili Peppers  Californication   \n",
       "1413  Rock                             The Who       Who's Next   \n",
       "1414  Rock  Garage Rock      The White Stripes         Elephant   \n",
       "1415  Rock   Blues Rock                  Cream   Disraeli Gears   \n",
       "\n",
       "                              song  ntQ   ntG  ntV  ntR ntS  ntGl ntRx ntC ntL  \n",
       "0     I do, I do, I do, I do, I do    8   8,5    5    8                         \n",
       "1                        Mamma Mia  8,5  8,75  6,5  8,3         6               \n",
       "2                              SOS    9     9    7  8,4      6,25               \n",
       "3          Knowing me, knowing you  7,5   8,5  5,5  6,5                         \n",
       "4          Lay all your love on me    8   8,5    4  8,5                         \n",
       "...                            ...  ...   ...  ...  ...  ..   ...  ...  ..  ..  \n",
       "1411             Come Out and Play    8               ?                         \n",
       "1412                   Scar Tissue  8,5          ?                              \n",
       "1413        Won't Get Fooled Again  7,5                                         \n",
       "1414             Seven Nation Army  7,5               ?                         \n",
       "1415         Sunshine Of Your Love    8                                         \n",
       "\n",
       "[1416 rows x 14 columns]"
      ]
     },
     "execution_count": 122,
     "metadata": {},
     "output_type": "execute_result"
    }
   ],
   "source": [
    "df"
   ]
  },
  {
   "cell_type": "code",
   "execution_count": 161,
   "metadata": {
    "collapsed": false
   },
   "outputs": [
    {
     "name": "stdout",
     "output_type": "stream",
     "text": [
      "0  /1416 : 57BDT1bvzeAzl3IXMQU4Ri I Do, I Do, I Do, I Do, I Do ABBA Abba\n",
      "1  /1416 : 22NN4BS1AlqVbyKIWExgON Mamma Mia ABBA Abba\n",
      "2  /1416 : 5pMmWfuL0FTGshYt7HVJ8P SOS ABBA ABBA Gold\n"
     ]
    },
    {
     "name": "stdout",
     "output_type": "stream",
     "text": [
      "3  /1416 : 46ou4l4zvrZMada0TgoVH9 Knowing Me, Knowing You ABBA Arrival\n",
      "4  /1416 : 6cH34Jb2W9s9w8ooRtZZPf Lay All Your Love On Me ABBA Super Trouper\n",
      "5  /1416 : 2nMghZvtLx6DDgTEHEsb4w Super Trouper ABBA Super Trouper\n"
     ]
    },
    {
     "name": "stdout",
     "output_type": "stream",
     "text": [
      "6  /1416 : 2HeTmGTjl870ucJ8mF7zl5 The Winner Takes It All ABBA Super Trouper\n",
      "7  /1416 : 6vQN2a9QSgWcm74KEZYfDL Take A Chance On Me ABBA The Album\n",
      "8  /1416 : 0RzhMHIsFMbOGh0oWDvNNK Waterloo ABBA Waterloo\n",
      "9  /1416 : 7LRMbd3LEoV5wZJvXT1Lwb T.N.T. AC/DC High Voltage\n"
     ]
    },
    {
     "name": "stdout",
     "output_type": "stream",
     "text": [
      "10 /1416 : 5jCp5VtcpUlHtW8Dwlx13Y Angry Chair Alice In Chains Dirt\n",
      "11 /1416 : 22Ntyke0ZDZy2Uuf8BEDkU Dam That River Alice In Chains Dirt\n",
      "12 /1416 : 0wvIGFIgbyz4JNwQhZgTv2 Rooster Alice In Chains Dirt\n",
      "13 /1416 : 7FRfYOql61DGDp9VPPe2qA Down In A Hole Alice In Chains Dirt\n"
     ]
    },
    {
     "name": "stdout",
     "output_type": "stream",
     "text": [
      "14 /1416 : 1klrDyGRsCBPofZdqdaZp6 God Smack Alice In Chains Dirt\n",
      "15 /1416 : 0rglK8l5QBSADvao8n4d2N Hate To Feel Alice In Chains Dirt\n",
      "16 /1416 : 1mvEbRAlocvkJvqZIj3zHu Junkhead Alice In Chains Dirt\n",
      "17 /1416 : 6a9SPVrXyrlVh5Fh08f8Bz Rain When I Die Alice In Chains Dirt\n"
     ]
    },
    {
     "name": "stdout",
     "output_type": "stream",
     "text": [
      "18 /1416 : 0wvIGFIgbyz4JNwQhZgTv2 Rooster Alice In Chains Dirt\n",
      "19 /1416 : 5EnYdTx0BWhWM5YDcPkGAa Sickman Alice In Chains Dirt\n",
      "20 /1416 : 4A065x9kJt955eGVqf813g Them Bones Alice In Chains Dirt\n"
     ]
    },
    {
     "name": "stdout",
     "output_type": "stream",
     "text": [
      "21 /1416 : 2s9xt247uEa0sXmAH0GvL3 Untitled Alice In Chains Dirt\n",
      "22 /1416 : 5sFDReWLrZHLFZFjHsjUTS Would? Alice In Chains Dirt\n",
      "ALKAPOTE PLUS HAUT N/A not in spotify\n"
     ]
    },
    {
     "name": "stdout",
     "output_type": "stream",
     "text": [
      "Amon Amarth Crack the Sky Berzerker not in spotify\n",
      "Amon Amarth Raven's Flight Berzerker not in spotify\n",
      "26 /1416 : 0sObxZUKqdPfgjG9ahSlP5 The Pursuit Of Vikings Amon Amarth Fate of Norns\n"
     ]
    },
    {
     "name": "stdout",
     "output_type": "stream",
     "text": [
      "27 /1416 : 6ypKaenmVXMCXvlkfYOpjf Raise Your Horns Amon Amarth Jomsviking\n",
      "28 /1416 : 5u3l2TONYacJgmRPQVaF9y Twilight Of The Thunder God Amon Amarth Twilight Of The Thunder God\n",
      "Auracle Bombs Away Ballet City Slickers not in spotify\n",
      "Auracle City of Penetrating Light City Slickers not in spotify\n"
     ]
    },
    {
     "name": "stdout",
     "output_type": "stream",
     "text": [
      "Auracle Honey City Slickers not in spotify\n",
      "Auracle Little City Slickers City Slickers not in spotify\n"
     ]
    },
    {
     "name": "stdout",
     "output_type": "stream",
     "text": [
      "Auracle Rotary Andy's Raggedy City Slickers not in spotify\n",
      "Auracle Sambanana City Slickers not in spotify\n"
     ]
    },
    {
     "name": "stdout",
     "output_type": "stream",
     "text": [
      "Auracle Tied Shoes City Slickers not in spotify\n",
      "B.J. Thomas Rain Drops Keep Fallin' on My Head Rain Drops Keep Fallin' On My Head not in spotify\n",
      "37 /1416 : 6OcE7aXYmNEwF6H7Ei9Y3q King for a Day Battle Beast Bringer of Pain\n"
     ]
    },
    {
     "name": "stdout",
     "output_type": "stream",
     "text": [
      "38 /1416 : 1k1Bqnv2R0uJXQN4u6LKYt Ain't No Sunshine Bill Withers Just As I Am\n",
      "39 /1416 : 4hx9RvP93j79EJLAiyJQoI Wasp / Behind the Wall of Sleep / Bassically / N.I.B. - 2014 Remaster Black Sabbath Black Sabbath (2014 Remaster)\n",
      "40 /1416 : 1Y373MqadDRtclJNdnUXVc Paranoid - 2016 Remaster Black Sabbath Paranoid (2014 Remaster)\n"
     ]
    },
    {
     "name": "stdout",
     "output_type": "stream",
     "text": [
      "41 /1416 : 3xHIzMtYweNIgsOGIbdyXt Evil Woman Black Sabbath The Ultimate Collection\n",
      "42 /1416 : 2GnVuaoKSkB6Xa07l1BBg8 N.I.B. Black Sabbath The Ultimate Collection\n",
      "43 /1416 : 01xU5pDHQ8FfVhEi98UFMY A Bit of Finger / Sleeping Village / Warning - 2013 Remaster Black Sabbath Black Sabbath (2014 Remaster)\n"
     ]
    },
    {
     "name": "stdout",
     "output_type": "stream",
     "text": [
      "44 /1416 : 6sjTzevtstOxOMsFsypsEm The Wizard - 2014 Remaster Black Sabbath Black Sabbath (2014 Remaster)\n",
      "45 /1416 : 01xU5pDHQ8FfVhEi98UFMY A Bit of Finger / Sleeping Village / Warning - 2013 Remaster Black Sabbath Black Sabbath (2014 Remaster)\n",
      "46 /1416 : 3ex9yveBIpssnR6sVvhwiR Into the Void - 2014 Remaster Black Sabbath Master of Reality (2014 Remaster)\n"
     ]
    },
    {
     "name": "stdout",
     "output_type": "stream",
     "text": [
      "47 /1416 : 7As8h8LJTMIritB8QwSmqr Electric Funeral - 2013 Remaster Black Sabbath Paranoid (2014 Remaster)\n",
      "48 /1416 : 6EKrBVHDk20hwjYWGPQQlF Jack the Stripper / Fairies Wear Boots - 2013 Remaster Black Sabbath Paranoid (2014 Remaster)\n",
      "49 /1416 : 72YRB6ar59nBsNdnn0cVdD Hand of Doom - 2013 Remaster Black Sabbath Paranoid (2014 Remaster)\n",
      "50 /1416 : 3IOQZRcEkplCXg6LofKqE9 Iron Man - 2014 Remaster Black Sabbath Paranoid (2014 Remaster)\n"
     ]
    },
    {
     "name": "stdout",
     "output_type": "stream",
     "text": [
      "51 /1416 : 1Y373MqadDRtclJNdnUXVc Paranoid - 2016 Remaster Black Sabbath Paranoid (2014 Remaster)\n",
      "52 /1416 : 2VDg6h3Qr3F8UuFVInQxE6 Planet Caravan - 2013 Remaster Black Sabbath Paranoid (2014 Remaster)\n",
      "53 /1416 : 2b8xbWvck5yh9vvEogsfqa Rat Salad - 2013 Remaster Black Sabbath Paranoid (2014 Remaster)\n"
     ]
    },
    {
     "name": "stdout",
     "output_type": "stream",
     "text": [
      "54 /1416 : 2rd9ETlulTbz6BYZcdvIE1 War Pigs / Luke's Wall - 2014 Remaster Black Sabbath Paranoid (2014 Remaster)\n"
     ]
    },
    {
     "name": "stdout",
     "output_type": "stream",
     "text": [
      "55 /1416 : 05jJZgRiXxBfQPNRlrObEI He Was a Steppenwolf Boney M. Nightflight to Venus\n",
      "56 /1416 : 5jkFvD4UJrmdoezzT1FRoP Rasputin Boney M. Nightflight to Venus\n"
     ]
    },
    {
     "name": "stdout",
     "output_type": "stream",
     "text": [
      "57 /1416 : 5seKua5Mu2wMK1qUhdHwt1 Painter Man Boney M. Nightflight to Venus\n",
      "58 /1416 : 5jkFvD4UJrmdoezzT1FRoP Rasputin Boney M. Nightflight to Venus\n"
     ]
    },
    {
     "name": "stdout",
     "output_type": "stream",
     "text": [
      "59 /1416 : 7oGwQOTkMB9Sk3DIKJLd5F Baby I'm Yours - feat. Irfrane Breakbot By Your Side\n",
      "60 /1416 : 1A7Nb5XVAJzXmbkk5S59t3 Release the Beast Breakwater Splashdown\n"
     ]
    },
    {
     "name": "stdout",
     "output_type": "stream",
     "text": [
      "61 /1416 : 74jZhGv0fdLaf9q8AZZ15k Please Mr. Postman Carpenters Horizon\n",
      "Casiopea Galactic Funk Crosspoint not in spotify\n",
      "Casiopea Swear! Mint Jams not in spotify\n"
     ]
    },
    {
     "name": "stdout",
     "output_type": "stream",
     "text": [
      "64 /1416 : 0kJukmNUjDGh1pfTymS1Fz Strollin' - Live Chet Baker Chet Baker Live in London Volume II\n",
      "65 /1416 : 7GqIDx2QVGOpd4r1fZaUUW 25 or 6 to 4 - 2002 Remaster Chicago Chicago II\n"
     ]
    },
    {
     "name": "stdout",
     "output_type": "stream",
     "text": [
      "66 /1416 : 6GTz60YoNqDoAKkOFwEjEJ Friends Chick Corea Friends\n",
      "67 /1416 : 5RrJCusmR1J54b5ivqdWIu Spain Chick Corea Light As A Feather\n",
      "68 /1416 : 69yYDgM8sCrUsD56AHyOt9 Hold Tight Chinese Man The Groove Sessions, Vol. 5\n"
     ]
    },
    {
     "name": "stdout",
     "output_type": "stream",
     "text": [
      "69 /1416 : 75JFxkI2RXiU7L9VXzMkle The Scientist Coldplay A Rush of Blood to the Head\n",
      "Creedance Clearwater Revival Born on the Bayou Bayou Country not in spotify\n"
     ]
    },
    {
     "name": "stdout",
     "output_type": "stream",
     "text": [
      "Creedance Clearwater Revival I Heard It Through The Grapevine Cosmo's Factory not in spotify\n",
      "Creedance Clearwater Revival Green River Green River not in spotify\n",
      "Creedance Clearwater Revival Fortunate Son Willy and the Poor Boys not in spotify\n"
     ]
    },
    {
     "name": "stdout",
     "output_type": "stream",
     "text": [
      "74 /1416 : 3H3cOQ6LBLSvmcaV7QkZEu Aerodynamic Daft Punk Discovery\n",
      "75 /1416 : 6vuPZX9fWESg5js2JFTQRJ Crescendolls Daft Punk Discovery\n",
      "76 /1416 : 2VEZx7NWsZ1D0eJ4uv5Fym Digital Love Daft Punk Discovery\n",
      "77 /1416 : 7v9Q0dAb9t7h8gJOkcJHay Face to Face Daft Punk Discovery\n"
     ]
    },
    {
     "name": "stdout",
     "output_type": "stream",
     "text": [
      "78 /1416 : 5W3cjX2J3tjhG8zb6u0qHn Harder, Better, Faster, Stronger Daft Punk Discovery\n",
      "79 /1416 : 098ttCNmncrO4YvqWUNMvn High Life Daft Punk Discovery\n",
      "80 /1416 : 63JXZZRbmzooashakb0zbu Nightvision Daft Punk Discovery\n",
      "81 /1416 : 0DiWol3AO6WpXZgp0goxAV One More Time Daft Punk Discovery\n"
     ]
    },
    {
     "name": "stdout",
     "output_type": "stream",
     "text": [
      "82 /1416 : 4npMbTuxrUA3Wd7edACZ2L Short Circuit Daft Punk Discovery\n",
      "83 /1416 : 1NeLwFETswx8Fzxl2AFl91 Something About Us Daft Punk Discovery\n",
      "84 /1416 : 186hvCTyrni4KT9nwIQ7zS Superheroes Daft Punk Discovery\n"
     ]
    },
    {
     "name": "stdout",
     "output_type": "stream",
     "text": [
      "85 /1416 : 3zMvotMEQK3xvH01vA9wAP Too Long Daft Punk Discovery\n",
      "86 /1416 : 2LD2gT7gwAurzdQDQtILds Veridis Quo Daft Punk Discovery\n",
      "87 /1416 : 7cMFjxhbXBpOlais7KMF3j Voyager Daft Punk Discovery\n",
      "88 /1416 : 0oks4FnzhNp5QPTZtoet7c Giorgio by Moroder Daft Punk Random Access Memories\n"
     ]
    },
    {
     "name": "stdout",
     "output_type": "stream",
     "text": [
      "89 /1416 : 3ZE3wv8V3w2T2f7nOCjV0N Life on Mars? - 2015 Remaster David Bowie Hunky Dory (2015 Remaster)\n",
      "90 /1416 : 7uHO4AmKtyGa5v5fsElGoC You Spin Me Round (Like a Record) Dead Or Alive Youthquake\n",
      "91 /1416 : 5UXX9TjjfbjULIyrhlWKcR You Fool No One Deep Purple Burn (Expanded 2005 Remaster)\n",
      "92 /1416 : 5TrfusgKC1BYic5LaWCoKm Child in Time Deep Purple Deep Purple in Rock\n"
     ]
    },
    {
     "name": "stdout",
     "output_type": "stream",
     "text": [
      "93 /1416 : 2kkvB3RNRzwjFdGhaUA0tz Layla - 40th Anniversary Version / 2010 Remastered Derek & The Dominos Layla And Other Assorted Love Songs (40th Anniversary / 2010 Remastered)\n",
      "94 /1416 : 4lRH3aAhNnyC144Bmn3Y1o Arob@se Dinos Taciturne\n",
      "95 /1416 : 4yqtwO7MQIIXqoiRBPHAgR Money for Nothing Dire Straits Brothers in Arms\n"
     ]
    },
    {
     "name": "stdout",
     "output_type": "stream",
     "text": [
      "96 /1416 : 4yqtwO7MQIIXqoiRBPHAgR Money for Nothing Dire Straits Brothers in Arms\n",
      "97 /1416 : 1fBxdTUpYGQPYkOfxM9uhe Single-Handed Sailor Dire Straits Communiqué\n",
      "98 /1416 : 1laOaJ0vcBx3cjUhH50mW7 Industrial Disease Dire Straits Love Over Gold\n",
      "99 /1416 : 4MkREzrofcXWhHRBuhdS1o It Never Rains Dire Straits Love Over Gold\n"
     ]
    },
    {
     "name": "stdout",
     "output_type": "stream",
     "text": [
      "100/1416 : 071BtONQBIq4SkvO0okS4k Telegraph Road Dire Straits Love Over Gold\n",
      "101/1416 : 0SqUwlygrVkMWkplNvvld1 Private Investigations Dire Straits Love Over Gold\n",
      "102/1416 : 071BtONQBIq4SkvO0okS4k Telegraph Road Dire Straits Love Over Gold\n"
     ]
    },
    {
     "name": "stdout",
     "output_type": "stream",
     "text": [
      "103/1416 : 57MflfPN3ObQQAQtPUp0WF Romeo and Juliet Dire Straits Making Movies\n",
      "104/1416 : 06ku5BBS2HufqSDVkcSR15 Tunnel of Love (Intro: The Carousel Waltz) Dire Straits Making Movies\n",
      "105/1416 : 5g6o2ZEegnAI3MczbwZaTZ Calling Elvis Dire Straits On Every Street\n"
     ]
    },
    {
     "name": "stdout",
     "output_type": "stream",
     "text": [
      "106/1416 : 5rEEkF2wZsHfFHTaEknuji Heavy Fuel Dire Straits On Every Street (Remaster)\n",
      "107/1416 : 1YLMZuxgIU4g5aS4gjHT0o Planet of New Orleans Dire Straits On Every Street (Remaster)\n",
      "108/1416 : 32VjGZWrYx3fB0Ma1Qjydq X Gon' Give It To Ya DMX Cradle 2 The Grave\n"
     ]
    },
    {
     "name": "stdout",
     "output_type": "stream",
     "text": [
      "109/1416 : 4TF0nT9RfSoA0ztC3Oif4r Bloodflower Draconian Turning Season Within\n",
      "110/1416 : 2gbpAcczo1e3QFDrWBpYhe Earthbound Draconian Turning Season Within\n",
      "111/1416 : 6GPQCXCitZZwUrnN44dDDP Morphine Cloud Draconian Turning Season Within\n"
     ]
    },
    {
     "name": "stdout",
     "output_type": "stream",
     "text": [
      "112/1416 : 0iXdF8F7htTErXSKEA2piV Not Breathing Draconian Turning Season Within\n",
      "113/1416 : 69HGq7dhBM0XqlW5SpTjeN Seasons Apart Draconian Turning Season Within\n",
      "Draconian The Empy Stare / September Ashes Turning Season Within not in spotify\n"
     ]
    },
    {
     "name": "stdout",
     "output_type": "stream",
     "text": [
      "115/1416 : 7IrDK2wkI9XzTZ5CAXm8Xn The Failure Epiphany Draconian Turning Season Within\n",
      "116/1416 : 0ugwIBrHNZcRLUtP7G0hjW When I Wake Draconian Turning Season Within\n",
      "117/1416 : 5jDLMyRG0hq0U1O54ELZhE Was Ist Hier Los? Eisbrecher Sturmfahrt\n"
     ]
    },
    {
     "name": "stdout",
     "output_type": "stream",
     "text": [
      "118/1416 : 6xE6ZWzK1YDDSYzqOCoQlz Last Train to London Electric Light Orchestra Discovery\n",
      "119/1416 : 6DU1WKdUnR7OZkw7BZl9P0 Funeralopolis Electric Wizard Dopethrone\n",
      "120/1416 : 5LbC1uoOc7JeP0wdPDqAnl Jeremy Bender - 2012 Remastered Version Emerson, Lake & Palmer Tarkus (Deluxe Version)\n"
     ]
    },
    {
     "name": "stdout",
     "output_type": "stream",
     "text": [
      "121/1416 : 3ykSdTGmYPFl8pDBXer1zG Cocaine Eric Clapton Slowhand 35th Anniversary (Super Deluxe)\n",
      "122/1416 : 3BEZCNZSmVv30vsMNSOCri Layla - Acoustic; Live at MTV Unplugged, Bray Film Studios, Windsor, England, UK, 1/16/1992; 2013 Remaster Eric Clapton Unplugged (Deluxe Edition)\n"
     ]
    },
    {
     "name": "stdout",
     "output_type": "stream",
     "text": [
      "Flamingosis A Groovy Intro A Groovy Thing not in spotify\n",
      "Flamingosis A Groovy Thing A Groovy Thing not in spotify\n",
      "Flamingosis Breezy A Groovy Thing not in spotify\n"
     ]
    },
    {
     "name": "stdout",
     "output_type": "stream",
     "text": [
      "Flamingosis Come & Get it A Groovy Thing not in spotify\n",
      "Flamingosis Don’t Lose the Feeling A Groovy Thing not in spotify\n",
      "Flamingosis Flute Salad A Groovy Thing not in spotify\n",
      "Flamingosis Get Yourself Together A Groovy Thing not in spotify\n"
     ]
    },
    {
     "name": "stdout",
     "output_type": "stream",
     "text": [
      "Flamingosis Guilty Pleasure A Groovy Thing not in spotify\n",
      "Flamingosis High Tide A Groovy Thing not in spotify\n",
      "Flamingosis Keep Shining A Groovy Thing not in spotify\n",
      "Flamingosis Long Distance A Groovy Thing not in spotify\n"
     ]
    },
    {
     "name": "stdout",
     "output_type": "stream",
     "text": [
      "Flamingosis Never Felt a Feeling Like This A Groovy Thing not in spotify\n",
      "Flamingosis Not Like the Others A Groovy Thing not in spotify\n",
      "Flamingosis Otaku Mode A Groovy Thing not in spotify\n",
      "Flamingosis Persevere A Groovy Thing not in spotify\n"
     ]
    },
    {
     "name": "stdout",
     "output_type": "stream",
     "text": [
      "Flamingosis Soul Crusade A Groovy Thing not in spotify\n",
      "Flamingosis That’s Cold A Groovy Thing not in spotify\n",
      "Flamingosis Want Me (Need Me) A Groovy Thing not in spotify\n"
     ]
    },
    {
     "name": "stdout",
     "output_type": "stream",
     "text": [
      "141/1416 : 0gOsUh84A7v9FnFMsBWGwr Mon Pote Le DJ François Valéry François Valéry 1983 - 1986\n",
      "Franzl Lang Auf und auf voll Lebenslust N/A not in spotify\n",
      "143/1416 : 0mLJdJPzeWzBegRrfmeiwM 1979 French 79 Olympic\n",
      "144/1416 : 6NNg7SJpg7p9VCZXhSqiaE After Party French 79 Olympic\n"
     ]
    },
    {
     "name": "stdout",
     "output_type": "stream",
     "text": [
      "145/1416 : 1LpZP3BXZokmhMi0IN73yY Between the Buttons French 79 Olympic\n",
      "146/1416 : 4ZNpdroEGIgnr3O7IvlUsB DDROPP French 79 Olympic\n",
      "147/1416 : 5G0oVoL309pqsvGDzhMOwx Diamond Veins (feat. Sarah Rebecca) French 79 Olympic\n",
      "148/1416 : 559C5y1XbfhzB8xYjleIQQ Golden Times French 79 Olympic\n"
     ]
    },
    {
     "name": "stdout",
     "output_type": "stream",
     "text": [
      "149/1416 : 2AQxYyQR0gi5mNb0QsFOQJ Hush Hush French 79 Olympic\n",
      "150/1416 : 5e1kNatja9w74M4PU8Ki6d Invisible Moon French 79 Olympic\n",
      "151/1416 : 5pxtj7cCnv2hZe6mbS2MBx Lovin' Feeling French 79 Olympic\n"
     ]
    },
    {
     "name": "stdout",
     "output_type": "stream",
     "text": [
      "152/1416 : 5G0oVoL309pqsvGDzhMOwx Diamond Veins (feat. Sarah Rebecca) French 79 Olympic\n",
      "153/1416 : 25Yj5EDimlbwUWEFXJmAmw Pantheon Neon French 79 Olympic\n",
      "154/1416 : 5leH1cR5UPBWT3MFmOXyGl Vertigo Valley French 79 Olympic\n",
      "155/1416 : 1SOECNmtGKx3yW14505Wfu La danse des parasites Full dub Rewind\n"
     ]
    },
    {
     "name": "stdout",
     "output_type": "stream",
     "text": [
      "156/1416 : 61NCzmaWiG6eF5cbWvRiU8 After the Ordeal - New Stereo Mix Genesis Selling England by the Pound\n",
      "157/1416 : 2a0HWU7HrAPfYmW0pUGMTJ Aisle of Plenty - New Stereo Mix Genesis Selling England by the Pound\n",
      "158/1416 : 1a1xoTlWpndO6azw57dKdJ Dancing with the Moonlit Knight - New Stereo Mix Genesis Selling England by the Pound\n",
      "159/1416 : 6UpMG6BDOd5xecMTu5r3sj Firth of Fifth - New Stereo Mix Genesis Selling England by the Pound\n"
     ]
    },
    {
     "name": "stdout",
     "output_type": "stream",
     "text": [
      "160/1416 : 31VLSfg86NJN74rUHQi7e8 I Know What I Like (In Your Wardrobe) - New Stereo Mix Genesis Selling England by the Pound\n",
      "161/1416 : 4EoKbid1MFccC0VCtO5ehz More Fool Me - New Stereo Mix Genesis Selling England by the Pound\n",
      "162/1416 : 0GSNE8polfFfxGWnyx4knV The Battle of Epping Forest - New Stereo Mix Genesis Selling England by the Pound\n"
     ]
    },
    {
     "name": "stdout",
     "output_type": "stream",
     "text": [
      "163/1416 : 5k10LV4157WEzdFmB97NQR The Cinema Show - New Stereo Mix Genesis Selling England by the Pound\n",
      "164/1416 : 0lNaytiCORnMNZTEBQxlPv Affirmation George Benson Breezin'\n",
      "165/1416 : 62GYoGszQfROZswLee6W3O Give Me the Night George Benson The George Benson Collection\n"
     ]
    },
    {
     "name": "stdout",
     "output_type": "stream",
     "text": [
      "166/1416 : 37y1QZW0uSeMjTztnjjoOV It's On George Duke After Hours\n",
      "167/1416 : 5u1ZHSxdiazsiH4HghWgDZ Le Pornographe Georges Brassens Les Copains D'Abord\n"
     ]
    },
    {
     "name": "stdout",
     "output_type": "stream",
     "text": [
      "Georges Brassens Brave Margot Le Vent not in spotify\n",
      "Georges Brassens Les 4 z'arts Les Copains D'Abord not in spotify\n",
      "170/1416 : 5MRyPM2k1lvwt3noWp0GXJ Les copains d'abord Georges Brassens Les Copains D'Abord\n"
     ]
    },
    {
     "name": "stdout",
     "output_type": "stream",
     "text": [
      "Georges Brassens Le Bistrot Les Funérailles d'antan not in spotify\n",
      "172/1416 : 55hOoPBqFhebHwepr33mak Absolution Ghost Meliora\n",
      "173/1416 : 3ZXZ9RMsznqgyHnyq0K5FL Cirice Ghost Meliora\n"
     ]
    },
    {
     "name": "stdout",
     "output_type": "stream",
     "text": [
      "174/1416 : 5t8Qb2sDIgyj57pcrEjsCC Deus In Absentia Ghost Meliora\n",
      "175/1416 : 2o2UpxEGdYpJqSAAmEgpRD Devil Church Ghost Meliora (Deluxe Edition)\n",
      "176/1416 : 2J5aJp4HQxcMuxZ6HVM4GC From The Pinnacle To The Pit Ghost Meliora\n",
      "177/1416 : 4ExR43GqMe2KwWM3VPGUmO He Is Ghost Meliora\n"
     ]
    },
    {
     "name": "stdout",
     "output_type": "stream",
     "text": [
      "178/1416 : 30ZhfyAmOmF6GN2i5fpVen Majesty Ghost Meliora\n",
      "179/1416 : 3OF5mCJ8aRRIzyE49c9x6x Mummy Dust Ghost Meliora\n",
      "180/1416 : 6NlyLv5ytvhE4xOWN47V0g Spirit Ghost Meliora\n"
     ]
    },
    {
     "name": "stdout",
     "output_type": "stream",
     "text": [
      "181/1416 : 45E7Yc6VNL0Qoo216EoD0R Spöksonat Ghost Meliora (Deluxe Edition)\n",
      "182/1416 : 7rIovIsXE6kMn629b7kDig I Will Survive Gloria Gaynor Love Tracks\n",
      "GoGo Penguin Unspeakable Word Man Made Object not in spotify\n",
      "184/1416 : 3mJBpjkoGVZdAFgo4xeeIL Backbone Gojira From Mars to Sirius\n"
     ]
    },
    {
     "name": "stdout",
     "output_type": "stream",
     "text": [
      "185/1416 : 7vxtxgtlAecGklW2gomanZ Flying Whales Gojira From Mars to Sirius\n",
      "186/1416 : 7vxtxgtlAecGklW2gomanZ Flying Whales Gojira From Mars to Sirius\n",
      "187/1416 : 4ZF3jGBNbIRd24sZ88tZPi From The Sky Gojira From Mars to Sirius\n"
     ]
    },
    {
     "name": "stdout",
     "output_type": "stream",
     "text": [
      "188/1416 : 0dPtOlVrqvkg6cstMNxckp Global Warming Gojira From Mars to Sirius\n",
      "189/1416 : 6MEsBAHtg6CiRcwk5BFIlf In The Wilderness Gojira From Mars to Sirius\n",
      "190/1416 : 7vRPKAROaM9aev5jQ3WRwe Ocean Planet Gojira From Mars to Sirius\n"
     ]
    },
    {
     "name": "stdout",
     "output_type": "stream",
     "text": [
      "Gojira The Heaviest Matter in the Universe From Mars To Sirius not in spotify\n",
      "192/1416 : 7vxtxgtlAecGklW2gomanZ Flying Whales Gojira From Mars to Sirius\n",
      "193/1416 : 4b1yqONf1IrjhG69u6vmRC Unicorn Gojira From Mars to Sirius\n"
     ]
    },
    {
     "name": "stdout",
     "output_type": "stream",
     "text": [
      "194/1416 : 1Ibn3CNFcN8HFaWzyy6bHy Where Dragons Dwell Gojira From Mars to Sirius\n",
      "195/1416 : 4dYfbsV56rlrlcmWInxyGM World To Come Gojira From Mars to Sirius\n",
      "196/1416 : 1rDzUqMRA9VdGCIwzgfeh9 Born in Winter Gojira L'Enfant Sauvage (Special Edition)\n"
     ]
    },
    {
     "name": "stdout",
     "output_type": "stream",
     "text": [
      "197/1416 : 7f7AkrOCmi5X6Eovd3TiNq Explosia Gojira L'Enfant Sauvage (Special Edition)\n"
     ]
    },
    {
     "name": "stdout",
     "output_type": "stream",
     "text": [
      "198/1416 : 4PWxt9Fy949kUtkEi2GI5V L'enfant sauvage Gojira L'Enfant Sauvage (Special Edition)\n",
      "199/1416 : 5BHLmCLntTLjSFGl8MG5wZ Liquid Fire Gojira L'Enfant Sauvage (Special Edition)\n"
     ]
    },
    {
     "name": "stdout",
     "output_type": "stream",
     "text": [
      "200/1416 : 3YVwGFmSc1ycqsk6qLNAK3 Mouth of Kala Gojira L'Enfant Sauvage (Special Edition)\n",
      "201/1416 : 6TEDqADSZjLJ8sH1q8yQDt My Last Creation Gojira L'Enfant Sauvage (Special Edition)\n"
     ]
    },
    {
     "name": "stdout",
     "output_type": "stream",
     "text": [
      "202/1416 : 341EpTlTyC2YbVAxPurQon Pain Is a Master Gojira L'Enfant Sauvage (Special Edition)\n",
      "203/1416 : 57caEZCym7upL7k7wt5h4o Planned Obsolescence Gojira L'Enfant Sauvage (Special Edition)\n",
      "204/1416 : 25I6CiICRyGB0K7E9c7Ho0 The Axe Gojira L'Enfant Sauvage (Special Edition)\n",
      "205/1416 : 6WwjzD7ZnIgzWHKyOvGqG1 The Fall Gojira L'Enfant Sauvage (Special Edition)\n"
     ]
    },
    {
     "name": "stdout",
     "output_type": "stream",
     "text": [
      "206/1416 : 1mjC68qU0Q9HlCIZHZAEko The Gift of Guilt Gojira L'Enfant Sauvage (Special Edition)\n",
      "207/1416 : 1Pa0DVjBUGreCBHIh81G50 The Wild Healer Gojira L'Enfant Sauvage (Special Edition)\n",
      "208/1416 : 5HTPySHVzKat76M1IbiNml This Emptiness Gojira L'Enfant Sauvage (Special Edition)\n"
     ]
    },
    {
     "name": "stdout",
     "output_type": "stream",
     "text": [
      "209/1416 : 2VMB8NG3ZMryFHuFxpcUFO Connected Gojira The Link\n",
      "210/1416 : 4NEQ491tBBtfuQ34uHREOz Dawn Gojira The Link\n",
      "211/1416 : 3U8Cn1reedRo5WXnTUWh6y Death Of Me Gojira The Link\n"
     ]
    },
    {
     "name": "stdout",
     "output_type": "stream",
     "text": [
      "212/1416 : 6mexhzCMb4fBvqxEeSvoyg Embrace The World Gojira The Link\n",
      "213/1416 : 4iNIDlajbzwrja5GdSgv7U Indians Gojira The Link\n",
      "214/1416 : 72xfEhQyroS0QNnaEZKwId Inward Movement Gojira The Link Alive\n"
     ]
    },
    {
     "name": "stdout",
     "output_type": "stream",
     "text": [
      "215/1416 : 6GDnjSG4fYaLjzpH2r3yTh Over The Flows Gojira The Link\n",
      "216/1416 : 63uaSgoiBOc2APs4KA24hK Remembrance Gojira The Link\n",
      "217/1416 : 6MoL1DemRXxfPKf3h07IMO The Link Gojira The Link\n"
     ]
    },
    {
     "name": "stdout",
     "output_type": "stream",
     "text": [
      "218/1416 : 7m4t3QojVWWP8xEFeU11PH Torii Gojira The Link\n",
      "219/1416 : 3Vgn25iwaX297dx6hSsIUw Wisdom Comes Gojira The Link\n",
      "220/1416 : 7MBbfqcqfPmS3lHU0ceLQy A SIGHT TO BEHOLD Gojira The Way of all Flesh\n"
     ]
    },
    {
     "name": "stdout",
     "output_type": "stream",
     "text": [
      "221/1416 : 79nsMx5O53Wn0Px9MZRE3U ADORATION FOR NONE Gojira The Way of all Flesh\n",
      "222/1416 : 4Sjn46VQ43ngZjHdEEJwMn ALL THE TEARS Gojira The Way of all Flesh\n",
      "223/1416 : 31Rxsu5Ad0U5ToQKQWYAK1 ESOTERIC SURGERY Gojira The Way of all Flesh\n"
     ]
    },
    {
     "name": "stdout",
     "output_type": "stream",
     "text": [
      "224/1416 : 6jYB9DxligWEtHq1K5ExEi OROBORUS Gojira The Way of all Flesh\n",
      "225/1416 : 666L3SqyCAxOUMyewZI9Ll THE ART OF DYING Gojira The Way of all Flesh\n",
      "226/1416 : 33jZqgOPG0Fxrron5JQRx1 THE SILVER CORD Gojira The Way of all Flesh\n"
     ]
    },
    {
     "name": "stdout",
     "output_type": "stream",
     "text": [
      "227/1416 : 666L3SqyCAxOUMyewZI9Ll THE ART OF DYING Gojira The Way of all Flesh\n",
      "228/1416 : 1mEaiE4yw6BsaNMsctM4Sr TOXIC GARBAGE ISLAND Gojira The Way of all Flesh\n",
      "229/1416 : 6HIZIhqCq2Wvnro9GCv9cA VACUITY Gojira The Way of all Flesh\n"
     ]
    },
    {
     "name": "stdout",
     "output_type": "stream",
     "text": [
      "230/1416 : 37jqj9gyQztkNJhX2ZhDLe WOLF DOWN THE EARTH Gojira The Way of all Flesh\n",
      "231/1416 : 68cFjtZ4RbVwpv76TwCe0A YAMA'S MESSENGERS Gojira The Way of all Flesh\n",
      "232/1416 : 5NYKOiiSD0iC5BaBFyOiFP Are You Receiving Me Golden Earring Moontan\n"
     ]
    },
    {
     "name": "stdout",
     "output_type": "stream",
     "text": [
      "233/1416 : 5t7tuBGnmy1AegGj6WMvqt Candy's Going Bad Golden Earring Moontan\n",
      "234/1416 : 4ENwYjiCcpOHXLQ2SM2M0E Just Like Vince Taylor Golden Earring Moontan\n",
      "235/1416 : 20aASiwfsbiLlaJxLiC0PQ Radar Love Golden Earring Moontan\n"
     ]
    },
    {
     "name": "stdout",
     "output_type": "stream",
     "text": [
      "236/1416 : 5ld7iP4kXPPBFRL4Q65M9s Suzy Lunacy - Mental Rock Golden Earring Moontan\n",
      "237/1416 : 1QLG203TjRwIt1J7WXqSnW The Vanilla Queen Golden Earring Moontan\n",
      "238/1416 : 76Ug1q4l6rGwJ2ubV5wh3X All Alone Gorillaz Demon Days\n"
     ]
    },
    {
     "name": "stdout",
     "output_type": "stream",
     "text": [
      "239/1416 : 4Hff1IjRbLGeLgFgxvHflk DARE Gorillaz Demon Days\n",
      "240/1416 : 0d28khcov6AiegSCpG5TuT Feel Good Inc. Gorillaz Demon Days\n"
     ]
    },
    {
     "name": "stdout",
     "output_type": "stream",
     "text": [
      "241/1416 : 2bfGNzdiRa1jXZRdfssSzR Dirty Harry Gorillaz Demon Days\n",
      "242/1416 : 4hjGZN8poACfjWCK3Og6vY Don't Get Lost in Heaven Gorillaz Demon Days\n",
      "243/1416 : 0dcMqjeDpwqB2xhzMsld0p El Mañana Gorillaz Demon Days\n"
     ]
    },
    {
     "name": "stdout",
     "output_type": "stream",
     "text": [
      "244/1416 : 2pw9RZWZibttZzoFhwjuy6 Every Planet We Reach Is Dead Gorillaz Demon Days\n",
      "245/1416 : 0d28khcov6AiegSCpG5TuT Feel Good Inc. Gorillaz Demon Days\n"
     ]
    },
    {
     "name": "stdout",
     "output_type": "stream",
     "text": [
      "246/1416 : 1S9tfxdFr4TqoqA14gnKj3 Fire Coming out of the Monkey's Head Gorillaz Demon Days\n"
     ]
    },
    {
     "name": "stdout",
     "output_type": "stream",
     "text": [
      "247/1416 : 2zavoMfVVPJMikH57fd8yK Intro Gorillaz Demon Days\n"
     ]
    },
    {
     "name": "stdout",
     "output_type": "stream",
     "text": [
      "248/1416 : 0eEgMbSzOHmkOeVuNC3E0k Kids with Guns Gorillaz Demon Days\n",
      "249/1416 : 7JzmCjvB6bk48JghLyrg8N Last Living Souls Gorillaz Demon Days\n"
     ]
    },
    {
     "name": "stdout",
     "output_type": "stream",
     "text": [
      "250/1416 : 6lrDckuosGpwEHtm1hHBcf November Has Come Gorillaz Demon Days\n",
      "251/1416 : 4hNPMfFHauPIbOKvdYqFt7 O Green World Gorillaz Demon Days\n",
      "252/1416 : 7hnW9af7GuGH5lyUUTa8UH White Light Gorillaz Demon Days\n"
     ]
    },
    {
     "name": "stdout",
     "output_type": "stream",
     "text": [
      "253/1416 : 3THFKx88trZuOFlssVLJ5G Broken Gorillaz Plastic Beach\n",
      "254/1416 : 0NDOVMOT6ah2k6HuXLrq5x Cloud of Unknowing (feat. Bobby Womack and Sinfonia ViVA) Gorillaz Plastic Beach\n",
      "Gorillaz Doncamatic Plastic Beach not in spotify\n"
     ]
    },
    {
     "name": "stdout",
     "output_type": "stream",
     "text": [
      "256/1416 : 3a6PN6BRB8PP3ms48s7kU1 Empire Ants (feat. Little Dragon) Gorillaz Plastic Beach\n",
      "257/1416 : 4EJFCpthcrP6oOUUXQZ22Z Glitter Freeze (feat. Mark E Smith) Gorillaz Plastic Beach\n",
      "258/1416 : 0q6LuUqGLUiCPP1cbdwFs3 On Melancholy Hill Gorillaz Plastic Beach\n"
     ]
    },
    {
     "name": "stdout",
     "output_type": "stream",
     "text": [
      "259/1416 : 3s2f6XU5sJ6aqEe7GgDBta Orchestral Intro (feat. Sinfonia ViVA) Gorillaz Plastic Beach\n",
      "260/1416 : 0xSF7iHZQxaZYMAiBfobms Pirate Jet Gorillaz Plastic Beach\n"
     ]
    },
    {
     "name": "stdout",
     "output_type": "stream",
     "text": [
      "Gorillaz Pirate's Progress Plastic Beach not in spotify\n",
      "262/1416 : 0q6LuUqGLUiCPP1cbdwFs3 On Melancholy Hill Gorillaz Plastic Beach\n",
      "263/1416 : 1foMv2HQwfQ2vntFf9HFeG Rhinestone Eyes Gorillaz Plastic Beach\n"
     ]
    },
    {
     "name": "stdout",
     "output_type": "stream",
     "text": [
      "264/1416 : 4M88Wd7Aps5LGRWMOC7gSH Some Kind of Nature (feat. Lou Reed) Gorillaz Plastic Beach\n"
     ]
    },
    {
     "name": "stdout",
     "output_type": "stream",
     "text": [
      "265/1416 : 6LUfuyLgvgqrykiTE6sJHY Stylo (feat. Mos Def and Bobby Womack) Gorillaz Plastic Beach\n"
     ]
    },
    {
     "name": "stdout",
     "output_type": "stream",
     "text": [
      "266/1416 : 1UJNbgfTzG1gZZTWFJdMf1 Superfast Jellyfish (feat. Gruff Rhys and De La Soul) Gorillaz Plastic Beach\n"
     ]
    },
    {
     "name": "stdout",
     "output_type": "stream",
     "text": [
      "267/1416 : 5SM5amC17V4itA5jxIICjS Sweepstakes (feat. Mos Def and Hypnotic Brass Ensemble) Gorillaz Plastic Beach\n"
     ]
    },
    {
     "name": "stdout",
     "output_type": "stream",
     "text": [
      "268/1416 : 1dvOwoHwZB9SwvRw2Gv3nz To Binge (feat. Little Dragon) Gorillaz Plastic Beach\n"
     ]
    },
    {
     "name": "stdout",
     "output_type": "stream",
     "text": [
      "269/1416 : 46WOptLnXUtH3LOyYvmMO1 Welcome to the World of the Plastic Beach (feat. Snoop Dogg and Hypnotic Brass Ensemble) Gorillaz Plastic Beach\n",
      "270/1416 : 3famfyGuWw5QFcVO5Xk1uW White Flag (feat. Bashy, Kano and the National Orchestra for Arabic Music) Gorillaz Plastic Beach\n",
      "271/1416 : 2haIfONRw1Bhi2zSp67MYU Aries (feat. Peter Hook and Georgia) Gorillaz Song Machine Episode 3\n"
     ]
    },
    {
     "name": "stdout",
     "output_type": "stream",
     "text": [
      "272/1416 : 3Llikc7f9KKGYwbrEfAYtk 1985 Haken Affinity\n",
      "Haken affinitiy.exe / Initiate Affinity not in spotify\n",
      "274/1416 : 48yGP7ecT6JknKUZzLbu6e Bound by Gravity Haken Affinity\n"
     ]
    },
    {
     "name": "stdout",
     "output_type": "stream",
     "text": [
      "275/1416 : 1OtGh4nRaCYGisPJwubjvz Earthrise Haken Affinity\n",
      "276/1416 : 4eS9umlLK4MYscFl5qXxBQ Lapse Haken Affinity\n",
      "277/1416 : 7B2T9UwGKfbUg2ChxyiMI6 Red Giant Haken Affinity\n",
      "278/1416 : 2sApFpOvdX7RKiHbShekNL The Architect Haken Affinity\n"
     ]
    },
    {
     "name": "stdout",
     "output_type": "stream",
     "text": [
      "279/1416 : 1ux3tUN5QnfnFlyDTCxELH The Endless Knot Haken Affinity\n",
      "Happy End Aiga wo\r",
      " Kazemachi Roman not in spotify\n",
      "Happy End Ashita tenki ni Naare Kazemachi Roman not in spotify\n",
      "Happy End Dakishimetai Kazemachi Roman not in spotify\n"
     ]
    },
    {
     "name": "stdout",
     "output_type": "stream",
     "text": [
      "Happy End Haikara Beautiful Kazemachi Roman not in spotify\n",
      "Happy End Haikara Hakuchi Kazemachi Roman not in spotify\n",
      "Happy End Hanaichimonme Kazemachi Roman not in spotify\n"
     ]
    },
    {
     "name": "stdout",
     "output_type": "stream",
     "text": [
      "Happy End Haru Ranman Kazemachi Roman not in spotify\n",
      "Happy End Kaze wo Atsumete Kazemachi Roman not in spotify\n",
      "Happy End Kurayamizaka Musasabi Henka Kazemachi Roman not in spotify\n"
     ]
    },
    {
     "name": "stdout",
     "output_type": "stream",
     "text": [
      "Happy End Natsu nandesu Kazemachi Roman not in spotify\n",
      "Happy End Sorairo no Crayon Kazemachi Roman not in spotify\n",
      "Happy End Taifuu Kazemachi Roman not in spotify\n",
      "292/1416 : 20zOIoex7YchUh87d8tlvg Boogie Nights Heatwave Too Hot To Handle\n"
     ]
    },
    {
     "name": "stdout",
     "output_type": "stream",
     "text": [
      "293/1416 : 4Ce66JznW8QbeyTdSzdGwR Chameleon Herbie Hancock Head Hunters\n",
      "294/1416 : 4WyVRn3L2uXnSUkY762gqN Sly Herbie Hancock Head Hunters\n",
      "295/1416 : 6c0ziyel6ZMTQ37vKRooGZ Vein Melter Herbie Hancock Head Hunters\n",
      "296/1416 : 2zQl59dZMzwhrmeSBEgiXY Watermelon Man Herbie Hancock Head Hunters\n"
     ]
    },
    {
     "name": "stdout",
     "output_type": "stream",
     "text": [
      "297/1416 : 24hwI6OhnNKAOpRDmoSi3q Hidden Shadows Herbie Hancock Sextant\n",
      "298/1416 : 0sJyW4f7X5YvmrG0cPBLzI Hornets Herbie Hancock Sextant\n",
      "299/1416 : 5c5F0rVz812oUbgRUq5HcR Rain Dance Herbie Hancock Sextant\n",
      "300/1416 : 4QPFsGzN0Z4yh1NchgpeOk The One I Call Hey Hey My My British Hawaii\n"
     ]
    },
    {
     "name": "stdout",
     "output_type": "stream",
     "text": [
      "301/1416 : 3QQgR5v0nGHNxMsMqVLrnW Périmètre Hugo TSR Périmètre\n",
      "302/1416 : 3vb3cuNO0q8qL4fni4gTxn Bouger la tête Iam L'école du micro d'argent\n",
      "303/1416 : 2D7I6bbfc2Vvz4zYBGWvW1 Chez le mac Iam L'école du micro d'argent\n"
     ]
    },
    {
     "name": "stdout",
     "output_type": "stream",
     "text": [
      "304/1416 : 3ivCKJqe7y23kebjJnb2Ua Dangereux Iam L'école du micro d'argent\n",
      "305/1416 : 0QtKyWOrV5Vhw2n5Yf7LcF Demain, c'est loin Iam L'école du micro d'argent\n",
      "306/1416 : 0BdZEQpJDKgj0DWBfiG1DH Elle donne son corps avant son nom Iam L'école du micro d'argent\n"
     ]
    },
    {
     "name": "stdout",
     "output_type": "stream",
     "text": [
      "307/1416 : 3jqBLwtTiUYismDiZgAgPE Petit frère Iam L'école du micro d'argent\n",
      "308/1416 : 2I5S4UqzgMdooPBc31EmgX L'empire du côté obscur Iam L'école du micro d'argent\n"
     ]
    },
    {
     "name": "stdout",
     "output_type": "stream",
     "text": [
      "309/1416 : 5kpqjjwrI3GIVR2qMBqr3D L'enfer (feat. East & Fabe) Iam L'école du micro d'argent\n"
     ]
    },
    {
     "name": "stdout",
     "output_type": "stream",
     "text": [
      "310/1416 : 3mFHyDEPrWnc29OlWUBtPI La saga Iam L'école du micro d'argent\n",
      "311/1416 : 2qfrNd9xxV6Axycd3F5Eqb Libère mon imagination Iam L'école Du Micro D'argent (Edition Collector)\n",
      "312/1416 : 66ZtqKhYSA8XyPr0aAUFsm Nés sous la même étoile Iam L'école du micro d'argent\n"
     ]
    },
    {
     "name": "stdout",
     "output_type": "stream",
     "text": [
      "313/1416 : 3jqBLwtTiUYismDiZgAgPE Petit frère Iam L'école du micro d'argent\n",
      "IAM Quant tu allais, on revenait L'École du Micro d'Argent not in spotify\n",
      "315/1416 : 6Fu77zQJkRBzzCPRnSMWgI Regarde Iam L'école du micro d'argent\n"
     ]
    },
    {
     "name": "stdout",
     "output_type": "stream",
     "text": [
      "316/1416 : 3gN0dANbfEdlK3p31pqgw9 Un bon son brut pour les truands Iam L'école du micro d'argent\n",
      "317/1416 : 35wUBvwdtylu6S1QO5cUur Un cri court dans la nuit (feat. Nuttea) Iam L'école du micro d'argent\n",
      "Igorrr Downgrade Desert Spiriyuality and Distorsion not in spotify\n"
     ]
    },
    {
     "name": "stdout",
     "output_type": "stream",
     "text": [
      "Incantation Cacharpaya Pan Pipes of the Andes not in spotify\n",
      "Jake Chudnow Poodles Short Stories not in spotify\n",
      "Jake Chudnow Turquoise Short Stories not in spotify\n"
     ]
    },
    {
     "name": "stdout",
     "output_type": "stream",
     "text": [
      "322/1416 : 4VWbPQUPvLes814r6T11Jz Les Champs-Elysées Joe Dassin Les Champs-Èlysées\n",
      "323/1416 : 2ZkIVWpBOjcabfz5gfIwjp Toccata and Fugue in D Minor, BWV 565: 1. Toccata Johann Sebastian Bach Bach: Moments\n"
     ]
    },
    {
     "name": "stdout",
     "output_type": "stream",
     "text": [
      "324/1416 : 5431KRbZtVF3tVgMR1lIYS An der schönen blauen Donau, Walzer, Op. 314 Johann Strauss II Neujahrskonzert 2020 / New Year's Concert 2020 / Concert du Nouvel An 2020\n",
      "325/1416 : 133O0c1dynolUei1FMi7C2 I was Looking at the Ceiling and Then I Saw the Sky: Act II: Finale (Tutti) John Adams Adams: I Was Looking at the Ceiling and Then I Saw the Sky\n",
      "326/1416 : 2hfoyc7ve6xM4ZEiNIiU1B Gimme Love Joji Gimme Love\n"
     ]
    },
    {
     "name": "stdout",
     "output_type": "stream",
     "text": [
      "327/1416 : 3dyoo6UNb2VlMTISBqrDb1 Sousou Jul Sousou\n",
      "Jun Fukamachi Desillusion Quark not in spotify\n",
      "Jun Fukamachi Insight Quark not in spotify\n",
      "Jun Fukamachi Perpetual (Movement) Quark not in spotify\n"
     ]
    },
    {
     "name": "stdout",
     "output_type": "stream",
     "text": [
      "Jun Fukamachi Quark Quark not in spotify\n",
      "Kalash Criminel Pronostic N/A not in spotify\n",
      "Kelly Bailey CP Violation Half Life 2 not in spotify\n"
     ]
    },
    {
     "name": "stdout",
     "output_type": "stream",
     "text": [
      "334/1416 : 2WFggVC84b18ZkJTNgFnGP believe Kenichiro Nishihara Jazzy Folklore\n",
      "Kenichiro Nishihara Magazine Jazzy Folklore not in spotify\n",
      "336/1416 : 6b6D94SnWcbNYYcw7ky7YL my leaving Kenichiro Nishihara Jazzy Folklore\n"
     ]
    },
    {
     "name": "stdout",
     "output_type": "stream",
     "text": [
      "337/1416 : 2gR2zWHWq1mGEraOgZvEuW my love my life Kenichiro Nishihara Jazzy Folklore\n",
      "338/1416 : 69mJOQRpKgvq8dZX1jaeKZ pass the tea Kenichiro Nishihara Jazzy Folklore\n",
      "339/1416 : 6PPDZSjl29m4SpQbJqTBQZ piano choir Kenichiro Nishihara Jazzy Folklore\n"
     ]
    },
    {
     "name": "stdout",
     "output_type": "stream",
     "text": [
      "340/1416 : 3b6G3g3cB34x1sMggyffbS prism tale Kenichiro Nishihara Jazzy Folklore\n",
      "Kenichiro Nishihara The Vibe Jazzy Folklore not in spotify\n",
      "342/1416 : 6pUjl3qNOXV9fbVIFQWtG3 waves Kenichiro Nishihara Jazzy Folklore\n",
      "Kenichiro Nishihara Yesternow Immignrats Jazzy Folklore not in spotify\n"
     ]
    },
    {
     "name": "stdout",
     "output_type": "stream",
     "text": [
      "Koji Kondo Kokiri Forest Ocarina of Time not in spotify\n",
      "345/1416 : 4Cv6ongCvJy9JfSkWVnb5D Get Down On It Kool & The Gang Something Special\n",
      "346/1416 : 2f1BjAVy4k8B3pB4qBntHj Alone I Break Korn Untouchables\n"
     ]
    },
    {
     "name": "stdout",
     "output_type": "stream",
     "text": [
      "347/1416 : 1VlW3owKPeiEtxMaHkq4Pv Beat It Upright Korn Untouchables\n",
      "348/1416 : 1mGIbvbKtTqWSMLAEDA6tj Blame Korn Untouchables\n",
      "349/1416 : 52iwy78GCO58e6fb7CB4Kb Bottled up Inside Korn Untouchables\n"
     ]
    },
    {
     "name": "stdout",
     "output_type": "stream",
     "text": [
      "350/1416 : 487O7RBFtw8dfRJEs2NRxA Embrace Korn Untouchables\n",
      "351/1416 : 3QXcSwYu2HlH45ZfV1cCIw Hating Korn Untouchables\n",
      "352/1416 : 5NHTtXGCdO7ul16xr0q93w Here to Stay Korn Untouchables\n",
      "353/1416 : 2epJOYKMo2XOXuc8Bk3Xwa Hollow Life Korn Untouchables\n"
     ]
    },
    {
     "name": "stdout",
     "output_type": "stream",
     "text": [
      "354/1416 : 7aWbEWjNhXEaD2tMPWHUZj I'm Hiding Korn Untouchables\n",
      "355/1416 : 0VUGGLcINsmJi3nc612KkL Make Believe Korn Untouchables\n"
     ]
    },
    {
     "name": "stdout",
     "output_type": "stream",
     "text": [
      "356/1416 : 0sGSlTV3HjZayg5g6CdNbc No One's There Korn Untouchables\n"
     ]
    },
    {
     "name": "stdout",
     "output_type": "stream",
     "text": [
      "357/1416 : 25pAePMnGdeFVhMMUE2eKV One More Time Korn Untouchables\n",
      "358/1416 : 6HlFxHQ5nn6HYGxOOYIrLm Thoughtless Korn Untouchables\n"
     ]
    },
    {
     "name": "stdout",
     "output_type": "stream",
     "text": [
      "359/1416 : 7tEHwkn9Ym0lDbwKONHBvW Wake Up Hate Korn Untouchables\n",
      "360/1416 : 0keNORyUWidCWh1I0gli6D A Quick Break Kristofer Maddigan Cuphead (Original Soundtrack)\n",
      "361/1416 : 6xjSxW2xKQX60VQEuV5ce0 Admission to Perdition Kristofer Maddigan Cuphead (Original Soundtrack)\n"
     ]
    },
    {
     "name": "stdout",
     "output_type": "stream",
     "text": [
      "362/1416 : 0lR96n5ReVvMnSpeymAHIh All Bets Are Off Kristofer Maddigan Cuphead (Original Soundtrack)\n",
      "363/1416 : 4fxY3i5FNyP3LUzixUS7CD Aviary Action Kristofer Maddigan Cuphead (Original Soundtrack)\n",
      "364/1416 : 0YBHCNZipJmhgykFFInajM Botanic Panic Kristofer Maddigan Cuphead (Original Soundtrack)\n"
     ]
    },
    {
     "name": "stdout",
     "output_type": "stream",
     "text": [
      "365/1416 : 5AMlkhfcb7TEVghsY4ymdD Carnival Kerfuffle Kristofer Maddigan Cuphead (Original Soundtrack)\n",
      "366/1416 : 4HSbWc9sk1fi7CbCxjYvda Chief Evil Officer Kristofer Maddigan Cuphead (Original Soundtrack)\n"
     ]
    },
    {
     "name": "stdout",
     "output_type": "stream",
     "text": [
      "367/1416 : 7uVpjihhrP2plvxnSzP6JY Clip Joint Calamity Kristofer Maddigan Cuphead (Original Soundtrack)\n",
      "368/1416 : 5MsrxyKk8Pwwij03I8QHDs Closing Credits Kristofer Maddigan Cuphead (Original Soundtrack)\n"
     ]
    },
    {
     "name": "stdout",
     "output_type": "stream",
     "text": [
      "369/1416 : 3xy2j2CjDQph91gUK71oHz Coin-Op Bop Kristofer Maddigan Cuphead (Original Soundtrack)\n"
     ]
    },
    {
     "name": "stdout",
     "output_type": "stream",
     "text": [
      "370/1416 : 3HpvQ7aZ5338LLRxPjUawN Die House Kristofer Maddigan Cuphead (Original Soundtrack)\n",
      "371/1416 : 55lscnv23cvuEyaf0xSxed Don't Deal with the Devil (Instrumental) Kristofer Maddigan Cuphead (Original Soundtrack)\n"
     ]
    },
    {
     "name": "stdout",
     "output_type": "stream",
     "text": [
      "372/1416 : 7Hd76FhngTrK6KK8TNVnFb Dramatic Fanatic Kristofer Maddigan Cuphead (Original Soundtrack)\n",
      "373/1416 : 6ktFdl272RBi7uk8FTPeuQ Elder Kettle Kristofer Maddigan Cuphead (Original Soundtrack)\n"
     ]
    },
    {
     "name": "stdout",
     "output_type": "stream",
     "text": [
      "374/1416 : 6oNYc9y8DfgEDh4HzPupAS Elder Kettle (Piano) Kristofer Maddigan Cuphead (Original Soundtrack)\n"
     ]
    },
    {
     "name": "stdout",
     "output_type": "stream",
     "text": [
      "375/1416 : 02h2lqTc872LnYQ7TOFMmF Fiery Frolic Kristofer Maddigan Cuphead (Original Soundtrack)\n",
      "376/1416 : 3zD0YE28NZ9qTHvfVl6imU Floral Fury Kristofer Maddigan Cuphead (Original Soundtrack)\n",
      "377/1416 : 70THn7YYfyk1U4zozH3bUy Forest Follies Kristofer Maddigan Cuphead (Original Soundtrack)\n"
     ]
    },
    {
     "name": "stdout",
     "output_type": "stream",
     "text": [
      "378/1416 : 7sJxeev8KjB8HXjA4pxy3E Funfair Fever Kristofer Maddigan Cuphead (Original Soundtrack)\n",
      "379/1416 : 18glzC2ulLjpZAGRMt4eoA Funhouse Frazzle Kristofer Maddigan Cuphead (Original Soundtrack)\n",
      "380/1416 : 33bdiZAAiUu9MkwELMztV2 High Score Kristofer Maddigan Cuphead (Original Soundtrack)\n"
     ]
    },
    {
     "name": "stdout",
     "output_type": "stream",
     "text": [
      "381/1416 : 7MOLuGHl3msefPDQF8MeKG High Seas Hi-Jinx Kristofer Maddigan Cuphead (Original Soundtrack)\n",
      "382/1416 : 0nKZsdHAqChEd0jwynrfoW Honeycomb Herald Kristofer Maddigan Cuphead (Original Soundtrack)\n",
      "383/1416 : 2AvPs6sbcDQQgXhRgmUufp Hurry Up Kristofer Maddigan Cuphead (Original Soundtrack)\n"
     ]
    },
    {
     "name": "stdout",
     "output_type": "stream",
     "text": [
      "384/1416 : 4IIhfvn5exIXltV9sznYtR Inkwell Hell Kristofer Maddigan Cuphead (Original Soundtrack)\n",
      "385/1416 : 0wdquw14LO4V24Oi5Fildy Inkwell Hell (Piano) Kristofer Maddigan Cuphead (Original Soundtrack)\n"
     ]
    },
    {
     "name": "stdout",
     "output_type": "stream",
     "text": [
      "386/1416 : 6UehmCQPTPaZk5R0VXQ5eE Inkwell Isle One Kristofer Maddigan Cuphead (Original Soundtrack)\n"
     ]
    },
    {
     "name": "stdout",
     "output_type": "stream",
     "text": [
      "387/1416 : 4mSI8DMnuj3JKXJwhaN9DM Inkwell Isle One (Piano) Kristofer Maddigan Cuphead (Original Soundtrack)\n",
      "388/1416 : 7MToKxeepujquHIVLya6jt Inkwell Isle Three Kristofer Maddigan Cuphead (Original Soundtrack)\n",
      "389/1416 : 6JLAE1sWylNmvJU7283CGE Inkwell Isle Three (Piano) Kristofer Maddigan Cuphead (Original Soundtrack)\n"
     ]
    },
    {
     "name": "stdout",
     "output_type": "stream",
     "text": [
      "390/1416 : 2ZWRAljvtZIirVQWvcBGkD Inkwell Isle Two Kristofer Maddigan Cuphead (Original Soundtrack)\n",
      "391/1416 : 7IcqrOolPAgqxcK55hvqZk Inkwell Isle Two (Piano) Kristofer Maddigan Cuphead (Original Soundtrack)\n",
      "392/1416 : 2ufr0Gs4OWL1Uo22EsJDSx Introduction Kristofer Maddigan Cuphead (Original Soundtrack)\n"
     ]
    },
    {
     "name": "stdout",
     "output_type": "stream",
     "text": [
      "393/1416 : 3LbC5JsZ1Sa4HGfhMFSS3o Junkyard Jive Kristofer Maddigan Cuphead (Original Soundtrack)\n",
      "394/1416 : 4TvuAd18ViTQJ19QAbezDT Legendary Ghost Kristofer Maddigan Cuphead (Original Soundtrack)\n",
      "395/1416 : 0HBseo5ADohKTaH6JK3rn1 Murine Corps Kristofer Maddigan Cuphead (Original Soundtrack)\n"
     ]
    },
    {
     "name": "stdout",
     "output_type": "stream",
     "text": [
      "396/1416 : 20KOgZJtB7XOButnyAsLQR Ominous Interlude Kristofer Maddigan Cuphead (Original Soundtrack)\n",
      "397/1416 : 2PMX8sBBrT0q7B4sQkBR7a One Hell of a Time Kristofer Maddigan Cuphead (Original Soundtrack)\n",
      "Kristofer Maddigan Perilious Piers Cuphead not in spotify\n"
     ]
    },
    {
     "name": "stdout",
     "output_type": "stream",
     "text": [
      "399/1416 : 5vUWXPgS8kCAOP4tZ0o6vI Porkrind's Shop Kristofer Maddigan Cuphead (Original Soundtrack)\n",
      "400/1416 : 0MX6VvRcqrvJXRLzfZUOmk Pyramid Peril Kristofer Maddigan Cuphead (Original Soundtrack)\n",
      "401/1416 : 0v3uNqdn2dHuSCQLFperyZ Railroad Wrath Kristofer Maddigan Cuphead (Original Soundtrack)\n"
     ]
    },
    {
     "name": "stdout",
     "output_type": "stream",
     "text": [
      "402/1416 : 7yHJxwR8NEZZzjcTdPWq5e Rugged Ridge Kristofer Maddigan Cuphead (Original Soundtrack)\n",
      "403/1416 : 0dvxG9bYKI4ZUCYwcF3c5N Ruse of an Ooze Kristofer Maddigan Cuphead (Original Soundtrack)\n",
      "404/1416 : 4w4qrHEm4Olj1K070PKgvZ Shootin' 'n' Lootin' Kristofer Maddigan Cuphead (Original Soundtrack)\n"
     ]
    },
    {
     "name": "stdout",
     "output_type": "stream",
     "text": [
      "405/1416 : 7eVPSl96DJOMSc9rIBn6ft Sugarland Shimmy Kristofer Maddigan Cuphead (Original Soundtrack)\n",
      "406/1416 : 3Mk62kPEDmcXpEvAM8ng72 The Airship Kristofer Maddigan Cuphead (Original Soundtrack)\n",
      "407/1416 : 6i6cXgQLeEH40MwUnaIxSJ The End Kristofer Maddigan Cuphead (Original Soundtrack)\n"
     ]
    },
    {
     "name": "stdout",
     "output_type": "stream",
     "text": [
      "408/1416 : 3Q1ihQlFp9V9VDYxlWb25u The King's Court Kristofer Maddigan Cuphead (Original Soundtrack)\n",
      "409/1416 : 1MpjMyBxY45fY5mUaqrdxj The Mausoleum Kristofer Maddigan Cuphead (Original Soundtrack)\n",
      "410/1416 : 3cShnBQsJ2zLR6iya0V3z1 Threatenin' Zeppelin Kristofer Maddigan Cuphead (Original Soundtrack)\n"
     ]
    },
    {
     "name": "stdout",
     "output_type": "stream",
     "text": [
      "411/1416 : 7D4cP3Hn1VepH9ZpcP0t8R Treetop Trouble Kristofer Maddigan Cuphead (Original Soundtrack)\n",
      "412/1416 : 3b283GyxalGqsqCqLNw8xR Tutorial Kristofer Maddigan Cuphead (Original Soundtrack)\n",
      "413/1416 : 4ZaUqU13ynXcIkfoznfU3n Victory Tune Kristofer Maddigan Cuphead (Original Soundtrack)\n"
     ]
    },
    {
     "name": "stdout",
     "output_type": "stream",
     "text": [
      "414/1416 : 4JdlT1FxsyGCKqaWxcSEfI Winner Takes All Kristofer Maddigan Cuphead (Original Soundtrack)\n",
      "415/1416 : 7LsdvPwmV18qhipmHcRF8A 512 Lamb of God VII: Sturm Und Drang (Deluxe)\n"
     ]
    },
    {
     "name": "stdout",
     "output_type": "stream",
     "text": [
      "416/1416 : 2fQ2iALVbAZ7MkH6PaaIJ6 No Quarter - 1990 Remaster Led Zeppelin Houses of the Holy (1994 Remaster)\n",
      "417/1416 : 62p6fF2r4NY6pwZbxxvmr8 Fool in the Rain - 1990 Remaster Led Zeppelin In Through the out Door (1994 Remaster)\n",
      "418/1416 : 1rxD34LAtkafrMUHqHIV76 Bring It on Home - 2012 Remaster Led Zeppelin Led Zeppelin II (Remaster)\n",
      "419/1416 : 6WE7jSshLCuVKoCmobVKVf Heartbreaker - 1990 Remaster Led Zeppelin Led Zeppelin II (1994 Remaster)\n"
     ]
    },
    {
     "name": "stdout",
     "output_type": "stream",
     "text": [
      "420/1416 : 49C6EGQhCUSgyADHYvJ7ez Living Loving Maid (She's Just a Woman) - 2012 Remaster Led Zeppelin Led Zeppelin II (Remaster)\n",
      "421/1416 : 0h2gzJQBt6duqZD6kWiz4s Moby Dick Led Zeppelin Led Zeppelin II (1994 Remaster)\n",
      "422/1416 : 3MODES4TNtygekLl146Dxd Ramble On - 1990 Remaster Led Zeppelin Led Zeppelin II (1994 Remaster)\n"
     ]
    },
    {
     "name": "stdout",
     "output_type": "stream",
     "text": [
      "423/1416 : 4ZkhFcoS3apzze9w2yI9NO Thank You - 1990 Remaster Led Zeppelin Led Zeppelin II (1994 Remaster)\n",
      "424/1416 : 5qbVkwfy0RYGFA6hAiIL90 The Lemon Song - 1993 Remaster Led Zeppelin Led Zeppelin II (1994 Remaster)\n",
      "425/1416 : 5G7uLHtoEW140QOcBpJlfz What Is and What Should Never Be - 1990 Remaster Led Zeppelin Led Zeppelin II (1994 Remaster)\n"
     ]
    },
    {
     "name": "stdout",
     "output_type": "stream",
     "text": [
      "426/1416 : 0hCB0YR03f6AmQaHbwWDe8 Whole Lotta Love - 1990 Remaster Led Zeppelin Led Zeppelin II (1994 Remaster)\n",
      "427/1416 : 78MXICbE7bD4cuPKFh1EFO Celebration Day - 2012 Remaster Led Zeppelin Led Zeppelin III (Remaster)\n",
      "428/1416 : 5tRb0Y2bloJGI8uskuAtRL Bonneville Leprous Malina\n"
     ]
    },
    {
     "name": "stdout",
     "output_type": "stream",
     "text": [
      "429/1416 : 5Yd4WNmT89T5wsafIMRjfA Captive Leprous Malina\n",
      "430/1416 : 3DsQZKycCle3aiZf6Tax3P Coma Leprous Malina\n",
      "431/1416 : 1tBxs9BqNlBXbIxVaCBrv5 From the Flame Leprous Malina\n"
     ]
    },
    {
     "name": "stdout",
     "output_type": "stream",
     "text": [
      "432/1416 : 2N3vUnZi5Nj54ELyI8wAJ7 Illuminate Leprous Malina\n",
      "433/1416 : 43UDvLX76YlPWlXnMnzIUJ Leashes Leprous Malina\n",
      "434/1416 : 1tBxs9BqNlBXbIxVaCBrv5 From the Flame Leprous Malina\n"
     ]
    },
    {
     "name": "stdout",
     "output_type": "stream",
     "text": [
      "435/1416 : 2v5frKIhRuyDA9lgaaesR6 Mirage Leprous Malina\n",
      "436/1416 : 74vy9v25MuoqNVBdAjGwJC Stuck Leprous Malina\n",
      "437/1416 : 2BeVytGUGVlT1vxFo0AowH The Last Milestone Leprous Malina\n"
     ]
    },
    {
     "name": "stdout",
     "output_type": "stream",
     "text": [
      "438/1416 : 35OyuK76YVYWrokOGBA1Ln The Weight of Disaster Leprous Malina\n",
      "439/1416 : 0mdiu7UpUOr5Non3kZt4uO Down Leprous The Congregation\n",
      "440/1416 : 3IJVVQUPhLMlrr1cQu2u3B Lower Leprous The Congregation\n"
     ]
    },
    {
     "name": "stdout",
     "output_type": "stream",
     "text": [
      "441/1416 : 2phdVu3rv0cAslwuG9Xydn Moon Leprous The Congregation\n",
      "Leprous Pixel The Congregation not in spotify\n",
      "443/1416 : 1Cd0PU3AYHdd4tKGGmkIHx Red Leprous The Congregation\n"
     ]
    },
    {
     "name": "stdout",
     "output_type": "stream",
     "text": [
      "444/1416 : 12NwYmQT1Mm7gkrCjIuq0d Rewind Leprous The Congregation\n",
      "445/1416 : 6RYWCMf5LvlUlgyYPTtplQ Slave Leprous The Congregation\n",
      "446/1416 : 3ta3S0R3EZYW0pTcopZP5P The Flood Leprous The Congregation\n"
     ]
    },
    {
     "name": "stdout",
     "output_type": "stream",
     "text": [
      "447/1416 : 134I0qT6UrkDjhbI6bx0x3 The Price Leprous The Congregation\n",
      "448/1416 : 77fpiSyauWmfvdQy2y02Bu Third Law Leprous The Congregation\n",
      "449/1416 : 44KzUMe9Kn2xVxD5v7jisb Triumphant Leprous The Congregation\n"
     ]
    },
    {
     "name": "stdout",
     "output_type": "stream",
     "text": [
      "450/1416 : 2HA08a69UHthb1g8JMqkn3 Within My Fence Leprous The Congregation\n",
      "Lipps Inc. Funkytown Mouth to Mouth not in spotify\n",
      "452/1416 : 0FVbbb6EDyCckexuU1QRD4 Undecided Ludivine Issambourg Outlaws\n"
     ]
    },
    {
     "name": "stdout",
     "output_type": "stream",
     "text": [
      "Luke Million Arnold N/A not in spotify\n",
      "Luke Million Ice Ice Arnie (Cool Party) N/A not in spotify\n",
      "455/1416 : 5U4ByJt0IvLu3bpF2DdDQT A Farewell to Arms Machine Head The Blackening\n"
     ]
    },
    {
     "name": "stdout",
     "output_type": "stream",
     "text": [
      "456/1416 : 2dy8eXtNCrLcpT006adx5g Aesthetics of Hate Machine Head The Blackening\n",
      "457/1416 : 5Cs6AftcanvD6Ib7YJ1otT Beautiful Mourning Machine Head The Blackening\n",
      "458/1416 : 7ao9MKmhkjeFxw0alndkdM Clenching the Fists of Dissent Machine Head The Blackening\n"
     ]
    },
    {
     "name": "stdout",
     "output_type": "stream",
     "text": [
      "459/1416 : 5nksa8EqKHSWO9WBj6DnmS Halo Machine Head The Blackening\n",
      "460/1416 : 65GqoNsz3q6GMW9AXjv8mz Now I Lay Thee Down Machine Head The Blackening\n",
      "461/1416 : 4tH51l243jr1ZIrdHgXlQm Slanderous Machine Head The Blackening\n"
     ]
    },
    {
     "name": "stdout",
     "output_type": "stream",
     "text": [
      "462/1416 : 07xghD8AXeVlCHfnD18HM0 Wolves Machine Head The Blackening\n",
      "Mahito Yokota Gusty Gardens Super Mario Galaxy not in spotify\n",
      "Maître Gims Reste N/A not in spotify\n"
     ]
    },
    {
     "name": "stdout",
     "output_type": "stream",
     "text": [
      "465/1416 : 49xRQ2i2OOAxdO8AaRzcoM I Can’t Breathe Marcus Miller Afrodeezia\n",
      "466/1416 : 7iyjZ4paFWpTrJJenM0yZb All Night Long Mary Jane Girls In My House\n"
     ]
    },
    {
     "name": "stdout",
     "output_type": "stream",
     "text": [
      "467/1416 : 2HuMQkNVpFIsur2cRWWQmX Exchange Massive Attack Mezzanine\n",
      "468/1416 : 7uv632EkfwYhXoqf8rhYrg Angel Massive Attack Mezzanine\n"
     ]
    },
    {
     "name": "stdout",
     "output_type": "stream",
     "text": [
      "469/1416 : 1Rezzt36ybaT2ZbDZpv83D Black Milk Massive Attack Mezzanine\n",
      "470/1416 : 0oeEqyEAavgPfFxDYvjAP6 Dissolved Girl Massive Attack Mezzanine\n",
      "471/1416 : 2HuMQkNVpFIsur2cRWWQmX Exchange Massive Attack Mezzanine\n"
     ]
    },
    {
     "name": "stdout",
     "output_type": "stream",
     "text": [
      "472/1416 : 0pWrU4My52DJ75GnZKDlv8 Group Four Massive Attack Mezzanine\n",
      "473/1416 : 3N2UhXZI4Gf64Ku3cCjz2g Inertia Creeps Massive Attack Mezzanine\n",
      "474/1416 : 2Tz5THgkMOQeaW6DlqAlIa Man Next Door Massive Attack Mezzanine\n"
     ]
    },
    {
     "name": "stdout",
     "output_type": "stream",
     "text": [
      "475/1416 : 67Hna13dNDkZvBpTXRIaOJ Teardrop Massive Attack Mezzanine\n",
      "476/1416 : 6ggJ6MceyHGWtUg1KLp3M1 Risingson Massive Attack Mezzanine\n"
     ]
    },
    {
     "name": "stdout",
     "output_type": "stream",
     "text": [
      "477/1416 : 67Hna13dNDkZvBpTXRIaOJ Teardrop Massive Attack Mezzanine\n",
      "478/1416 : 4Ynr1SPCeUI0W0YPeSFSIK Oblivion Mastodon Crack the Skye\n"
     ]
    },
    {
     "name": "stdout",
     "output_type": "stream",
     "text": [
      "479/1416 : 6HZ8zBamcVKjO46vsLj9vh Divinations Mastodon Crack the Skye\n",
      "480/1416 : 2VzyWKHUmuxUq7J7I8wbng Ghost of Karelia Mastodon Crack the Skye\n"
     ]
    },
    {
     "name": "stdout",
     "output_type": "stream",
     "text": [
      "481/1416 : 4Ynr1SPCeUI0W0YPeSFSIK Oblivion Mastodon Crack the Skye\n",
      "482/1416 : 7n2K9HW8OhwFpWEdzeYu79 Quintessence Mastodon Crack the Skye\n"
     ]
    },
    {
     "name": "stdout",
     "output_type": "stream",
     "text": [
      "483/1416 : 2LMjQnKH7sQzOD0l8q6eWz The Czar: Usurper / Escape / Martyr / Spiral Mastodon Crack the Skye\n",
      "484/1416 : 6MUc3qu8WOqO7hAY6gdhJY The Last Baron Mastodon Crack the Skye\n",
      "485/1416 : 0k8CNAD5ADcMCOdTOMxUHk Ancient Kingdom Mastodon Emperor of Sand\n"
     ]
    },
    {
     "name": "stdout",
     "output_type": "stream",
     "text": [
      "486/1416 : 6asbKxqMe9pxI3rxax74Yr Andromeda Mastodon Emperor of Sand\n",
      "487/1416 : 6ZWzCxc7bBSPYZPem17HbW Clandestiny Mastodon Emperor of Sand\n",
      "488/1416 : 7lGOFEVWK0jzpLMFuR4ANh Jaguar God Mastodon Emperor of Sand\n"
     ]
    },
    {
     "name": "stdout",
     "output_type": "stream",
     "text": [
      "489/1416 : 4GPne3vf5okCDszbmeCUZz Precious Stones Mastodon Emperor of Sand\n",
      "Mastodon Roots Remains Emperor of Sand not in spotify\n",
      "491/1416 : 36dvfTxi43vTmGQOAnxsi5 Scorpion Breath Mastodon Emperor of Sand\n"
     ]
    },
    {
     "name": "stdout",
     "output_type": "stream",
     "text": [
      "492/1416 : 1dfHpGeaXunLRNvzSZOZtc Show Yourself Mastodon Emperor of Sand\n",
      "493/1416 : 4Ut80ggQbyiJN2pGCs7VfB Steambreather Mastodon Emperor of Sand\n",
      "494/1416 : 4X5g2t99BTuLQIRdjGw1Fn Sultan's Curse Mastodon Emperor of Sand\n"
     ]
    },
    {
     "name": "stdout",
     "output_type": "stream",
     "text": [
      "495/1416 : 2aYtAI8xvZLUTZPYZMC6ad Word to the Wise Mastodon Emperor of Sand\n",
      "496/1416 : 66IQ0mkE79F2G8UJoTZ8Wh All the Heavy Lifting Mastodon The Hunter\n",
      "497/1416 : 0ZUFpi7zB4fNwDR9QvCNAx Bedazzled Fingernails Mastodon The Hunter\n"
     ]
    },
    {
     "name": "stdout",
     "output_type": "stream",
     "text": [
      "498/1416 : 0mc0SaUktWUvWuvLcsbGxo Black Tongue Mastodon The Hunter (Deluxe)\n",
      "499/1416 : 5Z1dxiIrZGvnViXtY7N8g9 Blasteroid Mastodon The Hunter (Deluxe)\n",
      "500/1416 : 0z6SMC3gEs3lc8SNKHWlCP Creature Lives Mastodon The Hunter\n"
     ]
    },
    {
     "name": "stdout",
     "output_type": "stream",
     "text": [
      "501/1416 : 7hUKxjrojKK6r4wiO3G9iU Curl of the Burl Mastodon The Hunter (Deluxe)\n",
      "502/1416 : 6ydsoMOdkMhqWdKSVdKfG4 Dry Bone Valley Mastodon The Hunter\n",
      "503/1416 : 6ebcAa58q1QVhROAfFzUDV Octopus Has No Friends Mastodon The Hunter\n"
     ]
    },
    {
     "name": "stdout",
     "output_type": "stream",
     "text": [
      "504/1416 : 3pH77UgKQ0kTQ92zQgIXxS Spectrelight Mastodon The Hunter (Deluxe)\n",
      "505/1416 : 3rcHLWmRsYKdbTgwMgCfRO Stargasm Mastodon The Hunter (Deluxe)\n",
      "506/1416 : 7hUKxjrojKK6r4wiO3G9iU Curl of the Burl Mastodon The Hunter (Deluxe)\n"
     ]
    },
    {
     "name": "stdout",
     "output_type": "stream",
     "text": [
      "507/1416 : 6HrhyuJgFztW0PUkbki2C9 The Sparrow Mastodon The Hunter\n",
      "508/1416 : 3opV7fLdliwk9tXOkNOs27 Thickening Mastodon The Hunter\n",
      "509/1416 : 1B75hgRqe7A4fwee3g3Wmu U Can't Touch This MC Hammer Please Hammer Don't Hurt 'Em\n"
     ]
    },
    {
     "name": "stdout",
     "output_type": "stream",
     "text": [
      "510/1416 : 2g7gviEeJr6pyxO7G35EWQ Paradise By the Dashboard Light Meat Loaf Bat Out Of Hell\n",
      "Megadeth Architecture of Agression Countdown to Extinction not in spotify\n",
      "512/1416 : 2Fkgr7LZTAjakkceB7PwN5 Ashes In Your Mouth - Remastered Megadeth Countdown To Extinction\n"
     ]
    },
    {
     "name": "stdout",
     "output_type": "stream",
     "text": [
      "513/1416 : 3hUTwUiS7H79Po2hnErd8H Captive Honour Megadeth Countdown To Extinction\n",
      "514/1416 : 51TG9W3y9qyO8BY5RXKgnZ Symphony Of Destruction Megadeth Countdown To Extinction\n",
      "515/1416 : 4goJhfQRbNfYybpYf9xmbL Foreclosure Of A Dream - Remastered Megadeth Countdown To Extinction\n"
     ]
    },
    {
     "name": "stdout",
     "output_type": "stream",
     "text": [
      "516/1416 : 0rzFlOXHVVmL8CvXPL0Fb3 High Speed Dirt Megadeth Countdown To Extinction\n",
      "517/1416 : 6HyVffzF6uXt9NHMgEkQpJ Psychotron Megadeth Countdown To Extinction\n",
      "518/1416 : 7EFho37SrizYaQ2NVxLejd Skin O' My Teeth - Remastered Megadeth Countdown To Extinction\n"
     ]
    },
    {
     "name": "stdout",
     "output_type": "stream",
     "text": [
      "519/1416 : 6i7IXg8j7ZngiEOgBYjkhw Sweating Bullets - Remastered 2004 Megadeth Countdown To Extinction\n",
      "520/1416 : 51TG9W3y9qyO8BY5RXKgnZ Symphony Of Destruction Megadeth Countdown To Extinction\n",
      "521/1416 : 0Ad43GBuMZqdInDrwp2HHL This Was My Life Megadeth Countdown To Extinction\n"
     ]
    },
    {
     "name": "stdout",
     "output_type": "stream",
     "text": [
      "522/1416 : 1IbxJ3jbvSLmaecRamvtui Bad Omen - Remastered Megadeth Peace Sells...But Who's Buying?\n",
      "523/1416 : 009aJqwtazpcpmOW3YbwDx Devils Island - Remastered Megadeth Peace Sells...But Who's Buying?\n"
     ]
    },
    {
     "name": "stdout",
     "output_type": "stream",
     "text": [
      "524/1416 : 36gQBgUJjbRbrMTyQUNl56 Good Mourning / Black Friday - Remastered Megadeth Peace Sells...But Who's Buying?\n",
      "525/1416 : 43gM0PIvpgqv19nFZWRlN3 I Ain't Superstitious - Remastered Megadeth Peace Sells...But Who's Buying?\n"
     ]
    },
    {
     "name": "stdout",
     "output_type": "stream",
     "text": [
      "526/1416 : 6VdoivAOy8oRR6Pmpw4Ux4 My Last Words - Remastered Megadeth Peace Sells...But Who's Buying?\n",
      "527/1416 : 5a2hIQWInPjqkkFiUEgxoX Peace Sells - Remastered Megadeth Peace Sells...But Who's Buying (25th Anniversary)\n",
      "528/1416 : 0pv49erP5wxMZMnprRCqXT The Conjuring - Remastered Megadeth Peace Sells...But Who's Buying?\n"
     ]
    },
    {
     "name": "stdout",
     "output_type": "stream",
     "text": [
      "529/1416 : 1I3qfFMraXE0kAPtRERpok Wake Up Dead - Remastered Megadeth Peace Sells...But Who's Buying?\n",
      "530/1416 : 4NwFxag85AYdCel47a3Yhi Dawn Patrol - Remastered 2004 Megadeth Rust In Peace\n",
      "531/1416 : 3tISv448Ikxvpq2ZrFyGG2 Five Magics - Remastered 2004 Megadeth Rust In Peace\n"
     ]
    },
    {
     "name": "stdout",
     "output_type": "stream",
     "text": [
      "532/1416 : 6b6uLZsoGhObYexIxnRbIb Hangar 18 - Remastered 2004 Megadeth Rust In Peace\n",
      "Megadeth Holy Wars...The Punishmend Due Rust in Peace not in spotify\n",
      "534/1416 : 1Bi6Me45Xiqy4kYUGGwBTv Lucretia - Remastered 2004 Megadeth Rust In Peace\n"
     ]
    },
    {
     "name": "stdout",
     "output_type": "stream",
     "text": [
      "535/1416 : 6bz32FHJGzO5SFYDnLBmG7 My Creation - Remastered 2004 Megadeth Rust In Peace\n",
      "536/1416 : 6HqnBoikcyjy7I1kbrfhlr Poison Was The Cure - Remastered 2004 Megadeth Rust In Peace\n",
      "537/1416 : 0803SWqmIJGvZ15B8zsewn Rust In Peace...Polaris - Remastered 2004 Megadeth Rust In Peace\n"
     ]
    },
    {
     "name": "stdout",
     "output_type": "stream",
     "text": [
      "538/1416 : 1XFSSbQ9fApWNXZMAKllb6 Take No Prisoners - Remastered 2004 Megadeth Rust In Peace\n",
      "539/1416 : 4E5xVW505akJX0wcKj8Mpd Tornado Of Souls - Remastered 2004 Megadeth Rust In Peace\n",
      "540/1416 : 0PDThNPaf3ganx4PFmGznK Don't Tread On Me Metallica Metallica\n"
     ]
    },
    {
     "name": "stdout",
     "output_type": "stream",
     "text": [
      "541/1416 : 5BIMPccDwShpXq784RJlJp Enter Sandman Metallica Metallica\n",
      "542/1416 : 1kaB0BvQEmwHeAzNh4jziT Holier Than Thou Metallica Metallica\n",
      "543/1416 : 6YwqziI3H71IMishKRTHHg My Friend Of Misery Metallica Metallica\n"
     ]
    },
    {
     "name": "stdout",
     "output_type": "stream",
     "text": [
      "544/1416 : 10igKaIKsSB6ZnWxPxPvKO Nothing Else Matters Metallica Metallica\n",
      "545/1416 : 1cojSYj0ugS7tmcwKIxMX4 Of Wolf And Man Metallica Metallica\n",
      "546/1416 : 1Ug98CRiQYu7wiSym4uLY4 Sad But True Metallica Metallica\n"
     ]
    },
    {
     "name": "stdout",
     "output_type": "stream",
     "text": [
      "547/1416 : 0h26wQZD5GoSvK5zZuv69E The God That Failed Metallica Metallica\n",
      "548/1416 : 6RlsFZUCF3bU4NE7BjpDXr The Struggle Within Metallica Metallica\n",
      "549/1416 : 2lF8jQFhIjpmQa501sYXxR The Unforgiven Metallica Metallica\n"
     ]
    },
    {
     "name": "stdout",
     "output_type": "stream",
     "text": [
      "550/1416 : 0K8hmlY7fVZLRp3R1JnWLT Through The Never Metallica Metallica\n",
      "Metallica Whenever I may Roam Metallica not in spotify\n",
      "552/1416 : 4q9QVIaLqjbcoqeCfM2zan Creeping Death (Remastered) Metallica Ride The Lightning (Deluxe Remaster)\n"
     ]
    },
    {
     "name": "stdout",
     "output_type": "stream",
     "text": [
      "553/1416 : 4SlFMlB9eD0Y48RXVp1ixR Escape (Remastered) Metallica Ride The Lightning (Deluxe Remaster)\n",
      "554/1416 : 0dqGfCMAGyDgpUAgLNOjWd Fade To Black (Remastered) Metallica Ride The Lightning (Deluxe Remaster)\n"
     ]
    },
    {
     "name": "stdout",
     "output_type": "stream",
     "text": [
      "555/1416 : 0WSRrGVg1gO33MKIBPgBV2 Fight Fire With Fire (Remastered) Metallica Ride The Lightning (Deluxe Remaster)\n"
     ]
    },
    {
     "name": "stdout",
     "output_type": "stream",
     "text": [
      "556/1416 : 51YZAJhOwIC5Gg3jMbAmhZ For Whom The Bell Tolls (Remastered) Metallica Ride The Lightning (Deluxe Remaster)\n",
      "557/1416 : 51YZAJhOwIC5Gg3jMbAmhZ For Whom The Bell Tolls (Remastered) Metallica Ride The Lightning (Deluxe Remaster)\n"
     ]
    },
    {
     "name": "stdout",
     "output_type": "stream",
     "text": [
      "558/1416 : 1E2AfYuobMm18cKEoQaRob The Call Of Ktulu (Remastered) Metallica Ride The Lightning (Deluxe Remaster)\n",
      "559/1416 : 3lVAAVOkfNyCii1aLgH3JX Trapped Under Ice (Remastered) Metallica Ride The Lightning (Deluxe Remaster)\n",
      "560/1416 : 6sJT6EIer5VO2T05Qbg3cC Devil's Dance - Live with the SFSO Metallica S&M\n"
     ]
    },
    {
     "name": "stdout",
     "output_type": "stream",
     "text": [
      "561/1416 : 6EmUlknZSc3QK8JSk7F2Qt For Whom The Bell Tolls - Live with the SFSO Metallica S&M\n",
      "562/1416 : 7yQP0dsMgIV5FJT94htpxe Fuel - Live with the SFSO Metallica S&M\n",
      "563/1416 : 0wFL6kJKvHY6t5OcOiAbCZ Master Of Puppets - Live with the SFSO Metallica S&M\n"
     ]
    },
    {
     "name": "stdout",
     "output_type": "stream",
     "text": [
      "564/1416 : 0n4AllHzf3ma4ki20Y9h00 No Leaf Clover - Live with the SFSO Metallica S&M\n",
      "Metallica Of Wolf and Men S&M not in spotify\n"
     ]
    },
    {
     "name": "stdout",
     "output_type": "stream",
     "text": [
      "566/1416 : 7KLL4TSjeDuFo6VtM9gNWk The Call Of Ktulu - Live with the SFSO Metallica S&M\n",
      "567/1416 : 4jfrFYcMWGojddctOCCSjL The Memory Remains - Live with the SFSO Metallica S&M\n"
     ]
    },
    {
     "name": "stdout",
     "output_type": "stream",
     "text": [
      "568/1416 : 37DziDjAAxRySqsYGNYBlW The Thing That Should Not Be - Live with the SFSO Metallica S&M\n",
      "569/1416 : 21VCYxPZ8A2XpSNUyQCT3B Another Part of Me - 2012 Remaster Michael Jackson Bad 25th Anniversary\n"
     ]
    },
    {
     "name": "stdout",
     "output_type": "stream",
     "text": [
      "570/1416 : 2bCQHF9gdG5BNDVuEIEnNk Smooth Criminal - 2012 Remaster Michael Jackson Bad 25th Anniversary\n",
      "571/1416 : 3yBlJtq86wROQpHi1goEKT Dirty Diana - 2012 Remaster Michael Jackson Bad 25th Anniversary\n"
     ]
    },
    {
     "name": "stdout",
     "output_type": "stream",
     "text": [
      "572/1416 : 2fytePz8UsbUr8n33QBEcm I Just Can't Stop Loving You (feat. Siedah Garrett) - 2012 Remaster Michael Jackson Bad 25th Anniversary\n",
      "573/1416 : 75Rv9SkGILm24kmhAYvjZg Just Good Friends - 2012 Remaster Michael Jackson Bad 25th Anniversary\n"
     ]
    },
    {
     "name": "stdout",
     "output_type": "stream",
     "text": [
      "574/1416 : 2jQfozDpitT8lVEYoOjmeR Leave Me Alone - 2012 Remaster Michael Jackson Bad 25th Anniversary\n",
      "575/1416 : 5OoRmdDfAiDztSwrhe7wuE Liberian Girl - 2012 Remastered Version Michael Jackson Bad 25th Anniversary\n"
     ]
    },
    {
     "name": "stdout",
     "output_type": "stream",
     "text": [
      "576/1416 : 1kiNatIrwDusOZfR29W0LJ Man in the Mirror - 2012 Remaster Michael Jackson Bad 25th Anniversary\n",
      "577/1416 : 2bCQHF9gdG5BNDVuEIEnNk Smooth Criminal - 2012 Remaster Michael Jackson Bad 25th Anniversary\n"
     ]
    },
    {
     "name": "stdout",
     "output_type": "stream",
     "text": [
      "578/1416 : 2w7VEWHtt8WW88Yt5H9ibZ Speed Demon - 2012 Remaster Michael Jackson Bad 25th Anniversary\n",
      "579/1416 : 0sKlV58cODrjxGFOyf9IXY The Way You Make Me Feel - 2012 Remaster Michael Jackson Bad 25th Anniversary\n"
     ]
    },
    {
     "name": "stdout",
     "output_type": "stream",
     "text": [
      "580/1416 : 6XYbMGvtl6tlPoGWaiH7EY Baby Be Mine Michael Jackson Thriller\n",
      "581/1416 : 1OOtq8tRnDM8kG2gqUPjAj Beat It - Single Version Michael Jackson Thriller 25 Super Deluxe Edition\n",
      "582/1416 : 5ChkMS8OtdzJeqyybCc9R5 Billie Jean Michael Jackson Thriller 25 Super Deluxe Edition\n"
     ]
    },
    {
     "name": "stdout",
     "output_type": "stream",
     "text": [
      "583/1416 : 35lAjvsvS9k9HHuP1fjDT8 Human Nature Michael Jackson Thriller 25 Super Deluxe Edition\n",
      "584/1416 : 5lA3pwMkBdd24StM90QrNR P.Y.T. (Pretty Young Thing) Michael Jackson Thriller 25 Super Deluxe Edition\n",
      "585/1416 : 1diEQsD8PJC9hXB5Gpfgtn The Girl Is Mine (with Paul McCartney) Michael Jackson Thriller 25 Super Deluxe Edition\n"
     ]
    },
    {
     "name": "stdout",
     "output_type": "stream",
     "text": [
      "586/1416 : 07L1pzoVerhRSSaDGZHrKy The Lady in My Life Michael Jackson Thriller\n",
      "587/1416 : 5ChkMS8OtdzJeqyybCc9R5 Billie Jean Michael Jackson Thriller 25 Super Deluxe Edition\n"
     ]
    },
    {
     "name": "stdout",
     "output_type": "stream",
     "text": [
      "588/1416 : 2kulOHR2XY6YDZCWXb38hn Wanna Be Startin' Somethin' Michael Jackson Thriller 25 Super Deluxe Edition\n",
      "589/1416 : 3zsSvh8Pu3TiuXn5YdhZqz Requiem In D Minor, K.626: 1. Introitus: Requiem Wolfgang Amadeus Mozart Karajan - Mozart\n"
     ]
    },
    {
     "name": "stdout",
     "output_type": "stream",
     "text": [
      "590/1416 : 7JU3UNQBit19qmCGG0tQej Requiem In D Minor, K 626 - 1. Introitus - Requiem Aeternam - 2. Kyrie Eleison Wolfgang Amadeus Mozart Mozart: Requiem\n",
      "Mozart 3. Sequenta: Confutatis Requiem in D minor K 626 not in spotify\n"
     ]
    },
    {
     "name": "stdout",
     "output_type": "stream",
     "text": [
      "Mozart 3. Sequenta: Lacrimosa Requiem in D minor K 626 not in spotify\n",
      "Mozart 3. Sequenta: Recordare Requiem in D minor K 626 not in spotify\n",
      "Mozart 3. Sequenta: Rex tremendae Requiem in D minor K 626 not in spotify\n"
     ]
    },
    {
     "name": "stdout",
     "output_type": "stream",
     "text": [
      "Mozart 3. Sequentia: Tubamirum Requiem in D minor K 626 not in spotify\n",
      "Mozart 3a. Sequienta: Dies irae Requiem in D minor K 626 not in spotify\n",
      "597/1416 : 7rFbjvOVAjimxhIMVVatF6 Requiem In D Minor, K.626: 4. Offertorium: Domine Jesu Wolfgang Amadeus Mozart Karajan - Mozart\n"
     ]
    },
    {
     "name": "stdout",
     "output_type": "stream",
     "text": [
      "598/1416 : 0x7uY2kKO4RVhajULRVNFo Requiem In D Minor, K.626: 4. Offertorium: Hostias Wolfgang Amadeus Mozart Karajan - Mozart\n",
      "599/1416 : 7rkakVQEVWVASpkamj7m8o Requiem In D Minor, K.626: 5. Sanctus Wolfgang Amadeus Mozart Karajan - Mozart\n"
     ]
    },
    {
     "name": "stdout",
     "output_type": "stream",
     "text": [
      "600/1416 : 0HFIawlgXNMh01tMP3rur4 Requiem In D Minor, K.626: 6. Benedictus Wolfgang Amadeus Mozart Karajan - Mozart\n",
      "601/1416 : 0vRfuLHzBWqWnylAnifquI Requiem In D Minor, K.626: 7. Agnus Dei Wolfgang Amadeus Mozart Karajan - Mozart\n",
      "602/1416 : 6EkyeAw8TnpzH516EBWgW2 Requiem In D Minor, K.626: 8.Communio: Lux aeterna Wolfgang Amadeus Mozart Karajan - Mozart\n"
     ]
    },
    {
     "name": "stdout",
     "output_type": "stream",
     "text": [
      "603/1416 : 6JnFVmPyJvjnfBag0hhIFa Assassin Muse Black Holes and Revelations\n",
      "604/1416 : 3Sno9FE8r2uz8QP0MtnTPL City of Delusion Muse Black Holes and Revelations\n",
      "605/1416 : 20vZII9Yu52czI9Fk4p39r Exo-Politics Muse Black Holes and Revelations\n"
     ]
    },
    {
     "name": "stdout",
     "output_type": "stream",
     "text": [
      "606/1416 : 6IfitwQQ1Gu9g9QnLWDHRY Glorious Muse Black Holes and Revelations\n",
      "607/1416 : 0EkE0ripJ9OFNzvZANzo5C Hoodoo Muse Black Holes and Revelations\n",
      "608/1416 : 2zmR3FG7iOGDAdwrVPzdg9 Invincible Muse Black Holes and Revelations\n"
     ]
    },
    {
     "name": "stdout",
     "output_type": "stream",
     "text": [
      "609/1416 : 7ouMYWpwJ422jRcDASZB7P Knights of Cydonia Muse Black Holes and Revelations\n",
      "610/1416 : 5YXr4AGfUQpLSxtFSsKUh6 Map of the Problematique Muse Black Holes and Revelations\n",
      "611/1416 : 6jH5aCuXgtygWpx7BF54at Soldier's Poem Muse Black Holes and Revelations\n",
      "612/1416 : 3skn2lauGk7Dx6bVIt5DVj Starlight Muse Black Holes and Revelations\n"
     ]
    },
    {
     "name": "stdout",
     "output_type": "stream",
     "text": [
      "Muse Supremassive Black Hole Black Holes and Revelations not in spotify\n",
      "614/1416 : 4jrCMOG9OPe6iF4vWFxatb Take a Bow Muse Black Holes and Revelations\n",
      "615/1416 : 1vGmdXBUWksAsi2NlhMNwR Aeon Neurosis Through Silver In Blood\n"
     ]
    },
    {
     "name": "stdout",
     "output_type": "stream",
     "text": [
      "616/1416 : 1BpIsdibg1tudFkLDPerzQ Become the Ocean Neurosis Through Silver In Blood\n",
      "617/1416 : 6LfseiBqkTtyONP8SztCcD Enclosure In Flame Neurosis Through Silver In Blood\n",
      "618/1416 : 56bAgMY066gE5GoWAqcxcg Eye Neurosis Through Silver In Blood\n"
     ]
    },
    {
     "name": "stdout",
     "output_type": "stream",
     "text": [
      "619/1416 : 1Sb2dgS6ruZnJYNQ3SxLHd Locust Star Neurosis Through Silver In Blood\n",
      "620/1416 : 7lxlrqS1dCBmdAgXI4cR9P Purify Neurosis Through Silver In Blood\n",
      "621/1416 : 5BBfllI8hk4r2GK7bWtCzl Rehumanize Neurosis Through Silver In Blood\n"
     ]
    },
    {
     "name": "stdout",
     "output_type": "stream",
     "text": [
      "622/1416 : 6O3NHOrGfwf7KXM1EsTtHf Strength of Fates Neurosis Through Silver In Blood\n",
      "623/1416 : 1Sb2dgS6ruZnJYNQ3SxLHd Locust Star Neurosis Through Silver In Blood\n",
      "624/1416 : 0F9006OrjS0L9w0e9dVeZA 7 Days to the Wolves Nightwish Dark Passion Play\n"
     ]
    },
    {
     "name": "stdout",
     "output_type": "stream",
     "text": [
      "625/1416 : 1vzqcPRQ6P1Uw7NZ5M77wJ Amaranth Nightwish Dark Passion Play\n",
      "626/1416 : 0uzJU4LpKHBU1qrAhIJ4mY Bye Bye Beautiful Nightwish Dark Passion Play\n",
      "627/1416 : 52Fd9jBTFmqKBNm0gTmu8t Cadence of Her Last Breath Nightwish Dark Passion Play\n"
     ]
    },
    {
     "name": "stdout",
     "output_type": "stream",
     "text": [
      "628/1416 : 0bWX6lLV1DgCW2KhXcQNAB Eva [Demo] Nightwish 'The Sounds of Nightwish Reborn: Early Demos for \"Dark Passion Play\" and B-Sides'\n",
      "629/1416 : 1jQHkVzpp96U6EbPTBE3Ha For the Heart I Once Had Nightwish Dark Passion Play\n",
      "630/1416 : 4LcsZa53i4Rx3duMU9ApkI Last of the Wilds Nightwish Dark Passion Play\n"
     ]
    },
    {
     "name": "stdout",
     "output_type": "stream",
     "text": [
      "631/1416 : 5l2genxxVzjKbzHr0raAZP Master Passion Greed Nightwish Dark Passion Play\n",
      "632/1416 : 57jrg8U5c3NZUf87xQ8v9V Meadows of Heaven Nightwish Dark Passion Play\n",
      "633/1416 : 5E21wrJBYW6gQSwfrRQrOC Sahara Nightwish Dark Passion Play\n"
     ]
    },
    {
     "name": "stdout",
     "output_type": "stream",
     "text": [
      "634/1416 : 4A1UYa2fFUevK7xW3aKD9L The Islander Nightwish Dark Passion Play\n",
      "635/1416 : 2Zr87XD5AeRko0ab9NIp79 The Poet and the Pendulum Nightwish Dark Passion Play\n"
     ]
    },
    {
     "name": "stdout",
     "output_type": "stream",
     "text": [
      "636/1416 : 17TMhgqazTXD9jn9zEuClm Whoever Brings the Night Nightwish Dark Passion Play\n",
      "637/1416 : 6utuFCvF34xhmwwwFAYntF Endlessness Nightwish HUMAN. :II: NATURE.\n"
     ]
    },
    {
     "name": "stdout",
     "output_type": "stream",
     "text": [
      "638/1416 : 06h4HxzQkqx45lCRxDe4lA Harvest Nightwish HUMAN. :II: NATURE.\n",
      "639/1416 : 6lkVbijlh932FSS2I0gDrR How's the Heart? Nightwish HUMAN. :II: NATURE.\n",
      "640/1416 : 49LQq6RoFTWFk5d6hBGEKt Music Nightwish HUMAN. :II: NATURE.\n"
     ]
    },
    {
     "name": "stdout",
     "output_type": "stream",
     "text": [
      "641/1416 : 0RZVAhyB8vhxQz6ITjiuyA Noise Nightwish HUMAN. :II: NATURE.\n",
      "642/1416 : 1XcTT3XqNalzJMamAiIqOW Pan Nightwish HUMAN. :II: NATURE.\n",
      "643/1416 : 7aIxfEHjebCNbs6bpKv9Go Procession Nightwish HUMAN. :II: NATURE.\n"
     ]
    },
    {
     "name": "stdout",
     "output_type": "stream",
     "text": [
      "644/1416 : 5xITcnqoMdILDBNCwHGr5v Shoemaker Nightwish HUMAN. :II: NATURE.\n",
      "645/1416 : 5tN4bKhtt6klkkB0GVt9i1 Tribal Nightwish HUMAN. :II: NATURE.\n",
      "646/1416 : 6yRTuuYsGhceeI1QQ9KfDQ Réseaux Niska NOUVEL AN RAP FR\n"
     ]
    },
    {
     "name": "stdout",
     "output_type": "stream",
     "text": [
      "647/1416 : 59dUIzMJxeMVzLDW7efLic Elusive Cure Paradise Lost Draconian Times\n",
      "648/1416 : 4tTLo644XcmhYRzpDZdnlb Enchantment - 2011 Remasterred Paradise Lost Draconian Times (Legacy Edition)\n",
      "649/1416 : 5OTOUyo18hGb3p1QeLOsp8 Forever Failure Paradise Lost Draconian Times\n"
     ]
    },
    {
     "name": "stdout",
     "output_type": "stream",
     "text": [
      "650/1416 : 0ibuggkWTSDXHo25S0Qqvj Hallowed Land Paradise Lost Draconian Times\n",
      "651/1416 : 41eLsM7dWBxeHJg2mO5PYY Hands Of Reason Paradise Lost Draconian Times\n",
      "652/1416 : 4SlBn3adjzgtT0rEW1wdKJ I See Your Face Paradise Lost Draconian Times\n"
     ]
    },
    {
     "name": "stdout",
     "output_type": "stream",
     "text": [
      "653/1416 : 4ojsxsOZL3HBXALCCQV2Dg Jaded Paradise Lost Draconian Times\n",
      "654/1416 : 613fYhrrubkEQAjkfHREt4 Once Solemn Paradise Lost Draconian Times\n",
      "655/1416 : 0e5X7i3AtGbg0P8Ui4RKVN Shades Of God Paradise Lost Draconian Times\n"
     ]
    },
    {
     "name": "stdout",
     "output_type": "stream",
     "text": [
      "656/1416 : 4YdNlZSNrJhNCfqYhI1ENF Shadowkings Paradise Lost Draconian Times\n",
      "657/1416 : 76bUvHShiaBaCOpeMMP8F0 The Last Time Paradise Lost Draconian Times\n",
      "658/1416 : 7L4ruNa5TK7ykKr6zfBn6q Yearn For Change Paradise Lost Draconian Times\n"
     ]
    },
    {
     "name": "stdout",
     "output_type": "stream",
     "text": [
      "659/1416 : 3R1DPDoWdFdPeBj4aLwqBo Bemyself - from Hansa Studios, Berlin Parcels Live Vol. 1\n",
      "660/1416 : 4Y668YELGKHZ36nfTE3eBu Closetowhy - from Hansa Studios, Berlin Parcels Live Vol. 1\n",
      "661/1416 : 6GQEhwaBBC1E2pzlRlGity Comedown - from Hansa Studios, Berlin Parcels Live Vol. 1\n"
     ]
    },
    {
     "name": "stdout",
     "output_type": "stream",
     "text": [
      "662/1416 : 04YsaTosW9B6i4yaTp766U Elude - from Hansa Studios, Berlin Parcels Live Vol. 1\n",
      "663/1416 : 55ePH4TKRkvSBmg5kI8K1m Enter - from Hansa Studios, Berlin Parcels Live Vol. 1\n"
     ]
    },
    {
     "name": "stdout",
     "output_type": "stream",
     "text": [
      "664/1416 : 2s7nxagCl9fnFUoNIQxjnp Everyroad - from Hansa Studios, Berlin Parcels Live Vol. 1\n",
      "665/1416 : 53ElE1J1DwuwVxpINXYJpb Gamesofluck - from Hansa Studios, Berlin Parcels Live Vol. 1\n",
      "666/1416 : 4M3MUIXtQLN2qRPcwcpHzW IknowhowIfeel - from Hansa Studios, Berlin Parcels Live Vol. 1\n"
     ]
    },
    {
     "name": "stdout",
     "output_type": "stream",
     "text": [
      "667/1416 : 4l9uFziLnJgpdBoBqUtoum Intrude - from Hansa Studios, Berlin Parcels Live Vol. 1\n",
      "668/1416 : 0ZcOprrr9ubO9ORfjbHjsx Lightenup - from Hansa Studios, Berlin Parcels Live Vol. 1\n",
      "669/1416 : 0oEUagxKUH6rKFYlqNC7rz Myenemy - from Hansa Studios, Berlin Parcels Live Vol. 1\n"
     ]
    },
    {
     "name": "stdout",
     "output_type": "stream",
     "text": [
      "670/1416 : 0ax2Np3bXCUXCcYmcX5x1x Overnight - from Hansa Studios, Berlin Parcels Live Vol. 1\n",
      "671/1416 : 0QugsGHunz3peiUxRg51WE Redline - from Hansa Studios, Berlin Parcels Live Vol. 1\n",
      "672/1416 : 35kZ2D9sADNOZ53zWOljkQ Retuned - from Hansa Studios, Berlin Parcels Live Vol. 1\n"
     ]
    },
    {
     "name": "stdout",
     "output_type": "stream",
     "text": [
      "673/1416 : 4cyygA6kLAF2H6QqwmACHd Tieduprightnow - from Hansa Studios, Berlin Parcels Live Vol. 1\n",
      "674/1416 : 6VQDFodEZkjmfAqCCcVLOm Untried - from Hansa Studios, Berlin Parcels Live Vol. 1\n",
      "675/1416 : 6GGXja13qA0BYNNAqgXQxS Withorwithout - from Hansa Studios, Berlin Parcels Live Vol. 1\n"
     ]
    },
    {
     "name": "stdout",
     "output_type": "stream",
     "text": [
      "676/1416 : 2TeGrk8lm2DhSnAx63KAqv Yourfault - from Hansa Studios, Berlin Parcels Live Vol. 1\n",
      "677/1416 : 2jvuMDqBK04WvCYYz5qjvG Dogs Pink Floyd Animals\n",
      "678/1416 : 0gEaeqVRHPzRc7HMXtOKc7 Pigs (Three Different Ones) Pink Floyd Animals\n"
     ]
    },
    {
     "name": "stdout",
     "output_type": "stream",
     "text": [
      "679/1416 : 7krbQbYq63hcwVMNW1R0tD A Pillow of Winds Pink Floyd Meddle\n",
      "680/1416 : 7kriFJLY2KOhw5en9iI2jb Echoes Pink Floyd Meddle\n",
      "681/1416 : 7AalBKBoLDR4UmRYRJpdbj Fearless Pink Floyd Meddle\n"
     ]
    },
    {
     "name": "stdout",
     "output_type": "stream",
     "text": [
      "682/1416 : 6uU0Hu8oVk9gBihokcrDMH One of These Days Pink Floyd Meddle\n",
      "683/1416 : 3kbUFmLV5SHVQonfOpNgkd San Tropez Pink Floyd Meddle\n",
      "684/1416 : 05lNdqc6FhcsxCfS8lJzyE Seamus Pink Floyd Meddle\n"
     ]
    },
    {
     "name": "stdout",
     "output_type": "stream",
     "text": [
      "685/1416 : 3Y8gNcoJu1uJ5L1BZuGvqB Astronomy Domine Pink Floyd The Piper at the Gates of Dawn\n",
      "686/1416 : 4gJrRkskBk1oyooA4qm67a Bike Pink Floyd The Piper at the Gates of Dawn\n"
     ]
    },
    {
     "name": "stdout",
     "output_type": "stream",
     "text": [
      "687/1416 : 0j9iv7tRpEpTGSGpkCMJve Chapter 24 Pink Floyd The Piper at the Gates of Dawn\n",
      "688/1416 : 4r74qNo5usVTNhBZwo1Hg6 Flaming Pink Floyd The Piper at the Gates of Dawn\n"
     ]
    },
    {
     "name": "stdout",
     "output_type": "stream",
     "text": [
      "689/1416 : 3xyTufSSGLP3oZnomceAVW Interstellar Overdrive Pink Floyd The Piper at the Gates of Dawn\n"
     ]
    },
    {
     "name": "stdout",
     "output_type": "stream",
     "text": [
      "690/1416 : 0lT4imdjSzpCtooUccYAKj Lucifer Sam Pink Floyd The Piper at the Gates of Dawn\n"
     ]
    },
    {
     "name": "stdout",
     "output_type": "stream",
     "text": [
      "Pink Floyd Mathilda Mother The Piper at the Gates of Dawn not in spotify\n"
     ]
    },
    {
     "name": "stdout",
     "output_type": "stream",
     "text": [
      "Pink Floyd Pow R. Roc. H The Piper at the Gates of Dawn not in spotify\n",
      "693/1416 : 1aV8FeJiQpZXFY35rLNNu0 The Scarecrow Pink Floyd The Piper at the Gates of Dawn\n"
     ]
    },
    {
     "name": "stdout",
     "output_type": "stream",
     "text": [
      "694/1416 : 6q3URBXG6Tr9pMU0bOlvrc Take Up Thy Stethoscope and Walk Pink Floyd The Piper at the Gates of Dawn\n"
     ]
    },
    {
     "name": "stdout",
     "output_type": "stream",
     "text": [
      "695/1416 : 1GqRmuG89ILDLcuAdcli6r The Gnome Pink Floyd The Piper at the Gates of Dawn\n",
      "696/1416 : 3CmHvyZQQAGkKkTjTBFWN6 Have a Cigar Pink Floyd Wish You Were Here\n"
     ]
    },
    {
     "name": "stdout",
     "output_type": "stream",
     "text": [
      "697/1416 : 6pnwfWyaWjQiHCKTiZLItr Shine On You Crazy Diamond (Pts. 1-5) Pink Floyd Wish You Were Here\n",
      "698/1416 : 21j1PsCiTaO8ZW88UZrh3A Shine On You Crazy Diamond (Pts. 6-9) Pink Floyd Wish You Were Here\n"
     ]
    },
    {
     "name": "stdout",
     "output_type": "stream",
     "text": [
      "699/1416 : 5VWC7v2dC2K0SIIjT9WTLN Welcome to the Machine Pink Floyd Wish You Were Here\n",
      "700/1416 : 6mFkJmJqdDVQ1REhVfGgd1 Wish You Were Here Pink Floyd Wish You Were Here\n",
      "701/1416 : 5IJbTPhcj0IjdzUaYqwe2I Stfu Pink Guy Pink Season\n"
     ]
    },
    {
     "name": "stdout",
     "output_type": "stream",
     "text": [
      "702/1416 : 3dPmG97SN3qgYlkBA205x8 .3 Porcupine Tree In Absentia\n",
      "703/1416 : 2WObDBPZ4UZ8yBBf1R41QL Blackest Eyes Porcupine Tree In Absentia\n"
     ]
    },
    {
     "name": "stdout",
     "output_type": "stream",
     "text": [
      "Porcupine Tree Chloroform In Absentia not in spotify\n",
      "705/1416 : 31ZT15OJPYjl1kqLeWssC9 Collapse The Light Into Earth Porcupine Tree In Absentia\n",
      "Porcupine Tree Drown With Me In Absentia not in spotify\n",
      "707/1416 : 49vKZifxRayUeUQ0TIEX0l Gravity Eyelids Porcupine Tree In Absentia\n"
     ]
    },
    {
     "name": "stdout",
     "output_type": "stream",
     "text": [
      "Porcupine Tree Heartattack in a Lay By In Absentia not in spotify\n",
      "709/1416 : 1UrogDOQaZOJbeiGDGqGwm Lips Of Ashes Porcupine Tree In Absentia\n"
     ]
    },
    {
     "name": "stdout",
     "output_type": "stream",
     "text": [
      "710/1416 : 013rp6MswL21Cq25JorvOI Prodigal Porcupine Tree In Absentia\n",
      "711/1416 : 7ajEtAFkT5vPxx1YTePSz2 Strip The Soul Porcupine Tree In Absentia\n"
     ]
    },
    {
     "name": "stdout",
     "output_type": "stream",
     "text": [
      "712/1416 : 2YF8IpCJWnrT0pZgZzehgH The Creator Has A Mastertape Porcupine Tree In Absentia\n",
      "713/1416 : 3OMCZSG5TbqJBKKRmtJciA The Sound Of Muzak Porcupine Tree In Absentia\n",
      "714/1416 : 5lBQ3mnWsYIt5aCdgz1U9n Trains Porcupine Tree In Absentia\n"
     ]
    },
    {
     "name": "stdout",
     "output_type": "stream",
     "text": [
      "715/1416 : 4jiUX9HRDTbTgEIGHDarfr Wedding Nails Porcupine Tree In Absentia\n",
      "716/1416 : 6QgjcU0zLnzq5OrUoSZ3OK Feel It Still Portugal. The Man Woodstock\n",
      "PostmodernJukebox Feel It Still N/A not in spotify\n"
     ]
    },
    {
     "name": "stdout",
     "output_type": "stream",
     "text": [
      "718/1416 : 23vc53BVj9eqIBYwX5c07n Amen & Attack Powerwolf Preachers Of The Night\n",
      "719/1416 : 2TndNxhljDChvNEhMxCEgv Cardinal Sin Powerwolf Preachers Of The Night\n",
      "720/1416 : 0upmTdxGVCNNAbuJpadks9 Coleus Sanctus Powerwolf Preachers Of The Night\n"
     ]
    },
    {
     "name": "stdout",
     "output_type": "stream",
     "text": [
      "721/1416 : 4LVAEVrwNja98sZwS3Busy Extatum Et Oratum Powerwolf Preachers Of The Night\n",
      "722/1416 : 7fxl1Bfxurjuk3QXCdH5i1 In The Name Of God (Deus Vult) Powerwolf Preachers Of The Night\n",
      "723/1416 : 7AJnfdIDMTd562jntLSq14 Kreuzfeuer Powerwolf Preachers Of The Night\n"
     ]
    },
    {
     "name": "stdout",
     "output_type": "stream",
     "text": [
      "724/1416 : 4mvXJzYlZEEfSX2IQVltt9 Last Of The Living Dead Powerwolf Preachers Of The Night\n",
      "725/1416 : 5G4pwsu6vQZRdmyKtFdv6o Lust For Blood Powerwolf Preachers Of The Night\n",
      "726/1416 : 1scZvFoSgjh4HQMWOuHrCX Nochnoi Dozor Powerwolf Preachers Of The Night\n"
     ]
    },
    {
     "name": "stdout",
     "output_type": "stream",
     "text": [
      "727/1416 : 4fX7lPaQ7LseZEps7n8Z05 Sacred & Wild Powerwolf Preachers Of The Night\n",
      "728/1416 : 0O6EnLpGRBJdlStNI0SaKu Secrets Of The Sacristy Powerwolf Preachers Of The Night\n",
      "Powerwolf Midnight Madonna The Sacrament of Sin not in spotify\n"
     ]
    },
    {
     "name": "stdout",
     "output_type": "stream",
     "text": [
      "730/1416 : 5DS5aMoVYgmZkULtzN6VCv Hymn for a Droid Psychedelic Porn Crumpets And Now for the Whatchamacallit\n",
      "Pulko Du Lourd N/A not in spotify\n",
      "732/1416 : 6oj8xg1wYiHRSmqAUBFz2g Drowse Queen A Day At The Races\n"
     ]
    },
    {
     "name": "stdout",
     "output_type": "stream",
     "text": [
      "733/1416 : 1mnQiO568zXIrUncttTZGp Good Old-Fashioned Lover Boy - 2011 Mix Queen A Day At The Races (Deluxe Remastered Version)\n",
      "734/1416 : 2tc0VhzN6l23HE3HEzSCQC Long Away - Remastered 2011 Queen A Day At The Races (Deluxe Remastered Version)\n",
      "Queen Somedy to Love A Day at the Races not in spotify\n"
     ]
    },
    {
     "name": "stdout",
     "output_type": "stream",
     "text": [
      "736/1416 : 33sQQjtuxeH7q3ia53jJ5E Teo Torriatte (Let Us Cling Together) - 2011 Mix Queen A Day At The Races (Deluxe Remastered Version)\n",
      "737/1416 : 5K0Rhne6C8Fkt4Az5fBcRJ The Millionaire Waltz - Remastered 2011 Queen A Day At The Races (Deluxe Remastered Version)\n",
      "738/1416 : 6K8gEgGkOyD1wFY3kAcyOy Tie Your Mother Down - Remastered 2011 Queen A Day At The Races (Deluxe Remastered Version)\n"
     ]
    },
    {
     "name": "stdout",
     "output_type": "stream",
     "text": [
      "739/1416 : 6A7eSUTtKFW7v3BzCDVakR White Man - Remastered 2011 Queen A Day At The Races (Deluxe Remastered Version)\n",
      "740/1416 : 6pnhzWVuH12mZKQ5IQ2laD You And I - Remastered 2011 Queen A Day At The Races (Deluxe Remastered Version)\n"
     ]
    },
    {
     "name": "stdout",
     "output_type": "stream",
     "text": [
      "741/1416 : 0JR1UPExSwwEvTRub1SZI3 You Take My Breath Away - Remastered 2011 Queen A Day At The Races (Deluxe Remastered Version)\n",
      "742/1416 : 1EID0aupOLdv4ZDQu2Jbrz I'm In Love With My Car - Remastered 2011 Queen A Night At The Opera (Deluxe Remastered Version)\n",
      "743/1416 : 7h2yhVxcZOGyQdOwD4Hu8J I Want To Break Free - Remastered 2011 Queen The Works (Deluxe Remastered Version)\n"
     ]
    },
    {
     "name": "stdout",
     "output_type": "stream",
     "text": [
      "744/1416 : 68DKrU7sTyDpDA5T3dsOlk You Think I Ain't Worth A Dollar, But I Feel Like A Millionaire Queens of the Stone Age Songs For The Deaf\n",
      "745/1416 : 2ZOTtG7v1OrSNs6EINIGb4 Black Betty Ram Jam The Very Best Of Ram Jam\n",
      "746/1416 : 2MU8UF0bdK8BuYV1cBWVZL Asche zu Asche Rammstein Herzeleid\n"
     ]
    },
    {
     "name": "stdout",
     "output_type": "stream",
     "text": [
      "747/1416 : 2mVn9Mbfcwi6ANldHKpsg1 Das alte Leid Rammstein Herzeleid\n",
      "748/1416 : 3UrljRJrISV3hfiSVm0zQD Der Meister Rammstein Herzeleid\n",
      "749/1416 : 73se54LukI1xEPE8XKsrWf Du riechst so gut Rammstein Herzeleid\n"
     ]
    },
    {
     "name": "stdout",
     "output_type": "stream",
     "text": [
      "750/1416 : 1KLyMQwUeIPJaXn7wgdeNW Heirate mich Rammstein Herzeleid\n",
      "751/1416 : 73se54LukI1xEPE8XKsrWf Du riechst so gut Rammstein Herzeleid\n",
      "752/1416 : 7BQWcPnFAlkPVxJQAf20aq Laichzeit Rammstein Herzeleid\n"
     ]
    },
    {
     "name": "stdout",
     "output_type": "stream",
     "text": [
      "753/1416 : 5sQlA2pLHBBrn5UkYclNrQ Rammstein Rammstein Herzeleid\n"
     ]
    },
    {
     "name": "stdout",
     "output_type": "stream",
     "text": [
      "754/1416 : 1hpvWM9tt5hvbezWq84ETB Seemann Rammstein Herzeleid\n",
      "755/1416 : 6mTY75g7EkgvIuoE02eYIG Weisses Fleisch Rammstein Herzeleid\n"
     ]
    },
    {
     "name": "stdout",
     "output_type": "stream",
     "text": [
      "756/1416 : 14CVBGaoD5k3VC9Qmz5imZ Wollt ihr das Bett in Flammen sehen Rammstein Herzeleid\n",
      "757/1416 : 7rOPeDJ9zeLDRfZowRK8qB Adios Rammstein Mutter\n",
      "758/1416 : 73JZKk0nb1WOUmh1Eo3Unc Feuer frei! Rammstein Mutter\n"
     ]
    },
    {
     "name": "stdout",
     "output_type": "stream",
     "text": [
      "759/1416 : 1SlMYQmLe0yNEvBIfaPTAW Ich will Rammstein Mutter\n",
      "760/1416 : 2bEOoGCjJJVf60y3aKgXcn Links 2 3 4 Rammstein Mutter\n",
      "761/1416 : 1ryMgu0CnRSseTYpvMDOLD Mein Herz brennt Rammstein Mutter\n"
     ]
    },
    {
     "name": "stdout",
     "output_type": "stream",
     "text": [
      "762/1416 : 73JZKk0nb1WOUmh1Eo3Unc Feuer frei! Rammstein Mutter\n",
      "763/1416 : 0Jcjqx0IPMmK7se9Qn0B54 Nebel Rammstein Mutter\n",
      "764/1416 : 1qlTeIhNofXvNYy4appFOC Rein raus Rammstein Mutter\n",
      "765/1416 : 4w3R0GZ2rScJMKlgPJzHRq Sonne Rammstein Mutter\n"
     ]
    },
    {
     "name": "stdout",
     "output_type": "stream",
     "text": [
      "766/1416 : 2YfSQPgeAkhNjFwm3qJbSx Spieluhr Rammstein Mutter\n",
      "767/1416 : 5NSoxlB4utD51hYMAZpIdV Zwitter Rammstein Mutter\n",
      "768/1416 : 33ayEZDfgARpadIdqo87JQ AMERIKA Rammstein Reise, Reise\n",
      "769/1416 : 4tNIRQkZwbtXPVYtaYDiTd AMOUR Rammstein Reise, Reise\n"
     ]
    },
    {
     "name": "stdout",
     "output_type": "stream",
     "text": [
      "770/1416 : 50VqNIbwCOPVtXuWSWjdOY DALAI LAMA Rammstein Reise, Reise\n",
      "771/1416 : 29YDZUNKvBI2I64TvLj1Wt KEINE LUST Rammstein Reise, Reise\n",
      "772/1416 : 679Tyyun9r41BvpDOTAAOo LOS Rammstein Reise, Reise\n",
      "773/1416 : 2OQRceDfxBfmwTEmNOSpFq MEIN TEIL Rammstein Reise, Reise\n"
     ]
    },
    {
     "name": "stdout",
     "output_type": "stream",
     "text": [
      "774/1416 : 6qNtBTcJTKlP88CdAvUGw4 MORGENSTERN Rammstein Reise, Reise\n",
      "775/1416 : 0k8LXt5uJ5O07BhSvnvjkY MOSKAU Rammstein Reise, Reise\n",
      "776/1416 : 4Hruh5C0Ef3y8mIcns5Y1O OHNE DICH Rammstein Reise, Reise\n"
     ]
    },
    {
     "name": "stdout",
     "output_type": "stream",
     "text": [
      "777/1416 : 33ayEZDfgARpadIdqo87JQ AMERIKA Rammstein Reise, Reise\n",
      "778/1416 : 7KiB7d1EkC0YM2OAQGACML STEIN UM STEIN Rammstein Reise, Reise\n",
      "779/1416 : 1Q94WI2punbv0tABeSch7n BENZIN Rammstein ROSENROT\n"
     ]
    },
    {
     "name": "stdout",
     "output_type": "stream",
     "text": [
      "780/1416 : 4L4oCtdmqjxS8AjkzjLGDQ EIN LIED Rammstein ROSENROT\n",
      "Rammstein Feueur und Wasser Rosenrot not in spotify\n",
      "782/1416 : 12oRvm1xzDO56HlpEnm0JH HILF MIR Rammstein ROSENROT\n"
     ]
    },
    {
     "name": "stdout",
     "output_type": "stream",
     "text": [
      "783/1416 : 6UHXHzMYvpatBSPK7hxQR5 MANN GEGEN MANN Rammstein ROSENROT\n",
      "784/1416 : 7u018epVcYPTPVKCWAemLP ROSENROT Rammstein ROSENROT\n",
      "785/1416 : 2SPsfOz23D2rOeRdhSKZOR SPRING Rammstein ROSENROT\n"
     ]
    },
    {
     "name": "stdout",
     "output_type": "stream",
     "text": [
      "Rammstein Stirbt nicht vor mir Rosenrot not in spotify\n",
      "787/1416 : 4hLS1e3mrL0gbm8BqX1VvN TE QUIERO PUTA! Rammstein ROSENROT\n",
      "788/1416 : 3xiYn2FVh7XOlhb8pBrELg WO BIST DU Rammstein ROSENROT\n"
     ]
    },
    {
     "name": "stdout",
     "output_type": "stream",
     "text": [
      "789/1416 : 3sc9J5yO4vMKIP41UcKB8I ZERSTÖREN Rammstein ROSENROT\n",
      "790/1416 : 1ilqu0y37Kl1sgF4jfIkle Alter Mann Rammstein Sehnsucht\n",
      "791/1416 : 0G7gu8m9HuYX3vAAz2gcFi Bestrafe mich Rammstein Sehnsucht\n",
      "792/1416 : 0SCkN2QprWk02svK0HCZ2n Bück dich Rammstein Sehnsucht\n"
     ]
    },
    {
     "name": "stdout",
     "output_type": "stream",
     "text": [
      "793/1416 : 6uEvFCaOqXyEidoO8BZbyh Du hast Rammstein Sehnsucht\n",
      "794/1416 : 07CUEJZd1N8NFKcIeHiFbR Eifersucht Rammstein Sehnsucht\n",
      "795/1416 : 0xQZkTxb49QpopIZQhKJUY Engel Rammstein Sehnsucht\n",
      "796/1416 : 5pRKNboeEfPCaitVvh7F8S Klavier Rammstein Sehnsucht\n"
     ]
    },
    {
     "name": "stdout",
     "output_type": "stream",
     "text": [
      "797/1416 : 21lHn1YDJIcM695Lob0l0R Küss mich (Fellfrosch) Rammstein Sehnsucht\n",
      "798/1416 : 6uEvFCaOqXyEidoO8BZbyh Du hast Rammstein Sehnsucht\n",
      "799/1416 : 5tNhreO6L8kfvQSqPjuGUg Spiel mit mir Rammstein Sehnsucht\n"
     ]
    },
    {
     "name": "stdout",
     "output_type": "stream",
     "text": [
      "800/1416 : 2mJabhCPoHBA7a6uLLbDlV Tier Rammstein Sehnsucht\n",
      "801/1416 : 48UPSzbZjgc449aqz8bxox Californication Red Hot Chili Peppers Californication (Deluxe Edition)\n",
      "802/1416 : 3SoDB59Y7dSZLSDBiNJ6o2 Charlie Red Hot Chili Peppers Stadium Arcadium\n"
     ]
    },
    {
     "name": "stdout",
     "output_type": "stream",
     "text": [
      "803/1416 : 10Nmj3JCNoMeBQ87uw5j8k Dani California Red Hot Chili Peppers Stadium Arcadium\n",
      "804/1416 : 1ylzYcU6FGnuBqqdqqH7QL Especially in Michigan Red Hot Chili Peppers Stadium Arcadium\n",
      "805/1416 : 5f2ZVFERwwh3asebmurZEf Hump de Bump Red Hot Chili Peppers Stadium Arcadium\n"
     ]
    },
    {
     "name": "stdout",
     "output_type": "stream",
     "text": [
      "806/1416 : 3gvyksxkLbyKwi0WjCiPXE She's Only 18 Red Hot Chili Peppers Stadium Arcadium\n"
     ]
    },
    {
     "name": "stdout",
     "output_type": "stream",
     "text": [
      "807/1416 : 06wTEKL2rSrSaOjFtgG8fj Slow Cheetah Red Hot Chili Peppers Stadium Arcadium\n",
      "808/1416 : 2aibwv5hGXSgw7Yru8IYTO Snow (Hey Oh) Red Hot Chili Peppers Stadium Arcadium\n"
     ]
    },
    {
     "name": "stdout",
     "output_type": "stream",
     "text": [
      "809/1416 : 2aibwv5hGXSgw7Yru8IYTO Snow (Hey Oh) Red Hot Chili Peppers Stadium Arcadium\n",
      "810/1416 : 0J3ytriezGZ3KCREfHKDOI Strip My Mind Red Hot Chili Peppers Stadium Arcadium\n",
      "811/1416 : 5ZISTTuh3YIBtYsCvBKk5w Torture Me Red Hot Chili Peppers Stadium Arcadium\n"
     ]
    },
    {
     "name": "stdout",
     "output_type": "stream",
     "text": [
      "812/1416 : 4nriBQlagNNqEfkvHFVWVz Baby-Sitting Blues Renaud Mistral gagnant\n",
      "813/1416 : 6jO6o0h4BjZqqGCetHpYln Fatigué Renaud Mistral gagnant\n",
      "814/1416 : 1ZlG9VQSUfSw0gJBzy7eEV La pêche à la ligne Renaud Mistral gagnant\n"
     ]
    },
    {
     "name": "stdout",
     "output_type": "stream",
     "text": [
      "815/1416 : 4KL0TurAerOq7bnGiFRm0z Le retour de la pépette Renaud Mistral gagnant\n",
      "816/1416 : 3mrD89s4Ua9IS3Aw5kxMU7 Miss Maggie Renaud Mistral gagnant\n",
      "817/1416 : 1MOSRjdAbUhvLNnHCdUEL5 Mistral gagnant Renaud Mistral gagnant\n"
     ]
    },
    {
     "name": "stdout",
     "output_type": "stream",
     "text": [
      "818/1416 : 6yb2oQW16NzCT1o8p0q5y9 Morts les enfants Renaud Mistral gagnant\n",
      "819/1416 : 4yksBrqsVlu6D5EgfEo9cC P'tite conne Renaud Mistral gagnant\n",
      "820/1416 : 3LvcjcEsF1y1zX39Yhz6ds Si t'es mon pote Renaud Mistral gagnant\n"
     ]
    },
    {
     "name": "stdout",
     "output_type": "stream",
     "text": [
      "821/1416 : 2kdaKCgDmuFyFAS534yG8w Trois matelots Renaud Mistral gagnant\n",
      "822/1416 : 04O7ZO0DIjFhv5Pl1wYiLf Tu vas au bal ? Renaud Mistral gagnant\n",
      "823/1416 : 605hJIiMrdsUjr4Vx4BFD6 Demon Speeding Rob Zombie The Sinister Urge\n"
     ]
    },
    {
     "name": "stdout",
     "output_type": "stream",
     "text": [
      "824/1416 : 4vV1A6xSDVLLPTJUrSZfVP Hanuman Rodrigo y Gabriela 11:11\n",
      "825/1416 : 5wQ8dSNPB7lwUVpnw0U7Xp Atman Rodrigo y Gabriela 11:11\n"
     ]
    },
    {
     "name": "stdout",
     "output_type": "stream",
     "text": [
      "826/1416 : 09ysr2pWxrEh3IJbf3CBvQ Buster Voodoo Rodrigo y Gabriela 11:11\n",
      "827/1416 : 3S0FGjHiAsUKkBpx5JlDte Chac Mool Rodrigo y Gabriela 11:11\n",
      "828/1416 : 4vV1A6xSDVLLPTJUrSZfVP Hanuman Rodrigo y Gabriela 11:11\n"
     ]
    },
    {
     "name": "stdout",
     "output_type": "stream",
     "text": [
      "829/1416 : 115JzfyejuiiTxp58fbNBm Hora Zero Rodrigo y Gabriela 11:11\n"
     ]
    },
    {
     "name": "stdout",
     "output_type": "stream",
     "text": [
      "830/1416 : 35U4iSvtTGNOt59JCCYm1p Logos Rodrigo y Gabriela 11:11\n"
     ]
    },
    {
     "name": "stdout",
     "output_type": "stream",
     "text": [
      "831/1416 : 6vyVG1z8oIqzsa0aPyFM9j Master Maqui Rodrigo y Gabriela 11:11\n"
     ]
    },
    {
     "name": "stdout",
     "output_type": "stream",
     "text": [
      "832/1416 : 1i032xEoQs2zwpTgklW3MT Santo Domingo Rodrigo y Gabriela 11:11\n"
     ]
    },
    {
     "name": "stdout",
     "output_type": "stream",
     "text": [
      "833/1416 : 5LVUpkPaxVnJW4ODhYFZUP Savitri Rodrigo y Gabriela 11:11\n"
     ]
    },
    {
     "name": "stdout",
     "output_type": "stream",
     "text": [
      "834/1416 : 676WlameCUrDNuJhnT1Cjz Triveni Rodrigo y Gabriela 11:11\n",
      "Roi Heenok Hybride Exo N/A not in spotify\n"
     ]
    },
    {
     "name": "stdout",
     "output_type": "stream",
     "text": [
      "836/1416 : 62VWmsNoDmqT0Mj9oHHFVh Strasbourg / St. Denis Roy Hargrove Earfood\n",
      "837/1416 : 2K2NeVnP853rkR5ese8ZLP The Attack of the Dead Men Sabaton The Great War\n",
      "Santo & Johnny All Night Dinner Santo & Johnny not in spotify\n"
     ]
    },
    {
     "name": "stdout",
     "output_type": "stream",
     "text": [
      "839/1416 : 0fi3vArO7ismoCMn2x8rbZ Blue Moon Santo & Johnny Golden Memory\n",
      "840/1416 : 4MnjrWnj2zE7e8XJn2J2i2 Canadian Sunset Santo & Johnny Movie Music\n"
     ]
    },
    {
     "name": "stdout",
     "output_type": "stream",
     "text": [
      "841/1416 : 4ywZFpLcOvybhVeGasNY9C Caravana Santo & Johnny Nuestros Primeros 20 Éxitos\n",
      "842/1416 : 7oapSJeWoGUtXh1Dq7E84w Dream Lover Santo & Johnny Volume Secondo\n",
      "843/1416 : 2CwFG3TY8kqQbQaLkgk2rw Harbor Lights Santo & Johnny Antología\n"
     ]
    },
    {
     "name": "stdout",
     "output_type": "stream",
     "text": [
      "844/1416 : 7GtoPVrCfbVPt5szMvCRbd Raunchy Santo & Johnny Nuestros Primeros 20 Éxitos\n",
      "Santo & Johnny School Day Santo & Johnny not in spotify\n",
      "Santo & Johnny Slave Girl Santo & Johnny not in spotify\n"
     ]
    },
    {
     "name": "stdout",
     "output_type": "stream",
     "text": [
      "847/1416 : 0yK8sWD6cfrc7pGfaPIcZH Sleep Walk Santo & Johnny Canadian American Greatest Hits 50th Anniversary Collection\n",
      "848/1416 : 61pVpVAPBpkDKsdWw5mwzI Summertime Santo & Johnny Golden Memory\n",
      "849/1416 : 7A7RRZFci5onFVXGi58uJU Tenderly Santo & Johnny Golden Memory\n"
     ]
    },
    {
     "name": "stdout",
     "output_type": "stream",
     "text": [
      "850/1416 : 1gKcpNIXhmHx2EHI5IPhte Fusil SCH A7\n",
      "851/1416 : 1SVuEeerYIwjCRsF5MGzX3 Mayday (feat. Ninho) SCH Rooftop\n",
      "852/1416 : 5gHPSORJBqP7rER1cbYB5x La javanaise Serge Gainsbourg Bonnie And Clyde\n"
     ]
    },
    {
     "name": "stdout",
     "output_type": "stream",
     "text": [
      "853/1416 : 3nvREfeASA91U3atMsVO3H Bad Kids To The Back Snarky Puppy Immigrance\n",
      "Snowy White And The White Flames Midnight Blues No Faith Required not in spotify\n",
      "855/1416 : 3aAuIvgJGdp4wWd60riWfB Valerie Steve Winwood Talking Back To The Night\n"
     ]
    },
    {
     "name": "stdout",
     "output_type": "stream",
     "text": [
      "856/1416 : 38punNoJGGFWOgOjm8eMRJ First Regret / 3 Years Older Steven Wilson Hand Cannot Erase\n",
      "857/1416 : 4ceTCJPLBQBOogseivMuhL Ancestral Steven Wilson Hand Cannot Erase\n",
      "858/1416 : 37TyzXvVbPD2JIZEm65x9h Happy Returns / Ascendant Here on... Steven Wilson Hand Cannot Erase\n"
     ]
    },
    {
     "name": "stdout",
     "output_type": "stream",
     "text": [
      "859/1416 : 38punNoJGGFWOgOjm8eMRJ First Regret / 3 Years Older Steven Wilson Hand Cannot Erase\n",
      "860/1416 : 3L6iaRFenZmnkepJ4Ey9Cm Hand Cannot Erase Steven Wilson Hand Cannot Erase\n",
      "861/1416 : 37TyzXvVbPD2JIZEm65x9h Happy Returns / Ascendant Here on... Steven Wilson Hand Cannot Erase\n"
     ]
    },
    {
     "name": "stdout",
     "output_type": "stream",
     "text": [
      "862/1416 : 1a6uHU6uqREaMMgkrKijLC Home Invasion / Regret #9 Steven Wilson Hand Cannot Erase\n",
      "863/1416 : 7GVrWak6y01P1t8bwbZW8e Perfect Life Steven Wilson Hand Cannot Erase\n",
      "864/1416 : 1a6uHU6uqREaMMgkrKijLC Home Invasion / Regret #9 Steven Wilson Hand Cannot Erase\n"
     ]
    },
    {
     "name": "stdout",
     "output_type": "stream",
     "text": [
      "865/1416 : 5cxmpBhMn4Wxs4ZyHLv4mR Routine Steven Wilson Hand Cannot Erase\n",
      "Steven Wilson Transcience Hand. Cannot. Erase. not in spotify\n",
      "Stupeflip Les Ronces Terror Maxi not in spotify\n"
     ]
    },
    {
     "name": "stdout",
     "output_type": "stream",
     "text": [
      "Stupeflip Stupeflip Vite !!! Terror Maxi not in spotify\n",
      "869/1416 : 3xcgl1k29fKcDNowRJbMq6 72.8 mhz - Interlude 3 Stupeflip The Hypnoflip Invasion\n",
      "870/1416 : 626KJ8oTkNs9znR1nDqq1k Ancienne prophétie - Interlude 5 Stupeflip The Hypnoflip Invasion\n"
     ]
    },
    {
     "name": "stdout",
     "output_type": "stream",
     "text": [
      "871/1416 : 0A6FdQB9XVIbjP6Kr4vsa1 Apocalypse 894 Stupeflip The Hypnoflip Invasion\n",
      "Stupeflip C'est un Tube The Hypnoflip Invasion not in spotify\n",
      "873/1416 : 3dLIduwK5uQmKMH7TFsDlF Ce petit blouson en daim Stupeflip The Hypnoflip Invasion\n"
     ]
    },
    {
     "name": "stdout",
     "output_type": "stream",
     "text": [
      "874/1416 : 1cNm3Y37Hhe493MfKuNwGW Check da Crou Stupeflip The Hypnoflip Invasion\n",
      "Stupeflip Cold World The Hypnoflip Invasion not in spotify\n",
      "876/1416 : 0R8ei1Ja9TCnSpElFhryZS Dangereux !! - Interlude 1 Stupeflip The Hypnoflip Invasion\n"
     ]
    },
    {
     "name": "stdout",
     "output_type": "stream",
     "text": [
      "877/1416 : 51NbezCtFMJR5283vWxH8J Dark Warriors - Interlude 4 Stupeflip The Hypnoflip Invasion\n",
      "878/1416 : 57XHpRax8ytkhXrotxu8uE Gaëlle Stupeflip The Hypnoflip Invasion\n",
      "879/1416 : 4nxLQxln8uOLYL9pU1bpRG Gem lé moch' Stupeflip The Hypnoflip Invasion\n"
     ]
    },
    {
     "name": "stdout",
     "output_type": "stream",
     "text": [
      "880/1416 : 3a2eEFpPmvKxadRGpOXzr9 Hater's Killah Stupeflip The Hypnoflip Invasion\n",
      "881/1416 : 178zd1WV9MN2rVab2TsfDE Stupeflip vite !!! Stupeflip The Hypnoflip Invasion\n",
      "882/1416 : 6Rpg1cBjDXDGlbbalRPU84 La menuiserie Stupeflip The Hypnoflip Invasion\n"
     ]
    },
    {
     "name": "stdout",
     "output_type": "stream",
     "text": [
      "883/1416 : 6IkpQyY8TcaMM0Cx4OCf2N La mort à Pop Hip - Interlude 6 Stupeflip The Hypnoflip Invasion\n",
      "884/1416 : 2nGwLNOOfOFWMpETHiwJIP Le coeur qui cogne Stupeflip The Hypnoflip Invasion\n",
      "885/1416 : 0dtzevwOURr9R7tYIlWTOo Le spleen des petits Stupeflip The Hypnoflip Invasion\n"
     ]
    },
    {
     "name": "stdout",
     "output_type": "stream",
     "text": [
      "886/1416 : 57RPJrjsYcFj1kC7L41U1Z Lettre à Mylène Stupeflip The Hypnoflip Invasion\n",
      "887/1416 : 3XUkRMMrrn7x7OQAQJUCF4 Région est Stupeflip The Hypnoflip Invasion\n",
      "888/1416 : 4rzapbR90qjU0mOr3RszP3 Sinode pibouin Stupeflip The Hypnoflip Invasion\n"
     ]
    },
    {
     "name": "stdout",
     "output_type": "stream",
     "text": [
      "889/1416 : 4lixC8ILNVVsP2880K7fKl Strange Pain - Interlude 2 Stupeflip The Hypnoflip Invasion\n",
      "890/1416 : 178zd1WV9MN2rVab2TsfDE Stupeflip vite !!! Stupeflip The Hypnoflip Invasion\n",
      "891/1416 : 4a5pNRjwmzYQuEY1E7O6pj Breakfast In America - Remastered Supertramp Breakfast In America (Deluxe Edition)\n"
     ]
    },
    {
     "name": "stdout",
     "output_type": "stream",
     "text": [
      "892/1416 : 5gLJZBGkpvRXWbEbTcLIz8 Casual Conversations - 2010 Remastered Supertramp Breakfast In America (Deluxe Edition)\n",
      "893/1416 : 7hHTyS1QG0TcX5iQ0sa1Tk Child Of Vision - 2010 Remastered Supertramp Breakfast In America (Deluxe Edition)\n",
      "894/1416 : 43BVfHr7mkNDtNIGVp1vff Gone Hollywood - 2010 Remastered Supertramp Breakfast In America (Deluxe Edition)\n"
     ]
    },
    {
     "name": "stdout",
     "output_type": "stream",
     "text": [
      "895/1416 : 67oyFnjJnn78fZP9KjeZx0 Goodbye Stranger - 2010 Remastered Supertramp Breakfast In America (Deluxe Edition)\n",
      "896/1416 : 6o8nZVzweaEOLDLOgaogX5 Just Another Nervous Wreck - 2010 Remastered Supertramp Breakfast In America (Deluxe Edition)\n",
      "897/1416 : 3AUpYeScJOpYf8psTIz62l Lord Is It Mine - 2010 Remastered Supertramp Breakfast In America (Deluxe Edition)\n"
     ]
    },
    {
     "name": "stdout",
     "output_type": "stream",
     "text": [
      "898/1416 : 089NMLhXz421ohFN55A3yo Oh Darling - 2010 Remastered Supertramp Breakfast In America (Deluxe Edition)\n",
      "899/1416 : 0v0XYK0pLgsPiq5u4FKHaw Take The Long Way Home - 2010 Remastered Supertramp Breakfast In America (Deluxe Edition)\n"
     ]
    },
    {
     "name": "stdout",
     "output_type": "stream",
     "text": [
      "900/1416 : 6mHOcVtsHLMuesJkswc0GZ The Logical Song - Remastered 2010 Supertramp Breakfast In America (Deluxe Edition)\n",
      "901/1416 : 0dxPHMZTI8TWMYRucsAFNd Attack System Of A Down Hypnotize\n",
      "902/1416 : 4uCfGqrF2OHcav71k0bk9D Dreaming System Of A Down Hypnotize\n"
     ]
    },
    {
     "name": "stdout",
     "output_type": "stream",
     "text": [
      "903/1416 : 4mj2UMyJTBTaO7pffAK29j Holy Mountains System Of A Down Hypnotize\n",
      "904/1416 : 6oO7WMjD6kEvCITLbVj0mu Hypnotize System Of A Down Hypnotize\n",
      "905/1416 : 28TReO2Mxk9Q3GA4K98YSz Kill Rock 'n Roll System Of A Down Hypnotize\n"
     ]
    },
    {
     "name": "stdout",
     "output_type": "stream",
     "text": [
      "906/1416 : 1VNWaY3uNfoeWqb5U8x2QX Lonely Day System Of A Down Hypnotize\n",
      "907/1416 : 3bcOxfqIiXj41AdUHfHfgj She's Like Heroin System Of A Down Hypnotize\n",
      "908/1416 : 1ez4uWPnJwYufNhYTLVsJr Soldier Side System Of A Down Hypnotize\n"
     ]
    },
    {
     "name": "stdout",
     "output_type": "stream",
     "text": [
      "909/1416 : 0ELxqqeeisigIJhN6dsNHI Stealing Society System Of A Down Hypnotize\n",
      "910/1416 : 11WZXXvGyrtUBp15TtojxA Tentative System Of A Down Hypnotize\n",
      "911/1416 : 0dgCqrI14Oe3nqGLS3qbzJ U-Fig System Of A Down Hypnotize\n"
     ]
    },
    {
     "name": "stdout",
     "output_type": "stream",
     "text": [
      "System Of A Down Viscinity of Obscenity Hypnotize not in spotify\n",
      "System Of A Down B.Y.O.B. Mesmerize not in spotify\n",
      "System Of A Down Cigaro Mesmerize not in spotify\n",
      "System Of A Down Lost In Hollywood Mesmerize not in spotify\n"
     ]
    },
    {
     "name": "stdout",
     "output_type": "stream",
     "text": [
      "System Of A Down Old School Hollywood Mesmerize not in spotify\n",
      "System Of A Down Question! Mesmerize not in spotify\n",
      "System Of A Down Radio/Video Mesmerize not in spotify\n",
      "System Of A Down Revenga Mesmerize not in spotify\n"
     ]
    },
    {
     "name": "stdout",
     "output_type": "stream",
     "text": [
      "System Of A Down Sad Statue Mesmerize not in spotify\n",
      "System Of A Down Soldier Side - Intro Mesmerize not in spotify\n"
     ]
    },
    {
     "name": "stdout",
     "output_type": "stream",
     "text": [
      "System Of A Down This Cocaine Makes Me Feel Like I'm On This Song Mesmerize not in spotify\n",
      "System Of A Down Violent Pornography Mesmerize not in spotify\n",
      "924/1416 : 3F385pf2JrVgSwcyqBDZEu CUBErt System Of A Down System Of A Down\n"
     ]
    },
    {
     "name": "stdout",
     "output_type": "stream",
     "text": [
      "925/1416 : 0GIvGfgr68OGkcCNFBAdrX Darts System Of A Down System Of A Down\n",
      "926/1416 : 1Cu3MCxugh9oia9betnm8i DDevil System Of A Down System Of A Down\n",
      "927/1416 : 1ByE7lUw6wWMTbCb3woHdK Know System Of A Down System Of A Down\n"
     ]
    },
    {
     "name": "stdout",
     "output_type": "stream",
     "text": [
      "928/1416 : 658IQdgfrqSIf58I1AkWyz Mind System Of A Down System Of A Down\n",
      "929/1416 : 5ZjfvGPEW7AZ00QZR2XQBJ P.L.U.C.K. System Of A Down System Of A Down\n"
     ]
    },
    {
     "name": "stdout",
     "output_type": "stream",
     "text": [
      "930/1416 : 53QqFzAWnl7D8IVBvCmRtc Peephole System Of A Down System Of A Down\n",
      "931/1416 : 3gY25vepRvvspuoAfxCyRO Soil System Of A Down System Of A Down\n",
      "932/1416 : 4vAHXnJ5YWLq5hbIVzZS1h Spiders System Of A Down System Of A Down\n"
     ]
    },
    {
     "name": "stdout",
     "output_type": "stream",
     "text": [
      "933/1416 : 31RTFPrB7wmYBhlkM2ILXG Sugar System Of A Down System Of A Down\n",
      "934/1416 : 7phMc88qiwpKzOAIiR3xIU Suggestions System Of A Down System Of A Down\n"
     ]
    },
    {
     "name": "stdout",
     "output_type": "stream",
     "text": [
      "935/1416 : 1qGmxIGEuBEkj7bft72Kh0 Suite-Pee System Of A Down System Of A Down\n",
      "936/1416 : 5Q7m1Km199HHMB926xxbrs War? System Of A Down System Of A Down\n"
     ]
    },
    {
     "name": "stdout",
     "output_type": "stream",
     "text": [
      "937/1416 : 4e9eGQYsOiBcftrWXwsVco Aerials System Of A Down Toxicity\n",
      "938/1416 : 0aueluj36PA9LNoj7d9SFb Arto System Of A Down Toxicity\n"
     ]
    },
    {
     "name": "stdout",
     "output_type": "stream",
     "text": [
      "939/1416 : 6gCVA6ja6g0foIsWv0RuSZ ATWA System Of A Down Toxicity\n",
      "940/1416 : 6dr2T6DRymdT1jfSUxDgut Bounce System Of A Down Toxicity\n"
     ]
    },
    {
     "name": "stdout",
     "output_type": "stream",
     "text": [
      "941/1416 : 2DlHlPMa4M17kufBvI2lEN Chop Suey! System Of A Down Toxicity\n",
      "942/1416 : 2SpGXD7EbexndFmmThrnsy Deer Dance System Of A Down Toxicity\n"
     ]
    },
    {
     "name": "stdout",
     "output_type": "stream",
     "text": [
      "943/1416 : 1B5Y9I5wPfvD3C2A81A36C Forest System Of A Down Toxicity\n",
      "944/1416 : 0a2kVvbCbk52gmeFQFHNaG Jet Pilot System Of A Down Toxicity\n"
     ]
    },
    {
     "name": "stdout",
     "output_type": "stream",
     "text": [
      "945/1416 : 6V8oQXzymTzpEZOsiBiyJT Needles System Of A Down Toxicity\n",
      "946/1416 : 3AwLxSqo1jOOMpNsgxqRNE Prison Song System Of A Down Toxicity\n",
      "947/1416 : 6VzV6RI7641o57TuqfGRpj Psycho System Of A Down Toxicity\n"
     ]
    },
    {
     "name": "stdout",
     "output_type": "stream",
     "text": [
      "948/1416 : 58lcznIKSNlOVdmklrPA99 Science System Of A Down Toxicity\n",
      "949/1416 : 1a3X8Y882vwSnlnHqf9ztF Shimmy System Of A Down Toxicity\n"
     ]
    },
    {
     "name": "stdout",
     "output_type": "stream",
     "text": [
      "950/1416 : 0snQkGI5qnAmohLE7jTsTn Toxicity System Of A Down Toxicity\n",
      "951/1416 : 4HIKcEKSijQLW5YNLsdLzt X System Of A Down Toxicity\n",
      "952/1416 : 5QRfoW5XLqBM2oCPRg2Sr7 L'urlo della strega Tangerine Stoned Tangerine Stoned\n"
     ]
    },
    {
     "name": "stdout",
     "output_type": "stream",
     "text": [
      "953/1416 : 0aF9m87P8Tja3NUMv4DfHt Head Over Heels / Broken Tears For Fears Songs From The Big Chair\n",
      "954/1416 : 4RvWPyQ5RL0ao9LPZeSouE Everybody Wants To Rule The World Tears For Fears Songs From The Big Chair (Super Deluxe Edition)\n",
      "955/1416 : 0aF9m87P8Tja3NUMv4DfHt Head Over Heels / Broken Tears For Fears Songs From The Big Chair\n"
     ]
    },
    {
     "name": "stdout",
     "output_type": "stream",
     "text": [
      "956/1416 : 2iwXxZD87p1Q3ISveQteiJ I Believe Tears For Fears Songs From The Big Chair\n",
      "957/1416 : 6eAPuRbhPyTwY0xTBkHHtH Listen Tears For Fears Songs From The Big Chair\n"
     ]
    },
    {
     "name": "stdout",
     "output_type": "stream",
     "text": [
      "958/1416 : 2p87CAEgL7eJzVgNZt2M0J Mothers Talk Tears For Fears Songs From The Big Chair\n"
     ]
    },
    {
     "name": "stdout",
     "output_type": "stream",
     "text": [
      "959/1416 : 2gQaQUhDCNGfBVXTvxAmXQ Shout Tears For Fears Songs From The Big Chair\n",
      "960/1416 : 23DKn3AP0fpx1aAYth2Pax The Working Hour Tears For Fears Songs From The Big Chair\n",
      "961/1416 : 7x86D0wH2PrWgSLz8Wtnzf Business Suits and Combat Boots The Agonist Once Only Imagined\n"
     ]
    },
    {
     "name": "stdout",
     "output_type": "stream",
     "text": [
      "962/1416 : 1rxoyGj1QuPoVi8fOft1Kt Because - Remastered 2009 The Beatles Abbey Road (Remastered)\n",
      "963/1416 : 5eZrW59C3UgBhkqNlowEID Carry That Weight - Remastered 2009 The Beatles Abbey Road (Remastered)\n",
      "964/1416 : 2EqlS6tkEnglzr7tkKAAYD Come Together - Remastered 2009 The Beatles Abbey Road (Remastered)\n"
     ]
    },
    {
     "name": "stdout",
     "output_type": "stream",
     "text": [
      "965/1416 : 01SfTM5nfCou5gQL70r6gs Golden Slumbers - Remastered 2009 The Beatles Abbey Road (Remastered)\n",
      "966/1416 : 52hm7o5MPKymBUmSJadwve Her Majesty - Takes 1-3 The Beatles Abbey Road (Super Deluxe Edition)\n",
      "967/1416 : 6dGnYIeXmHdcikdzNNDMm2 Here Comes The Sun - Remastered 2009 The Beatles Abbey Road (Remastered)\n"
     ]
    },
    {
     "name": "stdout",
     "output_type": "stream",
     "text": [
      "968/1416 : 3Z25k4ZF6QENy2d9YatsM5 I Want You (She's So Heavy) - Remastered 2009 The Beatles Abbey Road (Remastered)\n",
      "969/1416 : 2S8xyNRJX1XQdo3qnTuovI Maxwell's Silver Hammer - Remastered 2009 The Beatles Abbey Road (Remastered)\n",
      "970/1416 : 4JOyMhad5dD81uGYLGgKrS Mean Mr Mustard - Remastered 2009 The Beatles Abbey Road (Remastered)\n"
     ]
    },
    {
     "name": "stdout",
     "output_type": "stream",
     "text": [
      "971/1416 : 0suLngfo7rJoetk7Ub6N8l Octopus's Garden - Remastered 2009 The Beatles Abbey Road (Remastered)\n"
     ]
    },
    {
     "name": "stdout",
     "output_type": "stream",
     "text": [
      "972/1416 : 2mxByJWOajjiVsLWjNXvDJ Oh! Darling - Remastered 2009 The Beatles Abbey Road (Remastered)\n"
     ]
    },
    {
     "name": "stdout",
     "output_type": "stream",
     "text": [
      "973/1416 : 1FTCA6wQwulQFokDddKE68 Polythene Pam - Remastered 2009 The Beatles Abbey Road (Remastered)\n",
      "974/1416 : 2jtUGFsqanQ82zqDlhiKIp She Came In Through The Bathroom Window - Remastered 2009 The Beatles Abbey Road (Remastered)\n"
     ]
    },
    {
     "name": "stdout",
     "output_type": "stream",
     "text": [
      "975/1416 : 0pNeVovbiZHkulpGeOx1Gj Something - Remastered 2009 The Beatles Abbey Road (Remastered)\n",
      "976/1416 : 4nwKdZID1ht0lDBJ5h2p87 Sun King - Remastered 2009 The Beatles Abbey Road (Remastered)\n"
     ]
    },
    {
     "name": "stdout",
     "output_type": "stream",
     "text": [
      "977/1416 : 5aHHf6jrqDRb1fcBmue2kn The End - Remastered 2009 The Beatles Abbey Road (Remastered)\n",
      "978/1416 : 1jOLTO379yIu9aMnCkpMQl You Never Give Me Your Money - Remastered 2009 The Beatles Abbey Road (Remastered)\n",
      "979/1416 : 68BTFws92cRztMS1oQ7Ewj All You Need Is Love - Remastered 2009 The Beatles Magical Mystery Tour (Remastered)\n"
     ]
    },
    {
     "name": "stdout",
     "output_type": "stream",
     "text": [
      "980/1416 : 0JBvtprXP2Z0LP3jmzA7Xp Baby, You're A Rich Man - Remastered 2009 The Beatles Magical Mystery Tour (Remastered)\n",
      "981/1416 : 0QIX9BS0AUCQcHYvyrsMkV Blue Jay Way - Remastered 2009 The Beatles Magical Mystery Tour (Remastered)\n",
      "982/1416 : 1itLKsCWHtLnxALkgBk1Fa Flying - Remastered 2009 The Beatles Magical Mystery Tour (Remastered)\n"
     ]
    },
    {
     "name": "stdout",
     "output_type": "stream",
     "text": [
      "983/1416 : 0vZ97gHhemKm6c64hTfJNA Hello, Goodbye - Remastered 2009 The Beatles Magical Mystery Tour (Remastered)\n",
      "984/1416 : 6Pq9MmkDQYZiiCDpxnvrf6 I Am The Walrus - Remastered 2009 The Beatles Magical Mystery Tour (Remastered)\n",
      "985/1416 : 3Am0IbOxmvlSXro7N5iSfZ Strawberry Fields Forever - Remastered 2009 The Beatles Magical Mystery Tour (Remastered)\n"
     ]
    },
    {
     "name": "stdout",
     "output_type": "stream",
     "text": [
      "986/1416 : 1h04XMpzGzmAudoI6VHBgA Penny Lane - Remastered 2009 The Beatles Magical Mystery Tour (Remastered)\n",
      "987/1416 : 3Am0IbOxmvlSXro7N5iSfZ Strawberry Fields Forever - Remastered 2009 The Beatles Magical Mystery Tour (Remastered)\n",
      "988/1416 : 6rHh8urosEFRI67xVa6fzU The Fool On The Hill - Remastered 2009 The Beatles Magical Mystery Tour (Remastered)\n"
     ]
    },
    {
     "name": "stdout",
     "output_type": "stream",
     "text": [
      "989/1416 : 1dxbAIfCASqv6jix2R1Taj Your Mother Should Know - Remastered 2009 The Beatles Magical Mystery Tour (Remastered)\n",
      "990/1416 : 4KRgqwb4kvBuTz1utbYxfb And Your Bird Can Sing - Remastered 2009 The Beatles Revolver (Remastered)\n",
      "991/1416 : 1ob06Ol8FMIPQgjpg7bMyk Doctor Robert - Remastered 2009 The Beatles Revolver (Remastered)\n"
     ]
    },
    {
     "name": "stdout",
     "output_type": "stream",
     "text": [
      "992/1416 : 5GjPQ0eI7AgmOnADn1EO6Q Eleanor Rigby - Remastered 2009 The Beatles Revolver (Remastered)\n",
      "993/1416 : 1kDkaFlmkdEZiVUogaP9OZ For No One - Remastered 2009 The Beatles Revolver (Remastered)\n"
     ]
    },
    {
     "name": "stdout",
     "output_type": "stream",
     "text": [
      "994/1416 : 7HTH1ppjkkOe7RLoBDKXYJ Good Day Sunshine - Remastered 2009 The Beatles Revolver (Remastered)\n"
     ]
    },
    {
     "name": "stdout",
     "output_type": "stream",
     "text": [
      "995/1416 : 3tGhRLgcCP6SIZU3tbGl7l Got To Get You Into My Life - Remastered 2009 The Beatles Revolver (Remastered)\n",
      "996/1416 : 2B4Y9u4ERAFiMo13XPJyGP Here, There And Everywhere - Remastered 2009 The Beatles Revolver (Remastered)\n",
      "997/1416 : 7orb0y6ySGdsYZywMoQtsD I Want To Tell You - Remastered 2009 The Beatles Revolver (Remastered)\n"
     ]
    },
    {
     "name": "stdout",
     "output_type": "stream",
     "text": [
      "998/1416 : 2ylCrFiBu98SC0vFfaCent I'm Only Sleeping - Remastered 2009 The Beatles Revolver (Remastered)\n",
      "999/1416 : 4RdJFhfLQcezwN5LsXl4qP Love You To - Remastered 2009 The Beatles Revolver (Remastered)\n"
     ]
    },
    {
     "name": "stdout",
     "output_type": "stream",
     "text": [
      "1000/1416 : 3VSuWxZM6x6V3ig5nYtikL She Said She Said - Remastered 2009 The Beatles Revolver (Remastered)\n",
      "1001/1416 : 4BRkPBUxOYffM2QXVlq7aC Taxman - Remastered 2009 The Beatles Revolver (Remastered)\n",
      "1002/1416 : 00oZhqZIQfL9P5CjOP6JsO Tomorrow Never Knows - Remastered 2009 The Beatles Revolver (Remastered)\n"
     ]
    },
    {
     "name": "stdout",
     "output_type": "stream",
     "text": [
      "1003/1416 : 50xwQXPtfNZFKFeZ0XePWc Yellow Submarine - Remastered 2009 The Beatles Revolver (Remastered)\n",
      "1004/1416 : 0hKRSZhUGEhKU6aNSPBACZ A Day In The Life - Remastered 2009 The Beatles Sgt. Pepper's Lonely Hearts Club Band (Remastered)\n",
      "1005/1416 : 6W35n1UlkvqhfMZstB4BXs Being For The Benefit Of Mr. Kite! - Remastered 2009 The Beatles Sgt. Pepper's Lonely Hearts Club Band (Remastered)\n"
     ]
    },
    {
     "name": "stdout",
     "output_type": "stream",
     "text": [
      "1006/1416 : 3pKKxkeB1pOUMHwWBmKc3Y Fixing A Hole - Remastered 2009 The Beatles Sgt. Pepper's Lonely Hearts Club Band (Remastered)\n",
      "1007/1416 : 3LtOmWpTXLhilL5odoKysR Getting Better - Remastered 2009 The Beatles Sgt. Pepper's Lonely Hearts Club Band (Remastered)\n"
     ]
    },
    {
     "name": "stdout",
     "output_type": "stream",
     "text": [
      "1008/1416 : 0xIuNHHcKI1JDuBPlSwzb1 Good Morning Good Morning - Remastered 2009 The Beatles Sgt. Pepper's Lonely Hearts Club Band (Remastered)\n",
      "1009/1416 : 6h9W5FxX4E9lUFsyq8j1AD Lovely Rita - Remastered 2009 The Beatles Sgt. Pepper's Lonely Hearts Club Band (Remastered)\n"
     ]
    },
    {
     "name": "stdout",
     "output_type": "stream",
     "text": [
      "1010/1416 : 25yQPHgC35WNnnOUqFhgVR Lucy In The Sky With Diamonds - Remastered 2009 The Beatles Sgt. Pepper's Lonely Hearts Club Band (Remastered)\n",
      "1011/1416 : 25yQPHgC35WNnnOUqFhgVR Lucy In The Sky With Diamonds - Remastered 2009 The Beatles Sgt. Pepper's Lonely Hearts Club Band (Remastered)\n"
     ]
    },
    {
     "name": "stdout",
     "output_type": "stream",
     "text": [
      "1012/1416 : 42ocGQCOT0xYtV3f5kJDsD Sgt. Pepper's Lonely Hearts Club Band - Reprise / Remastered 2009 The Beatles Sgt. Pepper's Lonely Hearts Club Band (Remastered)\n",
      "1013/1416 : 3PjMtNzwhDHqxoKudm6GvF She's Leaving Home - Remastered 2009 The Beatles Sgt. Pepper's Lonely Hearts Club Band (Remastered)\n"
     ]
    },
    {
     "name": "stdout",
     "output_type": "stream",
     "text": [
      "1014/1416 : 1NrbnHlR2BFREcyWXHIHip When I'm Sixty Four - Remastered 2009 The Beatles Sgt. Pepper's Lonely Hearts Club Band (Remastered)\n",
      "1015/1416 : 2RnPATK99oGOZygnD2GTO6 With A Little Help From My Friends - Remastered 2009 The Beatles Sgt. Pepper's Lonely Hearts Club Band (Remastered)\n"
     ]
    },
    {
     "name": "stdout",
     "output_type": "stream",
     "text": [
      "1016/1416 : 3Umg8CDhO8dOSj7yBTInYb Within You Without You - Remastered 2009 The Beatles Sgt. Pepper's Lonely Hearts Club Band (Remastered)\n",
      "1017/1416 : 0j3p1p06deJ7f9xmJ9yG22 Back In The U.S.S.R. - Remastered 2009 The Beatles The Beatles (Remastered)\n"
     ]
    },
    {
     "name": "stdout",
     "output_type": "stream",
     "text": [
      "1018/1416 : 1ABegtCPBMMJaMpfDyATjE Birthday - Remastered 2009 The Beatles The Beatles (Remastered)\n",
      "1019/1416 : 5jgFfDIR6FR0gvlA56Nakr Blackbird - Remastered 2009 The Beatles The Beatles (Remastered)\n"
     ]
    },
    {
     "name": "stdout",
     "output_type": "stream",
     "text": [
      "1020/1416 : 5XmetMMUFNXClbiYnGdVmP Cry Baby Cry - Remastered 2009 The Beatles The Beatles (Remastered)\n",
      "1021/1416 : 5NQYyej46WQkgCbnzGD21W Dear Prudence - Remastered 2009 The Beatles The Beatles (Remastered)\n"
     ]
    },
    {
     "name": "stdout",
     "output_type": "stream",
     "text": [
      "1022/1416 : 4zq4rrfHZeZsTbo5vjJXSV Don't Pass Me By - Remastered 2009 The Beatles The Beatles (Remastered)\n"
     ]
    },
    {
     "name": "stdout",
     "output_type": "stream",
     "text": [
      "1023/1416 : 64P3zpRsDHIk7YTpRtaKYL Everybody's Got Something To Hide Except Me And My Monkey - Remastered 2009 The Beatles The Beatles (Remastered)\n"
     ]
    },
    {
     "name": "stdout",
     "output_type": "stream",
     "text": [
      "1024/1416 : 2jAojvUaPoHPFSPpF0UNRo Glass Onion - Remastered 2009 The Beatles The Beatles (Remastered)\n"
     ]
    },
    {
     "name": "stdout",
     "output_type": "stream",
     "text": [
      "1025/1416 : 3T4Kt51PV4k8tx6YCtBgcl Good Night - Remastered 2009 The Beatles The Beatles (Remastered)\n",
      "The Beatles Hapiness Is A Warm Gun The Beatles not in spotify\n"
     ]
    },
    {
     "name": "stdout",
     "output_type": "stream",
     "text": [
      "1027/1416 : 0Bs0hUYxz7REyIHH7tRhL2 Helter Skelter - Remastered 2009 The Beatles The Beatles (Remastered)\n",
      "1028/1416 : 1TPcNcmuKlq0PKpYOBgP1U Honey Pie - Remastered 2009 The Beatles The Beatles (Remastered)\n",
      "1029/1416 : 09x9v1o51dbqi5H0u7UGfp I Will - Remastered 2009 The Beatles The Beatles (Remastered)\n"
     ]
    },
    {
     "name": "stdout",
     "output_type": "stream",
     "text": [
      "1030/1416 : 2X9H5BokS1u5O46YpNYNsZ I'm So Tired - Remastered 2009 The Beatles The Beatles (Remastered)\n",
      "1031/1416 : 5FnpXVgDOk2sLT58qM22Of Julia - Remastered 2009 The Beatles The Beatles (Remastered)\n"
     ]
    },
    {
     "name": "stdout",
     "output_type": "stream",
     "text": [
      "1032/1416 : 3mlMpmY8oZIBFc39D9zLbh The Long And Winding Road - Remastered 2009 The Beatles Let It Be (Remastered)\n",
      "1033/1416 : 1swmf4hFMJYRNA8Rq9PVaW Martha My Dear - Remastered 2009 The Beatles The Beatles (Remastered)\n",
      "1034/1416 : 6TjUg1cTUzWHbal6yQAi7c Mother Nature's Son - Remastered 2009 The Beatles The Beatles (Remastered)\n"
     ]
    },
    {
     "name": "stdout",
     "output_type": "stream",
     "text": [
      "1035/1416 : 1gFNm7cXfG1vSMcxPpSxec Ob-La-Di, Ob-La-Da - Remastered 2009 The Beatles The Beatles (Remastered)\n",
      "1036/1416 : 4ZmjfLdJXbqjAENqk7eWSE Piggies - Remastered 2009 The Beatles The Beatles (Remastered)\n",
      "1037/1416 : 5dZ8PeKKZJLIQAWNTdp8WX Revolution 9 - Remastered 2009 The Beatles The Beatles (Remastered)\n"
     ]
    },
    {
     "name": "stdout",
     "output_type": "stream",
     "text": [
      "1038/1416 : 0xulhqNI2L3CoAe0CLe65V Revolution - Take 14 / Instrumental Backing Track The Beatles The Beatles\n",
      "1039/1416 : 1ITQbrueGLl581a25XXm9c Rocky Raccoon - Remastered 2009 The Beatles The Beatles (Remastered)\n"
     ]
    },
    {
     "name": "stdout",
     "output_type": "stream",
     "text": [
      "1040/1416 : 5iyCSUM7zzficwaGo8GIoc Savoy Truffle - Remastered 2009 The Beatles The Beatles (Remastered)\n",
      "1041/1416 : 2tBv9tAdqEbLNDi5smSjbg Sexy Sadie - Remastered 2009 The Beatles The Beatles (Remastered)\n",
      "1042/1416 : 5Z3Rd1fMcaty8g5Pn7yhBQ The Continuing Story Of Bungalow Bill - Remastered 2009 The Beatles The Beatles (Remastered)\n"
     ]
    },
    {
     "name": "stdout",
     "output_type": "stream",
     "text": [
      "1043/1416 : 389QX9Q1eUOEZ19vtzzI9O While My Guitar Gently Weeps - Remastered 2009 The Beatles The Beatles (Remastered)\n",
      "1044/1416 : 4eLIq1nQNwz2qLu8DeiWIp Why Don't We Do It In The Road? - Remastered 2009 The Beatles The Beatles (Remastered)\n",
      "1045/1416 : 6j67aNAPeQ31uw4qw4rpLa Wild Honey Pie - Remastered 2009 The Beatles The Beatles (Remastered)\n"
     ]
    },
    {
     "name": "stdout",
     "output_type": "stream",
     "text": [
      "1046/1416 : 2AsGApoUuN8pTM17Lq9eUd Yer Blues - Remastered 2009 The Beatles The Beatles (Remastered)\n",
      "1047/1416 : 4t0Pj3iBnSCZv5pDEPNmzG Jive Talkin' - From \"Saturday Night Fever\" Soundtrack Bee Gees Main Course\n",
      "1048/1416 : 3mRM4NM8iO7UBqrSigCQFH Stayin' Alive - From \"Saturday Night Fever\" Soundtrack Bee Gees Greatest\n"
     ]
    },
    {
     "name": "stdout",
     "output_type": "stream",
     "text": [
      "1049/1416 : 5G1sTBGbZT5o4PNRc75RKI Lonely Boy The Black Keys El Camino\n",
      "1050/1416 : 5DjnapHOsR30xp0MJaj4u9 Sweet Home Chicago The Blues Brothers Blues Gems\n",
      "1051/1416 : 2yBVeksU2EtrPJbTu4ZslK What a Fool Believes The Doobie Brothers Minute by Minute\n"
     ]
    },
    {
     "name": "stdout",
     "output_type": "stream",
     "text": [
      "The Doors (You Need Meat) Don't Go No Further L.A. Woman not in spotify\n",
      "1053/1416 : 1E7qCptwRPfvZrIDyDDgjh Been down so Long The Doors L.A. Woman\n",
      "1054/1416 : 2Sjez1CwJv8Pz018CxKjWa Cars Hiss by My Window The Doors L.A. Woman\n"
     ]
    },
    {
     "name": "stdout",
     "output_type": "stream",
     "text": [
      "1055/1416 : 14qbY7LbhcXwECCGqH2z7U Crawling King Snake The Doors L.A. Woman\n",
      "1056/1416 : 4nKmlUaUiUN4rpMGYnUPAu Hyacinth House The Doors L.A. Woman\n",
      "1057/1416 : 14XWXWv5FoCbFzLksawpEe Riders on the Storm The Doors L.A. Woman\n"
     ]
    },
    {
     "name": "stdout",
     "output_type": "stream",
     "text": [
      "1058/1416 : 4RE79d7ACKfTPC7qE65xpi L'America The Doors L.A. Woman\n"
     ]
    },
    {
     "name": "stdout",
     "output_type": "stream",
     "text": [
      "1059/1416 : 3MFFDRC4wTN9JNGtzXsZlN Love Her Madly The Doors L.A. Woman\n",
      "1060/1416 : 14XWXWv5FoCbFzLksawpEe Riders on the Storm The Doors L.A. Woman\n",
      "1061/1416 : 3uqxwLp7Hs9sJhm4uVF8li The Changeling The Doors L.A. Woman\n"
     ]
    },
    {
     "name": "stdout",
     "output_type": "stream",
     "text": [
      "1062/1416 : 6ieXnWm8uineF8k9Ugn5DG The WASP (Texas Radio and the Big Beat) The Doors L.A. Woman\n",
      "1063/1416 : 42dsUTJpzMWUJfEkzsbKWl When the Music's Over The Doors Strange Days\n",
      "1064/1416 : 0JNZGIavoUrdup1NsgJOQs Alabama Song (Whisky Bar) The Doors The Doors\n"
     ]
    },
    {
     "name": "stdout",
     "output_type": "stream",
     "text": [
      "1065/1416 : 03By6gD02qhtvIQiK8KidK Back Door Man The Doors The Doors\n",
      "1066/1416 : 6ToM0uwxtPKo9CMpbPGYvM Break on Through (To the Other Side) The Doors The Doors\n",
      "1067/1416 : 09ezgACZuwWZt6CtQSSLRG End of the Night The Doors The Doors\n"
     ]
    },
    {
     "name": "stdout",
     "output_type": "stream",
     "text": [
      "1068/1416 : 6vCLIvOIabRk1XQfMb6RXi I Looked at You The Doors The Doors\n",
      "1069/1416 : 5uvosCdMlFdTXhoazkTI5R Light My Fire The Doors The Doors\n",
      "1070/1416 : 2Xdc6qyaFBJZ8QW1KhpVci Soul Kitchen The Doors The Doors\n"
     ]
    },
    {
     "name": "stdout",
     "output_type": "stream",
     "text": [
      "1071/1416 : 4pxHVL0syMQwYK3BxDaTIs Take It as It Comes The Doors The Doors\n",
      "1072/1416 : 0gWvVB4bGvADocoPMEDy3K The Crystal Ship The Doors The Doors\n",
      "1073/1416 : 5UgT7w6zVZjP3oyawMzbiK The End The Doors The Doors\n"
     ]
    },
    {
     "name": "stdout",
     "output_type": "stream",
     "text": [
      "1074/1416 : 7mc2TP4Vzuyw2vNf1bLW9f Twentieth Century Fox The Doors The Doors\n",
      "1075/1416 : 55eILhe6Yr58TuLxHskVh1 Dawn Patrol The Eliminators Unleashed\n"
     ]
    },
    {
     "name": "stdout",
     "output_type": "stream",
     "text": [
      "1076/1416 : 6jX5mso4x00c1EiNMrTU9U Please Mr. Postman The Marvelettes Please Mr. Postman\n",
      "1077/1416 : 4cHObLf8gg0XIvi7AsUPuJ Be My Girl - Sally The Police Outlandos D'Amour (Remastered 2003)\n",
      "1078/1416 : 0RxrsIXyGkeV8JwEFUZMhg Born In The 50's The Police Outlandos D'Amour (Remastered 2003)\n",
      "1079/1416 : 6DjKJgwe9c90Bd2iya0fre Can't Stand Losing You The Police Outlandos D'Amour (Remastered 2003)\n"
     ]
    },
    {
     "name": "stdout",
     "output_type": "stream",
     "text": [
      "1080/1416 : 25McPIqh9oSdPSP36Gu7Jp Hole In My Life The Police Outlandos D'Amour (Remastered 2003)\n",
      "1081/1416 : 4i4zjkLYGOwHXbNTnsesGe Masoko Tanga The Police Outlandos D'Amour (Remastered 2003)\n",
      "1082/1416 : 7HjipY3Vy2HAN11D2juKHT Next To You The Police Outlandos D'Amour (Remastered 2003)\n"
     ]
    },
    {
     "name": "stdout",
     "output_type": "stream",
     "text": [
      "1083/1416 : 7Jsli31ZTv3TI28qcXzEkE Peanuts The Police Outlandos D'Amour (Remastered 2003)\n",
      "1084/1416 : 3EYOJ48Et32uATr9ZmLnAo Roxanne The Police Outlandos D'Amour (Remastered 2003)\n",
      "1085/1416 : 2wnsBaxrmkthIFAm6vqCuX So Lonely The Police Outlandos D'Amour (Remastered 2003)\n"
     ]
    },
    {
     "name": "stdout",
     "output_type": "stream",
     "text": [
      "1086/1416 : 4pLhVO0JuMiFDSJYDiGP7S Truth Hits Everybody The Police Outlandos D'Amour (Remastered 2003)\n",
      "1087/1416 : 1Xdhp215nsdETJ17AtC7ve Paint It, Black The Rolling Stones Big Hits (High Tide and Green Grass)\n",
      "1088/1416 : 6P30NMoLLzWTuue4faRjsd Bright Blue Berlin Sky The Shutes Echo of Love\n"
     ]
    },
    {
     "name": "stdout",
     "output_type": "stream",
     "text": [
      "1089/1416 : 7ledv9CTjqdwnvHgRmETyZ Flowers On the Wall The Statler Brothers Flowers On The Wall: The Essential Statler Brothers 1964-1969\n",
      "1090/1416 : 22ff60cZy4APp7bzESHLR8 Disco Inferno - Single Edit The Trammps Rhino Hi-Five: The Trammps\n",
      "1091/1416 : 1JO1xLtVc8mWhIoE3YaCL0 Happy Together The Turtles Happy Together\n"
     ]
    },
    {
     "name": "stdout",
     "output_type": "stream",
     "text": [
      "1092/1416 : 3qiyyUfYe7CRYLucrPmulD Baba O'Riley The Who Who's Next\n",
      "Todd Terje Alfonso Muskender It's Album Time not in spotify\n",
      "Todd Terje Dolorean Dynamite It's Album Time not in spotify\n",
      "1095/1416 : 01txDiOnBPfMrVQwPQtDHR Inspector Norse Todd Terje It's Album Time\n"
     ]
    },
    {
     "name": "stdout",
     "output_type": "stream",
     "text": [
      "1096/1416 : 60EtWSoDRJSFmg99MKZi0x Intro (It's Album Time) Todd Terje It's Album Time\n",
      "1097/1416 : 07Wr8BA8v4hsvczK43fZw4 Oh Joy Todd Terje It's Album Time\n",
      "1098/1416 : 7vUbnU8XibkKccpuoyWqIm Preben Goes to Acapulco Todd Terje It's Album Time\n"
     ]
    },
    {
     "name": "stdout",
     "output_type": "stream",
     "text": [
      "1099/1416 : 6reLfBSO38qmFgHgz6kAs0 Strandbar Todd Terje It's Album Time\n",
      "1100/1416 : 0Def9GQnjyliBmy7LmoXvn Svensk Sås Todd Terje It's Album Time\n",
      "1101/1416 : 0z6QVQ6FbgHFi6qVyh8xSh Swing Star, Pt. 1 Todd Terje It's Album Time\n"
     ]
    },
    {
     "name": "stdout",
     "output_type": "stream",
     "text": [
      "1102/1416 : 2z6OostMhIFP6JmpQazDIL Swing Star, Pt. 2 Todd Terje It's Album Time\n",
      "1103/1416 : 7nNKbWdmUqKHGfgipRborS A Distant Closeness Tommy Guerrero Road to Knowhere\n",
      "1104/1416 : 46TKHBSVXIOYjfi3pp6X7F El camino negro Tommy Guerrero Road to Knowhere\n"
     ]
    },
    {
     "name": "stdout",
     "output_type": "stream",
     "text": [
      "1105/1416 : 2Rh8lX6vMw4gPWbB9hyEO3 Headin West - Bonus Track Tommy Guerrero Road to Knowhere\n",
      "1106/1416 : 4gvwWBH2sM1nK8Jf0MJNK1 Heat in the Streets Tommy Guerrero Road to Knowhere\n"
     ]
    },
    {
     "name": "stdout",
     "output_type": "stream",
     "text": [
      "1107/1416 : 1rJaiv1oQkEL0DdBoKarPA Highway Hustle Tommy Guerrero Road to Knowhere\n",
      "1108/1416 : 7l5DDOzlf8q5S87KbrNI16 Los padres Tommy Guerrero Road to Knowhere\n",
      "1109/1416 : 2u4sit6Khr9SMHDAzLNzPs Postcard Home Tommy Guerrero Road to Knowhere\n"
     ]
    },
    {
     "name": "stdout",
     "output_type": "stream",
     "text": [
      "1110/1416 : 2fllsdGix2LLcVYufzKtMq Sidewalk Soul Tommy Guerrero Road to Knowhere\n",
      "1111/1416 : 5RuoRiA2VuewUvCBn3Tqrp Silent Miles - Bonus Track Tommy Guerrero Road to Knowhere\n",
      "1112/1416 : 1f6zaaYNBHcEDi8flDfsSg Slow Roll Tommy Guerrero Road to Knowhere\n"
     ]
    },
    {
     "name": "stdout",
     "output_type": "stream",
     "text": [
      "1113/1416 : 7D96SLwZnOBC0v3dpOPsEt The Endless Road Tommy Guerrero Road to Knowhere\n",
      "1114/1416 : 75WWE2KDn0vU9kWoYl8T9S Where Water Once Was Tommy Guerrero Road to Knowhere\n",
      "1115/1416 : 3EhuEeTQP2tAICvTakOEYF White Sands Tommy Guerrero Road to Knowhere\n"
     ]
    },
    {
     "name": "stdout",
     "output_type": "stream",
     "text": [
      "1116/1416 : 4OhqsmPMreC0EFCo3OmDSm 10,000 Days (Wings Pt 2) TOOL 10,000 Days\n",
      "1117/1416 : 2ae6mkuD2gJnJQADl488et Intension TOOL 10,000 Days\n",
      "1118/1416 : 2gbPu2QNqhnnqtfK3yyeZ0 Jambi TOOL 10,000 Days\n"
     ]
    },
    {
     "name": "stdout",
     "output_type": "stream",
     "text": [
      "1119/1416 : 7dP42zpNCIsEHlnRLZGo0i Lipan Conjuring TOOL 10,000 Days\n",
      "1120/1416 : 0PLtBp8VchqMaJMl4abJaZ Lost Keys (Blame Hofman) TOOL 10,000 Days\n",
      "1121/1416 : 0NLDZzVke3Qu7vDhWyGzRk Right In Two TOOL 10,000 Days\n"
     ]
    },
    {
     "name": "stdout",
     "output_type": "stream",
     "text": [
      "1122/1416 : 0D8l86LXxKcgKAO17DfQsl Rosetta Stoned TOOL 10,000 Days\n",
      "1123/1416 : 1lATXTBJDHwawvT1UfxWu3 The Pot TOOL 10,000 Days\n",
      "1124/1416 : 65ShmiE5aLBdcIGr7tHX35 Vicarious TOOL 10,000 Days\n"
     ]
    },
    {
     "name": "stdout",
     "output_type": "stream",
     "text": [
      "1125/1416 : 1A00hgLu1S7Q3GNMAjs5mX Viginti Tres TOOL 10,000 Days\n",
      "1126/1416 : 1BDuMlv8zbeBmwFEBmE6N9 Wings For Marie (Pt 1) TOOL 10,000 Days\n",
      "1127/1416 : 0KCdkjFn7as5rME8dInqGQ (-) Ions TOOL Ænima\n"
     ]
    },
    {
     "name": "stdout",
     "output_type": "stream",
     "text": [
      "1128/1416 : 0nLOl4fSiBZKGFla5pLUtf Ænema TOOL Ænima\n",
      "1129/1416 : 6xttnk5U2VMVCaihaD0RPE Cesaro Summability TOOL Ænima\n",
      "1130/1416 : 2uzCJ4ckvFhv6F9Q1CMkys Die Eier von Satan TOOL Ænima\n"
     ]
    },
    {
     "name": "stdout",
     "output_type": "stream",
     "text": [
      "1131/1416 : 0RVFjx2HwbHcl5SCSADpFP Eulogy TOOL Ænima\n",
      "1132/1416 : 6AioOohg4bQZFA4jIYQQ2r Forty Six & 2 TOOL Ænima\n"
     ]
    },
    {
     "name": "stdout",
     "output_type": "stream",
     "text": [
      "1133/1416 : 5fYzuUxtcaJaRRaxMoM2DT H. TOOL Ænima\n"
     ]
    },
    {
     "name": "stdout",
     "output_type": "stream",
     "text": [
      "1134/1416 : 3S4G4SL15Cp4CvAfmye8um Hooker With A Penis TOOL Ænima\n"
     ]
    },
    {
     "name": "stdout",
     "output_type": "stream",
     "text": [
      "1135/1416 : 56IPgOpV9w1suGl7Lu9qeZ Intermission TOOL Ænima\n"
     ]
    },
    {
     "name": "stdout",
     "output_type": "stream",
     "text": [
      "1136/1416 : 09KJ3XQZ9RQ5prbSp59Wbc Jimmy TOOL Ænima\n",
      "1137/1416 : 13aTOYQ4xvj84VACPu9zur Message To Harry Manback TOOL Ænima\n",
      "1138/1416 : 4CbHM5bpfOfMNxNgVDHJRw Pushit TOOL Ænima\n"
     ]
    },
    {
     "name": "stdout",
     "output_type": "stream",
     "text": [
      "1139/1416 : 0pwObEOHolQZSldJ2q1wpy Stinkfist TOOL Ænima\n",
      "1140/1416 : 2Dqg2mRbfIVKhBZleNrgmH Third Eye TOOL Ænima\n",
      "1141/1416 : 5Ca9qZBftB2kGmuUOoJoea Useful Idiot TOOL Ænima\n"
     ]
    },
    {
     "name": "stdout",
     "output_type": "stream",
     "text": [
      "1142/1416 : 0gGfmw4csswZmFPj9YK8GW 7empest TOOL Fear Inoculum\n",
      "1143/1416 : 3VcEEhf6NL8oq2e1IxFUVM Chocolate Chip Trip TOOL Fear Inoculum\n",
      "1144/1416 : 3gPxMQWDMSEyPXMtzbcDdQ Culling Voices TOOL Fear Inoculum\n"
     ]
    },
    {
     "name": "stdout",
     "output_type": "stream",
     "text": [
      "1145/1416 : 0aTiUssEOy0Mt69bsavj6K Descending TOOL Fear Inoculum\n",
      "1146/1416 : 39zWYYZStDgWi32sOU9AX4 Fear Inoculum TOOL Fear Inoculum\n",
      "1147/1416 : 2xKDKtJBLDPd7BF3VmSQQO Invincible TOOL Fear Inoculum\n",
      "1148/1416 : 48C0O5CXfQdfjUCUhOs1YP Legion Inoculant TOOL Fear Inoculum\n"
     ]
    },
    {
     "name": "stdout",
     "output_type": "stream",
     "text": [
      "1149/1416 : 4qE9yOgBNsARadpZTAb6RH Litanie contre la Peur TOOL Fear Inoculum\n",
      "1150/1416 : 5aDylkK93g6SvfTPJTXq4L Mockingbeat TOOL Fear Inoculum\n",
      "1151/1416 : 03sEzk1VyrUZSgyhoQR0LZ Pneuma TOOL Fear Inoculum\n"
     ]
    },
    {
     "name": "stdout",
     "output_type": "stream",
     "text": [
      "1152/1416 : 1FRlNrHd4OGNIEVgFuX9Fu Disposition TOOL Lateralus\n",
      "1153/1416 : 5aVJ5rv7ghWSkQaqP726tE Eon Blue Apocalypse TOOL Lateralus\n",
      "1154/1416 : 3oEgMtjTzGgXTFdO0IW2M7 Faaip De Oiad TOOL Lateralus\n"
     ]
    },
    {
     "name": "stdout",
     "output_type": "stream",
     "text": [
      "1155/1416 : 55mJleti2WfWEFNFcBduhc Schism TOOL Lateralus\n",
      "1156/1416 : 4KVTRIZIj1WWIxitbREDnK Mantra TOOL Lateralus\n",
      "1157/1416 : 1vxu8vMNshg5J8z3oA7QJZ Parabola TOOL Lateralus\n"
     ]
    },
    {
     "name": "stdout",
     "output_type": "stream",
     "text": [
      "1158/1416 : 1vxu8vMNshg5J8z3oA7QJZ Parabola TOOL Lateralus\n",
      "1159/1416 : 0R7HFX1LW3E0ZR5BnAJLHz Reflection TOOL Lateralus\n",
      "1160/1416 : 55mJleti2WfWEFNFcBduhc Schism TOOL Lateralus\n"
     ]
    },
    {
     "name": "stdout",
     "output_type": "stream",
     "text": [
      "1161/1416 : 6ZsZxNP4Iwdyp3kd5oFFQN The Grudge TOOL Lateralus\n",
      "1162/1416 : 0Klbxk3g96Qae4DbCnUNcT The Patient TOOL Lateralus\n",
      "1163/1416 : 0Cnx6PGogxIE2RnDcnoeK8 Ticks & Leeches TOOL Lateralus\n"
     ]
    },
    {
     "name": "stdout",
     "output_type": "stream",
     "text": [
      "1164/1416 : 2D9rd6TIpqmDkog5Mx8kxl Triad TOOL Lateralus\n",
      "1165/1416 : 15RB3lFt2Mhc16m5fTTYkh Hey Oh - Radio Edit Tragédie Tragédie (Édition Deluxe)\n",
      "1166/1416 : 6ZyuNGpj7FQDT9vklQlmJA 1 for 1, DiMaggio Vulfpeck The Beautiful Game\n"
     ]
    },
    {
     "name": "stdout",
     "output_type": "stream",
     "text": [
      "1167/1416 : 1SHA4IJyiyNobDOrQzFFXy Animal Spirits Vulfpeck The Beautiful Game\n",
      "1168/1416 : 6vzRQHItVGIT94q33HvRZx Aunt Leslie Vulfpeck The Beautiful Game\n",
      "1169/1416 : 5vmFVIJV9XN1l01YsFuKL3 Conscious Club Vulfpeck The Beautiful Game\n"
     ]
    },
    {
     "name": "stdout",
     "output_type": "stream",
     "text": [
      "1170/1416 : 1L9qsoNnyT3r8fgr2Pr7Ty Cory Wong Vulfpeck The Beautiful Game\n",
      "1171/1416 : 2WbKDH7BbDUHqACsZH0KVW Daddy, He Got a Tesla Vulfpeck The Beautiful Game\n",
      "1172/1416 : 1oOD1pV43cV9sHg97aBdLs Dean Town Vulfpeck The Beautiful Game\n"
     ]
    },
    {
     "name": "stdout",
     "output_type": "stream",
     "text": [
      "1173/1416 : 4dwUJK6Za2KRrj8z0BM2Ab El Chepe Vulfpeck The Beautiful Game\n"
     ]
    },
    {
     "name": "stdout",
     "output_type": "stream",
     "text": [
      "1174/1416 : 5h3MfjJrSPqKTZ7F4wyHg9 Margery, My First Car Vulfpeck The Beautiful Game\n",
      "1175/1416 : 73bJahLiTR2RAfXd3aNn1p The Sweet Science Vulfpeck The Beautiful Game\n"
     ]
    },
    {
     "name": "stdout",
     "output_type": "stream",
     "text": [
      "1176/1416 : 1DrlLvlYd1FIjNavRm6NdX Back Pocket Vulfpeck Thrill of the Arts\n",
      "1177/1416 : 7FSVxHogsHZP0Gmaz2alyl Say It Ain't So Molotov Cocktail Piano Tribute to Weezer: The Blue Album Deluxe\n",
      "1178/1416 : 2MLHyLy5z5l5YRp7momlgw Island In The Sun Weezer Weezer (Green Album)\n"
     ]
    },
    {
     "name": "stdout",
     "output_type": "stream",
     "text": [
      "Wejdene Anissa N/A not in spotify\n",
      "1180/1416 : 4jeOc5YrcgFdjgOQqSahd1 Caged Within Temptation Mother Earth\n",
      "1181/1416 : 5cEc0OHUUMfD5MVfFdizR6 Dark Wings Within Temptation Mother Earth\n"
     ]
    },
    {
     "name": "stdout",
     "output_type": "stream",
     "text": [
      "1182/1416 : 5aygztsY9IOUz4lBd0M4Ru Deceiver Of Fools Within Temptation Mother Earth\n",
      "1183/1416 : 4GbYLpSqf2Trkwqgb7p1os Ice Queen Within Temptation Mother Earth\n",
      "1184/1416 : 0HltrGBDkljdqfsK7ZlKPB In Perfect Harmony Within Temptation Mother Earth\n"
     ]
    },
    {
     "name": "stdout",
     "output_type": "stream",
     "text": [
      "1185/1416 : 0Ggzy6UEomashfAkKHzcQr Mother Earth Within Temptation Mother Earth\n",
      "1186/1416 : 6eb2kEFO4SsyUTlFMU1ZZF Never Ending Story - Extended Version Within Temptation Mother Earth\n",
      "1187/1416 : 0ClEsmX3to1Rb4tcHkYmOL Our Farewell Within Temptation Mother Earth\n"
     ]
    },
    {
     "name": "stdout",
     "output_type": "stream",
     "text": [
      "1188/1416 : 6gjIe22qtRjVv22mU3spo3 The Promise Within Temptation Mother Earth\n",
      "1189/1416 : 4BhqnM5lktowwfHqq2JYhg All I Need Within Temptation The Heart of Everything\n",
      "1190/1416 : 3nehrTMRyizLW3WgRcbNTQ Final Destination Within Temptation The Heart of Everything\n"
     ]
    },
    {
     "name": "stdout",
     "output_type": "stream",
     "text": [
      "1191/1416 : 5JY8IIwlpMZnSvL20SKpGp Forgiven Within Temptation The Heart of Everything\n",
      "1192/1416 : 0QAvJ73wGHw7IC3sis4nLE Frozen Within Temptation The Heart of Everything\n",
      "1193/1416 : 61i8W3gHpGUAIDlQj5UUAE Hand of Sorrow Within Temptation The Heart of Everything\n"
     ]
    },
    {
     "name": "stdout",
     "output_type": "stream",
     "text": [
      "1194/1416 : 1jCPzDzUzhCVX75KLqrzCw Our Solemn Hour Within Temptation The Heart of Everything\n",
      "1195/1416 : 4yYmZH77EKb4ZWjfpVm8Rj Stand My Ground - Live Within Temptation The Heart of Everything\n",
      "1196/1416 : 4VPsB29pvoGauzIlaqjYA0 The Cross Within Temptation The Heart of Everything\n"
     ]
    },
    {
     "name": "stdout",
     "output_type": "stream",
     "text": [
      "1197/1416 : 4BhqnM5lktowwfHqq2JYhg All I Need Within Temptation The Heart of Everything\n",
      "1198/1416 : 6HQWzxzoM0d3KSOHRREDie The Howling Within Temptation The Heart of Everything\n",
      "1199/1416 : 1hVoVHuzYmnLWGZ557vlBf The Truth Beneath the Rose Within Temptation The Heart of Everything\n"
     ]
    },
    {
     "name": "stdout",
     "output_type": "stream",
     "text": [
      "1200/1416 : 66wcihY2Y8ZSqux6EivMWa What Have You Done (feat. Keith Caputo) Within Temptation The Heart of Everything\n",
      "1201/1416 : 2GwzOugx5dH89QfMMvg5Wy A Demon's Fate Within Temptation The Unforgiving\n",
      "1202/1416 : 5oX5jpeZsXBWEheqE0qqqD Faster Within Temptation The Unforgiving\n"
     ]
    },
    {
     "name": "stdout",
     "output_type": "stream",
     "text": [
      "1203/1416 : 3ndK85JYhmurz1920xl23H Fire and Ice Within Temptation The Unforgiving\n",
      "1204/1416 : 0qAhYeTUICaVc6s4uq1GeN In the Middle of the Night Within Temptation The Unforgiving\n",
      "1205/1416 : 5yb3Oqo1cJiYYRaud6RFsf Iron Within Temptation The Unforgiving\n"
     ]
    },
    {
     "name": "stdout",
     "output_type": "stream",
     "text": [
      "1206/1416 : 3BXc00WLOa0gZ5uMRSmNhb Lost Within Temptation The Unforgiving\n",
      "1207/1416 : 76VytyjsLI9OGz5HsRr4td Murder Within Temptation The Unforgiving\n",
      "1208/1416 : 5TsnDwMorhrETdY5CqBHxf Shot in the Dark Within Temptation The Unforgiving\n",
      "1209/1416 : 12IwGbGIHyHNwVYBlqeBC5 Sinéad Within Temptation The Unforgiving\n"
     ]
    },
    {
     "name": "stdout",
     "output_type": "stream",
     "text": [
      "1210/1416 : 3rOM7x4F8RBi9lyjX9Ifu0 Stairway to the Skies Within Temptation The Unforgiving\n",
      "1211/1416 : 6I8YdlXMofPWxQUnCvnvye Where Is the Edge Within Temptation The Unforgiving\n",
      "1212/1416 : 4syPlsQHh78fTKEIEzzSAc Cans and Brahms - 2003 Remaster Yes Fragile (Deluxe Edition)\n"
     ]
    },
    {
     "name": "stdout",
     "output_type": "stream",
     "text": [
      "1213/1416 : 5geV4ZJrvcQtbKIixrnwB6 Five per Cent for Nothing - 2003 Remaster Yes Fragile (Deluxe Edition)\n",
      "1214/1416 : 7gC6Rbllqf1yXNC02e5jz2 Heart of the Sunrise - 2003 Remaster Yes Fragile (Deluxe Edition)\n",
      "1215/1416 : 5vfoqFiW6wXwhwa7r523Iq Long Distance Runaround - 2003 Remaster Yes Fragile (Deluxe Edition)\n"
     ]
    },
    {
     "name": "stdout",
     "output_type": "stream",
     "text": [
      "1216/1416 : 7nxmJPzgJZIG2dGBEV0U0G Mood for a Day - 2003 Remaster Yes Fragile (Deluxe Edition)\n",
      "1217/1416 : 0YveezON7jpiaHA8fnUHxN Roundabout - 2003 Remaster Yes Fragile (Deluxe Edition)\n",
      "1218/1416 : 1Bey85529sRbLZHMLsrhAd South Side of the Sky - 2003 Remaster Yes Fragile (Deluxe Edition)\n"
     ]
    },
    {
     "name": "stdout",
     "output_type": "stream",
     "text": [
      "1219/1416 : 6VGX9kEqcMZfAzfETmSn9h The Fish (Schindleria Praemeturus) - 2003 Remaster Yes Fragile (Deluxe Edition)\n",
      "1220/1416 : 6avltRfZeoNa2zWipWNIyp We Have Heaven - 2003 Remaster Yes Fragile (Deluxe Edition)\n"
     ]
    },
    {
     "name": "stdout",
     "output_type": "stream",
     "text": [
      "1221/1416 : 0GTK6TesV108Jj5D3MHsYb Owner of a Lonely Heart Yes 90125 (Deluxe Version)\n"
     ]
    },
    {
     "name": "stdout",
     "output_type": "stream",
     "text": [
      "1222/1416 : 4WXonXXm3lEkMyBUlt64ZK Into the Light (feat. Isaac Delusion) Yuksek NOSSO RITMO\n",
      "1223/1416 : 3uVCaMWl32pWCGimHuH486 Ayla Yussef Kamaal Black Focus\n"
     ]
    },
    {
     "name": "stdout",
     "output_type": "stream",
     "text": [
      "1224/1416 : 5yPowIqdVPFaBvBmhoLE0Y Strings of Light Yussef Kamaal Black Focus\n",
      "1225/1416 : 7hWNPHEFIM7Odz4JvdnGZw Joint 17 Yussef Kamaal Black Focus\n",
      "1226/1416 : 5wdF0EcXNfyoMMAXzgc9Ib Lowrider Yussef Kamaal Black Focus\n"
     ]
    },
    {
     "name": "stdout",
     "output_type": "stream",
     "text": [
      "1227/1416 : 10Yc0jL0o7IBBhUm7K0dTH Mansur's Message Yussef Kamaal Black Focus\n",
      "1228/1416 : 1eFKv7wfLsgI6klAUuaGda O.G. Yussef Kamaal Black Focus\n"
     ]
    },
    {
     "name": "stdout",
     "output_type": "stream",
     "text": [
      "1229/1416 : 0t6pM6f3bwiNetWnXekj56 Remembrance Yussef Kamaal Black Focus\n",
      "1230/1416 : 5yPowIqdVPFaBvBmhoLE0Y Strings of Light Yussef Kamaal Black Focus\n"
     ]
    },
    {
     "name": "stdout",
     "output_type": "stream",
     "text": [
      "1231/1416 : 08nUFYF2WEXAeUQrg9DREX WingTai Drums Yussef Kamaal Black Focus\n",
      "1232/1416 : 0jXz7o8Drqf0819TyDfJXv Yo Chavez Yussef Kamaal Black Focus\n"
     ]
    },
    {
     "name": "stdout",
     "output_type": "stream",
     "text": [
      "1233/1416 : 6xjNioXsWUYOduKYUrjuEX Bad Girl - 2008 Remaster ZZ Top Eliminator\n",
      "1234/1416 : 0OBwxFLu6Yj61s2OagYbgY Gimme All Your Lovin' ZZ Top Eliminator\n"
     ]
    },
    {
     "name": "stdout",
     "output_type": "stream",
     "text": [
      "1235/1416 : 1jzZZsfzxsebFa6KpWXaAr Got Me Under Pressure - 2008 Remaster ZZ Top Eliminator\n",
      "1236/1416 : 2WcnvJKsp1aYs8xp2nJyDN I Got the Six - 2008 Remaster ZZ Top Eliminator\n"
     ]
    },
    {
     "name": "stdout",
     "output_type": "stream",
     "text": [
      "1237/1416 : 4s22XSQoOFvN5HrXk9YZ3I I Need You Tonight - 2008 Remaster ZZ Top Eliminator\n",
      "1238/1416 : 12kRyzNezk2nE2EzJ2nq2l If I Could Only Flag Her Down - 2008 Remaster ZZ Top Eliminator\n"
     ]
    },
    {
     "name": "stdout",
     "output_type": "stream",
     "text": [
      "1239/1416 : 7t6CAWplijBj4sdl0q3z0e Legs - 2008 Remaster ZZ Top Eliminator\n"
     ]
    },
    {
     "name": "stdout",
     "output_type": "stream",
     "text": [
      "1240/1416 : 1UBQ5GK8JaQjm5VbkBZY66 Sharp Dressed Man - 2008 Remaster ZZ Top Eliminator\n",
      "ZZ Top Thugs Eliminator not in spotify\n",
      "1242/1416 : 4c0IaYoW94OEFhJE40zcQb TV Dinners - 2008 Remaster ZZ Top Eliminator\n"
     ]
    },
    {
     "name": "stdout",
     "output_type": "stream",
     "text": [
      "La P'tite Fumée Thunderbreizh N/A not in spotify\n",
      "1244/1416 : 2DMZ7rhk2LZvP6Gy8vthH5 Thunderstruck Steve ´n´ Seagulls Farm Machine\n"
     ]
    },
    {
     "name": "stdout",
     "output_type": "stream",
     "text": [
      "1245/1416 : 6uz6av7zptcxukBeOeyOUw Pavane for a Dead Princess in E Major Maurice Ravel Ravel: Valse Nobles and Sentimentale, Bolero, Rhapsody Espagnole & Pavane\n",
      "1246/1416 : 3lfJ9FXSUGiebv64FBZWSF Working Class Marina P Summer on Mars\n",
      "1247/1416 : 6KPtgitVM6cMKfYzP41noy Atmosphere Marina P Summer on Mars\n"
     ]
    },
    {
     "name": "stdout",
     "output_type": "stream",
     "text": [
      "1248/1416 : 6GU2ayVB0BaOYjU5rnw51P Landlord Marina P Summer on Mars\n",
      "1249/1416 : 4uQFtxsyvWF3CKnqqfgxZu Fragile Marina P Summer on Mars\n",
      "1250/1416 : 5wkoKVmPgDIdyepOm8kEl6 Spring Rain Marina P Summer on Mars\n"
     ]
    },
    {
     "name": "stdout",
     "output_type": "stream",
     "text": [
      "1251/1416 : 68w0Ug9wMQw4muHjZPRETf Dreamcatcher Marina P Summer on Mars\n",
      "1252/1416 : 3ovM4e8xrTj6PDKiQptl5w Raw Lines Marina P Summer on Mars\n",
      "1253/1416 : 68w0Ug9wMQw4muHjZPRETf Dreamcatcher Marina P Summer on Mars\n"
     ]
    },
    {
     "name": "stdout",
     "output_type": "stream",
     "text": [
      "1254/1416 : 2QaZaqMv0kE876kOYA0XdL Rosetta Marina P Summer on Mars\n",
      "Powerwolf Fire & Forgive The Sacrement of Sin not in spotify\n",
      "Powerwolf Demons Are a Girl's Best Friend The Sacrement of Sin not in spotify\n"
     ]
    },
    {
     "name": "stdout",
     "output_type": "stream",
     "text": [
      "Powerwolf Killers with the Cross The Sacrement of Sin not in spotify\n",
      "Powerwolf Incense & iron The Sacrement of Sin not in spotify\n",
      "Powerwolf Where the Wild Wolves Have Gone The Sacrement of Sin not in spotify\n"
     ]
    },
    {
     "name": "stdout",
     "output_type": "stream",
     "text": [
      "Powerwolf Stossgebet The Sacrement of Sin not in spotify\n",
      "Powerwolf Nightside of Siberia The Sacrement of Sin not in spotify\n",
      "Powerwolf The Sacrement of Sin The Sacrement of Sin not in spotify\n",
      "Powerwolf Venom of Venus The Sacrement of Sin not in spotify\n"
     ]
    },
    {
     "name": "stdout",
     "output_type": "stream",
     "text": [
      "Powerwolf Nighttime Rebel The Sacrement of Sin not in spotify\n",
      "Powerwolf Fist by Fist (Sacralize or Strike) The Sacrement of Sin not in spotify\n",
      "1266/1416 : 7CcaktZZsdb8AWPdhDM38f Pariah Steven Wilson To The Bone\n"
     ]
    },
    {
     "name": "stdout",
     "output_type": "stream",
     "text": [
      "1267/1416 : 6IyWD0fAwt05ee3emHHXkn Nowhere Now Steven Wilson To The Bone\n",
      "1268/1416 : 7CcaktZZsdb8AWPdhDM38f Pariah Steven Wilson To The Bone\n",
      "1269/1416 : 5EYEOZLyr1XuHzW5ZPLkFD The Same Asylum As Before Steven Wilson To The Bone\n"
     ]
    },
    {
     "name": "stdout",
     "output_type": "stream",
     "text": [
      "1270/1416 : 3lxD0l11Oog4UUZe24SrkG Refuge Steven Wilson To The Bone\n",
      "1271/1416 : 1tzCbOeyoKtCNkynz4HmQk Permanating Steven Wilson To The Bone\n",
      "1272/1416 : 0PaCLduwMvGn19BNUHq0L1 Blank Tapes Steven Wilson To The Bone\n"
     ]
    },
    {
     "name": "stdout",
     "output_type": "stream",
     "text": [
      "1273/1416 : 5LlhPAV6Wtwc3veHr4u2ZB People Who Eat Darkness Steven Wilson To The Bone\n",
      "1274/1416 : 0rHyrUwNjEJKRywss2MvTm Song Of I Steven Wilson To The Bone\n",
      "1275/1416 : 5ZcxDZkfflzvZ5nJPyzXZs Detonation Steven Wilson To The Bone\n"
     ]
    },
    {
     "name": "stdout",
     "output_type": "stream",
     "text": [
      "1276/1416 : 6bHiGzAT6lxyWRBXd6lVRF Song Of Unborn Steven Wilson To The Bone\n",
      "1277/1416 : 46bxbxG8YnnjZvjfGvZXbj Blank Tapes From Indian Lakes Everything Feels Better Now\n",
      "Jul Folie La machine not in spotify\n",
      "Début de Soirée Nuit de Folie Jardins d'enfants not in spotify\n"
     ]
    },
    {
     "name": "stdout",
     "output_type": "stream",
     "text": [
      "1280/1416 : 7ek0WEbzMQ0iKXzxsDJiXg Aight Caballero Laisse Nous Faire Vol. 1\n",
      "1281/1416 : 2ZxW0Z5ua6h89t8ZprzgAo Foume ça Caballero Laisse Nous Faire Vol. 1\n"
     ]
    },
    {
     "name": "stdout",
     "output_type": "stream",
     "text": [
      "1282/1416 : 5gPzd9ClcSNOD1pXzZkPd6 Flottements (feat. Tonino) Caballero Laisse Nous Faire Vol. 1\n",
      "1283/1416 : 1QXNFb6gNLIvgUhJWJZsLu C'est Aussi Simple Que ça Caballero Laisse Nous Faire Vol. 1\n",
      "1284/1416 : 6KdNDBWPRoHwXyyaS8u8AR Inner Démons (feat. Alpha Wann) Caballero Laisse Nous Faire Vol. 1\n"
     ]
    },
    {
     "name": "stdout",
     "output_type": "stream",
     "text": [
      "1285/1416 : 6QjDQONUpk41pUsaHcqHh6 Profondeurs (feat. Jeanjass) Caballero Laisse Nous Faire Vol. 1\n",
      "1286/1416 : 6vG43ypSsKjo82VqE90a0w Medley Goku Caballero Laisse Nous Faire Vol. 1\n",
      "1287/1416 : 5YCgn8qR7z0Oi2TeFvCB6L Chiens Des Villes Caballero Laisse Nous Faire Vol. 1\n"
     ]
    },
    {
     "name": "stdout",
     "output_type": "stream",
     "text": [
      "1288/1416 : 0uXKTY1IaVHaVpcdFsiHWv Viens Voir (feat. Perso) Caballero Laisse Nous Faire Vol. 1\n",
      "1289/1416 : 1FH4bwLfjNMbgSC5UMQyyQ Discret Mais Efficace (feat. Seven & Sima) Caballero Laisse Nous Faire Vol. 1\n",
      "1290/1416 : 7nipxhnG4w62JAtOI5W3VC Médaille D'or (feat. Lomepal & Doums) Caballero Laisse Nous Faire Vol. 1\n"
     ]
    },
    {
     "name": "stdout",
     "output_type": "stream",
     "text": [
      "1291/1416 : 14t6TOsH17hobA3iE1iszr Otaku (feat. Neshga & Senamo) Caballero Laisse Nous Faire Vol. 1\n",
      "1292/1416 : 2Nvq8DdvQaooWm5SXTWFG5 Medley Vegeta Caballero Laisse Nous Faire Vol. 1\n",
      "1293/1416 : 76ja4bAH6llTY7s1lkwWoQ Mission Accomplie Caballero Laisse Nous Faire Vol. 1\n"
     ]
    },
    {
     "name": "stdout",
     "output_type": "stream",
     "text": [
      "1294/1416 : 43GwFZxQHKGw3CVnM29wTT Sortez Couverts (feat. Arabesk) Caballero Laisse Nous Faire Vol. 1\n",
      "1295/1416 : 4TxBA5CECuHyPFPFFq6mJE Patinoire (feat. Sima) Caballero Laisse Nous Faire Vol. 1\n",
      "1296/1416 : 5fjuEHSIGyNgyW5ynEPlgb Téléportation (feat. Les Corbeaux) Caballero Laisse Nous Faire Vol. 1\n"
     ]
    },
    {
     "name": "stdout",
     "output_type": "stream",
     "text": [
      "1297/1416 : 3sLc3RUuVw3yq225J8pTaf Mailles Du Filet (feat. Lomepal) Caballero Laisse Nous Faire Vol. 1\n",
      "1298/1416 : 3r1sjHzXbwLjOikglWnOUM Il Suffit (feat. Jeanjass) Caballero Laisse Nous Faire Vol. 1\n",
      "1299/1416 : 7fLtcNaBtwMLx1by2vczEy Baby Funk Caballero Laisse Nous Faire Vol. 1\n"
     ]
    },
    {
     "name": "stdout",
     "output_type": "stream",
     "text": [
      "1300/1416 : 2Jq2YNqNU4zdlNIISW6BjB Bout Du Tunnel (feat. Jcr) Caballero Laisse Nous Faire Vol. 1\n",
      "1301/1416 : 1p1Kz4or5x37QvxZ1dQE0q Qu'est-Ce Que Tu Nous Proposes ? (feat. Jeanjass, Alpha Wann & Ysha) Caballero Laisse Nous Faire Vol. 1\n",
      "1302/1416 : 494q3O9UXgoO5Ny8sU8jUY Le Freestyle De La Cigarette Fumante Caballero Laisse Nous Faire Vol. 1\n"
     ]
    },
    {
     "name": "stdout",
     "output_type": "stream",
     "text": [
      "1303/1416 : 6jZigSdBjou8UjTmo0qIPn Learning to Swim The Skints Swimming Lessons\n",
      "1304/1416 : 6Pivf1vb0CqdocaQDoaAP2 Restless The Skints Swimming Lessons\n",
      "1305/1416 : 79o3E0w2LxEE1xFa3rSQDI Gets on Top The Skints Swimming Lessons\n"
     ]
    },
    {
     "name": "stdout",
     "output_type": "stream",
     "text": [
      "1306/1416 : 5JjhxNp40aX982GU7Mqtze New Kind of Friend The Skints Swimming Lessons\n",
      "1307/1416 : 69C44oYQBEteub1apzAOAW This is an Interlude The Skints Swimming Lessons\n"
     ]
    },
    {
     "name": "stdout",
     "output_type": "stream",
     "text": [
      "The Skints What Did I Learned Today? Swimming Lessons not in spotify\n",
      "1309/1416 : 4s4qkPt2enoBT0AvAVOkOo Oh My Love The Skints Swimming Lessons\n",
      "1310/1416 : 4fookAEFrK1ROLsH2pSiak The Island The Skints Swimming Lessons\n"
     ]
    },
    {
     "name": "stdout",
     "output_type": "stream",
     "text": [
      "1311/1416 : 7ItGWAFE1mL5zRY2FP7sbH I'm a Fool The Skints Swimming Lessons\n",
      "1312/1416 : 6oLkjvoxlMBTvkZp80qr8j Armageddon The Skints Swimming Lessons\n",
      "1313/1416 : 67dUbEzM08T33e1cJwqWOf Donkey Brain The Skints Swimming Lessons\n",
      "1314/1416 : 1Fv3HXp8X6ca1mBAnPRgY8 La La La The Skints Swimming Lessons\n"
     ]
    },
    {
     "name": "stdout",
     "output_type": "stream",
     "text": [
      "1315/1416 : 6wLD6BlEDdtVsAcQvpGZTb Love is the Devil The Skints Swimming Lessons\n",
      "1316/1416 : 4fehscYU2DqceDaxDtbk74 Stop Looking Back The Skints Swimming Lessons\n",
      "1317/1416 : 4TKffnyk1K3iqvsPrnXrEC Boots Of Chinese Plastic Pretenders Break Up The Concrete\n"
     ]
    },
    {
     "name": "stdout",
     "output_type": "stream",
     "text": [
      "1318/1416 : 03uIR0PWx0Zm4l7syQQobA The Nothing Maker Pretenders Break Up The Concrete\n",
      "1319/1416 : 79rwPijJE1nVf4lOQnVyr8 Don't Lose Faith In Me Pretenders Break Up The Concrete\n",
      "1320/1416 : 5XDUmQ0qmUsFJKGNNxqyxX Don't Cut Your Hair Pretenders Break Up The Concrete\n"
     ]
    },
    {
     "name": "stdout",
     "output_type": "stream",
     "text": [
      "1321/1416 : 2x9pImX7KDnslA7CtQa29x Love's A Mystery Pretenders Break Up The Concrete\n",
      "1322/1416 : 4u7ES1IfuCthfQ1IXUdMwu The Last Ride Pretenders Break Up The Concrete\n",
      "1323/1416 : 0Qbx7vIuaJ9XSRrIBpDs75 Almost Perfect Pretenders Break Up The Concrete\n"
     ]
    },
    {
     "name": "stdout",
     "output_type": "stream",
     "text": [
      "1324/1416 : 7LdBn9S03IGrFxlpFJtqct You Didn't Have To Pretenders Break Up The Concrete\n",
      "1325/1416 : 6ETWkzDLHBdUWYTACURfSd Rosalee Pretenders Break Up The Concrete\n",
      "1326/1416 : 4TKffnyk1K3iqvsPrnXrEC Boots Of Chinese Plastic Pretenders Break Up The Concrete\n"
     ]
    },
    {
     "name": "stdout",
     "output_type": "stream",
     "text": [
      "1327/1416 : 768lAvT6IHptGX8yR6r4aq One Thing Never Changed Pretenders Break Up The Concrete\n",
      "1328/1416 : 623rRTKwGmgjH6sjE9uWLh Scatman (ski-ba-bop-ba-dop-bop) Scatman John Scatman's World\n",
      "1329/1416 : 623rRTKwGmgjH6sjE9uWLh Scatman (ski-ba-bop-ba-dop-bop) Scatman John Scatman's World\n"
     ]
    },
    {
     "name": "stdout",
     "output_type": "stream",
     "text": [
      "1330/1416 : 2SgbR6ttzoNlCRGQOKjrop Cowboys from Hell Pantera Cowboys from Hell\n",
      "1331/1416 : 6lJJcUjhsp0TJRuzUIPOYO Primal Concrete Sledge Pantera Cowboys from Hell\n",
      "1332/1416 : 5JCZHWdFLg2rXtg684rTHt Psycho Holiday Pantera Cowboys from Hell\n"
     ]
    },
    {
     "name": "stdout",
     "output_type": "stream",
     "text": [
      "1333/1416 : 4c6yZLnA730uJgQf9fTW2M Heresy Pantera Cowboys from Hell\n",
      "1334/1416 : 4vJr55lngvhSM8WIh9CjQc Cemetery Gates Pantera Cowboys from Hell\n",
      "1335/1416 : 769cLRTw2y6KRdkFWFkxtu Domination Pantera Cowboys from Hell\n"
     ]
    },
    {
     "name": "stdout",
     "output_type": "stream",
     "text": [
      "1336/1416 : 5APqyicPSWwJgFH8D9a8i3 Shattered Pantera Cowboys from Hell\n"
     ]
    },
    {
     "name": "stdout",
     "output_type": "stream",
     "text": [
      "1337/1416 : 25UznYxMoMzQd4S963GMkp The Future of Warfare Sabaton The Great War\n",
      "1338/1416 : 6kiASFX63DwJ7grwKG2HUX Seven Pillars of Wisdom Sabaton The Great War\n",
      "1339/1416 : 4zvXVO0SrMYIMHVGdOm0DA 82nd All the Way Sabaton The Great War\n"
     ]
    },
    {
     "name": "stdout",
     "output_type": "stream",
     "text": [
      "1340/1416 : 0pjIkwwUFLCGqLY90Jp3bH Devil Dogs Sabaton The Great War\n",
      "1341/1416 : 0ePmfd8y7g4zs3E6ew7pDB The Red Baron Sabaton The Great War\n",
      "1342/1416 : 4fmr8c3rh0dUKjw14UGfaH Great War Sabaton The Great War\n"
     ]
    },
    {
     "name": "stdout",
     "output_type": "stream",
     "text": [
      "1343/1416 : 6wWnwIrwPV32hKQouXpasL A Ghost in the Trenches Sabaton The Great War\n",
      "1344/1416 : 2VS1jveuhfU7Latlgfh62T Fields of Verdun Sabaton The Great War\n",
      "1345/1416 : 6aQBOvi6WUZK1l62Umun8L The End of the War to End All Wars Sabaton The Great War\n"
     ]
    },
    {
     "name": "stdout",
     "output_type": "stream",
     "text": [
      "1346/1416 : 5RhPNWj5NCJO0rYYpvban5 In Flanders Fields Sabaton The Great War\n",
      "1347/1416 : 0dEIca2nhcxDUV8C5QkPYb Give Life Back to Music Daft Punk Random Access Memories\n",
      "1348/1416 : 3ctALmweZBapfBdFiIVpji The Game of Love Daft Punk Random Access Memories\n"
     ]
    },
    {
     "name": "stdout",
     "output_type": "stream",
     "text": [
      "1349/1416 : 7Bxv0WL7UC6WwQpk9TzdMJ Within Daft Punk Random Access Memories\n",
      "1350/1416 : 2cGxRwrMyEAp8dEbuZaVv6 Instant Crush (feat. Julian Casablancas) Daft Punk Random Access Memories\n",
      "1351/1416 : 5CMjjywI0eZMixPeqNd75R Lose Yourself to Dance (feat. Pharrell Williams) Daft Punk Random Access Memories\n"
     ]
    },
    {
     "name": "stdout",
     "output_type": "stream",
     "text": [
      "1352/1416 : 7oaEjLP2dTJLJsITbAxTOz Touch (feat. Paul Williams) Daft Punk Random Access Memories\n",
      "1353/1416 : 69kOkLUCkxIZYexIgSG8rq Get Lucky (feat. Pharrell Williams & Nile Rodgers) Daft Punk Random Access Memories\n",
      "1354/1416 : 0k1xMUwn9sb7bZiqdT9ygx Beyond Daft Punk Random Access Memories\n"
     ]
    },
    {
     "name": "stdout",
     "output_type": "stream",
     "text": [
      "1355/1416 : 79koEJRtKOOGJ0VSAF3FMk Motherboard Daft Punk Random Access Memories\n",
      "1356/1416 : 0IedgQjjJ8Ad4B3UDQ5Lyn Fragments of Time (feat. Todd Edwards) Daft Punk Random Access Memories\n",
      "1357/1416 : 36c4JohayB9qd64eidQMBi Doin' it Right (feat. Panda Bear) Daft Punk Random Access Memories\n"
     ]
    },
    {
     "name": "stdout",
     "output_type": "stream",
     "text": [
      "1358/1416 : 2KHRENHQzTIQ001nlP9Gdc Contact Daft Punk Random Access Memories\n",
      "1359/1416 : 5s8IEEjgCTrujK3aUalvfF Burn - 2002 Remaster Deep Purple Burn (Expanded 2005 Remaster)\n",
      "1360/1416 : 2yBVeksU2EtrPJbTu4ZslK What a Fool Believes The Doobie Brothers Minute by Minute\n"
     ]
    },
    {
     "name": "stdout",
     "output_type": "stream",
     "text": [
      "1361/1416 : 0M1pfDTZGWC7cBuEx3FwwT Blackened (Remastered) Metallica ...And Justice for All (Remastered)\n",
      "1362/1416 : 0LAcM6I7ijW4VVW0aytl1t One (Remastered) Metallica ...And Justice for All (Remastered Deluxe Box Set)\n"
     ]
    },
    {
     "name": "stdout",
     "output_type": "stream",
     "text": [
      "1363/1416 : 1WnEyhN7Gdu23DQvUZkQy8 Eye of the Beholder (Remastered) Metallica ...And Justice for All (Remastered Deluxe Box Set)\n",
      "1364/1416 : 0LAcM6I7ijW4VVW0aytl1t One (Remastered) Metallica ...And Justice for All (Remastered Deluxe Box Set)\n",
      "1365/1416 : 2Rn5VhDVELkuB4BjZEVJKr The Shortest Straw (Remastered) Metallica ...And Justice for All (Remastered Deluxe Box Set)\n"
     ]
    },
    {
     "name": "stdout",
     "output_type": "stream",
     "text": [
      "1366/1416 : 3IolN0Ae207i0Fr9IHuNbu Harvester of Sorrow (Remastered) Metallica ...And Justice for All (Remastered)\n",
      "1367/1416 : 2ZTequNqaDxvv5N7tFrsl9 The Frayed Ends of Sanity (Remastered) Metallica ...And Justice for All (Remastered Deluxe Box Set)\n",
      "1368/1416 : 1kI7gQPOHJRrQWMyDvYdUW To Live Is to Die (Remastered) Metallica ...And Justice for All (Remastered)\n"
     ]
    },
    {
     "name": "stdout",
     "output_type": "stream",
     "text": [
      "1369/1416 : 4bAQzjDk9ONZ8gvm5YKEGE Dyers Eve (Remastered) Metallica ...And Justice for All (Remastered)\n",
      "1370/1416 : 7lS4Kp6wf8oKDhvRquyQ81 Hurra Hurra Die Pest Ist Da Feuerschwanz Metvernichter\n",
      "1371/1416 : 2SPI1dXVaZvR4qlwbzxdcC Cornflake Psychedelic Porn Crumpets High Visceral, Pt. 1\n"
     ]
    },
    {
     "name": "stdout",
     "output_type": "stream",
     "text": [
      "1372/1416 : 6pmnLlu0OhMNFXEEgkiYEX Cubensis Lenses Psychedelic Porn Crumpets High Visceral, Pt. 1\n",
      "1373/1416 : 19n2inOfXSxHlBuygEdCZV Marmalade March Psychedelic Porn Crumpets High Visceral, Pt. 1\n",
      "1374/1416 : 3038NH8wdXx0owuMdVTTrI ..and the Addled Abstraction of Being Psychedelic Porn Crumpets High Visceral, Pt. 1\n"
     ]
    },
    {
     "name": "stdout",
     "output_type": "stream",
     "text": [
      "1375/1416 : 4xBFKgS6VAmpmeoG0WJ9Pl Found God in a Tomato Psychedelic Porn Crumpets High Visceral, Pt. 1\n"
     ]
    },
    {
     "name": "stdout",
     "output_type": "stream",
     "text": [
      "1376/1416 : 0NBcMaT9LFP0CQ87NqTiVC Surf's Up Psychedelic Porn Crumpets High Visceral, Pt. 1\n",
      "1377/1416 : 2acY3t1ZKAi3t6xVjWVktd Gallop to Southport Psychedelic Porn Crumpets High Visceral, Pt. 1\n",
      "1378/1416 : 4xBFKgS6VAmpmeoG0WJ9Pl Found God in a Tomato Psychedelic Porn Crumpets High Visceral, Pt. 1\n"
     ]
    },
    {
     "name": "stdout",
     "output_type": "stream",
     "text": [
      "1379/1416 : 61iUB6sUL3ARJ0phDHaCGK Entropy Psychedelic Porn Crumpets High Visceral, Pt. 1\n",
      "1380/1416 : 7sP57RtB31LWReHyQ02RxX Denmark / Van Gogh & Gone Psychedelic Porn Crumpets High Visceral, Pt. 1\n",
      "1381/1416 : 0Xhnby7DAJ026HpMYdEbSD No More Lies - 2015 Remaster Iron Maiden Dance of Death (2015 - Remaster)\n"
     ]
    },
    {
     "name": "stdout",
     "output_type": "stream",
     "text": [
      "1382/1416 : 6gXNdxtSOcErDuXagBUdkz Saturnine Arch Enemy Will To Power\n",
      "1383/1416 : 478d70Vg2ljAG28eeDp2w5 Rize of the Fenix Tenacious D Rize Of The Fenix\n",
      "Die Ärtze Ist das noch Punkrock? Auch not in spotify\n"
     ]
    },
    {
     "name": "stdout",
     "output_type": "stream",
     "text": [
      "1385/1416 : 2RZWdE8kYPlCAcRUYDeuLC Red Flag Billy Talent Billy Talent II\n",
      "1386/1416 : 3jUTjCISntIUFL8jnAjzgc Fallen Leaves Billy Talent Billy Talent II\n",
      "1387/1416 : 5JWDt4NZNiZQR8iMenaa7h Hand Of Blood Bullet For My Valentine Hand Of Blood\n"
     ]
    },
    {
     "name": "stdout",
     "output_type": "stream",
     "text": [
      "1388/1416 : 0wHNrrefyaeVewm4NxjxrX Make It Stop (September's Children) Rise Against Endgame\n",
      "1389/1416 : 1Qdnvn4XlmZANCVy3XjrQo Show Me How to Live Audioslave Audioslave\n",
      "1390/1416 : 5MZrOnwTMwnUqAMxTNnV7t Heaven Nor Hell Volbeat Beyond Hell / Above Heaven\n"
     ]
    },
    {
     "name": "stdout",
     "output_type": "stream",
     "text": [
      "1391/1416 : 0KJ8O3NjYF3ypDAUSEVFfg I Married an Angel Chet Baker Chet Baker & Strings\n",
      "Lalo Schifrin Serenata Steal Away not in spotify\n",
      "1393/1416 : 2nLtzopw4rPReszdYBJU6h Numb Linkin Park Meteora\n",
      "1394/1416 : 15f16lrsDzFeNpHYBTzHLI SEX Rammstein RAMMSTEIN\n"
     ]
    },
    {
     "name": "stdout",
     "output_type": "stream",
     "text": [
      "1395/1416 : 7uqohNjCnZ8sZd5S2vh5vx First Day in Hell Arch Enemy Will To Power\n",
      "1396/1416 : 0N10gGHn8GYH8QYyFFnqRa The Huntsman Butcher Babies Lilith\n",
      "1397/1416 : 7dEQgmYcZSVWsHmutkOLDF All Right Now - Single Version Free The Free Story\n"
     ]
    },
    {
     "name": "stdout",
     "output_type": "stream",
     "text": [
      "1398/1416 : 18URo35acNKRTHfEdjTcGn Photograph Def Leppard Pyromania\n",
      "1399/1416 : 7snQQk1zcKl8gZ92AnueZW Sweet Child O' Mine Guns N' Roses Appetite For Destruction\n",
      "1400/1416 : 2zYzyRzz6pRmhPzyfMEC8s Highway to Hell AC/DC Highway to Hell\n"
     ]
    },
    {
     "name": "stdout",
     "output_type": "stream",
     "text": [
      "1401/1416 : 7LygtNjQ65PSdzVjUnHXQb Cherry Pie Warrant Cherry Pie\n",
      "1402/1416 : 4Y7fEQ4PAzhlLnLviRw2P4 Rockin' in the Free World Neil Young Freedom\n",
      "1403/1416 : 4KcH1ZRV2W1q7Flq0QqC76 Blitzkrieg Bop - 2016 Remaster Ramones Ramones (40th Anniversary Deluxe Edition; 2016 Remaster)\n"
     ]
    },
    {
     "name": "stdout",
     "output_type": "stream",
     "text": [
      "1404/1416 : 6eN1f9KNmiWEhpE2RhQqB5 Paradise City Guns N' Roses Appetite For Destruction\n",
      "1405/1416 : 57Xjny5yNzAcsxnusKmAfA Reptilia The Strokes Room On Fire\n",
      "1406/1416 : 1hqrYSqvNc9x3BETX1cZhk Shout At The Devil Mötley Crüe Shout At The Devil\n"
     ]
    },
    {
     "name": "stdout",
     "output_type": "stream",
     "text": [
      "1407/1416 : 05RgAMGypEvqhNs5hPCbMS Panama - 2015 Remaster Van Halen 1984 (Remastered)\n",
      "1408/1416 : 5QTxFnGygVM4jFQiBovmRo (Don't Fear) The Reaper Blue Öyster Cult Agents Of Fortune\n",
      "1409/1416 : 2PzU4IB8Dr6mxV3lHuaG34 (I Can't Get No) Satisfaction - Mono Version The Rolling Stones Out Of Our Heads\n"
     ]
    },
    {
     "name": "stdout",
     "output_type": "stream",
     "text": [
      "1410/1416 : 56lhDZNQ5J47aog6mGKeGk Thunder Road Bruce Springsteen Born To Run\n",
      "1411/1416 : 41AzqP02Aat8A8Orp5tGWh Come Out and Play The Offspring Smash (2008 Remaster)\n",
      "1412/1416 : 1G391cbiT3v3Cywg8T7DM1 Scar Tissue Red Hot Chili Peppers Californication (Deluxe Edition)\n"
     ]
    },
    {
     "name": "stdout",
     "output_type": "stream",
     "text": [
      "1413/1416 : 1W1GpfPujmgp2vQqcpUhtU Won't Get Fooled Again - Remix The Who Who's Next (Expanded Edition)\n",
      "1414/1416 : 7i6r9KotUPQg3ozKKgEPIN Seven Nation Army The White Stripes Elephant\n",
      "1415/1416 : 2K2M0TcglCRLLpFOzKeFZA Sunshine Of Your Love Cream Disraeli Gears (Deluxe Edition)\n"
     ]
    }
   ],
   "source": [
    "for idx, (label, content) in enumerate(df.iterrows()):\n",
    "    search = f\"{content.artist} {content.song} {content.album}\"\n",
    "    res = sp.search(search)\n",
    "    try:\n",
    "        track = res['tracks']['items'][0]\n",
    "    except IndexError as e:\n",
    "        print(f\"{search} not in spotify\")\n",
    "        continue\n",
    "    album = track['album']['name']\n",
    "    name = track['name']\n",
    "    artist = track['artists'][0]['name']\n",
    "    id = track['id']\n",
    "    print(f\"{idx:<3}/{len(df)} : {id} {name} {artist} {album}\")"
   ]
  },
  {
   "cell_type": "code",
   "execution_count": null,
   "metadata": {
    "collapsed": false
   },
   "outputs": [],
   "source": []
  }
 ],
 "metadata": {
  "kernelspec": {
   "argv": [
    "/home/gary/.virtualenvs/bot_dj/bin/python",
    "-m",
    "ipykernel_launcher",
    "-f",
    "{connection_file}"
   ],
   "display_name": "bot_dj",
   "env": null,
   "interrupt_mode": "signal",
   "language": "python",
   "metadata": null,
   "name": "bot_dj"
  },
  "name": "connect_spotify.ipynb"
 },
 "nbformat": 4,
 "nbformat_minor": 4
}
