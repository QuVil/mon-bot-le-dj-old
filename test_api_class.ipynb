{
 "cells": [
  {
   "cell_type": "code",
   "execution_count": 30,
   "metadata": {
    "collapsed": false
   },
   "outputs": [],
   "source": [
    "import pandas as pd\n",
    "import pprint\n",
    "import base64"
   ]
  },
  {
   "cell_type": "code",
   "execution_count": 31,
   "metadata": {
    "collapsed": false
   },
   "outputs": [
    {
     "name": "stdout",
     "output_type": "stream",
     "text": [
      "The autoreload extension is already loaded. To reload it, use:\n",
      "  %reload_ext autoreload\n"
     ]
    }
   ],
   "source": [
    "# autoreload custom modules\n",
    "%load_ext autoreload\n",
    "%autoreload 2"
   ]
  },
  {
   "cell_type": "code",
   "execution_count": 32,
   "metadata": {
    "collapsed": false
   },
   "outputs": [],
   "source": [
    "from src.muzik import Muzik\n",
    "from prototyping.data import load_from_api\n",
    "from prototyping.playlist import create_playlist"
   ]
  },
  {
   "cell_type": "code",
   "execution_count": 33,
   "metadata": {
    "collapsed": false
   },
   "outputs": [
    {
     "name": "stdout",
     "output_type": "stream",
     "text": [
      "reading data from cache file cache/ids.pkl\n"
     ]
    }
   ],
   "source": [
    "muzik = Muzik()\n",
    "ids = muzik.ids"
   ]
  },
  {
   "cell_type": "code",
   "execution_count": 36,
   "metadata": {
    "collapsed": false
   },
   "outputs": [
    {
     "name": "stdout",
     "output_type": "stream",
     "text": [
      "Loading data from API...\n"
     ]
    },
    {
     "name": "stdout",
     "output_type": "stream",
     "text": [
      "Analyzing data...\n",
      "Creating playlist...\n"
     ]
    }
   ],
   "source": [
    "playlist = create_playlist()"
   ]
  },
  {
   "cell_type": "code",
   "execution_count": 34,
   "metadata": {
    "collapsed": false
   },
   "outputs": [],
   "source": [
    "ach = load_from_api()"
   ]
  },
  {
   "cell_type": "code",
   "execution_count": 35,
   "metadata": {
    "collapsed": false
   },
   "outputs": [],
   "source": [
    "# index preprocessing, should be done beforehand\n",
    "# (load_from_api)\n",
    "ach.set_index(['genre', 'sub_genre', 'artist', 'album', 'song'], inplace=True)"
   ]
  },
  {
   "cell_type": "code",
   "execution_count": 37,
   "metadata": {
    "collapsed": false
   },
   "outputs": [
    {
     "name": "stdout",
     "output_type": "stream",
     "text": [
      "\u001b[91m1 /30\u001b[0m : artist:\"Meshuggah\" album:\"Nothingg\" track:\"Rational Gaze\" not in Spotify\n",
      "\u001b[92m2 /30\u001b[0m : 5v5E4aWMODTrPG9JnU7V4w Un été de porcelaine Mort Shuman Les Plus Belles Chansons\n",
      "\u001b[92m3 /30\u001b[0m : 17X2d0BXk1sgVvH94JIiOR Qui saura Mike Brant 20eme anniversaire\n"
     ]
    },
    {
     "name": "stdout",
     "output_type": "stream",
     "text": [
      "\u001b[92m4 /30\u001b[0m : 6N6uTt8e1vLLgIZK5FgSYh Le paradis blanc - Remasterisé en 2002 Michel Berger Ca ne tient pas debout (Remasterisé en 2002)\n",
      "\u001b[92m5 /30\u001b[0m : 4FmiciU3ZmfgABlbCSXcWw La vie en rose Édith Piaf de l'accordeoniste a milord\n",
      "\u001b[92m6 /30\u001b[0m : 1GdtMDRiaF1EnG2LJpELme Une belle histoire Michel Fugain & Le Big Bazar Fais Comme L'Oiseau\n"
     ]
    },
    {
     "name": "stdout",
     "output_type": "stream",
     "text": [
      "\u001b[92m7 /30\u001b[0m : 6Mty8PpDhHWAMablVKjWnP Non je n'ai rien oublié Charles Aznavour Non, je n'ai rien oublié (Remastered 2014)\n",
      "\u001b[92m8 /30\u001b[0m : 6xs2iOXaBfCeVKeyfo2VNE Mon vieux Daniel Guichard Mon Vieux\n",
      "\u001b[92m9 /30\u001b[0m : 4W5hu2CaYOFfZQhKyLU01R Quand Je T’Aime Demis Roussos Demis Roussos Greatest Hits - Forever And Ever\n"
     ]
    },
    {
     "name": "stdout",
     "output_type": "stream",
     "text": [
      "\u001b[92m10/30\u001b[0m : 7w0uMCTE1TBIGfUYIYYjuL Chanter pour ceux qui sont loin de chez eux - Remasterisé en 2002 Michel Berger Différences (Remasterisé en 2002)\n",
      "\u001b[92m11/30\u001b[0m : 2KzUa9x2TNzHVsx4sVuHsx Encore et encore - Remastered Francis Cabrel Photos de voyages (Remastered)\n"
     ]
    },
    {
     "name": "stdout",
     "output_type": "stream",
     "text": [
      "\u001b[92m12/30\u001b[0m : 0BHd25s6kOqtmSHye7gtLu Je n'aurai pas le temps Michel Fugain Michel Fugain\n",
      "\u001b[92m13/30\u001b[0m : 6DFzpa0eHyEkvQ2oeewmA2 Déjeuner en paix Stephan Eicher Engelberg\n",
      "\u001b[92m14/30\u001b[0m : 6IRA4KOVbtiGiTdYoEThJN Ne me quitte pas Jacques Brel La Valse A Mille Temps (Vol.4)\n"
     ]
    },
    {
     "name": "stdout",
     "output_type": "stream",
     "text": [
      "\u001b[92m15/30\u001b[0m : 2GSzbxkuiK6bAAndtcwFHo Ces idées-là Bertignac Et Les Visiteurs Bertignac et les visiteurs\n",
      "\u001b[92m16/30\u001b[0m : 3N9Vibj1SwLn4SRtWJVDVO Ma préférence Julien Clerc Jaloux\n",
      "\u001b[92m17/30\u001b[0m : 1cbEUq5Rwe9LLFQyPKxurl Le chasseur Michel Delpech Le Chasseur\n"
     ]
    },
    {
     "name": "stdout",
     "output_type": "stream",
     "text": [
      "\u001b[92m18/30\u001b[0m : 6qbieXHVuCIIlzi55j6E5i Quelques mots d'amour - Remasterisé en 2002 Michel Berger Beauséjour (Remasterisé en 2002)\n",
      "\u001b[92m19/30\u001b[0m : 05ubSq0kbCEJ9phlfHRC4m Le chanteur Daniel Balavoine Le chanteur\n"
     ]
    },
    {
     "name": "stdout",
     "output_type": "stream",
     "text": [
      "\u001b[92m20/30\u001b[0m : 2kkuEKckbZRRZDbpFR5OuN Dans les yeux d'Emilie Joe Dassin Les Femmes De Ma Vie\n",
      "\u001b[92m21/30\u001b[0m : 1BrgjqSg9du0lj3TUMLluL To Hell and Back Sabaton Heroes\n",
      "\u001b[92m22/30\u001b[0m : 0bUgTRe5st6TMbRCEjKezX The Last Stand Sabaton The Last Stand\n",
      "\u001b[92m23/30\u001b[0m : 39m87lOMd5ccENPVvAT7gH Bismarck Sabaton Bismarck\n"
     ]
    },
    {
     "name": "stdout",
     "output_type": "stream",
     "text": [
      "\u001b[92m24/30\u001b[0m : 5DbAOJ5dYW5A9xBhkeb33t Primo Victoria Sabaton Primo Victoria (Re-Armed)\n",
      "\u001b[92m25/30\u001b[0m : 5XLTYAs2yTzd1nFJsxg0sv In the Army Now Sabaton In the Army Now\n",
      "\u001b[92m26/30\u001b[0m : 56evPx2RCixQrS0SynY4eG The Lion from the North - English Version Sabaton Carolus Rex (English Version) [Bonus Version]\n"
     ]
    },
    {
     "name": "stdout",
     "output_type": "stream",
     "text": [
      "\u001b[92m27/30\u001b[0m : 3NrV3jk5lXaQ57rmR2b53X Carolus Rex - English Version Sabaton Carolus Rex (English Version) [Bonus Version]\n",
      "\u001b[92m28/30\u001b[0m : 3jnHruDLurJOTxvSwOby7s Killing Ground - English Version Sabaton Carolus Rex (English Version) [Bonus Version]\n",
      "\u001b[92m29/30\u001b[0m : 3k6iqqVUBSBFXP8WLuoiCv Resist and Bite Sabaton Heroes\n"
     ]
    },
    {
     "name": "stdout",
     "output_type": "stream",
     "text": [
      "\u001b[92m30/30\u001b[0m : 0CpTNItafURRFujw9WAKfR Panzerkampf Sabaton The Art of War (Re-Armed)\n"
     ]
    }
   ],
   "source": [
    "muzik.update(ach)"
   ]
  },
  {
   "cell_type": "code",
   "execution_count": 41,
   "metadata": {
    "collapsed": false
   },
   "outputs": [
    {
     "name": "stdout",
     "output_type": "stream",
     "text": [
      "Using playlist Mon Bot le DJ : 5QQilE5IMN42PT3sBWO4Q0\n"
     ]
    }
   ],
   "source": [
    "pl = muzik.create_playlist(playlist)"
   ]
  },
  {
   "cell_type": "code",
   "execution_count": 17,
   "metadata": {
    "collapsed": false
   },
   "outputs": [
    {
     "data": {
      "text/plain": [
       "'2FO20qVkYkGZZEMkNtaHyp'"
      ]
     },
     "execution_count": 17,
     "metadata": {},
     "output_type": "execute_result"
    }
   ],
   "source": [
    "pl"
   ]
  }
 ],
 "metadata": {
  "kernelspec": {
   "argv": [
    "/home/gary/.virtualenvs/bot_dj/bin/python",
    "-m",
    "ipykernel_launcher",
    "-f",
    "{connection_file}"
   ],
   "display_name": "bot_dj",
   "env": null,
   "interrupt_mode": "signal",
   "language": "python",
   "metadata": null,
   "name": "bot_dj"
  },
  "name": "test_api_class.ipynb"
 },
 "nbformat": 4,
 "nbformat_minor": 4
}
