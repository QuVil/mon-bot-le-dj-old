{
 "cells": [
  {
   "cell_type": "code",
   "execution_count": 1,
   "metadata": {
    "collapsed": false
   },
   "outputs": [],
   "source": [
    "import spotipy\n",
    "from spotipy.oauth2 import SpotifyClientCredentials\n",
    "import json\n",
    "from googleapiclient.discovery import build\n",
    "from google.oauth2.service_account import Credentials"
   ]
  },
  {
   "cell_type": "code",
   "execution_count": 2,
   "metadata": {
    "collapsed": false
   },
   "outputs": [],
   "source": [
    "import pandas as pd\n",
    "import re\n",
    "import pprint"
   ]
  },
  {
   "cell_type": "markdown",
   "metadata": {
    "collapsed": false
   },
   "source": [
    "## Connexion a spotify"
   ]
  },
  {
   "cell_type": "code",
   "execution_count": 3,
   "metadata": {
    "collapsed": false
   },
   "outputs": [],
   "source": [
    "CRED_PATH_SPOTIFY = \"../credentials-spotify.json\""
   ]
  },
  {
   "cell_type": "code",
   "execution_count": 4,
   "metadata": {
    "collapsed": false
   },
   "outputs": [],
   "source": [
    "with open(CRED_PATH_SPOTIFY, 'r') as handle:\n",
    "    data = json.load(handle)"
   ]
  },
  {
   "cell_type": "code",
   "execution_count": 5,
   "metadata": {
    "collapsed": false
   },
   "outputs": [],
   "source": [
    "spotify = spotipy.Spotify(auth_manager=SpotifyClientCredentials(\n",
    "    **data\n",
    "))"
   ]
  },
  {
   "cell_type": "markdown",
   "metadata": {
    "collapsed": false
   },
   "source": [
    "## Connexion a google"
   ]
  },
  {
   "cell_type": "code",
   "execution_count": 6,
   "metadata": {
    "collapsed": false
   },
   "outputs": [],
   "source": [
    "CREDENTIALS_PATH_GOOGLE = \"../credentials-sheets.json\""
   ]
  },
  {
   "cell_type": "code",
   "execution_count": 7,
   "metadata": {
    "collapsed": false
   },
   "outputs": [],
   "source": [
    "SCOPES = ['https://www.googleapis.com/auth/spreadsheets.readonly']\n",
    "SPREADSHEET = '1b75J-QTGrujSgF9r0_JPOKkcXAwzFVwpETOAyVBw8ak'"
   ]
  },
  {
   "cell_type": "code",
   "execution_count": 29,
   "metadata": {
    "collapsed": false
   },
   "outputs": [],
   "source": [
    "# Load service account credentials.\n",
    "__credentials = Credentials.from_service_account_file(CREDENTIALS_PATH_GOOGLE, scopes=SCOPES)\n",
    "\n",
    "# Creates Google Sheets API (v4/latest) service.\n",
    "service = build('sheets', 'v4', credentials=__credentials)"
   ]
  },
  {
   "cell_type": "code",
   "execution_count": 30,
   "metadata": {
    "collapsed": false
   },
   "outputs": [],
   "source": [
    "values = service.spreadsheets().values().get(spreadsheetId=SPREADSHEET, range='Notations').execute()['values']\n",
    "headers = values.pop(0)"
   ]
  },
  {
   "cell_type": "code",
   "execution_count": 31,
   "metadata": {
    "collapsed": false
   },
   "outputs": [],
   "source": [
    "df = pd.DataFrame(values, columns=headers)"
   ]
  },
  {
   "cell_type": "markdown",
   "metadata": {
    "collapsed": false
   },
   "source": [
    "# DF preprocessing"
   ]
  },
  {
   "cell_type": "code",
   "execution_count": 32,
   "metadata": {
    "collapsed": false
   },
   "outputs": [],
   "source": [
    "df.set_index(['genre', 'sub_genre', 'artist', 'album', 'song'], inplace=True)\n",
    "df = df.apply(lambda s: s.str.replace(\",\", \".\"))\n",
    "df = df.apply(lambda s: pd.to_numeric(s, errors='coerce'))"
   ]
  },
  {
   "cell_type": "code",
   "execution_count": 33,
   "metadata": {
    "collapsed": false
   },
   "outputs": [
    {
     "data": {
      "text/html": [
       "<div>\n",
       "<style scoped>\n",
       "    .dataframe tbody tr th:only-of-type {\n",
       "        vertical-align: middle;\n",
       "    }\n",
       "\n",
       "    .dataframe tbody tr th {\n",
       "        vertical-align: top;\n",
       "    }\n",
       "\n",
       "    .dataframe thead th {\n",
       "        text-align: right;\n",
       "    }\n",
       "</style>\n",
       "<table border=\"1\" class=\"dataframe\">\n",
       "  <thead>\n",
       "    <tr style=\"text-align: right;\">\n",
       "      <th></th>\n",
       "      <th>ntQ</th>\n",
       "      <th>ntG</th>\n",
       "      <th>ntV</th>\n",
       "      <th>ntR</th>\n",
       "      <th>ntS</th>\n",
       "      <th>ntGl</th>\n",
       "      <th>ntRx</th>\n",
       "      <th>ntC</th>\n",
       "      <th>ntL</th>\n",
       "    </tr>\n",
       "  </thead>\n",
       "  <tbody>\n",
       "    <tr>\n",
       "      <th>count</th>\n",
       "      <td>1441.000000</td>\n",
       "      <td>706.000000</td>\n",
       "      <td>737.000000</td>\n",
       "      <td>217.000000</td>\n",
       "      <td>251.000000</td>\n",
       "      <td>113.000000</td>\n",
       "      <td>19.000000</td>\n",
       "      <td>20.000000</td>\n",
       "      <td>14.000000</td>\n",
       "    </tr>\n",
       "    <tr>\n",
       "      <th>mean</th>\n",
       "      <td>7.657009</td>\n",
       "      <td>8.072805</td>\n",
       "      <td>7.388738</td>\n",
       "      <td>7.733410</td>\n",
       "      <td>6.653586</td>\n",
       "      <td>7.484513</td>\n",
       "      <td>7.973684</td>\n",
       "      <td>6.435000</td>\n",
       "      <td>6.944286</td>\n",
       "    </tr>\n",
       "    <tr>\n",
       "      <th>std</th>\n",
       "      <td>1.340745</td>\n",
       "      <td>0.881173</td>\n",
       "      <td>1.343893</td>\n",
       "      <td>1.573626</td>\n",
       "      <td>1.945438</td>\n",
       "      <td>1.724949</td>\n",
       "      <td>2.288095</td>\n",
       "      <td>1.805044</td>\n",
       "      <td>3.057809</td>\n",
       "    </tr>\n",
       "    <tr>\n",
       "      <th>min</th>\n",
       "      <td>0.000000</td>\n",
       "      <td>1.000000</td>\n",
       "      <td>0.000000</td>\n",
       "      <td>0.100000</td>\n",
       "      <td>0.050000</td>\n",
       "      <td>0.000000</td>\n",
       "      <td>2.000000</td>\n",
       "      <td>0.000000</td>\n",
       "      <td>0.000000</td>\n",
       "    </tr>\n",
       "    <tr>\n",
       "      <th>25%</th>\n",
       "      <td>7.250000</td>\n",
       "      <td>7.500000</td>\n",
       "      <td>7.000000</td>\n",
       "      <td>7.300000</td>\n",
       "      <td>5.000000</td>\n",
       "      <td>7.000000</td>\n",
       "      <td>7.500000</td>\n",
       "      <td>5.950000</td>\n",
       "      <td>6.847500</td>\n",
       "    </tr>\n",
       "    <tr>\n",
       "      <th>50%</th>\n",
       "      <td>8.000000</td>\n",
       "      <td>8.250000</td>\n",
       "      <td>7.500000</td>\n",
       "      <td>8.000000</td>\n",
       "      <td>7.000000</td>\n",
       "      <td>7.500000</td>\n",
       "      <td>8.000000</td>\n",
       "      <td>6.625000</td>\n",
       "      <td>8.000000</td>\n",
       "    </tr>\n",
       "    <tr>\n",
       "      <th>75%</th>\n",
       "      <td>8.500000</td>\n",
       "      <td>8.750000</td>\n",
       "      <td>8.500000</td>\n",
       "      <td>8.700000</td>\n",
       "      <td>8.000000</td>\n",
       "      <td>8.500000</td>\n",
       "      <td>10.000000</td>\n",
       "      <td>7.375000</td>\n",
       "      <td>8.875000</td>\n",
       "    </tr>\n",
       "    <tr>\n",
       "      <th>max</th>\n",
       "      <td>10.000000</td>\n",
       "      <td>9.500000</td>\n",
       "      <td>9.750000</td>\n",
       "      <td>9.700000</td>\n",
       "      <td>10.000000</td>\n",
       "      <td>10.000000</td>\n",
       "      <td>10.000000</td>\n",
       "      <td>8.750000</td>\n",
       "      <td>9.330000</td>\n",
       "    </tr>\n",
       "  </tbody>\n",
       "</table>\n",
       "</div>"
      ],
      "text/plain": [
       "               ntQ         ntG         ntV         ntR         ntS  \\\n",
       "count  1441.000000  706.000000  737.000000  217.000000  251.000000   \n",
       "mean      7.657009    8.072805    7.388738    7.733410    6.653586   \n",
       "std       1.340745    0.881173    1.343893    1.573626    1.945438   \n",
       "min       0.000000    1.000000    0.000000    0.100000    0.050000   \n",
       "25%       7.250000    7.500000    7.000000    7.300000    5.000000   \n",
       "50%       8.000000    8.250000    7.500000    8.000000    7.000000   \n",
       "75%       8.500000    8.750000    8.500000    8.700000    8.000000   \n",
       "max      10.000000    9.500000    9.750000    9.700000   10.000000   \n",
       "\n",
       "             ntGl       ntRx        ntC        ntL  \n",
       "count  113.000000  19.000000  20.000000  14.000000  \n",
       "mean     7.484513   7.973684   6.435000   6.944286  \n",
       "std      1.724949   2.288095   1.805044   3.057809  \n",
       "min      0.000000   2.000000   0.000000   0.000000  \n",
       "25%      7.000000   7.500000   5.950000   6.847500  \n",
       "50%      7.500000   8.000000   6.625000   8.000000  \n",
       "75%      8.500000  10.000000   7.375000   8.875000  \n",
       "max     10.000000  10.000000   8.750000   9.330000  "
      ]
     },
     "execution_count": 33,
     "metadata": {},
     "output_type": "execute_result"
    }
   ],
   "source": [
    "df.describe()"
   ]
  },
  {
   "cell_type": "code",
   "execution_count": 34,
   "metadata": {
    "collapsed": false
   },
   "outputs": [
    {
     "name": "stdout",
     "output_type": "stream",
     "text": [
      "{'tracks': {'href': 'https://api.spotify.com/v1/search?query=artist%3A%22Black+Sabbath%22+track%3A%22Evil+Woman%22+album%3A%22Black+Sabbath%22&type=track&market=FR&offset=0&limit=10',\n",
      "            'items': [{'album': {'album_type': 'album',\n",
      "                                 'artists': [{'external_urls': {'spotify': 'https://open.spotify.com/artist/5M52tdBnJaKSvOpJGz8mfZ'},\n",
      "                                              'href': 'https://api.spotify.com/v1/artists/5M52tdBnJaKSvOpJGz8mfZ',\n",
      "                                              'id': '5M52tdBnJaKSvOpJGz8mfZ',\n",
      "                                              'name': 'Black Sabbath',\n",
      "                                              'type': 'artist',\n",
      "                                              'uri': 'spotify:artist:5M52tdBnJaKSvOpJGz8mfZ'}],\n",
      "                                 'external_urls': {'spotify': 'https://open.spotify.com/album/2T6jeELx5BqH4GMLObBy10'},\n",
      "                                 'href': 'https://api.spotify.com/v1/albums/2T6jeELx5BqH4GMLObBy10',\n",
      "                                 'id': '2T6jeELx5BqH4GMLObBy10',\n",
      "                                 'images': [{'height': 640,\n",
      "                                             'url': 'https://i.scdn.co/image/ab67616d0000b2731311a92b0ca83a5154c5a5e7',\n",
      "                                             'width': 640},\n",
      "                                            {'height': 300,\n",
      "                                             'url': 'https://i.scdn.co/image/ab67616d00001e021311a92b0ca83a5154c5a5e7',\n",
      "                                             'width': 300},\n",
      "                                            {'height': 64,\n",
      "                                             'url': 'https://i.scdn.co/image/ab67616d000048511311a92b0ca83a5154c5a5e7',\n",
      "                                             'width': 64}],\n",
      "                                 'name': 'Black Sabbath (2009 Remastered '\n",
      "                                         'Version)',\n",
      "                                 'release_date': '1970-02-13',\n",
      "                                 'release_date_precision': 'day',\n",
      "                                 'total_tracks': 8,\n",
      "                                 'type': 'album',\n",
      "                                 'uri': 'spotify:album:2T6jeELx5BqH4GMLObBy10'},\n",
      "                       'artists': [{'external_urls': {'spotify': 'https://open.spotify.com/artist/5M52tdBnJaKSvOpJGz8mfZ'},\n",
      "                                    'href': 'https://api.spotify.com/v1/artists/5M52tdBnJaKSvOpJGz8mfZ',\n",
      "                                    'id': '5M52tdBnJaKSvOpJGz8mfZ',\n",
      "                                    'name': 'Black Sabbath',\n",
      "                                    'type': 'artist',\n",
      "                                    'uri': 'spotify:artist:5M52tdBnJaKSvOpJGz8mfZ'}],\n",
      "                       'disc_number': 1,\n",
      "                       'duration_ms': 202013,\n",
      "                       'explicit': False,\n",
      "                       'external_ids': {'isrc': 'GBAJE7000080'},\n",
      "                       'external_urls': {'spotify': 'https://open.spotify.com/track/2KtpzJOCmJa29vBLwDUGHQ'},\n",
      "                       'href': 'https://api.spotify.com/v1/tracks/2KtpzJOCmJa29vBLwDUGHQ',\n",
      "                       'id': '2KtpzJOCmJa29vBLwDUGHQ',\n",
      "                       'is_local': False,\n",
      "                       'is_playable': True,\n",
      "                       'name': 'Evil Woman',\n",
      "                       'popularity': 47,\n",
      "                       'preview_url': 'https://p.scdn.co/mp3-preview/0b5e88563e508c4c29a2771e9c481f95c738f0d3?cid=a92fc23408a1488fb997311d6d2082be',\n",
      "                       'track_number': 5,\n",
      "                       'type': 'track',\n",
      "                       'uri': 'spotify:track:2KtpzJOCmJa29vBLwDUGHQ'}],\n",
      "            'limit': 10,\n",
      "            'next': None,\n",
      "            'offset': 0,\n",
      "            'previous': None,\n",
      "            'total': 1}}\n"
     ]
    }
   ],
   "source": [
    "search = \"artist:\\\"Black Sabbath\\\" track:\\\"Evil Woman\\\" album:\\\"Black Sabbath\\\"\"\n",
    "# search = \"artist:\\\"Black\\%20Sabbath\\\"%20track:\\\"Evil%20Woman\\\"%20album:\\\"Black%20Sabbath\\\"\"\n",
    "pprint.pp(spotify.search(search, market=\"FR\"))"
   ]
  },
  {
   "cell_type": "code",
   "execution_count": 48,
   "metadata": {
    "collapsed": false
   },
   "outputs": [],
   "source": [
    "def search_string(row):\n",
    "    search = \"\"\n",
    "    # artists\n",
    "    artists = list(map(str.strip, row.artist.split(\",\")))\n",
    "    if len(artists) > 1:\n",
    "        sep = '\" AND \"'\n",
    "        search += f\"artist:\\\"{sep.join(artists)}\\\"\"\n",
    "    else:\n",
    "        search += f\"artist:\\\"{artists[0]}\\\"\"\n",
    "    # album\n",
    "    if row.album != \"N/A\":\n",
    "        search += f\" album:\\\"{row.album}\\\"\"\n",
    "    # track name\n",
    "    search += f\" track:\\\"{row.song}\\\"\"\n",
    "    # dealing with \"'\"\"\n",
    "    # sometimes it will work with the \"'\" and sometimes not\n",
    "    if \"'\" in search:\n",
    "        searches = [search, search.replace(\"'\", \"\")]\n",
    "    else:\n",
    "        searches = [search]\n",
    "    return searches"
   ]
  },
  {
   "cell_type": "code",
   "execution_count": 50,
   "metadata": {
    "collapsed": false
   },
   "outputs": [
    {
     "name": "stdout",
     "output_type": "stream",
     "text": [
      "0   /1633 : 0x5BKBAcia1th7UzcoHnD1 I Do, I Do, I Do, I Do, I Do ABBA Abba\n",
      "1   /1633 : 2TxCwUlqaOH3TIyJqGgR91 Mamma Mia ABBA Abba\n",
      "2   /1633 : 5pMmWfuL0FTGshYt7HVJ8P SOS ABBA ABBA Gold\n"
     ]
    },
    {
     "name": "stdout",
     "output_type": "stream",
     "text": [
      "3   /1633 : 798cuJeotvXP8UVa8GJPnD Knowing Me, Knowing You ABBA Arrival\n"
     ]
    },
    {
     "name": "stdout",
     "output_type": "stream",
     "text": [
      "4   /1633 : 4euAGZTszWPrriggYK0HG9 Lay All Your Love On Me ABBA Super Trouper\n",
      "5   /1633 : 0J2p4KYdr6Mg4ET6JPlbe1 Super Trouper ABBA Super Trouper\n"
     ]
    },
    {
     "name": "stdout",
     "output_type": "stream",
     "text": [
      "6   /1633 : 3oEkrIfXfSh9zGnE7eBzSV The Winner Takes It All ABBA Super Trouper\n",
      "7   /1633 : 5BckPAYcKEJuYs1eV1BHHe Take A Chance On Me ABBA The Album\n"
     ]
    },
    {
     "name": "stdout",
     "output_type": "stream",
     "text": [
      "8   /1633 : 3Dy4REq8O09IlgiwuHQ3sk Waterloo ABBA Waterloo\n"
     ]
    },
    {
     "name": "stdout",
     "output_type": "stream",
     "text": [
      "9   /1633 : 7LRMbd3LEoV5wZJvXT1Lwb T.N.T. AC/DC High Voltage\n",
      "10  /1633 : 2zYzyRzz6pRmhPzyfMEC8s Highway to Hell AC/DC Highway to Hell\n",
      "11  /1633 : 5jCp5VtcpUlHtW8Dwlx13Y Angry Chair Alice In Chains Dirt\n"
     ]
    },
    {
     "name": "stdout",
     "output_type": "stream",
     "text": [
      "12  /1633 : 22Ntyke0ZDZy2Uuf8BEDkU Dam That River Alice In Chains Dirt\n",
      "13  /1633 : 2QjkH9q5Mypj6m38u7Ni9o Dirt Alice In Chains Dirt\n",
      "14  /1633 : 7FRfYOql61DGDp9VPPe2qA Down In A Hole Alice In Chains Dirt\n",
      "15  /1633 : 1klrDyGRsCBPofZdqdaZp6 God Smack Alice In Chains Dirt\n"
     ]
    },
    {
     "name": "stdout",
     "output_type": "stream",
     "text": [
      "16  /1633 : 0rglK8l5QBSADvao8n4d2N Hate To Feel Alice In Chains Dirt\n",
      "17  /1633 : 1mvEbRAlocvkJvqZIj3zHu Junkhead Alice In Chains Dirt\n",
      "18  /1633 : 6a9SPVrXyrlVh5Fh08f8Bz Rain When I Die Alice In Chains Dirt\n",
      "19  /1633 : 0wvIGFIgbyz4JNwQhZgTv2 Rooster Alice In Chains Dirt\n"
     ]
    },
    {
     "name": "stdout",
     "output_type": "stream",
     "text": [
      "20  /1633 : 5EnYdTx0BWhWM5YDcPkGAa Sickman Alice In Chains Dirt\n",
      "21  /1633 : 4A065x9kJt955eGVqf813g Them Bones Alice In Chains Dirt\n",
      "22  /1633 : 2s9xt247uEa0sXmAH0GvL3 Untitled Alice In Chains Dirt\n"
     ]
    },
    {
     "name": "stdout",
     "output_type": "stream",
     "text": [
      "23  /1633 : 5sFDReWLrZHLFZFjHsjUTS Would? Alice In Chains Dirt\n",
      "24  /1633 : 1j3YarHURr6L7JYhPoVRTg Plus haut - Les marches de l’empereur Saison 3 / épisode 1 Alkpote Plus haut (Les marches de l’empereur Saison 3 / épisode 1)\n",
      "25  /1633 : 7gARZ2i5u5DHC1b1n1fML5 Breezeblocks alt-J An Awesome Wave\n",
      "26  /1633 : 6an29bD9C79IMFKB7xUr33 Crack the Sky Amon Amarth Berserker\n"
     ]
    },
    {
     "name": "stdout",
     "output_type": "stream",
     "text": [
      "27  /1633 : 0Ov6o6FSQLOlllOm10ESwQ Raven's Flight Amon Amarth Berserker\n",
      "28  /1633 : 0sObxZUKqdPfgjG9ahSlP5 The Pursuit Of Vikings Amon Amarth Fate of Norns\n",
      "29  /1633 : 5gNyrx8elXaXXs3vFC1ufZ Raise Your Horns Amon Amarth Jomsviking\n",
      "30  /1633 : 4BQuuaTsdUNCcbReYb6RC7 Masters Of War Amon Amarth The Crusher\n"
     ]
    },
    {
     "name": "stdout",
     "output_type": "stream",
     "text": [
      "31  /1633 : 5u3l2TONYacJgmRPQVaF9y Twilight Of The Thunder God Amon Amarth Twilight Of The Thunder God\n",
      "32  /1633 : 0Yx5mSfgA9XsyKkpmAxV2A Tin Foiled Andrew Bird Things Are Really Great Here, Sort Of...\n",
      "33  /1633 : 53ErZun9BFfUwC6UNKdxiE Silent Wars Arch Enemy Anthems of Rebellion\n",
      "34  /1633 : 7uqohNjCnZ8sZd5S2vh5vx First Day in Hell Arch Enemy Will To Power\n"
     ]
    },
    {
     "name": "stdout",
     "output_type": "stream",
     "text": [
      "35  /1633 : 6gXNdxtSOcErDuXagBUdkz Saturnine Arch Enemy Will To Power\n",
      "36  /1633 : 1Qdnvn4XlmZANCVy3XjrQo Show Me How to Live Audioslave Audioslave\n",
      "37  /1633 : 0wxR6vA8Je5JHiTsZSmG01 #1 Zero Audioslave Out of Exile\n",
      "artist:\"Auracle\" album:\"City Slickers\" track:\"Bombs Away Ballet\" not in spotify\n"
     ]
    },
    {
     "name": "stdout",
     "output_type": "stream",
     "text": [
      "artist:\"Auracle\" album:\"City Slickers\" track:\"City of Penetrating Light\" not in spotify\n",
      "artist:\"Auracle\" album:\"City Slickers\" track:\"Honey\" not in spotify\n",
      "artist:\"Auracle\" album:\"City Slickers\" track:\"Little City Slickers\" not in spotify\n",
      "artist:\"Auracle\" album:\"City Slickers\" track:\"Rotary Andy's Raggedy\" not in spotify\n"
     ]
    },
    {
     "name": "stdout",
     "output_type": "stream",
     "text": [
      "artist:\"Auracle\" album:\"City Slickers\" track:\"Rotary Andys Raggedy\" not in spotify\n",
      "artist:\"Auracle\" album:\"City Slickers\" track:\"Sambanana\" not in spotify\n",
      "artist:\"Auracle\" album:\"City Slickers\" track:\"Tied Shoes\" not in spotify\n",
      "artist:\"B.J. Thomas\" album:\"Rain Drops Keep Fallin' On My Head\" track:\"Rain Drops Keep Falling on My Head\" not in spotify\n"
     ]
    },
    {
     "name": "stdout",
     "output_type": "stream",
     "text": [
      "artist:\"B.J. Thomas\" album:\"Rain Drops Keep Fallin On My Head\" track:\"Rain Drops Keep Falling on My Head\" not in spotify\n",
      "46  /1633 : 6OcE7aXYmNEwF6H7Ei9Y3q King for a Day Battle Beast Bringer of Pain\n",
      "artist:\"Bill Withers\" album:\"Just as I am\" track:\"Ain't No Sunshine\" not in spotify\n",
      "47  /1633 : 1k1Bqnv2R0uJXQN4u6LKYt Ain't No Sunshine Bill Withers Just As I Am\n"
     ]
    },
    {
     "name": "stdout",
     "output_type": "stream",
     "text": [
      "48  /1633 : 3jUTjCISntIUFL8jnAjzgc Fallen Leaves Billy Talent Billy Talent II\n",
      "49  /1633 : 2RZWdE8kYPlCAcRUYDeuLC Red Flag Billy Talent Billy Talent II\n",
      "50  /1633 : 7eXYekcOIQCxDJNS50JjQa Behind the Wall of Sleep Black Sabbath Black Sabbath (2009 Remastered Version)\n",
      "51  /1633 : 1udmPvJoBnqitbeYKKc9mc Black Sabbath Black Sabbath Black Sabbath (2009 Remastered Version)\n"
     ]
    },
    {
     "name": "stdout",
     "output_type": "stream",
     "text": [
      "52  /1633 : 2KtpzJOCmJa29vBLwDUGHQ Evil Woman Black Sabbath Black Sabbath (2009 Remastered Version)\n",
      "53  /1633 : 62oNfnQqObaqARM0DTibAL N.I.B. Black Sabbath Black Sabbath (2009 Remastered Version)\n",
      "54  /1633 : 0KHeKEA1pf0YtlCcGVCGce Sleeping Village Black Sabbath Black Sabbath (2009 Remastered Version)\n",
      "55  /1633 : 3JvMig6Sc8XRLqHseNsccM The Wizard Black Sabbath Black Sabbath (2009 Remastered Version)\n"
     ]
    },
    {
     "name": "stdout",
     "output_type": "stream",
     "text": [
      "56  /1633 : 4JW2yU9lIb8jCNv47PpTfZ Warning Black Sabbath Black Sabbath (2009 Remastered Version)\n",
      "57  /1633 : 4chUb38ZUuvL1OST3aa063 Into the Void Black Sabbath Master of Reality (2009 Remastered Version)\n",
      "58  /1633 : 39eKdJcCdYYRdKEZRfKJDJ Electric Funeral Black Sabbath Paranoid (2009 Remastered Version)\n"
     ]
    },
    {
     "name": "stdout",
     "output_type": "stream",
     "text": [
      "59  /1633 : 6Kfyg9nl3TWbtrUFEF4yr5 Fairies Wear Boots Black Sabbath Paranoid (2009 Remastered Version)\n"
     ]
    },
    {
     "name": "stdout",
     "output_type": "stream",
     "text": [
      "60  /1633 : 40W1V3aU3g6lEGZVwsxAcO Hand of Doom Black Sabbath Paranoid (2009 Remastered Version)\n",
      "61  /1633 : 0TI8TP4FitVPoEHPTySx48 Iron Man Black Sabbath Paranoid (2009 Remastered Version)\n",
      "62  /1633 : 1jzDzZWeSDBg5fhNc3tczV Paranoid Black Sabbath Paranoid (2009 Remastered Version)\n"
     ]
    },
    {
     "name": "stdout",
     "output_type": "stream",
     "text": [
      "63  /1633 : 7wqF3BU0ykeKch6BcNqGiT Planet Caravan Black Sabbath Paranoid (2009 Remastered Version)\n",
      "64  /1633 : 1uPH6mPMlbB4SqrHmRqnlE Rat Salad Black Sabbath Paranoid (2009 Remastered Version)\n",
      "65  /1633 : 0W35nxtHtFlseSojmygEsf War Pigs Black Sabbath Paranoid (2009 Remastered Version)\n",
      "66  /1633 : 172u95XX2JxIfBZi1v0vKN Banquet Bloc Party Silent Alarm\n"
     ]
    },
    {
     "name": "stdout",
     "output_type": "stream",
     "text": [
      "artist:\"Blue Öyster Cult\" album:\"Agents of Fortune\" track:\"(Don't Fear) The Reaper\" not in spotify\n",
      "67  /1633 : 5QTxFnGygVM4jFQiBovmRo (Don't Fear) The Reaper Blue Öyster Cult Agents Of Fortune\n"
     ]
    },
    {
     "name": "stdout",
     "output_type": "stream",
     "text": [
      "68  /1633 : 05jJZgRiXxBfQPNRlrObEI He Was a Steppenwolf Boney M. Nightflight to Venus\n",
      "69  /1633 : 4gmJjjVWv9rfK4Nl8wDNVR Nightflight to Venus Boney M. Nightflight to Venus\n"
     ]
    },
    {
     "name": "stdout",
     "output_type": "stream",
     "text": [
      "70  /1633 : 5seKua5Mu2wMK1qUhdHwt1 Painter Man Boney M. Nightflight to Venus\n",
      "71  /1633 : 5jkFvD4UJrmdoezzT1FRoP Rasputin Boney M. Nightflight to Venus\n",
      "artist:\"Breakbot\" album:\"By Your Side\" track:\"Baby I'm Yours\" not in spotify\n"
     ]
    },
    {
     "name": "stdout",
     "output_type": "stream",
     "text": [
      "72  /1633 : 0tZkVZ9DeAa0MNK2gY5NtV Baby I'm Yours Breakbot By Your Side\n",
      "73  /1633 : 1A7Nb5XVAJzXmbkk5S59t3 Release the Beast Breakwater Splashdown\n",
      "74  /1633 : 56lhDZNQ5J47aog6mGKeGk Thunder Road Bruce Springsteen Born To Run\n"
     ]
    },
    {
     "name": "stdout",
     "output_type": "stream",
     "text": [
      "75  /1633 : 55h7vJchibLdUkxdlX3fK7 Treasure Bruno Mars Unorthodox Jukebox\n",
      "76  /1633 : 0A6PfIp2V8Z5L8rqKUpDvG Hand Of Blood Bullet For My Valentine Hand Of Blood / 4 Words\n"
     ]
    },
    {
     "name": "stdout",
     "output_type": "stream",
     "text": [
      "77  /1633 : 0N10gGHn8GYH8QYyFFnqRa The Huntsman Butcher Babies Lilith\n",
      "78  /1633 : 7ek0WEbzMQ0iKXzxsDJiXg Aight Caballero Laisse Nous Faire Vol. 1\n"
     ]
    },
    {
     "name": "stdout",
     "output_type": "stream",
     "text": [
      "79  /1633 : 7fLtcNaBtwMLx1by2vczEy Baby Funk Caballero Laisse Nous Faire Vol. 1\n",
      "80  /1633 : 2Jq2YNqNU4zdlNIISW6BjB Bout Du Tunnel (feat. Jcr) Caballero Laisse Nous Faire Vol. 1\n",
      "artist:\"Caballero\" album:\"Laisse Nous Faire Vol.1\" track:\"C'est Aussi Simple Que Ça\" not in spotify\n",
      "81  /1633 : 1QXNFb6gNLIvgUhJWJZsLu C'est Aussi Simple Que ça Caballero Laisse Nous Faire Vol. 1\n"
     ]
    },
    {
     "name": "stdout",
     "output_type": "stream",
     "text": [
      "82  /1633 : 5YCgn8qR7z0Oi2TeFvCB6L Chiens Des Villes Caballero Laisse Nous Faire Vol. 1\n",
      "83  /1633 : 1FH4bwLfjNMbgSC5UMQyyQ Discret Mais Efficace (feat. Seven & Sima) Caballero Laisse Nous Faire Vol. 1\n",
      "84  /1633 : 5gPzd9ClcSNOD1pXzZkPd6 Flottements (feat. Tonino) Caballero Laisse Nous Faire Vol. 1\n"
     ]
    },
    {
     "name": "stdout",
     "output_type": "stream",
     "text": [
      "85  /1633 : 2ZxW0Z5ua6h89t8ZprzgAo Foume ça Caballero Laisse Nous Faire Vol. 1\n",
      "86  /1633 : 3r1sjHzXbwLjOikglWnOUM Il Suffit (feat. Jeanjass) Caballero Laisse Nous Faire Vol. 1\n",
      "87  /1633 : 6KdNDBWPRoHwXyyaS8u8AR Inner Démons (feat. Alpha Wann) Caballero Laisse Nous Faire Vol. 1\n"
     ]
    },
    {
     "name": "stdout",
     "output_type": "stream",
     "text": [
      "88  /1633 : 494q3O9UXgoO5Ny8sU8jUY Le Freestyle De La Cigarette Fumante Caballero Laisse Nous Faire Vol. 1\n"
     ]
    },
    {
     "name": "stdout",
     "output_type": "stream",
     "text": [
      "89  /1633 : 3sLc3RUuVw3yq225J8pTaf Mailles Du Filet (feat. Lomepal) Caballero Laisse Nous Faire Vol. 1\n",
      "artist:\"Caballero\" album:\"Laisse Nous Faire Vol.1\" track:\"Médaille d'Or\" not in spotify\n",
      "90  /1633 : 7nipxhnG4w62JAtOI5W3VC Médaille D'or (feat. Lomepal & Doums) Caballero Laisse Nous Faire Vol. 1\n"
     ]
    },
    {
     "name": "stdout",
     "output_type": "stream",
     "text": [
      "91  /1633 : 6vG43ypSsKjo82VqE90a0w Medley Goku Caballero Laisse Nous Faire Vol. 1\n",
      "92  /1633 : 2Nvq8DdvQaooWm5SXTWFG5 Medley Vegeta Caballero Laisse Nous Faire Vol. 1\n",
      "93  /1633 : 76ja4bAH6llTY7s1lkwWoQ Mission Accomplie Caballero Laisse Nous Faire Vol. 1\n"
     ]
    },
    {
     "name": "stdout",
     "output_type": "stream",
     "text": [
      "94  /1633 : 14t6TOsH17hobA3iE1iszr Otaku (feat. Neshga & Senamo) Caballero Laisse Nous Faire Vol. 1\n",
      "95  /1633 : 4TxBA5CECuHyPFPFFq6mJE Patinoire (feat. Sima) Caballero Laisse Nous Faire Vol. 1\n",
      "96  /1633 : 6QjDQONUpk41pUsaHcqHh6 Profondeurs (feat. Jeanjass) Caballero Laisse Nous Faire Vol. 1\n",
      "artist:\"Caballero\" album:\"Laisse Nous Faire Vol.1\" track:\"Qu'est-ce que tu nous Proposes?\" not in spotify\n"
     ]
    },
    {
     "name": "stdout",
     "output_type": "stream",
     "text": [
      "97  /1633 : 1p1Kz4or5x37QvxZ1dQE0q Qu'est-Ce Que Tu Nous Proposes ? (feat. Jeanjass, Alpha Wann & Ysha) Caballero Laisse Nous Faire Vol. 1\n",
      "98  /1633 : 43GwFZxQHKGw3CVnM29wTT Sortez Couverts (feat. Arabesk) Caballero Laisse Nous Faire Vol. 1\n",
      "99  /1633 : 5fjuEHSIGyNgyW5ynEPlgb Téléportation (feat. Les Corbeaux) Caballero Laisse Nous Faire Vol. 1\n"
     ]
    },
    {
     "name": "stdout",
     "output_type": "stream",
     "text": [
      "100 /1633 : 0uXKTY1IaVHaVpcdFsiHWv Viens Voir (feat. Perso) Caballero Laisse Nous Faire Vol. 1\n",
      "101 /1633 : 0fsz7tJ7UKXT9hliLfO7aE The Distance Cake Fashion Nugget\n",
      "102 /1633 : 74jZhGv0fdLaf9q8AZZ15k Please Mr. Postman Carpenters Horizon\n",
      "artist:\"Casiopea\" album:\"Crosspoint\" track:\"Galactic Funk\" not in spotify\n"
     ]
    },
    {
     "name": "stdout",
     "output_type": "stream",
     "text": [
      "artist:\"Casiopea\" album:\"Mint Jams\" track:\"Swear!\" not in spotify\n",
      "105 /1633 : 0KJ8O3NjYF3ypDAUSEVFfg I Married an Angel Chet Baker Chet Baker & Strings\n",
      "106 /1633 : 71wcOsCw1N0Vgj2cGcqdBp Strollin' Chet Baker Strollin'\n",
      "107 /1633 : 7GqIDx2QVGOpd4r1fZaUUW 25 or 6 to 4 - 2002 Remaster Chicago Chicago II\n"
     ]
    },
    {
     "name": "stdout",
     "output_type": "stream",
     "text": [
      "108 /1633 : 6GTz60YoNqDoAKkOFwEjEJ Friends Chick Corea Friends\n",
      "109 /1633 : 1jji1sWxZOo7eWnXifT7yP Spain Chick Corea Light As A Feather\n",
      "110 /1633 : 69yYDgM8sCrUsD56AHyOt9 Hold Tight Chinese Man The Groove Sessions, Vol. 5\n"
     ]
    },
    {
     "name": "stdout",
     "output_type": "stream",
     "text": [
      "111 /1633 : 36kbjtiNbROJkkm8mV36Fu Complainer Choir Boy Complainer\n",
      "artist:\"Claude François\" album:\"C'est la Même Chanson\" track:\"C'est la même chanson\" not in spotify\n",
      "112 /1633 : 4SbBP9BeFelHkh9yg0eX1v C'est la même chanson Claude François C'Est La Meme Chanson\n",
      "artist:\"Claude François\" album:\"Chanson Populaire\" track:\"Chanson Populaire (ça s'en va et ça revient)\" not in spotify\n"
     ]
    },
    {
     "name": "stdout",
     "output_type": "stream",
     "text": [
      "113 /1633 : 6xuxkfM6waS1sCubmjJtCl Chanson populaire (Ça s'en va et ça revient) Claude François Chanson populaire\n",
      "114 /1633 : 4QPVhcAfVufCbhAvmJrfsS 17 ans Claude François Chansons Françaises\n",
      "115 /1633 : 5EMqO0RbL4pm5uVBnE8pTo Je vais à Rio Claude François Claude François\n"
     ]
    },
    {
     "name": "stdout",
     "output_type": "stream",
     "text": [
      "116 /1633 : 3chyZYjRR2aUiUmNiojk0H Toi et le soleil Claude François Claude François\n",
      "artist:\"Claude François\" album:\"Comme D'Habitude\" track:\"Comme D'Habitude\" not in spotify\n"
     ]
    },
    {
     "name": "stdout",
     "output_type": "stream",
     "text": [
      "117 /1633 : 1q45QwMLVx6hSQx7cdRpBP Comme d'habitude Claude François Comme D'Habitude\n",
      "118 /1633 : 2LXF7O6Gpznsh9uqlDGUnz Il fait beau, il fait bon Claude François Il fait beau, il fait bon\n",
      "artist:\"Claude François\" album:\"J'attendrai\" track:\"J'attendrai\" not in spotify\n",
      "119 /1633 : 2O9TBdIe0Q7Wsrr6gPwbhN J'attendrai - Version mono Claude François J'attendrai\n"
     ]
    },
    {
     "name": "stdout",
     "output_type": "stream",
     "text": [
      "120 /1633 : 2fbEcU3yS5eqXCusyZRBIU La musique américaine Claude François Le Chanteur Malheureux\n",
      "121 /1633 : 0z0oXm4kKS1DCuGv68qN2M Le chanteur malheureux Claude François Le Chanteur Malheureux\n",
      "122 /1633 : 3HiPDGrE4Bys0Xy4m82wQ1 Bélinda Claude François Le lundi au soleil\n"
     ]
    },
    {
     "name": "stdout",
     "output_type": "stream",
     "text": [
      "123 /1633 : 75HyZlo5ameA4sr8aOjUSU Le lundi au soleil Claude François Le lundi au soleil\n",
      "124 /1633 : 36JTsxq9ywTGHpBjg3Wf4J Le mal aimé Claude François Le mal aimé / Le téléphone pleure\n"
     ]
    },
    {
     "name": "stdout",
     "output_type": "stream",
     "text": [
      "125 /1633 : 1lzMEPWr0S8o0JMFCXdPoH Le téléphone pleure Claude François Le Telephone Pleure\n"
     ]
    },
    {
     "name": "stdout",
     "output_type": "stream",
     "text": [
      "126 /1633 : 3R4rbnUNQKpKo588EFOqTl Cette année-là Claude François Le Vagabond\n",
      "127 /1633 : 4HwxZ611aUxRupP5SC3mMK Le Vagabond Claude François Le Vagabond\n",
      "128 /1633 : 2e9Sa881KIjKK0y86iNZ6C Alexandrie Alexandra Claude François Magnolias For Ever\n"
     ]
    },
    {
     "name": "stdout",
     "output_type": "stream",
     "text": [
      "129 /1633 : 1zcFnMc6ULvzH8npblFGvy Magnolias for Ever Claude François Magnolias For Ever\n",
      "130 /1633 : 2k1G4V6Mg6XAg8Xg2YV3ll Je sais Claude François Meme Si Tu Revenais\n"
     ]
    },
    {
     "name": "stdout",
     "output_type": "stream",
     "text": [
      "131 /1633 : 46eooWtxMwu8PrLXmTZtpR Même si tu revenais Claude François Meme Si Tu Revenais\n",
      "artist:\"Claude François\" album:\"Si j'avais un marteau\" track:\"Belles belles belles\" not in spotify\n",
      "132 /1633 : 5nY0lSKJYjm0hsptrH93ai Belles belles belles Claude François Si J'Avais Un Marteau\n",
      "artist:\"Claude François\" album:\"Si j'avais un marteau\" track:\"Si j'avais un marteau\" not in spotify\n"
     ]
    },
    {
     "name": "stdout",
     "output_type": "stream",
     "text": [
      "133 /1633 : 02lck9tVsjUPDNSJtdiO6l Si j'avais un marteau Claude François Si J'Avais Un Marteau\n",
      "134 /1633 : 75JFxkI2RXiU7L9VXzMkle The Scientist Coldplay A Rush of Blood to the Head\n",
      "135 /1633 : 6FRwDxXsvSasw0y2eDArsz Sunshine Of Your Love Cream Disraeli Gears\n"
     ]
    },
    {
     "name": "stdout",
     "output_type": "stream",
     "text": [
      "136 /1633 : 587bVBCHYW5Q2VNRLig4AS Born On The Bayou Creedence Clearwater Revival Bayou Country (40th Anniversary Edition)\n",
      "artist:\"Creedence Clearwater Revival\" album:\"Cosmo's Factory\" track:\"I Heard It Through The Grapevine\" not in spotify\n",
      "artist:\"Creedence Clearwater Revival\" album:\"Cosmos Factory\" track:\"I Heard It Through The Grapevine\" not in spotify\n",
      "138 /1633 : 11DjZQEZ69EXLo77HVj6yW Green River Creedence Clearwater Revival Green River (40th Anniversary Edition)\n"
     ]
    },
    {
     "name": "stdout",
     "output_type": "stream",
     "text": [
      "139 /1633 : 4BP3uh0hFLFRb5cjsgLqDh Fortunate Son Creedence Clearwater Revival Willy And The Poor Boys\n",
      "140 /1633 : 3H3cOQ6LBLSvmcaV7QkZEu Aerodynamic Daft Punk Discovery\n",
      "141 /1633 : 6vuPZX9fWESg5js2JFTQRJ Crescendolls Daft Punk Discovery\n"
     ]
    },
    {
     "name": "stdout",
     "output_type": "stream",
     "text": [
      "142 /1633 : 2VEZx7NWsZ1D0eJ4uv5Fym Digital Love Daft Punk Discovery\n",
      "143 /1633 : 7v9Q0dAb9t7h8gJOkcJHay Face to Face Daft Punk Discovery\n"
     ]
    },
    {
     "name": "stdout",
     "output_type": "stream",
     "text": [
      "144 /1633 : 5W3cjX2J3tjhG8zb6u0qHn Harder, Better, Faster, Stronger Daft Punk Discovery\n",
      "145 /1633 : 098ttCNmncrO4YvqWUNMvn High Life Daft Punk Discovery\n"
     ]
    },
    {
     "name": "stdout",
     "output_type": "stream",
     "text": [
      "146 /1633 : 63JXZZRbmzooashakb0zbu Nightvision Daft Punk Discovery\n",
      "147 /1633 : 0DiWol3AO6WpXZgp0goxAV One More Time Daft Punk Discovery\n",
      "148 /1633 : 4npMbTuxrUA3Wd7edACZ2L Short Circuit Daft Punk Discovery\n"
     ]
    },
    {
     "name": "stdout",
     "output_type": "stream",
     "text": [
      "149 /1633 : 1NeLwFETswx8Fzxl2AFl91 Something About Us Daft Punk Discovery\n",
      "150 /1633 : 186hvCTyrni4KT9nwIQ7zS Superheroes Daft Punk Discovery\n",
      "151 /1633 : 3zMvotMEQK3xvH01vA9wAP Too Long Daft Punk Discovery\n"
     ]
    },
    {
     "name": "stdout",
     "output_type": "stream",
     "text": [
      "152 /1633 : 2LD2gT7gwAurzdQDQtILds Veridis Quo Daft Punk Discovery\n",
      "153 /1633 : 7cMFjxhbXBpOlais7KMF3j Voyager Daft Punk Discovery\n",
      "154 /1633 : 0k1xMUwn9sb7bZiqdT9ygx Beyond Daft Punk Random Access Memories\n"
     ]
    },
    {
     "name": "stdout",
     "output_type": "stream",
     "text": [
      "155 /1633 : 2KHRENHQzTIQ001nlP9Gdc Contact Daft Punk Random Access Memories\n",
      "156 /1633 : 36c4JohayB9qd64eidQMBi Doin' it Right (feat. Panda Bear) Daft Punk Random Access Memories\n",
      "157 /1633 : 0IedgQjjJ8Ad4B3UDQ5Lyn Fragments of Time (feat. Todd Edwards) Daft Punk Random Access Memories\n",
      "158 /1633 : 69kOkLUCkxIZYexIgSG8rq Get Lucky (feat. Pharrell Williams & Nile Rodgers) Daft Punk Random Access Memories\n"
     ]
    },
    {
     "name": "stdout",
     "output_type": "stream",
     "text": [
      "159 /1633 : 0oks4FnzhNp5QPTZtoet7c Giorgio by Moroder Daft Punk Random Access Memories\n",
      "160 /1633 : 0dEIca2nhcxDUV8C5QkPYb Give Life Back to Music Daft Punk Random Access Memories\n",
      "161 /1633 : 2cGxRwrMyEAp8dEbuZaVv6 Instant Crush (feat. Julian Casablancas) Daft Punk Random Access Memories\n",
      "162 /1633 : 5CMjjywI0eZMixPeqNd75R Lose Yourself to Dance (feat. Pharrell Williams) Daft Punk Random Access Memories\n"
     ]
    },
    {
     "name": "stdout",
     "output_type": "stream",
     "text": [
      "163 /1633 : 79koEJRtKOOGJ0VSAF3FMk Motherboard Daft Punk Random Access Memories\n",
      "164 /1633 : 3ctALmweZBapfBdFiIVpji The Game of Love Daft Punk Random Access Memories\n",
      "165 /1633 : 7oaEjLP2dTJLJsITbAxTOz Touch (feat. Paul Williams) Daft Punk Random Access Memories\n"
     ]
    },
    {
     "name": "stdout",
     "output_type": "stream",
     "text": [
      "166 /1633 : 7Bxv0WL7UC6WwQpk9TzdMJ Within Daft Punk Random Access Memories\n",
      "167 /1633 : 72Z17vmmeQKAg8bptWvpVG Space Oddity - 2015 Remaster David Bowie David Bowie (aka Space Oddity) [2015 Remaster]\n",
      "168 /1633 : 3ZE3wv8V3w2T2f7nOCjV0N Life on Mars? - 2015 Remaster David Bowie Hunky Dory (2015 Remaster)\n"
     ]
    },
    {
     "name": "stdout",
     "output_type": "stream",
     "text": [
      "169 /1633 : 7uHO4AmKtyGa5v5fsElGoC You Spin Me Round (Like a Record) Dead Or Alive Youthquake\n",
      "artist:\"Début de Soirée\" album:\"Jardins d'enfants\" track:\"Nuit de Folie\" not in spotify\n",
      "artist:\"Début de Soirée\" album:\"Jardins denfants\" track:\"Nuit de Folie\" not in spotify\n",
      "171 /1633 : 1iW2ktyrQHNKZwFTvgP0Ta Burn - Remastered 2004 Deep Purple Burn (30th Anniversary Edition)\n"
     ]
    },
    {
     "name": "stdout",
     "output_type": "stream",
     "text": [
      "172 /1633 : 1rbWklbXlVEDjCL5uuWuVg You Fool No One - Remastered 2008 Deep Purple Burn (30th Anniversary Edition)\n",
      "173 /1633 : 573Z2Dty5epeNgKsgoDOlr Child in Time - 1995 Remaster Deep Purple Deep Purple in Rock (Anniversary Edition)\n"
     ]
    },
    {
     "name": "stdout",
     "output_type": "stream",
     "text": [
      "174 /1633 : 18URo35acNKRTHfEdjTcGn Photograph Def Leppard Pyromania\n",
      "175 /1633 : 1cBxAm8a0fENn2ix3Dfm3u Precious Depeche Mode Playing the Angel (Deluxe)\n",
      "176 /1633 : 2kkvB3RNRzwjFdGhaUA0tz Layla - 40th Anniversary Version / 2010 Remastered Derek & The Dominos Layla And Other Assorted Love Songs (40th Anniversary / 2010 Remastered)\n"
     ]
    },
    {
     "name": "stdout",
     "output_type": "stream",
     "text": [
      "177 /1633 : 5jAV3dThaNqdy1pUzO5Xpi Ist das noch Punkrock? Die Ärzte auch\n",
      "178 /1633 : 4lRH3aAhNnyC144Bmn3Y1o Arob@se Dinos Taciturne\n"
     ]
    },
    {
     "name": "stdout",
     "output_type": "stream",
     "text": [
      "179 /1633 : 0CzeAbfKFnxnWjwo5iYiCG Brothers In Arms Dire Straits Brothers In Arms\n",
      "180 /1633 : 31DvHUCSioX0JD7B4kZMJ9 Money For Nothing Dire Straits Brothers In Arms\n"
     ]
    },
    {
     "name": "stdout",
     "output_type": "stream",
     "text": [
      "181 /1633 : 0lFnN31Rw1x5Mx1kojwQQY Single Handed Sailor Dire Straits Communique\n",
      "182 /1633 : 37Tmv4NnfQeb0ZgUC4fOJj Sultans Of Swing Dire Straits Dire Straits\n",
      "183 /1633 : 7btwmzYKStDASnnx0vubga Industrial Disease Dire Straits Love Over Gold\n"
     ]
    },
    {
     "name": "stdout",
     "output_type": "stream",
     "text": [
      "184 /1633 : 5o4VFWeGJeCDaNNBdIXcVY It Never Rains Dire Straits Love Over Gold\n",
      "185 /1633 : 0K8tOSa1LE1Ue784z6qwWZ Love Over Gold Dire Straits Love Over Gold\n",
      "186 /1633 : 5KVak7r5YKcnkmARc0hy0Q Private Investigations Dire Straits Love Over Gold\n",
      "187 /1633 : 0Bg100ruK1ZD7H96rNo6fR Telegraph Road Dire Straits Love Over Gold\n"
     ]
    },
    {
     "name": "stdout",
     "output_type": "stream",
     "text": [
      "188 /1633 : 0PNt5WTw092eED0ru9SuIp Romeo And Juliet Dire Straits Making Movies\n",
      "189 /1633 : 4ZSDreApKOo6eQYFx9qXfD Tunnel Of Love Dire Straits Making Movies\n",
      "190 /1633 : 5g6o2ZEegnAI3MczbwZaTZ Calling Elvis Dire Straits On Every Street\n"
     ]
    },
    {
     "name": "stdout",
     "output_type": "stream",
     "text": [
      "191 /1633 : 1ydZRag9jS1VAXcUs8DAu9 Heavy Fuel Dire Straits On Every Street\n",
      "192 /1633 : 4TUC13vLPzZCFSKe5JOJD5 Planet Of New Orleans Dire Straits On Every Street\n",
      "artist:\"Disiz La Peste\" album:\"Le collector, Vol. 1\" track:\"J'pète les plombs\" not in spotify\n",
      "193 /1633 : 5onlhFwHJhp0ff2tPju2X6 J'pète les plombs Disiz La Peste Le collector, Vol. 1\n"
     ]
    },
    {
     "name": "stdout",
     "output_type": "stream",
     "text": [
      "194 /1633 : 1No3SDMTneCwu3R0gKZqpI Les 10 Commandements du MC Disiz La Peste Rap Machine\n",
      "195 /1633 : 32VjGZWrYx3fB0Ma1Qjydq X Gon' Give It To Ya DMX Cradle 2 The Grave\n",
      "196 /1633 : 4BtVjkj3QpWYFgbcCss37B Bloodflower Draconian Turning Season Within\n",
      "197 /1633 : 5YhsZ983k2uUlBsgJIKEY7 Earthbound Draconian Turning Season Within\n"
     ]
    },
    {
     "name": "stdout",
     "output_type": "stream",
     "text": [
      "198 /1633 : 7fC3F1YvSEtuSUslLHVak3 Morphine Cloud Draconian Turning Season Within\n",
      "199 /1633 : 3r0doKGGtYDCf0hYPabVrN Not Breathing Draconian Turning Season Within\n",
      "200 /1633 : 75vdaU4ZsUSEGbuGquKZJe Seasons Apart Draconian Turning Season Within\n"
     ]
    },
    {
     "name": "stdout",
     "output_type": "stream",
     "text": [
      "artist:\"Draconian\" album:\"Turning Season Within\" track:\"The Empy Stare / September Ashes\" not in spotify\n",
      "202 /1633 : 4Til7SHt88u8WTQgpP4WHb The Failure Epiphany Draconian Turning Season Within\n",
      "203 /1633 : 4O5vckx9mXuBcchbAqLux3 When I Wake Draconian Turning Season Within\n",
      "204 /1633 : 7Cuk8jsPPoNYQWXK9XRFvG September Earth, Wind & Fire September\n"
     ]
    },
    {
     "name": "stdout",
     "output_type": "stream",
     "text": [
      "205 /1633 : 1TF8mSG5YHyaS4o3NeBSAo Munich Editors The Back Room\n",
      "206 /1633 : 42COu0u76ahdsby0hKfMPH Was ist hier los? Eisbrecher Sturmfahrt\n",
      "207 /1633 : 6xE6ZWzK1YDDSYzqOCoQlz Last Train to London Electric Light Orchestra Discovery\n",
      "208 /1633 : 6rQG8QH1rGoCOeGHdrnYhb Funeralopolis Electric Wizard Dopethrone (Remaster)\n"
     ]
    },
    {
     "name": "stdout",
     "output_type": "stream",
     "text": [
      "209 /1633 : 6BYULU1d4pbArOI3Y67k1N Tarkus - i. Eruption, ii. Stones of Years, iii. Iconoclast, iv. Mass, v. Manticore, vi. Battlefield, vii. Aquatarkus; 2012 Stereo Mix Emerson, Lake & Palmer Tarkus (Deluxe Version)\n",
      "210 /1633 : 6MqMbqvS7UhcgMuIlru9VL Colour Of The Sunset Eric Burdon When I Was Young\n",
      "211 /1633 : 2udGjDmpK1dH9VGyw7nrei Cocaine Eric Clapton Slowhand 35th Anniversary\n",
      "212 /1633 : 3BEZCNZSmVv30vsMNSOCri Layla - Acoustic; Live at MTV Unplugged, Bray Film Studios, Windsor, England, UK, 1/16/1992; 2013 Remaster Eric Clapton Unplugged (Deluxe Edition)\n"
     ]
    },
    {
     "name": "stdout",
     "output_type": "stream",
     "text": [
      "213 /1633 : 7lS4Kp6wf8oKDhvRquyQ81 Hurra Hurra Die Pest Ist Da Feuerschwanz Metvernichter\n",
      "artist:\"Flamingosis\" album:\"A Groovy Thing\" track:\"A Groovy Intro\" not in spotify\n",
      "artist:\"Flamingosis\" album:\"A Groovy Thing\" track:\"A Groovy Thing\" not in spotify\n",
      "artist:\"Flamingosis\" album:\"A Groovy Thing\" track:\"Breezy\" not in spotify\n"
     ]
    },
    {
     "name": "stdout",
     "output_type": "stream",
     "text": [
      "artist:\"Flamingosis\" album:\"A Groovy Thing\" track:\"Come & Get it\" not in spotify\n",
      "artist:\"Flamingosis\" album:\"A Groovy Thing\" track:\"Don’t Lose the Feeling\" not in spotify\n",
      "artist:\"Flamingosis\" album:\"A Groovy Thing\" track:\"Flute Salad\" not in spotify\n",
      "artist:\"Flamingosis\" album:\"A Groovy Thing\" track:\"Get Yourself Together\" not in spotify\n"
     ]
    },
    {
     "name": "stdout",
     "output_type": "stream",
     "text": [
      "artist:\"Flamingosis\" album:\"A Groovy Thing\" track:\"Guilty Pleasure\" not in spotify\n",
      "artist:\"Flamingosis\" album:\"A Groovy Thing\" track:\"High Tide\" not in spotify\n",
      "artist:\"Flamingosis\" album:\"A Groovy Thing\" track:\"Keep Shining\" not in spotify\n",
      "artist:\"Flamingosis\" album:\"A Groovy Thing\" track:\"Long Distance\" not in spotify\n"
     ]
    },
    {
     "name": "stdout",
     "output_type": "stream",
     "text": [
      "artist:\"Flamingosis\" album:\"A Groovy Thing\" track:\"Never Felt a Feeling Like This\" not in spotify\n",
      "artist:\"Flamingosis\" album:\"A Groovy Thing\" track:\"Not Like the Others\" not in spotify\n",
      "artist:\"Flamingosis\" album:\"A Groovy Thing\" track:\"Otaku Mode\" not in spotify\n",
      "artist:\"Flamingosis\" album:\"A Groovy Thing\" track:\"Persevere\" not in spotify\n"
     ]
    },
    {
     "name": "stdout",
     "output_type": "stream",
     "text": [
      "artist:\"Flamingosis\" album:\"A Groovy Thing\" track:\"Soul Crusade\" not in spotify\n",
      "artist:\"Flamingosis\" album:\"A Groovy Thing\" track:\"That’s Cold\" not in spotify\n",
      "artist:\"Flamingosis\" album:\"A Groovy Thing\" track:\"Want Me (Need Me)\" not in spotify\n"
     ]
    },
    {
     "name": "stdout",
     "output_type": "stream",
     "text": [
      "232 /1633 : 5e9TFTbltYBg2xThimr0rU The Chain - 2004 Remaster Fleetwood Mac Rumours (Super Deluxe)\n",
      "artist:\"François Valéry\" album:\"Mon pote le DJ\" track:\"Mon pote le DJ\" not in spotify\n",
      "234 /1633 : 20I8RduZC2PWMWTDCZuuAN Take Me Out Franz Ferdinand Franz Ferdinand\n",
      "artist:\"Franzl Lang\" track:\"Auf und auf voll Lebenslust\" not in spotify\n"
     ]
    },
    {
     "name": "stdout",
     "output_type": "stream",
     "text": [
      "236 /1633 : 7dEQgmYcZSVWsHmutkOLDF All Right Now - Single Version Free The Free Story\n",
      "237 /1633 : 0mLJdJPzeWzBegRrfmeiwM 1979 French 79 Olympic\n"
     ]
    },
    {
     "name": "stdout",
     "output_type": "stream",
     "text": [
      "238 /1633 : 6NNg7SJpg7p9VCZXhSqiaE After Party French 79 Olympic\n",
      "239 /1633 : 1LpZP3BXZokmhMi0IN73yY Between the Buttons French 79 Olympic\n",
      "240 /1633 : 4ZNpdroEGIgnr3O7IvlUsB DDROPP French 79 Olympic\n",
      "241 /1633 : 5G0oVoL309pqsvGDzhMOwx Diamond Veins (feat. Sarah Rebecca) French 79 Olympic\n"
     ]
    },
    {
     "name": "stdout",
     "output_type": "stream",
     "text": [
      "242 /1633 : 559C5y1XbfhzB8xYjleIQQ Golden Times French 79 Olympic\n",
      "243 /1633 : 2AQxYyQR0gi5mNb0QsFOQJ Hush Hush French 79 Olympic\n",
      "244 /1633 : 5e1kNatja9w74M4PU8Ki6d Invisible Moon French 79 Olympic\n"
     ]
    },
    {
     "name": "stdout",
     "output_type": "stream",
     "text": [
      "245 /1633 : 5pxtj7cCnv2hZe6mbS2MBx Lovin' Feeling French 79 Olympic\n",
      "246 /1633 : 5HCYfovH50URGDvpfH571V Olympic French 79 Olympic\n"
     ]
    },
    {
     "name": "stdout",
     "output_type": "stream",
     "text": [
      "247 /1633 : 25Yj5EDimlbwUWEFXJmAmw Pantheon Neon French 79 Olympic\n",
      "248 /1633 : 5leH1cR5UPBWT3MFmOXyGl Vertigo Valley French 79 Olympic\n"
     ]
    },
    {
     "name": "stdout",
     "output_type": "stream",
     "text": [
      "249 /1633 : 46bxbxG8YnnjZvjfGvZXbj Blank Tapes From Indian Lakes Everything Feels Better Now\n",
      "250 /1633 : 1SOECNmtGKx3yW14505Wfu La danse des parasites Full dub Rewind\n"
     ]
    },
    {
     "name": "stdout",
     "output_type": "stream",
     "text": [
      "251 /1633 : 7e7y5y7GPhCm6GtjBO2jMk After The Ordeal - Remastered 2008 Genesis Selling England By The Pound\n",
      "252 /1633 : 2tQfSfnEFo9OnhYm3mNMj8 Aisle Of Plenty - Remastered 2008 Genesis Selling England By The Pound\n"
     ]
    },
    {
     "name": "stdout",
     "output_type": "stream",
     "text": [
      "253 /1633 : 75n6R38rfp87ElycXr7OJq Dancing With The Moonlit Knight - Remastered 2008 Genesis Selling England By The Pound\n",
      "254 /1633 : 5OBptQtIlGOG94la7qil6c Firth Of Fifth - Remastered 2008 Genesis Selling England By The Pound\n"
     ]
    },
    {
     "name": "stdout",
     "output_type": "stream",
     "text": [
      "255 /1633 : 1WyzlXMywoEPl8VzIo34dJ I Know What I Like (In Your Wardrobe) - Remastered 2008 Genesis Selling England By The Pound\n",
      "256 /1633 : 7D2IzfbAKvXD7tZxyV5JxD More Fool Me - Remastered 2008 Genesis Selling England By The Pound\n"
     ]
    },
    {
     "name": "stdout",
     "output_type": "stream",
     "text": [
      "257 /1633 : 3nhVfuweeVgS7Yr0Pd9Dgz The Battle Of Epping Forest - Remastered 2008 Genesis Selling England By The Pound\n",
      "258 /1633 : 3WBXyS9Isg4aQBPCuX2GwL The Cinema Show - Remastered 2008 Genesis Selling England By The Pound\n",
      "259 /1633 : 0lNaytiCORnMNZTEBQxlPv Affirmation George Benson Breezin'\n",
      "260 /1633 : 5gaUkg5JNk8c4mr2jnpX8H Give Me the Night George Benson Give Me the Night\n"
     ]
    },
    {
     "name": "stdout",
     "output_type": "stream",
     "text": [
      "261 /1633 : 37y1QZW0uSeMjTztnjjoOV It's On George Duke After Hours\n",
      "262 /1633 : 2gGUCK6eNm4qoayset0wJ4 Le Pornographe Georges Brassens Le Pornographe-Vol 5\n",
      "artist:\"Georges Brassens\" album:\"Le Vent\" track:\"Brave Margot\" not in spotify\n",
      "artist:\"Georges Brassens\" album:\"Les Copains D'Abord\" track:\"Les 4 z'arts\" not in spotify\n"
     ]
    },
    {
     "name": "stdout",
     "output_type": "stream",
     "text": [
      "artist:\"Georges Brassens\" album:\"Les Copains DAbord\" track:\"Les 4 zarts\" not in spotify\n",
      "artist:\"Georges Brassens\" album:\"Les Copains D'Abord\" track:\"Les Copains d'abord\" not in spotify\n",
      "265 /1633 : 5MRyPM2k1lvwt3noWp0GXJ Les copains d'abord Georges Brassens Les Copains D'Abord\n",
      "artist:\"Georges Brassens\" album:\"Les Funérailles d'antan\" track:\"Le Bistrot\" not in spotify\n"
     ]
    },
    {
     "name": "stdout",
     "output_type": "stream",
     "text": [
      "artist:\"Georges Brassens\" album:\"Les Funérailles dantan\" track:\"Le Bistrot\" not in spotify\n",
      "267 /1633 : 5XgsBMyNBUQeDyYokC1vKg Absolution Ghost Meliora (Deluxe Edition)\n"
     ]
    },
    {
     "name": "stdout",
     "output_type": "stream",
     "text": [
      "268 /1633 : 5j3iBuHq6vv7VcBo4Y2QrK Cirice Ghost Meliora\n"
     ]
    },
    {
     "name": "stdout",
     "output_type": "stream",
     "text": [
      "269 /1633 : 5GjH3tVjg5xR50B9bZ75UR Deus In Absentia Ghost Meliora (Deluxe Edition)\n",
      "270 /1633 : 3fONTzb0YbrERyL1fCgXzH Devil Church Ghost Meliora (Deluxe Edition)\n"
     ]
    },
    {
     "name": "stdout",
     "output_type": "stream",
     "text": [
      "271 /1633 : 68OVKwrzkwGqQZIm9MVwUK From The Pinnacle To The Pit Ghost Meliora\n",
      "272 /1633 : 6NFKy0jg3S6x380iuF47jX He Is Ghost Meliora\n"
     ]
    },
    {
     "name": "stdout",
     "output_type": "stream",
     "text": [
      "273 /1633 : 59mBIMw5eSIRG6U2vqBMOY Majesty Ghost Meliora (Deluxe Edition)\n",
      "274 /1633 : 0zL2CizOnEyMoT90JIZ8FF Mummy Dust Ghost Meliora (Deluxe Edition)\n",
      "275 /1633 : 49c3XYYNNAiXrvv19F88I4 Spirit Ghost Meliora (Deluxe Edition)\n",
      "276 /1633 : 5yLxJlzVcyXXFhljuklZx6 Spöksonat Ghost Meliora (Deluxe Edition)\n"
     ]
    },
    {
     "name": "stdout",
     "output_type": "stream",
     "text": [
      "277 /1633 : 3XNPRJeE1ssODmXDS7hP22 Square Hammer Ghost Popestar\n",
      "278 /1633 : 7rIovIsXE6kMn629b7kDig I Will Survive Gloria Gaynor Love Tracks\n",
      "artist:\"GoGo Penguin\" album:\"Man Made Object\" track:\"Unspeakable Word\" not in spotify\n"
     ]
    },
    {
     "name": "stdout",
     "output_type": "stream",
     "text": [
      "280 /1633 : 3cFZcbBhNihxFL2qReV5Nz Backbone Gojira From Mars to Sirius\n"
     ]
    },
    {
     "name": "stdout",
     "output_type": "stream",
     "text": [
      "281 /1633 : 6SJ2LK3yMdGzC4AEcXJZo4 Flying Whales Gojira From Mars to Sirius\n",
      "282 /1633 : 66zWscDn7cl5osZGXOKNuv From Mars Gojira From Mars to Sirius\n"
     ]
    },
    {
     "name": "stdout",
     "output_type": "stream",
     "text": [
      "283 /1633 : 4Kos2MfSvR8JbBtWnhABqe From the Sky Gojira From Mars to Sirius\n",
      "284 /1633 : 0R4bveklUijKCsor0MwO4s Global Warming Gojira From Mars to Sirius\n",
      "285 /1633 : 5AQ0M1m445kYASuGuGGM5F In the Wilderness Gojira From Mars to Sirius\n"
     ]
    },
    {
     "name": "stdout",
     "output_type": "stream",
     "text": [
      "286 /1633 : 1ZNlVOjJrqkrgsEWd8jrGd Ocean Planet Gojira From Mars to Sirius\n",
      "287 /1633 : 4ahFbXso4kfpQcqTixdJWJ The Heaviest Matter of the Universe Gojira From Mars to Sirius\n"
     ]
    },
    {
     "name": "stdout",
     "output_type": "stream",
     "text": [
      "288 /1633 : 0UqumIKa2ORkRjKMDsWn97 To Sirius Gojira From Mars to Sirius\n",
      "289 /1633 : 2Nt8pTK334DxK2nFjJx7hS Unicorn Gojira From Mars to Sirius\n",
      "290 /1633 : 60QIEgDTd2zsu4jvaorx5P Where Dragons Dwell Gojira From Mars to Sirius\n"
     ]
    },
    {
     "name": "stdout",
     "output_type": "stream",
     "text": [
      "291 /1633 : 1dnYxJzry3CTGceBEWXXKP World to Come Gojira From Mars to Sirius\n",
      "artist:\"Gojira\" album:\"L'enfant Sauvage\" track:\"Born in Winter\" not in spotify\n"
     ]
    },
    {
     "name": "stdout",
     "output_type": "stream",
     "text": [
      "292 /1633 : 1rDzUqMRA9VdGCIwzgfeh9 Born in Winter Gojira L'Enfant Sauvage (Special Edition)\n",
      "artist:\"Gojira\" album:\"L'enfant Sauvage\" track:\"Explosia\" not in spotify\n",
      "293 /1633 : 7f7AkrOCmi5X6Eovd3TiNq Explosia Gojira L'Enfant Sauvage (Special Edition)\n",
      "artist:\"Gojira\" album:\"L'enfant Sauvage\" track:\"L'Enfant Sauvage\" not in spotify\n"
     ]
    },
    {
     "name": "stdout",
     "output_type": "stream",
     "text": [
      "294 /1633 : 4PWxt9Fy949kUtkEi2GI5V L'enfant sauvage Gojira L'Enfant Sauvage (Special Edition)\n",
      "artist:\"Gojira\" album:\"L'enfant Sauvage\" track:\"Liquid Fire\" not in spotify\n",
      "295 /1633 : 5BHLmCLntTLjSFGl8MG5wZ Liquid Fire Gojira L'Enfant Sauvage (Special Edition)\n"
     ]
    },
    {
     "name": "stdout",
     "output_type": "stream",
     "text": [
      "artist:\"Gojira\" album:\"L'enfant Sauvage\" track:\"Mouth of Kala\" not in spotify\n",
      "296 /1633 : 3YVwGFmSc1ycqsk6qLNAK3 Mouth of Kala Gojira L'Enfant Sauvage (Special Edition)\n",
      "artist:\"Gojira\" album:\"L'enfant Sauvage\" track:\"My Last Creation\" not in spotify\n"
     ]
    },
    {
     "name": "stdout",
     "output_type": "stream",
     "text": [
      "297 /1633 : 6TEDqADSZjLJ8sH1q8yQDt My Last Creation Gojira L'Enfant Sauvage (Special Edition)\n",
      "artist:\"Gojira\" album:\"L'enfant Sauvage\" track:\"Pain is a Master\" not in spotify\n"
     ]
    },
    {
     "name": "stdout",
     "output_type": "stream",
     "text": [
      "298 /1633 : 341EpTlTyC2YbVAxPurQon Pain Is a Master Gojira L'Enfant Sauvage (Special Edition)\n",
      "artist:\"Gojira\" album:\"L'enfant Sauvage\" track:\"Planned Obsolescence\" not in spotify\n",
      "299 /1633 : 57caEZCym7upL7k7wt5h4o Planned Obsolescence Gojira L'Enfant Sauvage (Special Edition)\n",
      "artist:\"Gojira\" album:\"L'enfant Sauvage\" track:\"The Axe\" not in spotify\n"
     ]
    },
    {
     "name": "stdout",
     "output_type": "stream",
     "text": [
      "300 /1633 : 25I6CiICRyGB0K7E9c7Ho0 The Axe Gojira L'Enfant Sauvage (Special Edition)\n",
      "artist:\"Gojira\" album:\"L'enfant Sauvage\" track:\"The Fall\" not in spotify\n",
      "301 /1633 : 6WwjzD7ZnIgzWHKyOvGqG1 The Fall Gojira L'Enfant Sauvage (Special Edition)\n",
      "artist:\"Gojira\" album:\"L'enfant Sauvage\" track:\"The Gift of Guilt\" not in spotify\n"
     ]
    },
    {
     "name": "stdout",
     "output_type": "stream",
     "text": [
      "302 /1633 : 1mjC68qU0Q9HlCIZHZAEko The Gift of Guilt Gojira L'Enfant Sauvage (Special Edition)\n",
      "artist:\"Gojira\" album:\"L'enfant Sauvage\" track:\"The Wild Healer\" not in spotify\n",
      "303 /1633 : 1Pa0DVjBUGreCBHIh81G50 The Wild Healer Gojira L'Enfant Sauvage (Special Edition)\n",
      "artist:\"Gojira\" album:\"L'enfant Sauvage\" track:\"This Emptiness\" not in spotify\n"
     ]
    },
    {
     "name": "stdout",
     "output_type": "stream",
     "text": [
      "304 /1633 : 5HTPySHVzKat76M1IbiNml This Emptiness Gojira L'Enfant Sauvage (Special Edition)\n",
      "305 /1633 : 5uunXHE4kIW6uS4HWAXaOQ Silvera Gojira Magma\n",
      "306 /1633 : 5yLOyGXa8YQgV3UdSeA5VT Connected Gojira The Link\n",
      "307 /1633 : 3vWeB1ny6gATCESvbxQmNY Dawn Gojira The Link\n"
     ]
    },
    {
     "name": "stdout",
     "output_type": "stream",
     "text": [
      "308 /1633 : 4HRPlBGRFhJY30ebslYUJp Death of Me Gojira The Link\n",
      "309 /1633 : 3NJI0y0seJPfaEbtd0wl50 Embrace the World Gojira The Link\n",
      "310 /1633 : 5OpGKsl636zTBBc2XS1FpY Indians Gojira The Link\n",
      "311 /1633 : 0y2N10hggEXX7w56N8lgj6 Inward Movement Gojira The Link\n"
     ]
    },
    {
     "name": "stdout",
     "output_type": "stream",
     "text": [
      "312 /1633 : 6qIbi5Ei6YZX3SFNtpxr7C Over the Flows Gojira The Link\n",
      "313 /1633 : 59U4m6s68QyGKIpLAln8Fn Remembrance Gojira The Link\n",
      "314 /1633 : 7EEmkoMA3IbFTmmSyMU28A The Link Gojira The Link\n",
      "315 /1633 : 7iFhazAnC4DQ4iVllaX06G Torii Gojira The Link\n"
     ]
    },
    {
     "name": "stdout",
     "output_type": "stream",
     "text": [
      "316 /1633 : 7L2GlyA2Kprss5C2UPz1oS Wisdom Comes Gojira The Link\n",
      "317 /1633 : 2fA5O6Fs60rtXxIfelVKcH A sight to behold Gojira The way of all flesh\n",
      "318 /1633 : 3l5h9gjuQDSC6CI0N6Fr0v Adoration for none Gojira The way of all flesh\n",
      "319 /1633 : 5teKBipvWxQLE4p2pbDnfg All the tears Gojira The way of all flesh\n"
     ]
    },
    {
     "name": "stdout",
     "output_type": "stream",
     "text": [
      "320 /1633 : 7bUcTW0mHg4Ec0kgdXemEG Esoteric surgery Gojira The way of all flesh\n",
      "321 /1633 : 6WUNfk8ULz9ZdmC9f315Qp Oroborus Gojira The way of all flesh\n",
      "322 /1633 : 7iMQChXFK33TS49QWhE4tt The art of dying Gojira The way of all flesh\n"
     ]
    },
    {
     "name": "stdout",
     "output_type": "stream",
     "text": [
      "323 /1633 : 60wIvuNq3tkIZIkXxWuzn5 The silver cord Gojira The way of all flesh\n",
      "324 /1633 : 0HdiTgG4G5TYhz14IkGa0p The way of all flesh Gojira The way of all flesh\n",
      "325 /1633 : 5e0OSsSpWpQ2kS7Z9CGLDu Toxic garbage island Gojira The way of all flesh\n"
     ]
    },
    {
     "name": "stdout",
     "output_type": "stream",
     "text": [
      "326 /1633 : 16yvB7exWWUBkZ9fFkLVMI Vacuity Gojira The way of all flesh\n",
      "327 /1633 : 368sgQMnEzwo5mpShvPFJm Wolf down the earth Gojira The way of all flesh\n",
      "328 /1633 : 67dGM4VgqZwmWUKGAVYO5o Yama's messengers Gojira The way of all flesh\n"
     ]
    },
    {
     "name": "stdout",
     "output_type": "stream",
     "text": [
      "329 /1633 : 5NYKOiiSD0iC5BaBFyOiFP Are You Receiving Me Golden Earring Moontan\n",
      "330 /1633 : 5t7tuBGnmy1AegGj6WMvqt Candy's Going Bad Golden Earring Moontan\n",
      "331 /1633 : 4ENwYjiCcpOHXLQ2SM2M0E Just Like Vince Taylor Golden Earring Moontan\n"
     ]
    },
    {
     "name": "stdout",
     "output_type": "stream",
     "text": [
      "332 /1633 : 5tU9JM1v72X7oM808Am6Fq Radar Love Golden Earring Moontan\n",
      "333 /1633 : 5ld7iP4kXPPBFRL4Q65M9s Suzy Lunacy - Mental Rock Golden Earring Moontan\n",
      "334 /1633 : 5cpKDL7ArW8F2JtUk0wuQM The Vanilla Queen Golden Earring Moontan\n"
     ]
    },
    {
     "name": "stdout",
     "output_type": "stream",
     "text": [
      "335 /1633 : 76Ug1q4l6rGwJ2ubV5wh3X All Alone Gorillaz Demon Days\n",
      "336 /1633 : 4Hff1IjRbLGeLgFgxvHflk DARE Gorillaz Demon Days\n",
      "337 /1633 : 2k6hpKTyubRVOmQR11ViY3 Demon Days Gorillaz Demon Days\n"
     ]
    },
    {
     "name": "stdout",
     "output_type": "stream",
     "text": [
      "338 /1633 : 2bfGNzdiRa1jXZRdfssSzR Dirty Harry Gorillaz Demon Days\n",
      "artist:\"Gorillaz\" album:\"Demon Days\" track:\"Don't Get Lost in Heaven\" not in spotify\n",
      "339 /1633 : 4hjGZN8poACfjWCK3Og6vY Don't Get Lost in Heaven Gorillaz Demon Days\n",
      "340 /1633 : 0dcMqjeDpwqB2xhzMsld0p El Mañana Gorillaz Demon Days\n"
     ]
    },
    {
     "name": "stdout",
     "output_type": "stream",
     "text": [
      "341 /1633 : 2pw9RZWZibttZzoFhwjuy6 Every Planet We Reach Is Dead Gorillaz Demon Days\n",
      "342 /1633 : 0d28khcov6AiegSCpG5TuT Feel Good Inc. Gorillaz Demon Days\n",
      "343 /1633 : 1S9tfxdFr4TqoqA14gnKj3 Fire Coming out of the Monkey's Head Gorillaz Demon Days\n"
     ]
    },
    {
     "name": "stdout",
     "output_type": "stream",
     "text": [
      "344 /1633 : 2zavoMfVVPJMikH57fd8yK Intro Gorillaz Demon Days\n",
      "345 /1633 : 0eEgMbSzOHmkOeVuNC3E0k Kids with Guns Gorillaz Demon Days\n",
      "346 /1633 : 7JzmCjvB6bk48JghLyrg8N Last Living Souls Gorillaz Demon Days\n"
     ]
    },
    {
     "name": "stdout",
     "output_type": "stream",
     "text": [
      "347 /1633 : 6lrDckuosGpwEHtm1hHBcf November Has Come Gorillaz Demon Days\n",
      "348 /1633 : 4hNPMfFHauPIbOKvdYqFt7 O Green World Gorillaz Demon Days\n"
     ]
    },
    {
     "name": "stdout",
     "output_type": "stream",
     "text": [
      "349 /1633 : 7hnW9af7GuGH5lyUUTa8UH White Light Gorillaz Demon Days\n",
      "350 /1633 : 3THFKx88trZuOFlssVLJ5G Broken Gorillaz Plastic Beach\n",
      "351 /1633 : 0NDOVMOT6ah2k6HuXLrq5x Cloud of Unknowing (feat. Bobby Womack and Sinfonia ViVA) Gorillaz Plastic Beach\n"
     ]
    },
    {
     "name": "stdout",
     "output_type": "stream",
     "text": [
      "artist:\"Gorillaz\" album:\"Plastic Beach\" track:\"Doncamatic\" not in spotify\n",
      "353 /1633 : 3a6PN6BRB8PP3ms48s7kU1 Empire Ants (feat. Little Dragon) Gorillaz Plastic Beach\n"
     ]
    },
    {
     "name": "stdout",
     "output_type": "stream",
     "text": [
      "354 /1633 : 4EJFCpthcrP6oOUUXQZ22Z Glitter Freeze (feat. Mark E Smith) Gorillaz Plastic Beach\n",
      "355 /1633 : 0q6LuUqGLUiCPP1cbdwFs3 On Melancholy Hill Gorillaz Plastic Beach\n",
      "356 /1633 : 3s2f6XU5sJ6aqEe7GgDBta Orchestral Intro (feat. Sinfonia ViVA) Gorillaz Plastic Beach\n"
     ]
    },
    {
     "name": "stdout",
     "output_type": "stream",
     "text": [
      "357 /1633 : 0xSF7iHZQxaZYMAiBfobms Pirate Jet Gorillaz Plastic Beach\n",
      "artist:\"Gorillaz\" album:\"Plastic Beach\" track:\"Pirate's Progress\" not in spotify\n",
      "artist:\"Gorillaz\" album:\"Plastic Beach\" track:\"Pirates Progress\" not in spotify\n"
     ]
    },
    {
     "name": "stdout",
     "output_type": "stream",
     "text": [
      "359 /1633 : 2nZ33CKRbgpJQJJQKHuGXb Plastic Beach (feat. Mick Jones and Paul Simonon) Gorillaz Plastic Beach\n",
      "360 /1633 : 1foMv2HQwfQ2vntFf9HFeG Rhinestone Eyes Gorillaz Plastic Beach\n",
      "361 /1633 : 4M88Wd7Aps5LGRWMOC7gSH Some Kind of Nature (feat. Lou Reed) Gorillaz Plastic Beach\n",
      "362 /1633 : 6LUfuyLgvgqrykiTE6sJHY Stylo (feat. Mos Def and Bobby Womack) Gorillaz Plastic Beach\n"
     ]
    },
    {
     "name": "stdout",
     "output_type": "stream",
     "text": [
      "363 /1633 : 1UJNbgfTzG1gZZTWFJdMf1 Superfast Jellyfish (feat. Gruff Rhys and De La Soul) Gorillaz Plastic Beach\n",
      "364 /1633 : 5SM5amC17V4itA5jxIICjS Sweepstakes (feat. Mos Def and Hypnotic Brass Ensemble) Gorillaz Plastic Beach\n",
      "365 /1633 : 1dvOwoHwZB9SwvRw2Gv3nz To Binge (feat. Little Dragon) Gorillaz Plastic Beach\n",
      "366 /1633 : 46WOptLnXUtH3LOyYvmMO1 Welcome to the World of the Plastic Beach (feat. Snoop Dogg and Hypnotic Brass Ensemble) Gorillaz Plastic Beach\n"
     ]
    },
    {
     "name": "stdout",
     "output_type": "stream",
     "text": [
      "367 /1633 : 3famfyGuWw5QFcVO5Xk1uW White Flag (feat. Bashy, Kano and the National Orchestra for Arabic Music) Gorillaz Plastic Beach\n",
      "368 /1633 : 2haIfONRw1Bhi2zSp67MYU Aries (feat. Peter Hook and Georgia) Gorillaz Song Machine Episode 3\n",
      "369 /1633 : 6xbDAaVUnQ2kaPAg5GXjFW Detroit Gorillaz The Fall\n",
      "370 /1633 : 6nTiIhLmQ3FWhvrGafw2zj American Idiot Green Day American Idiot\n"
     ]
    },
    {
     "name": "stdout",
     "output_type": "stream",
     "text": [
      "371 /1633 : 3YBZIN3rekqsKxbJc9FZko Paradise City Guns N' Roses Appetite For Destruction\n",
      "372 /1633 : 7o2CTH4ctstm8TNelqjb51 Sweet Child O' Mine Guns N' Roses Appetite For Destruction\n",
      "373 /1633 : 3Llikc7f9KKGYwbrEfAYtk 1985 Haken Affinity\n",
      "artist:\"Haken\" album:\"Affinity\" track:\"affinitiy.exe / Initiate\" not in spotify\n"
     ]
    },
    {
     "name": "stdout",
     "output_type": "stream",
     "text": [
      "375 /1633 : 48yGP7ecT6JknKUZzLbu6e Bound by Gravity Haken Affinity\n",
      "376 /1633 : 1OtGh4nRaCYGisPJwubjvz Earthrise Haken Affinity\n",
      "377 /1633 : 4eS9umlLK4MYscFl5qXxBQ Lapse Haken Affinity\n",
      "378 /1633 : 7B2T9UwGKfbUg2ChxyiMI6 Red Giant Haken Affinity\n"
     ]
    },
    {
     "name": "stdout",
     "output_type": "stream",
     "text": [
      "379 /1633 : 2sApFpOvdX7RKiHbShekNL The Architect Haken Affinity\n",
      "380 /1633 : 1ux3tUN5QnfnFlyDTCxELH The Endless Knot Haken Affinity\n",
      "artist:\"Happy End\" album:\"Kazemachi Roman\" track:\"Aiga wo\r",
      "\" not in spotify\n",
      "artist:\"Happy End\" album:\"Kazemachi Roman\" track:\"Ashita tenki ni Naare\" not in spotify\n"
     ]
    },
    {
     "name": "stdout",
     "output_type": "stream",
     "text": [
      "artist:\"Happy End\" album:\"Kazemachi Roman\" track:\"Dakishimetai\" not in spotify\n",
      "artist:\"Happy End\" album:\"Kazemachi Roman\" track:\"Haikara Beautiful\" not in spotify\n",
      "artist:\"Happy End\" album:\"Kazemachi Roman\" track:\"Haikara Hakuchi\" not in spotify\n",
      "artist:\"Happy End\" album:\"Kazemachi Roman\" track:\"Hanaichimonme\" not in spotify\n"
     ]
    },
    {
     "name": "stdout",
     "output_type": "stream",
     "text": [
      "artist:\"Happy End\" album:\"Kazemachi Roman\" track:\"Haru Ranman\" not in spotify\n",
      "artist:\"Happy End\" album:\"Kazemachi Roman\" track:\"Kaze wo Atsumete\" not in spotify\n"
     ]
    },
    {
     "name": "stdout",
     "output_type": "stream",
     "text": [
      "artist:\"Happy End\" album:\"Kazemachi Roman\" track:\"Kurayamizaka Musasabi Henka\" not in spotify\n",
      "artist:\"Happy End\" album:\"Kazemachi Roman\" track:\"Natsu nandesu\" not in spotify\n",
      "artist:\"Happy End\" album:\"Kazemachi Roman\" track:\"Sorairo no Crayon\" not in spotify\n",
      "artist:\"Happy End\" album:\"Kazemachi Roman\" track:\"Taifuu\" not in spotify\n"
     ]
    },
    {
     "name": "stdout",
     "output_type": "stream",
     "text": [
      "393 /1633 : 20zOIoex7YchUh87d8tlvg Boogie Nights Heatwave Too Hot To Handle\n",
      "394 /1633 : 4Ce66JznW8QbeyTdSzdGwR Chameleon Herbie Hancock Head Hunters\n",
      "395 /1633 : 4WyVRn3L2uXnSUkY762gqN Sly Herbie Hancock Head Hunters\n"
     ]
    },
    {
     "name": "stdout",
     "output_type": "stream",
     "text": [
      "396 /1633 : 6c0ziyel6ZMTQ37vKRooGZ Vein Melter Herbie Hancock Head Hunters\n",
      "397 /1633 : 2zQl59dZMzwhrmeSBEgiXY Watermelon Man Herbie Hancock Head Hunters\n"
     ]
    },
    {
     "name": "stdout",
     "output_type": "stream",
     "text": [
      "398 /1633 : 24hwI6OhnNKAOpRDmoSi3q Hidden Shadows Herbie Hancock Sextant\n",
      "399 /1633 : 0sJyW4f7X5YvmrG0cPBLzI Hornets Herbie Hancock Sextant\n",
      "400 /1633 : 5c5F0rVz812oUbgRUq5HcR Rain Dance Herbie Hancock Sextant\n"
     ]
    },
    {
     "name": "stdout",
     "output_type": "stream",
     "text": [
      "401 /1633 : 4QPFsGzN0Z4yh1NchgpeOk The One I Call Hey Hey My My British Hawaii\n",
      "402 /1633 : 3QQgR5v0nGHNxMsMqVLrnW Périmètre Hugo TSR Périmètre\n",
      "artist:\"IAM\" album:\"L'École du Micro d'Argent\" track:\"Bouger la tête\" not in spotify\n",
      "403 /1633 : 3vb3cuNO0q8qL4fni4gTxn Bouger la tête Iam L'école du micro d'argent\n"
     ]
    },
    {
     "name": "stdout",
     "output_type": "stream",
     "text": [
      "artist:\"IAM\" album:\"L'École du Micro d'Argent\" track:\"Chez le mac\" not in spotify\n",
      "404 /1633 : 2D7I6bbfc2Vvz4zYBGWvW1 Chez le mac Iam L'école du micro d'argent\n"
     ]
    },
    {
     "name": "stdout",
     "output_type": "stream",
     "text": [
      "artist:\"IAM\" album:\"L'École du Micro d'Argent\" track:\"Dangereux\" not in spotify\n"
     ]
    },
    {
     "name": "stdout",
     "output_type": "stream",
     "text": [
      "405 /1633 : 3ivCKJqe7y23kebjJnb2Ua Dangereux Iam L'école du micro d'argent\n",
      "artist:\"IAM\" album:\"L'École du Micro d'Argent\" track:\"Demain, c'est loin\" not in spotify\n",
      "406 /1633 : 0QtKyWOrV5Vhw2n5Yf7LcF Demain, c'est loin Iam L'école du micro d'argent\n"
     ]
    },
    {
     "name": "stdout",
     "output_type": "stream",
     "text": [
      "artist:\"IAM\" album:\"L'École du Micro d'Argent\" track:\"Elle donne son corps avant son nom\" not in spotify\n",
      "407 /1633 : 0BdZEQpJDKgj0DWBfiG1DH Elle donne son corps avant son nom Iam L'école du micro d'argent\n"
     ]
    },
    {
     "name": "stdout",
     "output_type": "stream",
     "text": [
      "artist:\"IAM\" album:\"L'École du Micro d'Argent\" track:\"L'École du Micro d'Argent\" not in spotify\n",
      "408 /1633 : 1Y1lbYkWGFBZSgQmF5TXaU L'école du micro d'argent Iam L'école du micro d'argent\n"
     ]
    },
    {
     "name": "stdout",
     "output_type": "stream",
     "text": [
      "artist:\"IAM\" album:\"L'École du Micro d'Argent\" track:\"L'empire du côté obscur\" not in spotify\n",
      "409 /1633 : 2I5S4UqzgMdooPBc31EmgX L'empire du côté obscur Iam L'école du micro d'argent\n",
      "artist:\"IAM\" album:\"L'École du Micro d'Argent\" track:\"L'enfer\" not in spotify\n",
      "410 /1633 : 5kpqjjwrI3GIVR2qMBqr3D L'enfer (feat. East & Fabe) Iam L'école du micro d'argent\n"
     ]
    },
    {
     "name": "stdout",
     "output_type": "stream",
     "text": [
      "artist:\"IAM\" album:\"L'École du Micro d'Argent\" track:\"La Saga\" not in spotify\n",
      "411 /1633 : 3mFHyDEPrWnc29OlWUBtPI La saga Iam L'école du micro d'argent\n",
      "artist:\"IAM\" album:\"L'École du Micro d'Argent\" track:\"Libère mon imagination\" not in spotify\n",
      "412 /1633 : 2qfrNd9xxV6Axycd3F5Eqb Libère mon imagination Iam L'école Du Micro D'argent (Edition Collector)\n"
     ]
    },
    {
     "name": "stdout",
     "output_type": "stream",
     "text": [
      "artist:\"IAM\" album:\"L'École du Micro d'Argent\" track:\"Nés sous la même étoile\" not in spotify\n",
      "413 /1633 : 66ZtqKhYSA8XyPr0aAUFsm Nés sous la même étoile Iam L'école du micro d'argent\n",
      "artist:\"IAM\" album:\"L'École du Micro d'Argent\" track:\"Petit Frère\" not in spotify\n"
     ]
    },
    {
     "name": "stdout",
     "output_type": "stream",
     "text": [
      "414 /1633 : 3jqBLwtTiUYismDiZgAgPE Petit frère Iam L'école du micro d'argent\n",
      "artist:\"IAM\" album:\"L'École du Micro d'Argent\" track:\"Quant tu allais, on revenait\" not in spotify\n",
      "artist:\"IAM\" album:\"LÉcole du Micro dArgent\" track:\"Quant tu allais, on revenait\" not in spotify\n",
      "artist:\"IAM\" album:\"L'École du Micro d'Argent\" track:\"Regarde\" not in spotify\n"
     ]
    },
    {
     "name": "stdout",
     "output_type": "stream",
     "text": [
      "416 /1633 : 6Fu77zQJkRBzzCPRnSMWgI Regarde Iam L'école du micro d'argent\n",
      "artist:\"IAM\" album:\"L'École du Micro d'Argent\" track:\"Un bon son brut pour les truands\" not in spotify\n",
      "417 /1633 : 3gN0dANbfEdlK3p31pqgw9 Un bon son brut pour les truands Iam L'école du micro d'argent\n"
     ]
    },
    {
     "name": "stdout",
     "output_type": "stream",
     "text": [
      "artist:\"IAM\" album:\"L'École du Micro d'Argent\" track:\"Un cri court dans la nuit\" not in spotify\n",
      "418 /1633 : 35wUBvwdtylu6S1QO5cUur Un cri court dans la nuit (feat. Nuttea) Iam L'école du micro d'argent\n",
      "419 /1633 : 79xLxZrpdURjzJmdHKB85a Downgrade Desert Igorrr Spirituality and Distortion\n"
     ]
    },
    {
     "name": "stdout",
     "output_type": "stream",
     "text": [
      "420 /1633 : 0JBQnLKfLXmlkquabLtAgd Only for the Weak In Flames Clayman\n",
      "artist:\"Incantation\" album:\"Pan Pipes of the Andes\" track:\"Cacharpaya\" not in spotify\n",
      "422 /1633 : 6HEUfzCyqifQFu2ni9aTLV No More Lies - 2015 Remaster Iron Maiden Dance of Death (2015 Remaster)\n",
      "artist:\"Jake Chudnow\" album:\"Short Stories\" track:\"Poodles\" not in spotify\n"
     ]
    },
    {
     "name": "stdout",
     "output_type": "stream",
     "text": [
      "artist:\"Jake Chudnow\" album:\"Short Stories\" track:\"Turquoise\" not in spotify\n",
      "425 /1633 : 2Cdvbe2G4hZsnhNMKyGrie I Love Rock 'N Roll Joan Jett & The Blackhearts I Love Rock 'N' Roll (Expanded Edition)\n",
      "426 /1633 : 2jgbxmCRAbqK1dSMY33g6A Les Champs-Elysées Joe Dassin Joe Dassin Éternel...\n"
     ]
    },
    {
     "name": "stdout",
     "output_type": "stream",
     "text": [
      "427 /1633 : 5Fj0n0wENSFbch3J8GrHZM Toccata and Fugue in D Minor, BWV 565 Johann Sebastian Bach Bach Famous Pieces\n",
      "428 /1633 : 5431KRbZtVF3tVgMR1lIYS An der schönen blauen Donau, Walzer, Op. 314 Johann Strauss II Neujahrskonzert 2020 / New Year's Concert 2020 / Concert du Nouvel An 2020\n",
      "429 /1633 : 3FX6GRtdDjwVmY70vp1bQ6 Finale John Adams I WAS LOOKING AT THE CEILING AND THEN I SAW THE SKY\n"
     ]
    },
    {
     "name": "stdout",
     "output_type": "stream",
     "text": [
      "430 /1633 : 1YYhDizHx7PnDhAhko6cDS Take Me Home, Country Roads John Denver Poems, Prayers and Promises\n",
      "431 /1633 : 7pKfPomDEeI4TPT6EOYjn9 Imagine - 2010 Mix John Lennon Imagine\n",
      "432 /1633 : 2hfoyc7ve6xM4ZEiNIiU1B Gimme Love Joji Gimme Love\n"
     ]
    },
    {
     "name": "stdout",
     "output_type": "stream",
     "text": [
      "433 /1633 : 3zbZNJ1yewL5HqjvIEjjUD Folie Jul La machine\n",
      "434 /1633 : 3dyoo6UNb2VlMTISBqrDb1 Sousou Jul Sousou\n",
      "artist:\"Jun Fukamachi\" album:\"Quark\" track:\"Desillusion\" not in spotify\n"
     ]
    },
    {
     "name": "stdout",
     "output_type": "stream",
     "text": [
      "artist:\"Jun Fukamachi\" album:\"Quark\" track:\"Insight\" not in spotify\n"
     ]
    },
    {
     "name": "stdout",
     "output_type": "stream",
     "text": [
      "artist:\"Jun Fukamachi\" album:\"Quark\" track:\"Perpetual (Movement)\" not in spotify\n",
      "artist:\"Jun Fukamachi\" album:\"Quark\" track:\"Quark\" not in spotify\n",
      "439 /1633 : 7nrcCWHUVLM307ZJBWE2Y8 Pronostic Kalash Criminel Pronostic\n"
     ]
    },
    {
     "name": "stdout",
     "output_type": "stream",
     "text": [
      "artist:\"Kelly Bailey\" album:\"Half Life 2\" track:\"CP Violation\" not in spotify\n",
      "441 /1633 : 2WFggVC84b18ZkJTNgFnGP believe Kenichiro Nishihara Jazzy Folklore\n",
      "artist:\"Kenichiro Nishihara\" album:\"Jazzy Folklore\" track:\"Magazine\" not in spotify\n"
     ]
    },
    {
     "name": "stdout",
     "output_type": "stream",
     "text": [
      "443 /1633 : 6b6D94SnWcbNYYcw7ky7YL my leaving Kenichiro Nishihara Jazzy Folklore\n",
      "444 /1633 : 2gR2zWHWq1mGEraOgZvEuW my love my life Kenichiro Nishihara Jazzy Folklore\n",
      "445 /1633 : 69mJOQRpKgvq8dZX1jaeKZ pass the tea Kenichiro Nishihara Jazzy Folklore\n"
     ]
    },
    {
     "name": "stdout",
     "output_type": "stream",
     "text": [
      "446 /1633 : 6PPDZSjl29m4SpQbJqTBQZ piano choir Kenichiro Nishihara Jazzy Folklore\n",
      "447 /1633 : 3b6G3g3cB34x1sMggyffbS prism tale Kenichiro Nishihara Jazzy Folklore\n"
     ]
    },
    {
     "name": "stdout",
     "output_type": "stream",
     "text": [
      "artist:\"Kenichiro Nishihara\" album:\"Jazzy Folklore\" track:\"The Vibe\" not in spotify\n",
      "449 /1633 : 6pUjl3qNOXV9fbVIFQWtG3 waves Kenichiro Nishihara Jazzy Folklore\n"
     ]
    },
    {
     "name": "stdout",
     "output_type": "stream",
     "text": [
      "artist:\"Kenichiro Nishihara\" album:\"Jazzy Folklore\" track:\"Yesternow Immignrats\" not in spotify\n",
      "451 /1633 : 07q0QVgO56EorrSGHC48y3 I Was Made For Lovin' You KISS Dynasty\n",
      "artist:\"Koji Kondo\" album:\"Ocarina of Time\" track:\"Kokiri Forest\" not in spotify\n"
     ]
    },
    {
     "name": "stdout",
     "output_type": "stream",
     "text": [
      "453 /1633 : 1mMYaXpT65iZDtvfRA9EkE Fresh Kool & The Gang Emergency (Reissue)\n",
      "454 /1633 : 4Cv6ongCvJy9JfSkWVnb5D Get Down On It Kool & The Gang Something Special\n"
     ]
    },
    {
     "name": "stdout",
     "output_type": "stream",
     "text": [
      "455 /1633 : 1pr9TZGOXeJUggIal1Wq3R Blind Korn Korn\n",
      "456 /1633 : 2sofatcLrRA6B6tju4a31K Alone I Break Korn Untouchables\n"
     ]
    },
    {
     "name": "stdout",
     "output_type": "stream",
     "text": [
      "457 /1633 : 1M6gLLL90qPYbwJg2AkIcI Beat It Upright Korn Untouchables\n",
      "458 /1633 : 23AoAi4ac2u44LZfa22OLa Blame Korn Untouchables\n",
      "459 /1633 : 2XTcRVYXMn9sM03YXONZbO Bottled Up Inside Korn Untouchables\n"
     ]
    },
    {
     "name": "stdout",
     "output_type": "stream",
     "text": [
      "460 /1633 : 1KRsEJXVV7nCNMYRgcbMgJ Embrace Korn Untouchables\n",
      "461 /1633 : 43IfqzeXxzmSdnSxFf4e9i Hating Korn Untouchables\n",
      "462 /1633 : 66LT15XEqCaWiMG44NGQRE Here To Stay Korn Untouchables\n",
      "463 /1633 : 0FbBTiMe8HEUiru528vFbR Hollow Life Korn Untouchables\n"
     ]
    },
    {
     "name": "stdout",
     "output_type": "stream",
     "text": [
      "artist:\"Korn\" album:\"Untouchables\" track:\"I'm Hiding\" not in spotify\n",
      "464 /1633 : 5cC34hP5DxvsY6oZhGuJLz I'm Hiding Korn Untouchables\n",
      "465 /1633 : 57pB5sr8AvUmgW33ed6j4v Make Believe Korn Untouchables\n",
      "artist:\"Korn\" album:\"Untouchables\" track:\"No One's There\" not in spotify\n"
     ]
    },
    {
     "name": "stdout",
     "output_type": "stream",
     "text": [
      "466 /1633 : 1a6R7HnO53lOtE1PHRqsTB No One's There Korn Untouchables\n",
      "467 /1633 : 04C3AU7hOnj3AUdPncgCeH One More Time Korn Untouchables\n",
      "468 /1633 : 43NFMbNBTnIFDV0BKy9Sdz Thoughtless Korn Untouchables\n",
      "469 /1633 : 1HKEhWWqyNnxmpYpGoSjhL Wake Up Hate Korn Untouchables\n"
     ]
    },
    {
     "name": "stdout",
     "output_type": "stream",
     "text": [
      "470 /1633 : 0keNORyUWidCWh1I0gli6D A Quick Break Kristofer Maddigan Cuphead (Original Soundtrack)\n",
      "471 /1633 : 6xjSxW2xKQX60VQEuV5ce0 Admission to Perdition Kristofer Maddigan Cuphead (Original Soundtrack)\n",
      "472 /1633 : 0lR96n5ReVvMnSpeymAHIh All Bets Are Off Kristofer Maddigan Cuphead (Original Soundtrack)\n"
     ]
    },
    {
     "name": "stdout",
     "output_type": "stream",
     "text": [
      "473 /1633 : 4fxY3i5FNyP3LUzixUS7CD Aviary Action Kristofer Maddigan Cuphead (Original Soundtrack)\n",
      "474 /1633 : 0YBHCNZipJmhgykFFInajM Botanic Panic Kristofer Maddigan Cuphead (Original Soundtrack)\n",
      "475 /1633 : 5AMlkhfcb7TEVghsY4ymdD Carnival Kerfuffle Kristofer Maddigan Cuphead (Original Soundtrack)\n"
     ]
    },
    {
     "name": "stdout",
     "output_type": "stream",
     "text": [
      "476 /1633 : 4HSbWc9sk1fi7CbCxjYvda Chief Evil Officer Kristofer Maddigan Cuphead (Original Soundtrack)\n",
      "477 /1633 : 7uVpjihhrP2plvxnSzP6JY Clip Joint Calamity Kristofer Maddigan Cuphead (Original Soundtrack)\n",
      "478 /1633 : 5MsrxyKk8Pwwij03I8QHDs Closing Credits Kristofer Maddigan Cuphead (Original Soundtrack)\n"
     ]
    },
    {
     "name": "stdout",
     "output_type": "stream",
     "text": [
      "479 /1633 : 3xy2j2CjDQph91gUK71oHz Coin-Op Bop Kristofer Maddigan Cuphead (Original Soundtrack)\n",
      "480 /1633 : 3HpvQ7aZ5338LLRxPjUawN Die House Kristofer Maddigan Cuphead (Original Soundtrack)\n",
      "artist:\"Kristofer Maddigan\" album:\"Cuphead\" track:\"Don't Deal With The Devil (Instrumental)\" not in spotify\n",
      "481 /1633 : 55lscnv23cvuEyaf0xSxed Don't Deal with the Devil (Instrumental) Kristofer Maddigan Cuphead (Original Soundtrack)\n"
     ]
    },
    {
     "name": "stdout",
     "output_type": "stream",
     "text": [
      "482 /1633 : 7Hd76FhngTrK6KK8TNVnFb Dramatic Fanatic Kristofer Maddigan Cuphead (Original Soundtrack)\n",
      "483 /1633 : 6ktFdl272RBi7uk8FTPeuQ Elder Kettle Kristofer Maddigan Cuphead (Original Soundtrack)\n",
      "484 /1633 : 6oNYc9y8DfgEDh4HzPupAS Elder Kettle (Piano) Kristofer Maddigan Cuphead (Original Soundtrack)\n",
      "485 /1633 : 02h2lqTc872LnYQ7TOFMmF Fiery Frolic Kristofer Maddigan Cuphead (Original Soundtrack)\n"
     ]
    },
    {
     "name": "stdout",
     "output_type": "stream",
     "text": [
      "486 /1633 : 3zD0YE28NZ9qTHvfVl6imU Floral Fury Kristofer Maddigan Cuphead (Original Soundtrack)\n",
      "487 /1633 : 70THn7YYfyk1U4zozH3bUy Forest Follies Kristofer Maddigan Cuphead (Original Soundtrack)\n"
     ]
    },
    {
     "name": "stdout",
     "output_type": "stream",
     "text": [
      "488 /1633 : 7sJxeev8KjB8HXjA4pxy3E Funfair Fever Kristofer Maddigan Cuphead (Original Soundtrack)\n",
      "489 /1633 : 18glzC2ulLjpZAGRMt4eoA Funhouse Frazzle Kristofer Maddigan Cuphead (Original Soundtrack)\n"
     ]
    },
    {
     "name": "stdout",
     "output_type": "stream",
     "text": [
      "490 /1633 : 33bdiZAAiUu9MkwELMztV2 High Score Kristofer Maddigan Cuphead (Original Soundtrack)\n",
      "491 /1633 : 7MOLuGHl3msefPDQF8MeKG High Seas Hi-Jinx Kristofer Maddigan Cuphead (Original Soundtrack)\n",
      "492 /1633 : 0nKZsdHAqChEd0jwynrfoW Honeycomb Herald Kristofer Maddigan Cuphead (Original Soundtrack)\n"
     ]
    },
    {
     "name": "stdout",
     "output_type": "stream",
     "text": [
      "493 /1633 : 2AvPs6sbcDQQgXhRgmUufp Hurry Up Kristofer Maddigan Cuphead (Original Soundtrack)\n",
      "494 /1633 : 4IIhfvn5exIXltV9sznYtR Inkwell Hell Kristofer Maddigan Cuphead (Original Soundtrack)\n"
     ]
    },
    {
     "name": "stdout",
     "output_type": "stream",
     "text": [
      "495 /1633 : 0wdquw14LO4V24Oi5Fildy Inkwell Hell (Piano) Kristofer Maddigan Cuphead (Original Soundtrack)\n",
      "496 /1633 : 6UehmCQPTPaZk5R0VXQ5eE Inkwell Isle One Kristofer Maddigan Cuphead (Original Soundtrack)\n",
      "497 /1633 : 4mSI8DMnuj3JKXJwhaN9DM Inkwell Isle One (Piano) Kristofer Maddigan Cuphead (Original Soundtrack)\n"
     ]
    },
    {
     "name": "stdout",
     "output_type": "stream",
     "text": [
      "498 /1633 : 7MToKxeepujquHIVLya6jt Inkwell Isle Three Kristofer Maddigan Cuphead (Original Soundtrack)\n",
      "499 /1633 : 6JLAE1sWylNmvJU7283CGE Inkwell Isle Three (Piano) Kristofer Maddigan Cuphead (Original Soundtrack)\n",
      "500 /1633 : 2ZWRAljvtZIirVQWvcBGkD Inkwell Isle Two Kristofer Maddigan Cuphead (Original Soundtrack)\n"
     ]
    },
    {
     "name": "stdout",
     "output_type": "stream",
     "text": [
      "501 /1633 : 7IcqrOolPAgqxcK55hvqZk Inkwell Isle Two (Piano) Kristofer Maddigan Cuphead (Original Soundtrack)\n",
      "502 /1633 : 2ufr0Gs4OWL1Uo22EsJDSx Introduction Kristofer Maddigan Cuphead (Original Soundtrack)\n",
      "503 /1633 : 3LbC5JsZ1Sa4HGfhMFSS3o Junkyard Jive Kristofer Maddigan Cuphead (Original Soundtrack)\n"
     ]
    },
    {
     "name": "stdout",
     "output_type": "stream",
     "text": [
      "504 /1633 : 4TvuAd18ViTQJ19QAbezDT Legendary Ghost Kristofer Maddigan Cuphead (Original Soundtrack)\n"
     ]
    },
    {
     "name": "stdout",
     "output_type": "stream",
     "text": [
      "505 /1633 : 0HBseo5ADohKTaH6JK3rn1 Murine Corps Kristofer Maddigan Cuphead (Original Soundtrack)\n",
      "506 /1633 : 20KOgZJtB7XOButnyAsLQR Ominous Interlude Kristofer Maddigan Cuphead (Original Soundtrack)\n",
      "507 /1633 : 2PMX8sBBrT0q7B4sQkBR7a One Hell of a Time Kristofer Maddigan Cuphead (Original Soundtrack)\n"
     ]
    },
    {
     "name": "stdout",
     "output_type": "stream",
     "text": [
      "artist:\"Kristofer Maddigan\" album:\"Cuphead\" track:\"Perilious Piers\" not in spotify\n",
      "509 /1633 : 5vUWXPgS8kCAOP4tZ0o6vI Porkrind's Shop Kristofer Maddigan Cuphead (Original Soundtrack)\n",
      "510 /1633 : 0MX6VvRcqrvJXRLzfZUOmk Pyramid Peril Kristofer Maddigan Cuphead (Original Soundtrack)\n"
     ]
    },
    {
     "name": "stdout",
     "output_type": "stream",
     "text": [
      "511 /1633 : 0v3uNqdn2dHuSCQLFperyZ Railroad Wrath Kristofer Maddigan Cuphead (Original Soundtrack)\n",
      "512 /1633 : 7yHJxwR8NEZZzjcTdPWq5e Rugged Ridge Kristofer Maddigan Cuphead (Original Soundtrack)\n",
      "513 /1633 : 0dvxG9bYKI4ZUCYwcF3c5N Ruse of an Ooze Kristofer Maddigan Cuphead (Original Soundtrack)\n"
     ]
    },
    {
     "name": "stdout",
     "output_type": "stream",
     "text": [
      "514 /1633 : 4w4qrHEm4Olj1K070PKgvZ Shootin' 'n' Lootin' Kristofer Maddigan Cuphead (Original Soundtrack)\n",
      "515 /1633 : 7eVPSl96DJOMSc9rIBn6ft Sugarland Shimmy Kristofer Maddigan Cuphead (Original Soundtrack)\n"
     ]
    },
    {
     "name": "stdout",
     "output_type": "stream",
     "text": [
      "516 /1633 : 3Mk62kPEDmcXpEvAM8ng72 The Airship Kristofer Maddigan Cuphead (Original Soundtrack)\n",
      "517 /1633 : 6i6cXgQLeEH40MwUnaIxSJ The End Kristofer Maddigan Cuphead (Original Soundtrack)\n",
      "518 /1633 : 3Q1ihQlFp9V9VDYxlWb25u The King's Court Kristofer Maddigan Cuphead (Original Soundtrack)\n"
     ]
    },
    {
     "name": "stdout",
     "output_type": "stream",
     "text": [
      "519 /1633 : 1MpjMyBxY45fY5mUaqrdxj The Mausoleum Kristofer Maddigan Cuphead (Original Soundtrack)\n",
      "520 /1633 : 3cShnBQsJ2zLR6iya0V3z1 Threatenin' Zeppelin Kristofer Maddigan Cuphead (Original Soundtrack)\n",
      "521 /1633 : 7D4cP3Hn1VepH9ZpcP0t8R Treetop Trouble Kristofer Maddigan Cuphead (Original Soundtrack)\n",
      "522 /1633 : 3b283GyxalGqsqCqLNw8xR Tutorial Kristofer Maddigan Cuphead (Original Soundtrack)\n"
     ]
    },
    {
     "name": "stdout",
     "output_type": "stream",
     "text": [
      "523 /1633 : 4ZaUqU13ynXcIkfoznfU3n Victory Tune Kristofer Maddigan Cuphead (Original Soundtrack)\n",
      "524 /1633 : 4JdlT1FxsyGCKqaWxcSEfI Winner Takes All Kristofer Maddigan Cuphead (Original Soundtrack)\n",
      "525 /1633 : 3frUvGrmGcay91lvFbOgsN Like It Is Kygo Like It Is\n"
     ]
    },
    {
     "name": "stdout",
     "output_type": "stream",
     "text": [
      "artist:\"La P'tite Fumée\" track:\"Thunderbreizh\" not in spotify\n"
     ]
    },
    {
     "name": "stdout",
     "output_type": "stream",
     "text": [
      "526 /1633 : 715bpdFomgaPE1PgnLCf5f Thunderbreizh La P'tite Fumée Thunderbird\n",
      "527 /1633 : 2uWYOq36wrjC3UstoI1lRV Stupid Love - Vitaclub Warehouse Mix Lady Gaga Stupid Love (Vitaclub Warehouse Mix)\n",
      "artist:\"Lalo Schifrin\" album:\"Steal Away\" track:\"Serenata\" not in spotify\n",
      "529 /1633 : 1WWq2DUV0UbO4XJda2usuv 512 Lamb of God VII: Sturm und Drang\n"
     ]
    },
    {
     "name": "stdout",
     "output_type": "stream",
     "text": [
      "530 /1633 : 2fQ2iALVbAZ7MkH6PaaIJ6 No Quarter - 1990 Remaster Led Zeppelin Houses of the Holy (1994 Remaster)\n",
      "531 /1633 : 62p6fF2r4NY6pwZbxxvmr8 Fool in the Rain - 1990 Remaster Led Zeppelin In Through the out Door (1994 Remaster)\n",
      "532 /1633 : 1rxD34LAtkafrMUHqHIV76 Bring It on Home - 2012 Remaster Led Zeppelin Led Zeppelin II (Remaster)\n"
     ]
    },
    {
     "name": "stdout",
     "output_type": "stream",
     "text": [
      "533 /1633 : 6WE7jSshLCuVKoCmobVKVf Heartbreaker - 1990 Remaster Led Zeppelin Led Zeppelin II (1994 Remaster)\n",
      "534 /1633 : 49C6EGQhCUSgyADHYvJ7ez Living Loving Maid (She's Just a Woman) - 2012 Remaster Led Zeppelin Led Zeppelin II (Remaster)\n",
      "535 /1633 : 0h2gzJQBt6duqZD6kWiz4s Moby Dick Led Zeppelin Led Zeppelin II (1994 Remaster)\n"
     ]
    },
    {
     "name": "stdout",
     "output_type": "stream",
     "text": [
      "536 /1633 : 3MODES4TNtygekLl146Dxd Ramble On - 1990 Remaster Led Zeppelin Led Zeppelin II (1994 Remaster)\n",
      "537 /1633 : 4ZkhFcoS3apzze9w2yI9NO Thank You - 1990 Remaster Led Zeppelin Led Zeppelin II (1994 Remaster)\n",
      "538 /1633 : 5qbVkwfy0RYGFA6hAiIL90 The Lemon Song - 1993 Remaster Led Zeppelin Led Zeppelin II (1994 Remaster)\n"
     ]
    },
    {
     "name": "stdout",
     "output_type": "stream",
     "text": [
      "539 /1633 : 5G7uLHtoEW140QOcBpJlfz What Is and What Should Never Be - 1990 Remaster Led Zeppelin Led Zeppelin II (1994 Remaster)\n",
      "540 /1633 : 0hCB0YR03f6AmQaHbwWDe8 Whole Lotta Love - 1990 Remaster Led Zeppelin Led Zeppelin II (1994 Remaster)\n",
      "541 /1633 : 78MXICbE7bD4cuPKFh1EFO Celebration Day - 2012 Remaster Led Zeppelin Led Zeppelin III (Remaster)\n"
     ]
    },
    {
     "name": "stdout",
     "output_type": "stream",
     "text": [
      "542 /1633 : 4PRGxHpCpF2yoOHYKQIEwD Rock and Roll - 2012 Remaster Led Zeppelin Led Zeppelin IV (Deluxe Edition; Remaster)\n",
      "543 /1633 : 5tRb0Y2bloJGI8uskuAtRL Bonneville Leprous Malina\n",
      "544 /1633 : 5Yd4WNmT89T5wsafIMRjfA Captive Leprous Malina\n"
     ]
    },
    {
     "name": "stdout",
     "output_type": "stream",
     "text": [
      "545 /1633 : 3DsQZKycCle3aiZf6Tax3P Coma Leprous Malina\n"
     ]
    },
    {
     "name": "stdout",
     "output_type": "stream",
     "text": [
      "546 /1633 : 1tBxs9BqNlBXbIxVaCBrv5 From the Flame Leprous Malina\n",
      "547 /1633 : 2N3vUnZi5Nj54ELyI8wAJ7 Illuminate Leprous Malina\n",
      "548 /1633 : 43UDvLX76YlPWlXnMnzIUJ Leashes Leprous Malina\n"
     ]
    },
    {
     "name": "stdout",
     "output_type": "stream",
     "text": [
      "549 /1633 : 46KeFeHERSkT34TbIZsWRy Malina Leprous Malina\n",
      "550 /1633 : 2v5frKIhRuyDA9lgaaesR6 Mirage Leprous Malina\n",
      "551 /1633 : 74vy9v25MuoqNVBdAjGwJC Stuck Leprous Malina\n"
     ]
    },
    {
     "name": "stdout",
     "output_type": "stream",
     "text": [
      "552 /1633 : 2BeVytGUGVlT1vxFo0AowH The Last Milestone Leprous Malina\n"
     ]
    },
    {
     "name": "stdout",
     "output_type": "stream",
     "text": [
      "553 /1633 : 35OyuK76YVYWrokOGBA1Ln The Weight of Disaster Leprous Malina\n",
      "554 /1633 : 0mdiu7UpUOr5Non3kZt4uO Down Leprous The Congregation\n"
     ]
    },
    {
     "name": "stdout",
     "output_type": "stream",
     "text": [
      "555 /1633 : 3IJVVQUPhLMlrr1cQu2u3B Lower Leprous The Congregation\n",
      "556 /1633 : 2phdVu3rv0cAslwuG9Xydn Moon Leprous The Congregation\n",
      "artist:\"Leprous\" album:\"The Congregation\" track:\"Pixel\" not in spotify\n"
     ]
    },
    {
     "name": "stdout",
     "output_type": "stream",
     "text": [
      "558 /1633 : 1Cd0PU3AYHdd4tKGGmkIHx Red Leprous The Congregation\n",
      "559 /1633 : 12NwYmQT1Mm7gkrCjIuq0d Rewind Leprous The Congregation\n",
      "560 /1633 : 6RYWCMf5LvlUlgyYPTtplQ Slave Leprous The Congregation\n"
     ]
    },
    {
     "name": "stdout",
     "output_type": "stream",
     "text": [
      "561 /1633 : 3ta3S0R3EZYW0pTcopZP5P The Flood Leprous The Congregation\n",
      "562 /1633 : 134I0qT6UrkDjhbI6bx0x3 The Price Leprous The Congregation\n"
     ]
    },
    {
     "name": "stdout",
     "output_type": "stream",
     "text": [
      "563 /1633 : 77fpiSyauWmfvdQy2y02Bu Third Law Leprous The Congregation\n",
      "564 /1633 : 44KzUMe9Kn2xVxD5v7jisb Triumphant Leprous The Congregation\n",
      "565 /1633 : 2HA08a69UHthb1g8JMqkn3 Within My Fence Leprous The Congregation\n"
     ]
    },
    {
     "name": "stdout",
     "output_type": "stream",
     "text": [
      "566 /1633 : 60a0Rd6pjrkxjPbaKzXjfq In the End Linkin Park Hybrid Theory (Bonus Edition)\n",
      "567 /1633 : 2nLtzopw4rPReszdYBJU6h Numb Linkin Park Meteora\n",
      "artist:\"Lipps Inc.\" album:\"Mouth to Mouth\" track:\"Funkytown\" not in spotify\n"
     ]
    },
    {
     "name": "stdout",
     "output_type": "stream",
     "text": [
      "569 /1633 : 0FVbbb6EDyCckexuU1QRD4 Undecided Ludivine Issambourg Outlaws\n",
      "570 /1633 : 4gIyQ374qO8nTttl6AuOeR Arnold Luke Million Arnold / Sun Splash\n",
      "artist:\"Luke Million\" track:\"Ice Ice Arnie (Cool Party)\" not in spotify\n"
     ]
    },
    {
     "name": "stdout",
     "output_type": "stream",
     "text": [
      "artist:\"Lynrd Skynrd\" album:\"Second Helping\" track:\"Sweet Home Alabama\" not in spotify\n",
      "573 /1633 : 5U4ByJt0IvLu3bpF2DdDQT A Farewell to Arms Machine Head The Blackening\n",
      "574 /1633 : 2dy8eXtNCrLcpT006adx5g Aesthetics of Hate Machine Head The Blackening\n"
     ]
    },
    {
     "name": "stdout",
     "output_type": "stream",
     "text": [
      "575 /1633 : 5Cs6AftcanvD6Ib7YJ1otT Beautiful Mourning Machine Head The Blackening\n"
     ]
    },
    {
     "name": "stdout",
     "output_type": "stream",
     "text": [
      "576 /1633 : 7ao9MKmhkjeFxw0alndkdM Clenching the Fists of Dissent Machine Head The Blackening\n",
      "577 /1633 : 5nksa8EqKHSWO9WBj6DnmS Halo Machine Head The Blackening\n",
      "578 /1633 : 65GqoNsz3q6GMW9AXjv8mz Now I Lay Thee Down Machine Head The Blackening\n"
     ]
    },
    {
     "name": "stdout",
     "output_type": "stream",
     "text": [
      "579 /1633 : 4tH51l243jr1ZIrdHgXlQm Slanderous Machine Head The Blackening\n",
      "580 /1633 : 07xghD8AXeVlCHfnD18HM0 Wolves Machine Head The Blackening\n",
      "artist:\"Mahito Yokota\" album:\"Super Mario Galaxy\" track:\"Gusty Gardens\" not in spotify\n"
     ]
    },
    {
     "name": "stdout",
     "output_type": "stream",
     "text": [
      "582 /1633 : 2vruJV9zbgg0CE1x14vVFW Reste Maître Gims Ceinture noire (Transcendance)\n",
      "583 /1633 : 6Coa0F6vD2l3JBYK7cmY2X I Can’t Breathe Marcus Miller Afrodeezia\n",
      "584 /1633 : 62ubbkWAhTOftwgRjHS1UH All Night Long Mary Jane Girls Mary Jane Girls\n"
     ]
    },
    {
     "name": "stdout",
     "output_type": "stream",
     "text": [
      "585 /1633 : 2HuMQkNVpFIsur2cRWWQmX Exchange Massive Attack Mezzanine\n",
      "586 /1633 : 7uv632EkfwYhXoqf8rhYrg Angel Massive Attack Mezzanine\n"
     ]
    },
    {
     "name": "stdout",
     "output_type": "stream",
     "text": [
      "587 /1633 : 1Rezzt36ybaT2ZbDZpv83D Black Milk Massive Attack Mezzanine\n",
      "588 /1633 : 0oeEqyEAavgPfFxDYvjAP6 Dissolved Girl Massive Attack Mezzanine\n"
     ]
    },
    {
     "name": "stdout",
     "output_type": "stream",
     "text": [
      "589 /1633 : 2HuMQkNVpFIsur2cRWWQmX Exchange Massive Attack Mezzanine\n"
     ]
    },
    {
     "name": "stdout",
     "output_type": "stream",
     "text": [
      "590 /1633 : 0pWrU4My52DJ75GnZKDlv8 Group Four Massive Attack Mezzanine\n"
     ]
    },
    {
     "name": "stdout",
     "output_type": "stream",
     "text": [
      "591 /1633 : 3N2UhXZI4Gf64Ku3cCjz2g Inertia Creeps Massive Attack Mezzanine\n",
      "592 /1633 : 2Tz5THgkMOQeaW6DlqAlIa Man Next Door Massive Attack Mezzanine\n",
      "593 /1633 : 4IfHYniNBoAATWV6iLEXRs Mezzanine Massive Attack Mezzanine\n"
     ]
    },
    {
     "name": "stdout",
     "output_type": "stream",
     "text": [
      "594 /1633 : 6ggJ6MceyHGWtUg1KLp3M1 Risingson Massive Attack Mezzanine\n",
      "595 /1633 : 67Hna13dNDkZvBpTXRIaOJ Teardrop Massive Attack Mezzanine\n",
      "596 /1633 : 4nwwFLQqopxAL0g2L0Fg0B Crack the Skye Mastodon Crack the Skye\n"
     ]
    },
    {
     "name": "stdout",
     "output_type": "stream",
     "text": [
      "597 /1633 : 6HZ8zBamcVKjO46vsLj9vh Divinations Mastodon Crack the Skye\n"
     ]
    },
    {
     "name": "stdout",
     "output_type": "stream",
     "text": [
      "598 /1633 : 2VzyWKHUmuxUq7J7I8wbng Ghost of Karelia Mastodon Crack the Skye\n",
      "599 /1633 : 4Ynr1SPCeUI0W0YPeSFSIK Oblivion Mastodon Crack the Skye\n",
      "600 /1633 : 7n2K9HW8OhwFpWEdzeYu79 Quintessence Mastodon Crack the Skye\n"
     ]
    },
    {
     "name": "stdout",
     "output_type": "stream",
     "text": [
      "601 /1633 : 2LMjQnKH7sQzOD0l8q6eWz The Czar: Usurper / Escape / Martyr / Spiral Mastodon Crack the Skye\n",
      "602 /1633 : 6MUc3qu8WOqO7hAY6gdhJY The Last Baron Mastodon Crack the Skye\n",
      "603 /1633 : 0k8CNAD5ADcMCOdTOMxUHk Ancient Kingdom Mastodon Emperor of Sand\n",
      "604 /1633 : 6asbKxqMe9pxI3rxax74Yr Andromeda Mastodon Emperor of Sand\n"
     ]
    },
    {
     "name": "stdout",
     "output_type": "stream",
     "text": [
      "605 /1633 : 6ZWzCxc7bBSPYZPem17HbW Clandestiny Mastodon Emperor of Sand\n",
      "606 /1633 : 7lGOFEVWK0jzpLMFuR4ANh Jaguar God Mastodon Emperor of Sand\n",
      "607 /1633 : 4GPne3vf5okCDszbmeCUZz Precious Stones Mastodon Emperor of Sand\n"
     ]
    },
    {
     "name": "stdout",
     "output_type": "stream",
     "text": [
      "608 /1633 : 5llEJFL6NzKYgMTEb68XtL Roots Remain Mastodon Emperor of Sand\n"
     ]
    },
    {
     "name": "stdout",
     "output_type": "stream",
     "text": [
      "609 /1633 : 36dvfTxi43vTmGQOAnxsi5 Scorpion Breath Mastodon Emperor of Sand\n",
      "610 /1633 : 1dfHpGeaXunLRNvzSZOZtc Show Yourself Mastodon Emperor of Sand\n",
      "611 /1633 : 4Ut80ggQbyiJN2pGCs7VfB Steambreather Mastodon Emperor of Sand\n"
     ]
    },
    {
     "name": "stdout",
     "output_type": "stream",
     "text": [
      "612 /1633 : 4X5g2t99BTuLQIRdjGw1Fn Sultan's Curse Mastodon Emperor of Sand\n",
      "613 /1633 : 2aYtAI8xvZLUTZPYZMC6ad Word to the Wise Mastodon Emperor of Sand\n",
      "614 /1633 : 53cErbouOYnogzx9s3SqE2 All the Heavy Lifting Mastodon The Hunter\n"
     ]
    },
    {
     "name": "stdout",
     "output_type": "stream",
     "text": [
      "615 /1633 : 53pXJYRPcZG4DZxqJZmXTm Bedazzled Fingernails Mastodon The Hunter\n",
      "616 /1633 : 0KdjtHI5Acg6SMoomxQaCb Black Tongue Mastodon The Hunter\n",
      "617 /1633 : 2NkR1oSWfqfopqj6S3hOsu Blasteroid Mastodon The Hunter\n"
     ]
    },
    {
     "name": "stdout",
     "output_type": "stream",
     "text": [
      "618 /1633 : 3pke4nikd8PcQUZHyilUGb Creature Lives Mastodon The Hunter\n",
      "619 /1633 : 3Uc1CPfIuy8jQs5CntJeTd Curl of the Burl Mastodon The Hunter\n",
      "620 /1633 : 3ozDffAKu3Y6aahqAUZr83 Dry Bone Valley Mastodon The Hunter\n"
     ]
    },
    {
     "name": "stdout",
     "output_type": "stream",
     "text": [
      "621 /1633 : 2ney6xZreFub9dHkI4vnIb Octopus Has No Friends Mastodon The Hunter\n",
      "622 /1633 : 1MTuSPR63Sm149T8vgE8xF Spectrelight Mastodon The Hunter\n"
     ]
    },
    {
     "name": "stdout",
     "output_type": "stream",
     "text": [
      "623 /1633 : 5QMcwznMFieF1zUUElE5TR Stargasm Mastodon The Hunter\n",
      "624 /1633 : 1LCkCkRfvuHMkWaAdXggkP The Hunter Mastodon The Hunter\n",
      "625 /1633 : 68LvFcDLqo1cejJi9oVVOV The Sparrow Mastodon The Hunter (Deluxe)\n"
     ]
    },
    {
     "name": "stdout",
     "output_type": "stream",
     "text": [
      "626 /1633 : 6FIaHmTtFxLxP7OYwVTTNe Thickening Mastodon The Hunter\n",
      "627 /1633 : 6EmOoRAay8RoEeQ7eNrJXJ Boléro, M. 81 Maurice Ravel Ravel : Concerto pour la main gauche, Boléro, Ma mère l'Oye, Le Tombeau de Couperin\n",
      "artist:\"MC Hammer\" album:\"Please Hammer Don't Hurt 'Em\" track:\"U Can't Touch This\" not in spotify\n"
     ]
    },
    {
     "name": "stdout",
     "output_type": "stream",
     "text": [
      "628 /1633 : 1B75hgRqe7A4fwee3g3Wmu U Can't Touch This MC Hammer Please Hammer Don't Hurt 'Em\n",
      "629 /1633 : 3mCeeoBvTTpg8Xy2Wuvirw Bat Out of Hell Meat Loaf Bat Out Of Hell\n",
      "630 /1633 : 1BbocHcTYAu0wCS4NqgRsI Architecture Of Aggression Megadeth Countdown To Extinction\n"
     ]
    },
    {
     "name": "stdout",
     "output_type": "stream",
     "text": [
      "631 /1633 : 2Fkgr7LZTAjakkceB7PwN5 Ashes In Your Mouth - Remastered Megadeth Countdown To Extinction\n",
      "632 /1633 : 3hUTwUiS7H79Po2hnErd8H Captive Honour Megadeth Countdown To Extinction\n"
     ]
    },
    {
     "name": "stdout",
     "output_type": "stream",
     "text": [
      "633 /1633 : 1Mt6BsusgJJln2FMyGFLg1 Countdown To Extinction Megadeth Countdown To Extinction\n",
      "634 /1633 : 4goJhfQRbNfYybpYf9xmbL Foreclosure Of A Dream - Remastered Megadeth Countdown To Extinction\n"
     ]
    },
    {
     "name": "stdout",
     "output_type": "stream",
     "text": [
      "635 /1633 : 0rzFlOXHVVmL8CvXPL0Fb3 High Speed Dirt Megadeth Countdown To Extinction\n",
      "636 /1633 : 6HyVffzF6uXt9NHMgEkQpJ Psychotron Megadeth Countdown To Extinction\n",
      "637 /1633 : 7EFho37SrizYaQ2NVxLejd Skin O' My Teeth - Remastered Megadeth Countdown To Extinction\n"
     ]
    },
    {
     "name": "stdout",
     "output_type": "stream",
     "text": [
      "638 /1633 : 6i7IXg8j7ZngiEOgBYjkhw Sweating Bullets - Remastered 2004 Megadeth Countdown To Extinction\n",
      "639 /1633 : 51TG9W3y9qyO8BY5RXKgnZ Symphony Of Destruction Megadeth Countdown To Extinction\n",
      "640 /1633 : 0Ad43GBuMZqdInDrwp2HHL This Was My Life Megadeth Countdown To Extinction\n"
     ]
    },
    {
     "name": "stdout",
     "output_type": "stream",
     "text": [
      "641 /1633 : 1IbxJ3jbvSLmaecRamvtui Bad Omen - Remastered Megadeth Peace Sells...But Who's Buying?\n",
      "642 /1633 : 009aJqwtazpcpmOW3YbwDx Devils Island - Remastered Megadeth Peace Sells...But Who's Buying?\n",
      "643 /1633 : 36gQBgUJjbRbrMTyQUNl56 Good Mourning / Black Friday - Remastered Megadeth Peace Sells...But Who's Buying?\n"
     ]
    },
    {
     "name": "stdout",
     "output_type": "stream",
     "text": [
      "artist:\"Megadeth\" album:\"Peace Sells... But Who's Buying\" track:\"I Ain't Superstitious\" not in spotify\n",
      "644 /1633 : 43gM0PIvpgqv19nFZWRlN3 I Ain't Superstitious - Remastered Megadeth Peace Sells...But Who's Buying?\n",
      "645 /1633 : 6VdoivAOy8oRR6Pmpw4Ux4 My Last Words - Remastered Megadeth Peace Sells...But Who's Buying?\n"
     ]
    },
    {
     "name": "stdout",
     "output_type": "stream",
     "text": [
      "646 /1633 : 5a2hIQWInPjqkkFiUEgxoX Peace Sells - Remastered Megadeth Peace Sells...But Who's Buying (25th Anniversary)\n"
     ]
    },
    {
     "name": "stdout",
     "output_type": "stream",
     "text": [
      "647 /1633 : 0pv49erP5wxMZMnprRCqXT The Conjuring - Remastered Megadeth Peace Sells...But Who's Buying?\n"
     ]
    },
    {
     "name": "stdout",
     "output_type": "stream",
     "text": [
      "648 /1633 : 1I3qfFMraXE0kAPtRERpok Wake Up Dead - Remastered Megadeth Peace Sells...But Who's Buying?\n",
      "649 /1633 : 4NwFxag85AYdCel47a3Yhi Dawn Patrol - Remastered 2004 Megadeth Rust In Peace\n",
      "650 /1633 : 3tISv448Ikxvpq2ZrFyGG2 Five Magics - Remastered 2004 Megadeth Rust In Peace\n"
     ]
    },
    {
     "name": "stdout",
     "output_type": "stream",
     "text": [
      "651 /1633 : 6b6uLZsoGhObYexIxnRbIb Hangar 18 - Remastered 2004 Megadeth Rust In Peace\n",
      "652 /1633 : 5LyRtsQLhcXmy50VXhQXXS Holy Wars...The Punishment Due - Remastered 2004 Megadeth Rust In Peace\n"
     ]
    },
    {
     "name": "stdout",
     "output_type": "stream",
     "text": [
      "653 /1633 : 1Bi6Me45Xiqy4kYUGGwBTv Lucretia - Remastered 2004 Megadeth Rust In Peace\n",
      "654 /1633 : 6bz32FHJGzO5SFYDnLBmG7 My Creation - Remastered 2004 Megadeth Rust In Peace\n",
      "655 /1633 : 6HqnBoikcyjy7I1kbrfhlr Poison Was The Cure - Remastered 2004 Megadeth Rust In Peace\n"
     ]
    },
    {
     "name": "stdout",
     "output_type": "stream",
     "text": [
      "656 /1633 : 0803SWqmIJGvZ15B8zsewn Rust In Peace...Polaris - Remastered 2004 Megadeth Rust In Peace\n",
      "657 /1633 : 1XFSSbQ9fApWNXZMAKllb6 Take No Prisoners - Remastered 2004 Megadeth Rust In Peace\n"
     ]
    },
    {
     "name": "stdout",
     "output_type": "stream",
     "text": [
      "658 /1633 : 4E5xVW505akJX0wcKj8Mpd Tornado Of Souls - Remastered 2004 Megadeth Rust In Peace\n",
      "659 /1633 : 0eXz8pS25MoeUguNPR9VvD ...And Justice For All Metallica ...And Justice For All\n"
     ]
    },
    {
     "name": "stdout",
     "output_type": "stream",
     "text": [
      "660 /1633 : 0Tp7uSZK21LZTbZRBNb9ud Blackened Metallica ...And Justice For All\n",
      "661 /1633 : 2517AuTvR5dMxc7IKG1ThD Dyers Eve Metallica ...And Justice For All\n"
     ]
    },
    {
     "name": "stdout",
     "output_type": "stream",
     "text": [
      "662 /1633 : 7p2yIOf8YXJUSmUnG3TAWr Eye Of The Beholder Metallica ...And Justice For All\n",
      "663 /1633 : 1V3wAgMB4ESaN4rStlrUNz Harvester Of Sorrow Metallica ...And Justice For All\n",
      "664 /1633 : 5IX4TbIR5mMHGE4wiWwKW0 One Metallica ...And Justice For All\n"
     ]
    },
    {
     "name": "stdout",
     "output_type": "stream",
     "text": [
      "665 /1633 : 5LnIyDJU1d1dDlsbhZq60l The Frayed Ends Of Sanity Metallica ...And Justice For All\n",
      "666 /1633 : 2Aqz0jTeEsS6DZbQYqHRGh The Shortest Straw Metallica ...And Justice For All\n",
      "667 /1633 : 6jv5Og00Okb2IMEHuzNTkV To Live Is To Die Metallica ...And Justice For All\n"
     ]
    },
    {
     "name": "stdout",
     "output_type": "stream",
     "text": [
      "artist:\"Metallica\" album:\"Metallica\" track:\"Don't tread on me\" not in spotify\n",
      "668 /1633 : 2b7r6fN91KiHnp00aqHZ7x Don't Tread On Me Metallica Metallica\n",
      "669 /1633 : 5sICkBXVmaCQk5aISGR3x1 Enter Sandman Metallica Metallica\n",
      "670 /1633 : 5YMJoplBWvIa2LHUPoGqb5 Holier Than Thou Metallica Metallica\n"
     ]
    },
    {
     "name": "stdout",
     "output_type": "stream",
     "text": [
      "671 /1633 : 0R9GrbRcpBRdwDlVPj2wEQ My Friend Of Misery Metallica Metallica\n",
      "672 /1633 : 0nLiqZ6A27jJri2VCalIUs Nothing Else Matters Metallica Metallica\n",
      "673 /1633 : 2J8jdenoxkPXs44G9xcncc Of Wolf And Man Metallica Metallica\n"
     ]
    },
    {
     "name": "stdout",
     "output_type": "stream",
     "text": [
      "674 /1633 : 1PhLYngBKbeDtdmDzCg3Pb Sad But True Metallica Metallica\n",
      "675 /1633 : 7tyc1pcOE4FOVIQTBzvxeF The God That Failed Metallica Metallica\n",
      "676 /1633 : 4R4uSnvRFeVdLQcX2zj8aU The Struggle Within Metallica Metallica\n",
      "677 /1633 : 4aYLAF6ckQ5ooGGGM7sWAa The Unforgiven Metallica Metallica\n"
     ]
    },
    {
     "name": "stdout",
     "output_type": "stream",
     "text": [
      "678 /1633 : 2VAQuXC01B2eJAEnkjIj7z Through The Never Metallica Metallica\n",
      "679 /1633 : 22GbAGb80ZZNgm2yrBMnpR Wherever I May Roam Metallica Metallica\n",
      "680 /1633 : 1Gn1FeIYUMZ2a7PrbaaQhl Creeping Death - Creeping Death EP Version / Remastered Metallica Ride The Lightning (Deluxe / Remastered)\n"
     ]
    },
    {
     "name": "stdout",
     "output_type": "stream",
     "text": [
      "681 /1633 : 4ERK3MXPXLWxy0UazrDKup Escape - Remastered Metallica Ride The Lightning (Deluxe / Remastered)\n",
      "682 /1633 : 5nekfiTN45vlxG0eNJQQye Fade To Black - Remastered Metallica Ride The Lightning (Deluxe / Remastered)\n",
      "683 /1633 : 6ckozbGmOusAnLT2LEbERy Fight Fire With Fire - Remastered Metallica Ride The Lightning (Remastered)\n"
     ]
    },
    {
     "name": "stdout",
     "output_type": "stream",
     "text": [
      "684 /1633 : 2dXsILW8gzkosqleHAvl0v For Whom The Bell Tolls - Remastered Metallica Ride The Lightning (Remastered)\n",
      "685 /1633 : 2O7UGwJPVlix15Wn4sa5vw Ride The Lightning - Remastered Metallica Ride The Lightning (Deluxe / Remastered)\n",
      "686 /1633 : 4qPgSwPUGigsmx6gUV2dnU The Call Of Ktulu - Remastered Metallica Ride The Lightning (Deluxe / Remastered)\n"
     ]
    },
    {
     "name": "stdout",
     "output_type": "stream",
     "text": [
      "687 /1633 : 3J8jTThxk8GtxyoupHtyrb Trapped Under Ice - Remastered Metallica Ride The Lightning (Remastered)\n",
      "688 /1633 : 3I4tEaOcF0wtl6179DqbZb Devil's Dance - Live Metallica S&M\n"
     ]
    },
    {
     "name": "stdout",
     "output_type": "stream",
     "text": [
      "689 /1633 : 1JOkHtzr0DBLFKpccLO5Yq For Whom The Bell Tolls - Live Metallica S&M\n",
      "690 /1633 : 6z8LLgG81xuNzqJO5XjWPP Fuel - Live Metallica S&M\n"
     ]
    },
    {
     "name": "stdout",
     "output_type": "stream",
     "text": [
      "691 /1633 : 4zfEDLbmmI7V9Yt12s0DQH Master Of Puppets - Live Metallica S&M\n",
      "692 /1633 : 2UIuYNBg8r5pkoG2MjdLZT No Leaf Clover - Live Metallica S&M\n",
      "693 /1633 : 3wHjbDGFrHN17FWg4owTkc Of Wolf And Man - Live Metallica S&M\n"
     ]
    },
    {
     "name": "stdout",
     "output_type": "stream",
     "text": [
      "694 /1633 : 7vxLun2SVGuJII6DkbyMso The Call Of Ktulu - Live Metallica S&M\n",
      "695 /1633 : 4lmSiv5xEJJZsO40XtSK1J The Memory Remains - Live Metallica S&M\n",
      "696 /1633 : 4y9IRABVc2TzATl8mTkexk The Thing That Should Not Be - Live Metallica S&M\n"
     ]
    },
    {
     "name": "stdout",
     "output_type": "stream",
     "text": [
      "697 /1633 : 21VCYxPZ8A2XpSNUyQCT3B Another Part of Me - 2012 Remaster Michael Jackson Bad 25th Anniversary\n",
      "698 /1633 : 5lWFrW5T3JtxVCLDb7etPu Bad - 2012 Remaster Michael Jackson Bad 25th Anniversary\n",
      "699 /1633 : 3yBlJtq86wROQpHi1goEKT Dirty Diana - 2012 Remaster Michael Jackson Bad 25th Anniversary\n"
     ]
    },
    {
     "name": "stdout",
     "output_type": "stream",
     "text": [
      "artist:\"Michael Jackson\" album:\"Bad\" track:\"I Just Can't Stop Loving You\" not in spotify\n",
      "700 /1633 : 2fytePz8UsbUr8n33QBEcm I Just Can't Stop Loving You (feat. Siedah Garrett) - 2012 Remaster Michael Jackson Bad 25th Anniversary\n",
      "701 /1633 : 75Rv9SkGILm24kmhAYvjZg Just Good Friends - 2012 Remaster Michael Jackson Bad 25th Anniversary\n"
     ]
    },
    {
     "name": "stdout",
     "output_type": "stream",
     "text": [
      "702 /1633 : 2jQfozDpitT8lVEYoOjmeR Leave Me Alone - 2012 Remaster Michael Jackson Bad 25th Anniversary\n",
      "703 /1633 : 5OoRmdDfAiDztSwrhe7wuE Liberian Girl - 2012 Remastered Version Michael Jackson Bad 25th Anniversary\n",
      "704 /1633 : 1kiNatIrwDusOZfR29W0LJ Man in the Mirror - 2012 Remaster Michael Jackson Bad 25th Anniversary\n"
     ]
    },
    {
     "name": "stdout",
     "output_type": "stream",
     "text": [
      "705 /1633 : 2bCQHF9gdG5BNDVuEIEnNk Smooth Criminal - 2012 Remaster Michael Jackson Bad 25th Anniversary\n",
      "706 /1633 : 2w7VEWHtt8WW88Yt5H9ibZ Speed Demon - 2012 Remaster Michael Jackson Bad 25th Anniversary\n"
     ]
    },
    {
     "name": "stdout",
     "output_type": "stream",
     "text": [
      "707 /1633 : 0sKlV58cODrjxGFOyf9IXY The Way You Make Me Feel - 2012 Remaster Michael Jackson Bad 25th Anniversary\n",
      "708 /1633 : 6XYbMGvtl6tlPoGWaiH7EY Baby Be Mine Michael Jackson Thriller\n",
      "709 /1633 : 1OOtq8tRnDM8kG2gqUPjAj Beat It - Single Version Michael Jackson Thriller 25 Super Deluxe Edition\n"
     ]
    },
    {
     "name": "stdout",
     "output_type": "stream",
     "text": [
      "710 /1633 : 5ChkMS8OtdzJeqyybCc9R5 Billie Jean Michael Jackson Thriller 25 Super Deluxe Edition\n",
      "711 /1633 : 35lAjvsvS9k9HHuP1fjDT8 Human Nature Michael Jackson Thriller 25 Super Deluxe Edition\n",
      "712 /1633 : 5lA3pwMkBdd24StM90QrNR P.Y.T. (Pretty Young Thing) Michael Jackson Thriller 25 Super Deluxe Edition\n"
     ]
    },
    {
     "name": "stdout",
     "output_type": "stream",
     "text": [
      "713 /1633 : 1diEQsD8PJC9hXB5Gpfgtn The Girl Is Mine (with Paul McCartney) Michael Jackson Thriller 25 Super Deluxe Edition\n",
      "714 /1633 : 07L1pzoVerhRSSaDGZHrKy The Lady in My Life Michael Jackson Thriller\n",
      "715 /1633 : 3S2R0EVwBSAVMd5UMgKTL0 Thriller Michael Jackson Thriller 25 Super Deluxe Edition\n"
     ]
    },
    {
     "name": "stdout",
     "output_type": "stream",
     "text": [
      "716 /1633 : 2kulOHR2XY6YDZCWXb38hn Wanna Be Startin' Somethin' Michael Jackson Thriller 25 Super Deluxe Edition\n",
      "717 /1633 : 5jJ69cMDMC0aeWPjZo6VP2 Lampshades on Fire Modest Mouse Strangers to Ourselves\n",
      "718 /1633 : 1hqrYSqvNc9x3BETX1cZhk Shout At The Devil Mötley Crüe Shout At The Devil\n"
     ]
    },
    {
     "name": "stdout",
     "output_type": "stream",
     "text": [
      "719 /1633 : 6fFmld6h30MwhwwSvoantM Requiem Mass in D Minor, K. 626: 1. Introitus Requiem aeternam Wolfgang Amadeus Mozart Requiem Mass at Organ in D Minor, K. 626\n",
      "artist:\"Mozart\" album:\"Requiem in D minor K 626\" track:\"2. Kyrie Eleison\" not in spotify\n",
      "artist:\"Mozart\" album:\"Requiem in D minor K 626\" track:\"3. Sequenta: Confutatis\" not in spotify\n"
     ]
    },
    {
     "name": "stdout",
     "output_type": "stream",
     "text": [
      "artist:\"Mozart\" album:\"Requiem in D minor K 626\" track:\"3. Sequenta: Lacrimosa\" not in spotify\n",
      "artist:\"Mozart\" album:\"Requiem in D minor K 626\" track:\"3. Sequenta: Recordare\" not in spotify\n",
      "artist:\"Mozart\" album:\"Requiem in D minor K 626\" track:\"3. Sequenta: Rex tremendae\" not in spotify\n"
     ]
    },
    {
     "name": "stdout",
     "output_type": "stream",
     "text": [
      "artist:\"Mozart\" album:\"Requiem in D minor K 626\" track:\"3. Sequentia: Tubamirum\" not in spotify\n",
      "artist:\"Mozart\" album:\"Requiem in D minor K 626\" track:\"3a. Sequienta: Dies irae\" not in spotify\n",
      "727 /1633 : 51G6UbIulTMRh5ftk8uILE Requiem Mass in D Minor, K. 626: 4. Offertorium: Domine Jesu Christe Wolfgang Amadeus Mozart Requiem Mass at Organ in D Minor, K. 626\n"
     ]
    },
    {
     "name": "stdout",
     "output_type": "stream",
     "text": [
      "728 /1633 : 203t1EsfbkcIjdu2QK8cOe Requiem Mass in D Minor, K. 626: 4. Offertorium: Hostias et preces Wolfgang Amadeus Mozart Requiem Mass at Organ in D Minor, K. 626\n",
      "729 /1633 : 0eMrgBFDHxIKQzj9619bWZ Requiem Mass in D Minor, K. 626: 5. Sanctus Wolfgang Amadeus Mozart Requiem Mass at Organ in D Minor, K. 626\n",
      "730 /1633 : 5kinrqp5lSDPFyUZaUotfy Requiem in D Minor, K. 626: VI. Benedictus Wolfgang Amadeus Mozart Mozart: Requiem in D Minor, K. 626\n"
     ]
    },
    {
     "name": "stdout",
     "output_type": "stream",
     "text": [
      "731 /1633 : 0RUTE4mOfNLiZXk49jrDyC Requiem Mass in D Minor, K. 626: 7. Agnus Dei Wolfgang Amadeus Mozart Requiem Mass at Organ in D Minor, K. 626\n",
      "artist:\"Mozart\" album:\"Requiem in D minor K 626\" track:\"8. Communio: Lux aeterna\" not in spotify\n",
      "733 /1633 : 6JnFVmPyJvjnfBag0hhIFa Assassin Muse Black Holes and Revelations\n"
     ]
    },
    {
     "name": "stdout",
     "output_type": "stream",
     "text": [
      "734 /1633 : 3Sno9FE8r2uz8QP0MtnTPL City of Delusion Muse Black Holes and Revelations\n",
      "735 /1633 : 20vZII9Yu52czI9Fk4p39r Exo-Politics Muse Black Holes and Revelations\n",
      "736 /1633 : 6IfitwQQ1Gu9g9QnLWDHRY Glorious Muse Black Holes and Revelations\n",
      "737 /1633 : 0EkE0ripJ9OFNzvZANzo5C Hoodoo Muse Black Holes and Revelations\n",
      "738 /1633 : 2zmR3FG7iOGDAdwrVPzdg9 Invincible Muse Black Holes and Revelations\n"
     ]
    },
    {
     "name": "stdout",
     "output_type": "stream",
     "text": [
      "739 /1633 : 7ouMYWpwJ422jRcDASZB7P Knights of Cydonia Muse Black Holes and Revelations\n",
      "740 /1633 : 5YXr4AGfUQpLSxtFSsKUh6 Map of the Problematique Muse Black Holes and Revelations\n",
      "741 /1633 : 6jH5aCuXgtygWpx7BF54at Soldier's Poem Muse Black Holes and Revelations\n",
      "742 /1633 : 3skn2lauGk7Dx6bVIt5DVj Starlight Muse Black Holes and Revelations\n"
     ]
    },
    {
     "name": "stdout",
     "output_type": "stream",
     "text": [
      "743 /1633 : 3lPr8ghNDBLc2uZovNyLs9 Supermassive Black Hole Muse Black Holes and Revelations\n",
      "744 /1633 : 4jrCMOG9OPe6iF4vWFxatb Take a Bow Muse Black Holes and Revelations\n",
      "745 /1633 : 4Y7fEQ4PAzhlLnLviRw2P4 Rockin' in the Free World Neil Young Freedom\n",
      "746 /1633 : 1vGmdXBUWksAsi2NlhMNwR Aeon Neurosis Through Silver In Blood\n"
     ]
    },
    {
     "name": "stdout",
     "output_type": "stream",
     "text": [
      "747 /1633 : 1BpIsdibg1tudFkLDPerzQ Become the Ocean Neurosis Through Silver In Blood\n",
      "748 /1633 : 6LfseiBqkTtyONP8SztCcD Enclosure In Flame Neurosis Through Silver In Blood\n",
      "749 /1633 : 56bAgMY066gE5GoWAqcxcg Eye Neurosis Through Silver In Blood\n",
      "750 /1633 : 1Sb2dgS6ruZnJYNQ3SxLHd Locust Star Neurosis Through Silver In Blood\n"
     ]
    },
    {
     "name": "stdout",
     "output_type": "stream",
     "text": [
      "751 /1633 : 7lxlrqS1dCBmdAgXI4cR9P Purify Neurosis Through Silver In Blood\n",
      "752 /1633 : 5BBfllI8hk4r2GK7bWtCzl Rehumanize Neurosis Through Silver In Blood\n",
      "753 /1633 : 6O3NHOrGfwf7KXM1EsTtHf Strength of Fates Neurosis Through Silver In Blood\n",
      "754 /1633 : 7eyK2gnvdlOwqHv8YH9bK7 Through Silver In Blood Neurosis Through Silver In Blood\n"
     ]
    },
    {
     "name": "stdout",
     "output_type": "stream",
     "text": [
      "755 /1633 : 0gmbgwZ8iqyMPmXefof8Yf How You Remind Me Nickelback Silver Side Up\n",
      "756 /1633 : 4qTS7lHi2MDoxlO3LAwf2l 7 Days to the Wolves Nightwish Dark Passion Play\n",
      "757 /1633 : 1sXdW94CrEIrYdbfON4Sxt Amaranth Nightwish Dark Passion Play\n"
     ]
    },
    {
     "name": "stdout",
     "output_type": "stream",
     "text": [
      "758 /1633 : 6uwjUM0Y0NfPmLBKVAbUXW Bye Bye Beautiful Nightwish Dark Passion Play\n",
      "759 /1633 : 7zB8Cw0VENTthNva0K3uzm Cadence of Her Last Breath Nightwish Dark Passion Play\n",
      "760 /1633 : 2HvpDl7hp6JLH4UtKp3fTp Eva Nightwish Dark Passion Play\n"
     ]
    },
    {
     "name": "stdout",
     "output_type": "stream",
     "text": [
      "761 /1633 : 5RaCXgP9HVUw0zQtr6Qf8f For the Heart I Once Had Nightwish Dark Passion Play\n",
      "762 /1633 : 1TVFphEyfjzEIir70656d4 Last of the Wilds Nightwish Dark Passion Play\n"
     ]
    },
    {
     "name": "stdout",
     "output_type": "stream",
     "text": [
      "763 /1633 : 647ZOCT2zAk0o4KsUw3kmn Master Passion Greed Nightwish Dark Passion Play\n",
      "764 /1633 : 1LB1yhk1rfoBUUDo6n4fYT Meadows of Heaven Nightwish Dark Passion Play\n"
     ]
    },
    {
     "name": "stdout",
     "output_type": "stream",
     "text": [
      "765 /1633 : 0sbrHwbICNCN5xoyUoqvnp Sahara Nightwish Dark Passion Play\n",
      "766 /1633 : 7Ce61NyQM0XfGbVHSUBBOG The Islander Nightwish Dark Passion Play\n",
      "767 /1633 : 5sDDSdsBa15i2IDhJ7HsYV The Poet and the Pendulum Nightwish Dark Passion Play\n"
     ]
    },
    {
     "name": "stdout",
     "output_type": "stream",
     "text": [
      "768 /1633 : 6eayl3fqJ4gjFzgvF0wnuZ Whoever Brings the Night Nightwish Dark Passion Play\n",
      "769 /1633 : 6utuFCvF34xhmwwwFAYntF Endlessness Nightwish HUMAN. :II: NATURE.\n",
      "770 /1633 : 06h4HxzQkqx45lCRxDe4lA Harvest Nightwish HUMAN. :II: NATURE.\n"
     ]
    },
    {
     "name": "stdout",
     "output_type": "stream",
     "text": [
      "771 /1633 : 6lkVbijlh932FSS2I0gDrR How's the Heart? Nightwish HUMAN. :II: NATURE.\n",
      "772 /1633 : 49LQq6RoFTWFk5d6hBGEKt Music Nightwish HUMAN. :II: NATURE.\n",
      "773 /1633 : 0RZVAhyB8vhxQz6ITjiuyA Noise Nightwish HUMAN. :II: NATURE.\n"
     ]
    },
    {
     "name": "stdout",
     "output_type": "stream",
     "text": [
      "774 /1633 : 1XcTT3XqNalzJMamAiIqOW Pan Nightwish HUMAN. :II: NATURE.\n",
      "775 /1633 : 7aIxfEHjebCNbs6bpKv9Go Procession Nightwish HUMAN. :II: NATURE.\n"
     ]
    },
    {
     "name": "stdout",
     "output_type": "stream",
     "text": [
      "776 /1633 : 5xITcnqoMdILDBNCwHGr5v Shoemaker Nightwish HUMAN. :II: NATURE.\n",
      "777 /1633 : 5tN4bKhtt6klkkB0GVt9i1 Tribal Nightwish HUMAN. :II: NATURE.\n"
     ]
    },
    {
     "name": "stdout",
     "output_type": "stream",
     "text": [
      "778 /1633 : 0HKNlsZ0zFlSqUqWj1nVVG Réseaux Niska Commando\n",
      "779 /1633 : 4vJr55lngvhSM8WIh9CjQc Cemetery Gates Pantera Cowboys from Hell\n"
     ]
    },
    {
     "name": "stdout",
     "output_type": "stream",
     "text": [
      "780 /1633 : 2SgbR6ttzoNlCRGQOKjrop Cowboys from Hell Pantera Cowboys from Hell\n"
     ]
    },
    {
     "name": "stdout",
     "output_type": "stream",
     "text": [
      "781 /1633 : 769cLRTw2y6KRdkFWFkxtu Domination Pantera Cowboys from Hell\n"
     ]
    },
    {
     "name": "stdout",
     "output_type": "stream",
     "text": [
      "782 /1633 : 4c6yZLnA730uJgQf9fTW2M Heresy Pantera Cowboys from Hell\n",
      "783 /1633 : 6lJJcUjhsp0TJRuzUIPOYO Primal Concrete Sledge Pantera Cowboys from Hell\n",
      "784 /1633 : 5JCZHWdFLg2rXtg684rTHt Psycho Holiday Pantera Cowboys from Hell\n"
     ]
    },
    {
     "name": "stdout",
     "output_type": "stream",
     "text": [
      "785 /1633 : 5APqyicPSWwJgFH8D9a8i3 Shattered Pantera Cowboys from Hell\n",
      "786 /1633 : 59dUIzMJxeMVzLDW7efLic Elusive Cure Paradise Lost Draconian Times\n",
      "787 /1633 : 4tTLo644XcmhYRzpDZdnlb Enchantment - 2011 Remasterred Paradise Lost Draconian Times (Legacy Edition)\n"
     ]
    },
    {
     "name": "stdout",
     "output_type": "stream",
     "text": [
      "788 /1633 : 5OTOUyo18hGb3p1QeLOsp8 Forever Failure Paradise Lost Draconian Times\n",
      "789 /1633 : 0ibuggkWTSDXHo25S0Qqvj Hallowed Land Paradise Lost Draconian Times\n"
     ]
    },
    {
     "name": "stdout",
     "output_type": "stream",
     "text": [
      "790 /1633 : 41eLsM7dWBxeHJg2mO5PYY Hands Of Reason Paradise Lost Draconian Times\n",
      "791 /1633 : 4SlBn3adjzgtT0rEW1wdKJ I See Your Face Paradise Lost Draconian Times\n",
      "792 /1633 : 4ojsxsOZL3HBXALCCQV2Dg Jaded Paradise Lost Draconian Times\n",
      "793 /1633 : 613fYhrrubkEQAjkfHREt4 Once Solemn Paradise Lost Draconian Times\n"
     ]
    },
    {
     "name": "stdout",
     "output_type": "stream",
     "text": [
      "794 /1633 : 0e5X7i3AtGbg0P8Ui4RKVN Shades Of God Paradise Lost Draconian Times\n",
      "795 /1633 : 4YdNlZSNrJhNCfqYhI1ENF Shadowkings Paradise Lost Draconian Times\n"
     ]
    },
    {
     "name": "stdout",
     "output_type": "stream",
     "text": [
      "796 /1633 : 76bUvHShiaBaCOpeMMP8F0 The Last Time Paradise Lost Draconian Times\n",
      "797 /1633 : 7L4ruNa5TK7ykKr6zfBn6q Yearn For Change Paradise Lost Draconian Times\n",
      "798 /1633 : 3R1DPDoWdFdPeBj4aLwqBo Bemyself - from Hansa Studios, Berlin Parcels Live Vol. 1\n",
      "799 /1633 : 4Y668YELGKHZ36nfTE3eBu Closetowhy - from Hansa Studios, Berlin Parcels Live Vol. 1\n"
     ]
    },
    {
     "name": "stdout",
     "output_type": "stream",
     "text": [
      "800 /1633 : 6GQEhwaBBC1E2pzlRlGity Comedown - from Hansa Studios, Berlin Parcels Live Vol. 1\n",
      "801 /1633 : 04YsaTosW9B6i4yaTp766U Elude - from Hansa Studios, Berlin Parcels Live Vol. 1\n",
      "802 /1633 : 55ePH4TKRkvSBmg5kI8K1m Enter - from Hansa Studios, Berlin Parcels Live Vol. 1\n",
      "803 /1633 : 2s7nxagCl9fnFUoNIQxjnp Everyroad - from Hansa Studios, Berlin Parcels Live Vol. 1\n"
     ]
    },
    {
     "name": "stdout",
     "output_type": "stream",
     "text": [
      "804 /1633 : 53ElE1J1DwuwVxpINXYJpb Gamesofluck - from Hansa Studios, Berlin Parcels Live Vol. 1\n",
      "805 /1633 : 4M3MUIXtQLN2qRPcwcpHzW IknowhowIfeel - from Hansa Studios, Berlin Parcels Live Vol. 1\n",
      "806 /1633 : 4l9uFziLnJgpdBoBqUtoum Intrude - from Hansa Studios, Berlin Parcels Live Vol. 1\n",
      "807 /1633 : 0ZcOprrr9ubO9ORfjbHjsx Lightenup - from Hansa Studios, Berlin Parcels Live Vol. 1\n"
     ]
    },
    {
     "name": "stdout",
     "output_type": "stream",
     "text": [
      "808 /1633 : 0oEUagxKUH6rKFYlqNC7rz Myenemy - from Hansa Studios, Berlin Parcels Live Vol. 1\n",
      "809 /1633 : 0ax2Np3bXCUXCcYmcX5x1x Overnight - from Hansa Studios, Berlin Parcels Live Vol. 1\n"
     ]
    },
    {
     "name": "stdout",
     "output_type": "stream",
     "text": [
      "810 /1633 : 0QugsGHunz3peiUxRg51WE Redline - from Hansa Studios, Berlin Parcels Live Vol. 1\n",
      "811 /1633 : 35kZ2D9sADNOZ53zWOljkQ Retuned - from Hansa Studios, Berlin Parcels Live Vol. 1\n",
      "812 /1633 : 4cyygA6kLAF2H6QqwmACHd Tieduprightnow - from Hansa Studios, Berlin Parcels Live Vol. 1\n"
     ]
    },
    {
     "name": "stdout",
     "output_type": "stream",
     "text": [
      "813 /1633 : 6VQDFodEZkjmfAqCCcVLOm Untried - from Hansa Studios, Berlin Parcels Live Vol. 1\n",
      "814 /1633 : 6GGXja13qA0BYNNAqgXQxS Withorwithout - from Hansa Studios, Berlin Parcels Live Vol. 1\n",
      "815 /1633 : 2TeGrk8lm2DhSnAx63KAqv Yourfault - from Hansa Studios, Berlin Parcels Live Vol. 1\n",
      "816 /1633 : 7lMFAK8dv0QkWpIlZcWQlJ Prey Parkway Drive Reverence\n"
     ]
    },
    {
     "name": "stdout",
     "output_type": "stream",
     "text": [
      "817 /1633 : 7yWdsy6UHRTun4hkJZJYNq Dogs - 2011 Remastered Version Pink Floyd Animals (2011 Remastered Version)\n",
      "818 /1633 : 23dTQ4fjLrPPbYHamkJDzo Pigs (Three Different Ones) [2011 - Remaster] Pink Floyd Animals (2011 Remastered Version)\n",
      "819 /1633 : 1t8pPoX4Pj7Gdy07gxlKgM A Pillow Of Winds - 2011 Remastered Version Pink Floyd Meddle (2011 Remastered Version)\n",
      "820 /1633 : 1Mzm1CNqVxtwbCYhOo843s Echoes - 2011 Remastered Version Pink Floyd Meddle (2011 Remastered Version)\n"
     ]
    },
    {
     "name": "stdout",
     "output_type": "stream",
     "text": [
      "821 /1633 : 5WEOx4ZXcfX3wvbfxsAoDO Fearless - 2011 Remastered Version Pink Floyd Meddle (2011 Remastered Version)\n",
      "822 /1633 : 0Ga3szKsJOeZ0eAfydm1WV One Of These Days - 2011 Remastered Version Pink Floyd Meddle (2011 Remastered Version)\n",
      "823 /1633 : 4FIas3biBpCzz8bAUVow0P San Tropez - 2011 Remastered Version Pink Floyd Meddle (2011 Remastered Version)\n"
     ]
    },
    {
     "name": "stdout",
     "output_type": "stream",
     "text": [
      "824 /1633 : 4OxoxJKAaVG0i0PKk6bF1p Seamus - 2011 Remastered Version Pink Floyd Meddle (2011 Remastered Version)\n",
      "825 /1633 : 3z7dWKRsjDNM24ohLKZBnA Astronomy Domine - 2011 Remastered Version Pink Floyd The Piper At The Gates Of Dawn [2011 - Remaster] (2011 Remastered Version)\n"
     ]
    },
    {
     "name": "stdout",
     "output_type": "stream",
     "text": [
      "826 /1633 : 1vabhOqRbqjFvBomw3jouZ Bike - 2011 Remastered Version Pink Floyd The Piper At The Gates Of Dawn [2011 - Remaster] (2011 Remastered Version)\n",
      "827 /1633 : 7yCtmJ43qJYUF9si7sxult Chapter 24 - 2011 Remastered Version Pink Floyd The Piper At The Gates Of Dawn [2011 - Remaster] (2011 Remastered Version)\n",
      "828 /1633 : 1hFQbot8ooII597Rh1nHYc Flaming - 2011 Remastered Version Pink Floyd The Piper At The Gates Of Dawn [2011 - Remaster] (2011 Remastered Version)\n"
     ]
    },
    {
     "name": "stdout",
     "output_type": "stream",
     "text": [
      "829 /1633 : 63KHfOzsogBZO5LPmxCyVF Interstellar Overdrive - 2011 Remastered Version Pink Floyd The Piper At The Gates Of Dawn [2011 - Remaster] (2011 Remastered Version)\n",
      "830 /1633 : 2WGkeBfg0nDPSLAUJeDOfJ Lucifer Sam - 2011 Remastered Version Pink Floyd The Piper At The Gates Of Dawn [2011 - Remaster] (2011 Remastered Version)\n"
     ]
    },
    {
     "name": "stdout",
     "output_type": "stream",
     "text": [
      "831 /1633 : 6zl3hCQaaE5HqojSOu9Xlo Matilda Mother - 2011 Remastered Version Pink Floyd The Piper At The Gates Of Dawn [2011 - Remaster] (2011 Remastered Version)\n",
      "832 /1633 : 57toaBm2LfTPmq2DYdtHog Pow R. Toc. H - 2011 Remastered Version Pink Floyd The Piper At The Gates Of Dawn [2011 - Remaster] (2011 Remastered Version)\n",
      "833 /1633 : 2ETeOretrw09zSKcXTtroC Scarecrow - 2011 Remastered Version Pink Floyd The Piper At The Gates Of Dawn [2011 - Remaster] (2011 Remastered Version)\n"
     ]
    },
    {
     "name": "stdout",
     "output_type": "stream",
     "text": [
      "834 /1633 : 3ewGfQu14g6zFwSdI7D2wL Take Up Thy Stethoscope And Walk - 2011 Remastered Version Pink Floyd The Piper At The Gates Of Dawn [2011 - Remaster] (2011 Remastered Version)\n",
      "835 /1633 : 0bSHWVsZ0kmDOY5oehzA92 The Gnome - 2011 Remastered Version Pink Floyd The Piper At The Gates Of Dawn [2011 - Remaster] (2011 Remastered Version)\n"
     ]
    },
    {
     "name": "stdout",
     "output_type": "stream",
     "text": [
      "836 /1633 : 5nfMtk9Zty1AITVo4YDhbb Have A Cigar - 2011 Remastered Version Pink Floyd Wish You Were Here [Remastered] (Remastered Version)\n",
      "837 /1633 : 32dnKMni3I3gwUbWp4mi45 Shine On You Crazy Diamond, Pts. 1-5 - 2011 Remastered Version Pink Floyd Wish You Were Here [Remastered] (Remastered Version)\n",
      "838 /1633 : 2YMN5C5XDSsqCHSoJIbOzj Shine On You Crazy Diamond, Pts. 6-9 - 2011 Remastered Version Pink Floyd Wish You Were Here [Remastered] (Remastered Version)\n",
      "839 /1633 : 0i8ztWwkzwBJxviDMqYdMA Welcome To The Machine - 2011 Remastered Version Pink Floyd Wish You Were Here [Remastered] (Remastered Version)\n"
     ]
    },
    {
     "name": "stdout",
     "output_type": "stream",
     "text": [
      "840 /1633 : 7aE5WXu5sFeNRh3Z05wwu4 Wish You Were Here - 2011 Remastered Version Pink Floyd Wish You Were Here [Remastered] (Remastered Version)\n",
      "841 /1633 : 5IJbTPhcj0IjdzUaYqwe2I Stfu Pink Guy Pink Season\n",
      "842 /1633 : 3dPmG97SN3qgYlkBA205x8 .3 Porcupine Tree In Absentia\n"
     ]
    },
    {
     "name": "stdout",
     "output_type": "stream",
     "text": [
      "843 /1633 : 2WObDBPZ4UZ8yBBf1R41QL Blackest Eyes Porcupine Tree In Absentia\n",
      "artist:\"Porcupine Tree\" album:\"In Absentia\" track:\"Chloroform\" not in spotify\n",
      "845 /1633 : 31ZT15OJPYjl1kqLeWssC9 Collapse The Light Into Earth Porcupine Tree In Absentia\n"
     ]
    },
    {
     "name": "stdout",
     "output_type": "stream",
     "text": [
      "artist:\"Porcupine Tree\" album:\"In Absentia\" track:\"Drown With Me\" not in spotify\n",
      "847 /1633 : 49vKZifxRayUeUQ0TIEX0l Gravity Eyelids Porcupine Tree In Absentia\n",
      "artist:\"Porcupine Tree\" album:\"In Absentia\" track:\"Heartattack in a Lay By\" not in spotify\n"
     ]
    },
    {
     "name": "stdout",
     "output_type": "stream",
     "text": [
      "849 /1633 : 1UrogDOQaZOJbeiGDGqGwm Lips Of Ashes Porcupine Tree In Absentia\n",
      "850 /1633 : 013rp6MswL21Cq25JorvOI Prodigal Porcupine Tree In Absentia\n"
     ]
    },
    {
     "name": "stdout",
     "output_type": "stream",
     "text": [
      "851 /1633 : 7ajEtAFkT5vPxx1YTePSz2 Strip The Soul Porcupine Tree In Absentia\n",
      "852 /1633 : 2YF8IpCJWnrT0pZgZzehgH The Creator Has A Mastertape Porcupine Tree In Absentia\n",
      "853 /1633 : 3OMCZSG5TbqJBKKRmtJciA The Sound Of Muzak Porcupine Tree In Absentia\n",
      "854 /1633 : 5lBQ3mnWsYIt5aCdgz1U9n Trains Porcupine Tree In Absentia\n"
     ]
    },
    {
     "name": "stdout",
     "output_type": "stream",
     "text": [
      "855 /1633 : 4jiUX9HRDTbTgEIGHDarfr Wedding Nails Porcupine Tree In Absentia\n",
      "856 /1633 : 6QgjcU0zLnzq5OrUoSZ3OK Feel It Still Portugal. The Man Woodstock\n",
      "artist:\"PostmodernJukebox\" track:\"Feel It Still\" not in spotify\n"
     ]
    },
    {
     "name": "stdout",
     "output_type": "stream",
     "text": [
      "858 /1633 : 0bl73LuASBW1UkFWxFjJiU Midnight Madonna Powerwolf Midnight Madonna\n",
      "859 /1633 : 2ArOs9tz8SC5cP6SIMD3P5 Amen & Attack Powerwolf Preachers of the Night\n",
      "860 /1633 : 4dgPz6THNVaAi5lscQtmoy Cardinal Sin Powerwolf Preachers of the Night\n",
      "861 /1633 : 15zg9OP8HRg15VU83VYxXj Coleus Sanctus Powerwolf Preachers of the Night\n"
     ]
    },
    {
     "name": "stdout",
     "output_type": "stream",
     "text": [
      "862 /1633 : 2OGFA0kVMXzIR5XJI9EpBK Extatum Et Oratum Powerwolf Preachers of the Night\n",
      "863 /1633 : 27krtJL99aNMCkqPdkSqii In the Name of God (Deus Vult) Powerwolf Preachers of the Night\n",
      "864 /1633 : 4amCtzl5B27wFaVIdqet7H Kreuzfeuer Powerwolf Preachers of the Night\n"
     ]
    },
    {
     "name": "stdout",
     "output_type": "stream",
     "text": [
      "865 /1633 : 3ES0nR0gv5vRrdRBxO36zN Last of the Living Dead Powerwolf Preachers of the Night\n",
      "866 /1633 : 4vtjBupNjcXWhS839SGbLX Lust for Blood Powerwolf Preachers of the Night\n",
      "867 /1633 : 3bg6QFD884mBSw3S0n55do Nochnoi Dozor Powerwolf Preachers of the Night\n",
      "868 /1633 : 5ATVg0SUVCIs8ZdnmMO0w9 Sacred & Wild Powerwolf Preachers of the Night\n"
     ]
    },
    {
     "name": "stdout",
     "output_type": "stream",
     "text": [
      "869 /1633 : 4otKbT9jxX0VQ7Y5mOcB3p Secrets of the Sacristy Powerwolf Preachers of the Night\n",
      "870 /1633 : 1KCDsPKFISNM2YZFFAoI7s Demons Are a Girl's Best Friend Powerwolf The Sacrament of Sin\n",
      "871 /1633 : 3mvpP1Pp34joJxGDq11ECz Fire & Forgive Powerwolf The Sacrament of Sin\n",
      "872 /1633 : 430trbbOVAdcOuMVeQz3YU Fist by Fist (Sacralize or Strike) Powerwolf The Sacrament of Sin\n"
     ]
    },
    {
     "name": "stdout",
     "output_type": "stream",
     "text": [
      "873 /1633 : 5KDcHol0FbJZCmNivYabkJ Incense & Iron Powerwolf The Sacrament of Sin\n",
      "874 /1633 : 6OrMblzPzh6Z0pIKVeWwd3 Killers with the Cross Powerwolf The Sacrament of Sin\n"
     ]
    },
    {
     "name": "stdout",
     "output_type": "stream",
     "text": [
      "875 /1633 : 7HaFpr7q7T01mW2YSL9ZhT Nightside of Siberia Powerwolf The Sacrament of Sin\n",
      "876 /1633 : 5y45tlGrk7lNcIzeu6xJXF Nighttime Rebel Powerwolf The Sacrament of Sin\n"
     ]
    },
    {
     "name": "stdout",
     "output_type": "stream",
     "text": [
      "877 /1633 : 7JIESJ31lSor1CO4W1expA Stossgebet Powerwolf The Sacrament of Sin\n",
      "878 /1633 : 5fBINwkFHK78VlJhV9vHGY The Sacrament of Sin Powerwolf The Sacrament of Sin\n"
     ]
    },
    {
     "name": "stdout",
     "output_type": "stream",
     "text": [
      "879 /1633 : 4cHC6wUiJ0XF1siHpWUSPv Venom of Venus Powerwolf The Sacrament of Sin\n"
     ]
    },
    {
     "name": "stdout",
     "output_type": "stream",
     "text": [
      "880 /1633 : 0YrUDBOsnIiUNISpGOtwCA Where the Wild Wolves Have Gone Powerwolf The Sacrament of Sin\n",
      "881 /1633 : 62LJFaYihsdVrrkgUOJC05 Kiss Prince Parade - Music from the Motion Picture Under the Cherry Moon\n"
     ]
    },
    {
     "name": "stdout",
     "output_type": "stream",
     "text": [
      "882 /1633 : 5DS5aMoVYgmZkULtzN6VCv Hymn for a Droid Psychedelic Porn Crumpets And Now for the Whatchamacallit\n"
     ]
    },
    {
     "name": "stdout",
     "output_type": "stream",
     "text": [
      "883 /1633 : 3038NH8wdXx0owuMdVTTrI ..and the Addled Abstraction of Being Psychedelic Porn Crumpets High Visceral, Pt. 1\n",
      "884 /1633 : 2SPI1dXVaZvR4qlwbzxdcC Cornflake Psychedelic Porn Crumpets High Visceral, Pt. 1\n",
      "885 /1633 : 6pmnLlu0OhMNFXEEgkiYEX Cubensis Lenses Psychedelic Porn Crumpets High Visceral, Pt. 1\n"
     ]
    },
    {
     "name": "stdout",
     "output_type": "stream",
     "text": [
      "886 /1633 : 7sP57RtB31LWReHyQ02RxX Denmark / Van Gogh & Gone Psychedelic Porn Crumpets High Visceral, Pt. 1\n",
      "887 /1633 : 61iUB6sUL3ARJ0phDHaCGK Entropy Psychedelic Porn Crumpets High Visceral, Pt. 1\n"
     ]
    },
    {
     "name": "stdout",
     "output_type": "stream",
     "text": [
      "888 /1633 : 4xBFKgS6VAmpmeoG0WJ9Pl Found God in a Tomato Psychedelic Porn Crumpets High Visceral, Pt. 1\n",
      "889 /1633 : 2acY3t1ZKAi3t6xVjWVktd Gallop to Southport Psychedelic Porn Crumpets High Visceral, Pt. 1\n",
      "890 /1633 : 33nIAkg5UqyXSmfRpfKW3V High Visceral Psychedelic Porn Crumpets High Visceral, Pt. 1\n"
     ]
    },
    {
     "name": "stdout",
     "output_type": "stream",
     "text": [
      "891 /1633 : 19n2inOfXSxHlBuygEdCZV Marmalade March Psychedelic Porn Crumpets High Visceral, Pt. 1\n",
      "892 /1633 : 0NBcMaT9LFP0CQ87NqTiVC Surf's Up Psychedelic Porn Crumpets High Visceral, Pt. 1\n",
      "artist:\"Pulko\" track:\"Du Lourd\" not in spotify\n"
     ]
    },
    {
     "name": "stdout",
     "output_type": "stream",
     "text": [
      "894 /1633 : 1EtdV2ZH74Y3j7iZjQMLpF Drowse - Remastered 2011 Queen A Day At The Races (Deluxe Edition 2011 Remaster)\n",
      "895 /1633 : 1n7xFAY4xoPeqRvrkzAtsw Good Old-Fashioned Lover Boy - 2011 Mix Queen A Day At The Races (Deluxe Edition 2011 Remaster)\n",
      "896 /1633 : 69P2hzg6gWob5xbgyJMYwL Long Away - Remastered 2011 Queen A Day At The Races (Deluxe Edition 2011 Remaster)\n"
     ]
    },
    {
     "name": "stdout",
     "output_type": "stream",
     "text": [
      "897 /1633 : 4rDbp1vnvEhieiccprPMdI Somebody To Love - 2011 Mix Queen A Day At The Races (Deluxe Edition 2011 Remaster)\n",
      "898 /1633 : 39j04METolm8GSqMYXWDlG Teo Torriatte (Let Us Cling Together) - 2011 Mix Queen A Day At The Races (Deluxe Edition 2011 Remaster)\n",
      "899 /1633 : 4byYaWrhnyZO5hujb3Qx53 The Millionaire Waltz - Remastered 2011 Queen A Day At The Races (Deluxe Edition 2011 Remaster)\n"
     ]
    },
    {
     "name": "stdout",
     "output_type": "stream",
     "text": [
      "900 /1633 : 4mLKx7zsUdyT4Ax7rI7KXu Tie Your Mother Down - Remastered 2011 Queen A Day At The Races (Deluxe Edition 2011 Remaster)\n",
      "901 /1633 : 2ekdPqGg9Ta3jDN1I8dm3z White Man - Remastered 2011 Queen A Day At The Races (Deluxe Edition 2011 Remaster)\n"
     ]
    },
    {
     "name": "stdout",
     "output_type": "stream",
     "text": [
      "902 /1633 : 4QxuI0R23qSGf4nipuOV6h You And I - Remastered 2011 Queen A Day At The Races (Deluxe Edition 2011 Remaster)\n",
      "903 /1633 : 46Ms1kGRWhOZGtQRQydDio You Take My Breath Away - Remastered 2011 Queen A Day At The Races (Deluxe Edition 2011 Remaster)\n",
      "904 /1633 : 6C45qCZ1D6rmK3dmLBAWYZ I’m In Love With My Car - Guitar & Vocal Mix / 2011 Queen A Night At The Opera (Deluxe Edition 2011 Remaster)\n"
     ]
    },
    {
     "name": "stdout",
     "output_type": "stream",
     "text": [
      "905 /1633 : 2AkmdLbVKS1steeZdy8H1l I Want To Break Free - Single Remix Queen The Works (Deluxe Edition 2011 Remaster)\n",
      "artist:\"Queens of the Stone Age\" album:\"Songs for the Deaf\" track:\"You Think I Ain't Worth a Dollar But I Feel Like a Millionaire\" not in spotify\n",
      "906 /1633 : 48OJGqiTSwiUmDwLpAlGZ6 You Think I Ain't Worth A Dollar, But I Feel Like A Millionaire - Album Version (With Interlude) Queens of the Stone Age Songs For The Deaf\n",
      "907 /1633 : 2ZOTtG7v1OrSNs6EINIGb4 Black Betty Ram Jam The Very Best Of Ram Jam\n"
     ]
    },
    {
     "name": "stdout",
     "output_type": "stream",
     "text": [
      "908 /1633 : 72FYliCNWAriQ9P45MC9zI Asche zu Asche Rammstein Herzeleid\n",
      "909 /1633 : 0nUOhgS27O4MlB9J300g8Y Das alte Leid Rammstein Herzeleid\n",
      "910 /1633 : 2lNnADFJHaxkH95Rm1CQhW Der Meister Rammstein Herzeleid\n"
     ]
    },
    {
     "name": "stdout",
     "output_type": "stream",
     "text": [
      "911 /1633 : 1hNE737dkYD9ZM1J8H9chv Du riechst so gut Rammstein Herzeleid\n",
      "912 /1633 : 4JaHt4zXuGtU6sSfEPQ2Es Heirate mich Rammstein Herzeleid\n",
      "913 /1633 : 27RXyWoS42uatQG7Nwucks Herzeleid Rammstein Herzeleid\n"
     ]
    },
    {
     "name": "stdout",
     "output_type": "stream",
     "text": [
      "914 /1633 : 5f3UoaZUSo43xsKve2ePgF Laichzeit Rammstein Herzeleid\n",
      "915 /1633 : 176mKgRpX9i9v81eNcsxzf Rammstein Rammstein Herzeleid\n",
      "916 /1633 : 2FJQyteNdmYjgE9sUMri1O Seemann Rammstein Herzeleid\n"
     ]
    },
    {
     "name": "stdout",
     "output_type": "stream",
     "text": [
      "917 /1633 : 0ydEdAQOjO1PuHCqpmTUx8 Weisses Fleisch Rammstein Herzeleid\n",
      "918 /1633 : 26dOCdbA4tZIJh9pGOLuHx Wollt ihr das Bett in Flammen sehen Rammstein Herzeleid\n",
      "919 /1633 : 3zPvL6ZCSVAHvSZXNoAbkl Adios Rammstein Mutter\n"
     ]
    },
    {
     "name": "stdout",
     "output_type": "stream",
     "text": [
      "920 /1633 : 5aNH8inF5BsbThDeOLs7zs Feuer frei! Rammstein Mutter\n",
      "921 /1633 : 3X0K6fII7VIwL1URPrp8Ko Ich will Rammstein Mutter\n",
      "922 /1633 : 52XYwQKlXp7scE7KrBBCID Links 2 3 4 Rammstein Mutter\n",
      "923 /1633 : 5ArNGisLzrNOIVwWajRRdt Mein Herz brennt Rammstein Mutter\n"
     ]
    },
    {
     "name": "stdout",
     "output_type": "stream",
     "text": [
      "924 /1633 : 7jfZybgHr6yzp4iuMS2K8u Mutter Rammstein Mutter\n",
      "925 /1633 : 6DxTbdswlgfUp2mJ3vtptB Nebel Rammstein Mutter\n",
      "926 /1633 : 4fPrxIohi60EZfNy2TlD44 Rein raus Rammstein Mutter\n",
      "927 /1633 : 3gVhsZtseYtY1fMuyYq06F Sonne Rammstein Mutter\n"
     ]
    },
    {
     "name": "stdout",
     "output_type": "stream",
     "text": [
      "928 /1633 : 0KFwkmCpsFqUs09Bs8iVFP Spieluhr Rammstein Mutter\n",
      "929 /1633 : 3Q70zeuBGJzhCOtzeBXoPS Zwitter Rammstein Mutter\n",
      "930 /1633 : 15f16lrsDzFeNpHYBTzHLI SEX Rammstein RAMMSTEIN\n",
      "931 /1633 : 1a8JpAL3vbAdXYrEABvOtb AMERIKA Rammstein REISE, REISE\n"
     ]
    },
    {
     "name": "stdout",
     "output_type": "stream",
     "text": [
      "932 /1633 : 1pOkWIJCshtoREcAcXmYSk AMOUR Rammstein REISE, REISE\n",
      "933 /1633 : 7fL0Tc5DGA7wLeXzkckiLW DALAI LAMA Rammstein REISE, REISE\n",
      "934 /1633 : 7eeDeUM9E7b0vkDfRz20Zt KEINE LUST Rammstein REISE, REISE\n",
      "935 /1633 : 6IUhPMJf4iJQ3Go1CkHDsa LOS Rammstein REISE, REISE\n"
     ]
    },
    {
     "name": "stdout",
     "output_type": "stream",
     "text": [
      "936 /1633 : 39RKlCfLoqb8o2aXfpVfjW MEIN TEIL Rammstein REISE, REISE\n",
      "937 /1633 : 0gf9HMeZDXRexbuM5CihZg MORGENSTERN Rammstein REISE, REISE\n",
      "938 /1633 : 4L9UGREMQBfYLmGwlACgTV MOSKAU Rammstein REISE, REISE\n"
     ]
    },
    {
     "name": "stdout",
     "output_type": "stream",
     "text": [
      "939 /1633 : 4aFC7Mes7CW5vHcb8ZApAx OHNE DICH Rammstein REISE, REISE\n",
      "940 /1633 : 6bvTzuFABmFnAAmVZ3nlMh REISE, REISE Rammstein REISE, REISE\n",
      "941 /1633 : 20hfLWeQSJnJ2CiPxmjzsj STEIN UM STEIN Rammstein REISE, REISE\n"
     ]
    },
    {
     "name": "stdout",
     "output_type": "stream",
     "text": [
      "942 /1633 : 1XanLfYUUBB6bLbnSh1KyU BENZIN Rammstein ROSENROT\n",
      "943 /1633 : 2gYAXMfRklQwZPAcQmFAzR EIN LIED Rammstein ROSENROT\n",
      "944 /1633 : 4LoFzVisVHdPh9K7Q54ST5 FEUER UND WASSER Rammstein ROSENROT\n"
     ]
    },
    {
     "name": "stdout",
     "output_type": "stream",
     "text": [
      "945 /1633 : 2STUa7rb27i7mCX7eOvr5K HILF MIR Rammstein ROSENROT\n",
      "946 /1633 : 0GxIAMtKFYTQZpR1avO6HB MANN GEGEN MANN Rammstein ROSENROT\n",
      "947 /1633 : 50LmbBKCBeDRKYvpR7ApjG ROSENROT Rammstein ROSENROT\n"
     ]
    },
    {
     "name": "stdout",
     "output_type": "stream",
     "text": [
      "948 /1633 : 0Z8q59waoxGjcRZDC3ffhH SPRING Rammstein ROSENROT\n",
      "949 /1633 : 0xv6NzfBHZhbZ5MWLzdh3T STIRB NICHT VOR MIR (DON'T DIE BEFORE I DO) Rammstein ROSENROT\n",
      "950 /1633 : 0KwqP13BnZMIycfxnqWtK1 TE QUIERO PUTA! Rammstein ROSENROT\n"
     ]
    },
    {
     "name": "stdout",
     "output_type": "stream",
     "text": [
      "951 /1633 : 2mZ7SXzf5mZkohPfDFIUET WO BIST DU Rammstein ROSENROT\n",
      "952 /1633 : 4HLcqGelHzQY7nAhxhh1hO ZERSTÖREN Rammstein ROSENROT\n"
     ]
    },
    {
     "name": "stdout",
     "output_type": "stream",
     "text": [
      "953 /1633 : 2jZxjkVESS9tepcceOJesB Alter Mann Rammstein Sehnsucht\n",
      "954 /1633 : 5QueZSIpWUbH4nLZlkjjkP Bestrafe mich Rammstein Sehnsucht\n"
     ]
    },
    {
     "name": "stdout",
     "output_type": "stream",
     "text": [
      "955 /1633 : 0HSVba6oa1QdUkco67C3e3 Bück dich Rammstein Sehnsucht\n",
      "956 /1633 : 5awDvzxWfd53SSrsRZ8pXO Du hast Rammstein Sehnsucht\n",
      "957 /1633 : 2R5Zsb2TtsjHAEJFUZvf7v Eifersucht Rammstein Sehnsucht\n"
     ]
    },
    {
     "name": "stdout",
     "output_type": "stream",
     "text": [
      "958 /1633 : 0xrkyEMkG4dVa5OMLQZOX8 Engel Rammstein Sehnsucht\n",
      "959 /1633 : 2TfSwSYe7N7gaHFtlWvuZg Klavier Rammstein Sehnsucht\n",
      "960 /1633 : 7ublZG5PXnJo5haa7lrhfL Küss mich (Fellfrosch) Rammstein Sehnsucht\n"
     ]
    },
    {
     "name": "stdout",
     "output_type": "stream",
     "text": [
      "961 /1633 : 3oWFQPp5lL5x907hCcCRa9 Sehnsucht Rammstein Sehnsucht\n",
      "962 /1633 : 2VR7EqYSBdqPVW5u3gcotK Spiel mit mir Rammstein Sehnsucht\n",
      "963 /1633 : 0S2UfCA5A275xChEi9a6vU Tier Rammstein Sehnsucht\n"
     ]
    },
    {
     "name": "stdout",
     "output_type": "stream",
     "text": [
      "964 /1633 : 48UPSzbZjgc449aqz8bxox Californication Red Hot Chili Peppers Californication (Deluxe Edition)\n",
      "965 /1633 : 1G391cbiT3v3Cywg8T7DM1 Scar Tissue Red Hot Chili Peppers Californication (Deluxe Edition)\n",
      "966 /1633 : 3SoDB59Y7dSZLSDBiNJ6o2 Charlie Red Hot Chili Peppers Stadium Arcadium\n"
     ]
    },
    {
     "name": "stdout",
     "output_type": "stream",
     "text": [
      "967 /1633 : 10Nmj3JCNoMeBQ87uw5j8k Dani California Red Hot Chili Peppers Stadium Arcadium\n",
      "968 /1633 : 1ylzYcU6FGnuBqqdqqH7QL Especially in Michigan Red Hot Chili Peppers Stadium Arcadium\n",
      "969 /1633 : 5f2ZVFERwwh3asebmurZEf Hump de Bump Red Hot Chili Peppers Stadium Arcadium\n"
     ]
    },
    {
     "name": "stdout",
     "output_type": "stream",
     "text": [
      "970 /1633 : 3gvyksxkLbyKwi0WjCiPXE She's Only 18 Red Hot Chili Peppers Stadium Arcadium\n",
      "971 /1633 : 06wTEKL2rSrSaOjFtgG8fj Slow Cheetah Red Hot Chili Peppers Stadium Arcadium\n",
      "972 /1633 : 2aibwv5hGXSgw7Yru8IYTO Snow (Hey Oh) Red Hot Chili Peppers Stadium Arcadium\n"
     ]
    },
    {
     "name": "stdout",
     "output_type": "stream",
     "text": [
      "973 /1633 : 4y84ILALZSa4LyP6H7NVjR Stadium Arcadium Red Hot Chili Peppers Stadium Arcadium\n",
      "974 /1633 : 0J3ytriezGZ3KCREfHKDOI Strip My Mind Red Hot Chili Peppers Stadium Arcadium\n",
      "975 /1633 : 5ZISTTuh3YIBtYsCvBKk5w Torture Me Red Hot Chili Peppers Stadium Arcadium\n"
     ]
    },
    {
     "name": "stdout",
     "output_type": "stream",
     "text": [
      "976 /1633 : 4nriBQlagNNqEfkvHFVWVz Baby-Sitting Blues Renaud Mistral gagnant\n",
      "977 /1633 : 6jO6o0h4BjZqqGCetHpYln Fatigué Renaud Mistral gagnant\n",
      "978 /1633 : 1ZlG9VQSUfSw0gJBzy7eEV La pêche à la ligne Renaud Mistral gagnant\n",
      "979 /1633 : 4KL0TurAerOq7bnGiFRm0z Le retour de la pépette Renaud Mistral gagnant\n"
     ]
    },
    {
     "name": "stdout",
     "output_type": "stream",
     "text": [
      "980 /1633 : 3mrD89s4Ua9IS3Aw5kxMU7 Miss Maggie Renaud Mistral gagnant\n",
      "981 /1633 : 1MOSRjdAbUhvLNnHCdUEL5 Mistral gagnant Renaud Mistral gagnant\n",
      "982 /1633 : 6yb2oQW16NzCT1o8p0q5y9 Morts les enfants Renaud Mistral gagnant\n",
      "artist:\"Renaud\" album:\"Mistral Gagnant\" track:\"P'tite conne\" not in spotify\n"
     ]
    },
    {
     "name": "stdout",
     "output_type": "stream",
     "text": [
      "983 /1633 : 4yksBrqsVlu6D5EgfEo9cC P'tite conne Renaud Mistral gagnant\n",
      "artist:\"Renaud\" album:\"Mistral Gagnant\" track:\"Si t'es mon pote\" not in spotify\n",
      "984 /1633 : 3LvcjcEsF1y1zX39Yhz6ds Si t'es mon pote Renaud Mistral gagnant\n",
      "985 /1633 : 2kdaKCgDmuFyFAS534yG8w Trois matelots Renaud Mistral gagnant\n"
     ]
    },
    {
     "name": "stdout",
     "output_type": "stream",
     "text": [
      "986 /1633 : 04O7ZO0DIjFhv5Pl1wYiLf Tu vas au bal ? Renaud Mistral gagnant\n",
      "987 /1633 : 0wHNrrefyaeVewm4NxjxrX Make It Stop (September's Children) Rise Against Endgame\n",
      "artist:\"Rob Zombie\" album:\"The Sinister Urge\" track:\"Demon Speeding\" not in spotify\n",
      "989 /1633 : 0KemK8FzVjVRuFdpaDZWzD 11:11 Rodrigo y Gabriela 11:11\n"
     ]
    },
    {
     "name": "stdout",
     "output_type": "stream",
     "text": [
      "990 /1633 : 4Lw32q8k7qWJlIUIT0ZZLk Atman Rodrigo y Gabriela 11:11\n"
     ]
    },
    {
     "name": "stdout",
     "output_type": "stream",
     "text": [
      "991 /1633 : 31HfaigUhnwVGXw2sQgr79 Buster Voodoo Rodrigo y Gabriela 11:11\n"
     ]
    },
    {
     "name": "stdout",
     "output_type": "stream",
     "text": [
      "992 /1633 : 5e4lOGcil90qQgWKUSHXnh Chac Mool Rodrigo y Gabriela 11:11\n",
      "993 /1633 : 5n8TyNbAwd44RZU7AlCHEk Hanuman Rodrigo y Gabriela 11:11\n"
     ]
    },
    {
     "name": "stdout",
     "output_type": "stream",
     "text": [
      "994 /1633 : 7qzhkbplGIuhF6LAq3zZuI Hora Zero Rodrigo y Gabriela 11:11\n"
     ]
    },
    {
     "name": "stdout",
     "output_type": "stream",
     "text": [
      "995 /1633 : 2y3AZkOlC7PG3EDFHFkV7O Logos Rodrigo y Gabriela 11:11\n",
      "996 /1633 : 6FttOMUGGp8EOr3oOLAQXn Master Maqui Rodrigo y Gabriela 11:11\n"
     ]
    },
    {
     "name": "stdout",
     "output_type": "stream",
     "text": [
      "997 /1633 : 6c4JlOY7bIa7ffYXcBLjAx Santo Domingo Rodrigo y Gabriela 11:11\n",
      "998 /1633 : 6Q99AauXfzXAw0WnyTFiXx Savitri Rodrigo y Gabriela 11:11\n"
     ]
    },
    {
     "name": "stdout",
     "output_type": "stream",
     "text": [
      "999 /1633 : 2J3Mnv95lmW3CkArFeFC2J Triveni Rodrigo y Gabriela 11:11\n",
      "1000/1633 : 3KM8FglBeca4LchGzUdyDU Hybride Exo Roi Heenok Hybride Exo\n",
      "1001/1633 : 62VWmsNoDmqT0Mj9oHHFVh Strasbourg / St. Denis Roy Hargrove Earfood\n"
     ]
    },
    {
     "name": "stdout",
     "output_type": "stream",
     "text": [
      "1002/1633 : 4zvXVO0SrMYIMHVGdOm0DA 82nd All the Way Sabaton The Great War\n",
      "1003/1633 : 6wWnwIrwPV32hKQouXpasL A Ghost in the Trenches Sabaton The Great War\n",
      "1004/1633 : 0pjIkwwUFLCGqLY90Jp3bH Devil Dogs Sabaton The Great War\n"
     ]
    },
    {
     "name": "stdout",
     "output_type": "stream",
     "text": [
      "1005/1633 : 2VS1jveuhfU7Latlgfh62T Fields of Verdun Sabaton The Great War\n",
      "1006/1633 : 4fmr8c3rh0dUKjw14UGfaH Great War Sabaton The Great War\n"
     ]
    },
    {
     "name": "stdout",
     "output_type": "stream",
     "text": [
      "1007/1633 : 5RhPNWj5NCJO0rYYpvban5 In Flanders Fields Sabaton The Great War\n",
      "1008/1633 : 6kiASFX63DwJ7grwKG2HUX Seven Pillars of Wisdom Sabaton The Great War\n",
      "1009/1633 : 2K2NeVnP853rkR5ese8ZLP The Attack of the Dead Men Sabaton The Great War\n"
     ]
    },
    {
     "name": "stdout",
     "output_type": "stream",
     "text": [
      "1010/1633 : 6aQBOvi6WUZK1l62Umun8L The End of the War to End All Wars Sabaton The Great War\n",
      "1011/1633 : 25UznYxMoMzQd4S963GMkp The Future of Warfare Sabaton The Great War\n",
      "1012/1633 : 0ePmfd8y7g4zs3E6ew7pDB The Red Baron Sabaton The Great War\n"
     ]
    },
    {
     "name": "stdout",
     "output_type": "stream",
     "text": [
      "1013/1633 : 24Yi9hE78yPEbZ4kxyoXAI Roses - Imanbek Remix SAINt JHN Roses (Imanbek Remix)\n",
      "1014/1633 : 3LJpQ7GdTjP72BjA12ly6n All Night Dinner Santo & Johnny Santo & Johnny\n",
      "1015/1633 : 0oLcoVcleWgnCeR6dx6rOm Blue Moon Santo & Johnny Santo & Johnny\n"
     ]
    },
    {
     "name": "stdout",
     "output_type": "stream",
     "text": [
      "1016/1633 : 0frQYnCdLDMydbz5RBjccn Canadian Sunset Santo & Johnny Santo & Johnny\n",
      "1017/1633 : 3pkyrLqyGH1CqR2hy7pX0O Caravan Santo & Johnny Santo & Johnny\n",
      "1018/1633 : 7JaUXqtO22DJPLCyoQSITO Dream Santo & Johnny Santo & Johnny\n"
     ]
    },
    {
     "name": "stdout",
     "output_type": "stream",
     "text": [
      "1019/1633 : 4oU5ZYLLiGBFPQ9SLGMtT5 Harbor Lights Santo & Johnny Santo & Johnny\n",
      "1020/1633 : 2GAXZVZ1lGbIqNJxE1Skyx Raunchy Santo & Johnny Santo & Johnny\n",
      "1021/1633 : 2exexdBC1YN4lJE4g0DSbL School Day Santo & Johnny Santo & Johnny\n"
     ]
    },
    {
     "name": "stdout",
     "output_type": "stream",
     "text": [
      "1022/1633 : 5Ww5z9hMFbMIm5X6zrszBi Slave Girl Santo & Johnny Santo & Johnny\n",
      "artist:\"Santo & Johnny\" album:\"Santo & Johnny\" track:\"Sleep Walk\" not in spotify\n",
      "1024/1633 : 3aS6CmpIMgG1uKuDJQCCDu Summertime Santo & Johnny Santo & Johnny\n"
     ]
    },
    {
     "name": "stdout",
     "output_type": "stream",
     "text": [
      "1025/1633 : 1lZbh3DZ1SAvNtf2w08d6r Tenderly Santo & Johnny Santo & Johnny\n",
      "1026/1633 : 623rRTKwGmgjH6sjE9uWLh Scatman (ski-ba-bop-ba-dop-bop) Scatman John Scatman's World\n",
      "1027/1633 : 6dugx9WBSS8TDxbKqp9zmj Scatman's World Scatman John Scatman's World\n",
      "1028/1633 : 1gKcpNIXhmHx2EHI5IPhte Fusil SCH A7\n"
     ]
    },
    {
     "name": "stdout",
     "output_type": "stream",
     "text": [
      "1029/1633 : 64PEUiFFmMrVZhuhFKGJ66 Rooftops of Berlin - Niko Schwind Remix Matthias Schuell Rooftops of Berlin\n",
      "1030/1633 : 7cUKT1Wiwve4E5iRFOLVmz La javanaise Serge Gainsbourg N°4\n",
      "1031/1633 : 3nvREfeASA91U3atMsVO3H Bad Kids To The Back Snarky Puppy Immigrance\n",
      "artist:\"Snowy White And The White Flames\" album:\"No Faith Required\" track:\"Midnight Blues\" not in spotify\n"
     ]
    },
    {
     "name": "stdout",
     "output_type": "stream",
     "text": [
      "artist:\"Stand High Patrol\" album:\"Summer on Mars\" track:\"Atmosphere\" not in spotify\n",
      "artist:\"Stand High Patrol\" album:\"Summer on Mars\" track:\"Dreamcatcher\" not in spotify\n",
      "artist:\"Stand High Patrol\" album:\"Summer on Mars\" track:\"Fragile\" not in spotify\n",
      "artist:\"Stand High Patrol\" album:\"Summer on Mars\" track:\"Landlord\" not in spotify\n"
     ]
    },
    {
     "name": "stdout",
     "output_type": "stream",
     "text": [
      "artist:\"Stand High Patrol\" album:\"Summer on Mars\" track:\"Raw Lines\" not in spotify\n",
      "artist:\"Stand High Patrol\" album:\"Summer on Mars\" track:\"Rosetta\" not in spotify\n",
      "artist:\"Stand High Patrol\" album:\"Summer on Mars\" track:\"Spring Rain\" not in spotify\n",
      "artist:\"Stand High Patrol\" album:\"Summer on Mars\" track:\"Summer on Mars\" not in spotify\n"
     ]
    },
    {
     "name": "stdout",
     "output_type": "stream",
     "text": [
      "artist:\"Stand High Patrol\" album:\"Summer on Mars\" track:\"Working Class\" not in spotify\n",
      "1042/1633 : 3aAuIvgJGdp4wWd60riWfB Valerie Steve Winwood Talking Back To The Night\n",
      "artist:\"Steve'n'Seagulls\" album:\"Farm Machine\" track:\"Thunderstruck\" not in spotify\n"
     ]
    },
    {
     "name": "stdout",
     "output_type": "stream",
     "text": [
      "artist:\"StevenSeagulls\" album:\"Farm Machine\" track:\"Thunderstruck\" not in spotify\n",
      "1044/1633 : 38punNoJGGFWOgOjm8eMRJ First Regret / 3 Years Older Steven Wilson Hand Cannot Erase\n",
      "1045/1633 : 4ceTCJPLBQBOogseivMuhL Ancestral Steven Wilson Hand Cannot Erase\n"
     ]
    },
    {
     "name": "stdout",
     "output_type": "stream",
     "text": [
      "1046/1633 : 37TyzXvVbPD2JIZEm65x9h Happy Returns / Ascendant Here on... Steven Wilson Hand Cannot Erase\n",
      "1047/1633 : 38punNoJGGFWOgOjm8eMRJ First Regret / 3 Years Older Steven Wilson Hand Cannot Erase\n"
     ]
    },
    {
     "name": "stdout",
     "output_type": "stream",
     "text": [
      "1048/1633 : 3L6iaRFenZmnkepJ4Ey9Cm Hand Cannot Erase Steven Wilson Hand Cannot Erase\n",
      "1049/1633 : 37TyzXvVbPD2JIZEm65x9h Happy Returns / Ascendant Here on... Steven Wilson Hand Cannot Erase\n"
     ]
    },
    {
     "name": "stdout",
     "output_type": "stream",
     "text": [
      "1050/1633 : 1a6uHU6uqREaMMgkrKijLC Home Invasion / Regret #9 Steven Wilson Hand Cannot Erase\n",
      "1051/1633 : 7GVrWak6y01P1t8bwbZW8e Perfect Life Steven Wilson Hand Cannot Erase\n",
      "1052/1633 : 1a6uHU6uqREaMMgkrKijLC Home Invasion / Regret #9 Steven Wilson Hand Cannot Erase\n"
     ]
    },
    {
     "name": "stdout",
     "output_type": "stream",
     "text": [
      "1053/1633 : 5cxmpBhMn4Wxs4ZyHLv4mR Routine Steven Wilson Hand Cannot Erase\n",
      "artist:\"Steven Wilson\" album:\"Hand. Cannot. Erase.\" track:\"Transcience\" not in spotify\n",
      "1055/1633 : 0PaCLduwMvGn19BNUHq0L1 Blank Tapes Steven Wilson To The Bone\n"
     ]
    },
    {
     "name": "stdout",
     "output_type": "stream",
     "text": [
      "1056/1633 : 5ZcxDZkfflzvZ5nJPyzXZs Detonation Steven Wilson To The Bone\n",
      "1057/1633 : 6IyWD0fAwt05ee3emHHXkn Nowhere Now Steven Wilson To The Bone\n",
      "1058/1633 : 7CcaktZZsdb8AWPdhDM38f Pariah Steven Wilson To The Bone\n"
     ]
    },
    {
     "name": "stdout",
     "output_type": "stream",
     "text": [
      "1059/1633 : 5LlhPAV6Wtwc3veHr4u2ZB People Who Eat Darkness Steven Wilson To The Bone\n",
      "1060/1633 : 1tzCbOeyoKtCNkynz4HmQk Permanating Steven Wilson To The Bone\n"
     ]
    },
    {
     "name": "stdout",
     "output_type": "stream",
     "text": [
      "1061/1633 : 3lxD0l11Oog4UUZe24SrkG Refuge Steven Wilson To The Bone\n",
      "1062/1633 : 0rHyrUwNjEJKRywss2MvTm Song Of I Steven Wilson To The Bone\n",
      "1063/1633 : 6bHiGzAT6lxyWRBXd6lVRF Song Of Unborn Steven Wilson To The Bone\n"
     ]
    },
    {
     "name": "stdout",
     "output_type": "stream",
     "text": [
      "1064/1633 : 5EYEOZLyr1XuHzW5ZPLkFD The Same Asylum As Before Steven Wilson To The Bone\n",
      "1065/1633 : 3aTmXPZxyXcB7kDVEzhyLv To The Bone Steven Wilson To The Bone\n",
      "1066/1633 : 4N0TP4Rmj6QQezWV88ARNJ Superstition Stevie Wonder Talking Book\n"
     ]
    },
    {
     "name": "stdout",
     "output_type": "stream",
     "text": [
      "artist:\"Stupeflip\" album:\"Terror Maxi\" track:\"Les Ronces\" not in spotify\n",
      "artist:\"Stupeflip\" album:\"Terror Maxi\" track:\"Stupeflip Vite !!!\" not in spotify\n",
      "1069/1633 : 3xcgl1k29fKcDNowRJbMq6 72.8 mhz - Interlude 3 Stupeflip The Hypnoflip Invasion\n"
     ]
    },
    {
     "name": "stdout",
     "output_type": "stream",
     "text": [
      "1070/1633 : 626KJ8oTkNs9znR1nDqq1k Ancienne prophétie - Interlude 5 Stupeflip The Hypnoflip Invasion\n",
      "1071/1633 : 0A6FdQB9XVIbjP6Kr4vsa1 Apocalypse 894 Stupeflip The Hypnoflip Invasion\n",
      "artist:\"Stupeflip\" album:\"The Hypnoflip Invasion\" track:\"C'est un Tube\" not in spotify\n"
     ]
    },
    {
     "name": "stdout",
     "output_type": "stream",
     "text": [
      "artist:\"Stupeflip\" album:\"The Hypnoflip Invasion\" track:\"Cest un Tube\" not in spotify\n",
      "1073/1633 : 3dLIduwK5uQmKMH7TFsDlF Ce petit blouson en daim Stupeflip The Hypnoflip Invasion\n",
      "1074/1633 : 1cNm3Y37Hhe493MfKuNwGW Check da Crou Stupeflip The Hypnoflip Invasion\n",
      "artist:\"Stupeflip\" album:\"The Hypnoflip Invasion\" track:\"Cold World\" not in spotify\n"
     ]
    },
    {
     "name": "stdout",
     "output_type": "stream",
     "text": [
      "1076/1633 : 0R8ei1Ja9TCnSpElFhryZS Dangereux !! - Interlude 1 Stupeflip The Hypnoflip Invasion\n",
      "1077/1633 : 51NbezCtFMJR5283vWxH8J Dark Warriors - Interlude 4 Stupeflip The Hypnoflip Invasion\n"
     ]
    },
    {
     "name": "stdout",
     "output_type": "stream",
     "text": [
      "1078/1633 : 57XHpRax8ytkhXrotxu8uE Gaëlle Stupeflip The Hypnoflip Invasion\n",
      "1079/1633 : 4nxLQxln8uOLYL9pU1bpRG Gem lé moch' Stupeflip The Hypnoflip Invasion\n",
      "1080/1633 : 3a2eEFpPmvKxadRGpOXzr9 Hater's Killah Stupeflip The Hypnoflip Invasion\n"
     ]
    },
    {
     "name": "stdout",
     "output_type": "stream",
     "text": [
      "1081/1633 : 4pMfDkHab6PU8yjAxSoHCd Invasion Stupeflip The Hypnoflip Invasion\n",
      "1082/1633 : 6Rpg1cBjDXDGlbbalRPU84 La menuiserie Stupeflip The Hypnoflip Invasion\n",
      "1083/1633 : 6IkpQyY8TcaMM0Cx4OCf2N La mort à Pop Hip - Interlude 6 Stupeflip The Hypnoflip Invasion\n"
     ]
    },
    {
     "name": "stdout",
     "output_type": "stream",
     "text": [
      "1084/1633 : 2nGwLNOOfOFWMpETHiwJIP Le coeur qui cogne Stupeflip The Hypnoflip Invasion\n",
      "1085/1633 : 0dtzevwOURr9R7tYIlWTOo Le spleen des petits Stupeflip The Hypnoflip Invasion\n",
      "1086/1633 : 57RPJrjsYcFj1kC7L41U1Z Lettre à Mylène Stupeflip The Hypnoflip Invasion\n",
      "1087/1633 : 3XUkRMMrrn7x7OQAQJUCF4 Région est Stupeflip The Hypnoflip Invasion\n"
     ]
    },
    {
     "name": "stdout",
     "output_type": "stream",
     "text": [
      "1088/1633 : 4rzapbR90qjU0mOr3RszP3 Sinode pibouin Stupeflip The Hypnoflip Invasion\n"
     ]
    },
    {
     "name": "stdout",
     "output_type": "stream",
     "text": [
      "1089/1633 : 4lixC8ILNVVsP2880K7fKl Strange Pain - Interlude 2 Stupeflip The Hypnoflip Invasion\n",
      "1090/1633 : 178zd1WV9MN2rVab2TsfDE Stupeflip vite !!! Stupeflip The Hypnoflip Invasion\n",
      "1091/1633 : 4a5pNRjwmzYQuEY1E7O6pj Breakfast In America - Remastered Supertramp Breakfast In America (Deluxe Edition)\n",
      "1092/1633 : 5gLJZBGkpvRXWbEbTcLIz8 Casual Conversations - 2010 Remastered Supertramp Breakfast In America (Deluxe Edition)\n"
     ]
    },
    {
     "name": "stdout",
     "output_type": "stream",
     "text": [
      "1093/1633 : 7hHTyS1QG0TcX5iQ0sa1Tk Child Of Vision - 2010 Remastered Supertramp Breakfast In America (Deluxe Edition)\n",
      "1094/1633 : 43BVfHr7mkNDtNIGVp1vff Gone Hollywood - 2010 Remastered Supertramp Breakfast In America (Deluxe Edition)\n"
     ]
    },
    {
     "name": "stdout",
     "output_type": "stream",
     "text": [
      "1095/1633 : 67oyFnjJnn78fZP9KjeZx0 Goodbye Stranger - 2010 Remastered Supertramp Breakfast In America (Deluxe Edition)\n",
      "1096/1633 : 6o8nZVzweaEOLDLOgaogX5 Just Another Nervous Wreck - 2010 Remastered Supertramp Breakfast In America (Deluxe Edition)\n",
      "1097/1633 : 3AUpYeScJOpYf8psTIz62l Lord Is It Mine - 2010 Remastered Supertramp Breakfast In America (Deluxe Edition)\n"
     ]
    },
    {
     "name": "stdout",
     "output_type": "stream",
     "text": [
      "1098/1633 : 089NMLhXz421ohFN55A3yo Oh Darling - 2010 Remastered Supertramp Breakfast In America (Deluxe Edition)\n",
      "1099/1633 : 0v0XYK0pLgsPiq5u4FKHaw Take The Long Way Home - 2010 Remastered Supertramp Breakfast In America (Deluxe Edition)\n"
     ]
    },
    {
     "name": "stdout",
     "output_type": "stream",
     "text": [
      "1100/1633 : 6mHOcVtsHLMuesJkswc0GZ The Logical Song - Remastered 2010 Supertramp Breakfast In America (Deluxe Edition)\n",
      "artist:\"System Of A Down\" album:\"Dracula 2000\" track:\"The Metro\" not in spotify\n",
      "1102/1633 : 0dxPHMZTI8TWMYRucsAFNd Attack System Of A Down Hypnotize\n"
     ]
    },
    {
     "name": "stdout",
     "output_type": "stream",
     "text": [
      "1103/1633 : 7lLN9V4aZWHBppDgN6dSfW Dreaming System Of A Down Hypnotize\n",
      "1104/1633 : 4mj2UMyJTBTaO7pffAK29j Holy Mountains System Of A Down Hypnotize\n",
      "1105/1633 : 6oO7WMjD6kEvCITLbVj0mu Hypnotize System Of A Down Hypnotize\n",
      "1106/1633 : 28TReO2Mxk9Q3GA4K98YSz Kill Rock 'n Roll System Of A Down Hypnotize\n"
     ]
    },
    {
     "name": "stdout",
     "output_type": "stream",
     "text": [
      "1107/1633 : 1VNWaY3uNfoeWqb5U8x2QX Lonely Day System Of A Down Hypnotize\n",
      "1108/1633 : 3oh1Uo11pk7qRHnx3hKxbb She's Like Heroin System Of A Down Hypnotize\n",
      "1109/1633 : 1ez4uWPnJwYufNhYTLVsJr Soldier Side System Of A Down Hypnotize\n"
     ]
    },
    {
     "name": "stdout",
     "output_type": "stream",
     "text": [
      "1110/1633 : 27RWYht1l6tD5ITFurwwFL Stealing Society System Of A Down Hypnotize\n",
      "1111/1633 : 6LJ4cC9tJc3En13Hil6g0C Tentative System Of A Down Hypnotize\n"
     ]
    },
    {
     "name": "stdout",
     "output_type": "stream",
     "text": [
      "1112/1633 : 2PmhYj5KyeluGXa1ClmIri U-Fig System Of A Down Hypnotize\n",
      "1113/1633 : 6IdKZeYIfmsnPOVbI0O94p Vicinity Of Obscenity System Of A Down Hypnotize\n",
      "1114/1633 : 0EYOdF5FCkgOJJla8DI2Md B.Y.O.B. System Of A Down Mezmerize\n"
     ]
    },
    {
     "name": "stdout",
     "output_type": "stream",
     "text": [
      "1115/1633 : 47EqCQZG5v4o0WFMufGf5S Cigaro System Of A Down Mezmerize\n"
     ]
    },
    {
     "name": "stdout",
     "output_type": "stream",
     "text": [
      "1116/1633 : 0GrHWVTDsaWcD4nrCGr7VE Lost In Hollywood System Of A Down Mezmerize\n",
      "1117/1633 : 6iFVJGxSVdFkzYQJL7Rgdk Old School Hollywood System Of A Down Mezmerize\n",
      "1118/1633 : 6y2DHyCYf6azhUfXmnuH6w Question! System Of A Down Mezmerize\n"
     ]
    },
    {
     "name": "stdout",
     "output_type": "stream",
     "text": [
      "1119/1633 : 41pOIT2t1rvr2Trg1HQChZ Radio/Video System Of A Down Mezmerize\n",
      "1120/1633 : 577mOFb1LAvSANIUZ4mbQ7 Revenga System Of A Down Mezmerize\n",
      "1121/1633 : 1wGRSG94dLt8fIZWhR3rGG Sad Statue System Of A Down Mezmerize\n"
     ]
    },
    {
     "name": "stdout",
     "output_type": "stream",
     "text": [
      "1122/1633 : 6f1HJMVJ1CgUeCIM6r795H Soldier Side - Intro System Of A Down Mezmerize\n",
      "artist:\"System Of A Down\" album:\"Mezmerize\" track:\"This Cocaine Makes Me Feel Like I'm On This Song\" not in spotify\n",
      "1123/1633 : 0DVHR5FQ0Gp2dsZJz7hfdy This Cocaine Makes Me Feel Like I'm On This Song System Of A Down Mezmerize\n"
     ]
    },
    {
     "name": "stdout",
     "output_type": "stream",
     "text": [
      "1124/1633 : 249Z7XT6mf8B2zuI0RaeS0 Violent Pornography System Of A Down Mezmerize\n",
      "1125/1633 : 3F385pf2JrVgSwcyqBDZEu CUBErt System Of A Down System Of A Down\n",
      "1126/1633 : 0GIvGfgr68OGkcCNFBAdrX Darts System Of A Down System Of A Down\n"
     ]
    },
    {
     "name": "stdout",
     "output_type": "stream",
     "text": [
      "1127/1633 : 1Cu3MCxugh9oia9betnm8i DDevil System Of A Down System Of A Down\n",
      "1128/1633 : 1ByE7lUw6wWMTbCb3woHdK Know System Of A Down System Of A Down\n",
      "1129/1633 : 658IQdgfrqSIf58I1AkWyz Mind System Of A Down System Of A Down\n"
     ]
    },
    {
     "name": "stdout",
     "output_type": "stream",
     "text": [
      "1130/1633 : 5ZjfvGPEW7AZ00QZR2XQBJ P.L.U.C.K. System Of A Down System Of A Down\n",
      "1131/1633 : 53QqFzAWnl7D8IVBvCmRtc Peephole System Of A Down System Of A Down\n",
      "1132/1633 : 3gY25vepRvvspuoAfxCyRO Soil System Of A Down System Of A Down\n"
     ]
    },
    {
     "name": "stdout",
     "output_type": "stream",
     "text": [
      "1133/1633 : 4vAHXnJ5YWLq5hbIVzZS1h Spiders System Of A Down System Of A Down\n",
      "1134/1633 : 31RTFPrB7wmYBhlkM2ILXG Sugar System Of A Down System Of A Down\n",
      "1135/1633 : 7phMc88qiwpKzOAIiR3xIU Suggestions System Of A Down System Of A Down\n",
      "1136/1633 : 1qGmxIGEuBEkj7bft72Kh0 Suite-Pee System Of A Down System Of A Down\n"
     ]
    },
    {
     "name": "stdout",
     "output_type": "stream",
     "text": [
      "1137/1633 : 5Q7m1Km199HHMB926xxbrs War? System Of A Down System Of A Down\n",
      "1138/1633 : 4e9eGQYsOiBcftrWXwsVco Aerials System Of A Down Toxicity\n",
      "1139/1633 : 0aueluj36PA9LNoj7d9SFb Arto System Of A Down Toxicity\n",
      "1140/1633 : 6gCVA6ja6g0foIsWv0RuSZ ATWA System Of A Down Toxicity\n"
     ]
    },
    {
     "name": "stdout",
     "output_type": "stream",
     "text": [
      "1141/1633 : 6dr2T6DRymdT1jfSUxDgut Bounce System Of A Down Toxicity\n",
      "1142/1633 : 2DlHlPMa4M17kufBvI2lEN Chop Suey! System Of A Down Toxicity\n",
      "1143/1633 : 2SpGXD7EbexndFmmThrnsy Deer Dance System Of A Down Toxicity\n",
      "1144/1633 : 1B5Y9I5wPfvD3C2A81A36C Forest System Of A Down Toxicity\n"
     ]
    },
    {
     "name": "stdout",
     "output_type": "stream",
     "text": [
      "1145/1633 : 0a2kVvbCbk52gmeFQFHNaG Jet Pilot System Of A Down Toxicity\n",
      "1146/1633 : 6V8oQXzymTzpEZOsiBiyJT Needles System Of A Down Toxicity\n",
      "1147/1633 : 3AwLxSqo1jOOMpNsgxqRNE Prison Song System Of A Down Toxicity\n",
      "1148/1633 : 6VzV6RI7641o57TuqfGRpj Psycho System Of A Down Toxicity\n"
     ]
    },
    {
     "name": "stdout",
     "output_type": "stream",
     "text": [
      "1149/1633 : 58lcznIKSNlOVdmklrPA99 Science System Of A Down Toxicity\n",
      "1150/1633 : 1a3X8Y882vwSnlnHqf9ztF Shimmy System Of A Down Toxicity\n",
      "1151/1633 : 0snQkGI5qnAmohLE7jTsTn Toxicity System Of A Down Toxicity\n",
      "1152/1633 : 4HIKcEKSijQLW5YNLsdLzt X System Of A Down Toxicity\n"
     ]
    },
    {
     "name": "stdout",
     "output_type": "stream",
     "text": [
      "artist:\"Tangerine Stoned\" album:\"Tangerine Stoned\" track:\"l'Urlo Della Strega\" not in spotify\n",
      "1153/1633 : 5QRfoW5XLqBM2oCPRg2Sr7 L'urlo della strega Tangerine Stoned Tangerine Stoned\n",
      "1154/1633 : 0aF9m87P8Tja3NUMv4DfHt Head Over Heels / Broken Tears For Fears Songs From The Big Chair\n",
      "1155/1633 : 4RvWPyQ5RL0ao9LPZeSouE Everybody Wants To Rule The World Tears For Fears Songs From The Big Chair (Super Deluxe Edition)\n"
     ]
    },
    {
     "name": "stdout",
     "output_type": "stream",
     "text": [
      "1156/1633 : 0aF9m87P8Tja3NUMv4DfHt Head Over Heels / Broken Tears For Fears Songs From The Big Chair\n",
      "1157/1633 : 2iwXxZD87p1Q3ISveQteiJ I Believe Tears For Fears Songs From The Big Chair\n",
      "1158/1633 : 6eAPuRbhPyTwY0xTBkHHtH Listen Tears For Fears Songs From The Big Chair\n"
     ]
    },
    {
     "name": "stdout",
     "output_type": "stream",
     "text": [
      "1159/1633 : 2p87CAEgL7eJzVgNZt2M0J Mothers Talk Tears For Fears Songs From The Big Chair\n",
      "1160/1633 : 2gQaQUhDCNGfBVXTvxAmXQ Shout Tears For Fears Songs From The Big Chair\n",
      "1161/1633 : 23DKn3AP0fpx1aAYth2Pax The Working Hour Tears For Fears Songs From The Big Chair\n"
     ]
    },
    {
     "name": "stdout",
     "output_type": "stream",
     "text": [
      "artist:\"Ten Years After\" album:\"A Space In Time\" track:\"I'd Love to Change the World\" not in spotify\n",
      "1162/1633 : 19HjHUjCfDrEYhVSIKG6nK I'd Love to Change the World - 2004 Remaster Ten Years After A Space in Time (Deluxe Version)\n"
     ]
    },
    {
     "name": "stdout",
     "output_type": "stream",
     "text": [
      "1163/1633 : 478d70Vg2ljAG28eeDp2w5 Rize of the Fenix Tenacious D Rize Of The Fenix\n",
      "1164/1633 : 7x86D0wH2PrWgSLz8Wtnzf Business Suits and Combat Boots The Agonist Once Only Imagined\n",
      "1165/1633 : 0uMhYGXAgnP2Y7TMyUPUgd See See Rider (Bonus Track) The Animals Animalisms\n"
     ]
    },
    {
     "name": "stdout",
     "output_type": "stream",
     "text": [
      "1166/1633 : 1rxoyGj1QuPoVi8fOft1Kt Because - Remastered 2009 The Beatles Abbey Road (Remastered)\n",
      "1167/1633 : 5eZrW59C3UgBhkqNlowEID Carry That Weight - Remastered 2009 The Beatles Abbey Road (Remastered)\n"
     ]
    },
    {
     "name": "stdout",
     "output_type": "stream",
     "text": [
      "1168/1633 : 2EqlS6tkEnglzr7tkKAAYD Come Together - Remastered 2009 The Beatles Abbey Road (Remastered)\n",
      "1169/1633 : 01SfTM5nfCou5gQL70r6gs Golden Slumbers - Remastered 2009 The Beatles Abbey Road (Remastered)\n"
     ]
    },
    {
     "name": "stdout",
     "output_type": "stream",
     "text": [
      "1170/1633 : 52hm7o5MPKymBUmSJadwve Her Majesty - Takes 1-3 The Beatles Abbey Road (Super Deluxe Edition)\n",
      "1171/1633 : 6dGnYIeXmHdcikdzNNDMm2 Here Comes The Sun - Remastered 2009 The Beatles Abbey Road (Remastered)\n",
      "1172/1633 : 3Z25k4ZF6QENy2d9YatsM5 I Want You (She's So Heavy) - Remastered 2009 The Beatles Abbey Road (Remastered)\n"
     ]
    },
    {
     "name": "stdout",
     "output_type": "stream",
     "text": [
      "1173/1633 : 2S8xyNRJX1XQdo3qnTuovI Maxwell's Silver Hammer - Remastered 2009 The Beatles Abbey Road (Remastered)\n",
      "1174/1633 : 4JOyMhad5dD81uGYLGgKrS Mean Mr Mustard - Remastered 2009 The Beatles Abbey Road (Remastered)\n",
      "1175/1633 : 0suLngfo7rJoetk7Ub6N8l Octopus's Garden - Remastered 2009 The Beatles Abbey Road (Remastered)\n"
     ]
    },
    {
     "name": "stdout",
     "output_type": "stream",
     "text": [
      "1176/1633 : 2mxByJWOajjiVsLWjNXvDJ Oh! Darling - Remastered 2009 The Beatles Abbey Road (Remastered)\n",
      "1177/1633 : 1FTCA6wQwulQFokDddKE68 Polythene Pam - Remastered 2009 The Beatles Abbey Road (Remastered)\n",
      "1178/1633 : 2jtUGFsqanQ82zqDlhiKIp She Came In Through The Bathroom Window - Remastered 2009 The Beatles Abbey Road (Remastered)\n"
     ]
    },
    {
     "name": "stdout",
     "output_type": "stream",
     "text": [
      "1179/1633 : 0pNeVovbiZHkulpGeOx1Gj Something - Remastered 2009 The Beatles Abbey Road (Remastered)\n"
     ]
    },
    {
     "name": "stdout",
     "output_type": "stream",
     "text": [
      "1180/1633 : 4nwKdZID1ht0lDBJ5h2p87 Sun King - Remastered 2009 The Beatles Abbey Road (Remastered)\n",
      "1181/1633 : 5aHHf6jrqDRb1fcBmue2kn The End - Remastered 2009 The Beatles Abbey Road (Remastered)\n",
      "1182/1633 : 1jOLTO379yIu9aMnCkpMQl You Never Give Me Your Money - Remastered 2009 The Beatles Abbey Road (Remastered)\n"
     ]
    },
    {
     "name": "stdout",
     "output_type": "stream",
     "text": [
      "1183/1633 : 68BTFws92cRztMS1oQ7Ewj All You Need Is Love - Remastered 2009 The Beatles Magical Mystery Tour (Remastered)\n",
      "artist:\"The Beatles\" album:\"Magical Mystery Tour\" track:\"Baby, You're A Rich Man\" not in spotify\n",
      "1184/1633 : 0JBvtprXP2Z0LP3jmzA7Xp Baby, You're A Rich Man - Remastered 2009 The Beatles Magical Mystery Tour (Remastered)\n"
     ]
    },
    {
     "name": "stdout",
     "output_type": "stream",
     "text": [
      "1185/1633 : 0QIX9BS0AUCQcHYvyrsMkV Blue Jay Way - Remastered 2009 The Beatles Magical Mystery Tour (Remastered)\n",
      "1186/1633 : 1itLKsCWHtLnxALkgBk1Fa Flying - Remastered 2009 The Beatles Magical Mystery Tour (Remastered)\n",
      "1187/1633 : 0vZ97gHhemKm6c64hTfJNA Hello, Goodbye - Remastered 2009 The Beatles Magical Mystery Tour (Remastered)\n"
     ]
    },
    {
     "name": "stdout",
     "output_type": "stream",
     "text": [
      "1188/1633 : 6Pq9MmkDQYZiiCDpxnvrf6 I Am The Walrus - Remastered 2009 The Beatles Magical Mystery Tour (Remastered)\n",
      "1189/1633 : 0qHMhBZqYb99yhX9BHcIkV Magical Mystery Tour - Remastered 2009 The Beatles Magical Mystery Tour (Remastered)\n",
      "1190/1633 : 1h04XMpzGzmAudoI6VHBgA Penny Lane - Remastered 2009 The Beatles Magical Mystery Tour (Remastered)\n",
      "1191/1633 : 3Am0IbOxmvlSXro7N5iSfZ Strawberry Fields Forever - Remastered 2009 The Beatles Magical Mystery Tour (Remastered)\n"
     ]
    },
    {
     "name": "stdout",
     "output_type": "stream",
     "text": [
      "1192/1633 : 6rHh8urosEFRI67xVa6fzU The Fool On The Hill - Remastered 2009 The Beatles Magical Mystery Tour (Remastered)\n",
      "1193/1633 : 1dxbAIfCASqv6jix2R1Taj Your Mother Should Know - Remastered 2009 The Beatles Magical Mystery Tour (Remastered)\n",
      "1194/1633 : 4KRgqwb4kvBuTz1utbYxfb And Your Bird Can Sing - Remastered 2009 The Beatles Revolver (Remastered)\n",
      "1195/1633 : 1ob06Ol8FMIPQgjpg7bMyk Doctor Robert - Remastered 2009 The Beatles Revolver (Remastered)\n"
     ]
    },
    {
     "name": "stdout",
     "output_type": "stream",
     "text": [
      "1196/1633 : 5GjPQ0eI7AgmOnADn1EO6Q Eleanor Rigby - Remastered 2009 The Beatles Revolver (Remastered)\n",
      "1197/1633 : 1kDkaFlmkdEZiVUogaP9OZ For No One - Remastered 2009 The Beatles Revolver (Remastered)\n"
     ]
    },
    {
     "name": "stdout",
     "output_type": "stream",
     "text": [
      "1198/1633 : 7HTH1ppjkkOe7RLoBDKXYJ Good Day Sunshine - Remastered 2009 The Beatles Revolver (Remastered)\n",
      "1199/1633 : 3tGhRLgcCP6SIZU3tbGl7l Got To Get You Into My Life - Remastered 2009 The Beatles Revolver (Remastered)\n",
      "1200/1633 : 2B4Y9u4ERAFiMo13XPJyGP Here, There And Everywhere - Remastered 2009 The Beatles Revolver (Remastered)\n"
     ]
    },
    {
     "name": "stdout",
     "output_type": "stream",
     "text": [
      "1201/1633 : 7orb0y6ySGdsYZywMoQtsD I Want To Tell You - Remastered 2009 The Beatles Revolver (Remastered)\n",
      "artist:\"The Beatles\" album:\"Revolver\" track:\"I'm Only Sleeping\" not in spotify\n",
      "1202/1633 : 2ylCrFiBu98SC0vFfaCent I'm Only Sleeping - Remastered 2009 The Beatles Revolver (Remastered)\n",
      "1203/1633 : 4RdJFhfLQcezwN5LsXl4qP Love You To - Remastered 2009 The Beatles Revolver (Remastered)\n"
     ]
    },
    {
     "name": "stdout",
     "output_type": "stream",
     "text": [
      "1204/1633 : 3VSuWxZM6x6V3ig5nYtikL She Said She Said - Remastered 2009 The Beatles Revolver (Remastered)\n",
      "1205/1633 : 4BRkPBUxOYffM2QXVlq7aC Taxman - Remastered 2009 The Beatles Revolver (Remastered)\n",
      "1206/1633 : 00oZhqZIQfL9P5CjOP6JsO Tomorrow Never Knows - Remastered 2009 The Beatles Revolver (Remastered)\n",
      "1207/1633 : 50xwQXPtfNZFKFeZ0XePWc Yellow Submarine - Remastered 2009 The Beatles Revolver (Remastered)\n"
     ]
    },
    {
     "name": "stdout",
     "output_type": "stream",
     "text": [
      "1208/1633 : 0hKRSZhUGEhKU6aNSPBACZ A Day In The Life - Remastered 2009 The Beatles Sgt. Pepper's Lonely Hearts Club Band (Remastered)\n",
      "1209/1633 : 6W35n1UlkvqhfMZstB4BXs Being For The Benefit Of Mr. Kite! - Remastered 2009 The Beatles Sgt. Pepper's Lonely Hearts Club Band (Remastered)\n",
      "1210/1633 : 3pKKxkeB1pOUMHwWBmKc3Y Fixing A Hole - Remastered 2009 The Beatles Sgt. Pepper's Lonely Hearts Club Band (Remastered)\n"
     ]
    },
    {
     "name": "stdout",
     "output_type": "stream",
     "text": [
      "1211/1633 : 3LtOmWpTXLhilL5odoKysR Getting Better - Remastered 2009 The Beatles Sgt. Pepper's Lonely Hearts Club Band (Remastered)\n",
      "1212/1633 : 0xIuNHHcKI1JDuBPlSwzb1 Good Morning Good Morning - Remastered 2009 The Beatles Sgt. Pepper's Lonely Hearts Club Band (Remastered)\n",
      "1213/1633 : 6h9W5FxX4E9lUFsyq8j1AD Lovely Rita - Remastered 2009 The Beatles Sgt. Pepper's Lonely Hearts Club Band (Remastered)\n"
     ]
    },
    {
     "name": "stdout",
     "output_type": "stream",
     "text": [
      "1214/1633 : 25yQPHgC35WNnnOUqFhgVR Lucy In The Sky With Diamonds - Remastered 2009 The Beatles Sgt. Pepper's Lonely Hearts Club Band (Remastered)\n",
      "1215/1633 : 4fUKE8EULjQdHF4zb0M8FO Sgt. Pepper's Lonely Hearts Club Band - Remastered 2009 The Beatles Sgt. Pepper's Lonely Hearts Club Band (Remastered)\n",
      "1216/1633 : 42ocGQCOT0xYtV3f5kJDsD Sgt. Pepper's Lonely Hearts Club Band - Reprise / Remastered 2009 The Beatles Sgt. Pepper's Lonely Hearts Club Band (Remastered)\n"
     ]
    },
    {
     "name": "stdout",
     "output_type": "stream",
     "text": [
      "1217/1633 : 3PjMtNzwhDHqxoKudm6GvF She's Leaving Home - Remastered 2009 The Beatles Sgt. Pepper's Lonely Hearts Club Band (Remastered)\n",
      "artist:\"The Beatles\" album:\"Sgt Pepper's Lonely Hearts Club Band\" track:\"When I'm sixty four\" not in spotify\n"
     ]
    },
    {
     "name": "stdout",
     "output_type": "stream",
     "text": [
      "1218/1633 : 1NrbnHlR2BFREcyWXHIHip When I'm Sixty Four - Remastered 2009 The Beatles Sgt. Pepper's Lonely Hearts Club Band (Remastered)\n",
      "1219/1633 : 2RnPATK99oGOZygnD2GTO6 With A Little Help From My Friends - Remastered 2009 The Beatles Sgt. Pepper's Lonely Hearts Club Band (Remastered)\n",
      "1220/1633 : 3Umg8CDhO8dOSj7yBTInYb Within You Without You - Remastered 2009 The Beatles Sgt. Pepper's Lonely Hearts Club Band (Remastered)\n"
     ]
    },
    {
     "name": "stdout",
     "output_type": "stream",
     "text": [
      "1221/1633 : 0j3p1p06deJ7f9xmJ9yG22 Back In The U.S.S.R. - Remastered 2009 The Beatles The Beatles (Remastered)\n",
      "1222/1633 : 1ABegtCPBMMJaMpfDyATjE Birthday - Remastered 2009 The Beatles The Beatles (Remastered)\n"
     ]
    },
    {
     "name": "stdout",
     "output_type": "stream",
     "text": [
      "1223/1633 : 5jgFfDIR6FR0gvlA56Nakr Blackbird - Remastered 2009 The Beatles The Beatles (Remastered)\n",
      "1224/1633 : 5XmetMMUFNXClbiYnGdVmP Cry Baby Cry - Remastered 2009 The Beatles The Beatles (Remastered)\n",
      "1225/1633 : 5NQYyej46WQkgCbnzGD21W Dear Prudence - Remastered 2009 The Beatles The Beatles (Remastered)\n",
      "1226/1633 : 4uKyLqJHDjT6mdA22ofxuM A Beginning (Take 4) / Don’t Pass Me By (Take 7) The Beatles The Beatles\n"
     ]
    },
    {
     "name": "stdout",
     "output_type": "stream",
     "text": [
      "1227/1633 : 64P3zpRsDHIk7YTpRtaKYL Everybody's Got Something To Hide Except Me And My Monkey - Remastered 2009 The Beatles The Beatles (Remastered)\n",
      "1228/1633 : 2jAojvUaPoHPFSPpF0UNRo Glass Onion - Remastered 2009 The Beatles The Beatles (Remastered)\n",
      "1229/1633 : 3T4Kt51PV4k8tx6YCtBgcl Good Night - Remastered 2009 The Beatles The Beatles (Remastered)\n"
     ]
    },
    {
     "name": "stdout",
     "output_type": "stream",
     "text": [
      "1230/1633 : 71LsKf3xISiOlY1mj7FFPP Happiness Is A Warm Gun - Remastered 2009 The Beatles The Beatles (Remastered)\n",
      "1231/1633 : 0Bs0hUYxz7REyIHH7tRhL2 Helter Skelter - Remastered 2009 The Beatles The Beatles (Remastered)\n"
     ]
    },
    {
     "name": "stdout",
     "output_type": "stream",
     "text": [
      "1232/1633 : 1TPcNcmuKlq0PKpYOBgP1U Honey Pie - Remastered 2009 The Beatles The Beatles (Remastered)\n",
      "1233/1633 : 09x9v1o51dbqi5H0u7UGfp I Will - Remastered 2009 The Beatles The Beatles (Remastered)\n",
      "artist:\"The Beatles\" album:\"The Beatles\" track:\"I'm So Tired\" not in spotify\n"
     ]
    },
    {
     "name": "stdout",
     "output_type": "stream",
     "text": [
      "1234/1633 : 2X9H5BokS1u5O46YpNYNsZ I'm So Tired - Remastered 2009 The Beatles The Beatles (Remastered)\n",
      "1235/1633 : 2fS3WRUilBxRoFMk3HVaoW Julia - 2018 Mix The Beatles The Beatles\n",
      "1236/1633 : 40d2EcaOOCUjDzzo2YvUWn Long, Long, Long - Remastered 2009 The Beatles The Beatles (Remastered)\n"
     ]
    },
    {
     "name": "stdout",
     "output_type": "stream",
     "text": [
      "1237/1633 : 1swmf4hFMJYRNA8Rq9PVaW Martha My Dear - Remastered 2009 The Beatles The Beatles (Remastered)\n",
      "1238/1633 : 6TjUg1cTUzWHbal6yQAi7c Mother Nature's Son - Remastered 2009 The Beatles The Beatles (Remastered)\n"
     ]
    },
    {
     "name": "stdout",
     "output_type": "stream",
     "text": [
      "1239/1633 : 1gFNm7cXfG1vSMcxPpSxec Ob-La-Di, Ob-La-Da - Remastered 2009 The Beatles The Beatles (Remastered)\n",
      "1240/1633 : 4ZmjfLdJXbqjAENqk7eWSE Piggies - Remastered 2009 The Beatles The Beatles (Remastered)\n",
      "1241/1633 : 5dZ8PeKKZJLIQAWNTdp8WX Revolution 9 - Remastered 2009 The Beatles The Beatles (Remastered)\n"
     ]
    },
    {
     "name": "stdout",
     "output_type": "stream",
     "text": [
      "1242/1633 : 0xulhqNI2L3CoAe0CLe65V Revolution - Take 14 / Instrumental Backing Track The Beatles The Beatles\n",
      "1243/1633 : 1ITQbrueGLl581a25XXm9c Rocky Raccoon - Remastered 2009 The Beatles The Beatles (Remastered)\n",
      "1244/1633 : 5iyCSUM7zzficwaGo8GIoc Savoy Truffle - Remastered 2009 The Beatles The Beatles (Remastered)\n"
     ]
    },
    {
     "name": "stdout",
     "output_type": "stream",
     "text": [
      "1245/1633 : 2tBv9tAdqEbLNDi5smSjbg Sexy Sadie - Remastered 2009 The Beatles The Beatles (Remastered)\n",
      "1246/1633 : 5Z3Rd1fMcaty8g5Pn7yhBQ The Continuing Story Of Bungalow Bill - Remastered 2009 The Beatles The Beatles (Remastered)\n",
      "1247/1633 : 389QX9Q1eUOEZ19vtzzI9O While My Guitar Gently Weeps - Remastered 2009 The Beatles The Beatles (Remastered)\n"
     ]
    },
    {
     "name": "stdout",
     "output_type": "stream",
     "text": [
      "1248/1633 : 3BOMaaOFlOXCu00eyMbajU Why Don’t We Do It In The Road? - Take 5 The Beatles The Beatles\n",
      "1249/1633 : 6j67aNAPeQ31uw4qw4rpLa Wild Honey Pie - Remastered 2009 The Beatles The Beatles (Remastered)\n",
      "1250/1633 : 2AsGApoUuN8pTM17Lq9eUd Yer Blues - Remastered 2009 The Beatles The Beatles (Remastered)\n"
     ]
    },
    {
     "name": "stdout",
     "output_type": "stream",
     "text": [
      "artist:\"The Bee Gees\" album:\"Main Course\" track:\"Jive Talkin'\" not in spotify\n",
      "artist:\"The Bee Gees\" album:\"Main Course\" track:\"Jive Talkin\" not in spotify\n",
      "artist:\"The Bee Gees\" album:\"Saturday Night Fever\" track:\"Stayin' Alive\" not in spotify\n"
     ]
    },
    {
     "name": "stdout",
     "output_type": "stream",
     "text": [
      "artist:\"The Bee Gees\" album:\"Saturday Night Fever\" track:\"Stayin Alive\" not in spotify\n",
      "1253/1633 : 5lN1EH25gdiqT1SFALMAq1 Gold on the Ceiling The Black Keys El Camino\n",
      "1254/1633 : 5G1sTBGbZT5o4PNRc75RKI Lonely Boy The Black Keys El Camino\n"
     ]
    },
    {
     "name": "stdout",
     "output_type": "stream",
     "text": [
      "1255/1633 : 2bMDlEQZBcci86Mh5iaf2O Sweet home chicago The Blues Brothers Tribute Band Chicago Blues (Music from the 'Blues Brothers' films)\n",
      "1256/1633 : 2yBVeksU2EtrPJbTu4ZslK What a Fool Believes The Doobie Brothers Minute by Minute\n",
      "1257/1633 : 2yBVeksU2EtrPJbTu4ZslK What a Fool Believes The Doobie Brothers Minute by Minute\n",
      "artist:\"The Doors\" album:\"L.A. Woman\" track:\"(You Need Meat) Don't Go No Further\" not in spotify\n"
     ]
    },
    {
     "name": "stdout",
     "output_type": "stream",
     "text": [
      "artist:\"The Doors\" album:\"L.A. Woman\" track:\"(You Need Meat) Dont Go No Further\" not in spotify\n",
      "1259/1633 : 1E7qCptwRPfvZrIDyDDgjh Been down so Long The Doors L.A. Woman\n",
      "1260/1633 : 2Sjez1CwJv8Pz018CxKjWa Cars Hiss by My Window The Doors L.A. Woman\n",
      "1261/1633 : 14qbY7LbhcXwECCGqH2z7U Crawling King Snake The Doors L.A. Woman\n"
     ]
    },
    {
     "name": "stdout",
     "output_type": "stream",
     "text": [
      "1262/1633 : 4nKmlUaUiUN4rpMGYnUPAu Hyacinth House The Doors L.A. Woman\n",
      "1263/1633 : 6DmfWj5kOa1fX8AwN9byOn L.A. Woman The Doors L.A. Woman\n",
      "artist:\"The Doors\" album:\"L.A. Woman\" track:\"L' America\" not in spotify\n",
      "artist:\"The Doors\" album:\"L.A. Woman\" track:\"L America\" not in spotify\n"
     ]
    },
    {
     "name": "stdout",
     "output_type": "stream",
     "text": [
      "1265/1633 : 3MFFDRC4wTN9JNGtzXsZlN Love Her Madly The Doors L.A. Woman\n",
      "1266/1633 : 14XWXWv5FoCbFzLksawpEe Riders on the Storm The Doors L.A. Woman\n",
      "1267/1633 : 3uqxwLp7Hs9sJhm4uVF8li The Changeling The Doors L.A. Woman\n",
      "1268/1633 : 6ieXnWm8uineF8k9Ugn5DG The WASP (Texas Radio and the Big Beat) The Doors L.A. Woman\n"
     ]
    },
    {
     "name": "stdout",
     "output_type": "stream",
     "text": [
      "1269/1633 : 42dsUTJpzMWUJfEkzsbKWl When the Music's Over The Doors Strange Days\n",
      "1270/1633 : 0JNZGIavoUrdup1NsgJOQs Alabama Song (Whisky Bar) The Doors The Doors\n",
      "1271/1633 : 03By6gD02qhtvIQiK8KidK Back Door Man The Doors The Doors\n"
     ]
    },
    {
     "name": "stdout",
     "output_type": "stream",
     "text": [
      "1272/1633 : 6ToM0uwxtPKo9CMpbPGYvM Break on Through (To the Other Side) The Doors The Doors\n",
      "1273/1633 : 09ezgACZuwWZt6CtQSSLRG End of the Night The Doors The Doors\n"
     ]
    },
    {
     "name": "stdout",
     "output_type": "stream",
     "text": [
      "1274/1633 : 6vCLIvOIabRk1XQfMb6RXi I Looked at You The Doors The Doors\n",
      "1275/1633 : 5uvosCdMlFdTXhoazkTI5R Light My Fire The Doors The Doors\n",
      "1276/1633 : 2Xdc6qyaFBJZ8QW1KhpVci Soul Kitchen The Doors The Doors\n"
     ]
    },
    {
     "name": "stdout",
     "output_type": "stream",
     "text": [
      "1277/1633 : 4pxHVL0syMQwYK3BxDaTIs Take It as It Comes The Doors The Doors\n"
     ]
    },
    {
     "name": "stdout",
     "output_type": "stream",
     "text": [
      "1278/1633 : 0gWvVB4bGvADocoPMEDy3K The Crystal Ship The Doors The Doors\n",
      "1279/1633 : 5UgT7w6zVZjP3oyawMzbiK The End The Doors The Doors\n",
      "1280/1633 : 7mc2TP4Vzuyw2vNf1bLW9f Twentieth Century Fox The Doors The Doors\n",
      "1281/1633 : 55eILhe6Yr58TuLxHskVh1 Dawn Patrol The Eliminators Unleashed\n"
     ]
    },
    {
     "name": "stdout",
     "output_type": "stream",
     "text": [
      "artist:\"The Killers\" album:\"Hot Fuss\" track:\"Somedy Told Me\" not in spotify\n"
     ]
    },
    {
     "name": "stdout",
     "output_type": "stream",
     "text": [
      "1283/1633 : 6jX5mso4x00c1EiNMrTU9U Please Mr. Postman The Marvelettes Please Mr. Postman\n",
      "1284/1633 : 5JJDu0Z5DKe7mR31MGksSg Come Out and Play The Offspring Smash\n"
     ]
    },
    {
     "name": "stdout",
     "output_type": "stream",
     "text": [
      "artist:\"The Police\" album:\"Outlandos d'Amour\" track:\"Be My Girl - Sally\" not in spotify\n",
      "1285/1633 : 4cHObLf8gg0XIvi7AsUPuJ Be My Girl - Sally The Police Outlandos D'Amour (Remastered 2003)\n",
      "artist:\"The Police\" album:\"Outlandos d'Amour\" track:\"Born In The 50's\" not in spotify\n"
     ]
    },
    {
     "name": "stdout",
     "output_type": "stream",
     "text": [
      "1286/1633 : 0RxrsIXyGkeV8JwEFUZMhg Born In The 50's The Police Outlandos D'Amour (Remastered 2003)\n",
      "artist:\"The Police\" album:\"Outlandos d'Amour\" track:\"Can't Stand Losing You\" not in spotify\n",
      "1287/1633 : 6DjKJgwe9c90Bd2iya0fre Can't Stand Losing You The Police Outlandos D'Amour (Remastered 2003)\n"
     ]
    },
    {
     "name": "stdout",
     "output_type": "stream",
     "text": [
      "artist:\"The Police\" album:\"Outlandos d'Amour\" track:\"Hole In My Life\" not in spotify\n",
      "1288/1633 : 25McPIqh9oSdPSP36Gu7Jp Hole In My Life The Police Outlandos D'Amour (Remastered 2003)\n",
      "artist:\"The Police\" album:\"Outlandos d'Amour\" track:\"Masoko Tanga\" not in spotify\n",
      "1289/1633 : 4i4zjkLYGOwHXbNTnsesGe Masoko Tanga The Police Outlandos D'Amour (Remastered 2003)\n"
     ]
    },
    {
     "name": "stdout",
     "output_type": "stream",
     "text": [
      "artist:\"The Police\" album:\"Outlandos d'Amour\" track:\"Next To You\" not in spotify\n",
      "1290/1633 : 7HjipY3Vy2HAN11D2juKHT Next To You The Police Outlandos D'Amour (Remastered 2003)\n",
      "artist:\"The Police\" album:\"Outlandos d'Amour\" track:\"Peanuts\" not in spotify\n",
      "1291/1633 : 7Jsli31ZTv3TI28qcXzEkE Peanuts The Police Outlandos D'Amour (Remastered 2003)\n"
     ]
    },
    {
     "name": "stdout",
     "output_type": "stream",
     "text": [
      "artist:\"The Police\" album:\"Outlandos d'Amour\" track:\"Roxanne\" not in spotify\n",
      "1292/1633 : 3EYOJ48Et32uATr9ZmLnAo Roxanne The Police Outlandos D'Amour (Remastered 2003)\n",
      "artist:\"The Police\" album:\"Outlandos d'Amour\" track:\"So Lonely\" not in spotify\n"
     ]
    },
    {
     "name": "stdout",
     "output_type": "stream",
     "text": [
      "1293/1633 : 2wnsBaxrmkthIFAm6vqCuX So Lonely The Police Outlandos D'Amour (Remastered 2003)\n",
      "artist:\"The Police\" album:\"Outlandos d'Amour\" track:\"Truth Hits Everybody\" not in spotify\n",
      "1294/1633 : 4pLhVO0JuMiFDSJYDiGP7S Truth Hits Everybody The Police Outlandos D'Amour (Remastered 2003)\n"
     ]
    },
    {
     "name": "stdout",
     "output_type": "stream",
     "text": [
      "artist:\"The Pretenders\" album:\"Break Up the Concrete\" track:\"Almost Perfect\" not in spotify\n"
     ]
    },
    {
     "name": "stdout",
     "output_type": "stream",
     "text": [
      "artist:\"The Pretenders\" album:\"Break Up the Concrete\" track:\"Boots of Chinese Plastic\" not in spotify\n",
      "artist:\"The Pretenders\" album:\"Break Up the Concrete\" track:\"Break Up the Concrete\" not in spotify\n",
      "artist:\"The Pretenders\" album:\"Break Up the Concrete\" track:\"Don't Cut Your Hair\" not in spotify\n"
     ]
    },
    {
     "name": "stdout",
     "output_type": "stream",
     "text": [
      "artist:\"The Pretenders\" album:\"Break Up the Concrete\" track:\"Dont Cut Your Hair\" not in spotify\n",
      "artist:\"The Pretenders\" album:\"Break Up the Concrete\" track:\"Don't Lose Faith in Me\" not in spotify\n",
      "artist:\"The Pretenders\" album:\"Break Up the Concrete\" track:\"Dont Lose Faith in Me\" not in spotify\n",
      "artist:\"The Pretenders\" album:\"Break Up the Concrete\" track:\"Love's a Mystery\" not in spotify\n"
     ]
    },
    {
     "name": "stdout",
     "output_type": "stream",
     "text": [
      "artist:\"The Pretenders\" album:\"Break Up the Concrete\" track:\"Loves a Mystery\" not in spotify\n",
      "artist:\"The Pretenders\" album:\"Break Up the Concrete\" track:\"One thing never changed\" not in spotify\n",
      "artist:\"The Pretenders\" album:\"Break Up the Concrete\" track:\"Rosalee\" not in spotify\n",
      "artist:\"The Pretenders\" album:\"Break Up the Concrete\" track:\"The Last Ride\" not in spotify\n"
     ]
    },
    {
     "name": "stdout",
     "output_type": "stream",
     "text": [
      "artist:\"The Pretenders\" album:\"Break Up the Concrete\" track:\"The Nothing Maker\" not in spotify\n",
      "artist:\"The Pretenders\" album:\"Break Up the Concrete\" track:\"You Didn't Have To\" not in spotify\n",
      "artist:\"The Pretenders\" album:\"Break Up the Concrete\" track:\"You Didnt Have To\" not in spotify\n",
      "artist:\"The Ramones\" album:\"Ramones\" track:\"Blitzkrieg Bop\" not in spotify\n"
     ]
    },
    {
     "name": "stdout",
     "output_type": "stream",
     "text": [
      "1307/1633 : 63T7DJ1AFDD6Bn8VzG6JE8 Paint It, Black The Rolling Stones Aftermath\n",
      "artist:\"The Rolling Stones\" album:\"Out of Our Heads\" track:\"(I Can't Get No) Satisfaction\" not in spotify\n",
      "1308/1633 : 2PzU4IB8Dr6mxV3lHuaG34 (I Can't Get No) Satisfaction - Mono Version The Rolling Stones Out Of Our Heads\n",
      "1309/1633 : 77oU2rjC5XbjQfNe3bD6so Beast Of Burden - Remastered The Rolling Stones Some Girls\n"
     ]
    },
    {
     "name": "stdout",
     "output_type": "stream",
     "text": [
      "artist:\"The Shutes\" album:\"Bright Blue Berlin Sky\" track:\"Echo Of Love\" not in spotify\n",
      "1311/1633 : 3OU1TaxefnJrxm7gVpZq51 Armageddon The Skints Swimming Lessons\n",
      "1312/1633 : 6Kk46fXJWriWBwTh6rfay2 Donkey Brain The Skints Swimming Lessons\n"
     ]
    },
    {
     "name": "stdout",
     "output_type": "stream",
     "text": [
      "1313/1633 : 2QZ0rJCSCfuo2cRsoptO4a Gets on Top The Skints Swimming Lessons\n",
      "artist:\"The Skints\" album:\"Swimming Lessons\" track:\"I'm a Fool\" not in spotify\n",
      "1314/1633 : 2D6Q5wQg2vaEuAfgnQRKhR I'm a Fool The Skints Swimming Lessons\n",
      "1315/1633 : 2F1ysPPYrlI4RIHwSd7qd9 La La La The Skints Swimming Lessons\n"
     ]
    },
    {
     "name": "stdout",
     "output_type": "stream",
     "text": [
      "1316/1633 : 5XHGZcIrXtjvoh4rqv4bjT Learning to Swim The Skints Swimming Lessons\n",
      "1317/1633 : 0cakdPE5dWLVpmixFmp6TH Love Is the Devil The Skints Swimming Lessons\n",
      "1318/1633 : 2yw3rO5pGDWn3dMfCyJRSo New Kind of Friend The Skints Swimming Lessons\n"
     ]
    },
    {
     "name": "stdout",
     "output_type": "stream",
     "text": [
      "1319/1633 : 0Fv9n1TzpaTeVwLnelLOR1 Oh My Love The Skints Swimming Lessons\n",
      "1320/1633 : 7jvC2woJfi3u84ddfKVgz2 Restless The Skints Swimming Lessons\n"
     ]
    },
    {
     "name": "stdout",
     "output_type": "stream",
     "text": [
      "1321/1633 : 3RgRfFiwW1KeFwtjkeoqgN Stop Looking Back The Skints Swimming Lessons\n",
      "1322/1633 : 4zbfrfveOvsjCK6M8IPh0F The Island The Skints Swimming Lessons\n"
     ]
    },
    {
     "name": "stdout",
     "output_type": "stream",
     "text": [
      "1323/1633 : 698welLY3osMJ3j2d8RBD3 This Is an Interlude The Skints Swimming Lessons\n",
      "artist:\"The Skints\" album:\"Swimming Lessons\" track:\"What Did I Learned Today?\" not in spotify\n",
      "1325/1633 : 7ledv9CTjqdwnvHgRmETyZ Flowers On the Wall The Statler Brothers Flowers On The Wall: The Essential Statler Brothers 1964-1969\n"
     ]
    },
    {
     "name": "stdout",
     "output_type": "stream",
     "text": [
      "1326/1633 : 57Xjny5yNzAcsxnusKmAfA Reptilia The Strokes Room On Fire\n",
      "1327/1633 : 5jUA1njy3h6ynHLvPdEVHt Disco Inferno - LP / 12\" Version The Trammps Disco Inferno\n"
     ]
    },
    {
     "name": "stdout",
     "output_type": "stream",
     "text": [
      "1328/1633 : 1JO1xLtVc8mWhIoE3YaCL0 Happy Together The Turtles Happy Together\n",
      "1329/1633 : 47wPvRG8FEwbZP22UBgTQr Seven Nation Army The White Stripes Elephant\n",
      "artist:\"The Who\" album:\"Who's Next\" track:\"Baba O Riley\" not in spotify\n"
     ]
    },
    {
     "name": "stdout",
     "output_type": "stream",
     "text": [
      "artist:\"The Who\" album:\"Whos Next\" track:\"Baba O Riley\" not in spotify\n",
      "artist:\"The Who\" album:\"Who's Next\" track:\"Won't Get Fooled Again\" not in spotify\n",
      "1331/1633 : 0cJPLFrlV7TTCyPLupHzcH Won't Get Fooled Again - Original Album Version The Who Who's Next\n",
      "1332/1633 : 43DeSV93pJPT4lCZaWZ6b1 The Boys Are Back In Town Thin Lizzy Jailbreak (Deluxe Edition)\n"
     ]
    },
    {
     "name": "stdout",
     "output_type": "stream",
     "text": [
      "1333/1633 : 6rUp7v3l8yC4TKxAAR5Bmx I Hate Everything About You Three Days Grace Three Days Grace (Deluxe Version)\n",
      "artist:\"Todd Terje\" album:\"It's Album Time\" track:\"Alfonso Muskender\" not in spotify\n",
      "artist:\"Todd Terje\" album:\"Its Album Time\" track:\"Alfonso Muskender\" not in spotify\n"
     ]
    },
    {
     "name": "stdout",
     "output_type": "stream",
     "text": [
      "artist:\"Todd Terje\" album:\"It's Album Time\" track:\"Dolorean Dynamite\" not in spotify\n",
      "artist:\"Todd Terje\" album:\"Its Album Time\" track:\"Dolorean Dynamite\" not in spotify\n"
     ]
    },
    {
     "name": "stdout",
     "output_type": "stream",
     "text": [
      "1336/1633 : 01txDiOnBPfMrVQwPQtDHR Inspector Norse Todd Terje It's Album Time\n"
     ]
    },
    {
     "name": "stdout",
     "output_type": "stream",
     "text": [
      "1337/1633 : 60EtWSoDRJSFmg99MKZi0x Intro (It's Album Time) Todd Terje It's Album Time\n",
      "1338/1633 : 07Wr8BA8v4hsvczK43fZw4 Oh Joy Todd Terje It's Album Time\n",
      "1339/1633 : 7vUbnU8XibkKccpuoyWqIm Preben Goes to Acapulco Todd Terje It's Album Time\n"
     ]
    },
    {
     "name": "stdout",
     "output_type": "stream",
     "text": [
      "1340/1633 : 6reLfBSO38qmFgHgz6kAs0 Strandbar Todd Terje It's Album Time\n",
      "1341/1633 : 0Def9GQnjyliBmy7LmoXvn Svensk Sås Todd Terje It's Album Time\n",
      "1342/1633 : 0z6QVQ6FbgHFi6qVyh8xSh Swing Star, Pt. 1 Todd Terje It's Album Time\n"
     ]
    },
    {
     "name": "stdout",
     "output_type": "stream",
     "text": [
      "1343/1633 : 2z6OostMhIFP6JmpQazDIL Swing Star, Pt. 2 Todd Terje It's Album Time\n",
      "1344/1633 : 1zkdB1DXcduNBqtESrvRAj Mjøndalen Diskoklubb Todd Terje Mjøndalen Diskoklubb\n",
      "1345/1633 : 7nNKbWdmUqKHGfgipRborS A Distant Closeness Tommy Guerrero Road to Knowhere\n"
     ]
    },
    {
     "name": "stdout",
     "output_type": "stream",
     "text": [
      "1346/1633 : 46TKHBSVXIOYjfi3pp6X7F El camino negro Tommy Guerrero Road to Knowhere\n",
      "1347/1633 : 2Rh8lX6vMw4gPWbB9hyEO3 Headin West - Bonus Track Tommy Guerrero Road to Knowhere\n",
      "1348/1633 : 4gvwWBH2sM1nK8Jf0MJNK1 Heat in the Streets Tommy Guerrero Road to Knowhere\n"
     ]
    },
    {
     "name": "stdout",
     "output_type": "stream",
     "text": [
      "1349/1633 : 1rJaiv1oQkEL0DdBoKarPA Highway Hustle Tommy Guerrero Road to Knowhere\n",
      "1350/1633 : 7l5DDOzlf8q5S87KbrNI16 Los padres Tommy Guerrero Road to Knowhere\n",
      "1351/1633 : 2u4sit6Khr9SMHDAzLNzPs Postcard Home Tommy Guerrero Road to Knowhere\n"
     ]
    },
    {
     "name": "stdout",
     "output_type": "stream",
     "text": [
      "1352/1633 : 2fllsdGix2LLcVYufzKtMq Sidewalk Soul Tommy Guerrero Road to Knowhere\n",
      "1353/1633 : 5RuoRiA2VuewUvCBn3Tqrp Silent Miles - Bonus Track Tommy Guerrero Road to Knowhere\n"
     ]
    },
    {
     "name": "stdout",
     "output_type": "stream",
     "text": [
      "1354/1633 : 1f6zaaYNBHcEDi8flDfsSg Slow Roll Tommy Guerrero Road to Knowhere\n",
      "1355/1633 : 7D96SLwZnOBC0v3dpOPsEt The Endless Road Tommy Guerrero Road to Knowhere\n"
     ]
    },
    {
     "name": "stdout",
     "output_type": "stream",
     "text": [
      "1356/1633 : 75WWE2KDn0vU9kWoYl8T9S Where Water Once Was Tommy Guerrero Road to Knowhere\n",
      "1357/1633 : 3EhuEeTQP2tAICvTakOEYF White Sands Tommy Guerrero Road to Knowhere\n"
     ]
    },
    {
     "name": "stdout",
     "output_type": "stream",
     "text": [
      "1358/1633 : 4OhqsmPMreC0EFCo3OmDSm 10,000 Days (Wings Pt 2) TOOL 10,000 Days\n",
      "1359/1633 : 2ae6mkuD2gJnJQADl488et Intension TOOL 10,000 Days\n",
      "1360/1633 : 2gbPu2QNqhnnqtfK3yyeZ0 Jambi TOOL 10,000 Days\n"
     ]
    },
    {
     "name": "stdout",
     "output_type": "stream",
     "text": [
      "1361/1633 : 7dP42zpNCIsEHlnRLZGo0i Lipan Conjuring TOOL 10,000 Days\n",
      "1362/1633 : 0PLtBp8VchqMaJMl4abJaZ Lost Keys (Blame Hofman) TOOL 10,000 Days\n",
      "1363/1633 : 0NLDZzVke3Qu7vDhWyGzRk Right In Two TOOL 10,000 Days\n",
      "1364/1633 : 0D8l86LXxKcgKAO17DfQsl Rosetta Stoned TOOL 10,000 Days\n"
     ]
    },
    {
     "name": "stdout",
     "output_type": "stream",
     "text": [
      "1365/1633 : 1lATXTBJDHwawvT1UfxWu3 The Pot TOOL 10,000 Days\n",
      "1366/1633 : 65ShmiE5aLBdcIGr7tHX35 Vicarious TOOL 10,000 Days\n",
      "1367/1633 : 1A00hgLu1S7Q3GNMAjs5mX Viginti Tres TOOL 10,000 Days\n",
      "1368/1633 : 1BDuMlv8zbeBmwFEBmE6N9 Wings For Marie (Pt 1) TOOL 10,000 Days\n"
     ]
    },
    {
     "name": "stdout",
     "output_type": "stream",
     "text": [
      "1369/1633 : 0KCdkjFn7as5rME8dInqGQ (-) Ions TOOL Ænima\n",
      "1370/1633 : 0nLOl4fSiBZKGFla5pLUtf Ænema TOOL Ænima\n",
      "1371/1633 : 6xttnk5U2VMVCaihaD0RPE Cesaro Summability TOOL Ænima\n"
     ]
    },
    {
     "name": "stdout",
     "output_type": "stream",
     "text": [
      "1372/1633 : 2uzCJ4ckvFhv6F9Q1CMkys Die Eier von Satan TOOL Ænima\n",
      "1373/1633 : 0RVFjx2HwbHcl5SCSADpFP Eulogy TOOL Ænima\n"
     ]
    },
    {
     "name": "stdout",
     "output_type": "stream",
     "text": [
      "1374/1633 : 6AioOohg4bQZFA4jIYQQ2r Forty Six & 2 TOOL Ænima\n"
     ]
    },
    {
     "name": "stdout",
     "output_type": "stream",
     "text": [
      "1375/1633 : 3S4G4SL15Cp4CvAfmye8um Hooker With A Penis TOOL Ænima\n",
      "1376/1633 : 3S4G4SL15Cp4CvAfmye8um Hooker With A Penis TOOL Ænima\n",
      "1377/1633 : 56IPgOpV9w1suGl7Lu9qeZ Intermission TOOL Ænima\n",
      "1378/1633 : 09KJ3XQZ9RQ5prbSp59Wbc Jimmy TOOL Ænima\n"
     ]
    },
    {
     "name": "stdout",
     "output_type": "stream",
     "text": [
      "1379/1633 : 13aTOYQ4xvj84VACPu9zur Message To Harry Manback TOOL Ænima\n",
      "1380/1633 : 4CbHM5bpfOfMNxNgVDHJRw Pushit TOOL Ænima\n"
     ]
    },
    {
     "name": "stdout",
     "output_type": "stream",
     "text": [
      "1381/1633 : 0pwObEOHolQZSldJ2q1wpy Stinkfist TOOL Ænima\n",
      "1382/1633 : 2Dqg2mRbfIVKhBZleNrgmH Third Eye TOOL Ænima\n",
      "1383/1633 : 5Ca9qZBftB2kGmuUOoJoea Useful Idiot TOOL Ænima\n"
     ]
    },
    {
     "name": "stdout",
     "output_type": "stream",
     "text": [
      "1384/1633 : 0gGfmw4csswZmFPj9YK8GW 7empest TOOL Fear Inoculum\n",
      "1385/1633 : 3VcEEhf6NL8oq2e1IxFUVM Chocolate Chip Trip TOOL Fear Inoculum\n",
      "1386/1633 : 3gPxMQWDMSEyPXMtzbcDdQ Culling Voices TOOL Fear Inoculum\n"
     ]
    },
    {
     "name": "stdout",
     "output_type": "stream",
     "text": [
      "1387/1633 : 0aTiUssEOy0Mt69bsavj6K Descending TOOL Fear Inoculum\n",
      "1388/1633 : 39zWYYZStDgWi32sOU9AX4 Fear Inoculum TOOL Fear Inoculum\n",
      "1389/1633 : 2xKDKtJBLDPd7BF3VmSQQO Invincible TOOL Fear Inoculum\n"
     ]
    },
    {
     "name": "stdout",
     "output_type": "stream",
     "text": [
      "1390/1633 : 48C0O5CXfQdfjUCUhOs1YP Legion Inoculant TOOL Fear Inoculum\n",
      "1391/1633 : 4qE9yOgBNsARadpZTAb6RH Litanie contre la Peur TOOL Fear Inoculum\n",
      "1392/1633 : 5aDylkK93g6SvfTPJTXq4L Mockingbeat TOOL Fear Inoculum\n"
     ]
    },
    {
     "name": "stdout",
     "output_type": "stream",
     "text": [
      "1393/1633 : 03sEzk1VyrUZSgyhoQR0LZ Pneuma TOOL Fear Inoculum\n",
      "1394/1633 : 1FRlNrHd4OGNIEVgFuX9Fu Disposition TOOL Lateralus\n",
      "1395/1633 : 5aVJ5rv7ghWSkQaqP726tE Eon Blue Apocalypse TOOL Lateralus\n"
     ]
    },
    {
     "name": "stdout",
     "output_type": "stream",
     "text": [
      "1396/1633 : 3oEgMtjTzGgXTFdO0IW2M7 Faaip De Oiad TOOL Lateralus\n",
      "1397/1633 : 7tvuLLroI0n6uYBWuFig5d Lateralus TOOL Lateralus\n",
      "1398/1633 : 4KVTRIZIj1WWIxitbREDnK Mantra TOOL Lateralus\n"
     ]
    },
    {
     "name": "stdout",
     "output_type": "stream",
     "text": [
      "1399/1633 : 1vxu8vMNshg5J8z3oA7QJZ Parabola TOOL Lateralus\n",
      "1400/1633 : 1vxu8vMNshg5J8z3oA7QJZ Parabola TOOL Lateralus\n"
     ]
    },
    {
     "name": "stdout",
     "output_type": "stream",
     "text": [
      "1401/1633 : 0R7HFX1LW3E0ZR5BnAJLHz Reflection TOOL Lateralus\n",
      "1402/1633 : 55mJleti2WfWEFNFcBduhc Schism TOOL Lateralus\n",
      "1403/1633 : 6ZsZxNP4Iwdyp3kd5oFFQN The Grudge TOOL Lateralus\n",
      "1404/1633 : 0Klbxk3g96Qae4DbCnUNcT The Patient TOOL Lateralus\n"
     ]
    },
    {
     "name": "stdout",
     "output_type": "stream",
     "text": [
      "1405/1633 : 0Cnx6PGogxIE2RnDcnoeK8 Ticks & Leeches TOOL Lateralus\n",
      "1406/1633 : 2D9rd6TIpqmDkog5Mx8kxl Triad TOOL Lateralus\n"
     ]
    },
    {
     "name": "stdout",
     "output_type": "stream",
     "text": [
      "1407/1633 : 4aVuWgvD0X63hcOCnZtNFA Hold the Line TOTO Toto\n",
      "1408/1633 : 15RB3lFt2Mhc16m5fTTYkh Hey Oh - Radio Edit Tragédie Tragédie (Édition Deluxe)\n",
      "artist:\"Twenty One Pilots\" album:\"Blurry Face\" track:\"Ride\" not in spotify\n"
     ]
    },
    {
     "name": "stdout",
     "output_type": "stream",
     "text": [
      "1410/1633 : 4o6dYxgEN6ZIlY8rwdrSPz Panama - 2004 Remaster Van Halen The Very Best of Van Halen (UK Release)\n",
      "artist:\"Vance Joy\" album:\"God Loves You When You're Dancing\" track:\"Riptide\" not in spotify\n",
      "1411/1633 : 423RKXolCbgBbkF8WanOwA Riptide Vance Joy God Loves You When You're Dancing\n",
      "1412/1633 : 2QKYfkH616UOHRQJlxWaVu Heaven Nor Hell Volbeat Beyond Hell / Above Heaven\n"
     ]
    },
    {
     "name": "stdout",
     "output_type": "stream",
     "text": [
      "1413/1633 : 48wH8bAxvBJO2l14GmNLz7 Wait for the Moment Vulfpeck My First Car\n",
      "1414/1633 : 6ZyuNGpj7FQDT9vklQlmJA 1 for 1, DiMaggio Vulfpeck The Beautiful Game\n",
      "1415/1633 : 1SHA4IJyiyNobDOrQzFFXy Animal Spirits Vulfpeck The Beautiful Game\n",
      "1416/1633 : 6vzRQHItVGIT94q33HvRZx Aunt Leslie Vulfpeck The Beautiful Game\n"
     ]
    },
    {
     "name": "stdout",
     "output_type": "stream",
     "text": [
      "1417/1633 : 5vmFVIJV9XN1l01YsFuKL3 Conscious Club Vulfpeck The Beautiful Game\n",
      "1418/1633 : 1L9qsoNnyT3r8fgr2Pr7Ty Cory Wong Vulfpeck The Beautiful Game\n",
      "1419/1633 : 2WbKDH7BbDUHqACsZH0KVW Daddy, He Got a Tesla Vulfpeck The Beautiful Game\n"
     ]
    },
    {
     "name": "stdout",
     "output_type": "stream",
     "text": [
      "1420/1633 : 1oOD1pV43cV9sHg97aBdLs Dean Town Vulfpeck The Beautiful Game\n",
      "1421/1633 : 4dwUJK6Za2KRrj8z0BM2Ab El Chepe Vulfpeck The Beautiful Game\n",
      "1422/1633 : 5h3MfjJrSPqKTZ7F4wyHg9 Margery, My First Car Vulfpeck The Beautiful Game\n",
      "1423/1633 : 73bJahLiTR2RAfXd3aNn1p The Sweet Science Vulfpeck The Beautiful Game\n"
     ]
    },
    {
     "name": "stdout",
     "output_type": "stream",
     "text": [
      "1424/1633 : 1DrlLvlYd1FIjNavRm6NdX Back Pocket Vulfpeck Thrill of the Arts\n",
      "1425/1633 : 1CyAxM93XN2atUBykXFWPX Game Winner Vulfpeck Thrill of the Arts\n",
      "1426/1633 : 7LygtNjQ65PSdzVjUnHXQb Cherry Pie Warrant Cherry Pie\n"
     ]
    },
    {
     "name": "stdout",
     "output_type": "stream",
     "text": [
      "artist:\"Weezer\" album:\"Weezer (Blue Album)\" track:\"Say It Ain't So\" not in spotify\n",
      "artist:\"Weezer\" album:\"Weezer (Blue Album)\" track:\"Say It Aint So\" not in spotify\n",
      "1428/1633 : 2MLHyLy5z5l5YRp7momlgw Island In The Sun Weezer Weezer (Green Album)\n",
      "1429/1633 : 62Pp6exz0ywSlBqvNqiY6Z Anissa Wejdene Anissa\n"
     ]
    },
    {
     "name": "stdout",
     "output_type": "stream",
     "text": [
      "1430/1633 : 4jeOc5YrcgFdjgOQqSahd1 Caged Within Temptation Mother Earth\n",
      "1431/1633 : 5cEc0OHUUMfD5MVfFdizR6 Dark Wings Within Temptation Mother Earth\n",
      "1432/1633 : 5aygztsY9IOUz4lBd0M4Ru Deceiver Of Fools Within Temptation Mother Earth\n"
     ]
    },
    {
     "name": "stdout",
     "output_type": "stream",
     "text": [
      "1433/1633 : 4GbYLpSqf2Trkwqgb7p1os Ice Queen Within Temptation Mother Earth\n",
      "1434/1633 : 0HltrGBDkljdqfsK7ZlKPB In Perfect Harmony Within Temptation Mother Earth\n",
      "1435/1633 : 0Ggzy6UEomashfAkKHzcQr Mother Earth Within Temptation Mother Earth\n"
     ]
    },
    {
     "name": "stdout",
     "output_type": "stream",
     "text": [
      "1436/1633 : 6eb2kEFO4SsyUTlFMU1ZZF Never Ending Story - Extended Version Within Temptation Mother Earth\n",
      "1437/1633 : 0ClEsmX3to1Rb4tcHkYmOL Our Farewell Within Temptation Mother Earth\n",
      "1438/1633 : 6gjIe22qtRjVv22mU3spo3 The Promise Within Temptation Mother Earth\n"
     ]
    },
    {
     "name": "stdout",
     "output_type": "stream",
     "text": [
      "1439/1633 : 4BhqnM5lktowwfHqq2JYhg All I Need Within Temptation The Heart of Everything\n",
      "1440/1633 : 3nehrTMRyizLW3WgRcbNTQ Final Destination Within Temptation The Heart of Everything\n"
     ]
    },
    {
     "name": "stdout",
     "output_type": "stream",
     "text": [
      "1441/1633 : 5JY8IIwlpMZnSvL20SKpGp Forgiven Within Temptation The Heart of Everything\n",
      "1442/1633 : 0QAvJ73wGHw7IC3sis4nLE Frozen Within Temptation The Heart of Everything\n"
     ]
    },
    {
     "name": "stdout",
     "output_type": "stream",
     "text": [
      "1443/1633 : 61i8W3gHpGUAIDlQj5UUAE Hand of Sorrow Within Temptation The Heart of Everything\n",
      "1444/1633 : 1jCPzDzUzhCVX75KLqrzCw Our Solemn Hour Within Temptation The Heart of Everything\n"
     ]
    },
    {
     "name": "stdout",
     "output_type": "stream",
     "text": [
      "1445/1633 : 19NDUvqNirVCmuANBl8RDA Stand My Ground - Acoustic Within Temptation The Heart Of Everything\n",
      "1446/1633 : 1KevyDCwAT6BV74uNrz6CS The Cross Within Temptation The Heart Of Everything\n"
     ]
    },
    {
     "name": "stdout",
     "output_type": "stream",
     "text": [
      "1447/1633 : 2JLdwAyDK1rkd4KAlw39XT The Heart of Everything Within Temptation The Heart Of Everything\n",
      "1448/1633 : 6HQWzxzoM0d3KSOHRREDie The Howling Within Temptation The Heart of Everything\n",
      "1449/1633 : 1hVoVHuzYmnLWGZ557vlBf The Truth Beneath the Rose Within Temptation The Heart of Everything\n"
     ]
    },
    {
     "name": "stdout",
     "output_type": "stream",
     "text": [
      "1450/1633 : 66wcihY2Y8ZSqux6EivMWa What Have You Done (feat. Keith Caputo) Within Temptation The Heart of Everything\n"
     ]
    },
    {
     "name": "stdout",
     "output_type": "stream",
     "text": [
      "1451/1633 : 6ivwIJGFnzTRPG2dHvKA07 A Demon's Fate Within Temptation The Unforgiving\n",
      "1452/1633 : 28HX0PibeXSL6cfAsvwSgD Faster Within Temptation The Unforgiving\n",
      "1453/1633 : 6csM0wZoLKtrPcgcTjCW66 Fire and Ice Within Temptation The Unforgiving\n"
     ]
    },
    {
     "name": "stdout",
     "output_type": "stream",
     "text": [
      "1454/1633 : 05CT0U9WFHAaVHtIB7VGRW In the Middle of the Night Within Temptation The Unforgiving\n",
      "1455/1633 : 1JVF9NpxbaonRnkahl21HB Iron Within Temptation The Unforgiving\n"
     ]
    },
    {
     "name": "stdout",
     "output_type": "stream",
     "text": [
      "1456/1633 : 0v2Ad5NPKP8LKv48m0pVHx Lost Within Temptation The Unforgiving\n",
      "1457/1633 : 2jqY8obpAxIp0cjg3kwlH8 Murder Within Temptation The Unforgiving\n",
      "1458/1633 : 26YgbkXAjVMrR4Wqokh5HN Shot in the Dark Within Temptation The Unforgiving\n"
     ]
    },
    {
     "name": "stdout",
     "output_type": "stream",
     "text": [
      "1459/1633 : 5cDxKJn3hVPesXaZZZChPY Sinéad Within Temptation The Unforgiving\n",
      "1460/1633 : 57H1nsxngz6OnXLLOzXZTf Stairway to the Skies Within Temptation The Unforgiving\n",
      "1461/1633 : 3MGoTdExMjBuJzaaFv8HbY Where Is the Edge Within Temptation The Unforgiving\n"
     ]
    },
    {
     "name": "stdout",
     "output_type": "stream",
     "text": [
      "1462/1633 : 4syPlsQHh78fTKEIEzzSAc Cans and Brahms - 2003 Remaster Yes Fragile (Deluxe Edition)\n",
      "1463/1633 : 5geV4ZJrvcQtbKIixrnwB6 Five per Cent for Nothing - 2003 Remaster Yes Fragile (Deluxe Edition)\n"
     ]
    },
    {
     "name": "stdout",
     "output_type": "stream",
     "text": [
      "1464/1633 : 7gC6Rbllqf1yXNC02e5jz2 Heart of the Sunrise - 2003 Remaster Yes Fragile (Deluxe Edition)\n",
      "1465/1633 : 5vfoqFiW6wXwhwa7r523Iq Long Distance Runaround - 2003 Remaster Yes Fragile (Deluxe Edition)\n"
     ]
    },
    {
     "name": "stdout",
     "output_type": "stream",
     "text": [
      "1466/1633 : 7nxmJPzgJZIG2dGBEV0U0G Mood for a Day - 2003 Remaster Yes Fragile (Deluxe Edition)\n",
      "1467/1633 : 0YveezON7jpiaHA8fnUHxN Roundabout - 2003 Remaster Yes Fragile (Deluxe Edition)\n",
      "1468/1633 : 1Bey85529sRbLZHMLsrhAd South Side of the Sky - 2003 Remaster Yes Fragile (Deluxe Edition)\n"
     ]
    },
    {
     "name": "stdout",
     "output_type": "stream",
     "text": [
      "1469/1633 : 6VGX9kEqcMZfAzfETmSn9h The Fish (Schindleria Praemeturus) - 2003 Remaster Yes Fragile (Deluxe Edition)\n",
      "1470/1633 : 6avltRfZeoNa2zWipWNIyp We Have Heaven - 2003 Remaster Yes Fragile (Deluxe Edition)\n",
      "1471/1633 : 2wopeXgCUOGbTMNXChWSuZ Owner of a Lonely Heart - Todd Terry Mix Yes Owner of a Lonely Heart (Todd Terry Remixes)\n",
      "1472/1633 : 6A2AD12l1jNH9MIeMBtQEx Into the Light Yuksek Into the Light\n"
     ]
    },
    {
     "name": "stdout",
     "output_type": "stream",
     "text": [
      "1473/1633 : 2VuykAwip0RSzJOrXVOdKg Ayla Yussef Kamaal Black Focus\n",
      "1474/1633 : 7Llu8SZBe5UuhJn4Jos5Qt Black Focus Yussef Kamaal Black Focus\n",
      "1475/1633 : 2CCmWJZGzxAvLnMks8y4Li Joint 17 Yussef Kamaal Black Focus\n",
      "1476/1633 : 7gHdjudTKmgDcWSKPpJk9h Lowrider Yussef Kamaal Black Focus\n"
     ]
    },
    {
     "name": "stdout",
     "output_type": "stream",
     "text": [
      "1477/1633 : 49Ph39DWn4CETSjSXYS0KA Mansur's Message Yussef Kamaal Black Focus\n",
      "1478/1633 : 5EqkuCTZTSMhZm2sLhA7JN O.G. Yussef Kamaal Black Focus\n",
      "1479/1633 : 1k7B553lUeQY3cyltjRWCH Remembrance Yussef Kamaal Black Focus\n",
      "1480/1633 : 2sEmZge5ZfzrFrDGFJbkyP Strings of Light Yussef Kamaal Black Focus\n"
     ]
    },
    {
     "name": "stdout",
     "output_type": "stream",
     "text": [
      "1481/1633 : 5n5icrh7DMNcQUQYuZb6WZ WingTai Drums Yussef Kamaal Black Focus\n",
      "1482/1633 : 4doeILSOpBXjzWsiJiSS8a Yo Chavez Yussef Kamaal Black Focus\n",
      "1483/1633 : 6xjNioXsWUYOduKYUrjuEX Bad Girl - 2008 Remaster ZZ Top Eliminator\n",
      "1484/1633 : 0OBwxFLu6Yj61s2OagYbgY Gimme All Your Lovin' ZZ Top Eliminator\n"
     ]
    },
    {
     "name": "stdout",
     "output_type": "stream",
     "text": [
      "1485/1633 : 1jzZZsfzxsebFa6KpWXaAr Got Me Under Pressure - 2008 Remaster ZZ Top Eliminator\n",
      "1486/1633 : 2WcnvJKsp1aYs8xp2nJyDN I Got the Six - 2008 Remaster ZZ Top Eliminator\n",
      "1487/1633 : 4s22XSQoOFvN5HrXk9YZ3I I Need You Tonight - 2008 Remaster ZZ Top Eliminator\n"
     ]
    },
    {
     "name": "stdout",
     "output_type": "stream",
     "text": [
      "1488/1633 : 12kRyzNezk2nE2EzJ2nq2l If I Could Only Flag Her Down - 2008 Remaster ZZ Top Eliminator\n"
     ]
    },
    {
     "name": "stdout",
     "output_type": "stream",
     "text": [
      "1489/1633 : 7t6CAWplijBj4sdl0q3z0e Legs - 2008 Remaster ZZ Top Eliminator\n",
      "1490/1633 : 1UBQ5GK8JaQjm5VbkBZY66 Sharp Dressed Man - 2008 Remaster ZZ Top Eliminator\n"
     ]
    },
    {
     "name": "stdout",
     "output_type": "stream",
     "text": [
      "1491/1633 : 2pOk2SDsJhO7o8xtfXf1jy Thug - 2008 Remaster ZZ Top Eliminator\n",
      "1492/1633 : 4c0IaYoW94OEFhJE40zcQb TV Dinners - 2008 Remaster ZZ Top Eliminator\n",
      "1493/1633 : 3v9xlH6BpmRbqL7hgNJhfT I Get Around (Mono) The Beach Boys All Summer Long\n"
     ]
    },
    {
     "name": "stdout",
     "output_type": "stream",
     "text": [
      "artist:\"Marvin Gaye\" album:\"United\" track:\"Ain't No Mountain High Enough\" not in spotify\n",
      "1494/1633 : 7tqhbajSfrz2F7E1Z75ASX Ain't No Mountain High Enough Marvin Gaye United\n"
     ]
    },
    {
     "name": "stdout",
     "output_type": "stream",
     "text": [
      "1495/1633 : 5pSSEkT0963muzzIjsVkrs Fool's Overture Supertramp Even In The Quietest Moments\n",
      "1496/1633 : 1JekRMGQ8iN4G1AAdh0SBa Enjoy the Silence Depeche Mode Violator (Deluxe)\n",
      "1497/1633 : 3ovjw5HZZv43SxTwApooCM Wind Of Change Scorpions Crazy World\n",
      "1498/1633 : 2g3vNQR6q7EFl7HZSaKFQn Das elfte Gebot Feuerschwanz Das elfte Gebot\n"
     ]
    },
    {
     "name": "stdout",
     "output_type": "stream",
     "text": [
      "1499/1633 : 0Qrb3L8JgreLBW8g4qyan9 Back to School (Mini Maggit) Deftones White Pony\n",
      "1500/1633 : 0FpYnuKYFJXHAmHbS1CycY Feiticeira Deftones White Pony\n"
     ]
    },
    {
     "name": "stdout",
     "output_type": "stream",
     "text": [
      "1501/1633 : 2jSJm3Gv6GLxduWLenmjKS Digital Bath Deftones White Pony\n",
      "1502/1633 : 7IoK6jZBxY7NMoQPoPXZCF Passenger Deftones White Pony\n"
     ]
    },
    {
     "name": "stdout",
     "output_type": "stream",
     "text": [
      "1503/1633 : 51c94ac31swyDQj9B3Lzs3 Change (In the House of Flies) Deftones White Pony\n",
      "1504/1633 : 2fICdpdRotwfmGYzvs8Ngf Rock You Like a Hurricane - 2015 - Remaster Scorpions Love At First Sting (Deluxe Edition)\n"
     ]
    },
    {
     "name": "stdout",
     "output_type": "stream",
     "text": [
      "1505/1633 : 5Z4FppKv32CM2LK3bUMSL5 Still Loving You - 2015 - Remaster Scorpions Love At First Sting (Deluxe Edition)\n",
      "1506/1633 : 2cF1W1G0sERJu0Y49tGjnx Intolerance TOOL Undertow\n",
      "1507/1633 : 6bBfqZW47dwndIfYQcB0VR Prison Sex TOOL Undertow\n"
     ]
    },
    {
     "name": "stdout",
     "output_type": "stream",
     "text": [
      "1508/1633 : 6DyywdbmTzlmXBzG9ym7Rt Sober TOOL Undertow\n",
      "1509/1633 : 46XOHK5QfCC83yg5SOGjZk Bottom TOOL Undertow\n",
      "1510/1633 : 1KCndc1SfLo9i9YWXdjy9D Crawl Away TOOL Undertow\n",
      "1511/1633 : 5q4L6JyoEY3VN5pOSbgjS8 Swamp Song TOOL Undertow\n"
     ]
    },
    {
     "name": "stdout",
     "output_type": "stream",
     "text": [
      "1512/1633 : 4Wvnm0J3Zz9cmMdEMMghGA Undertow TOOL Undertow\n",
      "1513/1633 : 1LXQ7xqksXo4q4r5oCxW7M 4° TOOL Undertow\n",
      "1514/1633 : 1ZzzgXjX1bHroTSMoShdMe Flood TOOL Undertow\n"
     ]
    },
    {
     "name": "stdout",
     "output_type": "stream",
     "text": [
      "1515/1633 : 4rEMNX61UlQInnHB8f3SX1 Disgustipated TOOL Undertow\n",
      "1516/1633 : 59WN2psjkt1tyaxjspN8fp Killing In The Name Rage Against The Machine Rage Against The Machine - XX (20th Anniversary Special Edition)\n",
      "1517/1633 : 45Ia1U4KtIjAPPU7Wv1Sea Are You Gonna Go My Way Lenny Kravitz Are You Gonna Go My Way\n"
     ]
    },
    {
     "name": "stdout",
     "output_type": "stream",
     "text": [
      "1518/1633 : 5vdp5UmvTsnMEMESIF2Ym7 Another One Bites The Dust - Remastered 2011 Queen The Game (2011 Remaster)\n",
      "1519/1633 : 3OXc6xDxasnl4uj2jl1q4Y Fire of Unknown Origin Blue Öyster Cult Fire of Unknown Origin\n",
      "1520/1633 : 7AW4T7G3e8VsZ8D7jV1hMr Cannonball Supertramp Brother Where You Bound (Remastered)\n"
     ]
    },
    {
     "name": "stdout",
     "output_type": "stream",
     "text": [
      "1521/1633 : 3MrRksHupTVEQ7YbA0FsZK The Final Countdown Europe The Final Countdown (Expanded Edition)\n",
      "1522/1633 : 4YtuhhgpKwckVZNGzjpxBh Streamline System Of A Down Steal This Album!\n",
      "1523/1633 : 69QHm3pustz01CJRwdo20z Hells Bells AC/DC Back In Black\n"
     ]
    },
    {
     "name": "stdout",
     "output_type": "stream",
     "text": [
      "1524/1633 : 2HHtWyy5CgaQbC7XSoOb0e Eye of the Tiger Survivor Eye Of The Tiger\n",
      "1525/1633 : 0vOkmmJEtjuFZDzrQSFzEE Hit Me With Your Best Shot Pat Benatar Crimes Of Passion\n",
      "1526/1633 : 7HKez549fwJQDzx3zLjHKC Start Me Up - Remastered The Rolling Stones Tattoo You (2009 Re-Mastered)\n"
     ]
    },
    {
     "name": "stdout",
     "output_type": "stream",
     "text": [
      "artist:\"The Animals\" album:\"The Animals\" track:\"I've Been Around\" not in spotify\n",
      "1527/1633 : 45EHhwqhUcO61OFbzSq8Du I've Been Around The Animals The Complete Animals\n",
      "1528/1633 : 70YvYr2hGlS01bKRIho1HM La Grange - 2005 Remaster ZZ Top Tres Hombres (Expanded 2006 Remaster)\n"
     ]
    },
    {
     "name": "stdout",
     "output_type": "stream",
     "text": [
      "1529/1633 : 3Ud6fFep5ZlXzRWw6Sm8no Walk Of Life Dire Straits Brothers In Arms\n",
      "1530/1633 : 5jzma6gCzYtKB1DbEwFZKH London Calling - Remastered The Clash London Calling (Remastered)\n",
      "1531/1633 : 5XJ1J9QPxaOzdpkGxKU4lA Heart Of Glass [24-Bit Digitally Remastered 01] - Remastered 2001 Blondie Parallel Lines (Remastered)\n"
     ]
    },
    {
     "name": "stdout",
     "output_type": "stream",
     "text": [
      "1532/1633 : 7cDxjUnMitNKQC5c8RQUko Black Magic Woman / Gypsy Queen Santana Abraxas\n",
      "1533/1633 : 2rBHnIxbhkMGLpqmsNX91M Bombtrack Rage Against The Machine Rage Against The Machine - XX (20th Anniversary Special Edition)\n",
      "1534/1633 : 25CbtOzU8Pn17SAaXFjIR3 Take The Power Back Rage Against The Machine Rage Against The Machine - XX (20th Anniversary Special Edition)\n"
     ]
    },
    {
     "name": "stdout",
     "output_type": "stream",
     "text": [
      "1535/1633 : 1CbG6oKKrYEw3W1DnddDFv Settle For Nothing Rage Against The Machine Rage Against The Machine - XX (20th Anniversary Special Edition)\n",
      "1536/1633 : 1WWgMk8nD79p8VeKFGYrOw Bullet In The Head Rage Against The Machine Rage Against The Machine - XX (20th Anniversary Special Edition)\n",
      "1537/1633 : 1XTGyfJeMiZXrZ1W3NolcB Know Your Enemy Rage Against The Machine Rage Against The Machine - XX (20th Anniversary Special Edition)\n"
     ]
    },
    {
     "name": "stdout",
     "output_type": "stream",
     "text": [
      "1538/1633 : 2QiqwOVUctPRVggO9G1Zs5 Wake Up Rage Against The Machine Rage Against The Machine - XX (20th Anniversary Special Edition)\n",
      "1539/1633 : 67qdozSgFFHL6VGW85KmtD Fistful Of Steel Rage Against The Machine Rage Against The Machine - XX (20th Anniversary Special Edition)\n",
      "1540/1633 : 4BOOsIe7Zx3SKJAEXgt1YH Township Rebellion Rage Against The Machine Rage Against The Machine - XX (20th Anniversary Special Edition)\n"
     ]
    },
    {
     "name": "stdout",
     "output_type": "stream",
     "text": [
      "1541/1633 : 48lQegoLqGAzaRLnMwK0mO Freedom Rage Against The Machine Rage Against The Machine - XX (20th Anniversary Special Edition)\n",
      "1542/1633 : 4rQYDXfKFikLX4ad674jhg Speak To Me - 2011 Remastered Version Pink Floyd The Dark Side Of The Moon [Remastered] (Remastered Version)\n",
      "1543/1633 : 3zJRvtQkHQRTNEXSY8jQPR Breathe (In The Air) - 2011 Remastered Version Pink Floyd The Dark Side Of The Moon [Remastered] (Remastered Version)\n"
     ]
    },
    {
     "name": "stdout",
     "output_type": "stream",
     "text": [
      "1544/1633 : 51rylCDfKusBQcpo2iem6u On The Run - 2011 Remastered Version Pink Floyd The Dark Side Of The Moon [Remastered] (Remastered Version)\n",
      "1545/1633 : 4xHWH1jwV5j4mBYRhxPbwZ Time - 2011 Remastered Version Pink Floyd The Dark Side Of The Moon [Remastered] (Remastered Version)\n",
      "1546/1633 : 25tZHMv3ctlzqDaHAeuU9c The Great Gig In The Sky - 2011 Remastered Version Pink Floyd The Dark Side Of The Moon [Remastered] (Remastered Version)\n",
      "1547/1633 : 7Gx2q0ueNwvDp2BOZYGCMO Money - 2011 Remastered Version Pink Floyd The Dark Side Of The Moon [Remastered] (Remastered Version)\n"
     ]
    },
    {
     "name": "stdout",
     "output_type": "stream",
     "text": [
      "1548/1633 : 626wlz3bovvpH06PYht5R0 Us And Them - 2011 Remastered Version Pink Floyd The Dark Side Of The Moon [Remastered] (Remastered Version)\n",
      "1549/1633 : 1wGoqD0vrf7njGvxm8CEf5 Any Colour You Like - 2011 Remastered Version Pink Floyd The Dark Side Of The Moon [Remastered] (Remastered Version)\n",
      "1550/1633 : 7EUEl5wJb8VI777UAUvRnH Brain Damage - 2011 Remastered Version Pink Floyd The Dark Side Of The Moon [Remastered] (Remastered Version)\n",
      "1551/1633 : 3Z2RsIdWm4BNbT0LsFBuoN Eclipse - 2011 Remastered Version Pink Floyd The Dark Side Of The Moon [Remastered] (Remastered Version)\n"
     ]
    },
    {
     "name": "stdout",
     "output_type": "stream",
     "text": [
      "1552/1633 : 1GcVa4jFySlun4jLSuMhiq Angie The Rolling Stones Goats Head Soup (Remastered 2009)\n",
      "1553/1633 : 2fuCquhmrzHpu5xcA1ci9x Under Pressure - Remastered Queen Hot Space (2011 Remaster)\n"
     ]
    },
    {
     "name": "stdout",
     "output_type": "stream",
     "text": [
      "1554/1633 : 4XRkQloZFcRrCONN7ZQ49Y Give Up The Funk (Tear The Roof Off The Sucker) Parliament Mothership Connection\n",
      "1555/1633 : 5W5FVsgGCe3T9nIMkiXqNo Sing a Song Earth, Wind & Fire Gratitude\n",
      "1556/1633 : 0tkUg2KCEKWlcPJNcey8Nw Main Girl Charlotte Cardin Main Girl\n"
     ]
    },
    {
     "name": "stdout",
     "output_type": "stream",
     "text": [
      "artist:\"Johnny \"Guitar\" Watson\" album:\"Love Jones\" track:\"Booty Ooty\" not in spotify\n",
      "1558/1633 : 7IwURvEfVcdxUCjLKUu6sv Shame On a Nigga Wu-Tang Clan Enter The Wu-Tang (36 Chambers) [Expanded Edition]\n",
      "artist:\"Surface\" album:\"Falling In Love\" track:\"Falling In Love\" not in spotify\n"
     ]
    },
    {
     "name": "stdout",
     "output_type": "stream",
     "text": [
      "1560/1633 : 3pf96IFggfQuT6Gafqx2rt Sunny Boney M. Take The Heat Off Me\n",
      "1561/1633 : 78His8pbKjbDQF7aX5asgv Rivers of Babylon Boney M. Nightflight to Venus\n",
      "1562/1633 : 7a00cQDulg05uPkHuFoQiS Smile Meditation Vulfpeck Thrill of the Arts\n"
     ]
    },
    {
     "name": "stdout",
     "output_type": "stream",
     "text": [
      "1563/1633 : 5zQyqgNXKzhifkivumzxDS My Girl Otis Redding Otis Blue: Otis Redding Sings Soul (Collector's Edition)\n",
      "artist:\"Chic\" album:\"C'est Chic\" track:\"Le Freak\" not in spotify\n",
      "1564/1633 : 7Kszjzps0xbQXyo1pO4KfE Le Freak - 2018 Remaster CHIC C'est Chic (2018 Remaster)\n"
     ]
    },
    {
     "name": "stdout",
     "output_type": "stream",
     "text": [
      "1565/1633 : 15ifyO8wYntwyXAptfxhKr Everybody Dance - 2018 Remaster CHIC Chic (2018 Remaster)\n",
      "1566/1633 : 5jwrYhbcVggJnZO9LETUkU Deadline Blue Öyster Cult Cultosaurus Erectus\n",
      "1567/1633 : 78lgmZwycJ3nzsdgmPPGNx Immigrant Song - 2012 Remaster Led Zeppelin Led Zeppelin III (Remaster)\n",
      "1568/1633 : 0cKk8BKEi7zXbdrYdyqBP5 Behind Blue Eyes The Who Who's Next\n"
     ]
    },
    {
     "name": "stdout",
     "output_type": "stream",
     "text": [
      "1569/1633 : 6Xz7FeyE8HTP90HecgHV57 Wild World Yusuf / Cat Stevens Tea For The Tillerman (Remastered)\n",
      "1570/1633 : 0ofHAoxe9vBkTCp2UQIavz Dreams - 2004 Remaster Fleetwood Mac Rumours (Super Deluxe)\n"
     ]
    },
    {
     "name": "stdout",
     "output_type": "stream",
     "text": [
      "1571/1633 : 0iOZM63lendWRTTeKhZBSC Mrs. Robinson - From \"The Graduate\" Soundtrack Simon & Garfunkel Bookends\n",
      "1572/1633 : 3YuaBvuZqcwN3CEAyyoaei Like a Stone Audioslave Audioslave\n",
      "1573/1633 : 0L7zm6afBEtrNKo6C6Gj08 Painkiller Judas Priest Painkiller\n"
     ]
    },
    {
     "name": "stdout",
     "output_type": "stream",
     "text": [
      "1574/1633 : 2b9lp5A6CqSzwOrBfAFhof Crazy Train Ozzy Osbourne Blizzard of Ozz (Expanded Edition)\n",
      "1575/1633 : 0S90LE5Z8FOdbui3tLak6t The Evil That Men Do - 2015 Remaster Iron Maiden Seventh Son of a Seventh Son (2015 Remaster)\n",
      "1576/1633 : 3HzWxmvpQU3QHQ59zw1X4V Heaven and Hell - 2009 Remaster Black Sabbath Heaven & Hell\n"
     ]
    },
    {
     "name": "stdout",
     "output_type": "stream",
     "text": [
      "1577/1633 : 54yLLvpezvPO1lA3GspiZj Holy Diver Dio Holy Diver\n",
      "1578/1633 : 6ursmCnbc9oDRGa2yHKkoZ Roots Bloody Roots Sepultura Roots\n",
      "1579/1633 : 5qFxuUIAwJlzO60vqOiL7y Rainbow In The Dark Dio Holy Diver\n"
     ]
    },
    {
     "name": "stdout",
     "output_type": "stream",
     "text": [
      "1580/1633 : 4VymMhILk4DSwghPkLUPVS Critical Acclaim Avenged Sevenfold Avenged Sevenfold\n",
      "1581/1633 : 0DkmhHO4yyqCJFjosmmWPU Almost Easy Avenged Sevenfold Avenged Sevenfold\n",
      "1582/1633 : 297d7PwfSFHQXCjqqDXQT2 Scream Avenged Sevenfold Avenged Sevenfold\n",
      "1583/1633 : 7zAt4tdL44D3VuzsvM0N8n Afterlife Avenged Sevenfold Avenged Sevenfold\n"
     ]
    },
    {
     "name": "stdout",
     "output_type": "stream",
     "text": [
      "1584/1633 : 7MOQrtXMNImAq5TrPZzC0w Gunslinger Avenged Sevenfold Avenged Sevenfold\n",
      "1585/1633 : 63KJgtNcHRii4aHvUlmtSx Unbound (The Wild Ride) Avenged Sevenfold Avenged Sevenfold\n",
      "1586/1633 : 3H2VmsXSSxjIv1UUPEQ30d Brompton Cocktail Avenged Sevenfold Avenged Sevenfold\n"
     ]
    },
    {
     "name": "stdout",
     "output_type": "stream",
     "text": [
      "1587/1633 : 0EtXiKDaHJcVFFvhWpSfiN Lost Avenged Sevenfold Avenged Sevenfold\n",
      "1588/1633 : 1BLfQ6dPXmuDrFmbdfW7Jl A Little Piece of Heaven Avenged Sevenfold Avenged Sevenfold\n",
      "1589/1633 : 2FML7gk7ac6quGFIjvkDb3 Dear God Avenged Sevenfold Avenged Sevenfold\n",
      "1590/1633 : 2TVxnKdb3tqe1nhQWwwZCO Tiny Dancer Elton John Madman Across The Water\n"
     ]
    },
    {
     "name": "stdout",
     "output_type": "stream",
     "text": [
      "1591/1633 : 3gdewACMIVMEWVbyb8O9sY Rocket Man (I Think It's Going To Be A Long, Long Time) Elton John Honky Chateau\n",
      "1592/1633 : 5Wj1rJnCLpMHdLaxsFtJLs Bennie And The Jets - Remastered 2014 Elton John Goodbye Yellow Brick Road (Remastered)\n",
      "1593/1633 : 4IRHwIZHzlHT1FQpRa5RdE Goodbye Yellow Brick Road - Remastered 2014 Elton John Goodbye Yellow Brick Road (Remastered)\n"
     ]
    },
    {
     "name": "stdout",
     "output_type": "stream",
     "text": [
      "1594/1633 : 5KlCWDbatUCBhvN7ZwyeEF Can You Feel The Love Tonight - Remastered Elton John Diamonds (Deluxe)\n",
      "1595/1633 : 38zsOOcu31XbbYj9BIPUF1 Your Song Elton John Elton John\n",
      "artist:\"Elton John\" album:\"Too Low For Zero\" track:\"I'm Still Standing\" not in spotify\n",
      "1596/1633 : 1jDJFeK9x3OZboIAHsY9k2 I'm Still Standing Elton John Too Low For Zero\n"
     ]
    },
    {
     "name": "stdout",
     "output_type": "stream",
     "text": [
      "1597/1633 : 1t055EdeL1r5DfORFy0UXX Circle Of Life - Remastered Elton John Diamonds (Deluxe)\n",
      "1598/1633 : 71zJRiAG1f817v9R9tYMvg Song For Guy Elton John A Single Man\n"
     ]
    },
    {
     "name": "stdout",
     "output_type": "stream",
     "text": [
      "1599/1633 : 1L9fzw2pXprOqtemTwtxXF Candle In The Wind - Remastered 2014 Elton John Goodbye Yellow Brick Road (Remastered)\n",
      "1600/1633 : 23l1kVpqMVREiwU1YAlcr4 I Guess That's Why They Call It The Blues Elton John Too Low For Zero\n",
      "artist:\"Elton John\" album:\"Don't Shoot Me I'm Only The Piano Player\" track:\"Crocodile Rock\" not in spotify\n",
      "1601/1633 : 6WCeFNVAXUtNczb7lqLiZU Crocodile Rock Elton John Don't Shoot Me I'm Only The Piano Player\n"
     ]
    },
    {
     "name": "stdout",
     "output_type": "stream",
     "text": [
      "artist:\"Elton John\" album:\"Don't Shoot Me I'm Only The Piano Player\" track:\"Daniel\" not in spotify\n",
      "1602/1633 : 1BvJmtaXsqtH438BcDPeBb Daniel Elton John Don't Shoot Me I'm Only The Piano Player\n",
      "artist:\"Elton John\" album:\"Goodbye Yelllow Brick Road\" track:\"Saturday Night's Alright For Fighting\" not in spotify\n"
     ]
    },
    {
     "name": "stdout",
     "output_type": "stream",
     "text": [
      "artist:\"Elton John\" album:\"Goodbye Yelllow Brick Road\" track:\"Saturday Nights Alright For Fighting\" not in spotify\n",
      "1604/1633 : 0e3yhVeNaTfKIWQRw9U9sY Sacrifice Elton John Sleeping With The Past (Remastered with bonus tracks)\n",
      "1605/1633 : 6XfxmT5QNCXvpZA6PKfWVL Sorry Seems To Be The Hardest Word Elton John Blue Moves\n"
     ]
    },
    {
     "name": "stdout",
     "output_type": "stream",
     "text": [
      "1606/1633 : 5B7vsRJRBNkCAgAgNybQ4h Chic 'N' Stu System Of A Down System Of A Down/Steal This Album\n",
      "1607/1633 : 0Xmbtw7NhNiDnL4BWy5wDh Innervision System Of A Down Steal This Album!\n"
     ]
    },
    {
     "name": "stdout",
     "output_type": "stream",
     "text": [
      "1608/1633 : 4dJMoLxnO93Ys7SqZNIxlg Bubbles System Of A Down Steal This Album!\n"
     ]
    },
    {
     "name": "stdout",
     "output_type": "stream",
     "text": [
      "1609/1633 : 5en63QU81VfRQIsoqBcfde Boom! System Of A Down Steal This Album!\n",
      "1610/1633 : 0ognkBvJqaov2gWDgaMzvz Nüguns System Of A Down Steal This Album!\n",
      "1611/1633 : 7gZX4vZqjJJWsdosIB0h6P A.D.D. (American Dream Denial) System Of A Down Steal This Album!\n"
     ]
    },
    {
     "name": "stdout",
     "output_type": "stream",
     "text": [
      "1612/1633 : 4JJwzJCIWREU7u9xobKTfd Mr. Jack System Of A Down System Of A Down/Steal This Album\n",
      "1613/1633 : 7q6dQPgSSH1dsu4qTNkaGp I-E-A-I-A-I-O System Of A Down System Of A Down/Steal This Album\n"
     ]
    },
    {
     "name": "stdout",
     "output_type": "stream",
     "text": [
      "1614/1633 : 2TyFfQ1OuubEwfxFvapfzC 36 System Of A Down Steal This Album!\n",
      "1615/1633 : 3A5E8GUX5bdPGxxJP1IrYx Pictures System Of A Down Steal This Album!\n",
      "1616/1633 : 4TRPgtjVmqg7EAWZe1T94E Highway Song System Of A Down Steal This Album!\n"
     ]
    },
    {
     "name": "stdout",
     "output_type": "stream",
     "text": [
      "1617/1633 : 62jQ72vsUsLWLp6ZHFUJKr Fuck the System System Of A Down System Of A Down/Steal This Album\n",
      "1618/1633 : 2HVCLZ6dMDelXhloO5sAjV Ego Brain System Of A Down Steal This Album!\n",
      "1619/1633 : 6l17lK6a9LFqhOfh770wWg Thetawaves System Of A Down Steal This Album!\n"
     ]
    },
    {
     "name": "stdout",
     "output_type": "stream",
     "text": [
      "1620/1633 : 1Ip1XhR9OPvA9rPfm8uFZU Roulette System Of A Down System Of A Down/Steal This Album\n",
      "1621/1633 : 39rHfrVqCX6A55GF7uOZSC 1612 Vulfpeck Fugue State\n",
      "1622/1633 : 50R5Or6xMtvELGYfGUbVz4 3 on E Vulfpeck The Joy of Music. The Job of Real Estate.\n"
     ]
    },
    {
     "name": "stdout",
     "output_type": "stream",
     "text": [
      "1623/1633 : 5KboIqx30dztT6wmEVFn17 Baby I Don’t Know Oh Oh (feat. Charles Jones) Vulfpeck Mr Finish Line\n",
      "1624/1633 : 1FwFVKRNX1IV4eEZSGGg5M Darwin Derby Vulfpeck Hill Climber\n",
      "1625/1633 : 6egcs8AHSL7oPfq5TZ8w6n Test Drive - Instrumental Vulfpeck The Joy of Music. The Job of Real Estate.\n"
     ]
    },
    {
     "name": "stdout",
     "output_type": "stream",
     "text": [
      "1626/1633 : 7BHPGtpuuWWsvE7cCaMuEU Naive The Kooks Inside In / Inside Out\n",
      "1627/1633 : 6E1gCX88g0FXzWMey57xlm 69 Parliament Medicaid Fraud Dogg\n",
      "1628/1633 : 2l0h4aBFLp9HdoaNdCTlbW Pull the Plug Death Leprosy (Deluxe Reissue)\n"
     ]
    },
    {
     "name": "stdout",
     "output_type": "stream",
     "text": [
      "1629/1633 : 5noSkaAhiPUZZpKqgFWiLi Astral Tale Of Us Astral\n",
      "1630/1633 : 15BQ7vEDv2LJuh8TxWIhtd The Passenger Iggy Pop Lust For Life\n",
      "artist:\"Duck Sauce\" album:\"Barbara Streisand\" track:\"Barbara Streisand\" not in spotify\n",
      "1632/1633 : 4MvGHDenL4t9JW1RHB4rK2 Gotta Go Home Boney M. Oceans Of Fantasy\n"
     ]
    }
   ],
   "source": [
    "bad_formats = []\n",
    "for idx, (_, content) in enumerate(df.index.to_frame().iterrows()):\n",
    "    # search = f\"artist:\\\"{content.artist}\\\" track:\\\"{content.song}\\\" album:\\\"{content.album}\\\"\"\n",
    "    searches = search_string(content)\n",
    "    bad_format = []\n",
    "    for search in searches:\n",
    "        try:\n",
    "            res = spotify.search(search, market=\"FR\")\n",
    "            track = res['tracks']['items'][0]\n",
    "        except IndexError as e:\n",
    "            print(f\"{search} not in spotify\")\n",
    "            bad_format.append(search)\n",
    "        else:\n",
    "            break\n",
    "    else:\n",
    "        bad_formats.append(bad_format)\n",
    "        continue\n",
    "    album = track['album']['name']\n",
    "    name = track['name']\n",
    "    artist = track['artists'][0]['name']\n",
    "    id = track['id']\n",
    "    print(f\"{idx:<4}/{len(df)} : {id} {name} {artist} {album}\")"
   ]
  },
  {
   "cell_type": "code",
   "execution_count": 52,
   "metadata": {
    "collapsed": false
   },
   "outputs": [
    {
     "data": {
      "text/plain": [
       "[['artist:\"Auracle\" album:\"City Slickers\" track:\"Bombs Away Ballet\"'],\n",
       " ['artist:\"Auracle\" album:\"City Slickers\" track:\"City of Penetrating Light\"'],\n",
       " ['artist:\"Auracle\" album:\"City Slickers\" track:\"Honey\"'],\n",
       " ['artist:\"Auracle\" album:\"City Slickers\" track:\"Little City Slickers\"'],\n",
       " ['artist:\"Auracle\" album:\"City Slickers\" track:\"Rotary Andy\\'s Raggedy\"',\n",
       "  'artist:\"Auracle\" album:\"City Slickers\" track:\"Rotary Andys Raggedy\"'],\n",
       " ['artist:\"Auracle\" album:\"City Slickers\" track:\"Sambanana\"'],\n",
       " ['artist:\"Auracle\" album:\"City Slickers\" track:\"Tied Shoes\"'],\n",
       " ['artist:\"B.J. Thomas\" album:\"Rain Drops Keep Fallin\\' On My Head\" track:\"Rain Drops Keep Falling on My Head\"',\n",
       "  'artist:\"B.J. Thomas\" album:\"Rain Drops Keep Fallin On My Head\" track:\"Rain Drops Keep Falling on My Head\"'],\n",
       " ['artist:\"Casiopea\" album:\"Crosspoint\" track:\"Galactic Funk\"'],\n",
       " ['artist:\"Casiopea\" album:\"Mint Jams\" track:\"Swear!\"'],\n",
       " ['artist:\"Creedence Clearwater Revival\" album:\"Cosmo\\'s Factory\" track:\"I Heard It Through The Grapevine\"',\n",
       "  'artist:\"Creedence Clearwater Revival\" album:\"Cosmos Factory\" track:\"I Heard It Through The Grapevine\"'],\n",
       " ['artist:\"Début de Soirée\" album:\"Jardins d\\'enfants\" track:\"Nuit de Folie\"',\n",
       "  'artist:\"Début de Soirée\" album:\"Jardins denfants\" track:\"Nuit de Folie\"'],\n",
       " ['artist:\"Draconian\" album:\"Turning Season Within\" track:\"The Empy Stare / September Ashes\"'],\n",
       " ['artist:\"Flamingosis\" album:\"A Groovy Thing\" track:\"A Groovy Intro\"'],\n",
       " ['artist:\"Flamingosis\" album:\"A Groovy Thing\" track:\"A Groovy Thing\"'],\n",
       " ['artist:\"Flamingosis\" album:\"A Groovy Thing\" track:\"Breezy\"'],\n",
       " ['artist:\"Flamingosis\" album:\"A Groovy Thing\" track:\"Come & Get it\"'],\n",
       " ['artist:\"Flamingosis\" album:\"A Groovy Thing\" track:\"Don’t Lose the Feeling\"'],\n",
       " ['artist:\"Flamingosis\" album:\"A Groovy Thing\" track:\"Flute Salad\"'],\n",
       " ['artist:\"Flamingosis\" album:\"A Groovy Thing\" track:\"Get Yourself Together\"'],\n",
       " ['artist:\"Flamingosis\" album:\"A Groovy Thing\" track:\"Guilty Pleasure\"'],\n",
       " ['artist:\"Flamingosis\" album:\"A Groovy Thing\" track:\"High Tide\"'],\n",
       " ['artist:\"Flamingosis\" album:\"A Groovy Thing\" track:\"Keep Shining\"'],\n",
       " ['artist:\"Flamingosis\" album:\"A Groovy Thing\" track:\"Long Distance\"'],\n",
       " ['artist:\"Flamingosis\" album:\"A Groovy Thing\" track:\"Never Felt a Feeling Like This\"'],\n",
       " ['artist:\"Flamingosis\" album:\"A Groovy Thing\" track:\"Not Like the Others\"'],\n",
       " ['artist:\"Flamingosis\" album:\"A Groovy Thing\" track:\"Otaku Mode\"'],\n",
       " ['artist:\"Flamingosis\" album:\"A Groovy Thing\" track:\"Persevere\"'],\n",
       " ['artist:\"Flamingosis\" album:\"A Groovy Thing\" track:\"Soul Crusade\"'],\n",
       " ['artist:\"Flamingosis\" album:\"A Groovy Thing\" track:\"That’s Cold\"'],\n",
       " ['artist:\"Flamingosis\" album:\"A Groovy Thing\" track:\"Want Me (Need Me)\"'],\n",
       " ['artist:\"François Valéry\" album:\"Mon pote le DJ\" track:\"Mon pote le DJ\"'],\n",
       " ['artist:\"Franzl Lang\" track:\"Auf und auf voll Lebenslust\"'],\n",
       " ['artist:\"Georges Brassens\" album:\"Le Vent\" track:\"Brave Margot\"'],\n",
       " ['artist:\"Georges Brassens\" album:\"Les Copains D\\'Abord\" track:\"Les 4 z\\'arts\"',\n",
       "  'artist:\"Georges Brassens\" album:\"Les Copains DAbord\" track:\"Les 4 zarts\"'],\n",
       " ['artist:\"Georges Brassens\" album:\"Les Funérailles d\\'antan\" track:\"Le Bistrot\"',\n",
       "  'artist:\"Georges Brassens\" album:\"Les Funérailles dantan\" track:\"Le Bistrot\"'],\n",
       " ['artist:\"GoGo Penguin\" album:\"Man Made Object\" track:\"Unspeakable Word\"'],\n",
       " ['artist:\"Gorillaz\" album:\"Plastic Beach\" track:\"Doncamatic\"'],\n",
       " ['artist:\"Gorillaz\" album:\"Plastic Beach\" track:\"Pirate\\'s Progress\"',\n",
       "  'artist:\"Gorillaz\" album:\"Plastic Beach\" track:\"Pirates Progress\"'],\n",
       " ['artist:\"Haken\" album:\"Affinity\" track:\"affinitiy.exe / Initiate\"'],\n",
       " ['artist:\"Happy End\" album:\"Kazemachi Roman\" track:\"Aiga wo\\r\"'],\n",
       " ['artist:\"Happy End\" album:\"Kazemachi Roman\" track:\"Ashita tenki ni Naare\"'],\n",
       " ['artist:\"Happy End\" album:\"Kazemachi Roman\" track:\"Dakishimetai\"'],\n",
       " ['artist:\"Happy End\" album:\"Kazemachi Roman\" track:\"Haikara Beautiful\"'],\n",
       " ['artist:\"Happy End\" album:\"Kazemachi Roman\" track:\"Haikara Hakuchi\"'],\n",
       " ['artist:\"Happy End\" album:\"Kazemachi Roman\" track:\"Hanaichimonme\"'],\n",
       " ['artist:\"Happy End\" album:\"Kazemachi Roman\" track:\"Haru Ranman\"'],\n",
       " ['artist:\"Happy End\" album:\"Kazemachi Roman\" track:\"Kaze wo Atsumete\"'],\n",
       " ['artist:\"Happy End\" album:\"Kazemachi Roman\" track:\"Kurayamizaka Musasabi Henka\"'],\n",
       " ['artist:\"Happy End\" album:\"Kazemachi Roman\" track:\"Natsu nandesu\"'],\n",
       " ['artist:\"Happy End\" album:\"Kazemachi Roman\" track:\"Sorairo no Crayon\"'],\n",
       " ['artist:\"Happy End\" album:\"Kazemachi Roman\" track:\"Taifuu\"'],\n",
       " ['artist:\"IAM\" album:\"L\\'École du Micro d\\'Argent\" track:\"Quant tu allais, on revenait\"',\n",
       "  'artist:\"IAM\" album:\"LÉcole du Micro dArgent\" track:\"Quant tu allais, on revenait\"'],\n",
       " ['artist:\"Incantation\" album:\"Pan Pipes of the Andes\" track:\"Cacharpaya\"'],\n",
       " ['artist:\"Jake Chudnow\" album:\"Short Stories\" track:\"Poodles\"'],\n",
       " ['artist:\"Jake Chudnow\" album:\"Short Stories\" track:\"Turquoise\"'],\n",
       " ['artist:\"Jun Fukamachi\" album:\"Quark\" track:\"Desillusion\"'],\n",
       " ['artist:\"Jun Fukamachi\" album:\"Quark\" track:\"Insight\"'],\n",
       " ['artist:\"Jun Fukamachi\" album:\"Quark\" track:\"Perpetual (Movement)\"'],\n",
       " ['artist:\"Jun Fukamachi\" album:\"Quark\" track:\"Quark\"'],\n",
       " ['artist:\"Kelly Bailey\" album:\"Half Life 2\" track:\"CP Violation\"'],\n",
       " ['artist:\"Kenichiro Nishihara\" album:\"Jazzy Folklore\" track:\"Magazine\"'],\n",
       " ['artist:\"Kenichiro Nishihara\" album:\"Jazzy Folklore\" track:\"The Vibe\"'],\n",
       " ['artist:\"Kenichiro Nishihara\" album:\"Jazzy Folklore\" track:\"Yesternow Immignrats\"'],\n",
       " ['artist:\"Koji Kondo\" album:\"Ocarina of Time\" track:\"Kokiri Forest\"'],\n",
       " ['artist:\"Kristofer Maddigan\" album:\"Cuphead\" track:\"Perilious Piers\"'],\n",
       " ['artist:\"Lalo Schifrin\" album:\"Steal Away\" track:\"Serenata\"'],\n",
       " ['artist:\"Leprous\" album:\"The Congregation\" track:\"Pixel\"'],\n",
       " ['artist:\"Lipps Inc.\" album:\"Mouth to Mouth\" track:\"Funkytown\"'],\n",
       " ['artist:\"Luke Million\" track:\"Ice Ice Arnie (Cool Party)\"'],\n",
       " ['artist:\"Lynrd Skynrd\" album:\"Second Helping\" track:\"Sweet Home Alabama\"'],\n",
       " ['artist:\"Mahito Yokota\" album:\"Super Mario Galaxy\" track:\"Gusty Gardens\"'],\n",
       " ['artist:\"Mozart\" album:\"Requiem in D minor K 626\" track:\"2. Kyrie Eleison\"'],\n",
       " ['artist:\"Mozart\" album:\"Requiem in D minor K 626\" track:\"3. Sequenta: Confutatis\"'],\n",
       " ['artist:\"Mozart\" album:\"Requiem in D minor K 626\" track:\"3. Sequenta: Lacrimosa\"'],\n",
       " ['artist:\"Mozart\" album:\"Requiem in D minor K 626\" track:\"3. Sequenta: Recordare\"'],\n",
       " ['artist:\"Mozart\" album:\"Requiem in D minor K 626\" track:\"3. Sequenta: Rex tremendae\"'],\n",
       " ['artist:\"Mozart\" album:\"Requiem in D minor K 626\" track:\"3. Sequentia: Tubamirum\"'],\n",
       " ['artist:\"Mozart\" album:\"Requiem in D minor K 626\" track:\"3a. Sequienta: Dies irae\"'],\n",
       " ['artist:\"Mozart\" album:\"Requiem in D minor K 626\" track:\"8. Communio: Lux aeterna\"'],\n",
       " ['artist:\"Porcupine Tree\" album:\"In Absentia\" track:\"Chloroform\"'],\n",
       " ['artist:\"Porcupine Tree\" album:\"In Absentia\" track:\"Drown With Me\"'],\n",
       " ['artist:\"Porcupine Tree\" album:\"In Absentia\" track:\"Heartattack in a Lay By\"'],\n",
       " ['artist:\"PostmodernJukebox\" track:\"Feel It Still\"'],\n",
       " ['artist:\"Pulko\" track:\"Du Lourd\"'],\n",
       " ['artist:\"Rob Zombie\" album:\"The Sinister Urge\" track:\"Demon Speeding\"'],\n",
       " ['artist:\"Santo & Johnny\" album:\"Santo & Johnny\" track:\"Sleep Walk\"'],\n",
       " ['artist:\"Snowy White And The White Flames\" album:\"No Faith Required\" track:\"Midnight Blues\"'],\n",
       " ['artist:\"Stand High Patrol\" album:\"Summer on Mars\" track:\"Atmosphere\"'],\n",
       " ['artist:\"Stand High Patrol\" album:\"Summer on Mars\" track:\"Dreamcatcher\"'],\n",
       " ['artist:\"Stand High Patrol\" album:\"Summer on Mars\" track:\"Fragile\"'],\n",
       " ['artist:\"Stand High Patrol\" album:\"Summer on Mars\" track:\"Landlord\"'],\n",
       " ['artist:\"Stand High Patrol\" album:\"Summer on Mars\" track:\"Raw Lines\"'],\n",
       " ['artist:\"Stand High Patrol\" album:\"Summer on Mars\" track:\"Rosetta\"'],\n",
       " ['artist:\"Stand High Patrol\" album:\"Summer on Mars\" track:\"Spring Rain\"'],\n",
       " ['artist:\"Stand High Patrol\" album:\"Summer on Mars\" track:\"Summer on Mars\"'],\n",
       " ['artist:\"Stand High Patrol\" album:\"Summer on Mars\" track:\"Working Class\"'],\n",
       " ['artist:\"Steve\\'n\\'Seagulls\" album:\"Farm Machine\" track:\"Thunderstruck\"',\n",
       "  'artist:\"StevenSeagulls\" album:\"Farm Machine\" track:\"Thunderstruck\"'],\n",
       " ['artist:\"Steven Wilson\" album:\"Hand. Cannot. Erase.\" track:\"Transcience\"'],\n",
       " ['artist:\"Stupeflip\" album:\"Terror Maxi\" track:\"Les Ronces\"'],\n",
       " ['artist:\"Stupeflip\" album:\"Terror Maxi\" track:\"Stupeflip Vite !!!\"'],\n",
       " ['artist:\"Stupeflip\" album:\"The Hypnoflip Invasion\" track:\"C\\'est un Tube\"',\n",
       "  'artist:\"Stupeflip\" album:\"The Hypnoflip Invasion\" track:\"Cest un Tube\"'],\n",
       " ['artist:\"Stupeflip\" album:\"The Hypnoflip Invasion\" track:\"Cold World\"'],\n",
       " ['artist:\"System Of A Down\" album:\"Dracula 2000\" track:\"The Metro\"'],\n",
       " ['artist:\"The Bee Gees\" album:\"Main Course\" track:\"Jive Talkin\\'\"',\n",
       "  'artist:\"The Bee Gees\" album:\"Main Course\" track:\"Jive Talkin\"'],\n",
       " ['artist:\"The Bee Gees\" album:\"Saturday Night Fever\" track:\"Stayin\\' Alive\"',\n",
       "  'artist:\"The Bee Gees\" album:\"Saturday Night Fever\" track:\"Stayin Alive\"'],\n",
       " ['artist:\"The Doors\" album:\"L.A. Woman\" track:\"(You Need Meat) Don\\'t Go No Further\"',\n",
       "  'artist:\"The Doors\" album:\"L.A. Woman\" track:\"(You Need Meat) Dont Go No Further\"'],\n",
       " ['artist:\"The Doors\" album:\"L.A. Woman\" track:\"L\\' America\"',\n",
       "  'artist:\"The Doors\" album:\"L.A. Woman\" track:\"L America\"'],\n",
       " ['artist:\"The Killers\" album:\"Hot Fuss\" track:\"Somedy Told Me\"'],\n",
       " ['artist:\"The Pretenders\" album:\"Break Up the Concrete\" track:\"Almost Perfect\"'],\n",
       " ['artist:\"The Pretenders\" album:\"Break Up the Concrete\" track:\"Boots of Chinese Plastic\"'],\n",
       " ['artist:\"The Pretenders\" album:\"Break Up the Concrete\" track:\"Break Up the Concrete\"'],\n",
       " ['artist:\"The Pretenders\" album:\"Break Up the Concrete\" track:\"Don\\'t Cut Your Hair\"',\n",
       "  'artist:\"The Pretenders\" album:\"Break Up the Concrete\" track:\"Dont Cut Your Hair\"'],\n",
       " ['artist:\"The Pretenders\" album:\"Break Up the Concrete\" track:\"Don\\'t Lose Faith in Me\"',\n",
       "  'artist:\"The Pretenders\" album:\"Break Up the Concrete\" track:\"Dont Lose Faith in Me\"'],\n",
       " ['artist:\"The Pretenders\" album:\"Break Up the Concrete\" track:\"Love\\'s a Mystery\"',\n",
       "  'artist:\"The Pretenders\" album:\"Break Up the Concrete\" track:\"Loves a Mystery\"'],\n",
       " ['artist:\"The Pretenders\" album:\"Break Up the Concrete\" track:\"One thing never changed\"'],\n",
       " ['artist:\"The Pretenders\" album:\"Break Up the Concrete\" track:\"Rosalee\"'],\n",
       " ['artist:\"The Pretenders\" album:\"Break Up the Concrete\" track:\"The Last Ride\"'],\n",
       " ['artist:\"The Pretenders\" album:\"Break Up the Concrete\" track:\"The Nothing Maker\"'],\n",
       " ['artist:\"The Pretenders\" album:\"Break Up the Concrete\" track:\"You Didn\\'t Have To\"',\n",
       "  'artist:\"The Pretenders\" album:\"Break Up the Concrete\" track:\"You Didnt Have To\"'],\n",
       " ['artist:\"The Ramones\" album:\"Ramones\" track:\"Blitzkrieg Bop\"'],\n",
       " ['artist:\"The Shutes\" album:\"Bright Blue Berlin Sky\" track:\"Echo Of Love\"'],\n",
       " ['artist:\"The Skints\" album:\"Swimming Lessons\" track:\"What Did I Learned Today?\"'],\n",
       " ['artist:\"The Who\" album:\"Who\\'s Next\" track:\"Baba O Riley\"',\n",
       "  'artist:\"The Who\" album:\"Whos Next\" track:\"Baba O Riley\"'],\n",
       " ['artist:\"Todd Terje\" album:\"It\\'s Album Time\" track:\"Alfonso Muskender\"',\n",
       "  'artist:\"Todd Terje\" album:\"Its Album Time\" track:\"Alfonso Muskender\"'],\n",
       " ['artist:\"Todd Terje\" album:\"It\\'s Album Time\" track:\"Dolorean Dynamite\"',\n",
       "  'artist:\"Todd Terje\" album:\"Its Album Time\" track:\"Dolorean Dynamite\"'],\n",
       " ['artist:\"Twenty One Pilots\" album:\"Blurry Face\" track:\"Ride\"'],\n",
       " ['artist:\"Weezer\" album:\"Weezer (Blue Album)\" track:\"Say It Ain\\'t So\"',\n",
       "  'artist:\"Weezer\" album:\"Weezer (Blue Album)\" track:\"Say It Aint So\"'],\n",
       " ['artist:\"Johnny \"Guitar\" Watson\" album:\"Love Jones\" track:\"Booty Ooty\"'],\n",
       " ['artist:\"Surface\" album:\"Falling In Love\" track:\"Falling In Love\"'],\n",
       " ['artist:\"Elton John\" album:\"Goodbye Yelllow Brick Road\" track:\"Saturday Night\\'s Alright For Fighting\"',\n",
       "  'artist:\"Elton John\" album:\"Goodbye Yelllow Brick Road\" track:\"Saturday Nights Alright For Fighting\"'],\n",
       " ['artist:\"Duck Sauce\" album:\"Barbara Streisand\" track:\"Barbara Streisand\"']]"
      ]
     },
     "execution_count": 52,
     "metadata": {},
     "output_type": "execute_result"
    }
   ],
   "source": [
    "bad_formats"
   ]
  },
  {
   "cell_type": "code",
   "execution_count": null,
   "metadata": {
    "collapsed": false
   },
   "outputs": [],
   "source": []
  }
 ],
 "metadata": {
  "kernelspec": {
   "argv": [
    "/home/gary/.virtualenvs/bot_dj/bin/python",
    "-m",
    "ipykernel_launcher",
    "-f",
    "{connection_file}"
   ],
   "display_name": "bot_dj",
   "env": null,
   "interrupt_mode": "signal",
   "language": "python",
   "metadata": null,
   "name": "bot_dj"
  },
  "name": "connect_spotify.ipynb"
 },
 "nbformat": 4,
 "nbformat_minor": 4
}
